{
 "cells": [
  {
   "cell_type": "markdown",
   "metadata": {},
   "source": [
    "# Triangle model\n",
    "This interactive notebook runs a triangle model\n"
   ]
  },
  {
   "cell_type": "markdown",
   "metadata": {},
   "source": [
    "## Run parameters \n",
    "This block is necessary for running with [papermill](https://papermill.readthedocs.io/en/latest/)"
   ]
  },
  {
   "cell_type": "code",
   "execution_count": 1,
   "metadata": {
    "tags": [
     "parameters"
    ]
   },
   "outputs": [],
   "source": [
    "code_name = \"_boo2\"\n",
    "batch_name = None\n",
    "\n",
    "# Model configs\n",
    "ort_units = 119\n",
    "pho_units = 250\n",
    "sem_units = 2446\n",
    "hidden_os_units = 500\n",
    "hidden_op_units = 150\n",
    "hidden_ps_units = 500\n",
    "hidden_sp_units = 500\n",
    "pho_cleanup_units = 50\n",
    "sem_cleanup_units = 50\n",
    "pho_noise_level = 0.0\n",
    "sem_noise_level = 0.0\n",
    "activation = \"sigmoid\"\n",
    "\n",
    "tau = 1 / 3\n",
    "max_unit_time = 4.0\n",
    "output_ticks = 13\n",
    "inject_error_ticks = 8\n",
    "\n",
    "# Training configs\n",
    "pretrain_checkpoint = None\n",
    "optimizer = \"adam\"\n",
    "learning_rate = 0.05\n",
    "zero_error_radius = 0.1\n",
    "save_freq = 10\n",
    "\n",
    "# Environment configs\n",
    "wf_compression = \"log\"\n",
    "wf_clip_low = 0\n",
    "wf_clip_high = 10_000\n",
    "\n",
    "task_names = ['ort_pho', 'pho_pho', 'triangle']\n",
    "tasks_ps = [0.2, 0.3, 0.5]\n",
    "\n",
    "total_sample = 1_000_000\n",
    "batch_size = 200\n",
    "rng_seed = 2021\n",
    "which_gpu = 0\n"
   ]
  },
  {
   "cell_type": "markdown",
   "metadata": {},
   "source": [
    "## System environment"
   ]
  },
  {
   "cell_type": "code",
   "execution_count": 2,
   "metadata": {},
   "outputs": [
    {
     "data": {
      "text/plain": [
       "True"
      ]
     },
     "execution_count": 2,
     "metadata": {},
     "output_type": "execute_result"
    }
   ],
   "source": [
    "import meta\n",
    "meta.split_gpu(which_gpu=which_gpu)  # IMPORTANT: do not import TensorFlow before this line\n",
    "\n",
    "import os\n",
    "import tensorflow as tf\n",
    "import numpy as np\n",
    "from dotenv import load_dotenv\n",
    "\n",
    "# Set all seeds\n",
    "os.environ[\"PYTHONHASHSEED\"] = str(rng_seed)\n",
    "tf.random.set_seed(rng_seed)\n",
    "np.random.seed(rng_seed)\n",
    "\n",
    "# Loads .env file\n",
    "load_dotenv()  \n"
   ]
  },
  {
   "cell_type": "markdown",
   "metadata": {},
   "source": [
    "## Create run configuration\n",
    "`Config()` stores all the run setting in a class. `**globals()` is used to access all global variables in the parameter block."
   ]
  },
  {
   "cell_type": "code",
   "execution_count": 3,
   "metadata": {},
   "outputs": [
    {
     "name": "stdout",
     "output_type": "stream",
     "text": [
      "UUID not found, regenerating.\n",
      "Saved config json to /home/jal21012/triangle_model/models/_boo2/model_config.json\n",
      "Config(code_name='_boo2', model_config=ModelConfig(ort_units=119, pho_units=250, sem_units=2446, hidden_os_units=500, hidden_op_units=150, hidden_ps_units=500, hidden_sp_units=500, pho_cleanup_units=50, sem_cleanup_units=50, pho_noise_level=0.0, sem_noise_level=0.0, activation='sigmoid', tau=0.3333333333333333, max_unit_time=4.0, output_ticks=13, inject_error_ticks=8, pretrain_checkpoint=None, optimizer='adam', learning_rate=0.05, zero_error_radius=0.1), environment_config=EnvironmentConfig(task_names=['ort_pho', 'pho_pho', 'triangle'], wf_compression='log', wf_clip_low=0, wf_clip_high=10000, total_sample=1000000, batch_size=200, tasks_ps=[0.2, 0.3, 0.5]), rng_seed=2021, save_freq=10, uuid='a15b09e6bdd540fca570e528183e85a9', batch_name=None, batch_unique_setting_string=None)\n"
     ]
    }
   ],
   "source": [
    "# cfg = meta.Config.from_json(os.path.join(tf_root, \"models\", batch_name, code_name, \"model_config.json\"))   # Load from json\n",
    "cfg = meta.Config.from_dict(**globals())\n",
    "print(cfg)"
   ]
  },
  {
   "cell_type": "markdown",
   "metadata": {},
   "source": [
    "## Create Experience\n",
    "- `Experience()` defines what the model is trained on. It consists of one or more `Stage()`. \n",
    "- Each `Stage()` describes what tasks are the model trained with, and how often a task is used during training. It contains one or more `Task()`. \n",
    "- Each `Task()` contains how fast the corpus is opened (a set of word that can be sampled), defaults to full open.\n",
    "- See the docstrings in each object for further details.\n",
    "- CAUTION: if modified to multiple `Stage()`, Config() may not be storing everything needed to recreate Experience(). "
   ]
  },
  {
   "cell_type": "code",
   "execution_count": 4,
   "metadata": {},
   "outputs": [],
   "source": [
    "from environment import Task, Stage, Experience\n",
    "\n",
    "stages = [\n",
    "    Stage(\n",
    "        name=\"one\",\n",
    "        tasks=[Task(x) for x in cfg.task_names],\n",
    "        stage_sample=cfg.total_sample,\n",
    "        task_probability_start=cfg.tasks_ps,\n",
    "    )\n",
    "]\n",
    "\n",
    "experience = Experience(stages)"
   ]
  },
  {
   "cell_type": "markdown",
   "metadata": {},
   "source": [
    "## Create model trainer\n",
    "- It includes model, optimizer, metrics, and loss function\n",
    "- Since each sub-task has its own states, it must be trained with separate optimizer.\n"
   ]
  },
  {
   "cell_type": "code",
   "execution_count": 5,
   "metadata": {},
   "outputs": [],
   "source": [
    "from training import Trainer, TensorBoardManager\n",
    "trainer = Trainer(cfg, experience)"
   ]
  },
  {
   "cell_type": "markdown",
   "metadata": {},
   "source": [
    "## Train model\n",
    "try_to_resume wiil restore from latest checkpoint if it exists. However, Environment() will no longer be identical if resume. "
   ]
  },
  {
   "cell_type": "code",
   "execution_count": 6,
   "metadata": {},
   "outputs": [
    {
     "name": "stderr",
     "output_type": "stream",
     "text": [
      "Training:   0%|          | 0/100 [00:00<?, ?it/s]"
     ]
    },
    {
     "name": "stdout",
     "output_type": "stream",
     "text": [
      "Initializing from scratch.\n"
     ]
    },
    {
     "name": "stderr",
     "output_type": "stream",
     "text": [
      "Training: 100%|██████████| 100/100 [02:16<00:00,  1.20s/it, Triangle PHO ACC: 0.65 | Triangle SEM ACC: 0.00 | ort_pho ACC: 0.70 | pho_pho ACC: 0.67]"
     ]
    }
   ],
   "source": [
    "tb_manager = TensorBoardManager(cfg, trainer.model, trainer.train_metrics, trainer.train_losses)\n",
    "trainer.train(tensorboard_manager=tb_manager, try_to_resume=True)"
   ]
  },
  {
   "cell_type": "markdown",
   "metadata": {},
   "source": [
    "## Run tests"
   ]
  },
  {
   "cell_type": "code",
   "execution_count": 7,
   "metadata": {},
   "outputs": [],
   "source": [
    "import benchmarks\n",
    "# Basic test\n",
    "# benchmarks.run_test1(cfg.code_name, cfg.batch_name)  # Basic accuracy test only\n",
    "# benchmarks.run_test1s(cfg.code_name, cfg.batch_name)  # Basic accuracy test only\n",
    "\n",
    "## All benchmarks\n",
    "# benchmark.main(cfg.code_name, cfg.batch_name)  \n",
    "\n",
    "\n",
    "## Full training set test\n",
    "# import evaluate\n",
    "# test = evaluate.Test(cfg)\n",
    "# test.eval_train(\"triangle\", to_bq=True)\n"
   ]
  }
 ],
 "metadata": {
  "environment": {
   "name": "tf2-gpu.2-5.m74",
   "type": "gcloud",
   "uri": "gcr.io/deeplearning-platform-release/tf2-gpu.2-5:m74"
  },
  "interpreter": {
   "hash": "31f2aee4e71d21fbe5cf8b01ff0e069b9275f58929596ceb00d14d90e3e16cd6"
  },
  "kernelspec": {
   "display_name": "Python 3.6.8 64-bit",
   "name": "python3"
  },
  "language_info": {
   "codemirror_mode": {
    "name": "ipython",
    "version": 3
   },
   "file_extension": ".py",
   "mimetype": "text/x-python",
   "name": "python",
   "nbconvert_exporter": "python",
   "pygments_lexer": "ipython3",
   "version": "3.6.8"
  },
  "toc-autonumbering": true,
  "toc-showcode": false,
  "toc-showmarkdowntxt": false
 },
 "nbformat": 4,
 "nbformat_minor": 4
}
