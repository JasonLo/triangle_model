{
 "cells": [
  {
   "cell_type": "markdown",
   "metadata": {},
   "source": [
    "# Triangle model\n",
    "This interactive notebook runs a triangle model\n"
   ]
  },
  {
   "cell_type": "markdown",
   "metadata": {},
   "source": [
    "## Run parameters \n",
    "This block is necessary for running with [papermill](https://papermill.readthedocs.io/en/latest/) in run_papermill.py."
   ]
  },
  {
   "cell_type": "code",
   "execution_count": null,
   "metadata": {
    "tags": [
     "parameters"
    ]
   },
   "outputs": [],
   "source": [
    "code_name = \"hand_pretrain_40lr\"\n",
    "batch_name = None\n",
    "\n",
    "# Model configs\n",
    "ort_units = 119\n",
    "pho_units = 250\n",
    "sem_units = 2446\n",
    "hidden_os_units = 500\n",
    "hidden_op_units = 150\n",
    "hidden_ps_units = 500\n",
    "hidden_sp_units = 500\n",
    "pho_cleanup_units = 50\n",
    "sem_cleanup_units = 50\n",
    "pho_noise_level = 0.0\n",
    "sem_noise_level = 0.0\n",
    "activation = \"sigmoid\"\n",
    "tau = 1 / 3\n",
    "max_unit_time = 4.0\n",
    "\n",
    "# Training configs\n",
    "pretrain_checkpoint = None\n",
    "optimizer = \"sgd\"\n",
    "learning_rate = 40.0\n",
    "inject_error_ticks = 8\n",
    "zero_error_radius = 0.1\n",
    "loss_ramping = False\n",
    "\n",
    "# Environment configs\n",
    "wf_compression = \"log\"\n",
    "wf_clip_low = 0\n",
    "wf_clip_high = 10_000\n",
    "task_names = [\"ort_pho\", \"pho_pho\", \"triangle\"]\n",
    "tasks_ps = [0.2, 0.3, 0.5]\n",
    "total_sample = 1_000_000\n",
    "batch_size = 200\n",
    "\n",
    "# Misc configs\n",
    "rng_seed = 2021\n",
    "save_freq = 10\n",
    "which_gpu = 0\n"
   ]
  },
  {
   "cell_type": "markdown",
   "metadata": {},
   "source": [
    "## System environment\n",
    "Provision GPU resouses, set random seeds, and load environment variables"
   ]
  },
  {
   "cell_type": "code",
   "execution_count": null,
   "metadata": {},
   "outputs": [],
   "source": [
    "import meta\n",
    "\n",
    "meta.split_gpu(\n",
    "    which_gpu=which_gpu\n",
    ")  # IMPORTANT: do not import TensorFlow before this line\n",
    "\n",
    "import os\n",
    "import tensorflow as tf\n",
    "import numpy as np\n",
    "from dotenv import load_dotenv\n",
    "\n",
    "# Set all seeds\n",
    "os.environ[\"PYTHONHASHSEED\"] = str(rng_seed)\n",
    "tf.random.set_seed(rng_seed)\n",
    "np.random.seed(rng_seed)\n",
    "\n",
    "# Loads .env file\n",
    "load_dotenv()\n"
   ]
  },
  {
   "cell_type": "markdown",
   "metadata": {},
   "source": [
    "## Create run configuration"
   ]
  },
  {
   "cell_type": "code",
   "execution_count": null,
   "metadata": {},
   "outputs": [],
   "source": [
    "# cfg = meta.Config.from_json(os.path.join(tf_root, \"models\", batch_name, code_name, \"model_config.json\"))   # Load from json\n",
    "cfg = meta.Config.from_dict(**globals())\n",
    "print(cfg)\n"
   ]
  },
  {
   "cell_type": "markdown",
   "metadata": {},
   "source": [
    "## Create Experience\n",
    "- `Experience()` defines what the model is trained on. It consists of one or more `Stage()`. \n",
    "- Each `Stage()` describes what tasks are the model trained with, and how often a task is used during training. It contains one or more `Task()`. \n",
    "- Each `Task()` contains how fast the corpus is opened (a set of word that can be sampled), defaults to full open.\n",
    "- See the docstrings in each object for further details.\n",
    "- CAUTION: if modified to multiple `Stage()`, Config() may not be storing everything needed to recreate Experience(). "
   ]
  },
  {
   "cell_type": "code",
   "execution_count": null,
   "metadata": {},
   "outputs": [],
   "source": [
    "from environment import Task, Stage, Experience\n",
    "\n",
    "stages = [\n",
    "    Stage(\n",
    "        name=\"one\",\n",
    "        tasks=[Task(x) for x in cfg.task_names],\n",
    "        stage_sample=cfg.total_sample,\n",
    "        task_probability_start=cfg.tasks_ps,\n",
    "    )\n",
    "]\n",
    "\n",
    "experience = Experience(stages)\n"
   ]
  },
  {
   "cell_type": "markdown",
   "metadata": {},
   "source": [
    "## Create model trainer\n",
    "- In tf.keras terminology, `Trainer()` is the compiled model. \n",
    "- It includes data, model, optimizer, metrics, and loss function, etc.\n",
    "- Since each sub-task has its own states, trainer will create separate optimizer, metrics, losses in each task.\n"
   ]
  },
  {
   "cell_type": "code",
   "execution_count": null,
   "metadata": {},
   "outputs": [],
   "source": [
    "from training import Trainer, TensorBoardManager\n",
    "\n",
    "trainer = Trainer(cfg, experience)\n"
   ]
  },
  {
   "cell_type": "markdown",
   "metadata": {},
   "source": [
    "## Train model\n",
    "try_to_resume wiil restore from latest checkpoint if it exists. However, due to technical limit, Environment() will no longer be identical after resuming from checkpoint. "
   ]
  },
  {
   "cell_type": "code",
   "execution_count": null,
   "metadata": {},
   "outputs": [],
   "source": [
    "tb_manager = TensorBoardManager(\n",
    "    cfg, trainer.model, trainer.train_metrics, trainer.train_losses\n",
    ")\n",
    "trainer.train(tensorboard_manager=tb_manager, try_to_resume=True)\n",
    "\n",
    "del trainer  # Release memory before running tests"
   ]
  },
  {
   "cell_type": "markdown",
   "metadata": {},
   "source": [
    "## Run tests\n",
    "See benchmarks for a wide selection of tests.\n",
    "TODO: relax shape constraints in TriangleModel()"
   ]
  },
  {
   "cell_type": "code",
   "execution_count": null,
   "metadata": {},
   "outputs": [],
   "source": [
    "from meta import Config\n",
    "import benchmarks\n",
    "from modeling import TriangleModel\n",
    "cfg = Config.from_json(\"models/triangle_pretrain_high_epsilon/triangle_pretrain_high_epsilon_r0001/model_config.json\")\n",
    "model = TriangleModel(cfg)\n",
    "model.set_active_task(\"triangle\")"
   ]
  },
  {
   "cell_type": "code",
   "execution_count": null,
   "metadata": {},
   "outputs": [],
   "source": [
    "\n",
    "# Basic test\n",
    "benchmarks.run_oral_eval(cfg, testset=\"train_r100\")\n",
    "\n",
    "\n",
    "# benchmarks.run_test1s(cfg.code_name, cfg.batch_name)  # Basic accuracy test only1\n",
    "\n",
    "## All benchmarks\n",
    "# benchmarks.main(cfg.code_name, cfg.batch_name)\n",
    "\n",
    "## Full training set test\n",
    "# import evaluate\n",
    "# test = evaluate.Test(cfg)\n",
    "# test.eval_train(\"triangle\", to_bq=True)\n"
   ]
  }
 ],
 "metadata": {
  "environment": {
   "name": "tf2-gpu.2-5.m74",
   "type": "gcloud",
   "uri": "gcr.io/deeplearning-platform-release/tf2-gpu.2-5:m74"
  },
  "interpreter": {
   "hash": "31f2aee4e71d21fbe5cf8b01ff0e069b9275f58929596ceb00d14d90e3e16cd6"
  },
  "kernelspec": {
   "display_name": "Python 3.6.8 64-bit",
   "name": "python3"
  },
  "language_info": {
   "codemirror_mode": {
    "name": "ipython",
    "version": 3
   },
   "file_extension": ".py",
   "mimetype": "text/x-python",
   "name": "python",
   "nbconvert_exporter": "python",
   "pygments_lexer": "ipython3",
   "version": "3.6.8"
  },
  "toc-autonumbering": true,
  "toc-showcode": false,
  "toc-showmarkdowntxt": false
 },
 "nbformat": 4,
 "nbformat_minor": 4
}
