{
 "cells": [
  {
   "cell_type": "code",
   "execution_count": null,
   "metadata": {},
   "outputs": [],
   "source": [
    "%load_ext lab_black\n",
    "import pandas as pd"
   ]
  },
  {
   "cell_type": "markdown",
   "metadata": {},
   "source": [
    "### Load data"
   ]
  },
  {
   "cell_type": "code",
   "execution_count": null,
   "metadata": {},
   "outputs": [],
   "source": [
    "df = pd.read_csv(\n",
    "    '../patterns/6ktraining_v2.dict',\n",
    "    sep='\\t',\n",
    "    header=None,\n",
    "    names=['word', 'ort', 'pho', 'wf'],\n",
    "    na_filter=False\n",
    ")\n",
    "\n",
    "tb = pd.read_csv('../patterns/taraban.csv', na_filter=False)\n",
    "tb.cond.unique()"
   ]
  },
  {
   "cell_type": "markdown",
   "metadata": {},
   "source": [
    "### Look up representation from dictionary"
   ]
  },
  {
   "cell_type": "code",
   "execution_count": null,
   "metadata": {},
   "outputs": [],
   "source": [
    "def word2rep(word):\n",
    "    if word in df.word.to_list():\n",
    "        o = df.ort.loc[df.word == word].to_list()[0]\n",
    "        p = df.pho.loc[df.word == word].to_list()[0]\n",
    "        wf = df.wf.loc[df.word == word].to_list()[0]\n",
    "    else:\n",
    "        o = None\n",
    "        p = None\n",
    "        wf = None\n",
    "    return (o, p, wf)\n",
    "\n",
    "\n",
    "tb['ort'] = [word2rep(x)[0] for x in tb.word]\n",
    "tb['pho'] = [word2rep(x)[1] for x in tb.word]\n",
    "tb['wf'] = [word2rep(x)[2] for x in tb.word]"
   ]
  },
  {
   "cell_type": "markdown",
   "metadata": {},
   "source": [
    "### Manully process the words that are not in dictionary"
   ]
  },
  {
   "cell_type": "code",
   "execution_count": null,
   "metadata": {},
   "outputs": [],
   "source": [
    "tb.word.loc[~tb.word.isin(df.word), ]"
   ]
  },
  {
   "cell_type": "markdown",
   "metadata": {},
   "source": [
    "Double checked from Cambridge dictionary... \"main\" vowel and coda is the same as \"pain\""
   ]
  },
  {
   "cell_type": "code",
   "execution_count": null,
   "metadata": {},
   "outputs": [],
   "source": [
    "df.loc[df.word == 'pain', ]"
   ]
  },
  {
   "cell_type": "code",
   "execution_count": null,
   "metadata": {},
   "outputs": [],
   "source": [
    "tb.loc[tb.word == 'main', 'ort'] = '___main_______'\n",
    "tb.loc[tb.word == 'main', 'pho'] = '__men_____'"
   ]
  },
  {
   "cell_type": "markdown",
   "metadata": {},
   "source": [
    "Double checked from Cambridge dictionary... \"sank\" vowel and coda is the same as \"tank\""
   ]
  },
  {
   "cell_type": "code",
   "execution_count": null,
   "metadata": {},
   "outputs": [],
   "source": [
    "df.loc[df.word == 'tank', ]"
   ]
  },
  {
   "cell_type": "code",
   "execution_count": null,
   "metadata": {},
   "outputs": [],
   "source": [
    "tb.loc[tb.word == 'sank', 'ort'] = '___sa_nk______'\n",
    "tb.loc[tb.word == 'sank', 'pho'] = '__s@nk____'"
   ]
  },
  {
   "cell_type": "markdown",
   "metadata": {},
   "source": [
    "Replace missing wf with the same condition mean wf"
   ]
  },
  {
   "cell_type": "code",
   "execution_count": null,
   "metadata": {},
   "outputs": [],
   "source": [
    "tb.loc[tb.word == 'main',\n",
    "       'wf'] = tb.loc[tb.cond == 'Regular control for High-frequency exception',\n",
    "                      'wf'].mean()\n",
    "tb.loc[tb.word == 'sank',\n",
    "       'wf'] = tb.loc[tb.cond == 'Regular control for Low-frequency exception',\n",
    "                      'wf'].mean()"
   ]
  },
  {
   "cell_type": "markdown",
   "metadata": {},
   "source": [
    "Convert to integer and export"
   ]
  },
  {
   "cell_type": "code",
   "execution_count": null,
   "metadata": {},
   "outputs": [],
   "source": [
    "tb['wf'] = tb.wf.astype('int')\n",
    "tb.to_csv('../input/taraban.csv')"
   ]
  }
 ],
 "metadata": {
  "kernelspec": {
   "display_name": "Python 3",
   "language": "python",
   "name": "python3"
  },
  "language_info": {
   "codemirror_mode": {
    "name": "ipython",
    "version": 3
   },
   "file_extension": ".py",
   "mimetype": "text/x-python",
   "name": "python",
   "nbconvert_exporter": "python",
   "pygments_lexer": "ipython3",
   "version": "3.5.3"
  }
 },
 "nbformat": 4,
 "nbformat_minor": 4
}
