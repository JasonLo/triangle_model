{
 "cells": [
  {
   "cell_type": "markdown",
   "metadata": {},
   "source": [
    "# Reverse engineer phoneme mapping between PMSP to Jason Zevin (JZ)\n",
    "- Due to dialact different, abandoned this approach"
   ]
  },
  {
   "cell_type": "code",
   "execution_count": null,
   "metadata": {},
   "outputs": [],
   "source": [
    "%load_ext lab_black\n",
    "import pandas as pd"
   ]
  },
  {
   "cell_type": "markdown",
   "metadata": {},
   "source": [
    "I have manually input PMSP Appendix 3: Regularizations of Taraban and McClelland’s (1987) Exception Words in the file mapping_PSPM_JZ.csv"
   ]
  },
  {
   "cell_type": "code",
   "execution_count": null,
   "metadata": {},
   "outputs": [],
   "source": [
    "file = '../common/patterns/mapping_PMSP_JZ.csv'\n",
    "df = pd.read_csv(file)\n",
    "df"
   ]
  },
  {
   "cell_type": "markdown",
   "metadata": {},
   "source": [
    "Strip padding tokens"
   ]
  },
  {
   "cell_type": "code",
   "execution_count": null,
   "metadata": {},
   "outputs": [],
   "source": [
    "df['jz_pho'] = df.dict_p.map(lambda x: x.strip('_ '))\n",
    "df['pmsp_pho'] = df.Correct_PMSP.map(lambda x: x.strip('/ '))"
   ]
  },
  {
   "cell_type": "markdown",
   "metadata": {},
   "source": [
    "Check length"
   ]
  },
  {
   "cell_type": "code",
   "execution_count": null,
   "metadata": {},
   "outputs": [],
   "source": [
    "df['jz_len'] = df.jz_pho.map(lambda x: len(x))\n",
    "df['pmsp_len'] = df.pmsp_pho.map(lambda x: len(x))\n",
    "print('Item(s) that do not match in length of phoneme:')\n",
    "df.loc[df.jz_len != df.pmsp_len, :]"
   ]
  },
  {
   "cell_type": "markdown",
   "metadata": {},
   "source": [
    "Dropping the word \"watch\" for now..."
   ]
  },
  {
   "cell_type": "code",
   "execution_count": null,
   "metadata": {},
   "outputs": [],
   "source": [
    "df = df.loc[df.index != 6, :]\n",
    "df.reset_index(inplace=True)"
   ]
  },
  {
   "cell_type": "markdown",
   "metadata": {},
   "source": [
    "Create letter (phoneme) pairs in all words\n",
    "- the first letter in a pair is from PMSP, \n",
    "- the 2nd letter is from JZ"
   ]
  },
  {
   "cell_type": "code",
   "execution_count": null,
   "metadata": {},
   "outputs": [],
   "source": [
    "pairs = []\n",
    "for ipho, phoneme in enumerate(df.pmsp_pho):\n",
    "    for ilet, letter in enumerate(phoneme):\n",
    "        pairs.append(letter + df.jz_pho[ipho][ilet])\n",
    "\n",
    "print('Unique phonoeme pairs in all words:')\n",
    "set(pairs)"
   ]
  },
  {
   "cell_type": "markdown",
   "metadata": {},
   "source": [
    "These phoneme are duplicated:\n",
    "- A is duplicated: AE, Ae\n",
    "- a is duplicated: a@, aa\n",
    "- u is duplicated: uU, u^"
   ]
  },
  {
   "cell_type": "markdown",
   "metadata": {},
   "source": [
    "### Mapping Plaut 96 to JZ"
   ]
  },
  {
   "cell_type": "code",
   "execution_count": null,
   "metadata": {},
   "outputs": [],
   "source": [
    "plaut96 = pd.read_csv(\n",
    "    '../common/patterns/Plaut96.csv',\n",
    "    header=None,\n",
    "    na_filter=False,\n",
    "    names=['word', 'wf', 'wordlen', 'pho', 'pholen', 'what_is_that']\n",
    ")\n",
    "plaut96"
   ]
  },
  {
   "cell_type": "code",
   "execution_count": null,
   "metadata": {},
   "outputs": [],
   "source": [
    "plaut = pd.read_csv(\n",
    "    '../common/patterns/Plaut96.csv',\n",
    "    header=None,\n",
    "    na_filter=False,\n",
    "    names=['word', 'wf', 'wordlen', 'pho', 'pholen', 'what_is_that']\n",
    ")\n",
    "\n",
    "jz = pd.read_csv(\n",
    "    '../common/patterns/6ktraining_v2.dict',\n",
    "    sep='\\t',\n",
    "    header=None,\n",
    "    names=['word', 'ort', 'pho', 'wf'],\n",
    "    na_filter=\n",
    "    False  # Bug fix: incorrectly treated null as missing value in the corpus\n",
    ")"
   ]
  },
  {
   "cell_type": "code",
   "execution_count": null,
   "metadata": {},
   "outputs": [],
   "source": [
    "olap = jz.loc[jz.word.isin(plaut.word), :]\n",
    "olap = olap.loc[:, ['word', 'pho']]\n",
    "olap.columns = ['word', 'pho_jz']\n",
    "\n",
    "olap = olap.merge(plaut, on='word')\n",
    "olap = olap.loc[:, ['word', 'pho_jz', 'pho']]\n",
    "olap.columns = ['word', 'pho_jz', 'pho_plaut']\n",
    "olap['pho_jz'] = olap.pho_jz.str.strip('_ ')"
   ]
  },
  {
   "cell_type": "markdown",
   "metadata": {},
   "source": [
    "### Check len differences..."
   ]
  },
  {
   "cell_type": "code",
   "execution_count": null,
   "metadata": {},
   "outputs": [],
   "source": [
    "olap['jz_len'] = olap.pho_jz.map(lambda x: len(x))\n",
    "olap['plaut_len'] = olap.pho_plaut.map(lambda x: len(x))\n",
    "print('Item(s) that do not match in length of phoneme:')\n",
    "tmp = olap.loc[olap.jz_len != olap.plaut_len, :]\n",
    "tmp.to_csv('tmp.csv')\n",
    "tmp"
   ]
  },
  {
   "cell_type": "code",
   "execution_count": null,
   "metadata": {},
   "outputs": [],
   "source": [
    "olap = olap.loc[olap.jz_len == olap.plaut_len, :]\n",
    "olap.reset_index(inplace=True)"
   ]
  },
  {
   "cell_type": "code",
   "execution_count": null,
   "metadata": {},
   "outputs": [],
   "source": [
    "olap"
   ]
  },
  {
   "cell_type": "code",
   "execution_count": null,
   "metadata": {},
   "outputs": [],
   "source": [
    "jz = pd.read_csv(\n",
    "    '../common/patterns/6ktraining_v2.dict',\n",
    "    sep='\\t',\n",
    "    header=None,\n",
    "    names=['word', 'ort', 'pho', 'wf'],\n",
    "    na_filter=\n",
    "    False  # Bug fix: incorrectly treated null as missing value in the corpus\n",
    ")"
   ]
  },
  {
   "cell_type": "code",
   "execution_count": null,
   "metadata": {},
   "outputs": [],
   "source": []
  }
 ],
 "metadata": {
  "kernelspec": {
   "display_name": "Python 3",
   "language": "python",
   "name": "python3"
  },
  "language_info": {
   "codemirror_mode": {
    "name": "ipython",
    "version": 3
   },
   "file_extension": ".py",
   "mimetype": "text/x-python",
   "name": "python",
   "nbconvert_exporter": "python",
   "pygments_lexer": "ipython3",
   "version": "3.5.3"
  }
 },
 "nbformat": 4,
 "nbformat_minor": 4
}
