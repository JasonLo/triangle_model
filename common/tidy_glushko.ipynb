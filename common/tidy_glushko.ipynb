{
 "cells": [
  {
   "cell_type": "code",
   "execution_count": null,
   "metadata": {},
   "outputs": [],
   "source": [
    "%load_ext lab_black\n",
    "import pandas as pd\n",
    "from random import sample"
   ]
  },
  {
   "cell_type": "code",
   "execution_count": null,
   "metadata": {},
   "outputs": [],
   "source": []
  },
  {
   "cell_type": "code",
   "execution_count": null,
   "metadata": {},
   "outputs": [],
   "source": [
    "gk = pd.read_csv('patterns/glushko.csv', na_filter=False)"
   ]
  },
  {
   "cell_type": "code",
   "execution_count": null,
   "metadata": {},
   "outputs": [],
   "source": [
    "def first_vowel_loc(word):\n",
    "    vowels = ['a', 'e', 'i', 'o', 'u', 'y']\n",
    "    pos = []\n",
    "    for v in vowels:\n",
    "        if word.find(v) > -1:\n",
    "            pos.append(word.find(v))\n",
    "\n",
    "    if len(pos) > 0:\n",
    "        return min(pos)\n",
    "    else:\n",
    "        return 0\n",
    "\n",
    "\n",
    "def get_head(word):\n",
    "    return (word[:first_vowel_loc(word)])\n",
    "\n",
    "\n",
    "def get_body(word):\n",
    "    return (word[first_vowel_loc(word):])"
   ]
  },
  {
   "cell_type": "code",
   "execution_count": null,
   "metadata": {},
   "outputs": [],
   "source": [
    "gk['word_head'] = list(map(get_head, gk.word))\n",
    "gk['word_body'] = list(map(get_body, gk.word))\n",
    "gk['pseudoword_head'] = list(map(get_head, gk.pseudoword))\n",
    "gk['pseudoword_body'] = list(map(get_body, gk.pseudoword))"
   ]
  },
  {
   "cell_type": "code",
   "execution_count": null,
   "metadata": {},
   "outputs": [],
   "source": [
    "df['word_head'] = list(map(get_head, df.word))\n",
    "df['word_body'] = list(map(get_body, df.word))"
   ]
  },
  {
   "cell_type": "markdown",
   "metadata": {},
   "source": [
    "### Create head and body sound mapping with 6kdict\n",
    "- Since column *ort* is vowel centered at position 5, we can use this column to split a word into its head and body\n",
    "- Also column *pho* is aligned with *ort*, so that  we can map between ort and pho"
   ]
  },
  {
   "cell_type": "markdown",
   "metadata": {},
   "source": [
    "Load 6k dictionary from file "
   ]
  },
  {
   "cell_type": "code",
   "execution_count": null,
   "metadata": {},
   "outputs": [],
   "source": [
    "df = pd.read_csv(\n",
    "    'patterns/6ktraining_v2.dict',\n",
    "    sep='\\t',\n",
    "    header=None,\n",
    "    names=['word', 'ort', 'pho', 'wf'],\n",
    "    na_filter=False\n",
    ")"
   ]
  },
  {
   "cell_type": "markdown",
   "metadata": {},
   "source": [
    "Split head and body"
   ]
  },
  {
   "cell_type": "code",
   "execution_count": null,
   "metadata": {},
   "outputs": [],
   "source": [
    "df['ort_head'] = df.ort.str.slice(0, 4).str.strip('_')\n",
    "df['ort_body'] = df.ort.str.slice(4).str.strip('_')\n",
    "df['pho_head'] = df.pho.str.slice(0, 3).str.strip('_')\n",
    "df['pho_body'] = df.pho.str.slice(3).str.strip('_')"
   ]
  },
  {
   "cell_type": "markdown",
   "metadata": {},
   "source": [
    "Mapping"
   ]
  },
  {
   "cell_type": "code",
   "execution_count": null,
   "metadata": {},
   "outputs": [],
   "source": [
    "df['map_head'] = df.ort_head + '_' + df.pho_head\n",
    "df['map_body'] = df.ort_body + '_' + df.pho_body"
   ]
  },
  {
   "cell_type": "markdown",
   "metadata": {},
   "source": [
    "Show some mapping samples"
   ]
  },
  {
   "cell_type": "code",
   "execution_count": null,
   "metadata": {},
   "outputs": [],
   "source": [
    "df.loc[sample(list(df.index), 10),\n",
    "       ['word', 'ort_head', 'pho_head', 'ort_body', 'pho_body']]"
   ]
  },
  {
   "cell_type": "markdown",
   "metadata": {},
   "source": [
    "Export unique pair of mapping for manual exam"
   ]
  },
  {
   "cell_type": "code",
   "execution_count": null,
   "metadata": {},
   "outputs": [],
   "source": [
    "head_map = pd.DataFrame(df.map_head.value_counts())\n",
    "head_map.to_csv('map_head.csv', header=['count'])\n",
    "\n",
    "body_map = pd.DataFrame(df.map_body.value_counts())\n",
    "body_map.to_csv('map_body.csv', header=['count'])"
   ]
  },
  {
   "cell_type": "code",
   "execution_count": null,
   "metadata": {},
   "outputs": [],
   "source": [
    "head_map"
   ]
  },
  {
   "cell_type": "code",
   "execution_count": null,
   "metadata": {},
   "outputs": [],
   "source": []
  },
  {
   "cell_type": "code",
   "execution_count": null,
   "metadata": {},
   "outputs": [],
   "source": [
    "df.loc[df.w_head != df.word_head, ]"
   ]
  },
  {
   "cell_type": "code",
   "execution_count": null,
   "metadata": {},
   "outputs": [],
   "source": [
    "df.w_head.unique()"
   ]
  },
  {
   "cell_type": "code",
   "execution_count": null,
   "metadata": {},
   "outputs": [],
   "source": []
  },
  {
   "cell_type": "code",
   "execution_count": null,
   "metadata": {},
   "outputs": [],
   "source": []
  },
  {
   "cell_type": "code",
   "execution_count": null,
   "metadata": {},
   "outputs": [],
   "source": [
    "mdf['pho'] = mdf.pho.str.strip('_')"
   ]
  },
  {
   "cell_type": "code",
   "execution_count": null,
   "metadata": {},
   "outputs": [],
   "source": [
    "mdf"
   ]
  },
  {
   "cell_type": "code",
   "execution_count": null,
   "metadata": {},
   "outputs": [],
   "source": [
    "df.loc[df.word.str.endswith('oth'), ]"
   ]
  },
  {
   "cell_type": "code",
   "execution_count": null,
   "metadata": {},
   "outputs": [],
   "source": []
  }
 ],
 "metadata": {
  "kernelspec": {
   "display_name": "Python 3",
   "language": "python",
   "name": "python3"
  },
  "language_info": {
   "codemirror_mode": {
    "name": "ipython",
    "version": 3
   },
   "file_extension": ".py",
   "mimetype": "text/x-python",
   "name": "python",
   "nbconvert_exporter": "python",
   "pygments_lexer": "ipython3",
   "version": "3.5.3"
  }
 },
 "nbformat": 4,
 "nbformat_minor": 4
}
