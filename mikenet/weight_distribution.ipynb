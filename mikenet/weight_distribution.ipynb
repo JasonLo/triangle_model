{
 "cells": [
  {
   "cell_type": "markdown",
   "metadata": {},
   "source": [
    "# Basic range check for mikenet weights"
   ]
  },
  {
   "cell_type": "code",
   "execution_count": null,
   "metadata": {},
   "outputs": [],
   "source": [
    "%load_ext lab_black\n",
    "import pandas as pd\n",
    "import matplotlib.pyplot as plt"
   ]
  },
  {
   "cell_type": "code",
   "execution_count": null,
   "metadata": {},
   "outputs": [],
   "source": [
    "\n",
    "\n",
    "\n",
    "def basic_stat(weights):\n",
    "    \"\"\"Just some basic distribution stuff Jay wants...\n",
    "    \"\"\"\n",
    "    print(\"===== {} Descriptives =====\".format(weights.name))\n",
    "    print(\"Raw:\")\n",
    "    print(weights.describe())\n",
    "    print(\"\\nAbsolute:\")\n",
    "    print(weights.abs().describe())\n",
    "    print(\"\\n\")\n",
    "\n",
    "\n",
    "def dplots(ws, save=None):\n",
    "    plt.figure(figsize=(20, 20))\n",
    "    for i, w in enumerate(ws):\n",
    "        plt.subplot(3, 3, i + 1)\n",
    "        stats = \" (Absolute weight: M = {0:.2f}, qt95 = {1:.2f}, max = {2:.2f})\".format(\n",
    "            w.abs().mean(), w.abs().quantile(0.95), w.abs().max()\n",
    "        )\n",
    "        plt.title(w.name + stats)\n",
    "        w.plot.box()\n",
    "\n",
    "    if save is not None:\n",
    "        plt.savefig(save)\n",
    "\n",
    "    plt.show()"
   ]
  },
  {
   "cell_type": "markdown",
   "metadata": {},
   "source": [
    "## Model 1"
   ]
  },
  {
   "cell_type": "code",
   "execution_count": null,
   "metadata": {},
   "outputs": [],
   "source": [
    "ws_77 = parse_weight(\"s86052077_final_weights\")\n",
    "dplots(ws_77, \"s86052077.png\")\n",
    "# [basic_stat(x) for x in ws_77]"
   ]
  },
  {
   "cell_type": "code",
   "execution_count": null,
   "metadata": {},
   "outputs": [],
   "source": [
    "ws_31 = parse_weight(\"s86052131_final_weights\")\n",
    "dplots(ws_31, \"s86052131.png\")\n",
    "# [basic_stat(x) for x in ws_31]"
   ]
  },
  {
   "cell_type": "code",
   "execution_count": null,
   "metadata": {},
   "outputs": [],
   "source": [
    "!jupyter nbconvert --to html weight_distribution.ipynb"
   ]
  }
 ],
 "metadata": {
  "environment": {
   "name": "tf2-gpu.2-1.m47",
   "type": "gcloud",
   "uri": "gcr.io/deeplearning-platform-release/tf2-gpu.2-1:m47"
  },
  "kernelspec": {
   "display_name": "Python 3",
   "language": "python",
   "name": "python3"
  },
  "language_info": {
   "codemirror_mode": {
    "name": "ipython",
    "version": 3
   },
   "file_extension": ".py",
   "mimetype": "text/x-python",
   "name": "python",
   "nbconvert_exporter": "python",
   "pygments_lexer": "ipython3",
   "version": "3.7.6"
  }
 },
 "nbformat": 4,
 "nbformat_minor": 4
}
