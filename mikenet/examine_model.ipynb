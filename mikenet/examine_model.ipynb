{
 "cells": [
  {
   "cell_type": "markdown",
   "metadata": {},
   "source": [
    "# Examine model\n",
    "We want to examine how the mikenet model works by checking:\n",
    "1. Whether Chang's weights produce HS04 fig. 12 result\n",
    "2. What are the Input **direction** and **magnitude**"
   ]
  },
  {
   "cell_type": "code",
   "execution_count": 1,
   "metadata": {},
   "outputs": [],
   "source": [
    "import os\n",
    "import tensorflow as tf\n",
    "import numpy as np\n",
    "import meta, modeling, evaluate\n",
    "os.chdir(os.environ.get(\"TF_ROOT\"))"
   ]
  },
  {
   "cell_type": "markdown",
   "metadata": {},
   "source": [
    "## Restore to Chang's weights"
   ]
  },
  {
   "cell_type": "code",
   "execution_count": 2,
   "metadata": {},
   "outputs": [
    {
     "name": "stdout",
     "output_type": "stream",
     "text": [
      "Loaded config from models/surgery/model_config.json\n"
     ]
    },
    {
     "name": "stderr",
     "output_type": "stream",
     "text": [
      "2021-11-16 15:11:50.192522: I tensorflow/stream_executor/cuda/cuda_gpu_executor.cc:923] could not open file to read NUMA node: /sys/bus/pci/devices/0000:01:00.0/numa_node\n",
      "Your kernel may have been built without NUMA support.\n",
      "2021-11-16 15:11:50.226462: I tensorflow/stream_executor/cuda/cuda_gpu_executor.cc:923] could not open file to read NUMA node: /sys/bus/pci/devices/0000:01:00.0/numa_node\n",
      "Your kernel may have been built without NUMA support.\n",
      "2021-11-16 15:11:50.227165: I tensorflow/stream_executor/cuda/cuda_gpu_executor.cc:923] could not open file to read NUMA node: /sys/bus/pci/devices/0000:01:00.0/numa_node\n",
      "Your kernel may have been built without NUMA support.\n",
      "2021-11-16 15:11:50.228304: I tensorflow/core/platform/cpu_feature_guard.cc:142] This TensorFlow binary is optimized with oneAPI Deep Neural Network Library (oneDNN) to use the following CPU instructions in performance-critical operations:  AVX2 FMA\n",
      "To enable them in other operations, rebuild TensorFlow with the appropriate compiler flags.\n",
      "2021-11-16 15:11:50.231111: I tensorflow/stream_executor/cuda/cuda_gpu_executor.cc:923] could not open file to read NUMA node: /sys/bus/pci/devices/0000:01:00.0/numa_node\n",
      "Your kernel may have been built without NUMA support.\n",
      "2021-11-16 15:11:50.231532: I tensorflow/stream_executor/cuda/cuda_gpu_executor.cc:923] could not open file to read NUMA node: /sys/bus/pci/devices/0000:01:00.0/numa_node\n",
      "Your kernel may have been built without NUMA support.\n",
      "2021-11-16 15:11:50.231814: I tensorflow/stream_executor/cuda/cuda_gpu_executor.cc:923] could not open file to read NUMA node: /sys/bus/pci/devices/0000:01:00.0/numa_node\n",
      "Your kernel may have been built without NUMA support.\n",
      "2021-11-16 15:11:51.295983: I tensorflow/stream_executor/cuda/cuda_gpu_executor.cc:923] could not open file to read NUMA node: /sys/bus/pci/devices/0000:01:00.0/numa_node\n",
      "Your kernel may have been built without NUMA support.\n",
      "2021-11-16 15:11:51.296557: I tensorflow/stream_executor/cuda/cuda_gpu_executor.cc:923] could not open file to read NUMA node: /sys/bus/pci/devices/0000:01:00.0/numa_node\n",
      "Your kernel may have been built without NUMA support.\n",
      "2021-11-16 15:11:51.296740: I tensorflow/core/common_runtime/gpu/gpu_device.cc:1594] Could not identify NUMA node of platform GPU id 0, defaulting to 0.  Your kernel may not have been built with NUMA support.\n",
      "2021-11-16 15:11:51.297122: I tensorflow/stream_executor/cuda/cuda_gpu_executor.cc:923] could not open file to read NUMA node: /sys/bus/pci/devices/0000:01:00.0/numa_node\n",
      "Your kernel may have been built without NUMA support.\n",
      "2021-11-16 15:11:51.297320: I tensorflow/core/common_runtime/gpu/gpu_device.cc:1510] Created device /job:localhost/replica:0/task:0/device:GPU:0 with 3501 MB memory:  -> device: 0, name: NVIDIA GeForce RTX 3060 Laptop GPU, pci bus id: 0000:01:00.0, compute capability: 8.6\n"
     ]
    },
    {
     "data": {
      "text/plain": [
       "['w_hsp_sh:0 mean: -0.036436256021261215',\n",
       " 'w_hsp_hp:0 mean: -0.15658600628376007',\n",
       " 'w_pc:0 mean: -0.09082742780447006',\n",
       " 'w_cp:0 mean: -0.38210487365722656',\n",
       " 'bias_hsp:0 mean: -2.535120964050293',\n",
       " 'bias_p:0 mean: -3.783306837081909',\n",
       " 'bias_cpp:0 mean: -2.9965076446533203',\n",
       " 'w_hps_ph:0 mean: -0.14618974924087524',\n",
       " 'w_hps_hs:0 mean: -0.18353353440761566',\n",
       " 'w_sc:0 mean: -0.03645188361406326',\n",
       " 'w_cs:0 mean: -0.3741818368434906',\n",
       " 'bias_hps:0 mean: -2.2887043952941895',\n",
       " 'bias_s:0 mean: -3.3815836906433105',\n",
       " 'bias_css:0 mean: -1.3210525512695312',\n",
       " 'w_hos_oh:0 mean: -0.048883236944675446',\n",
       " 'w_hos_hs:0 mean: -0.0537002868950367',\n",
       " 'bias_hos:0 mean: -3.338172197341919',\n",
       " 'w_hop_oh:0 mean: -0.032783929258584976',\n",
       " 'w_hop_hp:0 mean: -0.09362849593162537',\n",
       " 'bias_hop:0 mean: -2.79338002204895']"
      ]
     },
     "execution_count": 2,
     "metadata": {},
     "output_type": "execute_result"
    }
   ],
   "source": [
    "cfg = meta.Config.from_json('models/surgery/model_config.json')\n",
    "model = modeling.MyModel(cfg)\n",
    "model.build()\n",
    "ckpt = tf.train.Checkpoint(model=model)\n",
    "ckpt.restore(os.path.join(cfg.checkpoint_folder,'epoch-1'))\n",
    "[f'{w.name} mean: {w.numpy().mean()}' for w in model.weights]"
   ]
  },
  {
   "cell_type": "markdown",
   "metadata": {},
   "source": [
    "## Load mn_r100 testset"
   ]
  },
  {
   "cell_type": "code",
   "execution_count": 3,
   "metadata": {},
   "outputs": [
    {
     "name": "stdout",
     "output_type": "stream",
     "text": [
      "Example: close\n",
      "Sparse representations:\n"
     ]
    },
    {
     "data": {
      "text/plain": [
       "{'ort: [54, 89, 118, 174, 186]',\n",
       " 'pho: [29, 31, 52, 60, 62, 87, 90, 92, 94, 96, 102, 107]',\n",
       " 'sem: [4, 6, 29, 46, 49, 104, 209, 236, 813, 913, 1148]'}"
      ]
     },
     "execution_count": 3,
     "metadata": {},
     "output_type": "execute_result"
    }
   ],
   "source": [
    "mn_r100 = evaluate.load_testset('mn_r100')\n",
    "\n",
    "def dense_to_sparse(dense: np.array) -> list:\n",
    "    \"\"\"Convert dense representation to sparse representation.\"\"\"\n",
    "    sparse = []\n",
    "    for i, unit in enumerate(dense):\n",
    "        if unit == 1:\n",
    "            sparse.append(i)\n",
    "    return sparse\n",
    "\n",
    "def word_to_sparse(testset: dict, word: str) -> dict:\n",
    "    \"\"\"Convert word to sparse representation.\"\"\"\n",
    "    word_idx = testset['item'].index(word)\n",
    "    return {f\"{x}: {dense_to_sparse(mn_r100[x][word_idx])}\" for x in ['ort', 'pho', 'sem']}\n",
    "\n",
    "\n",
    "word = 'close'\n",
    "print(f'Example: {word}')\n",
    "print('Sparse representations:')\n",
    "word_to_sparse(mn_r100, word)"
   ]
  },
  {
   "cell_type": "markdown",
   "metadata": {},
   "source": [
    "# Predicts"
   ]
  },
  {
   "cell_type": "code",
   "execution_count": 4,
   "metadata": {},
   "outputs": [
    {
     "name": "stderr",
     "output_type": "stream",
     "text": [
      "2021-11-16 15:12:10.949996: I tensorflow/stream_executor/cuda/cuda_blas.cc:1760] TensorFloat-32 will be used for the matrix multiplication. This will only be logged once.\n"
     ]
    }
   ],
   "source": [
    "model.set_active_task('triangle')\n",
    "y_pred = model([mn_r100['ort']] * 12)"
   ]
  },
  {
   "cell_type": "markdown",
   "metadata": {},
   "source": [
    "# Plot temporal dynamics\n",
    "average across on nodes and words within mn_r100 testset"
   ]
  },
  {
   "cell_type": "code",
   "execution_count": 5,
   "metadata": {},
   "outputs": [],
   "source": [
    "# TF style naming to HS04 naming for reference\n",
    "\n",
    "name_map = {\n",
    "    'input_hos_hs': 'OS',\n",
    "    'input_hop_hp': 'OP',\n",
    "    'input_hps_hs': 'PS',\n",
    "    'input_css_cs': 'CS'\n",
    "}"
   ]
  },
  {
   "cell_type": "code",
   "execution_count": 6,
   "metadata": {},
   "outputs": [],
   "source": [
    "# y_true_with_time, dim:[time, word, unit]\n",
    "sem = tf.cast([mn_r100['sem']] * 13, tf.float32)\n",
    "pho = tf.cast([mn_r100['pho']] * 13, tf.float32)"
   ]
  },
  {
   "cell_type": "code",
   "execution_count": 7,
   "metadata": {},
   "outputs": [],
   "source": [
    "def get_inputs(y: tf.Tensor, mask: tf.Tensor) -> list:\n",
    "    \"\"\"Get the input over time tick.\n",
    "    Assumed dimensions equal between y and mask:\n",
    "        y: (timetick, word, unit)\n",
    "    \"\"\"\n",
    "    assert y.shape == mask.shape\n",
    "    masked_y = mask * y\n",
    "    mean_y = tf.reduce_sum(masked_y, axis=2) / tf.reduce_sum(mask, axis=2)  # Average over unit (node) dimension\n",
    "    return tf.reduce_mean(mean_y, axis=1).numpy().tolist()"
   ]
  },
  {
   "cell_type": "code",
   "execution_count": 10,
   "metadata": {},
   "outputs": [],
   "source": [
    "# Raw input before TAI\n",
    "op = get_inputs(y_pred['input_hop_hp'], mask=pho)\n",
    "os = get_inputs(y_pred['input_hos_hs'], mask=sem)\n",
    "ps = get_inputs(y_pred['input_hps_hs'], mask=sem)\n",
    "cs = get_inputs(y_pred['input_css_cs'], mask=sem)"
   ]
  },
  {
   "cell_type": "markdown",
   "metadata": {},
   "source": [
    "### Fig 12. style"
   ]
  },
  {
   "cell_type": "code",
   "execution_count": 15,
   "metadata": {},
   "outputs": [
    {
     "data": {
      "image/png": "[encoded data removed]",
      "text/plain": [
       "<Figure size 432x288 with 1 Axes>"
      ]
     },
     "metadata": {
      "needs_background": "light"
     },
     "output_type": "display_data"
    }
   ],
   "source": [
    "import matplotlib.pyplot as plt\n",
    "plt.plot(op, label='O->P', color='orange')\n",
    "plt.plot(os, label='O->S', color='red')\n",
    "plt.plot(ps, label='P->S', color='teal')\n",
    "plt.plot(cs, label='C->S', color='blue')\n",
    "plt.legend(loc=\"lower right\")\n",
    "plt.show()"
   ]
  },
  {
   "cell_type": "markdown",
   "metadata": {},
   "source": [
    "### PHO related"
   ]
  },
  {
   "cell_type": "code",
   "execution_count": 16,
   "metadata": {},
   "outputs": [
    {
     "data": {
      "image/png": "[encoded data removed]",
      "text/plain": [
       "<Figure size 432x288 with 1 Axes>"
      ]
     },
     "metadata": {
      "needs_background": "light"
     },
     "output_type": "display_data"
    }
   ],
   "source": [
    "sp = get_inputs(y_pred['input_hsp_hp'], mask=pho)\n",
    "plt.plot(op, label='O->P', color='orange')\n",
    "plt.plot(os, label='O->S', color='red')\n",
    "plt.plot(ps, label='P->S', color='teal')\n",
    "plt.plot(cs, label='C->S', color='blue')\n",
    "plt.plot(sp, label='S->P', color='black')\n",
    "plt.legend(loc=\"lower right\")\n",
    "plt.show()"
   ]
  },
  {
   "cell_type": "markdown",
   "metadata": {},
   "source": [
    "# Accuracy over time"
   ]
  },
  {
   "cell_type": "code",
   "execution_count": null,
   "metadata": {},
   "outputs": [],
   "source": [
    "from metrics import CosineSemanticAccuracy, PhoAccuracy\n",
    "sem_acc_fn = CosineSemanticAccuracy()\n",
    "acc_over_time_sem = [acc_fn.item_metric(sem[t], y_pred['sem'][t]).mean() for t in range(13)]\n",
    "print(acc_over_time_sem)"
   ]
  },
  {
   "cell_type": "code",
   "execution_count": null,
   "metadata": {},
   "outputs": [],
   "source": [
    "from metrics import PhoAccuracy\n",
    "\n",
    "# Note that we need to redo the P-mapping thing to get the Euclidean distance based acc\n",
    "# We are now just using binary acc  \n",
    "\n",
    "pho_acc_fn = tf.keras.metrics.binary_accuracy\n",
    "acc_over_time_pho = [pho_acc_fn(pho[t], y_pred['pho'][t]).numpy().mean() for t in range(13)]\n",
    "print(acc_over_time_pho)"
   ]
  },
  {
   "cell_type": "markdown",
   "metadata": {},
   "source": [
    "# Double check with old codes"
   ]
  },
  {
   "cell_type": "code",
   "execution_count": null,
   "metadata": {},
   "outputs": [],
   "source": [
    "import pandas as pd\n",
    "\n",
    "layer = 'sem'\n",
    "target_word = 'close'\n",
    "target_word_idx = mn_r100['item'].index(target_word)\n",
    "bias_name = 'bias_s'\n",
    "\n",
    "df_dict = {}\n",
    "df_dict[\"target_act\"] = mn_r100[layer][target_word_idx, :]\n",
    "df_dict[\"bias\"] = [w.numpy() for w in model.weights if w.name.startswith(bias_name)][0]\n",
    "df_time_invar = pd.DataFrame.from_dict(df_dict)\n",
    "df_time_invar[\"unit\"] = df_time_invar.index\n",
    "df_time_invar[\"word\"] = target_word\n",
    "df_time_invar"
   ]
  },
  {
   "cell_type": "code",
   "execution_count": null,
   "metadata": {},
   "outputs": [],
   "source": [
    "SEM_NAME_MAP = {\n",
    "    \"input_hps_hs\": \"PS\",\n",
    "    \"input_css_cs\": \"CS\",\n",
    "    \"input_sem\": \"SS\",\n",
    "    \"input_hos_hs\": \"OS\",\n",
    "    \"input_sem\": \"input\",\n",
    "    \"sem\": \"act\",\n",
    "}\n",
    "PHO_NAME_MAP = {\n",
    "    \"input_hsp_hp\": \"SP\",\n",
    "    \"input_cpp_cp\": \"CP\",\n",
    "    \"input_pho_pp\": \"PP\",\n",
    "    \"input_hop_hp\": \"OP\",\n",
    "    \"input_pho\": \"input\",\n",
    "    \"pho\": \"act\",\n",
    "}\n",
    "\n",
    "name_map = SEM_NAME_MAP\n",
    "\n",
    "df_time_varying = pd.DataFrame()\n",
    "\n",
    "for i, model_output_name in enumerate(name_map.keys()):\n",
    "    this_output_df = pd.DataFrame()\n",
    "    for t in range(13):\n",
    "        df_dict = {}\n",
    "        name = name_map[model_output_name]\n",
    "        df_dict[name] = y_pred[model_output_name][t, target_word_idx, :]\n",
    "        this_step_df = pd.DataFrame.from_dict(df_dict)\n",
    "        this_step_df[\"timetick\"] = t\n",
    "        this_step_df[\"unit\"] = this_step_df.index\n",
    "        this_output_df = pd.concat([this_output_df, this_step_df], ignore_index=True)\n",
    "\n",
    "    if i == 0:\n",
    "        df_time_varying = this_output_df\n",
    "    else:\n",
    "        df_time_varying = pd.merge(\n",
    "            df_time_varying, this_output_df, on=[\"timetick\", \"unit\"]\n",
    "        )\n",
    "\n",
    "df_time_varying"
   ]
  },
  {
   "cell_type": "markdown",
   "metadata": {},
   "source": [
    "### Any on prediction?"
   ]
  },
  {
   "cell_type": "code",
   "execution_count": null,
   "metadata": {},
   "outputs": [],
   "source": [
    "df_time_varying.loc[df_time_varying.act>0.5]"
   ]
  },
  {
   "cell_type": "code",
   "execution_count": null,
   "metadata": {},
   "outputs": [],
   "source": [
    "# Merge and export\n",
    "df = df_time_varying.merge(df_time_invar, on=\"unit\", how=\"left\")\n",
    "df[\"unit_acc\"] = abs(df.target_act - df.act) < 0.5\n",
    "df = df[\n",
    "    [\"word\", \"unit\", \"unit_acc\", \"timetick\", \"target_act\", \"bias\"]\n",
    "    + list(name_map.values())\n",
    "]\n",
    "\n",
    "# Restructure\n",
    "melt_value_vars = [\"bias\"] + list(name_map.values())\n",
    "df = df.melt(\n",
    "    id_vars=[\"word\", \"unit\", \"timetick\", \"target_act\", \"unit_acc\"],\n",
    "    value_vars=melt_value_vars,\n",
    ")"
   ]
  },
  {
   "cell_type": "code",
   "execution_count": null,
   "metadata": {},
   "outputs": [],
   "source": [
    "all_on_nodes = df.loc[df.target_act == 1, \"unit\"].unique()\n",
    "all_off_nodes = df.loc[df.target_act == 0, \"unit\"].unique()\n",
    "print(f\"On: {all_on_nodes} \\nOff: {np.random.choice(all_off_nodes, 10)}\")"
   ]
  },
  {
   "cell_type": "code",
   "execution_count": null,
   "metadata": {},
   "outputs": [],
   "source": [
    "import altair as alt\n",
    "sel_node = all_on_nodes\n",
    "node_df = df.loc[df.unit.isin(sel_node)]\n",
    "plot_df = node_df.loc[~node_df.variable.isin(['act', 'input', 'SS', 'PP'])]\n",
    "\n",
    "alt.Chart(plot_df).mark_line().encode(\n",
    "    y='mean(value):Q', \n",
    "    x='timetick:Q', \n",
    "    color='variable:N'\n",
    "    ).properties(title=f\"word: {target_word} at nodes: {sel_node}\")"
   ]
  },
  {
   "cell_type": "markdown",
   "metadata": {},
   "source": [
    "## EoT acc"
   ]
  },
  {
   "cell_type": "code",
   "execution_count": null,
   "metadata": {},
   "outputs": [],
   "source": [
    "from scipy.spatial.distance import cosine"
   ]
  },
  {
   "cell_type": "code",
   "execution_count": null,
   "metadata": {},
   "outputs": [],
   "source": [
    "import data_wrangling\n",
    "def min_cosine_distance_idx(all_reps, pred):\n",
    "    \"\"\"return the index of word that has min cosine distance\"\"\"\n",
    "    all_cosine_dist = [cosine(pred, rep) for rep in all_reps]\n",
    "    return np.argmin(all_cosine_dist) \n",
    "\n",
    "def cosine_accuracy(all_reps, pred, target):\n",
    "    \"\"\"Check whether the prediction is the min cosine distance word\"\"\"\n",
    "    target_idx = min_cosine_distance_idx(all_reps, target)\n",
    "    pred_idx = min_cosine_distance_idx(all_reps, pred)\n",
    "    return target_idx == pred_idx\n",
    "\n",
    "def all_cosine_accuracy(all_reps, preds, targets):\n",
    "    return np.mean([cosine_accuracy(all_reps, pred, target) for pred, target in zip(preds, targets)])\n",
    "\n",
    "def binary_accuracy(pred, target):\n",
    "    \"\"\"Calculate correct side 0.5 accuracy.\"\"\"\n",
    "    d = abs(pred - target)\n",
    "    max_d = np.max(d, axis = 1)\n",
    "    # print(max_d)\n",
    "    return np.mean(max_d < 0.5)\n",
    "\n",
    "def get_all_acc(y_pred):\n",
    "    \"\"\"Calculate accuracy of all outputs\"\"\"\n",
    "    mn_train = data_wrangling.load_testset('mn_r100')\n",
    "    sem_acc = all_cosine_accuracy(all_reps=mn_train['sem'], preds=y_pred['sem'][-1].numpy(), targets=mn_train['sem'])\n",
    "    pho_acc = binary_accuracy(mn_r100['pho'], y_pred['pho'][-1, :, :].numpy())\n",
    "    return {\n",
    "        \"pho\": pho_acc,\n",
    "        \"sem\": sem_acc\n",
    "    }\n",
    "\n",
    "def get_task_acc(task):\n",
    "    \"\"\"Get task acc\"\"\"\n",
    "    model.set_active_task(task)\n",
    "    input_name = modeling.IN_OUT[task][0]\n",
    "    y_pred = model([mn_r100[input_name]] * cfg.n_timesteps)\n",
    "    return get_all_acc(y_pred)"
   ]
  },
  {
   "cell_type": "code",
   "execution_count": null,
   "metadata": {},
   "outputs": [],
   "source": [
    "[print(f\"{x}: {get_task_acc(x)}\") for x in ['triangle', 'ort_pho', 'ort_sem', 'exp_osp', 'exp_ops']]"
   ]
  },
  {
   "cell_type": "code",
   "execution_count": null,
   "metadata": {},
   "outputs": [],
   "source": []
  }
 ],
 "metadata": {
  "interpreter": {
   "hash": "d4d1e4263499bec80672ea0156c357c1ee493ec2b1c70f0acce89fc37c4a6abe"
  },
  "kernelspec": {
   "display_name": "Python 3.7.10 64-bit ('base': conda)",
   "language": "python",
   "name": "python3"
  },
  "language_info": {
   "codemirror_mode": {
    "name": "ipython",
    "version": 3
   },
   "file_extension": ".py",
   "mimetype": "text/x-python",
   "name": "python",
   "nbconvert_exporter": "python",
   "pygments_lexer": "ipython3",
   "version": "3.7.10"
  },
  "orig_nbformat": 4
 },
 "nbformat": 4,
 "nbformat_minor": 2
}
