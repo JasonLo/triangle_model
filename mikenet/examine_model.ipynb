{
 "cells": [
  {
   "cell_type": "markdown",
   "metadata": {},
   "source": [
    "# Examine model\n",
    "We want to examine how the mikenet model works by checking:\n",
    "1. Whether Chang's weights produce HS04 fig. 12 result\n",
    "2. What are the Input **direction** and **magnitude**"
   ]
  },
  {
   "cell_type": "code",
   "execution_count": 1,
   "metadata": {},
   "outputs": [],
   "source": [
    "import os\n",
    "import tensorflow as tf\n",
    "import numpy as np\n",
    "import meta, modeling, evaluate\n",
    "os.chdir(os.environ.get(\"TF_ROOT\"))"
   ]
  },
  {
   "cell_type": "markdown",
   "metadata": {},
   "source": [
    "## Restore to Chang's weights"
   ]
  },
  {
   "cell_type": "code",
   "execution_count": 2,
   "metadata": {},
   "outputs": [
    {
     "name": "stdout",
     "output_type": "stream",
     "text": [
      "Loaded config from models/surgery/model_config.json\n"
     ]
    },
    {
     "name": "stderr",
     "output_type": "stream",
     "text": [
      "2021-11-12 18:52:45.562244: I tensorflow/stream_executor/cuda/cuda_gpu_executor.cc:923] could not open file to read NUMA node: /sys/bus/pci/devices/0000:01:00.0/numa_node\n",
      "Your kernel may have been built without NUMA support.\n"
     ]
    },
    {
     "name": "stdout",
     "output_type": "stream",
     "text": [
      "w_hsp_sh:0 mean: -0.03643624857068062\n",
      "w_hsp_hp:0 mean: -0.15658602118492126\n",
      "w_pc:0 mean: -0.09082743525505066\n",
      "w_cp:0 mean: -0.3821048438549042\n",
      "bias_hsp:0 mean: -2.535120964050293\n",
      "bias_p:0 mean: -3.783306837081909\n",
      "bias_cpp:0 mean: -2.9965076446533203\n",
      "w_hps_ph:0 mean: -0.14618973433971405\n",
      "w_hps_hs:0 mean: -0.18353353440761566\n",
      "w_sc:0 mean: -0.036451879888772964\n",
      "w_cs:0 mean: -0.3741818368434906\n",
      "bias_hps:0 mean: -2.2887043952941895\n",
      "bias_s:0 mean: -3.3815836906433105\n",
      "bias_css:0 mean: -1.3210525512695312\n",
      "w_hos_oh:0 mean: -0.048883240669965744\n",
      "w_hos_hs:0 mean: -0.0537002868950367\n",
      "bias_hos:0 mean: -3.338172197341919\n",
      "w_hop_oh:0 mean: -0.032783929258584976\n",
      "w_hop_hp:0 mean: -0.09362849593162537\n",
      "bias_hop:0 mean: -2.79338002204895\n"
     ]
    },
    {
     "name": "stderr",
     "output_type": "stream",
     "text": [
      "2021-11-12 18:52:45.578757: I tensorflow/stream_executor/cuda/cuda_gpu_executor.cc:923] could not open file to read NUMA node: /sys/bus/pci/devices/0000:01:00.0/numa_node\n",
      "Your kernel may have been built without NUMA support.\n",
      "2021-11-12 18:52:45.579454: I tensorflow/stream_executor/cuda/cuda_gpu_executor.cc:923] could not open file to read NUMA node: /sys/bus/pci/devices/0000:01:00.0/numa_node\n",
      "Your kernel may have been built without NUMA support.\n",
      "2021-11-12 18:52:45.581020: I tensorflow/core/platform/cpu_feature_guard.cc:142] This TensorFlow binary is optimized with oneAPI Deep Neural Network Library (oneDNN) to use the following CPU instructions in performance-critical operations:  AVX2 FMA\n",
      "To enable them in other operations, rebuild TensorFlow with the appropriate compiler flags.\n",
      "2021-11-12 18:52:45.584593: I tensorflow/stream_executor/cuda/cuda_gpu_executor.cc:923] could not open file to read NUMA node: /sys/bus/pci/devices/0000:01:00.0/numa_node\n",
      "Your kernel may have been built without NUMA support.\n",
      "2021-11-12 18:52:45.585487: I tensorflow/stream_executor/cuda/cuda_gpu_executor.cc:923] could not open file to read NUMA node: /sys/bus/pci/devices/0000:01:00.0/numa_node\n",
      "Your kernel may have been built without NUMA support.\n",
      "2021-11-12 18:52:45.585996: I tensorflow/stream_executor/cuda/cuda_gpu_executor.cc:923] could not open file to read NUMA node: /sys/bus/pci/devices/0000:01:00.0/numa_node\n",
      "Your kernel may have been built without NUMA support.\n",
      "2021-11-12 18:52:46.585218: I tensorflow/stream_executor/cuda/cuda_gpu_executor.cc:923] could not open file to read NUMA node: /sys/bus/pci/devices/0000:01:00.0/numa_node\n",
      "Your kernel may have been built without NUMA support.\n",
      "2021-11-12 18:52:46.586140: I tensorflow/stream_executor/cuda/cuda_gpu_executor.cc:923] could not open file to read NUMA node: /sys/bus/pci/devices/0000:01:00.0/numa_node\n",
      "Your kernel may have been built without NUMA support.\n",
      "2021-11-12 18:52:46.586384: I tensorflow/core/common_runtime/gpu/gpu_device.cc:1594] Could not identify NUMA node of platform GPU id 0, defaulting to 0.  Your kernel may not have been built with NUMA support.\n",
      "2021-11-12 18:52:46.586917: I tensorflow/stream_executor/cuda/cuda_gpu_executor.cc:923] could not open file to read NUMA node: /sys/bus/pci/devices/0000:01:00.0/numa_node\n",
      "Your kernel may have been built without NUMA support.\n",
      "2021-11-12 18:52:46.587217: I tensorflow/core/common_runtime/gpu/gpu_device.cc:1510] Created device /job:localhost/replica:0/task:0/device:GPU:0 with 3501 MB memory:  -> device: 0, name: NVIDIA GeForce RTX 3060 Laptop GPU, pci bus id: 0000:01:00.0, compute capability: 8.6\n"
     ]
    },
    {
     "data": {
      "text/plain": [
       "[None,\n",
       " None,\n",
       " None,\n",
       " None,\n",
       " None,\n",
       " None,\n",
       " None,\n",
       " None,\n",
       " None,\n",
       " None,\n",
       " None,\n",
       " None,\n",
       " None,\n",
       " None,\n",
       " None,\n",
       " None,\n",
       " None,\n",
       " None,\n",
       " None,\n",
       " None]"
      ]
     },
     "execution_count": 2,
     "metadata": {},
     "output_type": "execute_result"
    }
   ],
   "source": [
    "cfg = meta.Config.from_json('models/surgery/model_config.json')\n",
    "model = modeling.MyModel(cfg)\n",
    "model.build()\n",
    "ckpt = tf.train.Checkpoint(model=model)\n",
    "ckpt.restore(os.path.join(cfg.checkpoint_folder,'epoch-1'))\n",
    "[print(f'{w.name} mean: {w.numpy().mean()}') for w in model.weights]"
   ]
  },
  {
   "cell_type": "markdown",
   "metadata": {},
   "source": [
    "## Test with mn_r100 testset"
   ]
  },
  {
   "cell_type": "code",
   "execution_count": 3,
   "metadata": {},
   "outputs": [
    {
     "name": "stderr",
     "output_type": "stream",
     "text": [
      "2021-11-12 18:52:50.165940: I tensorflow/stream_executor/cuda/cuda_blas.cc:1760] TensorFloat-32 will be used for the matrix multiplication. This will only be logged once.\n"
     ]
    }
   ],
   "source": [
    "mn_r100 = evaluate.load_testset('mn_r100')\n",
    "model.set_active_task('triangle')\n",
    "y_pred = model([mn_r100['ort']] * 12)"
   ]
  },
  {
   "cell_type": "markdown",
   "metadata": {},
   "source": [
    "![HS04 figure 12](/triangle_model/references/hs04_fig12.png)"
   ]
  },
  {
   "cell_type": "markdown",
   "metadata": {},
   "source": [
    "## Checking the sparse representation still looks good"
   ]
  },
  {
   "cell_type": "code",
   "execution_count": 4,
   "metadata": {},
   "outputs": [
    {
     "data": {
      "text/plain": [
       "{'ort: [54, 89, 118, 174, 186]',\n",
       " 'pho: [29, 31, 52, 60, 62, 87, 90, 92, 94, 96, 102, 107]',\n",
       " 'sem: [4, 6, 29, 46, 49, 104, 209, 236, 813, 913, 1148]'}"
      ]
     },
     "execution_count": 4,
     "metadata": {},
     "output_type": "execute_result"
    }
   ],
   "source": [
    "def dense_to_sparse(dense: np.array) -> list:\n",
    "    \"\"\"Convert dense representation to sparse representation.\"\"\"\n",
    "    sparse = []\n",
    "    for i, unit in enumerate(dense):\n",
    "        if unit == 1:\n",
    "            sparse.append(i)\n",
    "    return sparse\n",
    "\n",
    "def word_to_sparse(testset: dict, word: str) -> dict:\n",
    "    \"\"\"Convert word to sparse representation.\"\"\"\n",
    "    word_idx = testset['item'].index(word)\n",
    "    return {f\"{x}: {dense_to_sparse(mn_r100[x][word_idx])}\" for x in ['ort', 'pho', 'sem']}\n",
    "\n",
    "\n",
    "word_to_sparse(mn_r100, 'close')"
   ]
  },
  {
   "cell_type": "code",
   "execution_count": 5,
   "metadata": {},
   "outputs": [],
   "source": [
    "# TF style naming to HS04 naming for reference\n",
    "\n",
    "name_map = {\n",
    "    'input_hos_hs': 'OS',\n",
    "    'input_hop_hp': 'OP',\n",
    "    'input_hps_hs': 'PS',\n",
    "    'input_css_cs': 'CS'\n",
    "}"
   ]
  },
  {
   "cell_type": "code",
   "execution_count": 6,
   "metadata": {},
   "outputs": [
    {
     "data": {
      "text/plain": [
       "[None, None, None, None, None, None, None, None, None, None, None, None, None]"
      ]
     },
     "execution_count": 6,
     "metadata": {},
     "output_type": "execute_result"
    }
   ],
   "source": [
    "def expand_over_time(x, n_times):\n",
    "    \"\"\"Expand representation to n_times to axis 0\"\"\"\n",
    "    x = tf.Variable(x, dtype=tf.float32)\n",
    "    x = tf.expand_dims(x, axis=0)\n",
    "    x = tf.tile(x, [n_times, 1, 1])\n",
    "    return x\n",
    "\n",
    "sem = expand_over_time(mn_r100['sem'], 13)\n",
    "pho = expand_over_time(mn_r100['pho'], 13)\n",
    "\n",
    "# Checking\n",
    "[tf.assert_equal(sem[i], tf.cast(mn_r100['sem'], dtype=tf.float32)) for i in range(13)]\n",
    "[tf.assert_equal(pho[i], tf.cast(mn_r100['pho'], dtype=tf.float32)) for i in range(13)]"
   ]
  },
  {
   "cell_type": "code",
   "execution_count": 7,
   "metadata": {},
   "outputs": [],
   "source": [
    "def get_inputs(y: tf.Tensor, mask: tf.Tensor) -> list:\n",
    "    \"\"\"Get the input over time tick.\n",
    "    Assumed dimensions equal between y and mask:\n",
    "        y: (timetick, word, unit)\n",
    "    \"\"\"\n",
    "    assert y.shape == mask.shape\n",
    "    masked_y = mask * y\n",
    "    mean_y = tf.reduce_sum(masked_y, axis=2) / tf.reduce_sum(mask, axis=2)  # Average over unit (node) dimension\n",
    "    return tf.reduce_mean(mean_y, axis=1).numpy().tolist()"
   ]
  },
  {
   "cell_type": "code",
   "execution_count": 8,
   "metadata": {},
   "outputs": [
    {
     "data": {
      "text/plain": [
       "<tf.Tensor: shape=(), dtype=float32, numpy=0.0>"
      ]
     },
     "execution_count": 8,
     "metadata": {},
     "output_type": "execute_result"
    }
   ],
   "source": [
    "from metrics import CosineSemanticAccuracy\n",
    "acc = CosineSemanticAccuracy()\n",
    "acc(y_true=tf.cast(mn_r100['sem'], tf.float32), y_pred=y_pred['sem'][-2])"
   ]
  },
  {
   "cell_type": "code",
   "execution_count": 9,
   "metadata": {},
   "outputs": [],
   "source": [
    "# Raw input before TAI\n",
    "op = get_inputs(y_pred['input_hop_hp'], mask=pho)\n",
    "os = get_inputs(y_pred['input_hos_hs'], mask=sem)\n",
    "ps = get_inputs(y_pred['input_hps_hs'], mask=sem)\n",
    "cs = get_inputs(y_pred['input_css_cs'], mask=sem)"
   ]
  },
  {
   "cell_type": "code",
   "execution_count": 10,
   "metadata": {},
   "outputs": [
    {
     "data": {
      "image/png": "[encoded data removed]",
      "text/plain": [
       "<Figure size 432x288 with 1 Axes>"
      ]
     },
     "metadata": {
      "needs_background": "light"
     },
     "output_type": "display_data"
    }
   ],
   "source": [
    "import matplotlib.pyplot as plt\n",
    "plt.plot(op, label='O->P')\n",
    "plt.plot(os, label='O->S')\n",
    "plt.plot(ps, label='P->S')\n",
    "plt.plot(cs, label='C->S')\n",
    "plt.legend(loc=\"lower right\")\n",
    "plt.show()"
   ]
  },
  {
   "cell_type": "markdown",
   "metadata": {},
   "source": [
    "# Double check with old codes"
   ]
  },
  {
   "cell_type": "code",
   "execution_count": 12,
   "metadata": {},
   "outputs": [
    {
     "data": {
      "text/html": [
       "<div>\n",
       "<style scoped>\n",
       "    .dataframe tbody tr th:only-of-type {\n",
       "        vertical-align: middle;\n",
       "    }\n",
       "\n",
       "    .dataframe tbody tr th {\n",
       "        vertical-align: top;\n",
       "    }\n",
       "\n",
       "    .dataframe thead th {\n",
       "        text-align: right;\n",
       "    }\n",
       "</style>\n",
       "<table border=\"1\" class=\"dataframe\">\n",
       "  <thead>\n",
       "    <tr style=\"text-align: right;\">\n",
       "      <th></th>\n",
       "      <th>target_act</th>\n",
       "      <th>bias</th>\n",
       "      <th>unit</th>\n",
       "      <th>word</th>\n",
       "    </tr>\n",
       "  </thead>\n",
       "  <tbody>\n",
       "    <tr>\n",
       "      <th>0</th>\n",
       "      <td>0.0</td>\n",
       "      <td>-2.634219</td>\n",
       "      <td>0</td>\n",
       "      <td>close</td>\n",
       "    </tr>\n",
       "    <tr>\n",
       "      <th>1</th>\n",
       "      <td>0.0</td>\n",
       "      <td>-2.103109</td>\n",
       "      <td>1</td>\n",
       "      <td>close</td>\n",
       "    </tr>\n",
       "    <tr>\n",
       "      <th>2</th>\n",
       "      <td>0.0</td>\n",
       "      <td>-1.273724</td>\n",
       "      <td>2</td>\n",
       "      <td>close</td>\n",
       "    </tr>\n",
       "    <tr>\n",
       "      <th>3</th>\n",
       "      <td>0.0</td>\n",
       "      <td>-2.099038</td>\n",
       "      <td>3</td>\n",
       "      <td>close</td>\n",
       "    </tr>\n",
       "    <tr>\n",
       "      <th>4</th>\n",
       "      <td>1.0</td>\n",
       "      <td>-1.837062</td>\n",
       "      <td>4</td>\n",
       "      <td>close</td>\n",
       "    </tr>\n",
       "    <tr>\n",
       "      <th>...</th>\n",
       "      <td>...</td>\n",
       "      <td>...</td>\n",
       "      <td>...</td>\n",
       "      <td>...</td>\n",
       "    </tr>\n",
       "    <tr>\n",
       "      <th>2441</th>\n",
       "      <td>0.0</td>\n",
       "      <td>-4.272089</td>\n",
       "      <td>2441</td>\n",
       "      <td>close</td>\n",
       "    </tr>\n",
       "    <tr>\n",
       "      <th>2442</th>\n",
       "      <td>0.0</td>\n",
       "      <td>-3.797071</td>\n",
       "      <td>2442</td>\n",
       "      <td>close</td>\n",
       "    </tr>\n",
       "    <tr>\n",
       "      <th>2443</th>\n",
       "      <td>0.0</td>\n",
       "      <td>-4.257431</td>\n",
       "      <td>2443</td>\n",
       "      <td>close</td>\n",
       "    </tr>\n",
       "    <tr>\n",
       "      <th>2444</th>\n",
       "      <td>0.0</td>\n",
       "      <td>-4.691223</td>\n",
       "      <td>2444</td>\n",
       "      <td>close</td>\n",
       "    </tr>\n",
       "    <tr>\n",
       "      <th>2445</th>\n",
       "      <td>0.0</td>\n",
       "      <td>-4.906723</td>\n",
       "      <td>2445</td>\n",
       "      <td>close</td>\n",
       "    </tr>\n",
       "  </tbody>\n",
       "</table>\n",
       "<p>2446 rows × 4 columns</p>\n",
       "</div>"
      ],
      "text/plain": [
       "      target_act      bias  unit   word\n",
       "0            0.0 -2.634219     0  close\n",
       "1            0.0 -2.103109     1  close\n",
       "2            0.0 -1.273724     2  close\n",
       "3            0.0 -2.099038     3  close\n",
       "4            1.0 -1.837062     4  close\n",
       "...          ...       ...   ...    ...\n",
       "2441         0.0 -4.272089  2441  close\n",
       "2442         0.0 -3.797071  2442  close\n",
       "2443         0.0 -4.257431  2443  close\n",
       "2444         0.0 -4.691223  2444  close\n",
       "2445         0.0 -4.906723  2445  close\n",
       "\n",
       "[2446 rows x 4 columns]"
      ]
     },
     "execution_count": 12,
     "metadata": {},
     "output_type": "execute_result"
    }
   ],
   "source": [
    "import pandas as pd\n",
    "\n",
    "layer = 'sem'\n",
    "target_word = 'close'\n",
    "target_word_idx = mn_r100['item'].index(target_word)\n",
    "bias_name = 'bias_s'\n",
    "\n",
    "df_dict = {}\n",
    "df_dict[\"target_act\"] = mn_r100[layer][target_word_idx, :]\n",
    "df_dict[\"bias\"] = [w.numpy() for w in model.weights if w.name.startswith(bias_name)][0]\n",
    "df_time_invar = pd.DataFrame.from_dict(df_dict)\n",
    "df_time_invar[\"unit\"] = df_time_invar.index\n",
    "df_time_invar[\"word\"] = target_word\n",
    "df_time_invar"
   ]
  },
  {
   "cell_type": "code",
   "execution_count": 13,
   "metadata": {},
   "outputs": [
    {
     "data": {
      "text/html": [
       "<div>\n",
       "<style scoped>\n",
       "    .dataframe tbody tr th:only-of-type {\n",
       "        vertical-align: middle;\n",
       "    }\n",
       "\n",
       "    .dataframe tbody tr th {\n",
       "        vertical-align: top;\n",
       "    }\n",
       "\n",
       "    .dataframe thead th {\n",
       "        text-align: right;\n",
       "    }\n",
       "</style>\n",
       "<table border=\"1\" class=\"dataframe\">\n",
       "  <thead>\n",
       "    <tr style=\"text-align: right;\">\n",
       "      <th></th>\n",
       "      <th>PS</th>\n",
       "      <th>timetick</th>\n",
       "      <th>unit</th>\n",
       "      <th>CS</th>\n",
       "      <th>input</th>\n",
       "      <th>OS</th>\n",
       "      <th>act</th>\n",
       "    </tr>\n",
       "  </thead>\n",
       "  <tbody>\n",
       "    <tr>\n",
       "      <th>0</th>\n",
       "      <td>0.000000</td>\n",
       "      <td>0</td>\n",
       "      <td>0</td>\n",
       "      <td>0.000000</td>\n",
       "      <td>0.000000</td>\n",
       "      <td>0.000000</td>\n",
       "      <td>5.000000e-01</td>\n",
       "    </tr>\n",
       "    <tr>\n",
       "      <th>1</th>\n",
       "      <td>0.000000</td>\n",
       "      <td>0</td>\n",
       "      <td>1</td>\n",
       "      <td>0.000000</td>\n",
       "      <td>0.000000</td>\n",
       "      <td>0.000000</td>\n",
       "      <td>5.000000e-01</td>\n",
       "    </tr>\n",
       "    <tr>\n",
       "      <th>2</th>\n",
       "      <td>0.000000</td>\n",
       "      <td>0</td>\n",
       "      <td>2</td>\n",
       "      <td>0.000000</td>\n",
       "      <td>0.000000</td>\n",
       "      <td>0.000000</td>\n",
       "      <td>5.000000e-01</td>\n",
       "    </tr>\n",
       "    <tr>\n",
       "      <th>3</th>\n",
       "      <td>0.000000</td>\n",
       "      <td>0</td>\n",
       "      <td>3</td>\n",
       "      <td>0.000000</td>\n",
       "      <td>0.000000</td>\n",
       "      <td>0.000000</td>\n",
       "      <td>5.000000e-01</td>\n",
       "    </tr>\n",
       "    <tr>\n",
       "      <th>4</th>\n",
       "      <td>0.000000</td>\n",
       "      <td>0</td>\n",
       "      <td>4</td>\n",
       "      <td>0.000000</td>\n",
       "      <td>0.000000</td>\n",
       "      <td>0.000000</td>\n",
       "      <td>5.000000e-01</td>\n",
       "    </tr>\n",
       "    <tr>\n",
       "      <th>...</th>\n",
       "      <td>...</td>\n",
       "      <td>...</td>\n",
       "      <td>...</td>\n",
       "      <td>...</td>\n",
       "      <td>...</td>\n",
       "      <td>...</td>\n",
       "      <td>...</td>\n",
       "    </tr>\n",
       "    <tr>\n",
       "      <th>31793</th>\n",
       "      <td>-17.991343</td>\n",
       "      <td>12</td>\n",
       "      <td>2441</td>\n",
       "      <td>-5.509731</td>\n",
       "      <td>-33.836784</td>\n",
       "      <td>-7.763150</td>\n",
       "      <td>2.017768e-15</td>\n",
       "    </tr>\n",
       "    <tr>\n",
       "      <th>31794</th>\n",
       "      <td>-5.866980</td>\n",
       "      <td>12</td>\n",
       "      <td>2442</td>\n",
       "      <td>-9.543034</td>\n",
       "      <td>-22.957247</td>\n",
       "      <td>-4.600468</td>\n",
       "      <td>1.071012e-10</td>\n",
       "    </tr>\n",
       "    <tr>\n",
       "      <th>31795</th>\n",
       "      <td>-14.978650</td>\n",
       "      <td>12</td>\n",
       "      <td>2443</td>\n",
       "      <td>-6.734763</td>\n",
       "      <td>-30.705563</td>\n",
       "      <td>-6.363403</td>\n",
       "      <td>4.621081e-14</td>\n",
       "    </tr>\n",
       "    <tr>\n",
       "      <th>31796</th>\n",
       "      <td>-21.662472</td>\n",
       "      <td>12</td>\n",
       "      <td>2444</td>\n",
       "      <td>-5.300751</td>\n",
       "      <td>-35.488537</td>\n",
       "      <td>-5.278765</td>\n",
       "      <td>3.868337e-16</td>\n",
       "    </tr>\n",
       "    <tr>\n",
       "      <th>31797</th>\n",
       "      <td>-18.562281</td>\n",
       "      <td>12</td>\n",
       "      <td>2445</td>\n",
       "      <td>-5.535251</td>\n",
       "      <td>-28.668570</td>\n",
       "      <td>-1.168408</td>\n",
       "      <td>3.543223e-13</td>\n",
       "    </tr>\n",
       "  </tbody>\n",
       "</table>\n",
       "<p>31798 rows × 7 columns</p>\n",
       "</div>"
      ],
      "text/plain": [
       "              PS  timetick  unit        CS      input        OS           act\n",
       "0       0.000000         0     0  0.000000   0.000000  0.000000  5.000000e-01\n",
       "1       0.000000         0     1  0.000000   0.000000  0.000000  5.000000e-01\n",
       "2       0.000000         0     2  0.000000   0.000000  0.000000  5.000000e-01\n",
       "3       0.000000         0     3  0.000000   0.000000  0.000000  5.000000e-01\n",
       "4       0.000000         0     4  0.000000   0.000000  0.000000  5.000000e-01\n",
       "...          ...       ...   ...       ...        ...       ...           ...\n",
       "31793 -17.991343        12  2441 -5.509731 -33.836784 -7.763150  2.017768e-15\n",
       "31794  -5.866980        12  2442 -9.543034 -22.957247 -4.600468  1.071012e-10\n",
       "31795 -14.978650        12  2443 -6.734763 -30.705563 -6.363403  4.621081e-14\n",
       "31796 -21.662472        12  2444 -5.300751 -35.488537 -5.278765  3.868337e-16\n",
       "31797 -18.562281        12  2445 -5.535251 -28.668570 -1.168408  3.543223e-13\n",
       "\n",
       "[31798 rows x 7 columns]"
      ]
     },
     "execution_count": 13,
     "metadata": {},
     "output_type": "execute_result"
    }
   ],
   "source": [
    "SEM_NAME_MAP = {\n",
    "    \"input_hps_hs\": \"PS\",\n",
    "    \"input_css_cs\": \"CS\",\n",
    "    \"input_sem\": \"SS\",\n",
    "    \"input_hos_hs\": \"OS\",\n",
    "    \"input_sem\": \"input\",\n",
    "    \"sem\": \"act\",\n",
    "}\n",
    "PHO_NAME_MAP = {\n",
    "    \"input_hsp_hp\": \"SP\",\n",
    "    \"input_cpp_cp\": \"CP\",\n",
    "    \"input_pho_pp\": \"PP\",\n",
    "    \"input_hop_hp\": \"OP\",\n",
    "    \"input_pho\": \"input\",\n",
    "    \"pho\": \"act\",\n",
    "}\n",
    "\n",
    "name_map = SEM_NAME_MAP\n",
    "\n",
    "df_time_varying = pd.DataFrame()\n",
    "\n",
    "for i, model_output_name in enumerate(name_map.keys()):\n",
    "    this_output_df = pd.DataFrame()\n",
    "    for t in range(13):\n",
    "        df_dict = {}\n",
    "        name = name_map[model_output_name]\n",
    "        df_dict[name] = y_pred[model_output_name][t, target_word_idx, :]\n",
    "        this_step_df = pd.DataFrame.from_dict(df_dict)\n",
    "        this_step_df[\"timetick\"] = t\n",
    "        this_step_df[\"unit\"] = this_step_df.index\n",
    "        this_output_df = pd.concat([this_output_df, this_step_df], ignore_index=True)\n",
    "\n",
    "    if i == 0:\n",
    "        df_time_varying = this_output_df\n",
    "    else:\n",
    "        df_time_varying = pd.merge(\n",
    "            df_time_varying, this_output_df, on=[\"timetick\", \"unit\"]\n",
    "        )\n",
    "\n",
    "df_time_varying"
   ]
  },
  {
   "cell_type": "markdown",
   "metadata": {},
   "source": [
    "### Any on prediction?"
   ]
  },
  {
   "cell_type": "code",
   "execution_count": 21,
   "metadata": {},
   "outputs": [
    {
     "data": {
      "text/html": [
       "<div>\n",
       "<style scoped>\n",
       "    .dataframe tbody tr th:only-of-type {\n",
       "        vertical-align: middle;\n",
       "    }\n",
       "\n",
       "    .dataframe tbody tr th {\n",
       "        vertical-align: top;\n",
       "    }\n",
       "\n",
       "    .dataframe thead th {\n",
       "        text-align: right;\n",
       "    }\n",
       "</style>\n",
       "<table border=\"1\" class=\"dataframe\">\n",
       "  <thead>\n",
       "    <tr style=\"text-align: right;\">\n",
       "      <th></th>\n",
       "      <th>PS</th>\n",
       "      <th>timetick</th>\n",
       "      <th>unit</th>\n",
       "      <th>CS</th>\n",
       "      <th>input</th>\n",
       "      <th>OS</th>\n",
       "      <th>act</th>\n",
       "    </tr>\n",
       "  </thead>\n",
       "  <tbody>\n",
       "  </tbody>\n",
       "</table>\n",
       "</div>"
      ],
      "text/plain": [
       "Empty DataFrame\n",
       "Columns: [PS, timetick, unit, CS, input, OS, act]\n",
       "Index: []"
      ]
     },
     "execution_count": 21,
     "metadata": {},
     "output_type": "execute_result"
    }
   ],
   "source": [
    "df_time_varying.loc[df_time_varying.act>0.5]"
   ]
  },
  {
   "cell_type": "code",
   "execution_count": 15,
   "metadata": {},
   "outputs": [],
   "source": [
    "# Merge and export\n",
    "df = df_time_varying.merge(df_time_invar, on=\"unit\", how=\"left\")\n",
    "df[\"unit_acc\"] = abs(df.target_act - df.act) < 0.5\n",
    "df = df[\n",
    "    [\"word\", \"unit\", \"unit_acc\", \"timetick\", \"target_act\", \"bias\"]\n",
    "    + list(name_map.values())\n",
    "]\n",
    "\n",
    "# Restructure\n",
    "melt_value_vars = [\"bias\"] + list(name_map.values())\n",
    "df = df.melt(\n",
    "    id_vars=[\"word\", \"unit\", \"timetick\", \"target_act\", \"unit_acc\"],\n",
    "    value_vars=melt_value_vars,\n",
    ")"
   ]
  },
  {
   "cell_type": "code",
   "execution_count": 16,
   "metadata": {},
   "outputs": [
    {
     "name": "stdout",
     "output_type": "stream",
     "text": [
      "On: [   4    6   29   46   49  104  209  236  813  913 1148] \n",
      "Off: [ 928  253  808 1630  701 1887  314 1093 1743 1246]\n"
     ]
    }
   ],
   "source": [
    "all_on_nodes = df.loc[df.target_act == 1, \"unit\"].unique()\n",
    "all_off_nodes = df.loc[df.target_act == 0, \"unit\"].unique()\n",
    "print(f\"On: {all_on_nodes} \\nOff: {np.random.choice(all_off_nodes, 10)}\")"
   ]
  },
  {
   "cell_type": "code",
   "execution_count": 17,
   "metadata": {},
   "outputs": [
    {
     "data": {
      "text/html": [
       "\n",
       "<div id=\"altair-viz-e6b1fca0eb93453f911a809592dd0301\"></div>\n",
       "<script type=\"text/javascript\">\n",
       "  (function(spec, embedOpt){\n",
       "    let outputDiv = document.currentScript.previousElementSibling;\n",
       "    if (outputDiv.id !== \"altair-viz-e6b1fca0eb93453f911a809592dd0301\") {\n",
       "      outputDiv = document.getElementById(\"altair-viz-e6b1fca0eb93453f911a809592dd0301\");\n",
       "    }\n",
       "    const paths = {\n",
       "      \"vega\": \"https://cdn.jsdelivr.net/npm//vega@5?noext\",\n",
       "      \"vega-lib\": \"https://cdn.jsdelivr.net/npm//vega-lib?noext\",\n",
       "      \"vega-lite\": \"https://cdn.jsdelivr.net/npm//vega-lite@4.8.1?noext\",\n",
       "      \"vega-embed\": \"https://cdn.jsdelivr.net/npm//vega-embed@6?noext\",\n",
       "    };\n",
       "\n",
       "    function loadScript(lib) {\n",
       "      return new Promise(function(resolve, reject) {\n",
       "        var s = document.createElement('script');\n",
       "        s.src = paths[lib];\n",
       "        s.async = true;\n",
       "        s.onload = () => resolve(paths[lib]);\n",
       "        s.onerror = () => reject(`Error loading script: ${paths[lib]}`);\n",
       "        document.getElementsByTagName(\"head\")[0].appendChild(s);\n",
       "      });\n",
       "    }\n",
       "\n",
       "    function showError(err) {\n",
       "      outputDiv.innerHTML = `<div class=\"error\" style=\"color:red;\">${err}</div>`;\n",
       "      throw err;\n",
       "    }\n",
       "\n",
       "    function displayChart(vegaEmbed) {\n",
       "      vegaEmbed(outputDiv, spec, embedOpt)\n",
       "        .catch(err => showError(`Javascript Error: ${err.message}<br>This usually means there's a typo in your chart specification. See the javascript console for the full traceback.`));\n",
       "    }\n",
       "\n",
       "    if(typeof define === \"function\" && define.amd) {\n",
       "      requirejs.config({paths});\n",
       "      require([\"vega-embed\"], displayChart, err => showError(`Error loading script: ${err.message}`));\n",
       "    } else if (typeof vegaEmbed === \"function\") {\n",
       "      displayChart(vegaEmbed);\n",
       "    } else {\n",
       "      loadScript(\"vega\")\n",
       "        .then(() => loadScript(\"vega-lite\"))\n",
       "        .then(() => loadScript(\"vega-embed\"))\n",
       "        .catch(showError)\n",
       "        .then(() => displayChart(vegaEmbed));\n",
       "    }\n",
       "  })({\"config\": {\"view\": {\"continuousWidth\": 400, \"continuousHeight\": 300}}, \"data\": {\"name\": \"data-9d1639f1ba7d907413c764dea1b0f275\"}, \"mark\": \"line\", \"encoding\": {\"color\": {\"type\": \"nominal\", \"field\": \"variable\"}, \"x\": {\"type\": \"quantitative\", \"field\": \"timetick\"}, \"y\": {\"type\": \"quantitative\", \"aggregate\": \"mean\", \"field\": \"value\"}}, \"title\": \"word: close at nodes: [   4    6   29   46   49  104  209  236  813  913 1148]\", \"$schema\": \"https://vega.github.io/schema/vega-lite/v4.8.1.json\", \"datasets\": {\"data-9d1639f1ba7d907413c764dea1b0f275\": [{\"word\": \"close\", \"unit\": 4, \"timetick\": 0, \"target_act\": 1.0, \"unit_acc\": false, \"variable\": \"bias\", \"value\": -1.8370620012283325}, {\"word\": \"close\", \"unit\": 6, \"timetick\": 0, \"target_act\": 1.0, \"unit_acc\": false, \"variable\": \"bias\", \"value\": -1.9311920404434204}, {\"word\": \"close\", \"unit\": 29, \"timetick\": 0, \"target_act\": 1.0, \"unit_acc\": false, \"variable\": \"bias\", \"value\": -2.470366954803467}, {\"word\": \"close\", \"unit\": 46, \"timetick\": 0, \"target_act\": 1.0, \"unit_acc\": false, \"variable\": \"bias\", \"value\": -2.151810884475708}, {\"word\": \"close\", \"unit\": 49, \"timetick\": 0, \"target_act\": 1.0, \"unit_acc\": false, \"variable\": \"bias\", \"value\": -3.2371349334716797}, {\"word\": \"close\", \"unit\": 104, \"timetick\": 0, \"target_act\": 1.0, \"unit_acc\": false, \"variable\": \"bias\", \"value\": -2.0450100898742676}, {\"word\": \"close\", \"unit\": 209, \"timetick\": 0, \"target_act\": 1.0, \"unit_acc\": false, \"variable\": \"bias\", \"value\": -2.668355941772461}, {\"word\": \"close\", \"unit\": 236, \"timetick\": 0, \"target_act\": 1.0, \"unit_acc\": false, \"variable\": \"bias\", \"value\": -1.728242039680481}, {\"word\": \"close\", \"unit\": 813, \"timetick\": 0, \"target_act\": 1.0, \"unit_acc\": false, \"variable\": \"bias\", \"value\": -1.2024610042572021}, {\"word\": \"close\", \"unit\": 913, \"timetick\": 0, \"target_act\": 1.0, \"unit_acc\": false, \"variable\": \"bias\", \"value\": -2.991307020187378}, {\"word\": \"close\", \"unit\": 1148, \"timetick\": 0, \"target_act\": 1.0, \"unit_acc\": false, \"variable\": \"bias\", \"value\": -1.0400810241699219}, {\"word\": \"close\", \"unit\": 4, \"timetick\": 1, \"target_act\": 1.0, \"unit_acc\": false, \"variable\": \"bias\", \"value\": -1.8370620012283325}, {\"word\": \"close\", \"unit\": 6, \"timetick\": 1, \"target_act\": 1.0, \"unit_acc\": false, \"variable\": \"bias\", \"value\": -1.9311920404434204}, {\"word\": \"close\", \"unit\": 29, \"timetick\": 1, \"target_act\": 1.0, \"unit_acc\": false, \"variable\": \"bias\", \"value\": -2.470366954803467}, {\"word\": \"close\", \"unit\": 46, \"timetick\": 1, \"target_act\": 1.0, \"unit_acc\": false, \"variable\": \"bias\", \"value\": -2.151810884475708}, {\"word\": \"close\", \"unit\": 49, \"timetick\": 1, \"target_act\": 1.0, \"unit_acc\": false, \"variable\": \"bias\", \"value\": -3.2371349334716797}, {\"word\": \"close\", \"unit\": 104, \"timetick\": 1, \"target_act\": 1.0, \"unit_acc\": false, \"variable\": \"bias\", \"value\": -2.0450100898742676}, {\"word\": \"close\", \"unit\": 209, \"timetick\": 1, \"target_act\": 1.0, \"unit_acc\": false, \"variable\": \"bias\", \"value\": -2.668355941772461}, {\"word\": \"close\", \"unit\": 236, \"timetick\": 1, \"target_act\": 1.0, \"unit_acc\": false, \"variable\": \"bias\", \"value\": -1.728242039680481}, {\"word\": \"close\", \"unit\": 813, \"timetick\": 1, \"target_act\": 1.0, \"unit_acc\": false, \"variable\": \"bias\", \"value\": -1.2024610042572021}, {\"word\": \"close\", \"unit\": 913, \"timetick\": 1, \"target_act\": 1.0, \"unit_acc\": false, \"variable\": \"bias\", \"value\": -2.991307020187378}, {\"word\": \"close\", \"unit\": 1148, \"timetick\": 1, \"target_act\": 1.0, \"unit_acc\": false, \"variable\": \"bias\", \"value\": -1.0400810241699219}, {\"word\": \"close\", \"unit\": 4, \"timetick\": 2, \"target_act\": 1.0, \"unit_acc\": false, \"variable\": \"bias\", \"value\": -1.8370620012283325}, {\"word\": \"close\", \"unit\": 6, \"timetick\": 2, \"target_act\": 1.0, \"unit_acc\": false, \"variable\": \"bias\", \"value\": -1.9311920404434204}, {\"word\": \"close\", \"unit\": 29, \"timetick\": 2, \"target_act\": 1.0, \"unit_acc\": false, \"variable\": \"bias\", \"value\": -2.470366954803467}, {\"word\": \"close\", \"unit\": 46, \"timetick\": 2, \"target_act\": 1.0, \"unit_acc\": false, \"variable\": \"bias\", \"value\": -2.151810884475708}, {\"word\": \"close\", \"unit\": 49, \"timetick\": 2, \"target_act\": 1.0, \"unit_acc\": false, \"variable\": \"bias\", \"value\": -3.2371349334716797}, {\"word\": \"close\", \"unit\": 104, \"timetick\": 2, \"target_act\": 1.0, \"unit_acc\": false, \"variable\": \"bias\", \"value\": -2.0450100898742676}, {\"word\": \"close\", \"unit\": 209, \"timetick\": 2, \"target_act\": 1.0, \"unit_acc\": false, \"variable\": \"bias\", \"value\": -2.668355941772461}, {\"word\": \"close\", \"unit\": 236, \"timetick\": 2, \"target_act\": 1.0, \"unit_acc\": false, \"variable\": \"bias\", \"value\": -1.728242039680481}, {\"word\": \"close\", \"unit\": 813, \"timetick\": 2, \"target_act\": 1.0, \"unit_acc\": false, \"variable\": \"bias\", \"value\": -1.2024610042572021}, {\"word\": \"close\", \"unit\": 913, \"timetick\": 2, \"target_act\": 1.0, \"unit_acc\": false, \"variable\": \"bias\", \"value\": -2.991307020187378}, {\"word\": \"close\", \"unit\": 1148, \"timetick\": 2, \"target_act\": 1.0, \"unit_acc\": false, \"variable\": \"bias\", \"value\": -1.0400810241699219}, {\"word\": \"close\", \"unit\": 4, \"timetick\": 3, \"target_act\": 1.0, \"unit_acc\": false, \"variable\": \"bias\", \"value\": -1.8370620012283325}, {\"word\": \"close\", \"unit\": 6, \"timetick\": 3, \"target_act\": 1.0, \"unit_acc\": false, \"variable\": \"bias\", \"value\": -1.9311920404434204}, {\"word\": \"close\", \"unit\": 29, \"timetick\": 3, \"target_act\": 1.0, \"unit_acc\": false, \"variable\": \"bias\", \"value\": -2.470366954803467}, {\"word\": \"close\", \"unit\": 46, \"timetick\": 3, \"target_act\": 1.0, \"unit_acc\": false, \"variable\": \"bias\", \"value\": -2.151810884475708}, {\"word\": \"close\", \"unit\": 49, \"timetick\": 3, \"target_act\": 1.0, \"unit_acc\": false, \"variable\": \"bias\", \"value\": -3.2371349334716797}, {\"word\": \"close\", \"unit\": 104, \"timetick\": 3, \"target_act\": 1.0, \"unit_acc\": false, \"variable\": \"bias\", \"value\": -2.0450100898742676}, {\"word\": \"close\", \"unit\": 209, \"timetick\": 3, \"target_act\": 1.0, \"unit_acc\": false, \"variable\": \"bias\", \"value\": -2.668355941772461}, {\"word\": \"close\", \"unit\": 236, \"timetick\": 3, \"target_act\": 1.0, \"unit_acc\": false, \"variable\": \"bias\", \"value\": -1.728242039680481}, {\"word\": \"close\", \"unit\": 813, \"timetick\": 3, \"target_act\": 1.0, \"unit_acc\": false, \"variable\": \"bias\", \"value\": -1.2024610042572021}, {\"word\": \"close\", \"unit\": 913, \"timetick\": 3, \"target_act\": 1.0, \"unit_acc\": false, \"variable\": \"bias\", \"value\": -2.991307020187378}, {\"word\": \"close\", \"unit\": 1148, \"timetick\": 3, \"target_act\": 1.0, \"unit_acc\": false, \"variable\": \"bias\", \"value\": -1.0400810241699219}, {\"word\": \"close\", \"unit\": 4, \"timetick\": 4, \"target_act\": 1.0, \"unit_acc\": false, \"variable\": \"bias\", \"value\": -1.8370620012283325}, {\"word\": \"close\", \"unit\": 6, \"timetick\": 4, \"target_act\": 1.0, \"unit_acc\": false, \"variable\": \"bias\", \"value\": -1.9311920404434204}, {\"word\": \"close\", \"unit\": 29, \"timetick\": 4, \"target_act\": 1.0, \"unit_acc\": false, \"variable\": \"bias\", \"value\": -2.470366954803467}, {\"word\": \"close\", \"unit\": 46, \"timetick\": 4, \"target_act\": 1.0, \"unit_acc\": false, \"variable\": \"bias\", \"value\": -2.151810884475708}, {\"word\": \"close\", \"unit\": 49, \"timetick\": 4, \"target_act\": 1.0, \"unit_acc\": false, \"variable\": \"bias\", \"value\": -3.2371349334716797}, {\"word\": \"close\", \"unit\": 104, \"timetick\": 4, \"target_act\": 1.0, \"unit_acc\": false, \"variable\": \"bias\", \"value\": -2.0450100898742676}, {\"word\": \"close\", \"unit\": 209, \"timetick\": 4, \"target_act\": 1.0, \"unit_acc\": false, \"variable\": \"bias\", \"value\": -2.668355941772461}, {\"word\": \"close\", \"unit\": 236, \"timetick\": 4, \"target_act\": 1.0, \"unit_acc\": false, \"variable\": \"bias\", \"value\": -1.728242039680481}, {\"word\": \"close\", \"unit\": 813, \"timetick\": 4, \"target_act\": 1.0, \"unit_acc\": false, \"variable\": \"bias\", \"value\": -1.2024610042572021}, {\"word\": \"close\", \"unit\": 913, \"timetick\": 4, \"target_act\": 1.0, \"unit_acc\": false, \"variable\": \"bias\", \"value\": -2.991307020187378}, {\"word\": \"close\", \"unit\": 1148, \"timetick\": 4, \"target_act\": 1.0, \"unit_acc\": false, \"variable\": \"bias\", \"value\": -1.0400810241699219}, {\"word\": \"close\", \"unit\": 4, \"timetick\": 5, \"target_act\": 1.0, \"unit_acc\": false, \"variable\": \"bias\", \"value\": -1.8370620012283325}, {\"word\": \"close\", \"unit\": 6, \"timetick\": 5, \"target_act\": 1.0, \"unit_acc\": false, \"variable\": \"bias\", \"value\": -1.9311920404434204}, {\"word\": \"close\", \"unit\": 29, \"timetick\": 5, \"target_act\": 1.0, \"unit_acc\": false, \"variable\": \"bias\", \"value\": -2.470366954803467}, {\"word\": \"close\", \"unit\": 46, \"timetick\": 5, \"target_act\": 1.0, \"unit_acc\": false, \"variable\": \"bias\", \"value\": -2.151810884475708}, {\"word\": \"close\", \"unit\": 49, \"timetick\": 5, \"target_act\": 1.0, \"unit_acc\": false, \"variable\": \"bias\", \"value\": -3.2371349334716797}, {\"word\": \"close\", \"unit\": 104, \"timetick\": 5, \"target_act\": 1.0, \"unit_acc\": false, \"variable\": \"bias\", \"value\": -2.0450100898742676}, {\"word\": \"close\", \"unit\": 209, \"timetick\": 5, \"target_act\": 1.0, \"unit_acc\": false, \"variable\": \"bias\", \"value\": -2.668355941772461}, {\"word\": \"close\", \"unit\": 236, \"timetick\": 5, \"target_act\": 1.0, \"unit_acc\": false, \"variable\": \"bias\", \"value\": -1.728242039680481}, {\"word\": \"close\", \"unit\": 813, \"timetick\": 5, \"target_act\": 1.0, \"unit_acc\": false, \"variable\": \"bias\", \"value\": -1.2024610042572021}, {\"word\": \"close\", \"unit\": 913, \"timetick\": 5, \"target_act\": 1.0, \"unit_acc\": false, \"variable\": \"bias\", \"value\": -2.991307020187378}, {\"word\": \"close\", \"unit\": 1148, \"timetick\": 5, \"target_act\": 1.0, \"unit_acc\": false, \"variable\": \"bias\", \"value\": -1.0400810241699219}, {\"word\": \"close\", \"unit\": 4, \"timetick\": 6, \"target_act\": 1.0, \"unit_acc\": false, \"variable\": \"bias\", \"value\": -1.8370620012283325}, {\"word\": \"close\", \"unit\": 6, \"timetick\": 6, \"target_act\": 1.0, \"unit_acc\": false, \"variable\": \"bias\", \"value\": -1.9311920404434204}, {\"word\": \"close\", \"unit\": 29, \"timetick\": 6, \"target_act\": 1.0, \"unit_acc\": false, \"variable\": \"bias\", \"value\": -2.470366954803467}, {\"word\": \"close\", \"unit\": 46, \"timetick\": 6, \"target_act\": 1.0, \"unit_acc\": false, \"variable\": \"bias\", \"value\": -2.151810884475708}, {\"word\": \"close\", \"unit\": 49, \"timetick\": 6, \"target_act\": 1.0, \"unit_acc\": false, \"variable\": \"bias\", \"value\": -3.2371349334716797}, {\"word\": \"close\", \"unit\": 104, \"timetick\": 6, \"target_act\": 1.0, \"unit_acc\": false, \"variable\": \"bias\", \"value\": -2.0450100898742676}, {\"word\": \"close\", \"unit\": 209, \"timetick\": 6, \"target_act\": 1.0, \"unit_acc\": false, \"variable\": \"bias\", \"value\": -2.668355941772461}, {\"word\": \"close\", \"unit\": 236, \"timetick\": 6, \"target_act\": 1.0, \"unit_acc\": false, \"variable\": \"bias\", \"value\": -1.728242039680481}, {\"word\": \"close\", \"unit\": 813, \"timetick\": 6, \"target_act\": 1.0, \"unit_acc\": false, \"variable\": \"bias\", \"value\": -1.2024610042572021}, {\"word\": \"close\", \"unit\": 913, \"timetick\": 6, \"target_act\": 1.0, \"unit_acc\": false, \"variable\": \"bias\", \"value\": -2.991307020187378}, {\"word\": \"close\", \"unit\": 1148, \"timetick\": 6, \"target_act\": 1.0, \"unit_acc\": false, \"variable\": \"bias\", \"value\": -1.0400810241699219}, {\"word\": \"close\", \"unit\": 4, \"timetick\": 7, \"target_act\": 1.0, \"unit_acc\": false, \"variable\": \"bias\", \"value\": -1.8370620012283325}, {\"word\": \"close\", \"unit\": 6, \"timetick\": 7, \"target_act\": 1.0, \"unit_acc\": false, \"variable\": \"bias\", \"value\": -1.9311920404434204}, {\"word\": \"close\", \"unit\": 29, \"timetick\": 7, \"target_act\": 1.0, \"unit_acc\": false, \"variable\": \"bias\", \"value\": -2.470366954803467}, {\"word\": \"close\", \"unit\": 46, \"timetick\": 7, \"target_act\": 1.0, \"unit_acc\": false, \"variable\": \"bias\", \"value\": -2.151810884475708}, {\"word\": \"close\", \"unit\": 49, \"timetick\": 7, \"target_act\": 1.0, \"unit_acc\": false, \"variable\": \"bias\", \"value\": -3.2371349334716797}, {\"word\": \"close\", \"unit\": 104, \"timetick\": 7, \"target_act\": 1.0, \"unit_acc\": false, \"variable\": \"bias\", \"value\": -2.0450100898742676}, {\"word\": \"close\", \"unit\": 209, \"timetick\": 7, \"target_act\": 1.0, \"unit_acc\": false, \"variable\": \"bias\", \"value\": -2.668355941772461}, {\"word\": \"close\", \"unit\": 236, \"timetick\": 7, \"target_act\": 1.0, \"unit_acc\": false, \"variable\": \"bias\", \"value\": -1.728242039680481}, {\"word\": \"close\", \"unit\": 813, \"timetick\": 7, \"target_act\": 1.0, \"unit_acc\": false, \"variable\": \"bias\", \"value\": -1.2024610042572021}, {\"word\": \"close\", \"unit\": 913, \"timetick\": 7, \"target_act\": 1.0, \"unit_acc\": false, \"variable\": \"bias\", \"value\": -2.991307020187378}, {\"word\": \"close\", \"unit\": 1148, \"timetick\": 7, \"target_act\": 1.0, \"unit_acc\": false, \"variable\": \"bias\", \"value\": -1.0400810241699219}, {\"word\": \"close\", \"unit\": 4, \"timetick\": 8, \"target_act\": 1.0, \"unit_acc\": false, \"variable\": \"bias\", \"value\": -1.8370620012283325}, {\"word\": \"close\", \"unit\": 6, \"timetick\": 8, \"target_act\": 1.0, \"unit_acc\": false, \"variable\": \"bias\", \"value\": -1.9311920404434204}, {\"word\": \"close\", \"unit\": 29, \"timetick\": 8, \"target_act\": 1.0, \"unit_acc\": false, \"variable\": \"bias\", \"value\": -2.470366954803467}, {\"word\": \"close\", \"unit\": 46, \"timetick\": 8, \"target_act\": 1.0, \"unit_acc\": false, \"variable\": \"bias\", \"value\": -2.151810884475708}, {\"word\": \"close\", \"unit\": 49, \"timetick\": 8, \"target_act\": 1.0, \"unit_acc\": false, \"variable\": \"bias\", \"value\": -3.2371349334716797}, {\"word\": \"close\", \"unit\": 104, \"timetick\": 8, \"target_act\": 1.0, \"unit_acc\": false, \"variable\": \"bias\", \"value\": -2.0450100898742676}, {\"word\": \"close\", \"unit\": 209, \"timetick\": 8, \"target_act\": 1.0, \"unit_acc\": false, \"variable\": \"bias\", \"value\": -2.668355941772461}, {\"word\": \"close\", \"unit\": 236, \"timetick\": 8, \"target_act\": 1.0, \"unit_acc\": false, \"variable\": \"bias\", \"value\": -1.728242039680481}, {\"word\": \"close\", \"unit\": 813, \"timetick\": 8, \"target_act\": 1.0, \"unit_acc\": false, \"variable\": \"bias\", \"value\": -1.2024610042572021}, {\"word\": \"close\", \"unit\": 913, \"timetick\": 8, \"target_act\": 1.0, \"unit_acc\": false, \"variable\": \"bias\", \"value\": -2.991307020187378}, {\"word\": \"close\", \"unit\": 1148, \"timetick\": 8, \"target_act\": 1.0, \"unit_acc\": false, \"variable\": \"bias\", \"value\": -1.0400810241699219}, {\"word\": \"close\", \"unit\": 4, \"timetick\": 9, \"target_act\": 1.0, \"unit_acc\": false, \"variable\": \"bias\", \"value\": -1.8370620012283325}, {\"word\": \"close\", \"unit\": 6, \"timetick\": 9, \"target_act\": 1.0, \"unit_acc\": false, \"variable\": \"bias\", \"value\": -1.9311920404434204}, {\"word\": \"close\", \"unit\": 29, \"timetick\": 9, \"target_act\": 1.0, \"unit_acc\": false, \"variable\": \"bias\", \"value\": -2.470366954803467}, {\"word\": \"close\", \"unit\": 46, \"timetick\": 9, \"target_act\": 1.0, \"unit_acc\": false, \"variable\": \"bias\", \"value\": -2.151810884475708}, {\"word\": \"close\", \"unit\": 49, \"timetick\": 9, \"target_act\": 1.0, \"unit_acc\": false, \"variable\": \"bias\", \"value\": -3.2371349334716797}, {\"word\": \"close\", \"unit\": 104, \"timetick\": 9, \"target_act\": 1.0, \"unit_acc\": false, \"variable\": \"bias\", \"value\": -2.0450100898742676}, {\"word\": \"close\", \"unit\": 209, \"timetick\": 9, \"target_act\": 1.0, \"unit_acc\": false, \"variable\": \"bias\", \"value\": -2.668355941772461}, {\"word\": \"close\", \"unit\": 236, \"timetick\": 9, \"target_act\": 1.0, \"unit_acc\": false, \"variable\": \"bias\", \"value\": -1.728242039680481}, {\"word\": \"close\", \"unit\": 813, \"timetick\": 9, \"target_act\": 1.0, \"unit_acc\": false, \"variable\": \"bias\", \"value\": -1.2024610042572021}, {\"word\": \"close\", \"unit\": 913, \"timetick\": 9, \"target_act\": 1.0, \"unit_acc\": false, \"variable\": \"bias\", \"value\": -2.991307020187378}, {\"word\": \"close\", \"unit\": 1148, \"timetick\": 9, \"target_act\": 1.0, \"unit_acc\": false, \"variable\": \"bias\", \"value\": -1.0400810241699219}, {\"word\": \"close\", \"unit\": 4, \"timetick\": 10, \"target_act\": 1.0, \"unit_acc\": false, \"variable\": \"bias\", \"value\": -1.8370620012283325}, {\"word\": \"close\", \"unit\": 6, \"timetick\": 10, \"target_act\": 1.0, \"unit_acc\": false, \"variable\": \"bias\", \"value\": -1.9311920404434204}, {\"word\": \"close\", \"unit\": 29, \"timetick\": 10, \"target_act\": 1.0, \"unit_acc\": false, \"variable\": \"bias\", \"value\": -2.470366954803467}, {\"word\": \"close\", \"unit\": 46, \"timetick\": 10, \"target_act\": 1.0, \"unit_acc\": false, \"variable\": \"bias\", \"value\": -2.151810884475708}, {\"word\": \"close\", \"unit\": 49, \"timetick\": 10, \"target_act\": 1.0, \"unit_acc\": false, \"variable\": \"bias\", \"value\": -3.2371349334716797}, {\"word\": \"close\", \"unit\": 104, \"timetick\": 10, \"target_act\": 1.0, \"unit_acc\": false, \"variable\": \"bias\", \"value\": -2.0450100898742676}, {\"word\": \"close\", \"unit\": 209, \"timetick\": 10, \"target_act\": 1.0, \"unit_acc\": false, \"variable\": \"bias\", \"value\": -2.668355941772461}, {\"word\": \"close\", \"unit\": 236, \"timetick\": 10, \"target_act\": 1.0, \"unit_acc\": false, \"variable\": \"bias\", \"value\": -1.728242039680481}, {\"word\": \"close\", \"unit\": 813, \"timetick\": 10, \"target_act\": 1.0, \"unit_acc\": false, \"variable\": \"bias\", \"value\": -1.2024610042572021}, {\"word\": \"close\", \"unit\": 913, \"timetick\": 10, \"target_act\": 1.0, \"unit_acc\": false, \"variable\": \"bias\", \"value\": -2.991307020187378}, {\"word\": \"close\", \"unit\": 1148, \"timetick\": 10, \"target_act\": 1.0, \"unit_acc\": false, \"variable\": \"bias\", \"value\": -1.0400810241699219}, {\"word\": \"close\", \"unit\": 4, \"timetick\": 11, \"target_act\": 1.0, \"unit_acc\": false, \"variable\": \"bias\", \"value\": -1.8370620012283325}, {\"word\": \"close\", \"unit\": 6, \"timetick\": 11, \"target_act\": 1.0, \"unit_acc\": false, \"variable\": \"bias\", \"value\": -1.9311920404434204}, {\"word\": \"close\", \"unit\": 29, \"timetick\": 11, \"target_act\": 1.0, \"unit_acc\": false, \"variable\": \"bias\", \"value\": -2.470366954803467}, {\"word\": \"close\", \"unit\": 46, \"timetick\": 11, \"target_act\": 1.0, \"unit_acc\": false, \"variable\": \"bias\", \"value\": -2.151810884475708}, {\"word\": \"close\", \"unit\": 49, \"timetick\": 11, \"target_act\": 1.0, \"unit_acc\": false, \"variable\": \"bias\", \"value\": -3.2371349334716797}, {\"word\": \"close\", \"unit\": 104, \"timetick\": 11, \"target_act\": 1.0, \"unit_acc\": false, \"variable\": \"bias\", \"value\": -2.0450100898742676}, {\"word\": \"close\", \"unit\": 209, \"timetick\": 11, \"target_act\": 1.0, \"unit_acc\": false, \"variable\": \"bias\", \"value\": -2.668355941772461}, {\"word\": \"close\", \"unit\": 236, \"timetick\": 11, \"target_act\": 1.0, \"unit_acc\": false, \"variable\": \"bias\", \"value\": -1.728242039680481}, {\"word\": \"close\", \"unit\": 813, \"timetick\": 11, \"target_act\": 1.0, \"unit_acc\": false, \"variable\": \"bias\", \"value\": -1.2024610042572021}, {\"word\": \"close\", \"unit\": 913, \"timetick\": 11, \"target_act\": 1.0, \"unit_acc\": false, \"variable\": \"bias\", \"value\": -2.991307020187378}, {\"word\": \"close\", \"unit\": 1148, \"timetick\": 11, \"target_act\": 1.0, \"unit_acc\": false, \"variable\": \"bias\", \"value\": -1.0400810241699219}, {\"word\": \"close\", \"unit\": 4, \"timetick\": 12, \"target_act\": 1.0, \"unit_acc\": false, \"variable\": \"bias\", \"value\": -1.8370620012283325}, {\"word\": \"close\", \"unit\": 6, \"timetick\": 12, \"target_act\": 1.0, \"unit_acc\": false, \"variable\": \"bias\", \"value\": -1.9311920404434204}, {\"word\": \"close\", \"unit\": 29, \"timetick\": 12, \"target_act\": 1.0, \"unit_acc\": false, \"variable\": \"bias\", \"value\": -2.470366954803467}, {\"word\": \"close\", \"unit\": 46, \"timetick\": 12, \"target_act\": 1.0, \"unit_acc\": false, \"variable\": \"bias\", \"value\": -2.151810884475708}, {\"word\": \"close\", \"unit\": 49, \"timetick\": 12, \"target_act\": 1.0, \"unit_acc\": false, \"variable\": \"bias\", \"value\": -3.2371349334716797}, {\"word\": \"close\", \"unit\": 104, \"timetick\": 12, \"target_act\": 1.0, \"unit_acc\": false, \"variable\": \"bias\", \"value\": -2.0450100898742676}, {\"word\": \"close\", \"unit\": 209, \"timetick\": 12, \"target_act\": 1.0, \"unit_acc\": false, \"variable\": \"bias\", \"value\": -2.668355941772461}, {\"word\": \"close\", \"unit\": 236, \"timetick\": 12, \"target_act\": 1.0, \"unit_acc\": false, \"variable\": \"bias\", \"value\": -1.728242039680481}, {\"word\": \"close\", \"unit\": 813, \"timetick\": 12, \"target_act\": 1.0, \"unit_acc\": false, \"variable\": \"bias\", \"value\": -1.2024610042572021}, {\"word\": \"close\", \"unit\": 913, \"timetick\": 12, \"target_act\": 1.0, \"unit_acc\": false, \"variable\": \"bias\", \"value\": -2.991307020187378}, {\"word\": \"close\", \"unit\": 1148, \"timetick\": 12, \"target_act\": 1.0, \"unit_acc\": false, \"variable\": \"bias\", \"value\": -1.0400810241699219}, {\"word\": \"close\", \"unit\": 4, \"timetick\": 0, \"target_act\": 1.0, \"unit_acc\": false, \"variable\": \"PS\", \"value\": 0.0}, {\"word\": \"close\", \"unit\": 6, \"timetick\": 0, \"target_act\": 1.0, \"unit_acc\": false, \"variable\": \"PS\", \"value\": 0.0}, {\"word\": \"close\", \"unit\": 29, \"timetick\": 0, \"target_act\": 1.0, \"unit_acc\": false, \"variable\": \"PS\", \"value\": 0.0}, {\"word\": \"close\", \"unit\": 46, \"timetick\": 0, \"target_act\": 1.0, \"unit_acc\": false, \"variable\": \"PS\", \"value\": 0.0}, {\"word\": \"close\", \"unit\": 49, \"timetick\": 0, \"target_act\": 1.0, \"unit_acc\": false, \"variable\": \"PS\", \"value\": 0.0}, {\"word\": \"close\", \"unit\": 104, \"timetick\": 0, \"target_act\": 1.0, \"unit_acc\": false, \"variable\": \"PS\", \"value\": 0.0}, {\"word\": \"close\", \"unit\": 209, \"timetick\": 0, \"target_act\": 1.0, \"unit_acc\": false, \"variable\": \"PS\", \"value\": 0.0}, {\"word\": \"close\", \"unit\": 236, \"timetick\": 0, \"target_act\": 1.0, \"unit_acc\": false, \"variable\": \"PS\", \"value\": 0.0}, {\"word\": \"close\", \"unit\": 813, \"timetick\": 0, \"target_act\": 1.0, \"unit_acc\": false, \"variable\": \"PS\", \"value\": 0.0}, {\"word\": \"close\", \"unit\": 913, \"timetick\": 0, \"target_act\": 1.0, \"unit_acc\": false, \"variable\": \"PS\", \"value\": 0.0}, {\"word\": \"close\", \"unit\": 1148, \"timetick\": 0, \"target_act\": 1.0, \"unit_acc\": false, \"variable\": \"PS\", \"value\": 0.0}, {\"word\": \"close\", \"unit\": 4, \"timetick\": 1, \"target_act\": 1.0, \"unit_acc\": false, \"variable\": \"PS\", \"value\": -30.770278930664062}, {\"word\": \"close\", \"unit\": 6, \"timetick\": 1, \"target_act\": 1.0, \"unit_acc\": false, \"variable\": \"PS\", \"value\": -30.14684295654297}, {\"word\": \"close\", \"unit\": 29, \"timetick\": 1, \"target_act\": 1.0, \"unit_acc\": false, \"variable\": \"PS\", \"value\": -26.23745346069336}, {\"word\": \"close\", \"unit\": 46, \"timetick\": 1, \"target_act\": 1.0, \"unit_acc\": false, \"variable\": \"PS\", \"value\": -31.24154281616211}, {\"word\": \"close\", \"unit\": 49, \"timetick\": 1, \"target_act\": 1.0, \"unit_acc\": false, \"variable\": \"PS\", \"value\": -24.564163208007812}, {\"word\": \"close\", \"unit\": 104, \"timetick\": 1, \"target_act\": 1.0, \"unit_acc\": false, \"variable\": \"PS\", \"value\": -32.60480880737305}, {\"word\": \"close\", \"unit\": 209, \"timetick\": 1, \"target_act\": 1.0, \"unit_acc\": false, \"variable\": \"PS\", \"value\": -14.582863807678223}, {\"word\": \"close\", \"unit\": 236, \"timetick\": 1, \"target_act\": 1.0, \"unit_acc\": false, \"variable\": \"PS\", \"value\": -31.226451873779297}, {\"word\": \"close\", \"unit\": 813, \"timetick\": 1, \"target_act\": 1.0, \"unit_acc\": false, \"variable\": \"PS\", \"value\": -33.859798431396484}, {\"word\": \"close\", \"unit\": 913, \"timetick\": 1, \"target_act\": 1.0, \"unit_acc\": false, \"variable\": \"PS\", \"value\": -26.047325134277344}, {\"word\": \"close\", \"unit\": 1148, \"timetick\": 1, \"target_act\": 1.0, \"unit_acc\": false, \"variable\": \"PS\", \"value\": -29.55255126953125}, {\"word\": \"close\", \"unit\": 4, \"timetick\": 2, \"target_act\": 1.0, \"unit_acc\": false, \"variable\": \"PS\", \"value\": -9.965683937072754}, {\"word\": \"close\", \"unit\": 6, \"timetick\": 2, \"target_act\": 1.0, \"unit_acc\": false, \"variable\": \"PS\", \"value\": -20.753192901611328}, {\"word\": \"close\", \"unit\": 29, \"timetick\": 2, \"target_act\": 1.0, \"unit_acc\": false, \"variable\": \"PS\", \"value\": -9.654319763183594}, {\"word\": \"close\", \"unit\": 46, \"timetick\": 2, \"target_act\": 1.0, \"unit_acc\": false, \"variable\": \"PS\", \"value\": -17.804990768432617}, {\"word\": \"close\", \"unit\": 49, \"timetick\": 2, \"target_act\": 1.0, \"unit_acc\": false, \"variable\": \"PS\", \"value\": -12.013530731201172}, {\"word\": \"close\", \"unit\": 104, \"timetick\": 2, \"target_act\": 1.0, \"unit_acc\": false, \"variable\": \"PS\", \"value\": -16.585851669311523}, {\"word\": \"close\", \"unit\": 209, \"timetick\": 2, \"target_act\": 1.0, \"unit_acc\": false, \"variable\": \"PS\", \"value\": -5.618191719055176}, {\"word\": \"close\", \"unit\": 236, \"timetick\": 2, \"target_act\": 1.0, \"unit_acc\": false, \"variable\": \"PS\", \"value\": -15.967995643615723}, {\"word\": \"close\", \"unit\": 813, \"timetick\": 2, \"target_act\": 1.0, \"unit_acc\": false, \"variable\": \"PS\", \"value\": -12.094315528869629}, {\"word\": \"close\", \"unit\": 913, \"timetick\": 2, \"target_act\": 1.0, \"unit_acc\": false, \"variable\": \"PS\", \"value\": -15.50207233428955}, {\"word\": \"close\", \"unit\": 1148, \"timetick\": 2, \"target_act\": 1.0, \"unit_acc\": false, \"variable\": \"PS\", \"value\": -16.854337692260742}, {\"word\": \"close\", \"unit\": 4, \"timetick\": 3, \"target_act\": 1.0, \"unit_acc\": false, \"variable\": \"PS\", \"value\": -7.549181938171387}, {\"word\": \"close\", \"unit\": 6, \"timetick\": 3, \"target_act\": 1.0, \"unit_acc\": false, \"variable\": \"PS\", \"value\": -16.206043243408203}, {\"word\": \"close\", \"unit\": 29, \"timetick\": 3, \"target_act\": 1.0, \"unit_acc\": false, \"variable\": \"PS\", \"value\": -7.638650417327881}, {\"word\": \"close\", \"unit\": 46, \"timetick\": 3, \"target_act\": 1.0, \"unit_acc\": false, \"variable\": \"PS\", \"value\": -17.262788772583008}, {\"word\": \"close\", \"unit\": 49, \"timetick\": 3, \"target_act\": 1.0, \"unit_acc\": false, \"variable\": \"PS\", \"value\": -10.505443572998047}, {\"word\": \"close\", \"unit\": 104, \"timetick\": 3, \"target_act\": 1.0, \"unit_acc\": false, \"variable\": \"PS\", \"value\": -14.899801254272461}, {\"word\": \"close\", \"unit\": 209, \"timetick\": 3, \"target_act\": 1.0, \"unit_acc\": false, \"variable\": \"PS\", \"value\": -3.470844268798828}, {\"word\": \"close\", \"unit\": 236, \"timetick\": 3, \"target_act\": 1.0, \"unit_acc\": false, \"variable\": \"PS\", \"value\": -14.924413681030273}, {\"word\": \"close\", \"unit\": 813, \"timetick\": 3, \"target_act\": 1.0, \"unit_acc\": false, \"variable\": \"PS\", \"value\": -9.248650550842285}, {\"word\": \"close\", \"unit\": 913, \"timetick\": 3, \"target_act\": 1.0, \"unit_acc\": false, \"variable\": \"PS\", \"value\": -13.855583190917969}, {\"word\": \"close\", \"unit\": 1148, \"timetick\": 3, \"target_act\": 1.0, \"unit_acc\": false, \"variable\": \"PS\", \"value\": -13.36327838897705}, {\"word\": \"close\", \"unit\": 4, \"timetick\": 4, \"target_act\": 1.0, \"unit_acc\": false, \"variable\": \"PS\", \"value\": -6.312697410583496}, {\"word\": \"close\", \"unit\": 6, \"timetick\": 4, \"target_act\": 1.0, \"unit_acc\": false, \"variable\": \"PS\", \"value\": -13.623833656311035}, {\"word\": \"close\", \"unit\": 29, \"timetick\": 4, \"target_act\": 1.0, \"unit_acc\": false, \"variable\": \"PS\", \"value\": -6.328970909118652}, {\"word\": \"close\", \"unit\": 46, \"timetick\": 4, \"target_act\": 1.0, \"unit_acc\": false, \"variable\": \"PS\", \"value\": -16.430368423461914}, {\"word\": \"close\", \"unit\": 49, \"timetick\": 4, \"target_act\": 1.0, \"unit_acc\": false, \"variable\": \"PS\", \"value\": -9.114569664001465}, {\"word\": \"close\", \"unit\": 104, \"timetick\": 4, \"target_act\": 1.0, \"unit_acc\": false, \"variable\": \"PS\", \"value\": -14.288470268249512}, {\"word\": \"close\", \"unit\": 209, \"timetick\": 4, \"target_act\": 1.0, \"unit_acc\": false, \"variable\": \"PS\", \"value\": -2.181753396987915}, {\"word\": \"close\", \"unit\": 236, \"timetick\": 4, \"target_act\": 1.0, \"unit_acc\": false, \"variable\": \"PS\", \"value\": -14.727958679199219}, {\"word\": \"close\", \"unit\": 813, \"timetick\": 4, \"target_act\": 1.0, \"unit_acc\": false, \"variable\": \"PS\", \"value\": -7.993340969085693}, {\"word\": \"close\", \"unit\": 913, \"timetick\": 4, \"target_act\": 1.0, \"unit_acc\": false, \"variable\": \"PS\", \"value\": -12.616425514221191}, {\"word\": \"close\", \"unit\": 1148, \"timetick\": 4, \"target_act\": 1.0, \"unit_acc\": false, \"variable\": \"PS\", \"value\": -12.082900047302246}, {\"word\": \"close\", \"unit\": 4, \"timetick\": 5, \"target_act\": 1.0, \"unit_acc\": false, \"variable\": \"PS\", \"value\": -6.069770336151123}, {\"word\": \"close\", \"unit\": 6, \"timetick\": 5, \"target_act\": 1.0, \"unit_acc\": false, \"variable\": \"PS\", \"value\": -12.228205680847168}, {\"word\": \"close\", \"unit\": 29, \"timetick\": 5, \"target_act\": 1.0, \"unit_acc\": false, \"variable\": \"PS\", \"value\": -5.7178168296813965}, {\"word\": \"close\", \"unit\": 46, \"timetick\": 5, \"target_act\": 1.0, \"unit_acc\": false, \"variable\": \"PS\", \"value\": -15.874403953552246}, {\"word\": \"close\", \"unit\": 49, \"timetick\": 5, \"target_act\": 1.0, \"unit_acc\": false, \"variable\": \"PS\", \"value\": -7.904213905334473}, {\"word\": \"close\", \"unit\": 104, \"timetick\": 5, \"target_act\": 1.0, \"unit_acc\": false, \"variable\": \"PS\", \"value\": -13.242217063903809}, {\"word\": \"close\", \"unit\": 209, \"timetick\": 5, \"target_act\": 1.0, \"unit_acc\": false, \"variable\": \"PS\", \"value\": -1.9013826847076416}, {\"word\": \"close\", \"unit\": 236, \"timetick\": 5, \"target_act\": 1.0, \"unit_acc\": false, \"variable\": \"PS\", \"value\": -15.112608909606934}, {\"word\": \"close\", \"unit\": 813, \"timetick\": 5, \"target_act\": 1.0, \"unit_acc\": false, \"variable\": \"PS\", \"value\": -7.982245922088623}, {\"word\": \"close\", \"unit\": 913, \"timetick\": 5, \"target_act\": 1.0, \"unit_acc\": false, \"variable\": \"PS\", \"value\": -11.750658988952637}, {\"word\": \"close\", \"unit\": 1148, \"timetick\": 5, \"target_act\": 1.0, \"unit_acc\": false, \"variable\": \"PS\", \"value\": -12.060249328613281}, {\"word\": \"close\", \"unit\": 4, \"timetick\": 6, \"target_act\": 1.0, \"unit_acc\": false, \"variable\": \"PS\", \"value\": -6.1724138259887695}, {\"word\": \"close\", \"unit\": 6, \"timetick\": 6, \"target_act\": 1.0, \"unit_acc\": false, \"variable\": \"PS\", \"value\": -11.319391250610352}, {\"word\": \"close\", \"unit\": 29, \"timetick\": 6, \"target_act\": 1.0, \"unit_acc\": false, \"variable\": \"PS\", \"value\": -6.093390464782715}, {\"word\": \"close\", \"unit\": 46, \"timetick\": 6, \"target_act\": 1.0, \"unit_acc\": false, \"variable\": \"PS\", \"value\": -15.52383804321289}, {\"word\": \"close\", \"unit\": 49, \"timetick\": 6, \"target_act\": 1.0, \"unit_acc\": false, \"variable\": \"PS\", \"value\": -7.183271408081055}, {\"word\": \"close\", \"unit\": 104, \"timetick\": 6, \"target_act\": 1.0, \"unit_acc\": false, \"variable\": \"PS\", \"value\": -11.790401458740234}, {\"word\": \"close\", \"unit\": 209, \"timetick\": 6, \"target_act\": 1.0, \"unit_acc\": false, \"variable\": \"PS\", \"value\": -2.1101973056793213}, {\"word\": \"close\", \"unit\": 236, \"timetick\": 6, \"target_act\": 1.0, \"unit_acc\": false, \"variable\": \"PS\", \"value\": -15.884836196899414}, {\"word\": \"close\", \"unit\": 813, \"timetick\": 6, \"target_act\": 1.0, \"unit_acc\": false, \"variable\": \"PS\", \"value\": -8.244694709777832}, {\"word\": \"close\", \"unit\": 913, \"timetick\": 6, \"target_act\": 1.0, \"unit_acc\": false, \"variable\": \"PS\", \"value\": -11.24637508392334}, {\"word\": \"close\", \"unit\": 1148, \"timetick\": 6, \"target_act\": 1.0, \"unit_acc\": false, \"variable\": \"PS\", \"value\": -12.389155387878418}, {\"word\": \"close\", \"unit\": 4, \"timetick\": 7, \"target_act\": 1.0, \"unit_acc\": false, \"variable\": \"PS\", \"value\": -6.190391540527344}, {\"word\": \"close\", \"unit\": 6, \"timetick\": 7, \"target_act\": 1.0, \"unit_acc\": false, \"variable\": \"PS\", \"value\": -10.712989807128906}, {\"word\": \"close\", \"unit\": 29, \"timetick\": 7, \"target_act\": 1.0, \"unit_acc\": false, \"variable\": \"PS\", \"value\": -6.694477558135986}, {\"word\": \"close\", \"unit\": 46, \"timetick\": 7, \"target_act\": 1.0, \"unit_acc\": false, \"variable\": \"PS\", \"value\": -15.157587051391602}, {\"word\": \"close\", \"unit\": 49, \"timetick\": 7, \"target_act\": 1.0, \"unit_acc\": false, \"variable\": \"PS\", \"value\": -7.231654644012451}, {\"word\": \"close\", \"unit\": 104, \"timetick\": 7, \"target_act\": 1.0, \"unit_acc\": false, \"variable\": \"PS\", \"value\": -10.667232513427734}, {\"word\": \"close\", \"unit\": 209, \"timetick\": 7, \"target_act\": 1.0, \"unit_acc\": false, \"variable\": \"PS\", \"value\": -2.289787530899048}, {\"word\": \"close\", \"unit\": 236, \"timetick\": 7, \"target_act\": 1.0, \"unit_acc\": false, \"variable\": \"PS\", \"value\": -16.52762222290039}, {\"word\": \"close\", \"unit\": 813, \"timetick\": 7, \"target_act\": 1.0, \"unit_acc\": false, \"variable\": \"PS\", \"value\": -8.80746078491211}, {\"word\": \"close\", \"unit\": 913, \"timetick\": 7, \"target_act\": 1.0, \"unit_acc\": false, \"variable\": \"PS\", \"value\": -10.88518238067627}, {\"word\": \"close\", \"unit\": 1148, \"timetick\": 7, \"target_act\": 1.0, \"unit_acc\": false, \"variable\": \"PS\", \"value\": -12.885032653808594}, {\"word\": \"close\", \"unit\": 4, \"timetick\": 8, \"target_act\": 1.0, \"unit_acc\": false, \"variable\": \"PS\", \"value\": -6.354708194732666}, {\"word\": \"close\", \"unit\": 6, \"timetick\": 8, \"target_act\": 1.0, \"unit_acc\": false, \"variable\": \"PS\", \"value\": -10.370705604553223}, {\"word\": \"close\", \"unit\": 29, \"timetick\": 8, \"target_act\": 1.0, \"unit_acc\": false, \"variable\": \"PS\", \"value\": -6.476128101348877}, {\"word\": \"close\", \"unit\": 46, \"timetick\": 8, \"target_act\": 1.0, \"unit_acc\": false, \"variable\": \"PS\", \"value\": -15.191231727600098}, {\"word\": \"close\", \"unit\": 49, \"timetick\": 8, \"target_act\": 1.0, \"unit_acc\": false, \"variable\": \"PS\", \"value\": -8.088038444519043}, {\"word\": \"close\", \"unit\": 104, \"timetick\": 8, \"target_act\": 1.0, \"unit_acc\": false, \"variable\": \"PS\", \"value\": -10.419081687927246}, {\"word\": \"close\", \"unit\": 209, \"timetick\": 8, \"target_act\": 1.0, \"unit_acc\": false, \"variable\": \"PS\", \"value\": -1.867963433265686}, {\"word\": \"close\", \"unit\": 236, \"timetick\": 8, \"target_act\": 1.0, \"unit_acc\": false, \"variable\": \"PS\", \"value\": -17.086807250976562}, {\"word\": \"close\", \"unit\": 813, \"timetick\": 8, \"target_act\": 1.0, \"unit_acc\": false, \"variable\": \"PS\", \"value\": -9.850532531738281}, {\"word\": \"close\", \"unit\": 913, \"timetick\": 8, \"target_act\": 1.0, \"unit_acc\": false, \"variable\": \"PS\", \"value\": -10.130568504333496}, {\"word\": \"close\", \"unit\": 1148, \"timetick\": 8, \"target_act\": 1.0, \"unit_acc\": false, \"variable\": \"PS\", \"value\": -13.743182182312012}, {\"word\": \"close\", \"unit\": 4, \"timetick\": 9, \"target_act\": 1.0, \"unit_acc\": false, \"variable\": \"PS\", \"value\": -6.851903438568115}, {\"word\": \"close\", \"unit\": 6, \"timetick\": 9, \"target_act\": 1.0, \"unit_acc\": false, \"variable\": \"PS\", \"value\": -10.459360122680664}, {\"word\": \"close\", \"unit\": 29, \"timetick\": 9, \"target_act\": 1.0, \"unit_acc\": false, \"variable\": \"PS\", \"value\": -5.914784908294678}, {\"word\": \"close\", \"unit\": 46, \"timetick\": 9, \"target_act\": 1.0, \"unit_acc\": false, \"variable\": \"PS\", \"value\": -15.49360466003418}, {\"word\": \"close\", \"unit\": 49, \"timetick\": 9, \"target_act\": 1.0, \"unit_acc\": false, \"variable\": \"PS\", \"value\": -8.923382759094238}, {\"word\": \"close\", \"unit\": 104, \"timetick\": 9, \"target_act\": 1.0, \"unit_acc\": false, \"variable\": \"PS\", \"value\": -10.692928314208984}, {\"word\": \"close\", \"unit\": 209, \"timetick\": 9, \"target_act\": 1.0, \"unit_acc\": false, \"variable\": \"PS\", \"value\": -1.6833851337432861}, {\"word\": \"close\", \"unit\": 236, \"timetick\": 9, \"target_act\": 1.0, \"unit_acc\": false, \"variable\": \"PS\", \"value\": -17.529842376708984}, {\"word\": \"close\", \"unit\": 813, \"timetick\": 9, \"target_act\": 1.0, \"unit_acc\": false, \"variable\": \"PS\", \"value\": -10.475900650024414}, {\"word\": \"close\", \"unit\": 913, \"timetick\": 9, \"target_act\": 1.0, \"unit_acc\": false, \"variable\": \"PS\", \"value\": -9.231143951416016}, {\"word\": \"close\", \"unit\": 1148, \"timetick\": 9, \"target_act\": 1.0, \"unit_acc\": false, \"variable\": \"PS\", \"value\": -14.551003456115723}, {\"word\": \"close\", \"unit\": 4, \"timetick\": 10, \"target_act\": 1.0, \"unit_acc\": false, \"variable\": \"PS\", \"value\": -7.375674247741699}, {\"word\": \"close\", \"unit\": 6, \"timetick\": 10, \"target_act\": 1.0, \"unit_acc\": false, \"variable\": \"PS\", \"value\": -10.828557014465332}, {\"word\": \"close\", \"unit\": 29, \"timetick\": 10, \"target_act\": 1.0, \"unit_acc\": false, \"variable\": \"PS\", \"value\": -5.507320404052734}, {\"word\": \"close\", \"unit\": 46, \"timetick\": 10, \"target_act\": 1.0, \"unit_acc\": false, \"variable\": \"PS\", \"value\": -15.648146629333496}, {\"word\": \"close\", \"unit\": 49, \"timetick\": 10, \"target_act\": 1.0, \"unit_acc\": false, \"variable\": \"PS\", \"value\": -9.527962684631348}, {\"word\": \"close\", \"unit\": 104, \"timetick\": 10, \"target_act\": 1.0, \"unit_acc\": false, \"variable\": \"PS\", \"value\": -10.843539237976074}, {\"word\": \"close\", \"unit\": 209, \"timetick\": 10, \"target_act\": 1.0, \"unit_acc\": false, \"variable\": \"PS\", \"value\": -2.0225868225097656}, {\"word\": \"close\", \"unit\": 236, \"timetick\": 10, \"target_act\": 1.0, \"unit_acc\": false, \"variable\": \"PS\", \"value\": -17.7218017578125}, {\"word\": \"close\", \"unit\": 813, \"timetick\": 10, \"target_act\": 1.0, \"unit_acc\": false, \"variable\": \"PS\", \"value\": -10.630088806152344}, {\"word\": \"close\", \"unit\": 913, \"timetick\": 10, \"target_act\": 1.0, \"unit_acc\": false, \"variable\": \"PS\", \"value\": -8.618017196655273}, {\"word\": \"close\", \"unit\": 1148, \"timetick\": 10, \"target_act\": 1.0, \"unit_acc\": false, \"variable\": \"PS\", \"value\": -14.971874237060547}, {\"word\": \"close\", \"unit\": 4, \"timetick\": 11, \"target_act\": 1.0, \"unit_acc\": false, \"variable\": \"PS\", \"value\": -7.761435508728027}, {\"word\": \"close\", \"unit\": 6, \"timetick\": 11, \"target_act\": 1.0, \"unit_acc\": false, \"variable\": \"PS\", \"value\": -11.135506629943848}, {\"word\": \"close\", \"unit\": 29, \"timetick\": 11, \"target_act\": 1.0, \"unit_acc\": false, \"variable\": \"PS\", \"value\": -5.298643589019775}, {\"word\": \"close\", \"unit\": 46, \"timetick\": 11, \"target_act\": 1.0, \"unit_acc\": false, \"variable\": \"PS\", \"value\": -15.751059532165527}, {\"word\": \"close\", \"unit\": 49, \"timetick\": 11, \"target_act\": 1.0, \"unit_acc\": false, \"variable\": \"PS\", \"value\": -9.948915481567383}, {\"word\": \"close\", \"unit\": 104, \"timetick\": 11, \"target_act\": 1.0, \"unit_acc\": false, \"variable\": \"PS\", \"value\": -10.947282791137695}, {\"word\": \"close\", \"unit\": 209, \"timetick\": 11, \"target_act\": 1.0, \"unit_acc\": false, \"variable\": \"PS\", \"value\": -2.4308018684387207}, {\"word\": \"close\", \"unit\": 236, \"timetick\": 11, \"target_act\": 1.0, \"unit_acc\": false, \"variable\": \"PS\", \"value\": -17.820507049560547}, {\"word\": \"close\", \"unit\": 813, \"timetick\": 11, \"target_act\": 1.0, \"unit_acc\": false, \"variable\": \"PS\", \"value\": -10.695402145385742}, {\"word\": \"close\", \"unit\": 913, \"timetick\": 11, \"target_act\": 1.0, \"unit_acc\": false, \"variable\": \"PS\", \"value\": -8.324522018432617}, {\"word\": \"close\", \"unit\": 1148, \"timetick\": 11, \"target_act\": 1.0, \"unit_acc\": false, \"variable\": \"PS\", \"value\": -15.235725402832031}, {\"word\": \"close\", \"unit\": 4, \"timetick\": 12, \"target_act\": 1.0, \"unit_acc\": false, \"variable\": \"PS\", \"value\": -7.980142593383789}, {\"word\": \"close\", \"unit\": 6, \"timetick\": 12, \"target_act\": 1.0, \"unit_acc\": false, \"variable\": \"PS\", \"value\": -11.317432403564453}, {\"word\": \"close\", \"unit\": 29, \"timetick\": 12, \"target_act\": 1.0, \"unit_acc\": false, \"variable\": \"PS\", \"value\": -5.311991214752197}, {\"word\": \"close\", \"unit\": 46, \"timetick\": 12, \"target_act\": 1.0, \"unit_acc\": false, \"variable\": \"PS\", \"value\": -15.879634857177734}, {\"word\": \"close\", \"unit\": 49, \"timetick\": 12, \"target_act\": 1.0, \"unit_acc\": false, \"variable\": \"PS\", \"value\": -10.22276496887207}, {\"word\": \"close\", \"unit\": 104, \"timetick\": 12, \"target_act\": 1.0, \"unit_acc\": false, \"variable\": \"PS\", \"value\": -11.136045455932617}, {\"word\": \"close\", \"unit\": 209, \"timetick\": 12, \"target_act\": 1.0, \"unit_acc\": false, \"variable\": \"PS\", \"value\": -2.724236011505127}, {\"word\": \"close\", \"unit\": 236, \"timetick\": 12, \"target_act\": 1.0, \"unit_acc\": false, \"variable\": \"PS\", \"value\": -17.90540885925293}, {\"word\": \"close\", \"unit\": 813, \"timetick\": 12, \"target_act\": 1.0, \"unit_acc\": false, \"variable\": \"PS\", \"value\": -10.857282638549805}, {\"word\": \"close\", \"unit\": 913, \"timetick\": 12, \"target_act\": 1.0, \"unit_acc\": false, \"variable\": \"PS\", \"value\": -8.295636177062988}, {\"word\": \"close\", \"unit\": 1148, \"timetick\": 12, \"target_act\": 1.0, \"unit_acc\": false, \"variable\": \"PS\", \"value\": -15.405220985412598}, {\"word\": \"close\", \"unit\": 4, \"timetick\": 0, \"target_act\": 1.0, \"unit_acc\": false, \"variable\": \"CS\", \"value\": 0.0}, {\"word\": \"close\", \"unit\": 6, \"timetick\": 0, \"target_act\": 1.0, \"unit_acc\": false, \"variable\": \"CS\", \"value\": 0.0}, {\"word\": \"close\", \"unit\": 29, \"timetick\": 0, \"target_act\": 1.0, \"unit_acc\": false, \"variable\": \"CS\", \"value\": 0.0}, {\"word\": \"close\", \"unit\": 46, \"timetick\": 0, \"target_act\": 1.0, \"unit_acc\": false, \"variable\": \"CS\", \"value\": 0.0}, {\"word\": \"close\", \"unit\": 49, \"timetick\": 0, \"target_act\": 1.0, \"unit_acc\": false, \"variable\": \"CS\", \"value\": 0.0}, {\"word\": \"close\", \"unit\": 104, \"timetick\": 0, \"target_act\": 1.0, \"unit_acc\": false, \"variable\": \"CS\", \"value\": 0.0}, {\"word\": \"close\", \"unit\": 209, \"timetick\": 0, \"target_act\": 1.0, \"unit_acc\": false, \"variable\": \"CS\", \"value\": 0.0}, {\"word\": \"close\", \"unit\": 236, \"timetick\": 0, \"target_act\": 1.0, \"unit_acc\": false, \"variable\": \"CS\", \"value\": 0.0}, {\"word\": \"close\", \"unit\": 813, \"timetick\": 0, \"target_act\": 1.0, \"unit_acc\": false, \"variable\": \"CS\", \"value\": 0.0}, {\"word\": \"close\", \"unit\": 913, \"timetick\": 0, \"target_act\": 1.0, \"unit_acc\": false, \"variable\": \"CS\", \"value\": 0.0}, {\"word\": \"close\", \"unit\": 1148, \"timetick\": 0, \"target_act\": 1.0, \"unit_acc\": false, \"variable\": \"CS\", \"value\": 0.0}, {\"word\": \"close\", \"unit\": 4, \"timetick\": 1, \"target_act\": 1.0, \"unit_acc\": false, \"variable\": \"CS\", \"value\": -7.39089822769165}, {\"word\": \"close\", \"unit\": 6, \"timetick\": 1, \"target_act\": 1.0, \"unit_acc\": false, \"variable\": \"CS\", \"value\": -9.907245635986328}, {\"word\": \"close\", \"unit\": 29, \"timetick\": 1, \"target_act\": 1.0, \"unit_acc\": false, \"variable\": \"CS\", \"value\": -12.177924156188965}, {\"word\": \"close\", \"unit\": 46, \"timetick\": 1, \"target_act\": 1.0, \"unit_acc\": false, \"variable\": \"CS\", \"value\": -13.238645553588867}, {\"word\": \"close\", \"unit\": 49, \"timetick\": 1, \"target_act\": 1.0, \"unit_acc\": false, \"variable\": \"CS\", \"value\": -5.264645576477051}, {\"word\": \"close\", \"unit\": 104, \"timetick\": 1, \"target_act\": 1.0, \"unit_acc\": false, \"variable\": \"CS\", \"value\": -12.775521278381348}, {\"word\": \"close\", \"unit\": 209, \"timetick\": 1, \"target_act\": 1.0, \"unit_acc\": false, \"variable\": \"CS\", \"value\": -8.391533851623535}, {\"word\": \"close\", \"unit\": 236, \"timetick\": 1, \"target_act\": 1.0, \"unit_acc\": false, \"variable\": \"CS\", \"value\": -16.083078384399414}, {\"word\": \"close\", \"unit\": 813, \"timetick\": 1, \"target_act\": 1.0, \"unit_acc\": false, \"variable\": \"CS\", \"value\": -9.42509937286377}, {\"word\": \"close\", \"unit\": 913, \"timetick\": 1, \"target_act\": 1.0, \"unit_acc\": false, \"variable\": \"CS\", \"value\": -13.2737398147583}, {\"word\": \"close\", \"unit\": 1148, \"timetick\": 1, \"target_act\": 1.0, \"unit_acc\": false, \"variable\": \"CS\", \"value\": -8.11453628540039}, {\"word\": \"close\", \"unit\": 4, \"timetick\": 2, \"target_act\": 1.0, \"unit_acc\": false, \"variable\": \"CS\", \"value\": 0.05192868411540985}, {\"word\": \"close\", \"unit\": 6, \"timetick\": 2, \"target_act\": 1.0, \"unit_acc\": false, \"variable\": \"CS\", \"value\": -1.4613640308380127}, {\"word\": \"close\", \"unit\": 29, \"timetick\": 2, \"target_act\": 1.0, \"unit_acc\": false, \"variable\": \"CS\", \"value\": -0.0476088672876358}, {\"word\": \"close\", \"unit\": 46, \"timetick\": 2, \"target_act\": 1.0, \"unit_acc\": false, \"variable\": \"CS\", \"value\": -0.5805755853652954}, {\"word\": \"close\", \"unit\": 49, \"timetick\": 2, \"target_act\": 1.0, \"unit_acc\": false, \"variable\": \"CS\", \"value\": -1.097305178642273}, {\"word\": \"close\", \"unit\": 104, \"timetick\": 2, \"target_act\": 1.0, \"unit_acc\": false, \"variable\": \"CS\", \"value\": 0.23852966725826263}, {\"word\": \"close\", \"unit\": 209, \"timetick\": 2, \"target_act\": 1.0, \"unit_acc\": false, \"variable\": \"CS\", \"value\": -0.4836271107196808}, {\"word\": \"close\", \"unit\": 236, \"timetick\": 2, \"target_act\": 1.0, \"unit_acc\": false, \"variable\": \"CS\", \"value\": 0.2841365337371826}, {\"word\": \"close\", \"unit\": 813, \"timetick\": 2, \"target_act\": 1.0, \"unit_acc\": false, \"variable\": \"CS\", \"value\": -0.2636236250400543}, {\"word\": \"close\", \"unit\": 913, \"timetick\": 2, \"target_act\": 1.0, \"unit_acc\": false, \"variable\": \"CS\", \"value\": -0.2698013484477997}, {\"word\": \"close\", \"unit\": 1148, \"timetick\": 2, \"target_act\": 1.0, \"unit_acc\": false, \"variable\": \"CS\", \"value\": 0.06997359544038773}, {\"word\": \"close\", \"unit\": 4, \"timetick\": 3, \"target_act\": 1.0, \"unit_acc\": false, \"variable\": \"CS\", \"value\": -0.04228401929140091}, {\"word\": \"close\", \"unit\": 6, \"timetick\": 3, \"target_act\": 1.0, \"unit_acc\": false, \"variable\": \"CS\", \"value\": -1.4536913633346558}, {\"word\": \"close\", \"unit\": 29, \"timetick\": 3, \"target_act\": 1.0, \"unit_acc\": false, \"variable\": \"CS\", \"value\": 0.016333499923348427}, {\"word\": \"close\", \"unit\": 46, \"timetick\": 3, \"target_act\": 1.0, \"unit_acc\": false, \"variable\": \"CS\", \"value\": -0.6379570364952087}, {\"word\": \"close\", \"unit\": 49, \"timetick\": 3, \"target_act\": 1.0, \"unit_acc\": false, \"variable\": \"CS\", \"value\": -0.9785102009773254}, {\"word\": \"close\", \"unit\": 104, \"timetick\": 3, \"target_act\": 1.0, \"unit_acc\": false, \"variable\": \"CS\", \"value\": 0.07039308547973633}, {\"word\": \"close\", \"unit\": 209, \"timetick\": 3, \"target_act\": 1.0, \"unit_acc\": false, \"variable\": \"CS\", \"value\": -0.4573770761489868}, {\"word\": \"close\", \"unit\": 236, \"timetick\": 3, \"target_act\": 1.0, \"unit_acc\": false, \"variable\": \"CS\", \"value\": 0.18921563029289246}, {\"word\": \"close\", \"unit\": 813, \"timetick\": 3, \"target_act\": 1.0, \"unit_acc\": false, \"variable\": \"CS\", \"value\": -0.3937169313430786}, {\"word\": \"close\", \"unit\": 913, \"timetick\": 3, \"target_act\": 1.0, \"unit_acc\": false, \"variable\": \"CS\", \"value\": -0.4815673232078552}, {\"word\": \"close\", \"unit\": 1148, \"timetick\": 3, \"target_act\": 1.0, \"unit_acc\": false, \"variable\": \"CS\", \"value\": 0.06995253264904022}, {\"word\": \"close\", \"unit\": 4, \"timetick\": 4, \"target_act\": 1.0, \"unit_acc\": false, \"variable\": \"CS\", \"value\": -0.19030149281024933}, {\"word\": \"close\", \"unit\": 6, \"timetick\": 4, \"target_act\": 1.0, \"unit_acc\": false, \"variable\": \"CS\", \"value\": -1.4647941589355469}, {\"word\": \"close\", \"unit\": 29, \"timetick\": 4, \"target_act\": 1.0, \"unit_acc\": false, \"variable\": \"CS\", \"value\": -0.0064141713082790375}, {\"word\": \"close\", \"unit\": 46, \"timetick\": 4, \"target_act\": 1.0, \"unit_acc\": false, \"variable\": \"CS\", \"value\": -0.8265340328216553}, {\"word\": \"close\", \"unit\": 49, \"timetick\": 4, \"target_act\": 1.0, \"unit_acc\": false, \"variable\": \"CS\", \"value\": -0.8715264797210693}, {\"word\": \"close\", \"unit\": 104, \"timetick\": 4, \"target_act\": 1.0, \"unit_acc\": false, \"variable\": \"CS\", \"value\": -0.2038094699382782}, {\"word\": \"close\", \"unit\": 209, \"timetick\": 4, \"target_act\": 1.0, \"unit_acc\": false, \"variable\": \"CS\", \"value\": -0.4879305362701416}, {\"word\": \"close\", \"unit\": 236, \"timetick\": 4, \"target_act\": 1.0, \"unit_acc\": false, \"variable\": \"CS\", \"value\": 0.004375255201011896}, {\"word\": \"close\", \"unit\": 813, \"timetick\": 4, \"target_act\": 1.0, \"unit_acc\": false, \"variable\": \"CS\", \"value\": -0.5808168649673462}, {\"word\": \"close\", \"unit\": 913, \"timetick\": 4, \"target_act\": 1.0, \"unit_acc\": false, \"variable\": \"CS\", \"value\": -0.7121354341506958}, {\"word\": \"close\", \"unit\": 1148, \"timetick\": 4, \"target_act\": 1.0, \"unit_acc\": false, \"variable\": \"CS\", \"value\": -0.0010247132740914822}, {\"word\": \"close\", \"unit\": 4, \"timetick\": 5, \"target_act\": 1.0, \"unit_acc\": false, \"variable\": \"CS\", \"value\": -0.45658424496650696}, {\"word\": \"close\", \"unit\": 6, \"timetick\": 5, \"target_act\": 1.0, \"unit_acc\": false, \"variable\": \"CS\", \"value\": -1.6387909650802612}, {\"word\": \"close\", \"unit\": 29, \"timetick\": 5, \"target_act\": 1.0, \"unit_acc\": false, \"variable\": \"CS\", \"value\": -0.272298127412796}, {\"word\": \"close\", \"unit\": 46, \"timetick\": 5, \"target_act\": 1.0, \"unit_acc\": false, \"variable\": \"CS\", \"value\": -1.270423173904419}, {\"word\": \"close\", \"unit\": 49, \"timetick\": 5, \"target_act\": 1.0, \"unit_acc\": false, \"variable\": \"CS\", \"value\": -0.9168238639831543}, {\"word\": \"close\", \"unit\": 104, \"timetick\": 5, \"target_act\": 1.0, \"unit_acc\": false, \"variable\": \"CS\", \"value\": -0.7917324900627136}, {\"word\": \"close\", \"unit\": 209, \"timetick\": 5, \"target_act\": 1.0, \"unit_acc\": false, \"variable\": \"CS\", \"value\": -0.5640276074409485}, {\"word\": \"close\", \"unit\": 236, \"timetick\": 5, \"target_act\": 1.0, \"unit_acc\": false, \"variable\": \"CS\", \"value\": -0.24858452379703522}, {\"word\": \"close\", \"unit\": 813, \"timetick\": 5, \"target_act\": 1.0, \"unit_acc\": false, \"variable\": \"CS\", \"value\": -0.9884455800056458}, {\"word\": \"close\", \"unit\": 913, \"timetick\": 5, \"target_act\": 1.0, \"unit_acc\": false, \"variable\": \"CS\", \"value\": -1.224815011024475}, {\"word\": \"close\", \"unit\": 1148, \"timetick\": 5, \"target_act\": 1.0, \"unit_acc\": false, \"variable\": \"CS\", \"value\": -0.3540895879268646}, {\"word\": \"close\", \"unit\": 4, \"timetick\": 6, \"target_act\": 1.0, \"unit_acc\": false, \"variable\": \"CS\", \"value\": -0.9354525208473206}, {\"word\": \"close\", \"unit\": 6, \"timetick\": 6, \"target_act\": 1.0, \"unit_acc\": false, \"variable\": \"CS\", \"value\": -2.235189437866211}, {\"word\": \"close\", \"unit\": 29, \"timetick\": 6, \"target_act\": 1.0, \"unit_acc\": false, \"variable\": \"CS\", \"value\": -0.9663466811180115}, {\"word\": \"close\", \"unit\": 46, \"timetick\": 6, \"target_act\": 1.0, \"unit_acc\": false, \"variable\": \"CS\", \"value\": -2.1017987728118896}, {\"word\": \"close\", \"unit\": 49, \"timetick\": 6, \"target_act\": 1.0, \"unit_acc\": false, \"variable\": \"CS\", \"value\": -1.3329060077667236}, {\"word\": \"close\", \"unit\": 104, \"timetick\": 6, \"target_act\": 1.0, \"unit_acc\": false, \"variable\": \"CS\", \"value\": -1.9038015604019165}, {\"word\": \"close\", \"unit\": 209, \"timetick\": 6, \"target_act\": 1.0, \"unit_acc\": false, \"variable\": \"CS\", \"value\": -0.8076416254043579}, {\"word\": \"close\", \"unit\": 236, \"timetick\": 6, \"target_act\": 1.0, \"unit_acc\": false, \"variable\": \"CS\", \"value\": -0.6281570792198181}, {\"word\": \"close\", \"unit\": 813, \"timetick\": 6, \"target_act\": 1.0, \"unit_acc\": false, \"variable\": \"CS\", \"value\": -1.897339105606079}, {\"word\": \"close\", \"unit\": 913, \"timetick\": 6, \"target_act\": 1.0, \"unit_acc\": false, \"variable\": \"CS\", \"value\": -2.3591768741607666}, {\"word\": \"close\", \"unit\": 1148, \"timetick\": 6, \"target_act\": 1.0, \"unit_acc\": false, \"variable\": \"CS\", \"value\": -1.3508912324905396}, {\"word\": \"close\", \"unit\": 4, \"timetick\": 7, \"target_act\": 1.0, \"unit_acc\": false, \"variable\": \"CS\", \"value\": -1.5804415941238403}, {\"word\": \"close\", \"unit\": 6, \"timetick\": 7, \"target_act\": 1.0, \"unit_acc\": false, \"variable\": \"CS\", \"value\": -3.0227439403533936}, {\"word\": \"close\", \"unit\": 29, \"timetick\": 7, \"target_act\": 1.0, \"unit_acc\": false, \"variable\": \"CS\", \"value\": -1.9781090021133423}, {\"word\": \"close\", \"unit\": 46, \"timetick\": 7, \"target_act\": 1.0, \"unit_acc\": false, \"variable\": \"CS\", \"value\": -3.202723979949951}, {\"word\": \"close\", \"unit\": 49, \"timetick\": 7, \"target_act\": 1.0, \"unit_acc\": false, \"variable\": \"CS\", \"value\": -1.862491250038147}, {\"word\": \"close\", \"unit\": 104, \"timetick\": 7, \"target_act\": 1.0, \"unit_acc\": false, \"variable\": \"CS\", \"value\": -3.367479085922241}, {\"word\": \"close\", \"unit\": 209, \"timetick\": 7, \"target_act\": 1.0, \"unit_acc\": false, \"variable\": \"CS\", \"value\": -1.2779098749160767}, {\"word\": \"close\", \"unit\": 236, \"timetick\": 7, \"target_act\": 1.0, \"unit_acc\": false, \"variable\": \"CS\", \"value\": -1.5305534601211548}, {\"word\": \"close\", \"unit\": 813, \"timetick\": 7, \"target_act\": 1.0, \"unit_acc\": false, \"variable\": \"CS\", \"value\": -3.2358474731445312}, {\"word\": \"close\", \"unit\": 913, \"timetick\": 7, \"target_act\": 1.0, \"unit_acc\": false, \"variable\": \"CS\", \"value\": -3.891803741455078}, {\"word\": \"close\", \"unit\": 1148, \"timetick\": 7, \"target_act\": 1.0, \"unit_acc\": false, \"variable\": \"CS\", \"value\": -2.8737893104553223}, {\"word\": \"close\", \"unit\": 4, \"timetick\": 8, \"target_act\": 1.0, \"unit_acc\": false, \"variable\": \"CS\", \"value\": -2.323180675506592}, {\"word\": \"close\", \"unit\": 6, \"timetick\": 8, \"target_act\": 1.0, \"unit_acc\": false, \"variable\": \"CS\", \"value\": -3.77593994140625}, {\"word\": \"close\", \"unit\": 29, \"timetick\": 8, \"target_act\": 1.0, \"unit_acc\": false, \"variable\": \"CS\", \"value\": -3.1200549602508545}, {\"word\": \"close\", \"unit\": 46, \"timetick\": 8, \"target_act\": 1.0, \"unit_acc\": false, \"variable\": \"CS\", \"value\": -4.278293609619141}, {\"word\": \"close\", \"unit\": 49, \"timetick\": 8, \"target_act\": 1.0, \"unit_acc\": false, \"variable\": \"CS\", \"value\": -2.1676597595214844}, {\"word\": \"close\", \"unit\": 104, \"timetick\": 8, \"target_act\": 1.0, \"unit_acc\": false, \"variable\": \"CS\", \"value\": -4.731637954711914}, {\"word\": \"close\", \"unit\": 209, \"timetick\": 8, \"target_act\": 1.0, \"unit_acc\": false, \"variable\": \"CS\", \"value\": -1.8632681369781494}, {\"word\": \"close\", \"unit\": 236, \"timetick\": 8, \"target_act\": 1.0, \"unit_acc\": false, \"variable\": \"CS\", \"value\": -2.814164400100708}, {\"word\": \"close\", \"unit\": 813, \"timetick\": 8, \"target_act\": 1.0, \"unit_acc\": false, \"variable\": \"CS\", \"value\": -4.550976276397705}, {\"word\": \"close\", \"unit\": 913, \"timetick\": 8, \"target_act\": 1.0, \"unit_acc\": false, \"variable\": \"CS\", \"value\": -5.399101257324219}, {\"word\": \"close\", \"unit\": 1148, \"timetick\": 8, \"target_act\": 1.0, \"unit_acc\": false, \"variable\": \"CS\", \"value\": -4.2649431228637695}, {\"word\": \"close\", \"unit\": 4, \"timetick\": 9, \"target_act\": 1.0, \"unit_acc\": false, \"variable\": \"CS\", \"value\": -2.934422731399536}, {\"word\": \"close\", \"unit\": 6, \"timetick\": 9, \"target_act\": 1.0, \"unit_acc\": false, \"variable\": \"CS\", \"value\": -4.45050573348999}, {\"word\": \"close\", \"unit\": 29, \"timetick\": 9, \"target_act\": 1.0, \"unit_acc\": false, \"variable\": \"CS\", \"value\": -4.217509746551514}, {\"word\": \"close\", \"unit\": 46, \"timetick\": 9, \"target_act\": 1.0, \"unit_acc\": false, \"variable\": \"CS\", \"value\": -5.147483825683594}, {\"word\": \"close\", \"unit\": 49, \"timetick\": 9, \"target_act\": 1.0, \"unit_acc\": false, \"variable\": \"CS\", \"value\": -2.308037757873535}, {\"word\": \"close\", \"unit\": 104, \"timetick\": 9, \"target_act\": 1.0, \"unit_acc\": false, \"variable\": \"CS\", \"value\": -5.76064920425415}, {\"word\": \"close\", \"unit\": 209, \"timetick\": 9, \"target_act\": 1.0, \"unit_acc\": false, \"variable\": \"CS\", \"value\": -2.453030824661255}, {\"word\": \"close\", \"unit\": 236, \"timetick\": 9, \"target_act\": 1.0, \"unit_acc\": false, \"variable\": \"CS\", \"value\": -4.02202844619751}, {\"word\": \"close\", \"unit\": 813, \"timetick\": 9, \"target_act\": 1.0, \"unit_acc\": false, \"variable\": \"CS\", \"value\": -5.634729385375977}, {\"word\": \"close\", \"unit\": 913, \"timetick\": 9, \"target_act\": 1.0, \"unit_acc\": false, \"variable\": \"CS\", \"value\": -6.649518013000488}, {\"word\": \"close\", \"unit\": 1148, \"timetick\": 9, \"target_act\": 1.0, \"unit_acc\": false, \"variable\": \"CS\", \"value\": -5.322149276733398}, {\"word\": \"close\", \"unit\": 4, \"timetick\": 10, \"target_act\": 1.0, \"unit_acc\": false, \"variable\": \"CS\", \"value\": -3.2451436519622803}, {\"word\": \"close\", \"unit\": 6, \"timetick\": 10, \"target_act\": 1.0, \"unit_acc\": false, \"variable\": \"CS\", \"value\": -4.976264476776123}, {\"word\": \"close\", \"unit\": 29, \"timetick\": 10, \"target_act\": 1.0, \"unit_acc\": false, \"variable\": \"CS\", \"value\": -5.183837890625}, {\"word\": \"close\", \"unit\": 46, \"timetick\": 10, \"target_act\": 1.0, \"unit_acc\": false, \"variable\": \"CS\", \"value\": -5.77839994430542}, {\"word\": \"close\", \"unit\": 49, \"timetick\": 10, \"target_act\": 1.0, \"unit_acc\": false, \"variable\": \"CS\", \"value\": -2.4826343059539795}, {\"word\": \"close\", \"unit\": 104, \"timetick\": 10, \"target_act\": 1.0, \"unit_acc\": false, \"variable\": \"CS\", \"value\": -6.6108784675598145}, {\"word\": \"close\", \"unit\": 209, \"timetick\": 10, \"target_act\": 1.0, \"unit_acc\": false, \"variable\": \"CS\", \"value\": -3.03144907951355}, {\"word\": \"close\", \"unit\": 236, \"timetick\": 10, \"target_act\": 1.0, \"unit_acc\": false, \"variable\": \"CS\", \"value\": -5.017762660980225}, {\"word\": \"close\", \"unit\": 813, \"timetick\": 10, \"target_act\": 1.0, \"unit_acc\": false, \"variable\": \"CS\", \"value\": -6.498106479644775}, {\"word\": \"close\", \"unit\": 913, \"timetick\": 10, \"target_act\": 1.0, \"unit_acc\": false, \"variable\": \"CS\", \"value\": -7.665951728820801}, {\"word\": \"close\", \"unit\": 1148, \"timetick\": 10, \"target_act\": 1.0, \"unit_acc\": false, \"variable\": \"CS\", \"value\": -6.209181785583496}, {\"word\": \"close\", \"unit\": 4, \"timetick\": 11, \"target_act\": 1.0, \"unit_acc\": false, \"variable\": \"CS\", \"value\": -3.325220823287964}, {\"word\": \"close\", \"unit\": 6, \"timetick\": 11, \"target_act\": 1.0, \"unit_acc\": false, \"variable\": \"CS\", \"value\": -5.352859020233154}, {\"word\": \"close\", \"unit\": 29, \"timetick\": 11, \"target_act\": 1.0, \"unit_acc\": false, \"variable\": \"CS\", \"value\": -5.9739179611206055}, {\"word\": \"close\", \"unit\": 46, \"timetick\": 11, \"target_act\": 1.0, \"unit_acc\": false, \"variable\": \"CS\", \"value\": -6.207251071929932}, {\"word\": \"close\", \"unit\": 49, \"timetick\": 11, \"target_act\": 1.0, \"unit_acc\": false, \"variable\": \"CS\", \"value\": -2.7062578201293945}, {\"word\": \"close\", \"unit\": 104, \"timetick\": 11, \"target_act\": 1.0, \"unit_acc\": false, \"variable\": \"CS\", \"value\": -7.331954479217529}, {\"word\": \"close\", \"unit\": 209, \"timetick\": 11, \"target_act\": 1.0, \"unit_acc\": false, \"variable\": \"CS\", \"value\": -3.5496201515197754}, {\"word\": \"close\", \"unit\": 236, \"timetick\": 11, \"target_act\": 1.0, \"unit_acc\": false, \"variable\": \"CS\", \"value\": -5.8022942543029785}, {\"word\": \"close\", \"unit\": 813, \"timetick\": 11, \"target_act\": 1.0, \"unit_acc\": false, \"variable\": \"CS\", \"value\": -7.166554927825928}, {\"word\": \"close\", \"unit\": 913, \"timetick\": 11, \"target_act\": 1.0, \"unit_acc\": false, \"variable\": \"CS\", \"value\": -8.49146842956543}, {\"word\": \"close\", \"unit\": 1148, \"timetick\": 11, \"target_act\": 1.0, \"unit_acc\": false, \"variable\": \"CS\", \"value\": -6.942683219909668}, {\"word\": \"close\", \"unit\": 4, \"timetick\": 12, \"target_act\": 1.0, \"unit_acc\": false, \"variable\": \"CS\", \"value\": -3.295905113220215}, {\"word\": \"close\", \"unit\": 6, \"timetick\": 12, \"target_act\": 1.0, \"unit_acc\": false, \"variable\": \"CS\", \"value\": -5.6214518547058105}, {\"word\": \"close\", \"unit\": 29, \"timetick\": 12, \"target_act\": 1.0, \"unit_acc\": false, \"variable\": \"CS\", \"value\": -6.5679521560668945}, {\"word\": \"close\", \"unit\": 46, \"timetick\": 12, \"target_act\": 1.0, \"unit_acc\": false, \"variable\": \"CS\", \"value\": -6.491334438323975}, {\"word\": \"close\", \"unit\": 49, \"timetick\": 12, \"target_act\": 1.0, \"unit_acc\": false, \"variable\": \"CS\", \"value\": -2.933317184448242}, {\"word\": \"close\", \"unit\": 104, \"timetick\": 12, \"target_act\": 1.0, \"unit_acc\": false, \"variable\": \"CS\", \"value\": -7.90749454498291}, {\"word\": \"close\", \"unit\": 209, \"timetick\": 12, \"target_act\": 1.0, \"unit_acc\": false, \"variable\": \"CS\", \"value\": -3.960341215133667}, {\"word\": \"close\", \"unit\": 236, \"timetick\": 12, \"target_act\": 1.0, \"unit_acc\": false, \"variable\": \"CS\", \"value\": -6.401405334472656}, {\"word\": \"close\", \"unit\": 813, \"timetick\": 12, \"target_act\": 1.0, \"unit_acc\": false, \"variable\": \"CS\", \"value\": -7.655735969543457}, {\"word\": \"close\", \"unit\": 913, \"timetick\": 12, \"target_act\": 1.0, \"unit_acc\": false, \"variable\": \"CS\", \"value\": -9.128133773803711}, {\"word\": \"close\", \"unit\": 1148, \"timetick\": 12, \"target_act\": 1.0, \"unit_acc\": false, \"variable\": \"CS\", \"value\": -7.495550632476807}, {\"word\": \"close\", \"unit\": 4, \"timetick\": 0, \"target_act\": 1.0, \"unit_acc\": false, \"variable\": \"OS\", \"value\": 0.0}, {\"word\": \"close\", \"unit\": 6, \"timetick\": 0, \"target_act\": 1.0, \"unit_acc\": false, \"variable\": \"OS\", \"value\": 0.0}, {\"word\": \"close\", \"unit\": 29, \"timetick\": 0, \"target_act\": 1.0, \"unit_acc\": false, \"variable\": \"OS\", \"value\": 0.0}, {\"word\": \"close\", \"unit\": 46, \"timetick\": 0, \"target_act\": 1.0, \"unit_acc\": false, \"variable\": \"OS\", \"value\": 0.0}, {\"word\": \"close\", \"unit\": 49, \"timetick\": 0, \"target_act\": 1.0, \"unit_acc\": false, \"variable\": \"OS\", \"value\": 0.0}, {\"word\": \"close\", \"unit\": 104, \"timetick\": 0, \"target_act\": 1.0, \"unit_acc\": false, \"variable\": \"OS\", \"value\": 0.0}, {\"word\": \"close\", \"unit\": 209, \"timetick\": 0, \"target_act\": 1.0, \"unit_acc\": false, \"variable\": \"OS\", \"value\": 0.0}, {\"word\": \"close\", \"unit\": 236, \"timetick\": 0, \"target_act\": 1.0, \"unit_acc\": false, \"variable\": \"OS\", \"value\": 0.0}, {\"word\": \"close\", \"unit\": 813, \"timetick\": 0, \"target_act\": 1.0, \"unit_acc\": false, \"variable\": \"OS\", \"value\": 0.0}, {\"word\": \"close\", \"unit\": 913, \"timetick\": 0, \"target_act\": 1.0, \"unit_acc\": false, \"variable\": \"OS\", \"value\": 0.0}, {\"word\": \"close\", \"unit\": 1148, \"timetick\": 0, \"target_act\": 1.0, \"unit_acc\": false, \"variable\": \"OS\", \"value\": 0.0}, {\"word\": \"close\", \"unit\": 4, \"timetick\": 1, \"target_act\": 1.0, \"unit_acc\": false, \"variable\": \"OS\", \"value\": -12.89537525177002}, {\"word\": \"close\", \"unit\": 6, \"timetick\": 1, \"target_act\": 1.0, \"unit_acc\": false, \"variable\": \"OS\", \"value\": -23.233423233032227}, {\"word\": \"close\", \"unit\": 29, \"timetick\": 1, \"target_act\": 1.0, \"unit_acc\": false, \"variable\": \"OS\", \"value\": -24.48691177368164}, {\"word\": \"close\", \"unit\": 46, \"timetick\": 1, \"target_act\": 1.0, \"unit_acc\": false, \"variable\": \"OS\", \"value\": -20.01410484313965}, {\"word\": \"close\", \"unit\": 49, \"timetick\": 1, \"target_act\": 1.0, \"unit_acc\": false, \"variable\": \"OS\", \"value\": -14.529515266418457}, {\"word\": \"close\", \"unit\": 104, \"timetick\": 1, \"target_act\": 1.0, \"unit_acc\": false, \"variable\": \"OS\", \"value\": -5.241445064544678}, {\"word\": \"close\", \"unit\": 209, \"timetick\": 1, \"target_act\": 1.0, \"unit_acc\": false, \"variable\": \"OS\", \"value\": 1.3073043823242188}, {\"word\": \"close\", \"unit\": 236, \"timetick\": 1, \"target_act\": 1.0, \"unit_acc\": false, \"variable\": \"OS\", \"value\": -17.935178756713867}, {\"word\": \"close\", \"unit\": 813, \"timetick\": 1, \"target_act\": 1.0, \"unit_acc\": false, \"variable\": \"OS\", \"value\": -18.8138427734375}, {\"word\": \"close\", \"unit\": 913, \"timetick\": 1, \"target_act\": 1.0, \"unit_acc\": false, \"variable\": \"OS\", \"value\": -26.452943801879883}, {\"word\": \"close\", \"unit\": 1148, \"timetick\": 1, \"target_act\": 1.0, \"unit_acc\": false, \"variable\": \"OS\", \"value\": -10.76234245300293}, {\"word\": \"close\", \"unit\": 4, \"timetick\": 2, \"target_act\": 1.0, \"unit_acc\": false, \"variable\": \"OS\", \"value\": -6.029954433441162}, {\"word\": \"close\", \"unit\": 6, \"timetick\": 2, \"target_act\": 1.0, \"unit_acc\": false, \"variable\": \"OS\", \"value\": -13.676470756530762}, {\"word\": \"close\", \"unit\": 29, \"timetick\": 2, \"target_act\": 1.0, \"unit_acc\": false, \"variable\": \"OS\", \"value\": -11.763191223144531}, {\"word\": \"close\", \"unit\": 46, \"timetick\": 2, \"target_act\": 1.0, \"unit_acc\": false, \"variable\": \"OS\", \"value\": -8.821246147155762}, {\"word\": \"close\", \"unit\": 49, \"timetick\": 2, \"target_act\": 1.0, \"unit_acc\": false, \"variable\": \"OS\", \"value\": -8.395697593688965}, {\"word\": \"close\", \"unit\": 104, \"timetick\": 2, \"target_act\": 1.0, \"unit_acc\": false, \"variable\": \"OS\", \"value\": -5.060480117797852}, {\"word\": \"close\", \"unit\": 209, \"timetick\": 2, \"target_act\": 1.0, \"unit_acc\": false, \"variable\": \"OS\", \"value\": 3.0219943523406982}, {\"word\": \"close\", \"unit\": 236, \"timetick\": 2, \"target_act\": 1.0, \"unit_acc\": false, \"variable\": \"OS\", \"value\": -10.977587699890137}, {\"word\": \"close\", \"unit\": 813, \"timetick\": 2, \"target_act\": 1.0, \"unit_acc\": false, \"variable\": \"OS\", \"value\": -9.251355171203613}, {\"word\": \"close\", \"unit\": 913, \"timetick\": 2, \"target_act\": 1.0, \"unit_acc\": false, \"variable\": \"OS\", \"value\": -12.334149360656738}, {\"word\": \"close\", \"unit\": 1148, \"timetick\": 2, \"target_act\": 1.0, \"unit_acc\": false, \"variable\": \"OS\", \"value\": -4.364976406097412}, {\"word\": \"close\", \"unit\": 4, \"timetick\": 3, \"target_act\": 1.0, \"unit_acc\": false, \"variable\": \"OS\", \"value\": -3.974207639694214}, {\"word\": \"close\", \"unit\": 6, \"timetick\": 3, \"target_act\": 1.0, \"unit_acc\": false, \"variable\": \"OS\", \"value\": -10.25187873840332}, {\"word\": \"close\", \"unit\": 29, \"timetick\": 3, \"target_act\": 1.0, \"unit_acc\": false, \"variable\": \"OS\", \"value\": -7.546858310699463}, {\"word\": \"close\", \"unit\": 46, \"timetick\": 3, \"target_act\": 1.0, \"unit_acc\": false, \"variable\": \"OS\", \"value\": -4.865024089813232}, {\"word\": \"close\", \"unit\": 49, \"timetick\": 3, \"target_act\": 1.0, \"unit_acc\": false, \"variable\": \"OS\", \"value\": -6.014842510223389}, {\"word\": \"close\", \"unit\": 104, \"timetick\": 3, \"target_act\": 1.0, \"unit_acc\": false, \"variable\": \"OS\", \"value\": -4.67009162902832}, {\"word\": \"close\", \"unit\": 209, \"timetick\": 3, \"target_act\": 1.0, \"unit_acc\": false, \"variable\": \"OS\", \"value\": 2.575443744659424}, {\"word\": \"close\", \"unit\": 236, \"timetick\": 3, \"target_act\": 1.0, \"unit_acc\": false, \"variable\": \"OS\", \"value\": -7.360347747802734}, {\"word\": \"close\", \"unit\": 813, \"timetick\": 3, \"target_act\": 1.0, \"unit_acc\": false, \"variable\": \"OS\", \"value\": -6.083502292633057}, {\"word\": \"close\", \"unit\": 913, \"timetick\": 3, \"target_act\": 1.0, \"unit_acc\": false, \"variable\": \"OS\", \"value\": -7.950304985046387}, {\"word\": \"close\", \"unit\": 1148, \"timetick\": 3, \"target_act\": 1.0, \"unit_acc\": false, \"variable\": \"OS\", \"value\": -2.341682195663452}, {\"word\": \"close\", \"unit\": 4, \"timetick\": 4, \"target_act\": 1.0, \"unit_acc\": false, \"variable\": \"OS\", \"value\": -3.2314302921295166}, {\"word\": \"close\", \"unit\": 6, \"timetick\": 4, \"target_act\": 1.0, \"unit_acc\": false, \"variable\": \"OS\", \"value\": -8.765925407409668}, {\"word\": \"close\", \"unit\": 29, \"timetick\": 4, \"target_act\": 1.0, \"unit_acc\": false, \"variable\": \"OS\", \"value\": -6.003961086273193}, {\"word\": \"close\", \"unit\": 46, \"timetick\": 4, \"target_act\": 1.0, \"unit_acc\": false, \"variable\": \"OS\", \"value\": -3.201096296310425}, {\"word\": \"close\", \"unit\": 49, \"timetick\": 4, \"target_act\": 1.0, \"unit_acc\": false, \"variable\": \"OS\", \"value\": -5.08096981048584}, {\"word\": \"close\", \"unit\": 104, \"timetick\": 4, \"target_act\": 1.0, \"unit_acc\": false, \"variable\": \"OS\", \"value\": -4.429554462432861}, {\"word\": \"close\", \"unit\": 209, \"timetick\": 4, \"target_act\": 1.0, \"unit_acc\": false, \"variable\": \"OS\", \"value\": 2.102046489715576}, {\"word\": \"close\", \"unit\": 236, \"timetick\": 4, \"target_act\": 1.0, \"unit_acc\": false, \"variable\": \"OS\", \"value\": -5.587728023529053}, {\"word\": \"close\", \"unit\": 813, \"timetick\": 4, \"target_act\": 1.0, \"unit_acc\": false, \"variable\": \"OS\", \"value\": -4.803246974945068}, {\"word\": \"close\", \"unit\": 913, \"timetick\": 4, \"target_act\": 1.0, \"unit_acc\": false, \"variable\": \"OS\", \"value\": -6.375175476074219}, {\"word\": \"close\", \"unit\": 1148, \"timetick\": 4, \"target_act\": 1.0, \"unit_acc\": false, \"variable\": \"OS\", \"value\": -1.591391921043396}, {\"word\": \"close\", \"unit\": 4, \"timetick\": 5, \"target_act\": 1.0, \"unit_acc\": false, \"variable\": \"OS\", \"value\": -2.8952181339263916}, {\"word\": \"close\", \"unit\": 6, \"timetick\": 5, \"target_act\": 1.0, \"unit_acc\": false, \"variable\": \"OS\", \"value\": -7.996340751647949}, {\"word\": \"close\", \"unit\": 29, \"timetick\": 5, \"target_act\": 1.0, \"unit_acc\": false, \"variable\": \"OS\", \"value\": -5.317138195037842}, {\"word\": \"close\", \"unit\": 46, \"timetick\": 5, \"target_act\": 1.0, \"unit_acc\": false, \"variable\": \"OS\", \"value\": -2.365082263946533}, {\"word\": \"close\", \"unit\": 49, \"timetick\": 5, \"target_act\": 1.0, \"unit_acc\": false, \"variable\": \"OS\", \"value\": -4.6496663093566895}, {\"word\": \"close\", \"unit\": 104, \"timetick\": 5, \"target_act\": 1.0, \"unit_acc\": false, \"variable\": \"OS\", \"value\": -4.282500743865967}, {\"word\": \"close\", \"unit\": 209, \"timetick\": 5, \"target_act\": 1.0, \"unit_acc\": false, \"variable\": \"OS\", \"value\": 1.7889684438705444}, {\"word\": \"close\", \"unit\": 236, \"timetick\": 5, \"target_act\": 1.0, \"unit_acc\": false, \"variable\": \"OS\", \"value\": -4.6530866622924805}, {\"word\": \"close\", \"unit\": 813, \"timetick\": 5, \"target_act\": 1.0, \"unit_acc\": false, \"variable\": \"OS\", \"value\": -4.180849075317383}, {\"word\": \"close\", \"unit\": 913, \"timetick\": 5, \"target_act\": 1.0, \"unit_acc\": false, \"variable\": \"OS\", \"value\": -5.659694194793701}, {\"word\": \"close\", \"unit\": 1148, \"timetick\": 5, \"target_act\": 1.0, \"unit_acc\": false, \"variable\": \"OS\", \"value\": -1.255258321762085}, {\"word\": \"close\", \"unit\": 4, \"timetick\": 6, \"target_act\": 1.0, \"unit_acc\": false, \"variable\": \"OS\", \"value\": -2.719553232192993}, {\"word\": \"close\", \"unit\": 6, \"timetick\": 6, \"target_act\": 1.0, \"unit_acc\": false, \"variable\": \"OS\", \"value\": -7.556096076965332}, {\"word\": \"close\", \"unit\": 29, \"timetick\": 6, \"target_act\": 1.0, \"unit_acc\": false, \"variable\": \"OS\", \"value\": -4.964369297027588}, {\"word\": \"close\", \"unit\": 46, \"timetick\": 6, \"target_act\": 1.0, \"unit_acc\": false, \"variable\": \"OS\", \"value\": -1.9002755880355835}, {\"word\": \"close\", \"unit\": 49, \"timetick\": 6, \"target_act\": 1.0, \"unit_acc\": false, \"variable\": \"OS\", \"value\": -4.426790714263916}, {\"word\": \"close\", \"unit\": 104, \"timetick\": 6, \"target_act\": 1.0, \"unit_acc\": false, \"variable\": \"OS\", \"value\": -4.190016746520996}, {\"word\": \"close\", \"unit\": 209, \"timetick\": 6, \"target_act\": 1.0, \"unit_acc\": false, \"variable\": \"OS\", \"value\": 1.593061923980713}, {\"word\": \"close\", \"unit\": 236, \"timetick\": 6, \"target_act\": 1.0, \"unit_acc\": false, \"variable\": \"OS\", \"value\": -4.121572494506836}, {\"word\": \"close\", \"unit\": 813, \"timetick\": 6, \"target_act\": 1.0, \"unit_acc\": false, \"variable\": \"OS\", \"value\": -3.8443961143493652}, {\"word\": \"close\", \"unit\": 913, \"timetick\": 6, \"target_act\": 1.0, \"unit_acc\": false, \"variable\": \"OS\", \"value\": -5.2853899002075195}, {\"word\": \"close\", \"unit\": 1148, \"timetick\": 6, \"target_act\": 1.0, \"unit_acc\": false, \"variable\": \"OS\", \"value\": -1.0845439434051514}, {\"word\": \"close\", \"unit\": 4, \"timetick\": 7, \"target_act\": 1.0, \"unit_acc\": false, \"variable\": \"OS\", \"value\": -2.6176416873931885}, {\"word\": \"close\", \"unit\": 6, \"timetick\": 7, \"target_act\": 1.0, \"unit_acc\": false, \"variable\": \"OS\", \"value\": -7.289164066314697}, {\"word\": \"close\", \"unit\": 29, \"timetick\": 7, \"target_act\": 1.0, \"unit_acc\": false, \"variable\": \"OS\", \"value\": -4.766839981079102}, {\"word\": \"close\", \"unit\": 46, \"timetick\": 7, \"target_act\": 1.0, \"unit_acc\": false, \"variable\": \"OS\", \"value\": -1.6233320236206055}, {\"word\": \"close\", \"unit\": 49, \"timetick\": 7, \"target_act\": 1.0, \"unit_acc\": false, \"variable\": \"OS\", \"value\": -4.300718784332275}, {\"word\": \"close\", \"unit\": 104, \"timetick\": 7, \"target_act\": 1.0, \"unit_acc\": false, \"variable\": \"OS\", \"value\": -4.131626605987549}, {\"word\": \"close\", \"unit\": 209, \"timetick\": 7, \"target_act\": 1.0, \"unit_acc\": false, \"variable\": \"OS\", \"value\": 1.4675531387329102}, {\"word\": \"close\", \"unit\": 236, \"timetick\": 7, \"target_act\": 1.0, \"unit_acc\": false, \"variable\": \"OS\", \"value\": -3.804151773452759}, {\"word\": \"close\", \"unit\": 813, \"timetick\": 7, \"target_act\": 1.0, \"unit_acc\": false, \"variable\": \"OS\", \"value\": -3.6482748985290527}, {\"word\": \"close\", \"unit\": 913, \"timetick\": 7, \"target_act\": 1.0, \"unit_acc\": false, \"variable\": \"OS\", \"value\": -5.070593357086182}, {\"word\": \"close\", \"unit\": 1148, \"timetick\": 7, \"target_act\": 1.0, \"unit_acc\": false, \"variable\": \"OS\", \"value\": -0.9904614090919495}, {\"word\": \"close\", \"unit\": 4, \"timetick\": 8, \"target_act\": 1.0, \"unit_acc\": false, \"variable\": \"OS\", \"value\": -2.556443691253662}, {\"word\": \"close\", \"unit\": 6, \"timetick\": 8, \"target_act\": 1.0, \"unit_acc\": false, \"variable\": \"OS\", \"value\": -7.122364521026611}, {\"word\": \"close\", \"unit\": 29, \"timetick\": 8, \"target_act\": 1.0, \"unit_acc\": false, \"variable\": \"OS\", \"value\": -4.648715972900391}, {\"word\": \"close\", \"unit\": 46, \"timetick\": 8, \"target_act\": 1.0, \"unit_acc\": false, \"variable\": \"OS\", \"value\": -1.4510036706924438}, {\"word\": \"close\", \"unit\": 49, \"timetick\": 8, \"target_act\": 1.0, \"unit_acc\": false, \"variable\": \"OS\", \"value\": -4.2250823974609375}, {\"word\": \"close\", \"unit\": 104, \"timetick\": 8, \"target_act\": 1.0, \"unit_acc\": false, \"variable\": \"OS\", \"value\": -4.093724727630615}, {\"word\": \"close\", \"unit\": 209, \"timetick\": 8, \"target_act\": 1.0, \"unit_acc\": false, \"variable\": \"OS\", \"value\": 1.3864631652832031}, {\"word\": \"close\", \"unit\": 236, \"timetick\": 8, \"target_act\": 1.0, \"unit_acc\": false, \"variable\": \"OS\", \"value\": -3.607776641845703}, {\"word\": \"close\", \"unit\": 813, \"timetick\": 8, \"target_act\": 1.0, \"unit_acc\": false, \"variable\": \"OS\", \"value\": -3.527737855911255}, {\"word\": \"close\", \"unit\": 913, \"timetick\": 8, \"target_act\": 1.0, \"unit_acc\": false, \"variable\": \"OS\", \"value\": -4.941749095916748}, {\"word\": \"close\", \"unit\": 1148, \"timetick\": 8, \"target_act\": 1.0, \"unit_acc\": false, \"variable\": \"OS\", \"value\": -0.9350576996803284}, {\"word\": \"close\", \"unit\": 4, \"timetick\": 9, \"target_act\": 1.0, \"unit_acc\": false, \"variable\": \"OS\", \"value\": -2.519331216812134}, {\"word\": \"close\", \"unit\": 6, \"timetick\": 9, \"target_act\": 1.0, \"unit_acc\": false, \"variable\": \"OS\", \"value\": -7.016615867614746}, {\"word\": \"close\", \"unit\": 29, \"timetick\": 9, \"target_act\": 1.0, \"unit_acc\": false, \"variable\": \"OS\", \"value\": -4.577207565307617}, {\"word\": \"close\", \"unit\": 46, \"timetick\": 9, \"target_act\": 1.0, \"unit_acc\": false, \"variable\": \"OS\", \"value\": -1.3420329093933105}, {\"word\": \"close\", \"unit\": 49, \"timetick\": 9, \"target_act\": 1.0, \"unit_acc\": false, \"variable\": \"OS\", \"value\": -4.179335117340088}, {\"word\": \"close\", \"unit\": 104, \"timetick\": 9, \"target_act\": 1.0, \"unit_acc\": false, \"variable\": \"OS\", \"value\": -4.06865119934082}, {\"word\": \"close\", \"unit\": 209, \"timetick\": 9, \"target_act\": 1.0, \"unit_acc\": false, \"variable\": \"OS\", \"value\": 1.3353734016418457}, {\"word\": \"close\", \"unit\": 236, \"timetick\": 9, \"target_act\": 1.0, \"unit_acc\": false, \"variable\": \"OS\", \"value\": -3.4820170402526855}, {\"word\": \"close\", \"unit\": 813, \"timetick\": 9, \"target_act\": 1.0, \"unit_acc\": false, \"variable\": \"OS\", \"value\": -3.452547073364258}, {\"word\": \"close\", \"unit\": 913, \"timetick\": 9, \"target_act\": 1.0, \"unit_acc\": false, \"variable\": \"OS\", \"value\": -4.8616533279418945}, {\"word\": \"close\", \"unit\": 1148, \"timetick\": 9, \"target_act\": 1.0, \"unit_acc\": false, \"variable\": \"OS\", \"value\": -0.9001576900482178}, {\"word\": \"close\", \"unit\": 4, \"timetick\": 10, \"target_act\": 1.0, \"unit_acc\": false, \"variable\": \"OS\", \"value\": -2.4949493408203125}, {\"word\": \"close\", \"unit\": 6, \"timetick\": 10, \"target_act\": 1.0, \"unit_acc\": false, \"variable\": \"OS\", \"value\": -6.946467399597168}, {\"word\": \"close\", \"unit\": 29, \"timetick\": 10, \"target_act\": 1.0, \"unit_acc\": false, \"variable\": \"OS\", \"value\": -4.531694412231445}, {\"word\": \"close\", \"unit\": 46, \"timetick\": 10, \"target_act\": 1.0, \"unit_acc\": false, \"variable\": \"OS\", \"value\": -1.2731248140335083}, {\"word\": \"close\", \"unit\": 49, \"timetick\": 10, \"target_act\": 1.0, \"unit_acc\": false, \"variable\": \"OS\", \"value\": -4.149654865264893}, {\"word\": \"close\", \"unit\": 104, \"timetick\": 10, \"target_act\": 1.0, \"unit_acc\": false, \"variable\": \"OS\", \"value\": -4.0535359382629395}, {\"word\": \"close\", \"unit\": 209, \"timetick\": 10, \"target_act\": 1.0, \"unit_acc\": false, \"variable\": \"OS\", \"value\": 1.3007724285125732}, {\"word\": \"close\", \"unit\": 236, \"timetick\": 10, \"target_act\": 1.0, \"unit_acc\": false, \"variable\": \"OS\", \"value\": -3.4019761085510254}, {\"word\": \"close\", \"unit\": 813, \"timetick\": 10, \"target_act\": 1.0, \"unit_acc\": false, \"variable\": \"OS\", \"value\": -3.404566526412964}, {\"word\": \"close\", \"unit\": 913, \"timetick\": 10, \"target_act\": 1.0, \"unit_acc\": false, \"variable\": \"OS\", \"value\": -4.809253692626953}, {\"word\": \"close\", \"unit\": 1148, \"timetick\": 10, \"target_act\": 1.0, \"unit_acc\": false, \"variable\": \"OS\", \"value\": -0.8798779249191284}, {\"word\": \"close\", \"unit\": 4, \"timetick\": 11, \"target_act\": 1.0, \"unit_acc\": false, \"variable\": \"OS\", \"value\": -2.4795544147491455}, {\"word\": \"close\", \"unit\": 6, \"timetick\": 11, \"target_act\": 1.0, \"unit_acc\": false, \"variable\": \"OS\", \"value\": -6.901225566864014}, {\"word\": \"close\", \"unit\": 29, \"timetick\": 11, \"target_act\": 1.0, \"unit_acc\": false, \"variable\": \"OS\", \"value\": -4.502340316772461}, {\"word\": \"close\", \"unit\": 46, \"timetick\": 11, \"target_act\": 1.0, \"unit_acc\": false, \"variable\": \"OS\", \"value\": -1.2275081872940063}, {\"word\": \"close\", \"unit\": 49, \"timetick\": 11, \"target_act\": 1.0, \"unit_acc\": false, \"variable\": \"OS\", \"value\": -4.130808353424072}, {\"word\": \"close\", \"unit\": 104, \"timetick\": 11, \"target_act\": 1.0, \"unit_acc\": false, \"variable\": \"OS\", \"value\": -4.042097091674805}, {\"word\": \"close\", \"unit\": 209, \"timetick\": 11, \"target_act\": 1.0, \"unit_acc\": false, \"variable\": \"OS\", \"value\": 1.2782492637634277}, {\"word\": \"close\", \"unit\": 236, \"timetick\": 11, \"target_act\": 1.0, \"unit_acc\": false, \"variable\": \"OS\", \"value\": -3.348484992980957}, {\"word\": \"close\", \"unit\": 813, \"timetick\": 11, \"target_act\": 1.0, \"unit_acc\": false, \"variable\": \"OS\", \"value\": -3.3730461597442627}, {\"word\": \"close\", \"unit\": 913, \"timetick\": 11, \"target_act\": 1.0, \"unit_acc\": false, \"variable\": \"OS\", \"value\": -4.775859832763672}, {\"word\": \"close\", \"unit\": 1148, \"timetick\": 11, \"target_act\": 1.0, \"unit_acc\": false, \"variable\": \"OS\", \"value\": -0.8659162521362305}, {\"word\": \"close\", \"unit\": 4, \"timetick\": 12, \"target_act\": 1.0, \"unit_acc\": false, \"variable\": \"OS\", \"value\": -2.468646764755249}, {\"word\": \"close\", \"unit\": 6, \"timetick\": 12, \"target_act\": 1.0, \"unit_acc\": false, \"variable\": \"OS\", \"value\": -6.871521949768066}, {\"word\": \"close\", \"unit\": 29, \"timetick\": 12, \"target_act\": 1.0, \"unit_acc\": false, \"variable\": \"OS\", \"value\": -4.482006549835205}, {\"word\": \"close\", \"unit\": 46, \"timetick\": 12, \"target_act\": 1.0, \"unit_acc\": false, \"variable\": \"OS\", \"value\": -1.1970176696777344}, {\"word\": \"close\", \"unit\": 49, \"timetick\": 12, \"target_act\": 1.0, \"unit_acc\": false, \"variable\": \"OS\", \"value\": -4.11799955368042}, {\"word\": \"close\", \"unit\": 104, \"timetick\": 12, \"target_act\": 1.0, \"unit_acc\": false, \"variable\": \"OS\", \"value\": -4.034998416900635}, {\"word\": \"close\", \"unit\": 209, \"timetick\": 12, \"target_act\": 1.0, \"unit_acc\": false, \"variable\": \"OS\", \"value\": 1.2638306617736816}, {\"word\": \"close\", \"unit\": 236, \"timetick\": 12, \"target_act\": 1.0, \"unit_acc\": false, \"variable\": \"OS\", \"value\": -3.3160157203674316}, {\"word\": \"close\", \"unit\": 813, \"timetick\": 12, \"target_act\": 1.0, \"unit_acc\": false, \"variable\": \"OS\", \"value\": -3.352278232574463}, {\"word\": \"close\", \"unit\": 913, \"timetick\": 12, \"target_act\": 1.0, \"unit_acc\": false, \"variable\": \"OS\", \"value\": -4.75316047668457}, {\"word\": \"close\", \"unit\": 1148, \"timetick\": 12, \"target_act\": 1.0, \"unit_acc\": false, \"variable\": \"OS\", \"value\": -0.8564577102661133}]}}, {\"mode\": \"vega-lite\"});\n",
       "</script>"
      ],
      "text/plain": [
       "alt.Chart(...)"
      ]
     },
     "execution_count": 17,
     "metadata": {},
     "output_type": "execute_result"
    }
   ],
   "source": [
    "import altair as alt\n",
    "sel_node = all_on_nodes\n",
    "node_df = df.loc[df.unit.isin(sel_node)]\n",
    "plot_df = node_df.loc[~node_df.variable.isin(['act', 'input', 'SS', 'PP'])]\n",
    "\n",
    "alt.Chart(plot_df).mark_line().encode(\n",
    "    y='mean(value):Q', \n",
    "    x='timetick:Q', \n",
    "    color='variable:N'\n",
    "    ).properties(title=f\"word: {target_word} at nodes: {sel_node}\")"
   ]
  },
  {
   "cell_type": "markdown",
   "metadata": {},
   "source": [
    "## EoT acc"
   ]
  },
  {
   "cell_type": "code",
   "execution_count": 18,
   "metadata": {},
   "outputs": [],
   "source": [
    "from scipy.spatial.distance import cosine"
   ]
  },
  {
   "cell_type": "code",
   "execution_count": 19,
   "metadata": {},
   "outputs": [],
   "source": [
    "import data_wrangling\n",
    "def min_cosine_distance_idx(all_reps, pred):\n",
    "    \"\"\"return the index of word that has min cosine distance\"\"\"\n",
    "    all_cosine_dist = [cosine(pred, rep) for rep in all_reps]\n",
    "    return np.argmin(all_cosine_dist) \n",
    "\n",
    "def cosine_accuracy(all_reps, pred, target):\n",
    "    \"\"\"Check whether the prediction is the min cosine distance word\"\"\"\n",
    "    target_idx = min_cosine_distance_idx(all_reps, target)\n",
    "    pred_idx = min_cosine_distance_idx(all_reps, pred)\n",
    "    return target_idx == pred_idx\n",
    "\n",
    "def all_cosine_accuracy(all_reps, preds, targets):\n",
    "    return np.mean([cosine_accuracy(all_reps, pred, target) for pred, target in zip(preds, targets)])\n",
    "\n",
    "def binary_accuracy(pred, target):\n",
    "    \"\"\"Calculate correct side accuracy\"\"\"\n",
    "    d = abs(pred - target)\n",
    "    max_d = np.max(d, axis = 1)\n",
    "    # print(max_d)\n",
    "    return np.mean(max_d < 0.5)\n",
    "\n",
    "def get_all_acc(y_pred):\n",
    "    \"\"\"Calculate accuracy of all outputs\"\"\"\n",
    "    mn_train = data_wrangling.load_testset('mn_r100')\n",
    "    sem_acc = all_cosine_accuracy(all_reps=mn_train['sem'], preds=y_pred['sem'][-1].numpy(), targets=mn_train['sem'])\n",
    "    pho_acc = binary_accuracy(mn_r100['pho'], y_pred['pho'][-1, :, :].numpy())\n",
    "    return {\n",
    "        \"pho\": pho_acc,\n",
    "        \"sem\": sem_acc\n",
    "    }\n",
    "\n",
    "def get_task_acc(task):\n",
    "    \"\"\"Get task acc\"\"\"\n",
    "    model.set_active_task(task)\n",
    "    input_name = modeling.IN_OUT[task][0]\n",
    "    y_pred = model([mn_r100[input_name]] * cfg.n_timesteps)\n",
    "    return get_all_acc(y_pred)"
   ]
  },
  {
   "cell_type": "code",
   "execution_count": 20,
   "metadata": {},
   "outputs": [
    {
     "data": {
      "text/plain": [
       "{'pho': 0.0, 'sem': 0.01}"
      ]
     },
     "execution_count": 20,
     "metadata": {},
     "output_type": "execute_result"
    }
   ],
   "source": [
    "get_task_acc('triangle')"
   ]
  },
  {
   "cell_type": "code",
   "execution_count": null,
   "metadata": {},
   "outputs": [],
   "source": []
  }
 ],
 "metadata": {
  "interpreter": {
   "hash": "d4d1e4263499bec80672ea0156c357c1ee493ec2b1c70f0acce89fc37c4a6abe"
  },
  "kernelspec": {
   "display_name": "Python 3.7.10 64-bit ('base': conda)",
   "language": "python",
   "name": "python3"
  },
  "language_info": {
   "codemirror_mode": {
    "name": "ipython",
    "version": 3
   },
   "file_extension": ".py",
   "mimetype": "text/x-python",
   "name": "python",
   "nbconvert_exporter": "python",
   "pygments_lexer": "ipython3",
   "version": "3.7.10"
  },
  "orig_nbformat": 4
 },
 "nbformat": 4,
 "nbformat_minor": 2
}
