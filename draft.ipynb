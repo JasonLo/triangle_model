{
 "cells": [
  {
   "cell_type": "code",
   "execution_count": null,
   "metadata": {},
   "outputs": [],
   "source": [
    "%load_ext blackcellmagic"
   ]
  },
  {
   "cell_type": "markdown",
   "metadata": {},
   "source": [
    "# Declarator for counting words"
   ]
  },
  {
   "cell_type": "code",
   "execution_count": null,
   "metadata": {},
   "outputs": [],
   "source": [
    "def word_count(func, *args, **kwargs):\n",
    "    def wrapper():\n",
    "        counter = {}\n",
    "        words = func(*args, **kwargs)\n",
    "        for word in words:\n",
    "            if word in counter:\n",
    "                counter[word] += 1\n",
    "            else:\n",
    "                counter[word] = 1\n",
    "        return func(*args, **kwargs), counter\n",
    "\n",
    "    return wrapper"
   ]
  },
  {
   "cell_type": "markdown",
   "metadata": {},
   "source": [
    "# Cosine distance to target"
   ]
  },
  {
   "cell_type": "markdown",
   "metadata": {},
   "source": [
    "1. cosine(output, target)\n",
    "2. vectorize\n",
    "3. apply on batch\n",
    "4. average"
   ]
  },
  {
   "cell_type": "markdown",
   "metadata": {},
   "source": [
    "## Use tf.keras.losses.cosine_similarity for speed\n",
    "\n",
    "-1 : identical\n",
    "0 : 90 degree\n",
    "1: 180 degree\n",
    "\n",
    "y_true = [[0., 1.], [1., 1.], [1., 1.]]\n",
    "y_pred = [[1., 0.], [1., 1.], [-1., -1.]]\n",
    "loss = tf.keras.losses.cosine_similarity(y_true, y_pred, axis=1)\n",
    "loss.numpy()\n",
    "\n",
    "array([-0.       , -0.9999998,  0.9999998], dtype=float32)"
   ]
  },
  {
   "cell_type": "code",
   "execution_count": null,
   "metadata": {},
   "outputs": [],
   "source": [
    "import tensorflow as tf"
   ]
  },
  {
   "cell_type": "code",
   "execution_count": null,
   "metadata": {},
   "outputs": [],
   "source": [
    "y_true = [[0.0, 1.0], [1.0, 1.0], [1.0, 1.0], [0, 0]]\n",
    "y_pred = [[1.0, 0.0], [1.0, 1.0], [-1.0, -1.0], [0, 0]]\n",
    "loss = tf.keras.losses.cosine_similarity(y_true, y_pred, axis=1)\n",
    "loss.numpy()"
   ]
  },
  {
   "cell_type": "code",
   "execution_count": null,
   "metadata": {},
   "outputs": [],
   "source": [
    "import troubleshooting\n",
    "from importlib import reload\n",
    "reload(troubleshooting)\n",
    "run = \"lesion_batchsize_OS20/lesion_batchsize_OS20_r0004\"\n",
    "root = 'home/jupyter/triangle_model'\n",
    "test = troubleshooting.Diagnosis(code_name = run, tf_root_override = root)\n"
   ]
  },
  {
   "cell_type": "code",
   "execution_count": null,
   "metadata": {},
   "outputs": [],
   "source": [
    "test.eval(\"train_r100\", \"triangle\", epoch=1000)"
   ]
  },
  {
   "cell_type": "code",
   "execution_count": null,
   "metadata": {},
   "outputs": [],
   "source": []
  }
 ],
 "metadata": {
  "interpreter": {
   "hash": "98b0a9b7b4eaaa670588a142fd0a9b87eaafe866f1db4228be72b4211d12040f"
  },
  "kernelspec": {
   "display_name": "Python 3.7.10 64-bit ('base': conda)",
   "name": "python3"
  },
  "language_info": {
   "codemirror_mode": {
    "name": "ipython",
    "version": 3
   },
   "file_extension": ".py",
   "mimetype": "text/x-python",
   "name": "python",
   "nbconvert_exporter": "python",
   "pygments_lexer": "ipython3",
   "version": "3.7.10"
  }
 },
 "nbformat": 4,
 "nbformat_minor": 2
}
