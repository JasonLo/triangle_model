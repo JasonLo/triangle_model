{
 "cells": [
  {
   "cell_type": "markdown",
   "metadata": {},
   "source": [
    "# Batch models analysis"
   ]
  },
  {
   "cell_type": "markdown",
   "metadata": {},
   "source": [
    "## Purpose\n",
    "- Overview of batch output\n",
    "    - Count of model in each setting grid\n",
    "    - Word accuracy at last epoch\n",
    "    - Nonword accuracy at last epoch\n",
    "- Use overview to control two plots\n",
    "    - Development plot\n",
    "    - W vs. NW plot\n",
    "- Can \"zoom-in\" to specific run if needed"
   ]
  },
  {
   "cell_type": "code",
   "execution_count": null,
   "metadata": {},
   "outputs": [],
   "source": [
    "%load_ext lab_black\n",
    "import os, json\n",
    "import pandas as pd\n",
    "import altair as alt\n",
    "import numpy as np\n",
    "from meta import check_cfgs_params\n",
    "from evaluate import make_df_wnw\n",
    "\n",
    "alt.data_transformers.disable_max_rows()\n",
    "alt.data_transformers.enable(\"default\")"
   ]
  },
  {
   "cell_type": "code",
   "execution_count": null,
   "metadata": {},
   "outputs": [],
   "source": [
    "def glue_grain_idf(cfgs):\n",
    "    from evaluate import vis\n",
    "    from tqdm import tqdm\n",
    "    from meta import model_cfg\n",
    "\n",
    "    \"\"\"\n",
    "    Parse and Concat all condition level results from item level csvs\n",
    "    And merge with cfg data (run level meta data) from cfgs\n",
    "    cfgs: batch cfgs in dictionary format (The one we saved to disk, for running papermill)\n",
    "    \"\"\"\n",
    "\n",
    "    evals_df = pd.DataFrame()\n",
    "    cfgs_df = pd.DataFrame()\n",
    "\n",
    "    for i in tqdm(range(len(cfgs))):\n",
    "\n",
    "        # Extra cfg (with UUID) from actual saved cfg json\n",
    "        this_model_cfg = model_cfg(cfgs[i][\"model_folder\"] + \"model_config.json\")\n",
    "        cfgs_df = pd.concat(\n",
    "            [cfgs_df, pd.DataFrame(this_model_cfg.to_dict(), index=[i])]\n",
    "        )\n",
    "\n",
    "        # Evaluate results\n",
    "        this_eval = vis(cfgs[i][\"model_folder\"])\n",
    "        evals_df = pd.concat([evals_df, this_eval.strain_i_hist], ignore_index=True)\n",
    "\n",
    "    return cfgs_df, pd.merge(evals_df, cfgs_df, \"left\", \"code_name\")"
   ]
  },
  {
   "cell_type": "markdown",
   "metadata": {},
   "source": [
    "## Read batch files"
   ]
  },
  {
   "cell_type": "code",
   "execution_count": null,
   "metadata": {},
   "outputs": [],
   "source": [
    "batch_name = \"zer_test5_momentum0\"\n",
    "batch_output_dir = \"batch_eval/{}/\".format(batch_name)\n",
    "cfgs = pd.read_csv(batch_output_dir + \"cfgs.csv\", index_col=0)\n",
    "df = pd.read_csv(batch_output_dir + \"bcdf.csv\", index_col=0)\n",
    "n_rng = len(df.rng_seed.unique())\n",
    "check_cfgs_params(cfgs)"
   ]
  },
  {
   "cell_type": "markdown",
   "metadata": {},
   "source": [
    "### Read Strain data"
   ]
  },
  {
   "cell_type": "code",
   "execution_count": null,
   "metadata": {},
   "outputs": [],
   "source": [
    "from tqdm import tqdm\n",
    "\n",
    "idf = pd.DataFrame()\n",
    "for i in tqdm(range(len(cfgs))):\n",
    "    this_strain = pd.read_csv(f\"models/{cfgs.code_name[i]}/result_strain_item.csv\")\n",
    "    idf = pd.concat([idf, this_strain], ignore_index=True)\n",
    "\n",
    "idf = idf.merge(cfgs, on=\"code_name\")"
   ]
  },
  {
   "cell_type": "code",
   "execution_count": null,
   "metadata": {},
   "outputs": [],
   "source": [
    "idf[\"zero_error_radius\"] = idf.zero_error_radius.apply(lambda x: x if x > 0 else 0)"
   ]
  },
  {
   "cell_type": "code",
   "execution_count": null,
   "metadata": {},
   "outputs": [],
   "source": [
    "idf.columns"
   ]
  },
  {
   "cell_type": "code",
   "execution_count": null,
   "metadata": {},
   "outputs": [],
   "source": [
    "df = idf[\n",
    "    [\n",
    "        \"code_name\",\n",
    "        \"p_noise\",\n",
    "        \"zero_error_radius\",\n",
    "        \"epoch\",\n",
    "        \"timestep\",\n",
    "        \"word\",\n",
    "        \"acc\",\n",
    "        \"sse\",\n",
    "        \"sse_slot1\",\n",
    "        \"sse_slot2\",\n",
    "        \"sse_slot3\",\n",
    "        \"sse_slot4\",\n",
    "        \"sse_slot5\",\n",
    "        \"sse_slot6\",\n",
    "        \"sse_slot7\",\n",
    "        \"sse_slot8\",\n",
    "        \"sse_slot9\",\n",
    "        \"sse_slot10\",\n",
    "    ]\n",
    "]\n",
    "\n",
    "df = df.melt(\n",
    "    id_vars=[\n",
    "        \"code_name\",\n",
    "        \"p_noise\",\n",
    "        \"zero_error_radius\",\n",
    "        \"epoch\",\n",
    "        \"timestep\",\n",
    "        \"word\",\n",
    "        \"acc\",\n",
    "        \"sse\",\n",
    "    ]\n",
    ")"
   ]
  },
  {
   "cell_type": "markdown",
   "metadata": {},
   "source": [
    "### Slot based SSE in all items"
   ]
  },
  {
   "cell_type": "code",
   "execution_count": null,
   "metadata": {},
   "outputs": [],
   "source": [
    "df_allsse = (\n",
    "    df.loc[(df.timestep == 1),]\n",
    "    .pivot_table(index=[\"p_noise\", \"zero_error_radius\", \"epoch\", \"variable\"])\n",
    "    .reset_index()\n",
    ")\n",
    "\n",
    "\n",
    "alt.Chart(df_allsse).mark_line().encode(\n",
    "    x=\"epoch:Q\",\n",
    "    y=\"value:Q\",\n",
    "    color=\"variable:N\",\n",
    "    row=\"p_noise:O\",\n",
    "    column=\"zero_error_radius:O\",\n",
    ").properties(title=\"Slot based SSE by ZER and Pnoise in all items\")"
   ]
  },
  {
   "cell_type": "markdown",
   "metadata": {},
   "source": [
    "### Accuracy "
   ]
  },
  {
   "cell_type": "code",
   "execution_count": null,
   "metadata": {},
   "outputs": [],
   "source": [
    "df_ov = (\n",
    "    idf[[\"code_name\", \"epoch\", \"zero_error_radius\", \"p_noise\", \"acc\"]]\n",
    "    .pivot_table(index=[\"code_name\"])\n",
    "    .reset_index()\n",
    ")\n",
    "\n",
    "alt.Chart(df_ov.round(2)).mark_rect().encode(\n",
    "    x=\"p_noise:O\", y=\"zero_error_radius:O\", color=\"acc:Q\", tooltip=\"acc\"\n",
    ").properties(title=\"Average accuracy by control params\")"
   ]
  },
  {
   "cell_type": "markdown",
   "metadata": {},
   "source": [
    "- ZER slow down learning\n",
    "- p_noise and ZER subadditive interaction\n",
    "    - consistent to p_noise as regularization stregegy interpretation"
   ]
  },
  {
   "cell_type": "code",
   "execution_count": null,
   "metadata": {},
   "outputs": [],
   "source": [
    "tmp = (\n",
    "    idf[[\"batch_unique_setting_string\", \"epoch\", \"acc\"]]\n",
    "    .pivot_table(index=[\"batch_unique_setting_string\", \"epoch\"])\n",
    "    .reset_index()\n",
    ")\n",
    "\n",
    "alt.Chart(tmp).mark_line().encode(\n",
    "    x=\"epoch\", y=\"acc\", color=\"batch_unique_setting_string\"\n",
    ").properties(title=\"ACC over epoch\")"
   ]
  },
  {
   "cell_type": "markdown",
   "metadata": {},
   "source": [
    "### Slot based SSE in Correct items"
   ]
  },
  {
   "cell_type": "code",
   "execution_count": null,
   "metadata": {},
   "outputs": [],
   "source": [
    "df_corsse = (\n",
    "    df.loc[(df.timestep == 1) & (df.acc == 1),]\n",
    "    .pivot_table(index=[\"p_noise\", \"zero_error_radius\", \"epoch\", \"variable\"])\n",
    "    .reset_index()\n",
    ")\n",
    "\n",
    "alt.Chart(df_corsse).mark_line().encode(\n",
    "    x=\"epoch:Q\",\n",
    "    y=\"value:Q\",\n",
    "    color=\"variable:N\",\n",
    "    row=\"p_noise:O\",\n",
    "    column=\"zero_error_radius:O\",\n",
    ").properties(title=\"Slot based SSE by ZER and Pnoise in correct items\")"
   ]
  },
  {
   "cell_type": "markdown",
   "metadata": {},
   "source": [
    "- Slot 4 with max info\n",
    "- Slot 10 with almost no info, but it start quite well??? \n",
    "    - I don't understand here... input 0, weight init small uniform -0.1, +0.1, out should be near 0.5 at the beginning? ZER 0.5 should not learn that much?\n",
    "    \n",
    "Follow up in later section: \n",
    "- look at the output at Slot 4 and Slot 10"
   ]
  },
  {
   "cell_type": "markdown",
   "metadata": {},
   "source": [
    "### Slot based SSE in Incorrect items"
   ]
  },
  {
   "cell_type": "code",
   "execution_count": null,
   "metadata": {},
   "outputs": [],
   "source": [
    "df_incorsse = (\n",
    "    df.loc[(df.timestep == 1) & (df.acc == 0),]\n",
    "    .pivot_table(index=[\"p_noise\", \"zero_error_radius\", \"epoch\", \"variable\"])\n",
    "    .reset_index()\n",
    ")\n",
    "\n",
    "\n",
    "alt.Chart(df_incorsse).mark_line().encode(\n",
    "    x=\"epoch:Q\",\n",
    "    y=\"value:Q\",\n",
    "    color=\"variable:N\",\n",
    "    row=\"p_noise:O\",\n",
    "    column=\"zero_error_radius:O\",\n",
    ").properties(title=\"Slot based SSE by ZER and Pnoise in incorrect items\")"
   ]
  },
  {
   "cell_type": "markdown",
   "metadata": {},
   "source": [
    "### Examine output directly\n",
    "- Slot 4 (Max info)\n",
    "- Slot 10 (Almost no info)\n",
    "\n",
    "- Calculate Mean output at slot 4, and slot 10"
   ]
  },
  {
   "cell_type": "code",
   "execution_count": null,
   "metadata": {},
   "outputs": [],
   "source": [
    "idf.columns"
   ]
  },
  {
   "cell_type": "code",
   "execution_count": null,
   "metadata": {},
   "outputs": [],
   "source": [
    "df_output = (\n",
    "    idf.loc[\n",
    "        idf.timestep == 1,\n",
    "        [\n",
    "            \"code_name\",\n",
    "            \"zero_error_radius\",\n",
    "            \"p_noise\",\n",
    "            \"epoch\",\n",
    "            \"acc\",\n",
    "            \"mean_output_slot4\",\n",
    "            \"mean_output_slot10\",\n",
    "        ],\n",
    "    ]\n",
    "    .pivot_table(index=[\"code_name\", \"zero_error_radius\", \"p_noise\", \"epoch\"])\n",
    "    .reset_index()\n",
    ")"
   ]
  },
  {
   "cell_type": "code",
   "execution_count": null,
   "metadata": {},
   "outputs": [],
   "source": [
    "alt.Chart(df_output).mark_line(point=True).encode(\n",
    "    x=\"epoch:Q\",\n",
    "    y=\"mean_output_slot10\",\n",
    "    color=\"code_name\",\n",
    "    tooltip=[\"p_noise\", \"zero_error_radius\"],\n",
    ").properties(title=\"Slot 10 output\").interactive()"
   ]
  },
  {
   "cell_type": "code",
   "execution_count": null,
   "metadata": {},
   "outputs": [],
   "source": [
    "alt.Chart(df_output).mark_line(point=True).encode(\n",
    "    x=\"epoch:Q\",\n",
    "    y=\"mean_output_slot4\",\n",
    "    color=\"code_name\",\n",
    "    tooltip=[\"p_noise\", \"zero_error_radius\"],\n",
    ").properties(title=\"Slot 4 output\").interactive()"
   ]
  },
  {
   "cell_type": "code",
   "execution_count": null,
   "metadata": {},
   "outputs": [],
   "source": []
  },
  {
   "cell_type": "code",
   "execution_count": null,
   "metadata": {},
   "outputs": [],
   "source": []
  },
  {
   "cell_type": "code",
   "execution_count": null,
   "metadata": {},
   "outputs": [],
   "source": []
  },
  {
   "cell_type": "code",
   "execution_count": null,
   "metadata": {},
   "outputs": [],
   "source": []
  }
 ],
 "metadata": {
  "environment": {
   "name": "tf2-gpu.2-1.m50",
   "type": "gcloud",
   "uri": "gcr.io/deeplearning-platform-release/tf2-gpu.2-1:m50"
  },
  "kernelspec": {
   "display_name": "Python 3",
   "language": "python",
   "name": "python3"
  },
  "language_info": {
   "codemirror_mode": {
    "name": "ipython",
    "version": 3
   },
   "file_extension": ".py",
   "mimetype": "text/x-python",
   "name": "python",
   "nbconvert_exporter": "python",
   "pygments_lexer": "ipython3",
   "version": "3.7.6"
  },
  "toc-autonumbering": false,
  "toc-showcode": false,
  "toc-showmarkdowntxt": true,
  "toc-showtags": false
 },
 "nbformat": 4,
 "nbformat_minor": 4
}
