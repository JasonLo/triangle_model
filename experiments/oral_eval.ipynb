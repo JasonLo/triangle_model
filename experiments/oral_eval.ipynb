{
 "cells": [
  {
   "cell_type": "code",
   "execution_count": null,
   "metadata": {},
   "outputs": [],
   "source": [
    "import pandas as pd\n",
    "import altair as alt\n",
    "import sqlite3\n",
    "import os, json\n",
    "import evaluate, meta, modeling, data_wrangling"
   ]
  },
  {
   "cell_type": "code",
   "execution_count": null,
   "metadata": {},
   "outputs": [],
   "source": [
    "code_name = 'high_stress_long_pretraining'\n",
    "tf_root = '/home/jupyter/tf'\n",
    "\n",
    "cfg = meta.ModelConfig.from_json(os.path.join(tf_root, \"models\", code_name, \"model_config.json\"))\n",
    "model = modeling.HS04Model(cfg)\n",
    "data = data_wrangling.MyData()\n",
    "cfg.batch_name = None\n",
    "oral_test = evaluate.EvalOral(cfg, model, data)"
   ]
  },
  {
   "cell_type": "code",
   "execution_count": null,
   "metadata": {},
   "outputs": [],
   "source": [
    "oral_test.eval('strain')\n",
    "meta.csv_to_bigquery(os.path.join(cfg.path['model_folder'], 'eval', 'strain_item_df.csv'), dataset_name=\"triangle_oral\", table_name=\"strain\")"
   ]
  },
  {
   "cell_type": "code",
   "execution_count": null,
   "metadata": {},
   "outputs": [],
   "source": [
    "oral_test.eval('taraban')\n",
    "meta.csv_to_bigquery(os.path.join(cfg.path['model_folder'], 'eval', 'taraban_item_df.csv'), dataset_name=\"triangle_oral\", table_name=\"taraban\")"
   ]
  }
 ],
 "metadata": {
  "environment": {
   "name": "tf2-gpu.2-4.m61",
   "type": "gcloud",
   "uri": "gcr.io/deeplearning-platform-release/tf2-gpu.2-4:m61"
  },
  "kernelspec": {
   "display_name": "Python 3",
   "language": "python",
   "name": "python3"
  },
  "language_info": {
   "codemirror_mode": {
    "name": "ipython",
    "version": 3
   },
   "file_extension": ".py",
   "mimetype": "text/x-python",
   "name": "python",
   "nbconvert_exporter": "python",
   "pygments_lexer": "ipython3",
   "version": "3.7.9"
  }
 },
 "nbformat": 4,
 "nbformat_minor": 4
}
