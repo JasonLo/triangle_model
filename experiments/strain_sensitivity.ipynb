{
 "cells": [
  {
   "cell_type": "code",
   "execution_count": null,
   "metadata": {},
   "outputs": [],
   "source": [
    "import sqlite3\n",
    "import pandas as pd"
   ]
  },
  {
   "cell_type": "code",
   "execution_count": null,
   "metadata": {},
   "outputs": [],
   "source": [
    "batch_name = \"error_injection_timing_test\"\n",
    "\n",
    "con = sqlite3.connect(\n",
    "        f\"/home/jupyter/tf/models/batch_run/{batch_name}/batch_results.sqlite\"\n",
    "    )\n",
    "\n",
    "query = \"\"\"\n",
    "SELECT \n",
    "    code_name, \n",
    "    epoch, \n",
    "    timetick, \n",
    "    y,\n",
    "    testset,\n",
    "    item, \n",
    "    acc, \n",
    "    sse\n",
    "FROM strain\n",
    "\"\"\"\n",
    "\n",
    "\n",
    "batch_config = pd.read_sql_query(\"SELECT * FROM batch_config\", con)\n",
    "df = pd.read_sql_query(query, con)\n",
    "df = df.merge(\n",
    "        batch_config[[\"code_name\", \"inject_error_ticks\"]], \"left\", on=\"code_name\"\n",
    "    )\n",
    "df[[\"testset_name\", \"freq\", \"cons\", \"img\"]] = df.testset.str.split(\"_\", expand=True)\n"
   ]
  },
  {
   "cell_type": "code",
   "execution_count": null,
   "metadata": {},
   "outputs": [],
   "source": [
    "cur = con.cursor()\n",
    "cur.execute(\"SELECT name FROM sqlite_master WHERE type='table';\")\n",
    "print(cur.fetchall())"
   ]
  },
  {
   "cell_type": "code",
   "execution_count": null,
   "metadata": {},
   "outputs": [],
   "source": [
    "from google.cloud import bigquery\n",
    "import pandas as pd\n",
    "\n",
    "client = bigquery.Client()\n",
    "dataset = client.create_dataset(batch_name)"
   ]
  },
  {
   "cell_type": "code",
   "execution_count": null,
   "metadata": {},
   "outputs": [],
   "source": [
    "tables = ('grain', 'taraban', 'strain', 'batch_config')\n",
    "\n",
    "for t in tables:\n",
    "    df = pd.read_sql_query(f\"SELECT * FROM {t}\", con)\n",
    "    table_ref = dataset.table(t)\n",
    "    job = client.load_table_from_dataframe(df, table_ref)\n",
    "    job.result()\n",
    "    print(\"Loaded dataframe to {}\".format(table_ref.path))\n",
    "    "
   ]
  }
 ],
 "metadata": {
  "environment": {
   "name": "tf2-gpu.2-4.m61",
   "type": "gcloud",
   "uri": "gcr.io/deeplearning-platform-release/tf2-gpu.2-4:m61"
  },
  "kernelspec": {
   "display_name": "Python 3",
   "language": "python",
   "name": "python3"
  },
  "language_info": {
   "codemirror_mode": {
    "name": "ipython",
    "version": 3
   },
   "file_extension": ".py",
   "mimetype": "text/x-python",
   "name": "python",
   "nbconvert_exporter": "python",
   "pygments_lexer": "ipython3",
   "version": "3.7.9"
  }
 },
 "nbformat": 4,
 "nbformat_minor": 4
}
