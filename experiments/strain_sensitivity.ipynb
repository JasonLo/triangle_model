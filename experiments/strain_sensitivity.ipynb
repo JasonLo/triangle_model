{
 "cells": [
  {
   "cell_type": "code",
   "execution_count": null,
   "metadata": {},
   "outputs": [],
   "source": [
    "import sqlite3\n",
    "import pandas as pd"
   ]
  },
  {
   "cell_type": "code",
   "execution_count": null,
   "metadata": {},
   "outputs": [],
   "source": [
    "batch_name = \"error_injection_timing_test\"\n",
    "\n",
    "con = sqlite3.connect(\n",
    "        f\"/home/jupyter/tf/models/batch_run/{batch_name}/batch_results.sqlite\"\n",
    "    )\n",
    "\n",
    "query = \"\"\"\n",
    "SELECT \n",
    "    code_name, \n",
    "    epoch, \n",
    "    timetick, \n",
    "    y,\n",
    "    testset,\n",
    "    word, \n",
    "    acc, \n",
    "    sse\n",
    "FROM strain\n",
    "\"\"\"\n",
    "\n",
    "\n",
    "batch_config = pd.read_sql_query(\"SELECT * FROM batch_config\", con)\n",
    "df = pd.read_sql_query(query, con)\n",
    "df = df.merge(\n",
    "        batch_config[[\"code_name\", \"inject_error_ticks\"]], \"left\", on=\"code_name\"\n",
    "    )\n",
    "df[[\"testset_name\", \"freq\", \"cons\", \"img\"]] = df.testset.str.split(\"_\", expand=True)\n"
   ]
  },
  {
   "cell_type": "code",
   "execution_count": null,
   "metadata": {},
   "outputs": [],
   "source": [
    "df"
   ]
  },
  {
   "cell_type": "code",
   "execution_count": null,
   "metadata": {},
   "outputs": [],
   "source": []
  }
 ],
 "metadata": {
  "kernelspec": {
   "display_name": "Python 3.7.9 64-bit ('base': conda)",
   "metadata": {
    "interpreter": {
     "hash": "98b0a9b7b4eaaa670588a142fd0a9b87eaafe866f1db4228be72b4211d12040f"
    }
   },
   "name": "python3"
  },
  "language_info": {
   "codemirror_mode": {
    "name": "ipython",
    "version": 3
   },
   "file_extension": ".py",
   "mimetype": "text/x-python",
   "name": "python",
   "nbconvert_exporter": "python",
   "pygments_lexer": "ipython3",
   "version": "3.7.9-final"
  }
 },
 "nbformat": 4,
 "nbformat_minor": 2
}
