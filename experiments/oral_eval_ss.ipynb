{
 "cells": [
  {
   "cell_type": "code",
   "execution_count": null,
   "metadata": {},
   "outputs": [],
   "source": [
    "import pandas as pd\n",
    "import altair as alt\n",
    "import sqlite3\n",
    "import os, json\n",
    "import evaluate, meta, modeling, data_wrangling"
   ]
  },
  {
   "cell_type": "code",
   "execution_count": null,
   "metadata": {},
   "outputs": [],
   "source": [
    "tf_root = '/home/jupyter/tf'\n",
    "batch_name = \"error_injection_timing_test\"\n",
    "batch_output_dir = os.path.join(tf_root, \"models\", \"batch_run\", batch_name)"
   ]
  },
  {
   "cell_type": "code",
   "execution_count": null,
   "metadata": {},
   "outputs": [],
   "source": [
    "# Load batch config from json\n",
    "code_name = 'high_stress_long_pretrain'\n",
    "batch_json_file = os.path.join(batch_output_dir, \"batch_config.json\")\n",
    "with open(batch_json_file) as f:\n",
    "    batch_cfgs = json.load(f)"
   ]
  },
  {
   "cell_type": "code",
   "execution_count": null,
   "metadata": {},
   "outputs": [],
   "source": [
    "# Load model\n",
    "i = 0\n",
    "model_json_file = os.path.join(tf_root, batch_cfgs[i]['model_folder'], 'model_config.json')\n",
    "cfg = meta.ModelConfig.from_json(model_json_file)\n",
    "model = modeling.HS04Model(cfg)\n",
    "data = data_wrangling.MyData()"
   ]
  },
  {
   "cell_type": "code",
   "execution_count": null,
   "metadata": {},
   "outputs": [],
   "source": [
    "from importlib import reload\n",
    "reload(evaluate)"
   ]
  },
  {
   "cell_type": "code",
   "execution_count": null,
   "metadata": {},
   "outputs": [],
   "source": [
    "oral_eval = evaluate.EvalOral(cfg, model, data)\n",
    "oral_eval.tmp_eval_ss()"
   ]
  },
  {
   "cell_type": "code",
   "execution_count": null,
   "metadata": {},
   "outputs": [],
   "source": [
    "ss_csv = os.path.join(cfg.path['model_folder'], 'eval', 'train_ss_item_df.csv')\n",
    "df = pd.read_csv(ss_csv, index_col=0)\n",
    "df['word'] = df.item"
   ]
  },
  {
   "cell_type": "code",
   "execution_count": null,
   "metadata": {},
   "outputs": [],
   "source": [
    "from ipywidgets import interact, widgets"
   ]
  },
  {
   "cell_type": "code",
   "execution_count": null,
   "metadata": {},
   "outputs": [],
   "source": [
    "def get_n_features(word):\n",
    "    if word in data.testsets['train']['item']:\n",
    "        idx = data.testsets['train']['item'].index(word)\n",
    "        semantic_vector = data.testsets['train']['sem'][idx,:]\n",
    "        return(sum(semantic_vector)) "
   ]
  },
  {
   "cell_type": "code",
   "execution_count": null,
   "metadata": {},
   "outputs": [],
   "source": [
    "img_csv = os.path.join(tf_root, \"issues\", \"preprocessing\", \"cortese2004norms.csv\")\n",
    "cortese = pd.read_csv(img_csv, skiprows=9, na_filter=False)\n",
    "cortese = cortese[[\"item\", \"rating\"]]\n",
    "cortese = cortese.rename({\"item\": \"word\", \"rating\":\"img\"}, axis=1)\n",
    "cortese[\"n_features\"] = cortese.word.apply(get_n_features)\n",
    "cortese = cortese.merge(data.df_train[['word', 'wf']])\n",
    "cortese.to_csv('cortese_compiled.csv')"
   ]
  },
  {
   "cell_type": "code",
   "execution_count": null,
   "metadata": {},
   "outputs": [],
   "source": [
    "cortese"
   ]
  },
  {
   "cell_type": "code",
   "execution_count": null,
   "metadata": {},
   "outputs": [],
   "source": [
    "import altair as alt\n",
    "\n",
    "def plot_img_vs_sse(df, epoch, timetick):\n",
    "    acc_sse_now = df.loc[(df.epoch == epoch) & (df.timetick == timetick), [\"word\", \"sse\", \"acc\"]]\n",
    "    df = cortese.merge(acc_sse_now, 'left')\n",
    "    \n",
    "    plot = alt.Chart(df).mark_point().encode(x=\"img\", y=\"sse\", tooltip=[\"word\", \"img\"])\n",
    "    plot = plot + plot.transform_regression('img', 'sse').mark_line(color=\"red\")\n",
    "    plot = plot.properties(title=\"sse vs. img\")\n",
    "    \n",
    "    print(df.corr())\n",
    "    print(df)\n",
    "    return(plot)\n",
    "#     p = alt.Chart(df).mark_point().encode(x=\"img\", y=\"sse\", tooltip=[\"word\", \"img\"])\n",
    "#     p += p.transform_regression('img', 'sse').mark_line(color=\"red\")\n",
    "#     p.properties(title = cortese.corr())"
   ]
  },
  {
   "cell_type": "code",
   "execution_count": null,
   "metadata": {},
   "outputs": [],
   "source": [
    "plot_img_vs_sse(df, 100, 12)"
   ]
  },
  {
   "cell_type": "code",
   "execution_count": null,
   "metadata": {},
   "outputs": [],
   "source": [
    "plot_df = df.groupby(['epoch', 'timetick']).mean().reset_index()"
   ]
  },
  {
   "cell_type": "code",
   "execution_count": null,
   "metadata": {},
   "outputs": [],
   "source": [
    "# Overall semantic attractor accuracy\n",
    "\n",
    "alt.Chart(plot_df).mark_rect().encode(x=\"epoch:O\", y=\"timetick:O\", color=\"acc\")"
   ]
  },
  {
   "cell_type": "code",
   "execution_count": null,
   "metadata": {},
   "outputs": [],
   "source": [
    "interact()"
   ]
  },
  {
   "cell_type": "code",
   "execution_count": null,
   "metadata": {},
   "outputs": [],
   "source": [
    "meta.csv_to_bigquery(, dataset_name=\"triangle_oral\", table_name=\"ss\")"
   ]
  }
 ],
 "metadata": {
  "environment": {
   "name": "tf2-gpu.2-4.mnightly-2021-02-02-debian-10-test",
   "type": "gcloud",
   "uri": "gcr.io/deeplearning-platform-release/tf2-gpu.2-4:mnightly-2021-02-02-debian-10-test"
  },
  "kernelspec": {
   "display_name": "Python [conda env:root] *",
   "language": "python",
   "name": "conda-root-py"
  },
  "language_info": {
   "codemirror_mode": {
    "name": "ipython",
    "version": 3
   },
   "file_extension": ".py",
   "mimetype": "text/x-python",
   "name": "python",
   "nbconvert_exporter": "python",
   "pygments_lexer": "ipython3",
   "version": "3.7.9"
  }
 },
 "nbformat": 4,
 "nbformat_minor": 4
}
