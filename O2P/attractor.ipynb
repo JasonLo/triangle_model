{
 "cells": [
  {
   "cell_type": "markdown",
   "metadata": {
    "colab_type": "text",
    "id": "dbgouQwZ1Y1f"
   },
   "source": [
    "# Pretrain attractor network PCP\n",
    "\n"
   ]
  },
  {
   "cell_type": "markdown",
   "metadata": {
    "colab_type": "text",
    "id": "i80sCQZmPNVw"
   },
   "source": [
    "## Master config"
   ]
  },
  {
   "cell_type": "code",
   "execution_count": null,
   "metadata": {
    "colab": {},
    "colab_type": "code",
    "id": "ZOtePZ2ddw8d"
   },
   "outputs": [],
   "source": [
    "import tensorflow as tf\n",
    "import numpy as np\n",
    "import pandas as pd\n",
    "\n",
    "print(\"GPU is\", \"available\" if tf.config.experimental.list_physical_devices(\"GPU\") else \"NOT AVAILABLE\", '\\n')\n",
    "!ls\n",
    "\n",
    "from misc import model_cfg\n",
    "\n",
    "cfg = model_cfg(code_name='p_task_v0.03', \n",
    "                sample_name='hs04', \n",
    "                sample_rng_seed=500,\n",
    "                hidden_units=150, \n",
    "                pho_units=250, \n",
    "                cleanup_units=50,\n",
    "                embed_attractor=None,\n",
    "                w_oh_noise=0.,   # Noise at weight not implement yet\n",
    "                w_hp_noise=0.,\n",
    "                w_pp_noise=0.,\n",
    "                w_pc_noise=0.,\n",
    "                w_cp_noise=0.,\n",
    "                act_p_noise=0., # Noise at activation is OK\n",
    "                tau=0.2, \n",
    "                unit_time=4., \n",
    "                n_mil_sample=1., \n",
    "                batch_size=64, \n",
    "                rnn_activation = 'sigmoid',\n",
    "                w_initializer = 'glorot_uniform',\n",
    "                learning_rate=0.005,\n",
    "                save_freq=5)\n"
   ]
  },
  {
   "cell_type": "markdown",
   "metadata": {
    "colab_type": "text",
    "id": "0IwxbE29_0yx"
   },
   "source": [
    "# Modeling"
   ]
  },
  {
   "cell_type": "markdown",
   "metadata": {
    "colab_type": "text",
    "id": "HFTsfceXUGIh"
   },
   "source": [
    "## Build model\n",
    "Fully custom 4-layer recurrent time-averaged input"
   ]
  },
  {
   "cell_type": "code",
   "execution_count": null,
   "metadata": {
    "colab": {
     "base_uri": "https://localhost:8080/",
     "height": 216
    },
    "colab_type": "code",
    "executionInfo": {
     "elapsed": 9892,
     "status": "ok",
     "timestamp": 1581348683298,
     "user": {
      "displayName": "Jason Lo",
      "photoUrl": "https://lh3.googleusercontent.com/a-/AAuE7mB2QWsl_vzihRifHZBxq7M-ofOQkG8cBrTfFhl_Kzs=s64",
      "userId": "10618067338459780934"
     },
     "user_tz": 300
    },
    "id": "h7_bIy_lOX4B",
    "outputId": "e1d6ba90-bcb9-465f-9a12-b303b3cc0ebf"
   },
   "outputs": [],
   "source": [
    "def buildModel(training=True):\n",
    "    from tensorflow.keras import Model\n",
    "    from tensorflow.keras.layers import Layer, Input\n",
    "    from custom_layer import rnn_pho_task\n",
    "    from tensorflow.keras.optimizers import Adam\n",
    "\n",
    "    # Train/test mode checking\n",
    "    if training is True:\n",
    "        cfg.w_oh_noise = cfg.w_oh_noise_backup\n",
    "        cfg.w_hp_noise = cfg.w_hp_noise_backup\n",
    "        cfg.w_pp_noise = cfg.w_pp_noise_backup\n",
    "        cfg.w_pc_noise = cfg.w_pc_noise_backup\n",
    "        cfg.w_cp_noise = cfg.w_cp_noise_backup\n",
    "        cfg.act_p_noise = cfg.act_p_noise_backup\n",
    "    else:\n",
    "        cfg.w_oh_noise = 0\n",
    "        cfg.w_hp_noise = 0\n",
    "        cfg.w_pp_noise = 0\n",
    "        cfg.w_pc_noise = 0\n",
    "        cfg.w_cp_noise = 0\n",
    "        cfg.act_p_noise = 0\n",
    "\n",
    "    input_o = Input(shape=(cfg.pho_units,))\n",
    "    rnn_model = rnn_pho_task(cfg)(input_o)\n",
    "    model = Model(input_o, rnn_model)\n",
    "\n",
    "    adam = Adam(learning_rate=cfg.learning_rate, beta_1=0.9, beta_2=0.999, amsgrad=False)\n",
    "\n",
    "    model.compile(loss='binary_crossentropy',\n",
    "                optimizer=adam,\n",
    "                metrics=['BinaryAccuracy', 'mse'])\n",
    "\n",
    "    model.summary()\n",
    "\n",
    "    return model\n",
    "\n",
    "model = buildModel(training=True)\n"
   ]
  },
  {
   "cell_type": "markdown",
   "metadata": {
    "colab_type": "text",
    "id": "oKUOoZkP8QiA"
   },
   "source": [
    "## Train model"
   ]
  },
  {
   "cell_type": "code",
   "execution_count": null,
   "metadata": {
    "colab": {
     "base_uri": "https://localhost:8080/",
     "height": 250
    },
    "colab_type": "code",
    "executionInfo": {
     "elapsed": 2616,
     "status": "ok",
     "timestamp": 1581348685950,
     "user": {
      "displayName": "Jason Lo",
      "photoUrl": "https://lh3.googleusercontent.com/a-/AAuE7mB2QWsl_vzihRifHZBxq7M-ofOQkG8cBrTfFhl_Kzs=s64",
      "userId": "10618067338459780934"
     },
     "user_tz": 300
    },
    "id": "UzTIeyDp4Mrz",
    "outputId": "da084caa-be29-4fc1-e0d6-5e15e916e52a"
   },
   "outputs": [],
   "source": [
    "from keras.callbacks import ModelCheckpoint\n",
    "from data_wrangling import sampleGenerator\n",
    "import h5py, pickle, os\n",
    "from IPython.display import clear_output\n",
    "\n",
    "from data_wrangling import my_data\n",
    "data = my_data(cfg)\n",
    "\n",
    "checkpoint = ModelCheckpoint(cfg.path_weights_checkpoint, verbose=1, \n",
    "                             period=cfg.save_freq, save_weights_only=True) \n",
    "\n",
    "history = model.fit(sampleGenerator(data.y_train, data.y_train, \n",
    "                                    cfg.n_timesteps - 14, cfg.batch_size, \n",
    "                                    data.sample_p, cfg.sample_rng_seed),\n",
    "                                    steps_per_epoch = cfg.steps_per_epoch,\n",
    "                                    epochs = cfg.nEpo,\n",
    "                                    verbose=0,  \n",
    "                                    callbacks=[checkpoint])\n",
    "\n",
    "\n",
    "# Saving history and model\n",
    "pickle_out = open(cfg.path_history_pickle,\"wb\")\n",
    "pickle.dump(history.history, pickle_out)\n",
    "pickle_out.close()\n",
    "\n",
    "clear_output()\n",
    "print('Training done')"
   ]
  },
  {
   "cell_type": "markdown",
   "metadata": {
    "colab_type": "text",
    "id": "VMmNcbJdcPMh"
   },
   "source": [
    "# Reporting"
   ]
  },
  {
   "cell_type": "markdown",
   "metadata": {
    "colab_type": "text",
    "id": "7BqpDOQStugK"
   },
   "source": [
    "Training history"
   ]
  },
  {
   "cell_type": "code",
   "execution_count": null,
   "metadata": {
    "colab": {
     "base_uri": "https://localhost:8080/",
     "height": 762
    },
    "colab_type": "code",
    "executionInfo": {
     "elapsed": 1434,
     "status": "ok",
     "timestamp": 1581347970076,
     "user": {
      "displayName": "Jason Lo",
      "photoUrl": "https://lh3.googleusercontent.com/a-/AAuE7mB2QWsl_vzihRifHZBxq7M-ofOQkG8cBrTfFhl_Kzs=s64",
      "userId": "10618067338459780934"
     },
     "user_tz": 300
    },
    "id": "qHSvyt9BbJgo",
    "outputId": "cc8a416e-07db-4739-e2d4-cea6b4c6e488"
   },
   "outputs": [],
   "source": [
    "from my_eval import training_history\n",
    "\n",
    "hist = training_history(cfg.path_history_pickle)\n",
    "hist.plot_all(cfg.path_plot_folder + 'history.html')"
   ]
  },
  {
   "cell_type": "markdown",
   "metadata": {},
   "source": [
    "Weight matrixs"
   ]
  },
  {
   "cell_type": "code",
   "execution_count": null,
   "metadata": {},
   "outputs": [],
   "source": [
    "from misc import plot_variables\n",
    "plot_variables(model)"
   ]
  },
  {
   "cell_type": "markdown",
   "metadata": {},
   "source": [
    "Prediction"
   ]
  },
  {
   "cell_type": "code",
   "execution_count": null,
   "metadata": {},
   "outputs": [],
   "source": [
    "from my_eval import get_all_pronunciations_fast\n",
    "y_pred_matrix = model.predict(data.y_strain)\n",
    "y_pred = get_all_pronunciations_fast(y_pred_matrix[-1], data.phon_key)\n",
    "#y_pred = get_all_pronunciations_fast(y_pred_matrix, data.phon_key)\n",
    "y_true = get_all_pronunciations_fast(data.y_strain, data.phon_key)\n",
    "\n",
    "print('\\n Y-predicts are: \\n')\n",
    "print(y_pred)\n",
    "print('\\n Y-trues are: \\n')\n",
    "print(y_true)"
   ]
  },
  {
   "cell_type": "code",
   "execution_count": null,
   "metadata": {},
   "outputs": [],
   "source": [
    "!jupyter nbconvert --to html --output-dir=$cfg.path_model_folder attractor.ipynb"
   ]
  }
 ],
 "metadata": {
  "accelerator": "GPU",
  "colab": {
   "collapsed_sections": [],
   "name": "basicO2P_master.ipynb",
   "provenance": []
  },
  "kernelspec": {
   "display_name": "Python 3",
   "language": "python",
   "name": "python3"
  },
  "language_info": {
   "codemirror_mode": {
    "name": "ipython",
    "version": 3
   },
   "file_extension": ".py",
   "mimetype": "text/x-python",
   "name": "python",
   "nbconvert_exporter": "python",
   "pygments_lexer": "ipython3",
   "version": "3.5.3"
  }
 },
 "nbformat": 4,
 "nbformat_minor": 4
}
