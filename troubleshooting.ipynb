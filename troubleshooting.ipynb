{
 "cells": [
  {
   "cell_type": "markdown",
   "metadata": {},
   "source": [
    "# Suspect of too low accuracy in Lesion model\n",
    "Vocabulary: \n",
    "- boardcasting: when adding tensor with different dimension, for example input_p (dim = [batch_size, 250]) and bias_p (dim = [1, 250]), bias_p will automatically \"boardcast\" to (batch_size, 250) during the elementwise addition\n",
    "\n",
    "When input information have not reach a layer, it will assume the first axis (batch_size) = 1 \n",
    "however, the batch_size won't matter... since tf.matmul batch_axis is independent with each other...  \n"
   ]
  },
  {
   "cell_type": "code",
   "execution_count": null,
   "metadata": {},
   "outputs": [],
   "source": [
    "import tensorflow as tf\n",
    "import pandas as pd\n",
    "import os \n",
    "import meta, modeling, data_wrangling, evaluate\n",
    "from importlib import reload\n",
    "reload(modeling)\n",
    "\n",
    "\n",
    "def init(code_name):\n",
    "    cfg = meta.ModelConfig.from_json(\n",
    "        os.path.join(\"models\", code_name, \"model_config.json\")\n",
    "    )\n",
    "    cfg.output_ticks = 13\n",
    "    model = modeling.MyModel(cfg, batch_size_override=100)\n",
    "    model.load_weights(cfg.saved_weights_fstring.format(epoch=300))\n",
    "    return cfg, model\n",
    "\n",
    "\n",
    "cfg, model = init(\"Refrac_5M\")\n",
    "train100 = data_wrangling.load_testset('dataset/testsets/train_r100.pkl.gz')\n",
    "\n"
   ]
  },
  {
   "cell_type": "markdown",
   "metadata": {},
   "source": [
    "# Load testset and evaluate an epoch\n",
    "## y_pred[task][output_name][timetick][tensor]"
   ]
  },
  {
   "cell_type": "code",
   "execution_count": null,
   "metadata": {},
   "outputs": [],
   "source": [
    "model.set_active_task(\"triangle\")\n",
    "y_pred = model([train100['ort']] * cfg.n_timesteps)\n",
    "\n",
    "print(f\"Output keys: {y_pred.keys()}\")\n",
    "print(f\"Weight tensors: {[w.name for w in model.weights]}\")\n"
   ]
  },
  {
   "cell_type": "code",
   "execution_count": null,
   "metadata": {},
   "outputs": [],
   "source": [
    "# Collecting SEM layer useful values\n",
    "\n",
    "idx = train100['item'].index(\"fit\")\n",
    "df_dict = {}\n",
    "\n",
    "# Time invariant elements\n",
    "df_dict['target'] = train100['sem'][idx, :].numpy()\n",
    "df_dict['bias'] = [w.numpy() for w in model.weights if w.name == 'my_model/bias_s:0'][0]\n",
    "df_dict['act_sem'] = y_pred['sem'][-1,idx,:].numpy() # Last tick activation\n",
    "\n",
    "NAME_MAP = {'input_hps_hs':'PS', 'input_css_cs':'CS', 'input_sem_ss':'SS', 'input_hos_hs':'OS', 'sem':'act_sem'}\n",
    "# Time varying elements\n"
   ]
  },
  {
   "cell_type": "code",
   "execution_count": null,
   "metadata": {},
   "outputs": [],
   "source": [
    "\n",
    "df = pd.DataFrame()\n",
    "for input_name in ('input_hps_hs', 'input_css_cs', 'input_sem_ss', 'input_hos_hs', 'sem'):\n",
    "    this_input_df = pd.DataFrame()\n",
    "    for t in range(13):\n",
    "        df_dict = {}\n",
    "        df_dict[NAME_MAP[input_name]] = y_pred[input_name][t,idx,:].numpy()\n",
    "        this_step_df = pd.DataFrame.from_dict(df_dict)\n",
    "        this_step_df['timetick'] = t\n",
    "        this_step_df['unit'] = this_step_df.index\n",
    "        this_input_df = pd.concat([this_input_df, this_step_df])\n",
    "    df = pd.concat([df, this_input_df], axis=1)\n",
    "\n",
    "df[['timetick', 'unit', 'act_sem', 'OS', 'SS', 'CS', 'PS']]\n"
   ]
  },
  {
   "cell_type": "code",
   "execution_count": null,
   "metadata": {},
   "outputs": [],
   "source": [
    "df"
   ]
  },
  {
   "cell_type": "code",
   "execution_count": null,
   "metadata": {},
   "outputs": [],
   "source": [
    "pdf = df[['target', 'bias', 'act_12']].copy()\n",
    "pdf['unit'] = pdf.index"
   ]
  },
  {
   "cell_type": "code",
   "execution_count": null,
   "metadata": {},
   "outputs": [],
   "source": [
    "import altair as alt\n",
    "\n",
    "unit_selection = alt.selection_single()\n",
    "\n",
    "point = alt.Chart(pdf).mark_point().encode(\n",
    "    x='bias:Q',\n",
    "    y='act_12:Q',\n",
    "    color=\"target:N\",\n",
    "    opacity=alt.condition(unit_selection, alt.value(1.), alt.value(0.2)),\n",
    "    tooltip=['unit', 'target', 'act_12', 'bias']\n",
    ").add_selection(unit_selection)\n",
    "\n",
    "vline = alt.Chart(pd.DataFrame({'x': [0.]})).mark_rule(color='red', strokeWidth=3).encode(x='x:Q')\n",
    "vline + point"
   ]
  },
  {
   "cell_type": "code",
   "execution_count": null,
   "metadata": {},
   "outputs": [],
   "source": [
    "import altair as alt\n",
    "\n",
    "def plot_activation_by_target(df):\n",
    "    sdf = df[['target', 'bias', 'act_12']]\n",
    "    sdf = sdf.pivot_table(column='target').reset_index()\n",
    "\n",
    "    plot_activation = (\n",
    "        alt.Chart(sdf).mark_point().encode(\n",
    "        x=alt.X(\"1:Q\", scale=alt.Scale(domain=(0,1)), title=\"Activation for target node = 1\"),\n",
    "        y=alt.Y(\"0:Q\", scale=alt.Scale(reverse=True, domain=(0,1)), title=\"Activation for target node = 0\"),\n",
    "        color=\"task:N\",\n",
    "        detail=\"word:N\",\n",
    "        column=alt.Column(\"acc:N\", title=\"Prediction accuracy\"),\n",
    "        tooltip=['word', 'acc', 'sse', 'act0', 'act1' ]\n",
    "        )\n",
    "        .transform_filter(interval_epoch)\n",
    "        .transform_filter(t)\n",
    "        .properties(title=f\"{output} diagnostic\")\n",
    "    )\n",
    "\n",
    "    return epoch_selection & timetick_sel & plot_activation\n"
   ]
  },
  {
   "cell_type": "code",
   "execution_count": null,
   "metadata": {},
   "outputs": [],
   "source": [
    "train100['sem'][idx, :].numpy()"
   ]
  },
  {
   "cell_type": "code",
   "execution_count": null,
   "metadata": {},
   "outputs": [],
   "source": [
    "y_pred['sem'][,idx,:].numpy()"
   ]
  },
  {
   "cell_type": "code",
   "execution_count": null,
   "metadata": {},
   "outputs": [],
   "source": [
    "pd.DataFrame.from_dict(df_dict)"
   ]
  },
  {
   "cell_type": "code",
   "execution_count": null,
   "metadata": {},
   "outputs": [],
   "source": [
    "bias_s = "
   ]
  },
  {
   "cell_type": "code",
   "execution_count": null,
   "metadata": {},
   "outputs": [],
   "source": [
    "bias_s"
   ]
  },
  {
   "cell_type": "code",
   "execution_count": null,
   "metadata": {},
   "outputs": [],
   "source": []
  },
  {
   "cell_type": "code",
   "execution_count": null,
   "metadata": {},
   "outputs": [],
   "source": []
  },
  {
   "cell_type": "code",
   "execution_count": null,
   "metadata": {},
   "outputs": [],
   "source": []
  },
  {
   "cell_type": "code",
   "execution_count": null,
   "metadata": {},
   "outputs": [],
   "source": [
    "[print(w.index) for w in train100['item'] if w == 'close']"
   ]
  },
  {
   "cell_type": "code",
   "execution_count": null,
   "metadata": {},
   "outputs": [],
   "source": [
    "# Input from O to S, more precisely: tf.matmul(hos, w_hos_hs)  \n",
    "os = y_pred['input_hos_hs']\n",
    "\n",
    "# Input from P to S, more precisely: tf.matmul(hps, w_hps_hs)\n",
    "ps = y_pred['input_hps_hs']\n",
    "\n",
    "# Input from C to S, more precisely: tf.matmul(css, w_cs)\n",
    "cs = y_pred['input_css_cs']\n",
    "\n",
    "# Input from S to S, more precisely: tf.matmul(sem, w_ss)\n",
    "ss = y_pred['input_sem_ss']\n",
    "\n",
    "# Input from O to P, more precisely: tf.matmul(hop, w_hop_hp)\n",
    "op = y_pred['input_hop_hp']\n",
    "\n",
    "print(f\"OS shape:{os.shape}\")\n",
    "print(f\"PS shape:{ps.shape}\")\n",
    "print(f\"CS shape:{cs.shape}\")\n",
    "print(f\"SS shape:{ss.shape}\")\n",
    "print(f\"OP shape:{op.shape}\")"
   ]
  },
  {
   "cell_type": "code",
   "execution_count": null,
   "metadata": {},
   "outputs": [],
   "source": [
    "def mean_unit_input(tensor, mask=None):\n",
    "    \"\"\"Mask with output target, reduce sum on items (axis1), mean on units (axis2)\"\"\"\n",
    "    if mask is not None:\n",
    "        tensor = tf.multiply(tensor, mask)\n",
    "    return tf.reduce_mean(tf.reduce_mean(tensor, axis=-1), axis=-1)\n",
    "\n"
   ]
  },
  {
   "cell_type": "code",
   "execution_count": null,
   "metadata": {},
   "outputs": [],
   "source": [
    "\n",
    "results_dict = {k: mean_unit_input(globals()[k], train100['sem']) for k in ('os', 'ps', 'cs', 'ss')}\n",
    "results_dict['op'] = mean_unit_input(op, train100['pho'])\n",
    "dol_df = pd.DataFrame.from_dict(results_dict)\n",
    "dol_df.plot(title=\"one target\")"
   ]
  },
  {
   "cell_type": "code",
   "execution_count": null,
   "metadata": {},
   "outputs": [],
   "source": [
    "results_dict = {k: mean_unit_input(globals()[k], 1-train100['sem']) for k in ('os', 'ps', 'cs', 'ss')}\n",
    "results_dict['op'] = mean_unit_input(op, 1-train100['pho'])\n",
    "dol_df = pd.DataFrame.from_dict(results_dict)\n",
    "dol_df.plot(title=\"zero target\")"
   ]
  },
  {
   "cell_type": "code",
   "execution_count": null,
   "metadata": {},
   "outputs": [],
   "source": [
    "bias_s = [w for w in model.weights if w.name == \"my_model/bias_s:0\"]\n",
    "bias_p = [w for w in model.weights if w.name == \"my_model/bias_p:0\"]\n",
    "print(f\"mean bias S: {tf.reduce_mean(bias_s)}; P: {tf.reduce_mean(bias_p)}\")"
   ]
  },
  {
   "cell_type": "markdown",
   "metadata": {},
   "source": [
    "- Kind of neutral P bias\n",
    "- Positive bias in S??? is counter int"
   ]
  },
  {
   "cell_type": "code",
   "execution_count": null,
   "metadata": {},
   "outputs": [],
   "source": []
  },
  {
   "cell_type": "code",
   "execution_count": null,
   "metadata": {},
   "outputs": [],
   "source": [
    "tf."
   ]
  },
  {
   "cell_type": "code",
   "execution_count": null,
   "metadata": {},
   "outputs": [],
   "source": []
  },
  {
   "cell_type": "code",
   "execution_count": null,
   "metadata": {},
   "outputs": [],
   "source": []
  },
  {
   "cell_type": "code",
   "execution_count": null,
   "metadata": {},
   "outputs": [],
   "source": []
  },
  {
   "cell_type": "code",
   "execution_count": null,
   "metadata": {},
   "outputs": [],
   "source": []
  },
  {
   "cell_type": "code",
   "execution_count": null,
   "metadata": {},
   "outputs": [],
   "source": []
  }
 ],
 "metadata": {
  "language_info": {
   "name": "python"
  }
 },
 "nbformat": 4,
 "nbformat_minor": 2
}
