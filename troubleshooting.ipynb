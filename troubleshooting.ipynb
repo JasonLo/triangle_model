{
 "cells": [
  {
   "cell_type": "markdown",
   "metadata": {},
   "source": [
    "# Troubleshooting\n",
    "- To troubleshoot I need to know everything about a model at an epoch"
   ]
  },
  {
   "cell_type": "markdown",
   "metadata": {},
   "source": [
    "# Examine a single word  \n"
   ]
  },
  {
   "cell_type": "code",
   "execution_count": null,
   "metadata": {},
   "outputs": [],
   "source": [
    "import os\n",
    "import troubleshooting\n",
    "import data_wrangling\n",
    "import tensorflow as tf\n",
    "import matplotlib.pyplot as plt\n",
    "from IPython.display import clear_output\n",
    "from ipywidgets import interact\n",
    "from tqdm import tqdm\n",
    "import pandas as pd\n",
    "import numpy as np\n",
    "import altair as alt\n"
   ]
  },
  {
   "cell_type": "markdown",
   "metadata": {},
   "source": [
    "# Intactive input/act"
   ]
  },
  {
   "cell_type": "code",
   "execution_count": null,
   "metadata": {},
   "outputs": [],
   "source": [
    "batch_name = \"OP_SGD_lr_tune\"\n",
    "code_name = 'OP_SGD_lr_tune_r0009'\n",
    "testset_name = 'train_r100'\n",
    "testset = data_wrangling.load_testset(testset_name)\n",
    "d = troubleshooting.Diagnosis(f\"{batch_name}/{code_name}\")\n",
    "clear_output()"
   ]
  },
  {
   "cell_type": "code",
   "execution_count": null,
   "metadata": {},
   "outputs": [],
   "source": [
    "d.eval('train_r100', task=\"triangle\", epoch=200)"
   ]
  },
  {
   "cell_type": "markdown",
   "metadata": {},
   "source": [
    "# An overall temporal dynamics of the model (HS04 fig. 12)"
   ]
  },
  {
   "cell_type": "code",
   "execution_count": null,
   "metadata": {},
   "outputs": [],
   "source": [
    "class temporal_diagnostic:\n",
    "    \"\"\"Examine the temporal dynamic of inputs similar to HS04 fig 12\"\"\"\n",
    "\n",
    "    def __init__(self, diagnosis: troubleshooting.Diagnosis):\n",
    "        \"\"\"Remember to do this first before init: d.eval('train_r100', task=\"triangle\", epoch=1000).\"\"\"\n",
    "        self.d = diagnosis\n",
    "        self.words = self.d.testset_package[\"item\"]\n",
    "        self.df = self.create_df()\n",
    "\n",
    "    def get_all_act1(self, word: str, output: str):\n",
    "        \"\"\"Get all detailed input diagnoistic in a word at target node == 1\"\"\"\n",
    "        self.d.set_target_word(word, verbose=False)\n",
    "        if output == \"pho\":\n",
    "            return self.d.word_pho_df.loc[d.word_pho_df.target_act == 1]\n",
    "        elif output == \"sem\":\n",
    "            return self.d.word_sem_df.loc[d.word_sem_df.target_act == 1]\n",
    "\n",
    "    def create_df(self):\n",
    "        \"\"\"Create a dataframe for plotting.\"\"\"\n",
    "        df_sem = pd.concat(\n",
    "            [self.get_all_act1(word, \"sem\") for word in tqdm(self.words)],\n",
    "            ignore_index=True,\n",
    "        )\n",
    "        df_sem[\"output\"] = \"sem\"\n",
    "        df_sem = df_sem.loc[df_sem.variable.isin([\"PS\", \"CS\", \"OS\"])]\n",
    "\n",
    "        df_pho = pd.concat(\n",
    "            [self.get_all_act1(word, \"pho\") for word in self.words],\n",
    "            ignore_index=True,\n",
    "        )\n",
    "        df_pho[\"output\"] = \"pho\"\n",
    "        df_pho = df_pho.loc[df_pho.variable.isin([\"SP\", \"CP\", \"OP\"])]\n",
    "        df = pd.concat([df_sem, df_pho], ignore_index=True)\n",
    "        return df.groupby([\"timetick\", \"variable\"]).mean().reset_index()\n",
    "\n",
    "    def plot(self):\n",
    "        selection = alt.selection_multi(fields=[\"variable\"], bind=\"legend\")\n",
    "        return (\n",
    "            alt.Chart(self.df)\n",
    "            .mark_line()\n",
    "            .encode(\n",
    "                x=\"timetick:Q\",\n",
    "                y=\"value:Q\",\n",
    "                color=\"variable:N\",\n",
    "                opacity=alt.condition(selection, alt.value(1), alt.value(0.2)),\n",
    "            )\n",
    "            .add_selection(selection)\n",
    "            .properties(\n",
    "                title=f\"{code_name}: Input temporal dynamic at the end of training among {testset_name}\"\n",
    "            )\n",
    "        )\n"
   ]
  },
  {
   "cell_type": "code",
   "execution_count": null,
   "metadata": {},
   "outputs": [],
   "source": [
    "td = temporal_diagnostic(d)\n"
   ]
  },
  {
   "cell_type": "code",
   "execution_count": null,
   "metadata": {},
   "outputs": [],
   "source": [
    "td.plot()"
   ]
  },
  {
   "cell_type": "markdown",
   "metadata": {},
   "source": [
    "# Interactive plot to examine a single word"
   ]
  },
  {
   "cell_type": "code",
   "execution_count": null,
   "metadata": {},
   "outputs": [],
   "source": [
    "@interact(\n",
    "    sel_word=testset['item'], \n",
    "    layer=['pho', 'sem'], \n",
    "    task=['triangle', 'ort_pho', 'exp_osp', 'ort_sem', 'exp_ops'], \n",
    "    epoch=(d.cfg.save_freq, d.cfg.total_number_of_epoch + 1, d.cfg.save_freq)\n",
    "    )\n",
    "def interactive_plot(sel_word, layer, task, epoch):\n",
    "    d.eval(testset_name, task=task, epoch=epoch)\n",
    "    d.set_target_word(sel_word)\n",
    "    print(f\"Output phoneme over timeticks: {d.list_output_phoneme}\")\n",
    "    return d.plot_one_layer(layer)"
   ]
  },
  {
   "cell_type": "markdown",
   "metadata": {},
   "source": [
    "# Cooperative vs. competitive relationship"
   ]
  },
  {
   "cell_type": "code",
   "execution_count": null,
   "metadata": {},
   "outputs": [],
   "source": [
    "def get_all_input_over_epoch(word:str):\n",
    "    \"\"\"Get all details over epoch in one word at last timetick.\"\"\"\n",
    "\n",
    "    df_pho = pd.DataFrame()\n",
    "    df_sem = pd.DataFrame()\n",
    "\n",
    "    early_epochs = range(1, 11)\n",
    "    later_epochs = range(d.cfg.save_freq, 1001, d.cfg.save_freq)\n",
    "    epochs = list(early_epochs) + list(later_epochs)\n",
    "\n",
    "    for epoch in tqdm(epochs):\n",
    "\n",
    "        d.eval(testset_name, task='triangle', epoch=epoch)\n",
    "        d.set_target_word(word)\n",
    "\n",
    "        this_pho = d.word_pho_df.loc[d.word_pho_df.timetick == 12]\n",
    "        this_pho['epoch'] = epoch\n",
    "        df_pho = df_pho.append(this_pho, ignore_index=True)\n",
    "        \n",
    "        this_sem = d.word_sem_df.loc[d.word_sem_df.timetick == 12]\n",
    "        this_sem['epoch'] = epoch\n",
    "        df_sem = df_sem.append(this_sem, ignore_index=True)\n",
    "\n",
    "        clear_output(wait=True)\n",
    "    \n",
    "    return df_pho, df_sem"
   ]
  },
  {
   "cell_type": "code",
   "execution_count": null,
   "metadata": {},
   "outputs": [],
   "source": [
    "def get_on_nodes(word:str, representation:str) -> dict:\n",
    "    \"\"\"Gets the on nodes of a word in a given representation.\"\"\"\n",
    "    w_idx = d.testset_package['item'].index(word)\n",
    "    p = d.testset_package[representation][w_idx]\n",
    "    return [x[0] for x in tf.where(p).numpy()]"
   ]
  },
  {
   "cell_type": "code",
   "execution_count": null,
   "metadata": {},
   "outputs": [],
   "source": [
    "import altair as alt\n",
    "alt.data_transformers.disable_max_rows()\n",
    "\n",
    "def plot_input_developmental(df: pd.DataFrame, units:list):\n",
    "    \"\"\"Plot how input change over epoch in a word\"\"\"\n",
    "    title = f\"Development of input over epoch at nodes: {units}\"\n",
    "    df = df.loc[df.unit.isin(units)]\n",
    "\n",
    "    sel_vars = ['CP', 'OP', 'SP', 'OS', 'CS', 'PS']\n",
    "    df = df.loc[df.variable.isin(sel_vars)]\n",
    "    \n",
    "    selection = alt.selection_multi(fields=['variable'], bind='legend')\n",
    "    return (\n",
    "        alt.Chart(df)\n",
    "        .mark_line()\n",
    "        .encode(\n",
    "            x='epoch:Q',\n",
    "            y='mean(value):Q',\n",
    "            color='variable',\n",
    "            opacity=alt.condition(selection, alt.value(1), alt.value(0.2)))\n",
    "        .add_selection(selection)\n",
    "        .properties(title=title))"
   ]
  },
  {
   "cell_type": "code",
   "execution_count": null,
   "metadata": {},
   "outputs": [],
   "source": [
    "word = 'close'\n",
    "\n",
    "df_pho, df_sem = get_all_input_over_epoch(word)\n",
    "get_on_nodes(word, 'pho')"
   ]
  },
  {
   "cell_type": "code",
   "execution_count": null,
   "metadata": {},
   "outputs": [],
   "source": [
    "off_nodes = set(range(250)).difference(get_on_nodes(word, 'pho'))"
   ]
  },
  {
   "cell_type": "code",
   "execution_count": null,
   "metadata": {},
   "outputs": [],
   "source": [
    "plot_input_developmental(df_pho, off_nodes)"
   ]
  },
  {
   "cell_type": "code",
   "execution_count": null,
   "metadata": {},
   "outputs": [],
   "source": [
    "plot_input_developmental(df_pho, get_on_nodes(word, 'pho'))"
   ]
  },
  {
   "cell_type": "code",
   "execution_count": null,
   "metadata": {},
   "outputs": [],
   "source": [
    "def plot_slot(slot: int):\n",
    "    \"\"\"Plotting on and off nodes' input by slot.\"\"\"\n",
    "    units = range(slot*25, (slot+1)*25)\n",
    "    on_nodes = get_on_nodes(word, 'pho')\n",
    "    on_plot = plot_input_developmental(df_pho, [x for x in units if x in on_nodes])\n",
    "    off_plot = plot_input_developmental(df_pho, [x for x in units if x not in on_nodes])\n",
    "    return on_plot | off_plot\n",
    "\n",
    "plot_slot(0)"
   ]
  },
  {
   "cell_type": "code",
   "execution_count": null,
   "metadata": {},
   "outputs": [],
   "source": [
    "plot_slot(1)"
   ]
  },
  {
   "cell_type": "code",
   "execution_count": null,
   "metadata": {},
   "outputs": [],
   "source": [
    "plot_slot(2)"
   ]
  },
  {
   "cell_type": "code",
   "execution_count": null,
   "metadata": {},
   "outputs": [],
   "source": [
    "plot_slot(3)"
   ]
  },
  {
   "cell_type": "code",
   "execution_count": null,
   "metadata": {},
   "outputs": [],
   "source": [
    "plot_slot(4)"
   ]
  },
  {
   "cell_type": "code",
   "execution_count": null,
   "metadata": {},
   "outputs": [],
   "source": [
    "plot_slot(5)"
   ]
  },
  {
   "cell_type": "code",
   "execution_count": null,
   "metadata": {},
   "outputs": [],
   "source": [
    "plot_slot(6)"
   ]
  },
  {
   "cell_type": "code",
   "execution_count": null,
   "metadata": {},
   "outputs": [],
   "source": [
    "plot_slot(7)"
   ]
  },
  {
   "cell_type": "code",
   "execution_count": null,
   "metadata": {},
   "outputs": [],
   "source": [
    "plot_slot(8)"
   ]
  },
  {
   "cell_type": "code",
   "execution_count": null,
   "metadata": {},
   "outputs": [],
   "source": [
    "plot_slot(9)"
   ]
  },
  {
   "cell_type": "code",
   "execution_count": null,
   "metadata": {},
   "outputs": [],
   "source": [
    "plot_input_developmental(df_sem, get_on_nodes(word, 'sem'))"
   ]
  },
  {
   "cell_type": "markdown",
   "metadata": {},
   "source": [
    "# Prediction from zero inputs"
   ]
  },
  {
   "cell_type": "code",
   "execution_count": null,
   "metadata": {},
   "outputs": [],
   "source": [
    "import modeling\n",
    "model = modeling.TriangleModel(cfg)(cfg=d.cfg, batch_size_override=1)\n",
    "epoch=100\n",
    "saved_checkpoint = d.cfg.saved_checkpoints_fstring.format(epoch=epoch)\n",
    "\n",
    "ckpt = tf.train.Checkpoint(model=model)\n",
    "ckpt.restore(saved_checkpoint).expect_partial()\n",
    "model.set_active_task('triangle')\n",
    "zero_inputs = tf.zeros(shape=[1, d.cfg.ort_units])\n",
    "y_pred = model([zero_inputs] * 12)"
   ]
  },
  {
   "cell_type": "code",
   "execution_count": null,
   "metadata": {},
   "outputs": [],
   "source": [
    "y_pred['input_hop_hp'][-1,:,:].numpy().mean()\n",
    "y_pred['input_hop_hp'][-1,:,:].numpy().mean()\n",
    "y_pred['input_hop_hp'][-1,:,:].numpy().mean()"
   ]
  },
  {
   "cell_type": "code",
   "execution_count": null,
   "metadata": {},
   "outputs": [],
   "source": []
  },
  {
   "cell_type": "code",
   "execution_count": null,
   "metadata": {},
   "outputs": [],
   "source": [
    "y_pred['pho']"
   ]
  },
  {
   "cell_type": "code",
   "execution_count": null,
   "metadata": {},
   "outputs": [],
   "source": [
    "y_pred['pho'][12, :, 46]"
   ]
  },
  {
   "cell_type": "markdown",
   "metadata": {},
   "source": [
    "## Explore Cosine vs. target\n",
    "Run cosine(sigmoid(input), target) "
   ]
  },
  {
   "cell_type": "code",
   "execution_count": null,
   "metadata": {},
   "outputs": [],
   "source": [
    "class MyCosine:\n",
    "    \n",
    "    def __init__(self, y_true):\n",
    "        self.y_true = y_true\n",
    "\n",
    "    @staticmethod\n",
    "    def sigmoid(x):\n",
    "        return tf.keras.activations.sigmoid(x)\n",
    "\n",
    "    def cosine(self, y_pred):\n",
    "        return -tf.keras.losses.cosine_similarity(self.y_true, y_pred)\n",
    "\n",
    "    def cosine_on_time_axis(self, ys):\n",
    "        return tf.map_fn(self.cosine, ys)\n",
    "\n",
    "    def __call__(self, ys, apply_sigmoid=False):\n",
    "\n",
    "        if apply_sigmoid:\n",
    "            ys = self.sigmoid(ys)\n",
    "\n",
    "        return tf.reduce_mean(self.cosine_on_time_axis(ys), axis=-1).numpy()\n",
    "\n",
    "    def plot(self, ys, apply_sigmoid=False):\n",
    "        plt.plot(self.__call__(ys, apply_sigmoid))\n",
    "        plt.show()\n",
    "\n",
    "# Instantiating the cosine metric\n",
    "cos = MyCosine(y_true=d.testset_package['sem'])"
   ]
  },
  {
   "cell_type": "markdown",
   "metadata": {},
   "source": [
    "### SEM"
   ]
  },
  {
   "cell_type": "code",
   "execution_count": null,
   "metadata": {},
   "outputs": [],
   "source": [
    "ps = cos(d.y_pred['input_hps_hs'], apply_sigmoid=True)\n",
    "cs = cos(d.y_pred['input_css_cs'], apply_sigmoid=True)\n",
    "os = cos(d.y_pred['input_hos_hs'], apply_sigmoid=True)\n",
    "inp = cos(d.y_pred['input_sem'], apply_sigmoid=True)\n",
    "act_s = cos(d.y_pred['sem'], apply_sigmoid=False)\n",
    "\n",
    "plt.plot(ps, label='ps')\n",
    "plt.plot(cs, label='cs')\n",
    "plt.plot(os, label='os')\n",
    "plt.plot(inp, label='sum_input')\n",
    "plt.plot(act_s, label='s')\n",
    "plt.legend()"
   ]
  },
  {
   "cell_type": "markdown",
   "metadata": {},
   "source": [
    "### PHO"
   ]
  },
  {
   "cell_type": "code",
   "execution_count": null,
   "metadata": {},
   "outputs": [],
   "source": [
    "cos = MyCosine(y_true=d.testset_package['pho'])\n",
    "\n",
    "sp = cos(d.y_pred['input_hsp_hp'], apply_sigmoid=True)\n",
    "cp = cos(d.y_pred['input_cpp_cp'], apply_sigmoid=True)\n",
    "op = cos(d.y_pred['input_hop_hp'], apply_sigmoid=True)\n",
    "inp = cos(d.y_pred['input_pho'], apply_sigmoid=True)\n",
    "act_p = cos(d.y_pred['pho'], apply_sigmoid=False)\n",
    "\n",
    "plt.plot(sp, label='sp')\n",
    "plt.plot(cp, label='cp')\n",
    "plt.plot(op, label='op')\n",
    "plt.plot(inp, label='sum_input')\n",
    "plt.plot(act_p, label='p')\n",
    "plt.legend()"
   ]
  }
 ],
 "metadata": {
  "interpreter": {
   "hash": "d4d1e4263499bec80672ea0156c357c1ee493ec2b1c70f0acce89fc37c4a6abe"
  },
  "kernelspec": {
   "display_name": "Python 3.7.10 64-bit ('base': conda)",
   "name": "python3"
  },
  "language_info": {
   "codemirror_mode": {
    "name": "ipython",
    "version": 3
   },
   "file_extension": ".py",
   "mimetype": "text/x-python",
   "name": "python",
   "nbconvert_exporter": "python",
   "pygments_lexer": "ipython3",
   "version": "3.6.9"
  }
 },
 "nbformat": 4,
 "nbformat_minor": 4
}
