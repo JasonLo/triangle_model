{
 "cells": [
  {
   "cell_type": "markdown",
   "metadata": {},
   "source": [
    "# Examine a single word  \n"
   ]
  },
  {
   "cell_type": "code",
   "execution_count": null,
   "metadata": {},
   "outputs": [],
   "source": [
    "import tensorflow as tf\n",
    "import pandas as pd\n",
    "import altair as alt\n",
    "import os, random\n",
    "import meta, modeling, data_wrangling, evaluate, troubleshooting\n",
    "from importlib import reload\n"
   ]
  },
  {
   "cell_type": "markdown",
   "metadata": {},
   "source": [
    "# Word options in 100 random\n",
    " - pans, loose, youth, finds, her, strifes\n",
    " - all others: ['wasps', 'taut', 'lived', 'close', 'side', 'mope', 'loose', 'hocks', 'join', 'shared', 'wort', 'her', 'thanks', 'lee', 'whig', 'lot', 'tie', 'walls', 'fronts', 'plops', 'kill', 'gauze', 'grief', 'block', 'grind', 'homes', 'keep', 'plume', 'fart', 'lien', 'rags', 'flanks', 'wastes', 'true', 'praised', 'cram', 'shed', 'dent', 'breadths', 'pale', 'jeeps', 'peep', 'trades', 'chin', 'read', 'rungs', 'lolled', 'strifes', 'picks', 'braille', 'wailed', 'when', 'thin', 'fit', 'slut', 'cabs', 'grave', 'lights', 'coos', 'pans', 'gripe', 'whip', 'hug', 'squads', 'chip', 'lurked', 'filths', 'theme', 'craze', 'youth', 'watt', 'squid', 'tsars', 'soups', 'string', 'moose', 'zinc', 'class', 'snips', 'sick', 'cleave', 'shone', 'vow', 'wig', 'quakes', 'scram', 'kale', 'mag', 'yawn', 'sup', 'chow', 'pinged', 'seal', 'staffs', 'wage', 'crone', 'finds', 'moats', 'gob', 'feuds']"
   ]
  },
  {
   "cell_type": "markdown",
   "metadata": {},
   "source": [
    "# Parameter block"
   ]
  },
  {
   "cell_type": "code",
   "execution_count": null,
   "metadata": {},
   "outputs": [],
   "source": [
    "code_name = 'Refrac3_local'\n",
    "selected_word = 'strifes'\n",
    "epoch = 300\n",
    "testset_name = 'train_r100'"
   ]
  },
  {
   "cell_type": "markdown",
   "metadata": {},
   "source": [
    "## Instantiate Diagnosis class"
   ]
  },
  {
   "cell_type": "code",
   "execution_count": null,
   "metadata": {},
   "outputs": [],
   "source": [
    "reload(troubleshooting)\n",
    "d = troubleshooting.Diagnosis(code_name)"
   ]
  },
  {
   "cell_type": "markdown",
   "metadata": {},
   "source": [
    "# Intact SEM"
   ]
  },
  {
   "cell_type": "code",
   "execution_count": null,
   "metadata": {},
   "outputs": [],
   "source": [
    "d.eval(testset_name, task='triangle', epoch=epoch)\n",
    "d.set_target_word(selected_word)\n",
    "intact_sem = d.plot_one_layer('sem')\n",
    "intact_sem.save(os.path.join(d.cfg.plot_folder, f\"intact_sem_{selected_word}.html\"))\n",
    "intact_sem"
   ]
  },
  {
   "cell_type": "markdown",
   "metadata": {},
   "source": [
    "# OS SEM"
   ]
  },
  {
   "cell_type": "code",
   "execution_count": null,
   "metadata": {},
   "outputs": [],
   "source": [
    "d.eval(testset_name, task='ort_sem', epoch=epoch)\n",
    "d.set_target_word(selected_word)\n",
    "OS_sem = d.plot_one_layer('sem')\n",
    "OS_sem.save(os.path.join(d.cfg.plot_folder, f\"OS_sem_{selected_word}.html\"))\n",
    "OS_sem"
   ]
  },
  {
   "cell_type": "markdown",
   "metadata": {},
   "source": [
    "# OPS SEM"
   ]
  },
  {
   "cell_type": "code",
   "execution_count": null,
   "metadata": {},
   "outputs": [],
   "source": [
    "d.eval(testset_name, task='exp_ops', epoch=epoch)\n",
    "d.set_target_word(selected_word)\n",
    "OPS_sem = d.plot_one_layer('sem')\n",
    "OPS_sem.save(os.path.join(d.cfg.plot_folder, f\"OPS_sem_{selected_word}.html\"))\n",
    "OPS_sem"
   ]
  },
  {
   "cell_type": "markdown",
   "metadata": {},
   "source": [
    "# Intact PHO"
   ]
  },
  {
   "cell_type": "code",
   "execution_count": null,
   "metadata": {},
   "outputs": [],
   "source": [
    "d.eval(testset_name, task='triangle', epoch=epoch)\n",
    "d.set_target_word(selected_word)\n",
    "print(f\"Output phoneme over timeticks: {d.get_output_phoneme()}\")\n",
    "intact_pho = d.plot_one_layer('pho')\n",
    "intact_pho.save(os.path.join(d.cfg.plot_folder, f\"intact_pho_{selected_word}.html\"))\n",
    "intact_pho\n"
   ]
  },
  {
   "cell_type": "markdown",
   "metadata": {},
   "source": [
    "# OP PHO"
   ]
  },
  {
   "cell_type": "code",
   "execution_count": null,
   "metadata": {},
   "outputs": [],
   "source": [
    "d.eval(testset_name, task='ort_pho', epoch=epoch)\n",
    "d.set_target_word(selected_word)\n",
    "print(f\"Output phoneme over timeticks: {d.get_output_phoneme()}\")\n",
    "OP_pho = d.plot_one_layer('pho')\n",
    "OP_pho.save(os.path.join(d.cfg.plot_folder, f\"OP_pho_{selected_word}.html\"))\n",
    "OP_pho\n"
   ]
  },
  {
   "cell_type": "markdown",
   "metadata": {},
   "source": [
    "# OSP PHO"
   ]
  },
  {
   "cell_type": "code",
   "execution_count": null,
   "metadata": {},
   "outputs": [],
   "source": [
    "d.eval(testset_name, task='exp_osp', epoch=epoch)\n",
    "d.set_target_word(selected_word)\n",
    "print(f\"Output phoneme over timeticks: {d.get_output_phoneme()}\")\n",
    "OSP_pho = d.plot_one_layer('pho')\n",
    "OSP_pho.save(os.path.join(d.cfg.plot_folder, f\"OSP_pho_{selected_word}.html\"))\n",
    "OSP_pho\n"
   ]
  }
 ],
 "metadata": {
  "interpreter": {
   "hash": "98b0a9b7b4eaaa670588a142fd0a9b87eaafe866f1db4228be72b4211d12040f"
  },
  "kernelspec": {
   "display_name": "Python 3.7.10 64-bit ('base': conda)",
   "name": "python3"
  },
  "language_info": {
   "codemirror_mode": {
    "name": "ipython",
    "version": 3
   },
   "file_extension": ".py",
   "mimetype": "text/x-python",
   "name": "python",
   "nbconvert_exporter": "python",
   "pygments_lexer": "ipython3",
   "version": "3.7.10"
  }
 },
 "nbformat": 4,
 "nbformat_minor": 2
}
