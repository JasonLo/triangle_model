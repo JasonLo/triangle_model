{
 "cells": [
  {
   "cell_type": "markdown",
   "metadata": {},
   "source": [
    "# Troubleshooting\n",
    "- To troubleshoot I need to know everything about a model at an epoch"
   ]
  },
  {
   "cell_type": "markdown",
   "metadata": {},
   "source": [
    "# Examine a single word  \n"
   ]
  },
  {
   "cell_type": "code",
   "execution_count": 2,
   "metadata": {},
   "outputs": [],
   "source": [
    "import os\n",
    "import troubleshooting\n",
    "import data_wrangling\n",
    "import tensorflow as tf\n",
    "import matplotlib.pyplot as plt\n",
    "from IPython.display import clear_output\n",
    "from ipywidgets import interact\n",
    "from tqdm import tqdm\n",
    "import pandas as pd\n",
    "import numpy as np\n",
    "import altair as alt\n"
   ]
  },
  {
   "cell_type": "markdown",
   "metadata": {},
   "source": [
    "# Intactive input/act"
   ]
  },
  {
   "cell_type": "code",
   "execution_count": 3,
   "metadata": {},
   "outputs": [],
   "source": [
    "batch_name = \"OP_SGD_lr_tune\"\n",
    "code_name = 'OP_SGD_lr_tune_r0009'\n",
    "testset_name = 'train_r100'\n",
    "testset = data_wrangling.load_testset(testset_name)\n",
    "d = troubleshooting.Diagnosis(f\"{batch_name}/{code_name}\")\n",
    "clear_output()"
   ]
  },
  {
   "cell_type": "code",
   "execution_count": 4,
   "metadata": {},
   "outputs": [
    {
     "name": "stderr",
     "output_type": "stream",
     "text": [
      "2021-11-16 21:29:28.143321: I tensorflow/stream_executor/cuda/cuda_blas.cc:1760] TensorFloat-32 will be used for the matrix multiplication. This will only be logged once.\n"
     ]
    },
    {
     "name": "stdout",
     "output_type": "stream",
     "text": [
      "Eval results found, load from saved csv\n"
     ]
    }
   ],
   "source": [
    "d.eval('train_r100', task=\"triangle\", epoch=200)"
   ]
  },
  {
   "cell_type": "markdown",
   "metadata": {},
   "source": [
    "# An overall temporal dynamics of the model (HS04 fig. 12)"
   ]
  },
  {
   "cell_type": "code",
   "execution_count": 5,
   "metadata": {},
   "outputs": [],
   "source": [
    "class temporal_diagnostic:\n",
    "    \"\"\"Examine the temporal dynamic of inputs similar to HS04 fig 12\"\"\"\n",
    "\n",
    "    def __init__(self, diagnosis: troubleshooting.Diagnosis):\n",
    "        \"\"\"Remember to do this first before init: d.eval('train_r100', task=\"triangle\", epoch=1000).\"\"\"\n",
    "        self.d = diagnosis\n",
    "        self.words = self.d.testset_package[\"item\"]\n",
    "        self.df = self.create_df()\n",
    "\n",
    "    def get_all_act1(self, word: str, output: str):\n",
    "        \"\"\"Get all detailed input diagnoistic in a word at target node == 1\"\"\"\n",
    "        self.d.set_target_word(word)\n",
    "        if output == \"pho\":\n",
    "            return self.d.word_pho_df.loc[d.word_pho_df.target_act == 1]\n",
    "        elif output == \"sem\":\n",
    "            return self.d.word_sem_df.loc[d.word_sem_df.target_act == 1]\n",
    "\n",
    "    def create_df(self):\n",
    "        \"\"\"Create a dataframe for plotting.\"\"\"\n",
    "        df_sem = pd.concat(\n",
    "            [self.get_all_act1(word, \"sem\") for word in self.words],\n",
    "            ignore_index=True,\n",
    "        )\n",
    "        df_sem[\"output\"] = \"sem\"\n",
    "        df_sem = df_sem.loc[df_sem.variable.isin([\"PS\", \"CS\", \"OS\"])]\n",
    "\n",
    "        df_pho = pd.concat(\n",
    "            [self.get_all_act1(word, \"pho\") for word in self.words],\n",
    "            ignore_index=True,\n",
    "        )\n",
    "        df_pho[\"output\"] = \"pho\"\n",
    "        df_pho = df_pho.loc[df_pho.variable == \"OP\"]  ## Get OP only\n",
    "\n",
    "        df = pd.concat([df_sem, df_pho], ignore_index=True)\n",
    "        return df.groupby([\"timetick\", \"variable\"]).mean().reset_index()\n",
    "\n",
    "    def plot(self):\n",
    "        selection = alt.selection_multi(fields=[\"variable\"], bind=\"legend\")\n",
    "        return (\n",
    "            alt.Chart(self.df)\n",
    "            .mark_line()\n",
    "            .encode(\n",
    "                x=\"timetick:Q\",\n",
    "                y=\"value:Q\",\n",
    "                color=\"variable:N\",\n",
    "                opacity=alt.condition(selection, alt.value(1), alt.value(0.2)),\n",
    "            )\n",
    "            .add_selection(selection)\n",
    "            .properties(\n",
    "                title=f\"{code_name}: Input temporal dynamic at the end of training among {testset_name}\"\n",
    "            )\n",
    "        )\n"
   ]
  },
  {
   "cell_type": "code",
   "execution_count": 6,
   "metadata": {},
   "outputs": [
    {
     "name": "stdout",
     "output_type": "stream",
     "text": [
      "Target pronounciation is: __wasps___\n",
      "Target pronounciation is: __tat_____\n",
      "Target pronounciation is: __lIvd____\n",
      "Target pronounciation is: _klos_____\n",
      "Target pronounciation is: __sAd_____\n",
      "Target pronounciation is: __mop_____\n",
      "Target pronounciation is: __lus_____\n",
      "Target pronounciation is: __haks____\n",
      "Target pronounciation is: __JOn_____\n",
      "Target pronounciation is: __SErd____\n",
      "Target pronounciation is: __wort____\n",
      "Target pronounciation is: __h^r_____\n",
      "Target pronounciation is: __T@nks___\n",
      "Target pronounciation is: __li______\n",
      "Target pronounciation is: __wIg_____\n",
      "Target pronounciation is: __lat_____\n",
      "Target pronounciation is: __tA______\n",
      "Target pronounciation is: __walz____\n",
      "Target pronounciation is: _fr^nts___\n",
      "Target pronounciation is: _plaps____\n",
      "Target pronounciation is: __kIl_____\n",
      "Target pronounciation is: __gaz_____\n",
      "Target pronounciation is: _grif_____\n",
      "Target pronounciation is: _blak_____\n",
      "Target pronounciation is: _grAnd____\n",
      "Target pronounciation is: __homz____\n",
      "Target pronounciation is: __kip_____\n",
      "Target pronounciation is: _plum_____\n",
      "Target pronounciation is: __fart____\n",
      "Target pronounciation is: __lin_____\n",
      "Target pronounciation is: __r@gz____\n",
      "Target pronounciation is: _fl@nks___\n",
      "Target pronounciation is: __wests___\n",
      "Target pronounciation is: _tru______\n",
      "Target pronounciation is: _prezd____\n",
      "Target pronounciation is: _kr@m_____\n",
      "Target pronounciation is: __SEd_____\n",
      "Target pronounciation is: __dEnt____\n",
      "Target pronounciation is: _brEdTs___\n",
      "Target pronounciation is: __pel_____\n",
      "Target pronounciation is: __Jips____\n",
      "Target pronounciation is: __pip_____\n",
      "Target pronounciation is: _tredz____\n",
      "Target pronounciation is: __CIn_____\n",
      "Target pronounciation is: __rid_____\n",
      "Target pronounciation is: __r^ngz___\n",
      "Target pronounciation is: __lald____\n",
      "Target pronounciation is: strAfs____\n",
      "Target pronounciation is: __pIks____\n",
      "Target pronounciation is: _brel_____\n",
      "Target pronounciation is: __weld____\n",
      "Target pronounciation is: __wEn_____\n",
      "Target pronounciation is: __TIn_____\n",
      "Target pronounciation is: __fIt_____\n",
      "Target pronounciation is: _sl^t_____\n",
      "Target pronounciation is: __k@bz____\n",
      "Target pronounciation is: _grev_____\n",
      "Target pronounciation is: __lAts____\n",
      "Target pronounciation is: __kuz_____\n",
      "Target pronounciation is: __p@nz____\n",
      "Target pronounciation is: _grAp_____\n",
      "Target pronounciation is: __wIp_____\n",
      "Target pronounciation is: __h^g_____\n",
      "Target pronounciation is: skwadz____\n",
      "Target pronounciation is: __CIp_____\n",
      "Target pronounciation is: __l^rkt___\n",
      "Target pronounciation is: __fIlTs___\n",
      "Target pronounciation is: __Tim_____\n",
      "Target pronounciation is: _krez_____\n",
      "Target pronounciation is: __yuT_____\n",
      "Target pronounciation is: __wat_____\n",
      "Target pronounciation is: skwId_____\n",
      "Target pronounciation is: __zarz____\n",
      "Target pronounciation is: __sups____\n",
      "Target pronounciation is: strIng____\n",
      "Target pronounciation is: __mus_____\n",
      "Target pronounciation is: __zInk____\n",
      "Target pronounciation is: _kl@s_____\n",
      "Target pronounciation is: _snIps____\n",
      "Target pronounciation is: __sIk_____\n",
      "Target pronounciation is: _kliv_____\n",
      "Target pronounciation is: __Son_____\n",
      "Target pronounciation is: __vW______\n",
      "Target pronounciation is: __wIg_____\n",
      "Target pronounciation is: _kweks____\n",
      "Target pronounciation is: skr@m_____\n",
      "Target pronounciation is: __kel_____\n",
      "Target pronounciation is: __m@g_____\n",
      "Target pronounciation is: __yan_____\n",
      "Target pronounciation is: __s^p_____\n",
      "Target pronounciation is: __CW______\n",
      "Target pronounciation is: __pIngd___\n",
      "Target pronounciation is: __sil_____\n",
      "Target pronounciation is: _st@fs____\n",
      "Target pronounciation is: __weJ_____\n",
      "Target pronounciation is: _kron_____\n",
      "Target pronounciation is: __fAndz___\n",
      "Target pronounciation is: __mots____\n",
      "Target pronounciation is: __gab_____\n",
      "Target pronounciation is: __fYdz____\n",
      "Target pronounciation is: __wasps___\n",
      "Target pronounciation is: __tat_____\n",
      "Target pronounciation is: __lIvd____\n",
      "Target pronounciation is: _klos_____\n",
      "Target pronounciation is: __sAd_____\n",
      "Target pronounciation is: __mop_____\n",
      "Target pronounciation is: __lus_____\n",
      "Target pronounciation is: __haks____\n",
      "Target pronounciation is: __JOn_____\n",
      "Target pronounciation is: __SErd____\n",
      "Target pronounciation is: __wort____\n",
      "Target pronounciation is: __h^r_____\n",
      "Target pronounciation is: __T@nks___\n",
      "Target pronounciation is: __li______\n",
      "Target pronounciation is: __wIg_____\n",
      "Target pronounciation is: __lat_____\n",
      "Target pronounciation is: __tA______\n",
      "Target pronounciation is: __walz____\n",
      "Target pronounciation is: _fr^nts___\n",
      "Target pronounciation is: _plaps____\n",
      "Target pronounciation is: __kIl_____\n",
      "Target pronounciation is: __gaz_____\n",
      "Target pronounciation is: _grif_____\n",
      "Target pronounciation is: _blak_____\n",
      "Target pronounciation is: _grAnd____\n",
      "Target pronounciation is: __homz____\n",
      "Target pronounciation is: __kip_____\n",
      "Target pronounciation is: _plum_____\n",
      "Target pronounciation is: __fart____\n",
      "Target pronounciation is: __lin_____\n",
      "Target pronounciation is: __r@gz____\n",
      "Target pronounciation is: _fl@nks___\n",
      "Target pronounciation is: __wests___\n",
      "Target pronounciation is: _tru______\n",
      "Target pronounciation is: _prezd____\n",
      "Target pronounciation is: _kr@m_____\n",
      "Target pronounciation is: __SEd_____\n",
      "Target pronounciation is: __dEnt____\n",
      "Target pronounciation is: _brEdTs___\n",
      "Target pronounciation is: __pel_____\n",
      "Target pronounciation is: __Jips____\n",
      "Target pronounciation is: __pip_____\n",
      "Target pronounciation is: _tredz____\n",
      "Target pronounciation is: __CIn_____\n",
      "Target pronounciation is: __rid_____\n",
      "Target pronounciation is: __r^ngz___\n",
      "Target pronounciation is: __lald____\n",
      "Target pronounciation is: strAfs____\n",
      "Target pronounciation is: __pIks____\n",
      "Target pronounciation is: _brel_____\n",
      "Target pronounciation is: __weld____\n",
      "Target pronounciation is: __wEn_____\n",
      "Target pronounciation is: __TIn_____\n",
      "Target pronounciation is: __fIt_____\n",
      "Target pronounciation is: _sl^t_____\n",
      "Target pronounciation is: __k@bz____\n",
      "Target pronounciation is: _grev_____\n",
      "Target pronounciation is: __lAts____\n",
      "Target pronounciation is: __kuz_____\n",
      "Target pronounciation is: __p@nz____\n",
      "Target pronounciation is: _grAp_____\n",
      "Target pronounciation is: __wIp_____\n",
      "Target pronounciation is: __h^g_____\n",
      "Target pronounciation is: skwadz____\n",
      "Target pronounciation is: __CIp_____\n",
      "Target pronounciation is: __l^rkt___\n",
      "Target pronounciation is: __fIlTs___\n",
      "Target pronounciation is: __Tim_____\n",
      "Target pronounciation is: _krez_____\n",
      "Target pronounciation is: __yuT_____\n",
      "Target pronounciation is: __wat_____\n",
      "Target pronounciation is: skwId_____\n",
      "Target pronounciation is: __zarz____\n",
      "Target pronounciation is: __sups____\n",
      "Target pronounciation is: strIng____\n",
      "Target pronounciation is: __mus_____\n",
      "Target pronounciation is: __zInk____\n",
      "Target pronounciation is: _kl@s_____\n",
      "Target pronounciation is: _snIps____\n",
      "Target pronounciation is: __sIk_____\n",
      "Target pronounciation is: _kliv_____\n",
      "Target pronounciation is: __Son_____\n",
      "Target pronounciation is: __vW______\n",
      "Target pronounciation is: __wIg_____\n",
      "Target pronounciation is: _kweks____\n",
      "Target pronounciation is: skr@m_____\n",
      "Target pronounciation is: __kel_____\n",
      "Target pronounciation is: __m@g_____\n",
      "Target pronounciation is: __yan_____\n",
      "Target pronounciation is: __s^p_____\n",
      "Target pronounciation is: __CW______\n",
      "Target pronounciation is: __pIngd___\n",
      "Target pronounciation is: __sil_____\n",
      "Target pronounciation is: _st@fs____\n",
      "Target pronounciation is: __weJ_____\n",
      "Target pronounciation is: _kron_____\n",
      "Target pronounciation is: __fAndz___\n",
      "Target pronounciation is: __mots____\n",
      "Target pronounciation is: __gab_____\n",
      "Target pronounciation is: __fYdz____\n"
     ]
    }
   ],
   "source": [
    "td = temporal_diagnostic(d)\n"
   ]
  },
  {
   "cell_type": "code",
   "execution_count": 7,
   "metadata": {},
   "outputs": [
    {
     "data": {
      "text/html": [
       "\n",
       "<div id=\"altair-viz-44fa4453b334481092ed1b30bbf0739e\"></div>\n",
       "<script type=\"text/javascript\">\n",
       "  (function(spec, embedOpt){\n",
       "    let outputDiv = document.currentScript.previousElementSibling;\n",
       "    if (outputDiv.id !== \"altair-viz-44fa4453b334481092ed1b30bbf0739e\") {\n",
       "      outputDiv = document.getElementById(\"altair-viz-44fa4453b334481092ed1b30bbf0739e\");\n",
       "    }\n",
       "    const paths = {\n",
       "      \"vega\": \"https://cdn.jsdelivr.net/npm//vega@5?noext\",\n",
       "      \"vega-lib\": \"https://cdn.jsdelivr.net/npm//vega-lib?noext\",\n",
       "      \"vega-lite\": \"https://cdn.jsdelivr.net/npm//vega-lite@4.8.1?noext\",\n",
       "      \"vega-embed\": \"https://cdn.jsdelivr.net/npm//vega-embed@6?noext\",\n",
       "    };\n",
       "\n",
       "    function loadScript(lib) {\n",
       "      return new Promise(function(resolve, reject) {\n",
       "        var s = document.createElement('script');\n",
       "        s.src = paths[lib];\n",
       "        s.async = true;\n",
       "        s.onload = () => resolve(paths[lib]);\n",
       "        s.onerror = () => reject(`Error loading script: ${paths[lib]}`);\n",
       "        document.getElementsByTagName(\"head\")[0].appendChild(s);\n",
       "      });\n",
       "    }\n",
       "\n",
       "    function showError(err) {\n",
       "      outputDiv.innerHTML = `<div class=\"error\" style=\"color:red;\">${err}</div>`;\n",
       "      throw err;\n",
       "    }\n",
       "\n",
       "    function displayChart(vegaEmbed) {\n",
       "      vegaEmbed(outputDiv, spec, embedOpt)\n",
       "        .catch(err => showError(`Javascript Error: ${err.message}<br>This usually means there's a typo in your chart specification. See the javascript console for the full traceback.`));\n",
       "    }\n",
       "\n",
       "    if(typeof define === \"function\" && define.amd) {\n",
       "      requirejs.config({paths});\n",
       "      require([\"vega-embed\"], displayChart, err => showError(`Error loading script: ${err.message}`));\n",
       "    } else if (typeof vegaEmbed === \"function\") {\n",
       "      displayChart(vegaEmbed);\n",
       "    } else {\n",
       "      loadScript(\"vega\")\n",
       "        .then(() => loadScript(\"vega-lite\"))\n",
       "        .then(() => loadScript(\"vega-embed\"))\n",
       "        .catch(showError)\n",
       "        .then(() => displayChart(vegaEmbed));\n",
       "    }\n",
       "  })({\"config\": {\"view\": {\"continuousWidth\": 400, \"continuousHeight\": 300}}, \"data\": {\"name\": \"data-8a209f70c7010b0a1b67d7b7148536ff\"}, \"mark\": \"line\", \"encoding\": {\"color\": {\"type\": \"nominal\", \"field\": \"variable\"}, \"opacity\": {\"condition\": {\"value\": 1, \"selection\": \"selector001\"}, \"value\": 0.2}, \"x\": {\"type\": \"quantitative\", \"field\": \"timetick\"}, \"y\": {\"type\": \"quantitative\", \"field\": \"value\"}}, \"selection\": {\"selector001\": {\"type\": \"multi\", \"fields\": [\"variable\"], \"bind\": \"legend\"}}, \"title\": \"OP_SGD_lr_tune_r0009: Input temporal dynamic at the end of training among train_r100\", \"$schema\": \"https://vega.github.io/schema/vega-lite/v4.8.1.json\", \"datasets\": {\"data-8a209f70c7010b0a1b67d7b7148536ff\": [{\"timetick\": 0, \"variable\": \"CS\", \"unit\": 484.48433420365535, \"target_act\": 1.0, \"unit_acc\": 0.0, \"value\": 0.0}, {\"timetick\": 0, \"variable\": \"OP\", \"unit\": 86.52852049910874, \"target_act\": 1.0, \"unit_acc\": 0.0, \"value\": 0.0}, {\"timetick\": 0, \"variable\": \"OS\", \"unit\": 484.48433420365535, \"target_act\": 1.0, \"unit_acc\": 0.0, \"value\": 0.0}, {\"timetick\": 0, \"variable\": \"PS\", \"unit\": 484.48433420365535, \"target_act\": 1.0, \"unit_acc\": 0.0, \"value\": 0.0}, {\"timetick\": 1, \"variable\": \"CS\", \"unit\": 484.48433420365535, \"target_act\": 1.0, \"unit_acc\": 0.0, \"value\": -0.001282797777093947}, {\"timetick\": 1, \"variable\": \"OP\", \"unit\": 86.52852049910874, \"target_act\": 1.0, \"unit_acc\": 0.33868092691622104, \"value\": -0.4585525393486023}, {\"timetick\": 1, \"variable\": \"OS\", \"unit\": 484.48433420365535, \"target_act\": 1.0, \"unit_acc\": 0.0, \"value\": -0.024381157010793686}, {\"timetick\": 1, \"variable\": \"PS\", \"unit\": 484.48433420365535, \"target_act\": 1.0, \"unit_acc\": 0.0, \"value\": 0.036469511687755585}, {\"timetick\": 2, \"variable\": \"CS\", \"unit\": 484.48433420365535, \"target_act\": 1.0, \"unit_acc\": 0.0, \"value\": 0.0020642050076276064}, {\"timetick\": 2, \"variable\": \"OP\", \"unit\": 86.52852049910874, \"target_act\": 1.0, \"unit_acc\": 0.5062388591800356, \"value\": 4.303786277770996}, {\"timetick\": 2, \"variable\": \"OS\", \"unit\": 484.48433420365535, \"target_act\": 1.0, \"unit_acc\": 0.0, \"value\": -0.007187239360064268}, {\"timetick\": 2, \"variable\": \"PS\", \"unit\": 484.48433420365535, \"target_act\": 1.0, \"unit_acc\": 0.0, \"value\": 0.007847873494029045}, {\"timetick\": 3, \"variable\": \"CS\", \"unit\": 484.48433420365535, \"target_act\": 1.0, \"unit_acc\": 0.0, \"value\": 0.0008220684831030667}, {\"timetick\": 3, \"variable\": \"OP\", \"unit\": 86.52852049910874, \"target_act\": 1.0, \"unit_acc\": 0.7620320855614974, \"value\": 5.9064178466796875}, {\"timetick\": 3, \"variable\": \"OS\", \"unit\": 484.48433420365535, \"target_act\": 1.0, \"unit_acc\": 0.0, \"value\": -0.002471793908625841}, {\"timetick\": 3, \"variable\": \"PS\", \"unit\": 484.48433420365535, \"target_act\": 1.0, \"unit_acc\": 0.0, \"value\": 0.0027738017961382866}, {\"timetick\": 4, \"variable\": \"CS\", \"unit\": 484.48433420365535, \"target_act\": 1.0, \"unit_acc\": 0.0, \"value\": 0.00030601059552282095}, {\"timetick\": 4, \"variable\": \"OP\", \"unit\": 86.52852049910874, \"target_act\": 1.0, \"unit_acc\": 0.9010695187165776, \"value\": 6.568986415863037}, {\"timetick\": 4, \"variable\": \"OS\", \"unit\": 484.48433420365535, \"target_act\": 1.0, \"unit_acc\": 0.0, \"value\": -0.0011587885674089193}, {\"timetick\": 4, \"variable\": \"PS\", \"unit\": 484.48433420365535, \"target_act\": 1.0, \"unit_acc\": 0.0, \"value\": 0.0014831649605184793}, {\"timetick\": 5, \"variable\": \"CS\", \"unit\": 484.48433420365535, \"target_act\": 1.0, \"unit_acc\": 0.0, \"value\": 0.00012784962018486112}, {\"timetick\": 5, \"variable\": \"OP\", \"unit\": 86.52852049910874, \"target_act\": 1.0, \"unit_acc\": 0.948306595365419, \"value\": 6.8990478515625}, {\"timetick\": 5, \"variable\": \"OS\", \"unit\": 484.48433420365535, \"target_act\": 1.0, \"unit_acc\": 0.0, \"value\": -0.0006927545182406902}, {\"timetick\": 5, \"variable\": \"PS\", \"unit\": 484.48433420365535, \"target_act\": 1.0, \"unit_acc\": 0.0, \"value\": 0.0009912471286952496}, {\"timetick\": 6, \"variable\": \"CS\", \"unit\": 484.48433420365535, \"target_act\": 1.0, \"unit_acc\": 0.0, \"value\": 5.840047379024327e-05}, {\"timetick\": 6, \"variable\": \"OP\", \"unit\": 86.52852049910874, \"target_act\": 1.0, \"unit_acc\": 0.9696969696969697, \"value\": 7.082542419433594}, {\"timetick\": 6, \"variable\": \"OS\", \"unit\": 484.48433420365535, \"target_act\": 1.0, \"unit_acc\": 0.0, \"value\": -0.0004899643245153129}, {\"timetick\": 6, \"variable\": \"PS\", \"unit\": 484.48433420365535, \"target_act\": 1.0, \"unit_acc\": 0.0, \"value\": 0.0007658904069103301}, {\"timetick\": 7, \"variable\": \"CS\", \"unit\": 484.48433420365535, \"target_act\": 1.0, \"unit_acc\": 0.0, \"value\": 2.7149082598043606e-05}, {\"timetick\": 7, \"variable\": \"OP\", \"unit\": 86.52852049910874, \"target_act\": 1.0, \"unit_acc\": 0.9803921568627451, \"value\": 7.191476345062256}, {\"timetick\": 7, \"variable\": \"OS\", \"unit\": 484.48433420365535, \"target_act\": 1.0, \"unit_acc\": 0.0, \"value\": -0.00038870066055096686}, {\"timetick\": 7, \"variable\": \"PS\", \"unit\": 484.48433420365535, \"target_act\": 1.0, \"unit_acc\": 0.0, \"value\": 0.0006506367935799062}, {\"timetick\": 8, \"variable\": \"CS\", \"unit\": 484.48433420365535, \"target_act\": 1.0, \"unit_acc\": 0.0, \"value\": 1.1307444765407126e-05}, {\"timetick\": 8, \"variable\": \"OP\", \"unit\": 86.52852049910874, \"target_act\": 1.0, \"unit_acc\": 0.9901960784313726, \"value\": 7.258667945861816}, {\"timetick\": 8, \"variable\": \"OS\", \"unit\": 484.48433420365535, \"target_act\": 1.0, \"unit_acc\": 0.0, \"value\": -0.00033298504422418773}, {\"timetick\": 8, \"variable\": \"PS\", \"unit\": 484.48433420365535, \"target_act\": 1.0, \"unit_acc\": 0.0, \"value\": 0.0005882253753952682}, {\"timetick\": 9, \"variable\": \"CS\", \"unit\": 484.48433420365535, \"target_act\": 1.0, \"unit_acc\": 0.0, \"value\": 2.5140329853456933e-06}, {\"timetick\": 9, \"variable\": \"OP\", \"unit\": 86.52852049910874, \"target_act\": 1.0, \"unit_acc\": 0.9910873440285205, \"value\": 7.3012261390686035}, {\"timetick\": 9, \"variable\": \"OS\", \"unit\": 484.48433420365535, \"target_act\": 1.0, \"unit_acc\": 0.0, \"value\": -0.0003003528981935233}, {\"timetick\": 9, \"variable\": \"PS\", \"unit\": 484.48433420365535, \"target_act\": 1.0, \"unit_acc\": 0.0, \"value\": 0.0005529790068976581}, {\"timetick\": 10, \"variable\": \"CS\", \"unit\": 484.48433420365535, \"target_act\": 1.0, \"unit_acc\": 0.0, \"value\": -2.7016956209990894e-06}, {\"timetick\": 10, \"variable\": \"OP\", \"unit\": 86.52852049910874, \"target_act\": 1.0, \"unit_acc\": 0.9937611408199644, \"value\": 7.328832626342773}, {\"timetick\": 10, \"variable\": \"OS\", \"unit\": 484.48433420365535, \"target_act\": 1.0, \"unit_acc\": 0.0, \"value\": -0.00028024360653944314}, {\"timetick\": 10, \"variable\": \"PS\", \"unit\": 484.48433420365535, \"target_act\": 1.0, \"unit_acc\": 0.0, \"value\": 0.000532779551576823}, {\"timetick\": 11, \"variable\": \"CS\", \"unit\": 484.48433420365535, \"target_act\": 1.0, \"unit_acc\": 0.0, \"value\": -5.94470429859939e-06}, {\"timetick\": 11, \"variable\": \"OP\", \"unit\": 86.52852049910874, \"target_act\": 1.0, \"unit_acc\": 0.9928698752228164, \"value\": 7.346739292144775}, {\"timetick\": 11, \"variable\": \"OS\", \"unit\": 484.48433420365535, \"target_act\": 1.0, \"unit_acc\": 0.0, \"value\": -0.00026778236497193575}, {\"timetick\": 11, \"variable\": \"PS\", \"unit\": 484.48433420365535, \"target_act\": 1.0, \"unit_acc\": 0.0, \"value\": 0.0005206789937801659}, {\"timetick\": 12, \"variable\": \"CS\", \"unit\": 484.48433420365535, \"target_act\": 1.0, \"unit_acc\": 0.0, \"value\": -8.028591764741577e-06}, {\"timetick\": 12, \"variable\": \"OP\", \"unit\": 86.52852049910874, \"target_act\": 1.0, \"unit_acc\": 0.9928698752228164, \"value\": 7.358480453491211}, {\"timetick\": 12, \"variable\": \"OS\", \"unit\": 484.48433420365535, \"target_act\": 1.0, \"unit_acc\": 0.0, \"value\": -0.00025947162066586316}, {\"timetick\": 12, \"variable\": \"PS\", \"unit\": 484.48433420365535, \"target_act\": 1.0, \"unit_acc\": 0.0, \"value\": 0.0005134929087944329}]}}, {\"mode\": \"vega-lite\"});\n",
       "</script>"
      ],
      "text/plain": [
       "alt.Chart(...)"
      ]
     },
     "execution_count": 7,
     "metadata": {},
     "output_type": "execute_result"
    }
   ],
   "source": [
    "td.plot()"
   ]
  },
  {
   "cell_type": "markdown",
   "metadata": {},
   "source": [
    "# Interactive plot to examine a single word"
   ]
  },
  {
   "cell_type": "code",
   "execution_count": null,
   "metadata": {},
   "outputs": [],
   "source": [
    "@interact(\n",
    "    sel_word=testset['item'], \n",
    "    layer=['pho', 'sem'], \n",
    "    task=['triangle', 'ort_pho', 'exp_osp', 'ort_sem', 'exp_ops'], \n",
    "    epoch=(d.cfg.save_freq, d.cfg.total_number_of_epoch + 1, d.cfg.save_freq)\n",
    "    )\n",
    "def interactive_plot(sel_word, layer, task, epoch):\n",
    "    d.eval(testset_name, task=task, epoch=epoch)\n",
    "    d.set_target_word(sel_word)\n",
    "    print(f\"Output phoneme over timeticks: {d.list_output_phoneme}\")\n",
    "    return d.plot_one_layer(layer)"
   ]
  },
  {
   "cell_type": "markdown",
   "metadata": {},
   "source": [
    "# Cooperative vs. competitive relationship"
   ]
  },
  {
   "cell_type": "code",
   "execution_count": null,
   "metadata": {},
   "outputs": [],
   "source": [
    "def get_all_input_over_epoch(word:str):\n",
    "    \"\"\"Get all details over epoch in one word at last timetick.\"\"\"\n",
    "\n",
    "    df_pho = pd.DataFrame()\n",
    "    df_sem = pd.DataFrame()\n",
    "\n",
    "    early_epochs = range(1, 11)\n",
    "    later_epochs = range(d.cfg.save_freq, 1001, d.cfg.save_freq)\n",
    "    epochs = list(early_epochs) + list(later_epochs)\n",
    "\n",
    "    for epoch in tqdm(epochs):\n",
    "\n",
    "        d.eval(testset_name, task='triangle', epoch=epoch)\n",
    "        d.set_target_word(word)\n",
    "\n",
    "        this_pho = d.word_pho_df.loc[d.word_pho_df.timetick == 12]\n",
    "        this_pho['epoch'] = epoch\n",
    "        df_pho = df_pho.append(this_pho, ignore_index=True)\n",
    "        \n",
    "        this_sem = d.word_sem_df.loc[d.word_sem_df.timetick == 12]\n",
    "        this_sem['epoch'] = epoch\n",
    "        df_sem = df_sem.append(this_sem, ignore_index=True)\n",
    "\n",
    "        clear_output(wait=True)\n",
    "    \n",
    "    return df_pho, df_sem"
   ]
  },
  {
   "cell_type": "code",
   "execution_count": null,
   "metadata": {},
   "outputs": [],
   "source": [
    "def get_on_nodes(word:str, representation:str) -> dict:\n",
    "    \"\"\"Gets the on nodes of a word in a given representation.\"\"\"\n",
    "    w_idx = d.testset_package['item'].index(word)\n",
    "    p = d.testset_package[representation][w_idx]\n",
    "    return [x[0] for x in tf.where(p).numpy()]"
   ]
  },
  {
   "cell_type": "code",
   "execution_count": null,
   "metadata": {},
   "outputs": [],
   "source": [
    "import altair as alt\n",
    "alt.data_transformers.disable_max_rows()\n",
    "\n",
    "def plot_input_developmental(df: pd.DataFrame, units:list):\n",
    "    \"\"\"Plot how input change over epoch in a word\"\"\"\n",
    "    title = f\"Development of input over epoch at nodes: {units}\"\n",
    "    df = df.loc[df.unit.isin(units)]\n",
    "\n",
    "    sel_vars = ['CP', 'OP', 'SP', 'OS', 'CS', 'PS']\n",
    "    df = df.loc[df.variable.isin(sel_vars)]\n",
    "    \n",
    "    selection = alt.selection_multi(fields=['variable'], bind='legend')\n",
    "    return (\n",
    "        alt.Chart(df)\n",
    "        .mark_line()\n",
    "        .encode(\n",
    "            x='epoch:Q',\n",
    "            y='mean(value):Q',\n",
    "            color='variable',\n",
    "            opacity=alt.condition(selection, alt.value(1), alt.value(0.2)))\n",
    "        .add_selection(selection)\n",
    "        .properties(title=title))"
   ]
  },
  {
   "cell_type": "code",
   "execution_count": null,
   "metadata": {},
   "outputs": [],
   "source": [
    "word = 'close'\n",
    "\n",
    "df_pho, df_sem = get_all_input_over_epoch(word)\n",
    "get_on_nodes(word, 'pho')"
   ]
  },
  {
   "cell_type": "code",
   "execution_count": null,
   "metadata": {},
   "outputs": [],
   "source": [
    "off_nodes = set(range(250)).difference(get_on_nodes(word, 'pho'))"
   ]
  },
  {
   "cell_type": "code",
   "execution_count": null,
   "metadata": {},
   "outputs": [],
   "source": [
    "plot_input_developmental(df_pho, off_nodes)"
   ]
  },
  {
   "cell_type": "code",
   "execution_count": null,
   "metadata": {},
   "outputs": [],
   "source": [
    "plot_input_developmental(df_pho, get_on_nodes(word, 'pho'))"
   ]
  },
  {
   "cell_type": "code",
   "execution_count": null,
   "metadata": {},
   "outputs": [],
   "source": []
  },
  {
   "cell_type": "code",
   "execution_count": null,
   "metadata": {},
   "outputs": [],
   "source": [
    "def plot_slot(slot: int):\n",
    "    \"\"\"Plotting on and off nodes' input by slot.\"\"\"\n",
    "    units = range(slot*25, (slot+1)*25)\n",
    "    on_nodes = get_on_nodes(word, 'pho')\n",
    "    on_plot = plot_input_developmental(df_pho, [x for x in units if x in on_nodes])\n",
    "    off_plot = plot_input_developmental(df_pho, [x for x in units if x not in on_nodes])\n",
    "    return on_plot | off_plot\n",
    "\n",
    "plot_slot(0)"
   ]
  },
  {
   "cell_type": "code",
   "execution_count": null,
   "metadata": {},
   "outputs": [],
   "source": [
    "plot_slot(1)"
   ]
  },
  {
   "cell_type": "code",
   "execution_count": null,
   "metadata": {},
   "outputs": [],
   "source": [
    "plot_slot(2)"
   ]
  },
  {
   "cell_type": "code",
   "execution_count": null,
   "metadata": {},
   "outputs": [],
   "source": [
    "plot_slot(3)"
   ]
  },
  {
   "cell_type": "code",
   "execution_count": null,
   "metadata": {},
   "outputs": [],
   "source": [
    "plot_slot(4)"
   ]
  },
  {
   "cell_type": "code",
   "execution_count": null,
   "metadata": {},
   "outputs": [],
   "source": [
    "plot_slot(5)"
   ]
  },
  {
   "cell_type": "code",
   "execution_count": null,
   "metadata": {},
   "outputs": [],
   "source": [
    "plot_slot(6)"
   ]
  },
  {
   "cell_type": "code",
   "execution_count": null,
   "metadata": {},
   "outputs": [],
   "source": [
    "plot_slot(7)"
   ]
  },
  {
   "cell_type": "code",
   "execution_count": null,
   "metadata": {},
   "outputs": [],
   "source": [
    "plot_slot(8)"
   ]
  },
  {
   "cell_type": "code",
   "execution_count": null,
   "metadata": {},
   "outputs": [],
   "source": [
    "plot_slot(9)"
   ]
  },
  {
   "cell_type": "code",
   "execution_count": null,
   "metadata": {},
   "outputs": [],
   "source": [
    "plot_input_developmental(df_sem, get_on_nodes(word, 'sem'))"
   ]
  },
  {
   "cell_type": "markdown",
   "metadata": {},
   "source": [
    "# Prediction from zero inputs"
   ]
  },
  {
   "cell_type": "code",
   "execution_count": null,
   "metadata": {},
   "outputs": [],
   "source": [
    "import modeling\n",
    "model = modeling.MyModel(cfg=d.cfg, batch_size_override=1)\n",
    "epoch=100\n",
    "saved_checkpoint = d.cfg.saved_checkpoints_fstring.format(epoch=epoch)\n",
    "\n",
    "ckpt = tf.train.Checkpoint(model=model)\n",
    "ckpt.restore(saved_checkpoint).expect_partial()\n",
    "model.set_active_task('triangle')\n",
    "zero_inputs = tf.zeros(shape=[1, d.cfg.ort_units])\n",
    "y_pred = model([zero_inputs] * 12)"
   ]
  },
  {
   "cell_type": "code",
   "execution_count": null,
   "metadata": {},
   "outputs": [],
   "source": [
    "y_pred['input_hop_hp'][-1,:,:].numpy().mean()\n",
    "y_pred['input_hop_hp'][-1,:,:].numpy().mean()\n",
    "y_pred['input_hop_hp'][-1,:,:].numpy().mean()"
   ]
  },
  {
   "cell_type": "code",
   "execution_count": null,
   "metadata": {},
   "outputs": [],
   "source": []
  },
  {
   "cell_type": "code",
   "execution_count": null,
   "metadata": {},
   "outputs": [],
   "source": [
    "y_pred['pho']"
   ]
  },
  {
   "cell_type": "code",
   "execution_count": null,
   "metadata": {},
   "outputs": [],
   "source": [
    "y_pred['pho'][12, :, 46]"
   ]
  },
  {
   "cell_type": "markdown",
   "metadata": {},
   "source": [
    "## Explore Cosine vs. target\n",
    "Run cosine(sigmoid(input), target) "
   ]
  },
  {
   "cell_type": "code",
   "execution_count": null,
   "metadata": {},
   "outputs": [],
   "source": [
    "class MyCosine:\n",
    "    \n",
    "    def __init__(self, y_true):\n",
    "        self.y_true = y_true\n",
    "\n",
    "    @staticmethod\n",
    "    def sigmoid(x):\n",
    "        return tf.keras.activations.sigmoid(x)\n",
    "\n",
    "    def cosine(self, y_pred):\n",
    "        return -tf.keras.losses.cosine_similarity(self.y_true, y_pred)\n",
    "\n",
    "    def cosine_on_time_axis(self, ys):\n",
    "        return tf.map_fn(self.cosine, ys)\n",
    "\n",
    "    def __call__(self, ys, apply_sigmoid=False):\n",
    "\n",
    "        if apply_sigmoid:\n",
    "            ys = self.sigmoid(ys)\n",
    "\n",
    "        return tf.reduce_mean(self.cosine_on_time_axis(ys), axis=-1).numpy()\n",
    "\n",
    "    def plot(self, ys, apply_sigmoid=False):\n",
    "        plt.plot(self.__call__(ys, apply_sigmoid))\n",
    "        plt.show()\n",
    "\n",
    "# Instantiating the cosine metric\n",
    "cos = MyCosine(y_true=d.testset_package['sem'])"
   ]
  },
  {
   "cell_type": "markdown",
   "metadata": {},
   "source": [
    "### SEM"
   ]
  },
  {
   "cell_type": "code",
   "execution_count": null,
   "metadata": {},
   "outputs": [],
   "source": [
    "ps = cos(d.y_pred['input_hps_hs'], apply_sigmoid=True)\n",
    "cs = cos(d.y_pred['input_css_cs'], apply_sigmoid=True)\n",
    "os = cos(d.y_pred['input_hos_hs'], apply_sigmoid=True)\n",
    "inp = cos(d.y_pred['input_sem'], apply_sigmoid=True)\n",
    "act_s = cos(d.y_pred['sem'], apply_sigmoid=False)\n",
    "\n",
    "plt.plot(ps, label='ps')\n",
    "plt.plot(cs, label='cs')\n",
    "plt.plot(os, label='os')\n",
    "plt.plot(inp, label='sum_input')\n",
    "plt.plot(act_s, label='s')\n",
    "plt.legend()"
   ]
  },
  {
   "cell_type": "markdown",
   "metadata": {},
   "source": [
    "### PHO"
   ]
  },
  {
   "cell_type": "code",
   "execution_count": null,
   "metadata": {},
   "outputs": [],
   "source": [
    "cos = MyCosine(y_true=d.testset_package['pho'])\n",
    "\n",
    "sp = cos(d.y_pred['input_hsp_hp'], apply_sigmoid=True)\n",
    "cp = cos(d.y_pred['input_cpp_cp'], apply_sigmoid=True)\n",
    "op = cos(d.y_pred['input_hop_hp'], apply_sigmoid=True)\n",
    "inp = cos(d.y_pred['input_pho'], apply_sigmoid=True)\n",
    "act_p = cos(d.y_pred['pho'], apply_sigmoid=False)\n",
    "\n",
    "plt.plot(sp, label='sp')\n",
    "plt.plot(cp, label='cp')\n",
    "plt.plot(op, label='op')\n",
    "plt.plot(inp, label='sum_input')\n",
    "plt.plot(act_p, label='p')\n",
    "plt.legend()"
   ]
  }
 ],
 "metadata": {
  "interpreter": {
   "hash": "d4d1e4263499bec80672ea0156c357c1ee493ec2b1c70f0acce89fc37c4a6abe"
  },
  "kernelspec": {
   "display_name": "Python 3.7.10 64-bit ('base': conda)",
   "name": "python3"
  },
  "language_info": {
   "codemirror_mode": {
    "name": "ipython",
    "version": 3
   },
   "file_extension": ".py",
   "mimetype": "text/x-python",
   "name": "python",
   "nbconvert_exporter": "python",
   "pygments_lexer": "ipython3",
   "version": "3.7.10"
  }
 },
 "nbformat": 4,
 "nbformat_minor": 4
}
