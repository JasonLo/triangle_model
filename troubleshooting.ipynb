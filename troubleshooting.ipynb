{
 "cells": [
  {
   "cell_type": "markdown",
   "metadata": {},
   "source": [
    "# Examine a single word  \n"
   ]
  },
  {
   "cell_type": "code",
   "execution_count": null,
   "metadata": {},
   "outputs": [],
   "source": [
    "import os\n",
    "import troubleshooting \n",
    "import data_wrangling\n",
    "import tensorflow as tf\n",
    "from IPython.display import clear_output\n",
    "from ipywidgets import interact\n",
    "import matplotlib.pyplot as plt\n"
   ]
  },
  {
   "cell_type": "markdown",
   "metadata": {},
   "source": [
    "# Intactive input/act"
   ]
  },
  {
   "cell_type": "markdown",
   "metadata": {},
   "source": [
    "# Examine one"
   ]
  },
  {
   "cell_type": "code",
   "execution_count": null,
   "metadata": {},
   "outputs": [],
   "source": [
    "batch_name = \"task_effect\"\n",
    "code_name = 'task_effect_r0017'\n",
    "testset_name = 'train_r100'\n",
    "d = troubleshooting.Diagnosis(f\"{batch_name}/{code_name}\", tf_root_override='/home/jupyter/triangle_model')\n",
    "d.eval(testset_name, task='triangle', epoch=1000)\n"
   ]
  },
  {
   "cell_type": "code",
   "execution_count": null,
   "metadata": {},
   "outputs": [],
   "source": [
    "\n",
    "@interact(\n",
    "    sel_word=d.testset_package['item'], \n",
    "    layer=['pho', 'sem'], \n",
    "    task=['triangle', 'ort_pho', 'exp_osp', 'ort_sem', 'exp_ops'], \n",
    "    epoch=(d.cfg.save_freq, d.cfg.total_number_of_epoch + 1, d.cfg.save_freq)\n",
    "    )\n",
    "def interactive_plot(sel_word, layer, task, epoch):\n",
    "    d = troubleshooting.Diagnosis(f\"{batch_name}/{code_name}\", tf_root_override='/home/jupyter/triangle_model')\n",
    "    d.eval(testset_name, task=task, epoch=epoch)\n",
    "    d.set_target_word(sel_word)\n",
    "    print(f\"Output phoneme over timeticks: {d.list_output_phoneme}\")\n",
    "    return d.plot_one_layer(layer)"
   ]
  },
  {
   "cell_type": "markdown",
   "metadata": {},
   "source": [
    "## Explore Cosine vs. target\n",
    "Run cosine(sigmoid(input), target) "
   ]
  },
  {
   "cell_type": "code",
   "execution_count": null,
   "metadata": {},
   "outputs": [],
   "source": [
    "class MyCosine:\n",
    "    \n",
    "    def __init__(self, y_true):\n",
    "        self.y_true = y_true\n",
    "\n",
    "    @staticmethod\n",
    "    def sigmoid(x):\n",
    "        return tf.keras.activations.sigmoid(x)\n",
    "\n",
    "    def cosine(self, y_pred):\n",
    "        return -tf.keras.losses.cosine_similarity(self.y_true, y_pred)\n",
    "\n",
    "    def cosine_on_time_axis(self, ys):\n",
    "        return tf.map_fn(self.cosine, ys)\n",
    "\n",
    "    def __call__(self, ys, apply_sigmoid=False):\n",
    "\n",
    "        if apply_sigmoid:\n",
    "            ys = self.sigmoid(ys)\n",
    "\n",
    "        return tf.reduce_mean(self.cosine_on_time_axis(ys), axis=-1).numpy()\n",
    "\n",
    "    def plot(self, ys, apply_sigmoid=False):\n",
    "        plt.plot(self.__call__(ys, apply_sigmoid))\n",
    "        plt.show()\n",
    "\n",
    "# Instantiating the cosine metric\n",
    "cos = MyCosine(y_true=d.testset_package['sem'])"
   ]
  },
  {
   "cell_type": "markdown",
   "metadata": {},
   "source": [
    "### SEM"
   ]
  },
  {
   "cell_type": "code",
   "execution_count": null,
   "metadata": {},
   "outputs": [],
   "source": [
    "ps = cos(d.y_pred['input_hps_hs'], apply_sigmoid=True)\n",
    "cs = cos(d.y_pred['input_css_cs'], apply_sigmoid=True)\n",
    "os = cos(d.y_pred['input_hos_hs'], apply_sigmoid=True)\n",
    "inp = cos(d.y_pred['input_sem'], apply_sigmoid=True)\n",
    "act_s = cos(d.y_pred['sem'], apply_sigmoid=False)\n",
    "\n",
    "plt.plot(ps, label='ps')\n",
    "plt.plot(cs, label='cs')\n",
    "plt.plot(os, label='os')\n",
    "plt.plot(inp, label='sum_input')\n",
    "plt.plot(act_s, label='s')\n",
    "plt.legend()"
   ]
  },
  {
   "cell_type": "markdown",
   "metadata": {},
   "source": [
    "### PHO"
   ]
  },
  {
   "cell_type": "code",
   "execution_count": null,
   "metadata": {},
   "outputs": [],
   "source": [
    "cos = MyCosine(y_true=d.testset_package['pho'])\n",
    "\n",
    "sp = cos(d.y_pred['input_hsp_hp'], apply_sigmoid=True)\n",
    "cp = cos(d.y_pred['input_cpp_cp'], apply_sigmoid=True)\n",
    "op = cos(d.y_pred['input_hop_hp'], apply_sigmoid=True)\n",
    "inp = cos(d.y_pred['input_pho'], apply_sigmoid=True)\n",
    "act_p = cos(d.y_pred['pho'], apply_sigmoid=False)\n",
    "\n",
    "plt.plot(sp, label='sp')\n",
    "plt.plot(cp, label='cp')\n",
    "plt.plot(op, label='op')\n",
    "plt.plot(inp, label='sum_input')\n",
    "plt.plot(act_p, label='p')\n",
    "plt.legend()"
   ]
  },
  {
   "cell_type": "code",
   "execution_count": null,
   "metadata": {},
   "outputs": [],
   "source": [
    "-tf.keras.losses.cosine_similarity([1., 1.], [0.1, 0.1])"
   ]
  },
  {
   "cell_type": "code",
   "execution_count": null,
   "metadata": {},
   "outputs": [],
   "source": [
    "SEM_NAME_MAP = {\n",
    "    \"input_hps_hs\": \"PS\",\n",
    "    \"input_css_cs\": \"CS\",\n",
    "    \"input_hos_hs\": \"OS\",\n",
    "    \"input_sem\": \"input\",\n",
    "    \"sem\": \"act\",\n",
    "}\n",
    "\n",
    "PHO_NAME_MAP = {\n",
    "    \"input_hsp_hp\": \"SP\",\n",
    "    \"input_cpp_cp\": \"CP\",\n",
    "    \"input_hop_hp\": \"OP\",\n",
    "    \"input_pho\": \"input\",\n",
    "    \"pho\": \"act\",\n",
    "}"
   ]
  },
  {
   "cell_type": "markdown",
   "metadata": {},
   "source": [
    "## Hand crafted version for better labeling "
   ]
  },
  {
   "cell_type": "code",
   "execution_count": null,
   "metadata": {},
   "outputs": [],
   "source": [
    "ps = d.y_pred['input_hps_hs']\n",
    "cs = d.y_pred['input_css_cs']\n",
    "os = d.y_pred['input_hos_hs']\n",
    "s = d.y_pred['sem']\n",
    "sum_input = d.y_pred['input_sem']\n",
    "y_true = d.testset_package['sem']"
   ]
  },
  {
   "cell_type": "markdown",
   "metadata": {},
   "source": [
    "# Pho"
   ]
  },
  {
   "cell_type": "markdown",
   "metadata": {},
   "source": [
    "## Scales:\n",
    "- 1: Identical\n",
    "- 0: 90 degrees\n",
    "- -1: 180 degree"
   ]
  },
  {
   "cell_type": "markdown",
   "metadata": {},
   "source": []
  }
 ],
 "metadata": {
  "interpreter": {
   "hash": "98b0a9b7b4eaaa670588a142fd0a9b87eaafe866f1db4228be72b4211d12040f"
  },
  "kernelspec": {
   "display_name": "Python 3.7.10 64-bit ('base': conda)",
   "name": "python3"
  },
  "language_info": {
   "codemirror_mode": {
    "name": "ipython",
    "version": 3
   },
   "file_extension": ".py",
   "mimetype": "text/x-python",
   "name": "python",
   "nbconvert_exporter": "python",
   "pygments_lexer": "ipython3",
   "version": "3.7.10"
  }
 },
 "nbformat": 4,
 "nbformat_minor": 4
}
