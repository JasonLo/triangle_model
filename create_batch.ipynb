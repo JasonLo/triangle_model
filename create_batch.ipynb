{
 "cells": [
  {
   "cell_type": "markdown",
   "metadata": {},
   "source": [
    "# Make batch config json file"
   ]
  },
  {
   "cell_type": "markdown",
   "metadata": {},
   "source": [
    "## Usage:\n",
    "1. Use this to generate batch cfg\n",
    "2. Run with quick_run_papermill.py and set which gpu to run on\n",
    "3. Run up to 8 parallel instances (2 per GPUs) on Uconn server"
   ]
  },
  {
   "cell_type": "code",
   "execution_count": 2,
   "metadata": {},
   "outputs": [
    {
     "name": "stdout",
     "output_type": "stream",
     "text": [
      "UUID not found, regenerating.\n",
      "Saved config json to /home/jal21012/triangle_model/models/triangle_pretrain/triangle_pretrain_r0000/model_config.json\n",
      "UUID not found, regenerating.\n",
      "Saved config json to /home/jal21012/triangle_model/models/triangle_pretrain/triangle_pretrain_r0001/model_config.json\n",
      "UUID not found, regenerating.\n",
      "Saved config json to /home/jal21012/triangle_model/models/triangle_pretrain/triangle_pretrain_r0002/model_config.json\n",
      "UUID not found, regenerating.\n",
      "Saved config json to /home/jal21012/triangle_model/models/triangle_pretrain/triangle_pretrain_r0003/model_config.json\n",
      "UUID not found, regenerating.\n",
      "Saved config json to /home/jal21012/triangle_model/models/triangle_pretrain/triangle_pretrain_r0004/model_config.json\n",
      "UUID not found, regenerating.\n",
      "Saved config json to /home/jal21012/triangle_model/models/triangle_pretrain/triangle_pretrain_r0005/model_config.json\n",
      "Batch config saved to models/triangle_pretrain/\n",
      "There are 6 models in this batch\n"
     ]
    }
   ],
   "source": [
    "from meta import make_batch_cfg\n",
    "\n",
    "batch_name = \"triangle_pretrain\"\n",
    "batch_output_dir = f\"models/{batch_name}/\"\n",
    "\n",
    "param_grid = {\n",
    "    \"learning_rate\": [0.1, 0.2, 1.0, 2.0, 4.0, 10.],\n",
    " }\n",
    "\n",
    "static_hpar = {\n",
    "    \"batch_name\": batch_name,\n",
    "    \"ort_units\": 119,\n",
    "    \"pho_units\": 250,\n",
    "    \"sem_units\": 2446,\n",
    "    \"hidden_os_units\": 500,\n",
    "    \"hidden_op_units\": 150,\n",
    "    \"hidden_ps_units\": 500,\n",
    "    \"hidden_sp_units\": 500,\n",
    "    \"pho_cleanup_units\": 50,\n",
    "    \"sem_cleanup_units\": 50,\n",
    "    \"pho_noise_level\": 0.0,\n",
    "    \"sem_noise_level\": 0.0,\n",
    "    \"activation\": \"sigmoid\",\n",
    "    \"tau\": 1 / 3,\n",
    "    \"max_unit_time\": 4.0,\n",
    "    \"pretrain_checkpoint\": None,\n",
    "    \"optimizer\": \"sgd\",\n",
    "    # \"learning_rate\": 0.006,\n",
    "    \"inject_error_ticks\": 3,\n",
    "    \"zero_error_radius\": 0.1,\n",
    "    \"loss_ramping\": True,\n",
    "    \"wf_compression\": \"root\",\n",
    "    \"wf_clip_low\": 1500,\n",
    "    \"wf_clip_high\": 30_000,\n",
    "    \"task_names\": [\"pho_sem\", \"sem_pho\", \"pho_pho\", \"sem_sem\"],\n",
    "    \"tasks_ps\": [0.4, 0.4, 0.1, 0.1],\n",
    "    \"total_sample\": 1_000_000,\n",
    "    \"batch_size\": 1,\n",
    "    \"rng_seed\": 2021,\n",
    "    \"save_freq\": 10,\n",
    "}\n",
    "\n",
    "\n",
    "batch_cfgs = make_batch_cfg(\n",
    "    batch_name, batch_output_dir, static_hpar, param_grid, \"master.ipynb\"\n",
    ")"
   ]
  }
 ],
 "metadata": {
  "environment": {
   "name": "tf2-gpu.2-4.m61",
   "type": "gcloud",
   "uri": "gcr.io/deeplearning-platform-release/tf2-gpu.2-4:m61"
  },
  "interpreter": {
   "hash": "31f2aee4e71d21fbe5cf8b01ff0e069b9275f58929596ceb00d14d90e3e16cd6"
  },
  "kernelspec": {
   "display_name": "Python 3.6.8 64-bit",
   "name": "python3"
  },
  "language_info": {
   "codemirror_mode": {
    "name": "ipython",
    "version": 3
   },
   "file_extension": ".py",
   "mimetype": "text/x-python",
   "name": "python",
   "nbconvert_exporter": "python",
   "pygments_lexer": "ipython3",
   "version": "3.6.8"
  },
  "toc-autonumbering": false,
  "toc-showcode": false,
  "toc-showmarkdowntxt": true,
  "toc-showtags": false
 },
 "nbformat": 4,
 "nbformat_minor": 4
}
