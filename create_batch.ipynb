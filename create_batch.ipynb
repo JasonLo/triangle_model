{
 "cells": [
  {
   "cell_type": "markdown",
   "metadata": {},
   "source": [
    "# Make batch config json file"
   ]
  },
  {
   "cell_type": "markdown",
   "metadata": {},
   "source": [
    "## Usage:\n",
    "1. Use this to generate batch cfg\n",
    "2. Run with quick_run_papermill.py and set which gpu to run on\n",
    "3. Run up to 8 parallel instances (2 per GPUs) on Uconn server"
   ]
  },
  {
   "cell_type": "code",
   "execution_count": 1,
   "metadata": {},
   "outputs": [
    {
     "name": "stdout",
     "output_type": "stream",
     "text": [
      "UUID not found, regenerating.\n",
      "Saved config json to /home/jal21012/triangle_model/models/rng_seed/rng_seed_r0000/model_config.json\n",
      "UUID not found, regenerating.\n",
      "Saved config json to /home/jal21012/triangle_model/models/rng_seed/rng_seed_r0001/model_config.json\n",
      "UUID not found, regenerating.\n",
      "Saved config json to /home/jal21012/triangle_model/models/rng_seed/rng_seed_r0002/model_config.json\n",
      "UUID not found, regenerating.\n",
      "Saved config json to /home/jal21012/triangle_model/models/rng_seed/rng_seed_r0003/model_config.json\n",
      "UUID not found, regenerating.\n",
      "Saved config json to /home/jal21012/triangle_model/models/rng_seed/rng_seed_r0004/model_config.json\n",
      "UUID not found, regenerating.\n",
      "Saved config json to /home/jal21012/triangle_model/models/rng_seed/rng_seed_r0005/model_config.json\n",
      "UUID not found, regenerating.\n",
      "Saved config json to /home/jal21012/triangle_model/models/rng_seed/rng_seed_r0006/model_config.json\n",
      "UUID not found, regenerating.\n",
      "Saved config json to /home/jal21012/triangle_model/models/rng_seed/rng_seed_r0007/model_config.json\n",
      "UUID not found, regenerating.\n",
      "Saved config json to /home/jal21012/triangle_model/models/rng_seed/rng_seed_r0008/model_config.json\n",
      "UUID not found, regenerating.\n",
      "Saved config json to /home/jal21012/triangle_model/models/rng_seed/rng_seed_r0009/model_config.json\n",
      "Batch config saved to models/rng_seed/\n",
      "There are 10 models in this batch\n"
     ]
    }
   ],
   "source": [
    "from meta import make_batch_cfg\n",
    "\n",
    "batch_name = \"rng_seed\"\n",
    "batch_output_dir = f\"models/{batch_name}/\"\n",
    "\n",
    "param_grid = {\n",
    "    \"rng_seed\": list(range(2021, 2031))\n",
    " }\n",
    "\n",
    "static_hpar = {\n",
    "    \"ort_units\": 119,\n",
    "    \"pho_units\": 250,\n",
    "    \"sem_units\": 2446,\n",
    "    \"hidden_os_units\": 500,\n",
    "    \"hidden_op_units\": 100,\n",
    "    \"hidden_ps_units\": 500,\n",
    "    \"hidden_sp_units\": 500,\n",
    "    \"pho_cleanup_units\": 50,\n",
    "    \"sem_cleanup_units\": 50,\n",
    "    \"pho_noise_level\": 0.0,\n",
    "    \"sem_noise_level\": 0.0,\n",
    "    \"activation\": \"sigmoid\",\n",
    "    \"tau\": 1 / 3,\n",
    "    \"max_unit_time\": 4.0,\n",
    "    \"inject_error_ticks\": 11,\n",
    "    \"output_ticks\": 13,\n",
    "    \"learning_rate\": 0.001,\n",
    "    \"zero_error_radius\": 0.1,\n",
    "    \"save_freq\": 20,\n",
    "    \"wf_compression\": \"log\",\n",
    "    \"wf_clip_low\": 0,\n",
    "    \"wf_clip_high\": 999_999_999,\n",
    "    \"task_names\": (\"pho_sem\", \"sem_pho\", \"pho_pho\", \"sem_sem\", \"triangle\"),\n",
    "    \"tasks_ps\": (0.2, 0.2, 0.05, 0.05, 0.5),\n",
    "    \"batch_name\": batch_name,\n",
    "    \"total_sample\": 5_000_000,\n",
    "    \"batch_size\": 4,\n",
    "    # \"rng_seed\": 2021\n",
    "}\n",
    "\n",
    "\n",
    "batch_cfgs = make_batch_cfg(\n",
    "    batch_name, batch_output_dir, static_hpar, param_grid, \"master.ipynb\"\n",
    ")"
   ]
  }
 ],
 "metadata": {
  "environment": {
   "name": "tf2-gpu.2-4.m61",
   "type": "gcloud",
   "uri": "gcr.io/deeplearning-platform-release/tf2-gpu.2-4:m61"
  },
  "interpreter": {
   "hash": "31f2aee4e71d21fbe5cf8b01ff0e069b9275f58929596ceb00d14d90e3e16cd6"
  },
  "kernelspec": {
   "display_name": "Python 3.6.8 64-bit",
   "name": "python3"
  },
  "language_info": {
   "codemirror_mode": {
    "name": "ipython",
    "version": 3
   },
   "file_extension": ".py",
   "mimetype": "text/x-python",
   "name": "python",
   "nbconvert_exporter": "python",
   "pygments_lexer": "ipython3",
   "version": "3.6.8"
  },
  "toc-autonumbering": false,
  "toc-showcode": false,
  "toc-showmarkdowntxt": true,
  "toc-showtags": false
 },
 "nbformat": 4,
 "nbformat_minor": 4
}
