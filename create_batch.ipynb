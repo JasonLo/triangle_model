{
 "cells": [
  {
   "cell_type": "markdown",
   "metadata": {},
   "source": [
    "# Make batch config json file"
   ]
  },
  {
   "cell_type": "markdown",
   "metadata": {},
   "source": [
    "## Usage:\n",
    "1. Use this to generate batch cfg\n",
    "2. Run with quick_run_papermill.py and set which gpu to run on\n",
    "3. Run up to 8 parallel instances (2 per GPUs) on Uconn server"
   ]
  },
  {
   "cell_type": "code",
   "execution_count": 1,
   "metadata": {},
   "outputs": [
    {
     "name": "stdout",
     "output_type": "stream",
     "text": [
      "UUID not found, regenerating.\n",
      "Saved config json to /home/jal21012/triangle_model/models/fast_pretrain_and_ramp_test/fast_pretrain_and_ramp_test_r0000/model_config.json\n",
      "UUID not found, regenerating.\n",
      "Saved config json to /home/jal21012/triangle_model/models/fast_pretrain_and_ramp_test/fast_pretrain_and_ramp_test_r0001/model_config.json\n",
      "UUID not found, regenerating.\n",
      "Saved config json to /home/jal21012/triangle_model/models/fast_pretrain_and_ramp_test/fast_pretrain_and_ramp_test_r0002/model_config.json\n",
      "UUID not found, regenerating.\n",
      "Saved config json to /home/jal21012/triangle_model/models/fast_pretrain_and_ramp_test/fast_pretrain_and_ramp_test_r0003/model_config.json\n",
      "UUID not found, regenerating.\n",
      "Saved config json to /home/jal21012/triangle_model/models/fast_pretrain_and_ramp_test/fast_pretrain_and_ramp_test_r0004/model_config.json\n",
      "UUID not found, regenerating.\n",
      "Saved config json to /home/jal21012/triangle_model/models/fast_pretrain_and_ramp_test/fast_pretrain_and_ramp_test_r0005/model_config.json\n",
      "UUID not found, regenerating.\n",
      "Saved config json to /home/jal21012/triangle_model/models/fast_pretrain_and_ramp_test/fast_pretrain_and_ramp_test_r0006/model_config.json\n",
      "UUID not found, regenerating.\n",
      "Saved config json to /home/jal21012/triangle_model/models/fast_pretrain_and_ramp_test/fast_pretrain_and_ramp_test_r0007/model_config.json\n",
      "UUID not found, regenerating.\n",
      "Saved config json to /home/jal21012/triangle_model/models/fast_pretrain_and_ramp_test/fast_pretrain_and_ramp_test_r0008/model_config.json\n",
      "UUID not found, regenerating.\n",
      "Saved config json to /home/jal21012/triangle_model/models/fast_pretrain_and_ramp_test/fast_pretrain_and_ramp_test_r0009/model_config.json\n",
      "UUID not found, regenerating.\n",
      "Saved config json to /home/jal21012/triangle_model/models/fast_pretrain_and_ramp_test/fast_pretrain_and_ramp_test_r0010/model_config.json\n",
      "UUID not found, regenerating.\n",
      "Saved config json to /home/jal21012/triangle_model/models/fast_pretrain_and_ramp_test/fast_pretrain_and_ramp_test_r0011/model_config.json\n",
      "UUID not found, regenerating.\n",
      "Saved config json to /home/jal21012/triangle_model/models/fast_pretrain_and_ramp_test/fast_pretrain_and_ramp_test_r0012/model_config.json\n",
      "UUID not found, regenerating.\n",
      "Saved config json to /home/jal21012/triangle_model/models/fast_pretrain_and_ramp_test/fast_pretrain_and_ramp_test_r0013/model_config.json\n",
      "UUID not found, regenerating.\n",
      "Saved config json to /home/jal21012/triangle_model/models/fast_pretrain_and_ramp_test/fast_pretrain_and_ramp_test_r0014/model_config.json\n",
      "UUID not found, regenerating.\n",
      "Saved config json to /home/jal21012/triangle_model/models/fast_pretrain_and_ramp_test/fast_pretrain_and_ramp_test_r0015/model_config.json\n",
      "UUID not found, regenerating.\n",
      "Saved config json to /home/jal21012/triangle_model/models/fast_pretrain_and_ramp_test/fast_pretrain_and_ramp_test_r0016/model_config.json\n",
      "UUID not found, regenerating.\n",
      "Saved config json to /home/jal21012/triangle_model/models/fast_pretrain_and_ramp_test/fast_pretrain_and_ramp_test_r0017/model_config.json\n",
      "UUID not found, regenerating.\n",
      "Saved config json to /home/jal21012/triangle_model/models/fast_pretrain_and_ramp_test/fast_pretrain_and_ramp_test_r0018/model_config.json\n",
      "UUID not found, regenerating.\n",
      "Saved config json to /home/jal21012/triangle_model/models/fast_pretrain_and_ramp_test/fast_pretrain_and_ramp_test_r0019/model_config.json\n",
      "UUID not found, regenerating.\n",
      "Saved config json to /home/jal21012/triangle_model/models/fast_pretrain_and_ramp_test/fast_pretrain_and_ramp_test_r0020/model_config.json\n",
      "UUID not found, regenerating.\n",
      "Saved config json to /home/jal21012/triangle_model/models/fast_pretrain_and_ramp_test/fast_pretrain_and_ramp_test_r0021/model_config.json\n",
      "UUID not found, regenerating.\n",
      "Saved config json to /home/jal21012/triangle_model/models/fast_pretrain_and_ramp_test/fast_pretrain_and_ramp_test_r0022/model_config.json\n",
      "UUID not found, regenerating.\n",
      "Saved config json to /home/jal21012/triangle_model/models/fast_pretrain_and_ramp_test/fast_pretrain_and_ramp_test_r0023/model_config.json\n",
      "Batch config saved to models/fast_pretrain_and_ramp_test/\n",
      "There are 24 models in this batch\n"
     ]
    }
   ],
   "source": [
    "from meta import make_batch_cfg\n",
    "\n",
    "batch_name = \"fast_pretrain_and_ramp_test\"\n",
    "batch_output_dir = f\"models/{batch_name}/\"\n",
    "\n",
    "param_grid = {\n",
    "    \"pretrain_checkpoint\": [\n",
    "        'models/pretrain_fast_4411/checkpoints/epoch-1',\n",
    "        'models/pretrain_fast_4411/checkpoints/epoch-40',\n",
    "        'models/pretrain_fast_4411/checkpoints/epoch-80',\n",
    "        'models/pretrain_fast_4411/checkpoints/epoch-120',\n",
    "        'models/pretrain_fast_4411/checkpoints/epoch-160',\n",
    "        'models/pretrain_fast_4411/checkpoints/epoch-200',\n",
    "        'models/pretrain_fast_4411/checkpoints/epoch-240',\n",
    "        'models/pretrain_fast_4411/checkpoints/epoch-280',\n",
    "        'models/pretrain_fast_4411/checkpoints/epoch-320',\n",
    "        'models/pretrain_fast_4411/checkpoints/epoch-360',\n",
    "        'models/pretrain_fast_4411/checkpoints/epoch-400',\n",
    "        'models/pretrain_fast_4411/checkpoints/epoch-440',\n",
    "    ],\n",
    "    \"loss_ramping\": [True, False],\n",
    " }\n",
    "\n",
    "static_hpar = {\n",
    "    \"batch_name\": batch_name,\n",
    "    \"ort_units\": 119,\n",
    "    \"pho_units\": 250,\n",
    "    \"sem_units\": 2446,\n",
    "    \"hidden_os_units\": 500,\n",
    "    \"hidden_op_units\": 100,\n",
    "    \"hidden_ps_units\": 500,\n",
    "    \"hidden_sp_units\": 500,\n",
    "    \"pho_cleanup_units\": 50,\n",
    "    \"sem_cleanup_units\": 50,\n",
    "    \"pho_noise_level\": 0.0,\n",
    "    \"sem_noise_level\": 0.0,\n",
    "    \"activation\": \"sigmoid\",\n",
    "    \"tau\": 1 / 3,\n",
    "    \"max_unit_time\": 4.0,\n",
    "    # \"pretrain_checkpoint\": 'models/pretrain_fast/checkpoints/epoch-350',\n",
    "    \"optimizer\": \"adam\",\n",
    "    \"learning_rate\": 0.005,\n",
    "    \"inject_error_ticks\": 11,\n",
    "    \"zero_error_radius\": 0.1,\n",
    "    # \"loss_ramping\": True,\n",
    "    \"wf_compression\": \"root\",\n",
    "    \"wf_clip_low\": 1500,\n",
    "    \"wf_clip_high\": 30_000,\n",
    "    \"task_names\": [\"triangle\"],\n",
    "    \"tasks_ps\": [1.0],\n",
    "    \"total_sample\": 3_000_000,\n",
    "    \"batch_size\": 100,\n",
    "    \"rng_seed\": 2021,\n",
    "    \"save_freq\": 20,\n",
    "}\n",
    "\n",
    "\n",
    "batch_cfgs = make_batch_cfg(\n",
    "    batch_name, batch_output_dir, static_hpar, param_grid, \"master.ipynb\"\n",
    ")"
   ]
  }
 ],
 "metadata": {
  "environment": {
   "name": "tf2-gpu.2-4.m61",
   "type": "gcloud",
   "uri": "gcr.io/deeplearning-platform-release/tf2-gpu.2-4:m61"
  },
  "interpreter": {
   "hash": "31f2aee4e71d21fbe5cf8b01ff0e069b9275f58929596ceb00d14d90e3e16cd6"
  },
  "kernelspec": {
   "display_name": "Python 3.6.8 64-bit",
   "name": "python3"
  },
  "language_info": {
   "codemirror_mode": {
    "name": "ipython",
    "version": 3
   },
   "file_extension": ".py",
   "mimetype": "text/x-python",
   "name": "python",
   "nbconvert_exporter": "python",
   "pygments_lexer": "ipython3",
   "version": "3.6.8"
  },
  "toc-autonumbering": false,
  "toc-showcode": false,
  "toc-showmarkdowntxt": true,
  "toc-showtags": false
 },
 "nbformat": 4,
 "nbformat_minor": 4
}
