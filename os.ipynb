{
 "cells": [
  {
   "cell_type": "markdown",
   "metadata": {},
   "source": [
    "# TF model v4.0"
   ]
  },
  {
   "cell_type": "markdown",
   "metadata": {},
   "source": [
    "HS04 model incorporating non-stationary environment"
   ]
  },
  {
   "cell_type": "markdown",
   "metadata": {},
   "source": [
    "- *50 sem_cleanup*\n",
    "- *50 pho_cleanup*\n",
    "- *500 sem_pho_hidden_units*\n",
    "- *500 pho_sem_hidden_units*\n",
    "- *4 output_ticks* \n",
    "- *No auto-connection lock*\n",
    "- *Attractor clamped for 8 steps, free for last 4 steps*\n",
    "- implemented only in modeling.py but not the generator, it will just drop the extra generated time ticks\n",
    "- can do both phase 1 (oral) and 2 (reading) in this notebook"
   ]
  },
  {
   "cell_type": "code",
   "execution_count": null,
   "metadata": {},
   "outputs": [],
   "source": [
    "# %load_ext lab_black\n",
    "import os, time\n",
    "import tensorflow as tf\n",
    "from IPython.display import clear_output\n",
    "import meta, data_wrangling, modeling, metrics, evaluate\n",
    "\n",
    "# meta.limit_gpu_memory_use(7000)"
   ]
  },
  {
   "cell_type": "markdown",
   "metadata": {},
   "source": [
    "# Parameters block (for papermill)"
   ]
  },
  {
   "cell_type": "code",
   "execution_count": null,
   "metadata": {
    "tags": [
     "parameters"
    ]
   },
   "outputs": [],
   "source": [
    "code_name = \"ort_sem\"\n",
    "tf_root = \"/home/jupyter/tf\"\n",
    "\n",
    "# Model configs\n",
    "ort_units = 119\n",
    "pho_units = 250\n",
    "sem_units = 2446\n",
    "hidden_os_units = 500\n",
    "hidden_op_units = 100\n",
    "hidden_ps_units = 500\n",
    "hidden_sp_units = 500\n",
    "pho_cleanup_units = 50\n",
    "sem_cleanup_units = 50\n",
    "pho_noise_level = 0.0\n",
    "sem_noise_level = 0.0\n",
    "activation = \"sigmoid\"\n",
    "tau = 1 / 3\n",
    "max_unit_time = 4.0\n",
    "output_ticks = 12\n",
    "inject_error_ticks = 11\n",
    "\n",
    "# Training configs\n",
    "learning_rate = 0.005\n",
    "zero_error_radius = 0.1\n",
    "save_freq = 10\n",
    "batch_name = None\n",
    "\n",
    "# Environment configs\n",
    "tasks = (\"ort_sem\")\n",
    "wf_clipping_edges = None\n",
    "wf_compression = \"log\"\n",
    "wf_clip_low = 0\n",
    "wf_clip_high = 999_999_999\n",
    "oral_start_pct = 0.02\n",
    "oral_end_pct = 1.0\n",
    "oral_sample = 900_000\n",
    "oral_tasks_ps = (1.0)\n",
    "transition_sample = 0\n",
    "reading_sample = 0\n",
    "reading_tasks_ps = (1.0)\n",
    "batch_size = 100\n",
    "rng_seed = 2021\n"
   ]
  },
  {
   "cell_type": "code",
   "execution_count": null,
   "metadata": {},
   "outputs": [],
   "source": [
    "# cfg = meta.ModelConfig.from_json(os.path.join(tf_root, 'models', code_name, 'model_config.json'))"
   ]
  },
  {
   "cell_type": "code",
   "execution_count": null,
   "metadata": {},
   "outputs": [],
   "source": [
    "# Load global cfg variables into a dictionary for feeding into ModelConfig()\n",
    "\n",
    "config_dict = {}\n",
    "for v in meta.CORE_CONFIGS + meta.ENV_CONFIGS:\n",
    "    try:\n",
    "        config_dict[v] = globals()[v]\n",
    "    except:\n",
    "        raise\n",
    "\n",
    "for v in meta.OPTIONAL_CONFIGS:\n",
    "    try:\n",
    "        config_dict[v] = globals()[v]\n",
    "    except:\n",
    "        pass\n",
    "\n",
    "# Construct ModelConfig object\n",
    "cfg = meta.ModelConfig(**config_dict)\n",
    "cfg.save()\n",
    "del config_dict"
   ]
  },
  {
   "cell_type": "markdown",
   "metadata": {},
   "source": [
    "# Build model and all supporting components"
   ]
  },
  {
   "cell_type": "code",
   "execution_count": null,
   "metadata": {},
   "outputs": [],
   "source": [
    "tf.random.set_seed(cfg.rng_seed)\n",
    "data = data_wrangling.MyData()\n",
    "model = modeling.HS04Model(cfg)\n",
    "model.build()\n",
    "# from importlib import reload\n",
    "# reload(data_wrangling)\n",
    "sampler = data_wrangling.Sampler(cfg, data)\n",
    "sampler.plot()"
   ]
  },
  {
   "cell_type": "code",
   "execution_count": null,
   "metadata": {},
   "outputs": [],
   "source": [
    "generator = sampler.generator()\n",
    "\n",
    "# Full set of task specific components\n",
    "\n",
    "optimizers = {}\n",
    "loss_fns = {}\n",
    "train_losses = {}  # Mean loss (for TensorBoard)\n",
    "\n",
    "optimizers[\"ort_sem\"] = tf.keras.optimizers.Adam(learning_rate=cfg.learning_rate, beta_1=0.9)\n",
    "loss_fns[\"ort_sem\"] = metrics.CustomBCE(radius=cfg.zero_error_radius)\n",
    "train_losses[\"ort_sem\"] = tf.keras.metrics.Mean(f\"train_loss_ort_sem\", dtype=tf.float32)\n",
    "\n",
    "\n",
    "# Training acc is output specific\n",
    "train_acc = {\n",
    "    \"ort_sem\": metrics.RightSideAccuracy(\"acc_ort_sem\"),\n",
    "}"
   ]
  },
  {
   "cell_type": "markdown",
   "metadata": {},
   "source": [
    "## Train step for each task"
   ]
  },
  {
   "cell_type": "code",
   "execution_count": null,
   "metadata": {},
   "outputs": [],
   "source": [
    "# Since each sub-task has its own states, it must be trained with separate optimizer,\n",
    "# instead of sharing the same optimizer instance (https://github.com/tensorflow/tensorflow/issues/27120)\n",
    "\n",
    "\n",
    "def get_train_step():\n",
    "    \"\"\" Universal training step creator \"\"\"\n",
    "\n",
    "    @tf.function\n",
    "    def train_step(\n",
    "        x,\n",
    "        y,\n",
    "        model,\n",
    "        task,\n",
    "        loss_fn,\n",
    "        optimizer,\n",
    "        train_metrics,\n",
    "        train_losses,\n",
    "    ):\n",
    "\n",
    "        train_weights_name = [x + \":0\" for x in modeling.WEIGHTS_AND_BIASES[task]]\n",
    "        train_weights = [x for x in model.weights if x.name in train_weights_name]\n",
    "\n",
    "        if task == \"triangle\":\n",
    "            with tf.GradientTape() as tape:\n",
    "                y_pred = model(x, training=True)\n",
    "                loss_value_pho = loss_fn(y[0], y_pred[0])  # Caution order matter\n",
    "                loss_value_sem = loss_fn(y[1], y_pred[1])\n",
    "                loss_value = loss_value_pho + loss_value_sem\n",
    "        else:\n",
    "            with tf.GradientTape() as tape:\n",
    "                y_pred = model(x, training=True)\n",
    "                loss_value = loss_fn(y, y_pred)\n",
    "\n",
    "        grads = tape.gradient(loss_value, train_weights)\n",
    "        optimizer.apply_gradients(zip(grads, train_weights))\n",
    "\n",
    "        # Mean loss for Tensorboard\n",
    "        train_losses.update_state(loss_value)\n",
    "\n",
    "        # Metric for last time step (output first dimension is time ticks, from -cfg.output_ticks to end) for live results\n",
    "        if type(train_metrics) is list:\n",
    "            for i, x in enumerate(train_metrics):\n",
    "                x.update_state(tf.cast(y[i][-1], tf.float32), y_pred[i][-1])\n",
    "        else:\n",
    "            train_metrics.update_state(tf.cast(y[-1], tf.float32), y_pred[-1])\n",
    "\n",
    "    return train_step\n",
    "\n",
    "\n",
    "train_steps = {cfg.tasks: get_train_step()}"
   ]
  },
  {
   "cell_type": "markdown",
   "metadata": {},
   "source": [
    "# Train model"
   ]
  },
  {
   "cell_type": "code",
   "execution_count": null,
   "metadata": {
    "tags": []
   },
   "outputs": [],
   "source": [
    "# TensorBoard writer\n",
    "train_summary_writer = tf.summary.create_file_writer(cfg.path[\"tensorboard_folder\"])\n",
    "\n",
    "for epoch in range(int(sampler.total_batches / 100)):\n",
    "    start_time = time.time()\n",
    "\n",
    "    for step in range(100):\n",
    "        # Run 100 batches before every logging\n",
    "        # Draw task, create batch\n",
    "        task, exposed_words_idx, x_batch_train, y_batch_train = next(generator)\n",
    "        model.set_active_task(task)  # task switching must be done outside trainstep...\n",
    "        train_steps[task](\n",
    "            x_batch_train,\n",
    "            y_batch_train,\n",
    "            model,\n",
    "            task,\n",
    "            loss_fns[task],\n",
    "            optimizers[task],\n",
    "            train_acc[task],\n",
    "            train_losses[task],\n",
    "        )\n",
    "\n",
    "    # End of epoch operations\n",
    "\n",
    "    ## Write log to tensorboard\n",
    "    with train_summary_writer.as_default():\n",
    "        ### Losses\n",
    "        [\n",
    "            tf.summary.scalar(f\"loss_{x}\", train_losses[x].result(), step=epoch)\n",
    "            for x in train_losses.keys()\n",
    "        ]\n",
    "\n",
    "        ### Metrics\n",
    "\n",
    "        for task in train_acc.keys():\n",
    "            if task == \"triangle\":\n",
    "                [\n",
    "                    tf.summary.scalar(acc.name, acc.result(), step=epoch)\n",
    "                    for acc in train_acc[task]\n",
    "                ]\n",
    "            else:\n",
    "                tf.summary.scalar(\n",
    "                    train_acc[task].name, train_acc[task].result(), step=epoch\n",
    "                )\n",
    "\n",
    "        ### Weight histogram\n",
    "        [tf.summary.histogram(f\"{x.name}\", x, step=epoch) for x in model.weights]\n",
    "\n",
    "    ## Print status\n",
    "    print(f\"Epoch {epoch + 1} trained for {time.time() - start_time:.0f}s\")\n",
    "    print(f\"Losses: {cfg.tasks}: {train_losses[cfg.tasks].result().numpy()}\")\n",
    "    clear_output(wait=True)\n",
    "\n",
    "    ## Save weights\n",
    "    if (epoch < 10) or ((epoch + 1) % cfg.save_freq == 0):\n",
    "        weight_path = cfg.path[\"weights_checkpoint_fstring\"].format(epoch=epoch + 1)\n",
    "        model.save_weights(weight_path, overwrite=True, save_format=\"tf\")\n",
    "\n",
    "    ## Reset metric and loss\n",
    "    [train_losses[x].reset_states() for x in train_losses.keys()]\n",
    "\n",
    "    for task in train_acc.keys():\n",
    "        if task == \"triangle\":\n",
    "            [x.reset_states() for x in train_acc[task]]\n",
    "        else:\n",
    "            train_acc[task].reset_states()\n",
    "\n",
    "\n",
    "# End of training ops\n",
    "print(\"Done\")"
   ]
  },
  {
   "cell_type": "markdown",
   "metadata": {},
   "source": [
    "# Evaluate model\n",
    "eval 3.0 under construction\n",
    "features:\n",
    "- Speed (2.0 code is easy to read but way too slow)\n",
    "- No separtion between oral and reading\n",
    "- More plots build in "
   ]
  }
 ],
 "metadata": {
  "environment": {
   "name": "tf2-gpu.2-5.m74",
   "type": "gcloud",
   "uri": "gcr.io/deeplearning-platform-release/tf2-gpu.2-5:m74"
  },
  "interpreter": {
   "hash": "98b0a9b7b4eaaa670588a142fd0a9b87eaafe866f1db4228be72b4211d12040f"
  },
  "kernelspec": {
   "display_name": "Python 3.7.10 64-bit ('base': conda)",
   "name": "python3"
  },
  "language_info": {
   "codemirror_mode": {
    "name": "ipython",
    "version": 3
   },
   "file_extension": ".py",
   "mimetype": "text/x-python",
   "name": "python",
   "nbconvert_exporter": "python",
   "pygments_lexer": "ipython3",
   "version": "3.7.10"
  },
  "toc-autonumbering": true,
  "toc-showcode": false,
  "toc-showmarkdowntxt": false
 },
 "nbformat": 4,
 "nbformat_minor": 4
}
