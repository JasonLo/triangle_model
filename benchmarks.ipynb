{
 "cells": [
  {
   "cell_type": "markdown",
   "metadata": {},
   "source": [
    "# Benchmarks for triangle model\n",
    "Most of the code is already there, inside troubleshooting.py and benchmark_hs04.py. However, the organization of the code is simply bad. We will refactor the code to make it more readable and maintainable in this notebook."
   ]
  },
  {
   "cell_type": "code",
   "execution_count": null,
   "metadata": {},
   "outputs": [],
   "source": [
    "from abc import ABC, abstractmethod\n"
   ]
  },
  {
   "cell_type": "code",
   "execution_count": null,
   "metadata": {},
   "outputs": [],
   "source": [
    "class BenchmarkFactory(ABC):\n",
    "    \"\"\"An abstract base class for batch plots.\n",
    "    Generally the work flow of an evaluation are:\n",
    "    1. Evaluate the model on the test set [by evaluator]\n",
    "    2. Combine the results across all models in a batch [by postprocessor]\n",
    "    3. Plot the results [by plotter]\n",
    "    \"\"\"\n",
    "\n",
    "    @abstractmethod\n",
    "    def create_evaluator(self, evaluator_name):\n",
    "        pass\n",
    "\n",
    "    @abstractmethod\n",
    "    def create_postprocessor(self, postprocessor_name):\n",
    "        pass\n",
    "\n",
    "    @abstractmethod\n",
    "    def create_plotter(self, plotter_name, *args, **kwargs):\n",
    "        pass\n",
    "\n"
   ]
  },
  {
   "cell_type": "code",
   "execution_count": null,
   "metadata": {},
   "outputs": [],
   "source": [
    "class BenchmarkTaraban(BenchmarkFactory):\n",
    "    \"\"\"Frequency by Consistency benchmark with Taraban testset.\"\"\"\n",
    "    \n",
    "    def create_evaluator(self, evaluator_name):\n",
    "        from .evaluator import TarabanEvaluator\n",
    "        return TarabanEvaluator()\n",
    "\n",
    "    def create_postprocessor(self, postprocessor_name):\n",
    "        from .postprocessor import TarabanPostprocessor\n",
    "        return TarabanPostprocessor()\n",
    "\n",
    "    def create_plotter(self, plotter_name, *args, **kwargs):\n",
    "        from .plotter import TarabanPlotter\n",
    "        return TarabanPlotter(*args, **kwargs)"
   ]
  }
 ],
 "metadata": {
  "interpreter": {
   "hash": "98b0a9b7b4eaaa670588a142fd0a9b87eaafe866f1db4228be72b4211d12040f"
  },
  "kernelspec": {
   "display_name": "Python 3.7.10 64-bit ('base': conda)",
   "name": "python3"
  },
  "language_info": {
   "codemirror_mode": {
    "name": "ipython",
    "version": 3
   },
   "file_extension": ".py",
   "mimetype": "text/x-python",
   "name": "python",
   "nbconvert_exporter": "python",
   "pygments_lexer": "ipython3",
   "version": "3.7.10"
  }
 },
 "nbformat": 4,
 "nbformat_minor": 2
}
