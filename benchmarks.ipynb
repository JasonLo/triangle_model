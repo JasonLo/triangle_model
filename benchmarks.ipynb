{
 "cells": [
  {
   "cell_type": "markdown",
   "source": [
    "# Benchmarks for triangle model\n",
    "Most of the code is already there, inside troubleshooting.py and benchmark_hs04.py. However, the organization of the code is simply bad. We will refactor the code to make it more readable and maintainable in this notebook."
   ],
   "metadata": {}
  },
  {
   "cell_type": "code",
   "execution_count": 2,
   "source": [
    "from abc import ABC, abstractmethod\n"
   ],
   "outputs": [],
   "metadata": {}
  },
  {
   "cell_type": "code",
   "execution_count": 4,
   "source": [
    "class BenchmarkFactory(ABC):\n",
    "    \"\"\"An abstract base class for batch plots.\n",
    "    Generally the work flow of an evaluation are:\n",
    "    1. Evaluate the model on the test set [by evaluator]\n",
    "    2. Combine the results across all models in a batch [by postprocessor]\n",
    "    3. Plot the results [by plotter]\n",
    "    \"\"\"\n",
    "\n",
    "    @abstractmethod\n",
    "    def create_evaluator(self, evaluator_name):\n",
    "        pass\n",
    "\n",
    "    @abstractmethod\n",
    "    def create_postprocessor(self, postprocessor_name):\n",
    "        pass\n",
    "\n",
    "    @abstractmethod\n",
    "    def create_plotter(self, plotter_name, *args, **kwargs):\n",
    "        pass\n",
    "\n"
   ],
   "outputs": [],
   "metadata": {}
  },
  {
   "cell_type": "code",
   "execution_count": null,
   "source": [
    "class BenchmarkTaraban(BenchmarkFactory):\n",
    "    \"\"\"Frequency by Consistency benchmark with Taraban testset.\"\"\"\n",
    "    \n",
    "    def create_evaluator(self, evaluator_name):\n",
    "        from .evaluator import TarabanEvaluator\n",
    "        return TarabanEvaluator()\n",
    "\n",
    "    def create_postprocessor(self, postprocessor_name):\n",
    "        from .postprocessor import TarabanPostprocessor\n",
    "        return TarabanPostprocessor()\n",
    "\n",
    "    def create_plotter(self, plotter_name, *args, **kwargs):\n",
    "        from .plotter import TarabanPlotter\n",
    "        return TarabanPlotter(*args, **kwargs)"
   ],
   "outputs": [],
   "metadata": {}
  }
 ],
 "metadata": {
  "orig_nbformat": 4,
  "language_info": {
   "name": "python",
   "version": "3.7.10",
   "mimetype": "text/x-python",
   "codemirror_mode": {
    "name": "ipython",
    "version": 3
   },
   "pygments_lexer": "ipython3",
   "nbconvert_exporter": "python",
   "file_extension": ".py"
  },
  "kernelspec": {
   "name": "python3",
   "display_name": "Python 3.7.10 64-bit ('base': conda)"
  },
  "interpreter": {
   "hash": "98b0a9b7b4eaaa670588a142fd0a9b87eaafe866f1db4228be72b4211d12040f"
  }
 },
 "nbformat": 4,
 "nbformat_minor": 2
}