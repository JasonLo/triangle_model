{
 "cells": [
  {
   "cell_type": "markdown",
   "metadata": {},
   "source": [
    "# Batch run models"
   ]
  },
  {
   "cell_type": "code",
   "execution_count": 1,
   "metadata": {},
   "outputs": [],
   "source": [
    "%load_ext lab_black\n",
    "import os, multiprocessing, time, papermill, sys, sqlite3\n",
    "from IPython.display import clear_output\n",
    "from tqdm import tqdm\n",
    "from meta import ModelConfig, make_batch_cfg\n",
    "import pandas as pd\n",
    "\n",
    "# nest_asyncio.apply()\n",
    "# Gen OG random seed: [int(random.random() * 1e5) for x in range(10)]"
   ]
  },
  {
   "cell_type": "markdown",
   "metadata": {},
   "source": [
    "## Make configs"
   ]
  },
  {
   "cell_type": "code",
   "execution_count": 2,
   "metadata": {},
   "outputs": [
    {
     "name": "stdout",
     "output_type": "stream",
     "text": [
      "Batch config json is found, load cfgs from disk\n",
      "There are 20 models in this batch\n"
     ]
    }
   ],
   "source": [
    "batch_name = \"error_injection_timing_test\"\n",
    "batch_output_dir = f\"models/batch_run/{batch_name}/\"\n",
    "\n",
    "param_grid = {\n",
    "    \"rng_seed\": [75429, 32572, 81590, 15999, 75629, 79044, 70079, 41958, 50626, 92328],\n",
    "    \"inject_error_ticks\": [2, 11],\n",
    "}\n",
    "\n",
    "static_hpar = {\n",
    "    \"tf_root\": \"/home/jupyter/tf\",\n",
    "    \"ort_units\": 119,\n",
    "    \"pho_units\": 250,\n",
    "    \"sem_units\": 2446,\n",
    "    \"hidden_os_units\": 500,\n",
    "    \"hidden_op_units\": 100,\n",
    "    \"hidden_ps_units\": 500,\n",
    "    \"hidden_sp_units\": 500,\n",
    "    \"pho_cleanup_units\": 20,\n",
    "    \"sem_cleanup_units\": 50,\n",
    "    \"pho_noise_level\": 0.0,\n",
    "    \"sem_noise_level\": 0.0,\n",
    "    \"activation\": \"sigmoid\",\n",
    "    \"tau\": 1 / 3,\n",
    "    \"max_unit_time\": 4.0,\n",
    "    \"output_ticks\": 11,\n",
    "    \"learning_rate\": 0.01,\n",
    "    \"zero_error_radius\": 0.1,\n",
    "    \"n_mil_sample\": 2.0,\n",
    "    \"batch_size\": 100,\n",
    "    \"save_freq\": 10,\n",
    "    \"batch_name\": batch_name,\n",
    "}\n",
    "\n",
    "batch_cfgs = make_batch_cfg(\n",
    "    batch_name, batch_output_dir, static_hpar, param_grid, \"hs04_phase2.ipynb\"\n",
    ")"
   ]
  },
  {
   "cell_type": "markdown",
   "metadata": {},
   "source": [
    "## Push config to database"
   ]
  },
  {
   "cell_type": "code",
   "execution_count": 10,
   "metadata": {},
   "outputs": [],
   "source": [
    "cfg_df = pd.DataFrame()\n",
    "\n",
    "for i, cfg in enumerate(batch_cfgs):\n",
    "    cfg_df = pd.concat([cfg_df, pd.DataFrame(cfg[\"params\"], index=[i])])\n",
    "\n",
    "\n",
    "sqlite_file = os.path.join(batch_output_dir, \"batch_results.sqlite\")\n",
    "con = sqlite3.connect(sqlite_file)\n",
    "cur = con.cursor()\n",
    "cfg_df.to_sql(\"batch_config\", con, if_exists=\"replace\")"
   ]
  },
  {
   "cell_type": "markdown",
   "metadata": {},
   "source": [
    "## Run batch\n",
    "- Can run on Jupyter Lab\n",
    "- Cannot run on VSCode"
   ]
  },
  {
   "cell_type": "code",
   "execution_count": null,
   "metadata": {
    "tags": [
     "outputPrepend"
    ]
   },
   "outputs": [],
   "source": [
    "# Run\n",
    "def run_batch(cfg):\n",
    "    \"\"\"\n",
    "    Using papermill to run parameterized notebook\n",
    "    To prevent overwriting, set default overwrite to False if needed\n",
    "    \"\"\"\n",
    "\n",
    "    print(\"Running model {}\".format(cfg[\"sn\"]))\n",
    "    os.makedirs(cfg[\"model_folder\"], exist_ok=True)\n",
    "    papermill.execute_notebook(\n",
    "        cfg[\"in_notebook\"],\n",
    "        cfg[\"out_notebook\"],\n",
    "        parameters=cfg[\"params\"],\n",
    "    )\n",
    "\n",
    "    clear_output()\n",
    "\n",
    "\n",
    "# Run in parallel pool\n",
    "\n",
    "# with multiprocessing.Pool(2) as pool:\n",
    "#     pool.map(run_batch, batch_cfgs)\n",
    "\n",
    "\n",
    "# Run in series\n",
    "for cfg in tqdm(batch_cfgs):\n",
    "    run_batch(cfg)\n",
    "\n",
    "\n",
    "\n",
    "print(\"Done\")"
   ]
  },
  {
   "cell_type": "markdown",
   "metadata": {},
   "source": [
    "Compile and save results"
   ]
  },
  {
   "cell_type": "code",
   "execution_count": null,
   "metadata": {},
   "outputs": [],
   "source": [
    "# Cannot execute together with parallel run for some reason... maybe due to nest_asynio... forgot how to fix...\n",
    "# cfgs, df = parse_batch_results(batch_cfgs)\n",
    "# df.to_csv(batch_output_dir + \"bcdf.csv\")\n",
    "# cfgs.to_csv(batch_output_dir + \"cfgs.csv\")"
   ]
  },
  {
   "cell_type": "markdown",
   "metadata": {},
   "source": [
    "### Re-evaluation snippet"
   ]
  },
  {
   "cell_type": "code",
   "execution_count": 11,
   "metadata": {},
   "outputs": [
    {
     "name": "stdout",
     "output_type": "stream",
     "text": [
      "[('grain',), ('taraban',), ('strain',), ('batch_config',)]\n"
     ]
    }
   ],
   "source": [
    "# cur.execute(\"SELECT name FROM sqlite_master WHERE type='table';\")\n",
    "# print(cur.fetchall())\n",
    "# con.execute('DROP TABLE strain')"
   ]
  },
  {
   "cell_type": "code",
   "execution_count": 9,
   "metadata": {},
   "outputs": [
    {
     "name": "stderr",
     "output_type": "stream",
     "text": [
      "100%|██████████| 20/20 [16:26<00:00, 49.32s/it]\n"
     ]
    }
   ],
   "source": [
    "import tensorflow as tf\n",
    "import meta, data_wrangling, modeling, evaluate\n",
    "\n",
    "for i in tqdm(range(20)):\n",
    "\n",
    "    code_name = cfg_df.code_name[i]\n",
    "    cfg = meta.ModelConfig.from_json(\n",
    "        os.path.join(batch_output_dir, code_name, \"model_config.json\")\n",
    "    )\n",
    "    data = data_wrangling.MyData()\n",
    "    model = modeling.HS04Model(cfg)\n",
    "\n",
    "    # Remove existing strain_mean_df.csv\n",
    "    try:\n",
    "        os.remove(\n",
    "            os.path.join(batch_output_dir, code_name, \"eval\", \"strain_mean_df.csv\")\n",
    "        )\n",
    "\n",
    "    except:\n",
    "        pass\n",
    "\n",
    "    test = evaluate.EvalReading(cfg, model, data)\n",
    "\n",
    "    test.eval(\"strain\")\n",
    "    clear_output()"
   ]
  },
  {
   "cell_type": "markdown",
   "metadata": {},
   "source": [
    "Shutdown compute engine"
   ]
  },
  {
   "cell_type": "code",
   "execution_count": null,
   "metadata": {},
   "outputs": [],
   "source": [
    "time.sleep(30)\n",
    "print('shuting down')\n",
    "!sudo poweroff"
   ]
  }
 ],
 "metadata": {
  "environment": {
   "name": "tf2-gpu.2-4.m61",
   "type": "gcloud",
   "uri": "gcr.io/deeplearning-platform-release/tf2-gpu.2-4:m61"
  },
  "kernelspec": {
   "display_name": "Python 3",
   "language": "python",
   "name": "python3"
  },
  "language_info": {
   "codemirror_mode": {
    "name": "ipython",
    "version": 3
   },
   "file_extension": ".py",
   "mimetype": "text/x-python",
   "name": "python",
   "nbconvert_exporter": "python",
   "pygments_lexer": "ipython3",
   "version": "3.7.9"
  },
  "toc-autonumbering": false,
  "toc-showcode": false,
  "toc-showmarkdowntxt": true,
  "toc-showtags": false
 },
 "nbformat": 4,
 "nbformat_minor": 4
}
