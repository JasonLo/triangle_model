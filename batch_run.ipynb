{
 "cells": [
  {
   "cell_type": "markdown",
   "metadata": {},
   "source": [
    "# Batch run models"
   ]
  },
  {
   "cell_type": "code",
   "execution_count": null,
   "metadata": {},
   "outputs": [],
   "source": [
    "%load_ext lab_black\n",
    "import os, multiprocessing, time, papermill, sys\n",
    "from IPython.display import clear_output\n",
    "\n",
    "sys.path.append(\"/home/jupyter/tf/src\")\n",
    "from meta import ModelConfig, make_batch_cfg, parse_batch_results\n",
    "\n",
    "# nest_asyncio.apply()"
   ]
  },
  {
   "cell_type": "markdown",
   "metadata": {},
   "source": [
    "## Make configs"
   ]
  },
  {
   "cell_type": "code",
   "execution_count": null,
   "metadata": {},
   "outputs": [],
   "source": [
    "batch_name = \"sampling_proper\"\n",
    "batch_output_dir = f\"models/batch_run/{batch_name}/\"\n",
    "\n",
    "# Gen OG random seed: [int(random.random() * 1e5) for x in range(10)]\n",
    "\n",
    "param_grid = {\n",
    "    \"sample_name\": [\"chang\", \"experimental\", \"hs04\", \"jay\", \"wf_linear_cutoff\"],\n",
    "}\n",
    "\n",
    "static_hpar = {\n",
    "    \"rng_seed\": 53797,\n",
    "    \"p_noise\": 0.0,\n",
    "    \"zero_error_radius\": 0.1,\n",
    "    \"cleanup_units\": 50,\n",
    "    \"use_semantic\": False,\n",
    "    \"input_dim\": 119,\n",
    "    \"output_dim\": 250,\n",
    "    \"hidden_units\": 100,\n",
    "    \"pretrain_attractor\": False,\n",
    "    \"rnn_activation\": \"sigmoid\",\n",
    "    \"w_initializer\": 0.1,\n",
    "    \"regularizer_const\": None,\n",
    "    \"tau\": 1 / 3,\n",
    "    \"max_unit_time\": 4.0,\n",
    "    \"output_ticks\": 2,\n",
    "    \"optimizer\": \"adam\",\n",
    "    \"learning_rate\": 0.005,\n",
    "    \"n_mil_sample\": 1.0,\n",
    "    \"batch_size\": 128,\n",
    "    \"save_freq\": 10,\n",
    "    \"batch_name\": batch_name,\n",
    "    \"show_plots_in_notebook\": True,\n",
    "}\n",
    "\n",
    "batch_cfgs = make_batch_cfg(\n",
    "    batch_name, batch_output_dir, static_hpar, param_grid, \"OSP_master.ipynb\"\n",
    ")"
   ]
  },
  {
   "cell_type": "markdown",
   "metadata": {},
   "source": [
    "## Parallel run\n",
    "- Can run on Jupyter Lab\n",
    "- Cannot run on VSCode"
   ]
  },
  {
   "cell_type": "code",
   "execution_count": null,
   "metadata": {
    "tags": [
     "outputPrepend"
    ]
   },
   "outputs": [],
   "source": [
    "\n",
    "\n",
    "# Run\n",
    "def run_batch(cfg):\n",
    "    \"\"\"\n",
    "    Using papermill to run parameterized notebook\n",
    "    To prevent overwriting, set default overwrite to False if needed\n",
    "    \"\"\"\n",
    "\n",
    "    print(\"Running model {}\".format(cfg[\"sn\"]))\n",
    "    os.makedirs(cfg[\"model_folder\"], exist_ok=True)\n",
    "    papermill.execute_notebook(\n",
    "        cfg[\"in_notebook\"],\n",
    "        cfg[\"out_notebook\"],\n",
    "        parameters=cfg[\"params\"],\n",
    "        prepare_only=True\n",
    "    )\n",
    "    \n",
    "    in_notebook = cfg[\"out_notebook\"]\n",
    "    out_dir = cfg[\"model_folder\"]\n",
    "    !jupyter nbconvert --ExecutePreprocessor.timeout=12000 --output-dir $out_dir --to notebook --execute $in_notebook\n",
    "    !jupyter nbconvert --output-dir $out_dir --to html_toc $in_notebook\n",
    "    clear_output()\n",
    "\n",
    "\n",
    "# Run in parallel pool\n",
    "# with multiprocessing.Pool(2) as pool:\n",
    "#     pool.map(run_batch, batch_cfgs)\n",
    "\n",
    "[run_batch(cfg) for cfg in batch_cfgs]\n",
    "print(\"Done\")"
   ]
  },
  {
   "cell_type": "markdown",
   "metadata": {},
   "source": [
    "Compile and save results"
   ]
  },
  {
   "cell_type": "code",
   "execution_count": null,
   "metadata": {},
   "outputs": [],
   "source": [
    "# Cannot execute together with parallel run for some reason... maybe due to nest_asynio... forgot how to fix...\n",
    "cfgs, df = parse_batch_results(batch_cfgs)\n",
    "df.to_csv(batch_output_dir + \"bcdf.csv\")\n",
    "cfgs.to_csv(batch_output_dir + \"cfgs.csv\")"
   ]
  },
  {
   "cell_type": "markdown",
   "metadata": {},
   "source": [
    "Shutdown compute engine"
   ]
  },
  {
   "cell_type": "code",
   "execution_count": null,
   "metadata": {},
   "outputs": [],
   "source": [
    "time.sleep(30)\n",
    "print('shuting down')\n",
    "!sudo poweroff"
   ]
  },
  {
   "cell_type": "code",
   "execution_count": null,
   "metadata": {},
   "outputs": [],
   "source": []
  },
  {
   "cell_type": "code",
   "execution_count": null,
   "metadata": {},
   "outputs": [],
   "source": [
    "!jupyter nbconvert --ExecutePreprocessor.timeout=6000 --to html_toc --execute OSP_master.ipynb --output-dir $cfg.path_model_folder"
   ]
  },
  {
   "cell_type": "code",
   "execution_count": null,
   "metadata": {},
   "outputs": [],
   "source": []
  }
 ],
 "metadata": {
  "environment": {
   "name": "tf2-gpu.2-1.m50",
   "type": "gcloud",
   "uri": "gcr.io/deeplearning-platform-release/tf2-gpu.2-1:m50"
  },
  "kernelspec": {
   "display_name": "Python 3",
   "language": "python",
   "name": "python3"
  },
  "language_info": {
   "codemirror_mode": {
    "name": "ipython",
    "version": 3
   },
   "file_extension": ".py",
   "mimetype": "text/x-python",
   "name": "python",
   "nbconvert_exporter": "python",
   "pygments_lexer": "ipython3",
   "version": "3.7.8-final"
  },
  "toc-autonumbering": false,
  "toc-showcode": false,
  "toc-showmarkdowntxt": true,
  "toc-showtags": false
 },
 "nbformat": 4,
 "nbformat_minor": 4
}
