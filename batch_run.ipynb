{
 "cells": [
  {
   "cell_type": "markdown",
   "source": [
    "# Batch run models"
   ],
   "metadata": {}
  },
  {
   "cell_type": "code",
   "execution_count": 1,
   "source": [
    "import os, multiprocessing, time, papermill, sys, sqlite3\n",
    "from IPython.display import clear_output\n",
    "from tqdm import tqdm\n",
    "from meta import make_batch_cfg, csv_to_bigquery\n",
    "import pandas as pd\n",
    "\n",
    "# nest_asyncio.apply()\n",
    "# Gen OG random seed: [int(random.random() * 1e5) for x in range(10)]"
   ],
   "outputs": [],
   "metadata": {}
  },
  {
   "cell_type": "markdown",
   "source": [
    "## Make configs"
   ],
   "metadata": {}
  },
  {
   "cell_type": "markdown",
   "source": [
    "Latest workflow: Use this to generate batch cfg\n",
    "Run with quick_run_papermill.py and set which gpu to run on\n",
    "Run up to 4 instance on Uconn server\n",
    "May split GPU since there are a lot of head room "
   ],
   "metadata": {}
  },
  {
   "cell_type": "code",
   "execution_count": 2,
   "source": [
    "from meta import make_batch_cfg\n",
    "\n",
    "batch_name = \"task_effect_more\"\n",
    "batch_output_dir = f\"models/{batch_name}/\"\n",
    "\n",
    "param_grid = {\n",
    "    \"rng_seed\": [2021, 2022, 2023],\n",
    "    \"batch_size\": [1, 4, 64],\n",
    "    \"learning_rate\": [.0001, .001, .005, .01],\n",
    "}\n",
    "\n",
    "static_hpar = {\n",
    "    \"tf_root\": \"/home/jal21012/triangle_model\",\n",
    "    \"ort_units\": 119,\n",
    "    \"pho_units\": 250,\n",
    "    \"sem_units\": 2446,\n",
    "    \"hidden_os_units\": 500,\n",
    "    \"hidden_op_units\": 100,\n",
    "    \"hidden_ps_units\": 500,\n",
    "    \"hidden_sp_units\": 500,\n",
    "    \"pho_cleanup_units\": 50,\n",
    "    \"sem_cleanup_units\": 50,\n",
    "    \"pho_noise_level\": 0.0,\n",
    "    \"sem_noise_level\": 0.0,\n",
    "    \"activation\": \"sigmoid\",\n",
    "    \"tau\": 1 / 3,\n",
    "    \"max_unit_time\": 4.0,\n",
    "    \"inject_error_ticks\": 11,\n",
    "    \"output_ticks\": 13,\n",
    "    # \"learning_rate\": 0.005,\n",
    "    \"zero_error_radius\": 0.1,\n",
    "    \"save_freq\": 20,\n",
    "    \"wf_compression\": \"log\",\n",
    "    \"wf_clip_low\": 0,\n",
    "    \"wf_clip_high\": 999_999_999,\n",
    "    \"task_names\": (\"pho_sem\", \"sem_pho\", \"pho_pho\", \"sem_sem\", \"triangle\"),\n",
    "    \"tasks_ps\": (0.2, 0.2, 0.05, 0.05, 0.5),\n",
    "    \"batch_name\": batch_name,\n",
    "    \"total_sample\": 10_000_000,\n",
    "    # \"batch_size\": 1,\n",
    "    # \"rng_seed\": 2021\n",
    "}\n",
    "\n",
    "batch_cfgs = make_batch_cfg(\n",
    "    batch_name, batch_output_dir, static_hpar, param_grid, \"master.ipynb\"\n",
    ")\n",
    "\n",
    "# Snapshot master template\n",
    "!cp master.ipynb $batch_output_dir/master_snapshot.ipynb"
   ],
   "outputs": [
    {
     "output_type": "stream",
     "name": "stdout",
     "text": [
      "UUID not found, regenerating.\n",
      "Saved config json to /home/jal21012/triangle_model/models/task_effect_more/task_effect_more_r0000/model_config.json\n",
      "UUID not found, regenerating.\n",
      "Saved config json to /home/jal21012/triangle_model/models/task_effect_more/task_effect_more_r0001/model_config.json\n",
      "UUID not found, regenerating.\n",
      "Saved config json to /home/jal21012/triangle_model/models/task_effect_more/task_effect_more_r0002/model_config.json\n",
      "UUID not found, regenerating.\n",
      "Saved config json to /home/jal21012/triangle_model/models/task_effect_more/task_effect_more_r0003/model_config.json\n",
      "UUID not found, regenerating.\n",
      "Saved config json to /home/jal21012/triangle_model/models/task_effect_more/task_effect_more_r0004/model_config.json\n",
      "UUID not found, regenerating.\n",
      "Saved config json to /home/jal21012/triangle_model/models/task_effect_more/task_effect_more_r0005/model_config.json\n",
      "UUID not found, regenerating.\n",
      "Saved config json to /home/jal21012/triangle_model/models/task_effect_more/task_effect_more_r0006/model_config.json\n",
      "UUID not found, regenerating.\n",
      "Saved config json to /home/jal21012/triangle_model/models/task_effect_more/task_effect_more_r0007/model_config.json\n",
      "UUID not found, regenerating.\n",
      "Saved config json to /home/jal21012/triangle_model/models/task_effect_more/task_effect_more_r0008/model_config.json\n",
      "UUID not found, regenerating.\n",
      "Saved config json to /home/jal21012/triangle_model/models/task_effect_more/task_effect_more_r0009/model_config.json\n",
      "UUID not found, regenerating.\n",
      "Saved config json to /home/jal21012/triangle_model/models/task_effect_more/task_effect_more_r0010/model_config.json\n",
      "UUID not found, regenerating.\n",
      "Saved config json to /home/jal21012/triangle_model/models/task_effect_more/task_effect_more_r0011/model_config.json\n",
      "UUID not found, regenerating.\n",
      "Saved config json to /home/jal21012/triangle_model/models/task_effect_more/task_effect_more_r0012/model_config.json\n",
      "UUID not found, regenerating.\n",
      "Saved config json to /home/jal21012/triangle_model/models/task_effect_more/task_effect_more_r0013/model_config.json\n",
      "UUID not found, regenerating.\n",
      "Saved config json to /home/jal21012/triangle_model/models/task_effect_more/task_effect_more_r0014/model_config.json\n",
      "UUID not found, regenerating.\n",
      "Saved config json to /home/jal21012/triangle_model/models/task_effect_more/task_effect_more_r0015/model_config.json\n",
      "UUID not found, regenerating.\n",
      "Saved config json to /home/jal21012/triangle_model/models/task_effect_more/task_effect_more_r0016/model_config.json\n",
      "UUID not found, regenerating.\n",
      "Saved config json to /home/jal21012/triangle_model/models/task_effect_more/task_effect_more_r0017/model_config.json\n",
      "UUID not found, regenerating.\n",
      "Saved config json to /home/jal21012/triangle_model/models/task_effect_more/task_effect_more_r0018/model_config.json\n",
      "UUID not found, regenerating.\n",
      "Saved config json to /home/jal21012/triangle_model/models/task_effect_more/task_effect_more_r0019/model_config.json\n",
      "UUID not found, regenerating.\n",
      "Saved config json to /home/jal21012/triangle_model/models/task_effect_more/task_effect_more_r0020/model_config.json\n",
      "UUID not found, regenerating.\n",
      "Saved config json to /home/jal21012/triangle_model/models/task_effect_more/task_effect_more_r0021/model_config.json\n",
      "UUID not found, regenerating.\n",
      "Saved config json to /home/jal21012/triangle_model/models/task_effect_more/task_effect_more_r0022/model_config.json\n",
      "UUID not found, regenerating.\n",
      "Saved config json to /home/jal21012/triangle_model/models/task_effect_more/task_effect_more_r0023/model_config.json\n",
      "UUID not found, regenerating.\n",
      "Saved config json to /home/jal21012/triangle_model/models/task_effect_more/task_effect_more_r0024/model_config.json\n",
      "UUID not found, regenerating.\n",
      "Saved config json to /home/jal21012/triangle_model/models/task_effect_more/task_effect_more_r0025/model_config.json\n",
      "UUID not found, regenerating.\n",
      "Saved config json to /home/jal21012/triangle_model/models/task_effect_more/task_effect_more_r0026/model_config.json\n",
      "UUID not found, regenerating.\n",
      "Saved config json to /home/jal21012/triangle_model/models/task_effect_more/task_effect_more_r0027/model_config.json\n",
      "UUID not found, regenerating.\n",
      "Saved config json to /home/jal21012/triangle_model/models/task_effect_more/task_effect_more_r0028/model_config.json\n",
      "UUID not found, regenerating.\n",
      "Saved config json to /home/jal21012/triangle_model/models/task_effect_more/task_effect_more_r0029/model_config.json\n",
      "UUID not found, regenerating.\n",
      "Saved config json to /home/jal21012/triangle_model/models/task_effect_more/task_effect_more_r0030/model_config.json\n",
      "UUID not found, regenerating.\n",
      "Saved config json to /home/jal21012/triangle_model/models/task_effect_more/task_effect_more_r0031/model_config.json\n",
      "UUID not found, regenerating.\n",
      "Saved config json to /home/jal21012/triangle_model/models/task_effect_more/task_effect_more_r0032/model_config.json\n",
      "UUID not found, regenerating.\n",
      "Saved config json to /home/jal21012/triangle_model/models/task_effect_more/task_effect_more_r0033/model_config.json\n",
      "UUID not found, regenerating.\n",
      "Saved config json to /home/jal21012/triangle_model/models/task_effect_more/task_effect_more_r0034/model_config.json\n",
      "UUID not found, regenerating.\n",
      "Saved config json to /home/jal21012/triangle_model/models/task_effect_more/task_effect_more_r0035/model_config.json\n",
      "Batch config saved to models/task_effect_more/\n",
      "There are 36 models in this batch\n"
     ]
    }
   ],
   "metadata": {}
  },
  {
   "cell_type": "markdown",
   "source": [
    "## Push config to database"
   ],
   "metadata": {}
  },
  {
   "cell_type": "code",
   "execution_count": null,
   "source": [
    "cfg_df = pd.DataFrame()\n",
    "\n",
    "for i, cfg in enumerate(batch_cfgs):\n",
    "    cfg_df = pd.concat([cfg_df, pd.DataFrame(cfg[\"params\"], index=[i])])\n",
    "\n",
    "\n",
    "sqlite_file = os.path.join(batch_output_dir, \"batch_results.sqlite\")\n",
    "con = sqlite3.connect(sqlite_file)\n",
    "cur = con.cursor()\n",
    "cfg_df.to_sql(\"batch_config\", con, if_exists=\"replace\")"
   ],
   "outputs": [],
   "metadata": {}
  },
  {
   "cell_type": "markdown",
   "source": [
    "### Re-evaluation snippet"
   ],
   "metadata": {}
  },
  {
   "cell_type": "code",
   "execution_count": null,
   "source": [
    "# cur.execute(\"SELECT name FROM sqlite_master WHERE type='table';\")\n",
    "# print(cur.fetchall())\n",
    "# con.execute('DROP TABLE strain')"
   ],
   "outputs": [],
   "metadata": {}
  },
  {
   "cell_type": "code",
   "execution_count": null,
   "source": [
    "import tensorflow as tf\n",
    "import meta, data_wrangling, modeling, evaluate\n",
    "\n",
    "for i in tqdm(range(10)):\n",
    "\n",
    "    code_name = cfg_df.code_name[i]\n",
    "    cfg = meta.Config.from_json(\n",
    "        os.path.join(batch_output_dir, code_name, \"model_config.json\")\n",
    "    )\n",
    "\n",
    "\n",
    "    # Push csv to BQ\n",
    "    csv_file = os.path.join(\n",
    "        batch_output_dir, code_name, \"eval\", \"train_item_df.csv\"\n",
    "    )\n",
    "    csv_to_bigquery(\n",
    "        csv_file, dataset_name=batch_name, table_name=\"train\"\n",
    "    )"
   ],
   "outputs": [],
   "metadata": {}
  },
  {
   "cell_type": "markdown",
   "source": [
    "Shutdown compute engine"
   ],
   "metadata": {}
  },
  {
   "cell_type": "code",
   "execution_count": null,
   "source": [
    "time.sleep(30)\n",
    "print('shuting down')\n",
    "!sudo poweroff"
   ],
   "outputs": [],
   "metadata": {}
  }
 ],
 "metadata": {
  "environment": {
   "name": "tf2-gpu.2-4.m61",
   "type": "gcloud",
   "uri": "gcr.io/deeplearning-platform-release/tf2-gpu.2-4:m61"
  },
  "interpreter": {
   "hash": "31f2aee4e71d21fbe5cf8b01ff0e069b9275f58929596ceb00d14d90e3e16cd6"
  },
  "kernelspec": {
   "name": "python3",
   "display_name": "Python 3.6.9 64-bit"
  },
  "language_info": {
   "name": "python",
   "version": "3.6.8",
   "mimetype": "text/x-python",
   "codemirror_mode": {
    "name": "ipython",
    "version": 3
   },
   "pygments_lexer": "ipython3",
   "nbconvert_exporter": "python",
   "file_extension": ".py"
  },
  "toc-autonumbering": false,
  "toc-showcode": false,
  "toc-showmarkdowntxt": true,
  "toc-showtags": false
 },
 "nbformat": 4,
 "nbformat_minor": 4
}