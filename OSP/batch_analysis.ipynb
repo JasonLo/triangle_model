{
 "cells": [
  {
   "cell_type": "markdown",
   "metadata": {},
   "source": [
    "# Batch run models\n",
    "1. Running model\n",
    "2. Evaluating results"
   ]
  },
  {
   "cell_type": "code",
   "execution_count": null,
   "metadata": {},
   "outputs": [],
   "source": [
    "%load_ext lab_black\n",
    "import os, json\n",
    "import pandas as pd\n",
    "import altair as alt\n",
    "from meta import check_cfgs_params\n",
    "from evaluate import make_df_wnw"
   ]
  },
  {
   "cell_type": "code",
   "execution_count": null,
   "metadata": {},
   "outputs": [],
   "source": [
    "batch_name = \"O2P_m270_last3ticks\"\n",
    "batch_output_dir = \"batch_eval/{}/\".format(batch_name)"
   ]
  },
  {
   "cell_type": "markdown",
   "metadata": {},
   "source": [
    "## Plotting"
   ]
  },
  {
   "cell_type": "markdown",
   "metadata": {},
   "source": [
    "Review the batch structure"
   ]
  },
  {
   "cell_type": "code",
   "execution_count": null,
   "metadata": {},
   "outputs": [],
   "source": [
    "cfgs = pd.read_csv(batch_output_dir + 'cfgs.csv', index_col=0)\n",
    "df = pd.read_csv(batch_output_dir + 'bcdf.csv', index_col=0)\n",
    "check_cfgs_params(cfgs)"
   ]
  },
  {
   "cell_type": "markdown",
   "metadata": {},
   "source": [
    "### Explicitly provide varying h-params after reviewing unique params"
   ]
  },
  {
   "cell_type": "code",
   "execution_count": null,
   "metadata": {},
   "outputs": [],
   "source": [
    "variates = ['hidden_units', 'learning_rate', 'p_noise']"
   ]
  },
  {
   "cell_type": "markdown",
   "metadata": {},
   "source": [
    "# View h-param grid"
   ]
  },
  {
   "cell_type": "code",
   "execution_count": null,
   "metadata": {},
   "outputs": [],
   "source": [
    "cfgs"
   ]
  },
  {
   "cell_type": "code",
   "execution_count": null,
   "metadata": {},
   "outputs": [],
   "source": [
    "def count_models(cfgs):\n",
    "    print(\n",
    "        'There are {} models in the datafile'.format(\n",
    "            len(df.code_name.unique())\n",
    "        )\n",
    "    )\n",
    "    \n",
    "    # Select useful data\n",
    "    sel_df = df.loc[(df.timestep == df.timestep.max()) &\n",
    "                    df.cond.isin(conditions), variates + ['cond', 'epoch', dv]]\n",
    "\n",
    "    dfm = df[['code_name'] + variates].pivot_table(index='code_name')\n",
    "    dfm['code_name'] = dfm.index\n",
    "\n",
    "    pvt = dfm.pivot_table(\n",
    "        index=['p_noise', 'hidden_units', 'learning_rate', 'cleanup_units'],\n",
    "        aggfunc='count',\n",
    "        values='code_name'\n",
    "    )\n",
    "\n",
    "    pvt.reset_index(inplace=True)\n",
    "    pvt.rename(columns={'code_name': 'n'}, inplace=True)\n",
    "\n",
    "    plot_n = alt.Chart(pvt).mark_rect().encode(\n",
    "        x=\"p_noise:O\",\n",
    "        y=\"hidden_units:O\",\n",
    "        row=\"learning_rate:O\",\n",
    "        column=\"cleanup_units:O\",\n",
    "        color=\"n:O\",\n",
    "        tooltip=[\n",
    "            \"p_noise\", \"hidden_units\", \"cleanup_units\", \"learning_rate\", \"n\"\n",
    "        ],\n",
    "    ).properties(title=\"Model counts\")\n",
    "\n",
    "    return plot_n\n",
    "\n"
   ]
  },
  {
   "cell_type": "code",
   "execution_count": null,
   "metadata": {},
   "outputs": [],
   "source": [
    "def plot_std(df, variates, conditions, dv):\n",
    "    \"\"\"\n",
    "    Plot standard deviation of VARIABLE at given CONDITIONS at LAST TIME STEP\n",
    "    df: pandas dataframe containing batch condition data file (bcdf)\n",
    "    variates: a list of varying hyperparameters\n",
    "    conditions: filter by conditions at df.cond\n",
    "    dv: dependent variable to plot on heatmap (e.g., acc, sse)\n",
    "    \"\"\"\n",
    "    # Select useful data\n",
    "    sel_df = df.loc[(df.timestep == df.timestep.max()) &\n",
    "                    df.cond.isin(conditions), variates + ['cond', 'epoch', dv]]\n",
    "\n",
    "    # Calculate standard deveiation in each cell\n",
    "    plot_df = sel_df.groupby(variates + ['epoch']).std().reset_index()\n",
    "\n",
    "    # Plot heatmap\n",
    "    return alt.Chart(plot_df).mark_rect().encode(\n",
    "        x=\"epoch:O\",\n",
    "        y=\"hidden_units:O\",\n",
    "        row=\"learning_rate:O\",\n",
    "        column='p_noise:O',\n",
    "        color=alt.Color(dv, scale=alt.Scale(domain=[0, 0.2])),\n",
    "        tooltip=variates + [dv],\n",
    "    )"
   ]
  },
  {
   "cell_type": "code",
   "execution_count": null,
   "metadata": {},
   "outputs": [],
   "source": [
    "\n",
    "\n",
    "df = df.pivot_table(index=variates + ['epoch', 'timestep', 'cond']\n",
    "                   ).reset_index()"
   ]
  },
  {
   "cell_type": "code",
   "execution_count": null,
   "metadata": {},
   "outputs": [],
   "source": [
    "alt.data_transformers.enable(\"default\")\n",
    "alt.data_transformers.disable_max_rows()\n",
    "\n",
    "# Selectors for interactions\n",
    "sel_run = alt.selection(type=\"multi\", on=\"click\", fields=[\"code_name\"])\n",
    "\n",
    "########## Overview heatmap model selector ##########\n",
    "df_ov = df[(df.epoch == df.epoch.max()) & (df.timestep == df.timestep.max())]\n",
    "\n",
    "overview = (\n",
    "    alt.Chart(df_ov).mark_rect().encode(\n",
    "        x=\"p_noise:O\",\n",
    "        y=\"hidden_units:O\",\n",
    "        row=\"learning_rate:O\",\n",
    "        column=\"cleanup_units:O\",\n",
    "        color=alt.Color(\n",
    "            \"mean(acc):Q\",\n",
    "            scale=alt.Scale(scheme=\"redyellowgreen\", domain=(0, 1))\n",
    "        ),\n",
    "        opacity=alt.condition(sel_run, alt.value(1), alt.value(0.1)),\n",
    "        tooltip=[\"acc\"] + variates,\n",
    "    ).add_selection(sel_run).properties(\n",
    "        title=\"Overall accuracy (incl. all words and nonwords)\"\n",
    "    )\n",
    ")\n",
    "\n",
    "overview"
   ]
  },
  {
   "cell_type": "markdown",
   "metadata": {},
   "source": [
    "### Generate unique setting ID to replace code_name"
   ]
  },
  {
   "cell_type": "code",
   "execution_count": null,
   "metadata": {},
   "outputs": [],
   "source": [
    "df_setting_str = map(\n",
    "    lambda x, y, z: str(x) + '_' + str(y) + '_' + str(z), df.hidden_units,\n",
    "    df.p_noise, df.learning_rate\n",
    ")\n",
    "\n",
    "df['code_name'] = list(df_setting_str)"
   ]
  },
  {
   "cell_type": "code",
   "execution_count": null,
   "metadata": {},
   "outputs": [],
   "source": [
    "########## Word vs. Nonword accuracy over epoch ##########\n",
    "df_wnw = make_df_wnw(\n",
    "    df, word_cond=['INC_HF'], nonword_cond=['unambiguous']\n",
    ")  # Match with Rueckl"
   ]
  },
  {
   "cell_type": "code",
   "execution_count": null,
   "metadata": {},
   "outputs": [],
   "source": [
    "cfgs_setting_str = map(\n",
    "    lambda x, y, z: str(x) + '_' + str(y) + '_' + str(z), cfgs.hidden_units,\n",
    "    cfgs.p_noise, cfgs.learning_rate\n",
    ")\n",
    "\n",
    "cfgs['code_name'] = list(cfgs_setting_str)"
   ]
  },
  {
   "cell_type": "code",
   "execution_count": null,
   "metadata": {},
   "outputs": [],
   "source": [
    "df_wnw = df_wnw.merge(cfgs)"
   ]
  },
  {
   "cell_type": "code",
   "execution_count": null,
   "metadata": {},
   "outputs": [],
   "source": [
    "mdf_wnw = df_wnw.melt(\n",
    "    id_vars=['code_name', 'epoch'],\n",
    "    value_vars=['word_acc', 'nonword_acc'],\n",
    "    var_name='wnw',\n",
    "    value_name='acc'\n",
    ")\n",
    "\n",
    "plot_epoch = alt.Chart(mdf_wnw).mark_point(size=80).encode(\n",
    "    y=alt.Y(\"mean(acc):Q\", scale=alt.Scale(domain=(0, 1))),\n",
    "    x=\"epoch:Q\",\n",
    "    color=alt.Color(\"code_name\", legend=None),\n",
    "    shape=\"wnw:N\",\n",
    "    opacity=alt.condition(sel_run, alt.value(1), alt.value(0)),\n",
    "    tooltip=[\"code_name\", \"epoch\", \"acc\"],\n",
    ").add_selection(sel_run).properties(\n",
    "    title=\"Plot word and nonword accuracy by epoch\"\n",
    ")\n",
    "\n",
    "########## Word vs. Nonword plot with diagonal ##########\n",
    "\n",
    "wnw_line = alt.Chart(df_wnw).mark_line().encode(\n",
    "    y=alt.Y(\"mean(nonword_acc):Q\", scale=alt.Scale(domain=(0, 1))),\n",
    "    x=alt.X(\"word_acc:Q\", scale=alt.Scale(domain=(0, 1))),\n",
    "    color=alt.Color(\"code_name\", legend=None),\n",
    "    opacity=alt.condition(sel_run, alt.value(1), alt.value(0)),\n",
    "    tooltip=[\"code_name\", \"epoch\", \"word_acc\", \"nonword_acc\"] + variates,\n",
    ")\n",
    "\n",
    "wnw_point = wnw_line.mark_point().encode(\n",
    "    color=alt.Color(\"epoch\", scale=alt.Scale(scheme=\"redyellowgreen\")),\n",
    ")\n",
    "\n",
    "diagonal = alt.Chart(pd.DataFrame({\n",
    "    'x': [0, 1],\n",
    "    'y': [0, 1]\n",
    "})).mark_line(color='black').encode(x='x', y='y')\n",
    "\n",
    "wnw = diagonal + wnw_line + wnw_point\n",
    "\n",
    "wnw_interactive = wnw.add_selection(sel_run).properties(\n",
    "    title=\"Word vs. Nonword accuracy at final time step\"\n",
    ")\n",
    "\n",
    "dashboard = overview | plot_epoch | wnw_interactive\n",
    "dashboard.save(batch_output_dir + 'dashboard.html')\n",
    "dashboard"
   ]
  },
  {
   "cell_type": "markdown",
   "metadata": {},
   "source": [
    "Main effect plot"
   ]
  },
  {
   "cell_type": "code",
   "execution_count": null,
   "metadata": {},
   "outputs": [],
   "source": [
    "def main_effect_plot(df, var):\n",
    "\n",
    "    pdf = df.pivot_table(\n",
    "        index=['epoch', var], values=['word_acc', 'nonword_acc']\n",
    "    )\n",
    "\n",
    "    pdf.reset_index(inplace=True)\n",
    "    pdf['word_advantage'] = pdf.word_acc - pdf.nonword_acc\n",
    "\n",
    "    sel_run = alt.selection(type=\"multi\", on=\"click\", fields=[var])\n",
    "\n",
    "    overview_wacc = alt.Chart(pdf).mark_rect().encode(\n",
    "        y=alt.Y(var, type=\"ordinal\"),\n",
    "        x='epoch:O',\n",
    "        color=alt.Color(\n",
    "            \"word_acc\", scale=alt.Scale(scheme=\"redyellowgreen\", domain=(0, 1))\n",
    "        ),\n",
    "        opacity=alt.condition(sel_run, alt.value(1), alt.value(0.1)),\n",
    "        tooltip=[\"word_acc\", \"nonword_acc\"],\n",
    "    ).add_selection(sel_run).properties(\n",
    "        title=\"Word - Nonword accuracy (word accuracy) heatmap by {} and epoch\".\n",
    "        format(var)\n",
    "    )\n",
    "\n",
    "    overview_wadv = overview_wacc.encode(\n",
    "        color=alt.Color(\n",
    "            \"word_advantage\",\n",
    "            scale=alt.Scale(scheme=\"redyellowgreen\", domain=(-.2, .2))\n",
    "        )\n",
    "    ).properties(\n",
    "        title=\"Word - Nonword accuracy (word advantage) heatmap by {} and epoch\"\n",
    "        .format(var)\n",
    "    )\n",
    "\n",
    "    wnw_line = alt.Chart(pdf).mark_line().encode(\n",
    "        y=alt.Y(\"nonword_acc:Q\", scale=alt.Scale(domain=(0, 1))),\n",
    "        x=alt.X(\"word_acc:Q\", scale=alt.Scale(domain=(0, 1))),\n",
    "        color=alt.Color(var, type=\"ordinal\", scale=alt.Scale(scheme=\"magma\")),\n",
    "        opacity=alt.condition(sel_run, alt.value(0.9), alt.value(0)),\n",
    "        tooltip=[var, \"epoch\", \"word_acc\", \"nonword_acc\"],\n",
    "    )\n",
    "\n",
    "    diagonal = alt.Chart(pd.DataFrame({\n",
    "        'x': [0, 1],\n",
    "        'y': [0, 1]\n",
    "    })).mark_line(color='black').encode(x='x', y='y')\n",
    "\n",
    "    return overview_wacc | overview_wadv | (diagonal + wnw_line)\n",
    "\n",
    "\n",
    "p = alt.vconcat()\n",
    "for v in variates:\n",
    "    p &= main_effect_plot(df_wnw, v)\n",
    "\n",
    "p.save(batch_output_dir + 'main_effects.html')\n",
    "p"
   ]
  },
  {
   "cell_type": "code",
   "execution_count": null,
   "metadata": {},
   "outputs": [],
   "source": [
    "df_wnw['word_advantage'] = df_wnw.word_acc - df_wnw.nonword_acc"
   ]
  },
  {
   "cell_type": "code",
   "execution_count": null,
   "metadata": {},
   "outputs": [],
   "source": [
    "base = alt.Chart(df_wnw).mark_point().encode(\n",
    "    y=alt.Y(\"nonword_acc:Q\", scale=alt.Scale(domain=(0, 1))),\n",
    "    x=alt.X(\"word_acc:Q\", scale=alt.Scale(domain=(0, 1))),\n",
    "    color=alt.Color(\n",
    "        \"epoch\", scale=alt.Scale(scheme=\"redyellowgreen\", domain=(0, 100))\n",
    "    ),\n",
    "    opacity=alt.value(0.2),\n",
    "    tooltip=[\"code_name\", \"epoch\", \"word_acc\", \"nonword_acc\"],\n",
    ")\n",
    "\n",
    "diagonal = alt.Chart(pd.DataFrame({\n",
    "    'x': [0, 1],\n",
    "    'y': [0, 1]\n",
    "})).mark_line(color='black').encode(x='x', y='y')\n",
    "\n",
    "plot = diagonal + base\n",
    "\n",
    "plot.save(batch_output_dir + 'all_models_wnw.html')"
   ]
  },
  {
   "cell_type": "code",
   "execution_count": null,
   "metadata": {},
   "outputs": [],
   "source": [
    "base = alt.Chart(df_wnw).mark_rect().encode(\n",
    "    x=\"p_noise:O\",\n",
    "    y=\"hidden_units:O\",\n",
    "    row=\"learning_rate:O\",\n",
    "    column=\"epoch:O\",\n",
    "    tooltip=[\n",
    "        \"p_noise\", \"hidden_units\", \"cleanup_units\", \"learning_rate\", \"word_acc\",\n",
    "        \"nonword_acc\"\n",
    "    ],\n",
    ")\n",
    "\n",
    "w = base.encode(\n",
    "    color=alt.\n",
    "    Color(\"word_acc\", scale=alt.Scale(scheme=\"redyellowgreen\", domain=(0, 1)))\n",
    ").properties(title=\"Word acc\")\n",
    "\n",
    "w.save(batch_output_dir + 'word.html')"
   ]
  },
  {
   "cell_type": "code",
   "execution_count": null,
   "metadata": {},
   "outputs": [],
   "source": [
    "nw = base.encode(\n",
    "    color=alt.Color(\n",
    "        \"nonword_acc\", scale=alt.Scale(scheme=\"redyellowgreen\", domain=(0, 1))\n",
    "    )\n",
    ").properties(title=\"Nonword acc\")\n",
    "nw.save(batch_output_dir + 'nonword.html')"
   ]
  },
  {
   "cell_type": "code",
   "execution_count": null,
   "metadata": {},
   "outputs": [],
   "source": [
    "adv = base.encode(\n",
    "    color=alt.Color(\n",
    "        \"word_advantage\",\n",
    "        scale=alt.Scale(scheme=\"redyellowgreen\", domain=(-.3, .3))\n",
    "    )\n",
    ").properties(title=\"Word advantage\")\n",
    "\n",
    "adv.save(batch_output_dir + 'wadv.html')"
   ]
  },
  {
   "cell_type": "code",
   "execution_count": null,
   "metadata": {},
   "outputs": [],
   "source": [
    "df_agg = df_wnw.pivot_table(\n",
    "    index=['epoch', 'learning_rate', 'hidden_units', 'p_noise']\n",
    ")\n",
    "\n",
    "df_agg.reset_index(inplace=True)\n",
    "df_agg"
   ]
  },
  {
   "cell_type": "code",
   "execution_count": null,
   "metadata": {},
   "outputs": [],
   "source": [
    "plot_pnoise = alt.Chart().mark_line().encode(\n",
    "    y=alt.Y(\"nonword_acc:Q\", scale=alt.Scale(domain=(0, 1))),\n",
    "    x=alt.X(\"word_acc:Q\", scale=alt.Scale(domain=(0, 1))),\n",
    "    color=alt.Color(\"p_noise\", type=\"ordinal\", scale=alt.Scale(scheme=\"reds\")),\n",
    "    tooltip=[\n",
    "        \"epoch\", \"hidden_units\", \"cleanup_units\", \"p_noise\", \"learning_rate\",\n",
    "        \"word_acc\", \"nonword_acc\"\n",
    "    ],\n",
    ")\n",
    "\n",
    "diagonal = alt.Chart(pd.DataFrame({\n",
    "    'x': [0, 1],\n",
    "    'y': [0, 1]\n",
    "})).mark_line(color='black').encode(x='x', y='y')\n",
    "\n",
    "p = alt.layer(diagonal + plot_pnoise, data=df_agg).facet(\n",
    "    row=\"hidden_units:O\", column=\"learning_rate:O\"\n",
    ")\n",
    "\n",
    "p.save(batch_output_dir + 'p_noise.html')"
   ]
  },
  {
   "cell_type": "code",
   "execution_count": null,
   "metadata": {},
   "outputs": [],
   "source": [
    "plot_hidden = alt.Chart().mark_line().encode(\n",
    "    y=alt.Y(\"nonword_acc:Q\", scale=alt.Scale(domain=(0, 1))),\n",
    "    x=alt.X(\"word_acc:Q\", scale=alt.Scale(domain=(0, 1))),\n",
    "    color=alt.Color(\n",
    "        \"hidden_units\", type=\"ordinal\", scale=alt.Scale(scheme=\"blues\")\n",
    "    ),\n",
    "    tooltip=[\n",
    "        \"epoch\", \"hidden_units\", \"cleanup_units\", \"p_noise\", \"learning_rate\",\n",
    "        \"word_acc\", \"nonword_acc\"\n",
    "    ],\n",
    ")\n",
    "\n",
    "h = alt.layer(diagonal + plot_hidden,\n",
    "              data=df_agg).facet(row=\"p_noise:O\", column=\"learning_rate:O\")\n",
    "\n",
    "h.save(batch_output_dir + 'hidden.html')"
   ]
  },
  {
   "cell_type": "code",
   "execution_count": null,
   "metadata": {},
   "outputs": [],
   "source": [
    "plot_lr = alt.Chart().mark_line().encode(\n",
    "    y=alt.Y(\"nonword_acc:Q\", scale=alt.Scale(domain=(0, 1))),\n",
    "    x=alt.X(\"word_acc:Q\", scale=alt.Scale(domain=(0, 1))),\n",
    "    color=alt.Color(\n",
    "        \"learning_rate\", type=\"ordinal\", scale=alt.Scale(scheme=\"greens\")\n",
    "    ),\n",
    "    tooltip=[\n",
    "        \"epoch\", \"hidden_units\", \"cleanup_units\", \"p_noise\", \"learning_rate\",\n",
    "        \"word_acc\", \"nonword_acc\"\n",
    "    ],\n",
    ")\n",
    "\n",
    "lr = alt.layer(diagonal + plot_lr,\n",
    "               data=df_agg).facet(row=\"hidden_units:O\", column=\"p_noise:O\")\n",
    "\n",
    "lr.save(batch_output_dir + 'lr.html')"
   ]
  },
  {
   "cell_type": "markdown",
   "metadata": {},
   "source": [
    "### Variance dignostic"
   ]
  },
  {
   "cell_type": "code",
   "execution_count": null,
   "metadata": {},
   "outputs": [],
   "source": [
    "\n"
   ]
  },
  {
   "cell_type": "code",
   "execution_count": null,
   "metadata": {},
   "outputs": [],
   "source": [
    "variates = ['hidden_units', 'learning_rate', 'p_noise']\n",
    "\n",
    "plot_std(df, variates, ['INC_HF'],\n",
    "         'acc').save(batch_output_dir + 'stdev_strain_INCHF.html')\n",
    "\n",
    "plot_std(df, variates, ['unambiguous'],\n",
    "         'acc').save(batch_output_dir + 'stdev_grain_unambiguous.html')\n",
    "\n",
    "taraban_w = [\n",
    "    'High-frequency exception', 'High-frequency regular-inconsistent',\n",
    "    'Low-frequency exception', 'Low-frequency regular-inconsistent',\n",
    "    'Regular control for High-frequency exception',\n",
    "    'Regular control for High-frequency regular-inconsistent',\n",
    "    'Regular control for Low-frequency exception',\n",
    "    'Regular control for Low-frequency regular-inconsistent'\n",
    "]\n",
    "\n",
    "plot_std(df, variates, taraban_w,\n",
    "         'acc').save(batch_output_dir + 'stdev_taraban_all.html')\n",
    "\n",
    "glushko_nw = ['Exception', 'Regular']\n",
    "plot_std(df, variates, glushko_nw,\n",
    "         'acc').save(batch_output_dir + 'stdev_glushko.html')"
   ]
  }
 ],
 "metadata": {
  "kernelspec": {
   "display_name": "Python 3",
   "language": "python",
   "name": "python3"
  },
  "language_info": {
   "codemirror_mode": {
    "name": "ipython",
    "version": 3
   },
   "file_extension": ".py",
   "mimetype": "text/x-python",
   "name": "python",
   "nbconvert_exporter": "python",
   "pygments_lexer": "ipython3",
   "version": "3.5.3"
  },
  "toc-autonumbering": false,
  "toc-showcode": false,
  "toc-showmarkdowntxt": true,
  "toc-showtags": false
 },
 "nbformat": 4,
 "nbformat_minor": 4
}
