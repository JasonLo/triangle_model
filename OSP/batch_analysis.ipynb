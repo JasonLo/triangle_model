{
 "cells": [
  {
   "cell_type": "markdown",
   "metadata": {},
   "source": [
    "# Batch models analysis"
   ]
  },
  {
   "cell_type": "markdown",
   "metadata": {},
   "source": [
    "## Purpose\n",
    "- Overview of batch output\n",
    "    - Count of model in each setting grid\n",
    "    - Word accuracy at last epoch\n",
    "    - Nonword accuracy at last epoch\n",
    "- Use overview to control two plots\n",
    "    - Development plot\n",
    "    - W vs. NW plot\n",
    "- Can \"zoom-in\" to specific run if needed"
   ]
  },
  {
   "cell_type": "code",
   "execution_count": null,
   "metadata": {},
   "outputs": [],
   "source": [
    "%load_ext lab_black\n",
    "import os, json\n",
    "import pandas as pd\n",
    "import altair as alt\n",
    "import numpy as np\n",
    "from meta import check_cfgs_params\n",
    "from evaluate import make_df_wnw\n",
    "\n",
    "alt.data_transformers.disable_max_rows()\n",
    "alt.data_transformers.enable(\"default\")"
   ]
  },
  {
   "cell_type": "markdown",
   "metadata": {},
   "source": [
    "## Read files"
   ]
  },
  {
   "cell_type": "code",
   "execution_count": null,
   "metadata": {},
   "outputs": [],
   "source": [
    "batch_name = \"O2P_replication_set12\"\n",
    "batch_output_dir = \"batch_eval/{}/\".format(batch_name)\n",
    "cfgs = pd.read_csv(batch_output_dir + \"cfgs.csv\", index_col=0)\n",
    "df = pd.read_csv(batch_output_dir + \"bcdf.csv\", index_col=0)\n",
    "n_rng = len(df.rng_seed.unique())\n",
    "check_cfgs_params(cfgs)"
   ]
  },
  {
   "cell_type": "markdown",
   "metadata": {},
   "source": [
    "### Explicitly provide varying h-params after reviewing unique params"
   ]
  },
  {
   "cell_type": "code",
   "execution_count": null,
   "metadata": {},
   "outputs": [],
   "source": [
    "# variates = [\"p_noise\"]\n",
    "variates = [\"hidden_units\", \"learning_rate\", \"p_noise\"]"
   ]
  },
  {
   "cell_type": "markdown",
   "metadata": {},
   "source": [
    "# View h-param grid"
   ]
  },
  {
   "cell_type": "code",
   "execution_count": null,
   "metadata": {},
   "outputs": [],
   "source": [
    "plot_n = (\n",
    "    alt.Chart(cfgs)\n",
    "    .mark_rect()\n",
    "    .encode(\n",
    "        x=\"p_noise:O\",\n",
    "        y=\"hidden_units:O\",\n",
    "        column=\"learning_rate:O\",\n",
    "        color=\"count(code_name)\",\n",
    "        tooltip=[\"count(code_name)\"],\n",
    "    )\n",
    "    .properties(title=\"Model counts\")\n",
    ")\n",
    "\n",
    "plot_n"
   ]
  },
  {
   "cell_type": "markdown",
   "metadata": {},
   "source": [
    "### Check standard deviation for anomaly"
   ]
  },
  {
   "cell_type": "code",
   "execution_count": null,
   "metadata": {},
   "outputs": [],
   "source": [
    "def plot_std(df, variates, conditions, dv):\n",
    "    \"\"\"\n",
    "    Plot standard deviation of VARIABLE at given CONDITIONS at LAST TIME STEP\n",
    "    df: pandas dataframe containing batch condition data file (bcdf)\n",
    "    variates: a list of varying hyperparameters\n",
    "    conditions: filter by conditions at df.cond\n",
    "    dv: dependent variable to plot on heatmap (e.g., acc, sse)\n",
    "    \"\"\"\n",
    "    # Select useful data\n",
    "    sel_df = df.loc[\n",
    "        (df.timestep == df.timestep.max()) & df.cond.isin(conditions),\n",
    "        variates + [\"cond\", \"epoch\", \"rng_seed\", dv],\n",
    "    ]\n",
    "\n",
    "    # Collapse condition\n",
    "    mean_df = sel_df.groupby(variates + [\"epoch\", \"rng_seed\"]).mean().reset_index()\n",
    "    # Calculate standard deveiation in each cell\n",
    "    plot_df = mean_df.groupby(variates + [\"epoch\"]).std().reset_index()\n",
    "\n",
    "    # Plot heatmap\n",
    "    return (\n",
    "        alt.Chart(plot_df)\n",
    "        .mark_rect()\n",
    "        .encode(\n",
    "            x=\"epoch:O\",\n",
    "            y=\"hidden_units:O\",\n",
    "            row=\"learning_rate:O\",\n",
    "            column=\"p_noise:O\",\n",
    "            color=alt.Color(dv, scale=alt.Scale(domain=[0, 0.2])),\n",
    "            tooltip=variates + [dv],\n",
    "        )\n",
    "    )"
   ]
  },
  {
   "cell_type": "markdown",
   "metadata": {},
   "source": [
    "# Examine rng_seed variation\n",
    "### Plot all standard deviation if more than one rng_seed is found"
   ]
  },
  {
   "cell_type": "code",
   "execution_count": null,
   "metadata": {},
   "outputs": [],
   "source": [
    "if n_rng > 1:\n",
    "\n",
    "    # Strain SD\n",
    "    sd_strain = plot_std(df, variates, [\"INC_HF\"], \"acc\")\n",
    "    sd_strain.save(batch_output_dir + \"stdev_strain_INCHF.html\")\n",
    "\n",
    "    # Grain SD\n",
    "    sd_grain = plot_std(df, variates, [\"unambiguous\"], \"acc\")\n",
    "    sd_grain.save(batch_output_dir + \"stdev_grain_unambiguous.html\")\n",
    "\n",
    "    # Taraban SD\n",
    "    taraban_w = [\n",
    "        \"High-frequency exception\",\n",
    "        \"High-frequency regular-inconsistent\",\n",
    "        \"Low-frequency exception\",\n",
    "        \"Low-frequency regular-inconsistent\",\n",
    "        \"Regular control for High-frequency exception\",\n",
    "        \"Regular control for High-frequency regular-inconsistent\",\n",
    "        \"Regular control for Low-frequency exception\",\n",
    "        \"Regular control for Low-frequency regular-inconsistent\",\n",
    "    ]\n",
    "\n",
    "    sd_taraban = plot_std(df, variates, taraban_w, \"acc\")\n",
    "    sd_taraban.save(batch_output_dir + \"stdev_taraban_all.html\")\n",
    "\n",
    "    # Glushko SD\n",
    "    glushko_nw = [\"Exception\", \"Regular\"]\n",
    "    sd_glushko = plot_std(df, variates, glushko_nw, \"acc\")\n",
    "    sd_glushko.save(batch_output_dir + \"stdev_glushko.html\")"
   ]
  },
  {
   "cell_type": "markdown",
   "metadata": {},
   "source": [
    "# All runs at last time step"
   ]
  },
  {
   "cell_type": "markdown",
   "metadata": {},
   "source": [
    "### no rng_seed aggregation"
   ]
  },
  {
   "cell_type": "code",
   "execution_count": null,
   "metadata": {},
   "outputs": [],
   "source": [
    "def plot_fig2(df):\n",
    "\n",
    "    tmp = df.loc[df.timestep == df.timestep.max()]\n",
    "    pdf = make_df_wnw(tmp, [\"INC_HF\"], [\"unambiguous\"])\n",
    "\n",
    "    base = (\n",
    "        alt.Chart(pdf)\n",
    "        .mark_point()\n",
    "        .encode(\n",
    "            y=alt.Y(\"nonword_acc:Q\", scale=alt.Scale(domain=(0, 1))),\n",
    "            x=alt.X(\"word_acc:Q\", scale=alt.Scale(domain=(0, 1))),\n",
    "            color=alt.Color(\n",
    "                \"epoch\", scale=alt.Scale(scheme=\"redyellowgreen\", domain=(0, 100))\n",
    "            ),\n",
    "            opacity=alt.value(0.3),\n",
    "            tooltip=[\"code_name\", \"epoch\", \"word_acc\", \"nonword_acc\"],\n",
    "        )\n",
    "    )\n",
    "\n",
    "    diagonal = (\n",
    "        alt.Chart(pd.DataFrame({\"x\": [0, 1], \"y\": [0, 1]}))\n",
    "        .mark_line(color=\"black\")\n",
    "        .encode(x=\"x\", y=\"y\")\n",
    "    )\n",
    "    return diagonal + base\n",
    "\n",
    "\n",
    "plot_fig2(df).properties(title=\"All runs overlay (no aggregation)\").save(\n",
    "    batch_output_dir + \"fig2.html\"\n",
    ")"
   ]
  },
  {
   "cell_type": "markdown",
   "metadata": {},
   "source": [
    "### Plot figure 2 facet by regularization constant"
   ]
  },
  {
   "cell_type": "markdown",
   "metadata": {},
   "source": [
    "### rng_seed aggregate"
   ]
  },
  {
   "cell_type": "code",
   "execution_count": null,
   "metadata": {},
   "outputs": [],
   "source": [
    "if n_rng > 1:\n",
    "    df[\"code_name\"] = df.batch_unique_setting_string\n",
    "    plot_fig2(df).properties(\n",
    "        title=\"All runs overlay (within setting cell aggregation)\"\n",
    "    ).save(batch_output_dir + \"fig2_agg.html\")"
   ]
  },
  {
   "cell_type": "markdown",
   "metadata": {},
   "source": [
    "### Create df for plotting"
   ]
  },
  {
   "cell_type": "code",
   "execution_count": null,
   "metadata": {},
   "outputs": [],
   "source": [
    "if n_rng > 1:\n",
    "    cfgs[\"code_name\"] = cfgs.batch_unique_setting_string\n",
    "    df[\"code_name\"] = df.batch_unique_setting_string\n",
    "\n",
    "\n",
    "pivotvars = variates + [\"code_name\", \"epoch\", \"timestep\", \"unit_time\", \"exp\", \"cond\"]\n",
    "selvars = pivotvars + [\"acc\", \"sse\"]\n",
    "\n",
    "df_cell_mean = df[selvars].pivot_table(index=pivotvars).reset_index()\n",
    "\n",
    "# Select by condition and last time steps\n",
    "df_sel = df_cell_mean.loc[\n",
    "    (df_cell_mean.timestep == df_cell_mean.timestep.max())\n",
    "    & df_cell_mean.cond.isin([\"INC_HF\", \"unambiguous\"])\n",
    "]\n",
    "\n",
    "# Make file\n",
    "df_wnw = make_df_wnw(df_sel, [\"INC_HF\"], [\"unambiguous\"])\n",
    "df_wnw[\"word_advantage\"] = df_wnw.word_acc - df_wnw.nonword_acc\n",
    "df_wnw = df_wnw.merge(cfgs)\n",
    "\n",
    "selvars_wnw = variates + [\n",
    "    \"code_name\",\n",
    "    \"epoch\",\n",
    "    \"word_acc\",\n",
    "    \"nonword_acc\",\n",
    "    \"word_advantage\",\n",
    "]\n",
    "df_wnw = df_wnw[selvars_wnw]"
   ]
  },
  {
   "cell_type": "code",
   "execution_count": null,
   "metadata": {},
   "outputs": [],
   "source": [
    "heatmap_last = (\n",
    "    alt.Chart(df_wnw.loc[df_wnw.epoch == df_wnw.epoch.max()])\n",
    "    .mark_rect()\n",
    "    .encode(\n",
    "        x=\"p_noise:O\",\n",
    "        y=\"hidden_units:O\",\n",
    "        row=\"learning_rate:O\",\n",
    "        color=alt.Color(\n",
    "            \"word_acc:Q\", scale=alt.Scale(scheme=\"redyellowgreen\", domain=(0, 1))\n",
    "        ),\n",
    "        tooltip=[\"word_acc\", \"nonword_acc\", \"word_advantage\"] + variates,\n",
    "    )\n",
    "    .properties(title=\"Last epoch word accuracy\")\n",
    ")"
   ]
  },
  {
   "cell_type": "markdown",
   "metadata": {},
   "source": [
    "### Heatmap over epoch"
   ]
  },
  {
   "cell_type": "code",
   "execution_count": null,
   "metadata": {},
   "outputs": [],
   "source": [
    "def heatmap(df_wnw, prefix=\"\"):\n",
    "\n",
    "    hm_base = (\n",
    "        alt.Chart(df_wnw)\n",
    "        .mark_rect()\n",
    "        .encode(\n",
    "            x=\"p_noise:O\",\n",
    "            y=\"hidden_units:O\",\n",
    "            row=\"learning_rate:O\",\n",
    "            column=\"epoch:O\",\n",
    "            tooltip=[\"word_acc\", \"nonword_acc\", \"word_advantage\"] + variates,\n",
    "        )\n",
    "    )\n",
    "\n",
    "    # Word\n",
    "    hm_word = hm_base.encode(\n",
    "        color=alt.Color(\n",
    "            \"word_acc:Q\", scale=alt.Scale(scheme=\"redyellowgreen\", domain=(0, 1))\n",
    "        )\n",
    "    ).properties(title=\"Word accuracy\")\n",
    "    # Nonword\n",
    "    hm_nonword = hm_base.encode(\n",
    "        color=alt.Color(\n",
    "            \"nonword_acc:Q\", scale=alt.Scale(scheme=\"redyellowgreen\", domain=(0, 1))\n",
    "        )\n",
    "    ).properties(title=\"Nonword accuracy\")\n",
    "\n",
    "    # Word - Nonword\n",
    "    hm_wordadvantage = hm_base.encode(\n",
    "        color=alt.Color(\n",
    "            \"word_advantage:Q\",\n",
    "            scale=alt.Scale(scheme=\"redyellowgreen\", domain=(-0.3, 0.3)),\n",
    "        )\n",
    "    ).properties(title=\"Word advantage\")\n",
    "\n",
    "    hm_word.save(batch_output_dir + prefix + \"heatmap_word.html\")\n",
    "    hm_nonword.save(batch_output_dir + prefix + \"heatmap_nonword.html\")\n",
    "    hm_wordadvantage.save(batch_output_dir + prefix + \"heatmap_wordadvantage.html\")"
   ]
  },
  {
   "cell_type": "code",
   "execution_count": null,
   "metadata": {},
   "outputs": [],
   "source": [
    "heatmap(df_wnw)"
   ]
  },
  {
   "cell_type": "markdown",
   "metadata": {},
   "source": [
    "# Dashboard"
   ]
  },
  {
   "cell_type": "code",
   "execution_count": null,
   "metadata": {},
   "outputs": [],
   "source": [
    "alt.data_transformers.disable_max_rows()\n",
    "\n",
    "\n",
    "def main_dashboard(df):\n",
    "\n",
    "    sel_run = alt.selection(type=\"multi\", on=\"click\", fields=[\"code_name\"])\n",
    "\n",
    "    # df for overview\n",
    "    df_ov = df[df.epoch == df.epoch.max()]\n",
    "\n",
    "    # Shared master over-view\n",
    "    overview = (\n",
    "        alt.Chart(df_ov)\n",
    "        .mark_rect()\n",
    "        .encode(\n",
    "            x=\"p_noise:O\",\n",
    "            y=\"hidden_units:O\",\n",
    "            row=\"learning_rate:O\",\n",
    "            color=alt.Color(\n",
    "                \"word_acc\", scale=alt.Scale(scheme=\"redyellowgreen\", domain=(0, 1))\n",
    "            ),\n",
    "            opacity=alt.condition(sel_run, alt.value(1), alt.value(0.1)),\n",
    "            tooltip=[\n",
    "                \"code_name\",\n",
    "                \"p_noise\",\n",
    "                \"hidden_units\",\n",
    "                \"learning_rate\",\n",
    "                \"word_acc\",\n",
    "                \"nonword_acc\",\n",
    "            ],\n",
    "        )\n",
    "        .add_selection(sel_run)\n",
    "        .properties(title=\"Word accuracy at the end of training\")\n",
    "    )\n",
    "\n",
    "    wnw_mdf = df.melt(\n",
    "        id_vars=[\"code_name\", \"epoch\"],\n",
    "        value_vars=[\"word_acc\", \"nonword_acc\"],\n",
    "        var_name=\"wnw\",\n",
    "        value_name=\"acc\",\n",
    "    )\n",
    "\n",
    "    plot_epoch = (\n",
    "        alt.Chart(wnw_mdf)\n",
    "        .mark_point(size=80)\n",
    "        .encode(\n",
    "            y=alt.Y(\"acc:Q\", scale=alt.Scale(domain=(0, 1))),\n",
    "            x=\"epoch:Q\",\n",
    "            color=alt.Color(\"code_name:N\", legend=None),\n",
    "            shape=\"wnw:N\",\n",
    "            opacity=alt.condition(sel_run, alt.value(1), alt.value(0)),\n",
    "            tooltip=[\"code_name\", \"epoch\", \"acc\"],\n",
    "        )\n",
    "        .add_selection(sel_run)\n",
    "        .properties(title=\"Plot word and nonword accuracy by epoch\")\n",
    "    )\n",
    "\n",
    "    wnw_line = (\n",
    "        alt.Chart(df)\n",
    "        .mark_line()\n",
    "        .encode(\n",
    "            y=alt.Y(\"nonword_acc:Q\", scale=alt.Scale(domain=(0, 1))),\n",
    "            x=alt.X(\"word_acc:Q\", scale=alt.Scale(domain=(0, 1))),\n",
    "            color=alt.Color(\"code_name:N\", legend=None),\n",
    "            opacity=alt.condition(sel_run, alt.value(1), alt.value(0)),\n",
    "            tooltip=[\"code_name\", \"epoch\", \"word_acc\", \"nonword_acc\"],\n",
    "        )\n",
    "    )\n",
    "\n",
    "    wnw_point = wnw_line.mark_point().encode(\n",
    "        color=alt.Color(\"epoch\", scale=alt.Scale(scheme=\"redyellowgreen\"))\n",
    "    )\n",
    "\n",
    "    diagonal = (\n",
    "        alt.Chart(pd.DataFrame({\"x\": [0, 1], \"y\": [0, 1]}))\n",
    "        .mark_line(color=\"black\")\n",
    "        .encode(x=\"x\", y=\"y\")\n",
    "    )\n",
    "\n",
    "    wnw = diagonal + wnw_line + wnw_point\n",
    "\n",
    "    wnw_interactive = wnw.add_selection(sel_run).properties(\n",
    "        title=\"Word vs. Nonword accuracy at final time step\"\n",
    "    )\n",
    "\n",
    "    ### Mini heatmap ###\n",
    "\n",
    "    mini_wadv = (\n",
    "        alt.Chart(df)\n",
    "        .mark_rect()\n",
    "        .encode(\n",
    "            x=\"epoch:O\",\n",
    "            color=alt.Color(\n",
    "                \"word_advantage:Q\",\n",
    "                scale=alt.Scale(scheme=\"redyellowgreen\", domain=(-0.3, 0.3)),\n",
    "            ),\n",
    "            opacity=alt.condition(sel_run, alt.value(1), alt.value(0)),\n",
    "            tooltip=[\"word_acc\", \"nonword_acc\", \"word_advantage\"] + variates,\n",
    "        )\n",
    "        .properties(title=\"Word - Nonword\")\n",
    "    )\n",
    "\n",
    "    return overview | (plot_epoch & mini_wadv) | wnw_interactive\n",
    "\n",
    "\n",
    "main_dashboard(df_wnw).save(batch_output_dir + \"dashboard.html\")"
   ]
  },
  {
   "cell_type": "markdown",
   "metadata": {},
   "source": [
    "### Hyper-parameter effect plots"
   ]
  },
  {
   "cell_type": "code",
   "execution_count": null,
   "metadata": {},
   "outputs": [],
   "source": [
    "plot_pnoise = (\n",
    "    alt.Chart()\n",
    "    .mark_line()\n",
    "    .encode(\n",
    "        y=alt.Y(\"nonword_acc:Q\", scale=alt.Scale(domain=(0, 1))),\n",
    "        x=alt.X(\"word_acc:Q\", scale=alt.Scale(domain=(0, 1))),\n",
    "        color=alt.Color(\"p_noise:O\", scale=alt.Scale(scheme=\"reds\")),\n",
    "        tooltip=variates + [\"epoch\", \"word_acc\", \"nonword_acc\"],\n",
    "    )\n",
    ")\n",
    "\n",
    "diagonal = (\n",
    "    alt.Chart(pd.DataFrame({\"x\": [0, 1], \"y\": [0, 1]}))\n",
    "    .mark_line(color=\"black\")\n",
    "    .encode(x=\"x\", y=\"y\")\n",
    ")\n",
    "\n",
    "p = alt.layer(diagonal + plot_pnoise, data=df_wnw).facet(\n",
    "    row=\"hidden_units:O\", column=\"learning_rate:O\"\n",
    ")\n",
    "\n",
    "p.save(batch_output_dir + \"Effect_pnoise.html\")"
   ]
  },
  {
   "cell_type": "code",
   "execution_count": null,
   "metadata": {},
   "outputs": [],
   "source": [
    "plot_hidden = (\n",
    "    alt.Chart()\n",
    "    .mark_line()\n",
    "    .encode(\n",
    "        y=alt.Y(\"nonword_acc:Q\", scale=alt.Scale(domain=(0, 1))),\n",
    "        x=alt.X(\"word_acc:Q\", scale=alt.Scale(domain=(0, 1))),\n",
    "        color=alt.Color(\"hidden_units:O\", scale=alt.Scale(scheme=\"blues\")),\n",
    "        tooltip=variates + [\"epoch\", \"word_acc\", \"nonword_acc\"],\n",
    "    )\n",
    ")\n",
    "\n",
    "h = alt.layer(diagonal + plot_hidden, data=df_wnw).facet(\n",
    "    row=\"p_noise:O\", column=\"learning_rate:O\"\n",
    ")\n",
    "\n",
    "h.save(batch_output_dir + \"Effect_hidden.html\")"
   ]
  },
  {
   "cell_type": "code",
   "execution_count": null,
   "metadata": {},
   "outputs": [],
   "source": [
    "plot_lr = (\n",
    "    alt.Chart()\n",
    "    .mark_line()\n",
    "    .encode(\n",
    "        y=alt.Y(\"nonword_acc:Q\", scale=alt.Scale(domain=(0, 1))),\n",
    "        x=alt.X(\"word_acc:Q\", scale=alt.Scale(domain=(0, 1))),\n",
    "        color=alt.Color(\n",
    "            \"learning_rate\", type=\"ordinal\", scale=alt.Scale(scheme=\"greens\")\n",
    "        ),\n",
    "        tooltip=variates + [\"epoch\", \"word_acc\", \"nonword_acc\"],\n",
    "    )\n",
    ")\n",
    "\n",
    "lr = alt.layer(diagonal + plot_lr, data=df_wnw).facet(\n",
    "    row=\"hidden_units:O\", column=\"p_noise:O\"\n",
    ")\n",
    "\n",
    "lr.save(batch_output_dir + \"Effect_lr.html\")"
   ]
  },
  {
   "cell_type": "markdown",
   "metadata": {},
   "source": [
    "SSE vs. P-noise"
   ]
  },
  {
   "cell_type": "code",
   "execution_count": null,
   "metadata": {},
   "outputs": [],
   "source": [
    "sdf = df.loc[\n",
    "    (\n",
    "        (df.timestep == df.timestep.max())\n",
    "        & (df.cond.isin([\"CON_HF\", \"CON_LF\", \"INC_HF\", \"INC_LF\"]))\n",
    "    ),\n",
    "    [\"code_name\", \"epoch\", \"p_noise\", \"acc\", \"sse\"],\n",
    "]\n",
    "\n",
    "# Collapse condition\n",
    "sdf = sdf.groupby([\"code_name\", \"epoch\"]).mean().reset_index()"
   ]
  },
  {
   "cell_type": "code",
   "execution_count": null,
   "metadata": {},
   "outputs": [],
   "source": [
    "alt.data_transformers.disable_max_rows()\n",
    "c = (\n",
    "    alt.Chart(sdf)\n",
    "    .mark_point()\n",
    "    .encode(y=\"acc\", x=alt.X(\"sse\", scale=alt.Scale(domain=(0, 8))), color=\"p_noise:N\",)\n",
    "    .interactive()\n",
    ")\n",
    "c"
   ]
  },
  {
   "cell_type": "code",
   "execution_count": null,
   "metadata": {},
   "outputs": [],
   "source": []
  }
 ],
 "metadata": {
  "environment": {
   "name": "tf2-gpu.2-1.m46",
   "type": "gcloud",
   "uri": "gcr.io/deeplearning-platform-release/tf2-gpu.2-1:m46"
  },
  "kernelspec": {
   "display_name": "Python 3",
   "language": "python",
   "name": "python3"
  },
  "language_info": {
   "codemirror_mode": {
    "name": "ipython",
    "version": 3
   },
   "file_extension": ".py",
   "mimetype": "text/x-python",
   "name": "python",
   "nbconvert_exporter": "python",
   "pygments_lexer": "ipython3",
   "version": "3.7.6"
  },
  "toc-autonumbering": false,
  "toc-showcode": false,
  "toc-showmarkdowntxt": true,
  "toc-showtags": false
 },
 "nbformat": 4,
 "nbformat_minor": 4
}
