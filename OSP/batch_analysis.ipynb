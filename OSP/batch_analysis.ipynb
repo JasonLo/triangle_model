{
 "cells": [
  {
   "cell_type": "markdown",
   "metadata": {},
   "source": [
    "# Batch models analysis"
   ]
  },
  {
   "cell_type": "code",
   "execution_count": null,
   "metadata": {},
   "outputs": [],
   "source": [
    "%load_ext lab_black\n",
    "import os, json\n",
    "import pandas as pd\n",
    "import altair as alt\n",
    "from meta import check_cfgs_params\n",
    "from evaluate import make_df_wnw\n",
    "\n",
    "alt.data_transformers.enable(\"default\")\n",
    "alt.data_transformers.disable_max_rows()"
   ]
  },
  {
   "cell_type": "markdown",
   "metadata": {},
   "source": [
    "## Read files"
   ]
  },
  {
   "cell_type": "code",
   "execution_count": null,
   "metadata": {},
   "outputs": [],
   "source": [
    "batch_name = \"O2P_adam_boo\"\n",
    "batch_output_dir = \"batch_eval/{}/\".format(batch_name)\n",
    "cfgs = pd.read_csv(batch_output_dir + \"cfgs.csv\", index_col=0)\n",
    "df = pd.read_csv(batch_output_dir + \"bcdf.csv\", index_col=0)\n",
    "check_cfgs_params(cfgs)"
   ]
  },
  {
   "cell_type": "markdown",
   "metadata": {},
   "source": [
    "### Explicitly provide varying h-params after reviewing unique params"
   ]
  },
  {
   "cell_type": "code",
   "execution_count": null,
   "metadata": {},
   "outputs": [],
   "source": [
    "variates = [\"hidden_units\", \"learning_rate\", \"p_noise\"]"
   ]
  },
  {
   "cell_type": "markdown",
   "metadata": {},
   "source": [
    "# View h-param grid"
   ]
  },
  {
   "cell_type": "code",
   "execution_count": null,
   "metadata": {},
   "outputs": [],
   "source": [
    "plot_n = (\n",
    "    alt.Chart(cfgs)\n",
    "    .mark_rect()\n",
    "    .encode(\n",
    "        x=\"p_noise:O\",\n",
    "        y=\"hidden_units:O\",\n",
    "        row=\"learning_rate:O\",\n",
    "        color=\"count(code_name)\",\n",
    "        tooltip=[\"count(code_name)\"],\n",
    "    )\n",
    "    .properties(title=\"Model counts\")\n",
    ")\n",
    "\n",
    "plot_n"
   ]
  },
  {
   "cell_type": "markdown",
   "metadata": {},
   "source": [
    "### Check standard deviation for anomaly"
   ]
  },
  {
   "cell_type": "code",
   "execution_count": null,
   "metadata": {},
   "outputs": [],
   "source": [
    "def plot_std(df, variates, conditions, dv):\n",
    "    \"\"\"\n",
    "    Plot standard deviation of VARIABLE at given CONDITIONS at LAST TIME STEP\n",
    "    df: pandas dataframe containing batch condition data file (bcdf)\n",
    "    variates: a list of varying hyperparameters\n",
    "    conditions: filter by conditions at df.cond\n",
    "    dv: dependent variable to plot on heatmap (e.g., acc, sse)\n",
    "    \"\"\"\n",
    "    # Select useful data\n",
    "    sel_df = df.loc[\n",
    "        (df.timestep == df.timestep.max()) & df.cond.isin(conditions),\n",
    "        variates + [\"cond\", \"epoch\", dv],\n",
    "    ]\n",
    "\n",
    "    # Calculate standard deveiation in each cell\n",
    "    plot_df = sel_df.groupby(variates + [\"epoch\"]).std().reset_index()\n",
    "\n",
    "    # Plot heatmap\n",
    "    return (\n",
    "        alt.Chart(plot_df)\n",
    "        .mark_rect()\n",
    "        .encode(\n",
    "            x=\"epoch:O\",\n",
    "            y=\"hidden_units:O\",\n",
    "            row=\"learning_rate:O\",\n",
    "            column=\"p_noise:O\",\n",
    "            color=alt.Color(dv, scale=alt.Scale(domain=[0, 0.2])),\n",
    "            tooltip=variates + [dv],\n",
    "        )\n",
    "    )\n",
    "\n",
    "\n",
    "plot_std(df, variates, [\"INC_HF\"], \"acc\").save(\n",
    "    batch_output_dir + \"stdev_strain_INCHF.html\"\n",
    ")\n",
    "\n",
    "plot_std(df, variates, [\"unambiguous\"], \"acc\").save(\n",
    "    batch_output_dir + \"stdev_grain_unambiguous.html\"\n",
    ")\n",
    "\n",
    "taraban_w = [\n",
    "    \"High-frequency exception\",\n",
    "    \"High-frequency regular-inconsistent\",\n",
    "    \"Low-frequency exception\",\n",
    "    \"Low-frequency regular-inconsistent\",\n",
    "    \"Regular control for High-frequency exception\",\n",
    "    \"Regular control for High-frequency regular-inconsistent\",\n",
    "    \"Regular control for Low-frequency exception\",\n",
    "    \"Regular control for Low-frequency regular-inconsistent\",\n",
    "]\n",
    "\n",
    "plot_std(df, variates, taraban_w, \"acc\").save(\n",
    "    batch_output_dir + \"stdev_taraban_all.html\"\n",
    ")\n",
    "\n",
    "glushko_nw = [\"Exception\", \"Regular\"]\n",
    "plot_std(df, variates, glushko_nw, \"acc\").save(batch_output_dir + \"stdev_glushko.html\")"
   ]
  },
  {
   "cell_type": "markdown",
   "metadata": {},
   "source": [
    "# All runs at last time step"
   ]
  },
  {
   "cell_type": "markdown",
   "metadata": {},
   "source": [
    "### no rng_seed aggregation"
   ]
  },
  {
   "cell_type": "code",
   "execution_count": null,
   "metadata": {},
   "outputs": [],
   "source": [
    "def plot_f2(df):\n",
    "\n",
    "    tmp = df.loc[df.timestep == df.timestep.max()]\n",
    "    pdf = make_df_wnw(tmp, [\"INC_HF\"], [\"unambiguous\"])\n",
    "\n",
    "    base = (\n",
    "        alt.Chart(pdf)\n",
    "        .mark_point()\n",
    "        .encode(\n",
    "            y=alt.Y(\"nonword_acc:Q\", scale=alt.Scale(domain=(0, 1))),\n",
    "            x=alt.X(\"word_acc:Q\", scale=alt.Scale(domain=(0, 1))),\n",
    "            color=alt.Color(\n",
    "                \"epoch\", scale=alt.Scale(scheme=\"redyellowgreen\", domain=(0, 100))\n",
    "            ),\n",
    "            opacity=alt.value(0.3),\n",
    "            tooltip=[\"code_name\", \"epoch\", \"word_acc\", \"nonword_acc\"],\n",
    "        )\n",
    "    )\n",
    "\n",
    "    diagonal = (\n",
    "        alt.Chart(pd.DataFrame({\"x\": [0, 1], \"y\": [0, 1]}))\n",
    "        .mark_line(color=\"black\")\n",
    "        .encode(x=\"x\", y=\"y\")\n",
    "    )\n",
    "    return diagonal + base\n",
    "\n",
    "\n",
    "plot_f2(df).properties(title=\"All runs overlay (no aggregation)\")"
   ]
  },
  {
   "cell_type": "markdown",
   "metadata": {},
   "source": [
    "### rng_seed aggregate"
   ]
  },
  {
   "cell_type": "code",
   "execution_count": null,
   "metadata": {},
   "outputs": [],
   "source": [
    "df[\"code_name\"] = df.batch_unique_setting_string\n",
    "plot_f2(df).properties(title=\"All runs overlay (within setting cell aggregation)\")"
   ]
  },
  {
   "cell_type": "markdown",
   "metadata": {},
   "source": [
    "# Word and NW heatmap"
   ]
  },
  {
   "cell_type": "code",
   "execution_count": null,
   "metadata": {},
   "outputs": [],
   "source": [
    "df[\"code_name\"] = df.batch_unique_setting_string\n",
    "cfgs[\"code_name\"] = cfgs.batch_unique_setting_string"
   ]
  },
  {
   "cell_type": "code",
   "execution_count": null,
   "metadata": {},
   "outputs": [],
   "source": [
    "df_cell_mean = (\n",
    "    df[\n",
    "        variates\n",
    "        + [\"code_name\", \"epoch\", \"timestep\", \"unit_time\", \"exp\", \"cond\", \"acc\", \"sse\"]\n",
    "    ]\n",
    "    .pivot_table(\n",
    "        index=variates + [\"code_name\", \"epoch\", \"timestep\", \"unit_time\", \"exp\", \"cond\"]\n",
    "    )\n",
    "    .reset_index()\n",
    ")\n",
    "\n",
    "df_sel = df_cell_mean.loc[\n",
    "    (df_cell_mean.timestep == df_cell_mean.timestep.max())\n",
    "    & df_cell_mean.cond.isin([\"INC_HF\", \"unambiguous\"])\n",
    "]"
   ]
  },
  {
   "cell_type": "code",
   "execution_count": null,
   "metadata": {},
   "outputs": [],
   "source": [
    "df_wnw = make_df_wnw(df_sel, [\"INC_HF\"], [\"unambiguous\"])\n",
    "df_wnw[\"word_advantage\"] = df_wnw.word_acc - df_wnw.nonword_acc\n",
    "df_wnw = df_wnw.merge(cfgs)\n",
    "df_wnw = df_wnw[\n",
    "    [\"code_name\"] + variates + [\"epoch\", \"word_acc\", \"nonword_acc\", \"word_advantage\"]\n",
    "]"
   ]
  },
  {
   "cell_type": "code",
   "execution_count": null,
   "metadata": {},
   "outputs": [],
   "source": [
    "base = (\n",
    "    alt.Chart(df_wnw)\n",
    "    .mark_point()\n",
    "    .encode(\n",
    "        y=alt.Y(\"nonword_acc:Q\", scale=alt.Scale(domain=(0, 1))),\n",
    "        x=alt.X(\"word_acc:Q\", scale=alt.Scale(domain=(0, 1))),\n",
    "        color=alt.Color(\n",
    "            \"epoch\", scale=alt.Scale(scheme=\"redyellowgreen\", domain=(0, 100))\n",
    "        ),\n",
    "        opacity=alt.value(0.2),\n",
    "        tooltip=[\"code_name\", \"epoch\", \"word_acc\", \"nonword_acc\"],\n",
    "    )\n",
    ")\n",
    "\n",
    "diagonal = (\n",
    "    alt.Chart(pd.DataFrame({\"x\": [0, 1], \"y\": [0, 1]}))\n",
    "    .mark_line(color=\"black\")\n",
    "    .encode(x=\"x\", y=\"y\")\n",
    ")\n",
    "\n",
    "plot = diagonal + base\n",
    "plot\n",
    "# plot.save(batch_output_dir + 'all_models_wnw.html')"
   ]
  },
  {
   "cell_type": "code",
   "execution_count": null,
   "metadata": {},
   "outputs": [],
   "source": [
    "base = (\n",
    "    alt.Chart(df_wnw)\n",
    "    .mark_rect()\n",
    "    .encode(\n",
    "        x=\"p_noise:O\",\n",
    "        y=\"hidden_units:O\",\n",
    "        row=\"learning_rate:O\",\n",
    "        column=\"epoch:O\",\n",
    "        tooltip=variates + [\"word_acc\", \"nonword_acc\"],\n",
    "    )\n",
    ")\n",
    "\n",
    "w = base.encode(\n",
    "    color=alt.Color(\"word_acc\", scale=alt.Scale(scheme=\"redyellowgreen\", domain=(0, 1)))\n",
    ").properties(title=\"Word acc\")\n",
    "\n",
    "w.save(batch_output_dir + \"word.html\")\n",
    "w"
   ]
  },
  {
   "cell_type": "code",
   "execution_count": null,
   "metadata": {},
   "outputs": [],
   "source": [
    "nw = base.encode(\n",
    "    color=alt.Color(\n",
    "        \"nonword_acc\", scale=alt.Scale(scheme=\"redyellowgreen\", domain=(0, 1))\n",
    "    )\n",
    ").properties(title=\"Nonword acc\")\n",
    "nw.save(batch_output_dir + \"nonword.html\")\n",
    "nw"
   ]
  },
  {
   "cell_type": "code",
   "execution_count": null,
   "metadata": {},
   "outputs": [],
   "source": [
    "adv = base.encode(\n",
    "    color=alt.Color(\n",
    "        \"word_advantage\", scale=alt.Scale(scheme=\"redyellowgreen\", domain=(-0.3, 0.3))\n",
    "    )\n",
    ").properties(title=\"Word advantage\")\n",
    "\n",
    "adv.save(batch_output_dir + \"wadv.html\")\n",
    "adv"
   ]
  },
  {
   "cell_type": "code",
   "execution_count": null,
   "metadata": {},
   "outputs": [],
   "source": [
    "plot_pnoise = (\n",
    "    alt.Chart()\n",
    "    .mark_line()\n",
    "    .encode(\n",
    "        y=alt.Y(\"nonword_acc:Q\", scale=alt.Scale(domain=(0, 1))),\n",
    "        x=alt.X(\"word_acc:Q\", scale=alt.Scale(domain=(0, 1))),\n",
    "        color=alt.Color(\"p_noise\", type=\"ordinal\", scale=alt.Scale(scheme=\"reds\")),\n",
    "        tooltip=variates + [\"epoch\", \"word_acc\", \"nonword_acc\"],\n",
    "    )\n",
    ")\n",
    "\n",
    "diagonal = (\n",
    "    alt.Chart(pd.DataFrame({\"x\": [0, 1], \"y\": [0, 1]}))\n",
    "    .mark_line(color=\"black\")\n",
    "    .encode(x=\"x\", y=\"y\")\n",
    ")\n",
    "\n",
    "p = alt.layer(diagonal + plot_pnoise, data=df_wnw).facet(\n",
    "    row=\"hidden_units:O\", column=\"learning_rate:O\"\n",
    ")\n",
    "\n",
    "p.save(batch_output_dir + \"p_noise.html\")\n",
    "p"
   ]
  },
  {
   "cell_type": "code",
   "execution_count": null,
   "metadata": {},
   "outputs": [],
   "source": [
    "plot_hidden = (\n",
    "    alt.Chart()\n",
    "    .mark_line()\n",
    "    .encode(\n",
    "        y=alt.Y(\"nonword_acc:Q\", scale=alt.Scale(domain=(0, 1))),\n",
    "        x=alt.X(\"word_acc:Q\", scale=alt.Scale(domain=(0, 1))),\n",
    "        color=alt.Color(\n",
    "            \"hidden_units\", type=\"ordinal\", scale=alt.Scale(scheme=\"blues\")\n",
    "        ),\n",
    "        tooltip=variates + [\"epoch\", \"word_acc\", \"nonword_acc\"],\n",
    "    )\n",
    ")\n",
    "\n",
    "h = alt.layer(diagonal + plot_hidden, data=df_wnw).facet(\n",
    "    row=\"p_noise:O\", column=\"learning_rate:O\"\n",
    ")\n",
    "\n",
    "h.save(batch_output_dir + \"hidden.html\")\n",
    "h"
   ]
  },
  {
   "cell_type": "code",
   "execution_count": null,
   "metadata": {},
   "outputs": [],
   "source": [
    "plot_lr = (\n",
    "    alt.Chart()\n",
    "    .mark_line()\n",
    "    .encode(\n",
    "        y=alt.Y(\"nonword_acc:Q\", scale=alt.Scale(domain=(0, 1))),\n",
    "        x=alt.X(\"word_acc:Q\", scale=alt.Scale(domain=(0, 1))),\n",
    "        color=alt.Color(\n",
    "            \"learning_rate\", type=\"ordinal\", scale=alt.Scale(scheme=\"greens\")\n",
    "        ),\n",
    "        tooltip=variates + [\"epoch\", \"word_acc\", \"nonword_acc\"],\n",
    "    )\n",
    ")\n",
    "\n",
    "lr = alt.layer(diagonal + plot_lr, data=df_wnw).facet(\n",
    "    row=\"hidden_units:O\", column=\"p_noise:O\"\n",
    ")\n",
    "\n",
    "lr.save(batch_output_dir + \"lr.html\")\n",
    "lr"
   ]
  },
  {
   "cell_type": "code",
   "execution_count": null,
   "metadata": {},
   "outputs": [],
   "source": []
  }
 ],
 "metadata": {
  "environment": {
   "name": "tf2-gpu.2-1.m47",
   "type": "gcloud",
   "uri": "gcr.io/deeplearning-platform-release/tf2-gpu.2-1:m47"
  },
  "kernelspec": {
   "display_name": "Python 3",
   "language": "python",
   "name": "python3"
  },
  "language_info": {
   "codemirror_mode": {
    "name": "ipython",
    "version": 3
   },
   "file_extension": ".py",
   "mimetype": "text/x-python",
   "name": "python",
   "nbconvert_exporter": "python",
   "pygments_lexer": "ipython3",
   "version": "3.7.6"
  },
  "toc-autonumbering": false,
  "toc-showcode": false,
  "toc-showmarkdowntxt": true,
  "toc-showtags": false
 },
 "nbformat": 4,
 "nbformat_minor": 4
}
