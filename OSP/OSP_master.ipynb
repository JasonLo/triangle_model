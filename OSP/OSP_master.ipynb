{
 "cells": [
  {
   "cell_type": "markdown",
   "metadata": {
    "colab_type": "text",
    "id": "dbgouQwZ1Y1f"
   },
   "source": [
    "# OSP model\n",
    "\n"
   ]
  },
  {
   "cell_type": "code",
   "execution_count": null,
   "metadata": {},
   "outputs": [],
   "source": [
    "%load_ext lab_black\n",
    "import h5py, pickle, os\n",
    "import numpy as np\n",
    "import pandas as pd\n",
    "from IPython.display import clear_output\n",
    "\n",
    "import tensorflow as tf\n",
    "from tensorflow.keras import Model\n",
    "from tensorflow.keras.layers import Layer, Input, concatenate, multiply, RepeatVector\n",
    "from tensorflow.keras.optimizers import Adam, SGD\n",
    "\n",
    "from meta import gpu_mem_cap, model_cfg\n",
    "from data_wrangling import sample_generator, my_data\n",
    "from modeling import attractor, arm_attractor, ModelCheckpoint_custom, rnn\n",
    "from evaluate import training_history, strain_eval, grain_eval, plot_variables, vis\n",
    "\n",
    "gpu_mem_cap(2048)  # Put memory cap to allow parallel runs"
   ]
  },
  {
   "cell_type": "markdown",
   "metadata": {},
   "source": [
    "### Parameters block for Papermill\n",
    "- Instead of using model_cfg directly, this extra step is needed for batch run using Papermill\n",
    "- Consider carefully the variable type in each cfg setting (Probably automatically check it later...)\n",
    "    - Do not use integer (e.g., 1, 2, 3, 0) in variables that can be float32 (e.g., w_oh_noise, tau...)\n",
    "    - Use integer with a dot instead (e.g., 1., 2., 3., 0.)\n",
    "- To use attractor, two params must be config, \n",
    "    - 1) embed_attractor_cfg --> json cfg file of the pretrain attractor \n",
    "    - 2) embed_attractor_h5 --> h5 file of the exact weight (e.g. ep0500.h5 #epoch or c90.h5 #correct rate)"
   ]
  },
  {
   "cell_type": "code",
   "execution_count": null,
   "metadata": {
    "tags": [
     "parameters"
    ]
   },
   "outputs": [],
   "source": [
    "code_name = 'O2P_SGD128_p0_h100_c10_lr008_50M'\n",
    "\n",
    "sample_name = 'jay'\n",
    "rng_seed = 999\n",
    "use_semantic = False\n",
    "\n",
    "# Model architechture\n",
    "input_dim = 119\n",
    "hidden_units = 100\n",
    "output_dim = 250\n",
    "cleanup_units = 10\n",
    "\n",
    "use_attractor = False  # Load pretrained or not\n",
    "\n",
    "# embed_attractor_cfg = 'models/Attractor_{0:02d}/model_config.json'.format(\n",
    "#     cleanup_units\n",
    "# )\n",
    "# embed_attractor_h5 = 'c00.h5'\n",
    "\n",
    "rnn_activation = 'sigmoid'\n",
    "regularizer_const = None\n",
    "w_initializer = 'glorot_uniform'\n",
    "\n",
    "p_noise = 0.\n",
    "tau = 0.2\n",
    "max_unit_time = 4.\n",
    "\n",
    "# Training\n",
    "optimizer = 'sgd'\n",
    "n_mil_sample = 50.\n",
    "batch_size = 32\n",
    "learning_rate = 0.008\n",
    "save_freq = 5\n",
    "bq_dataset = None"
   ]
  },
  {
   "cell_type": "markdown",
   "metadata": {},
   "source": [
    "### Construct model configuration"
   ]
  },
  {
   "cell_type": "code",
   "execution_count": null,
   "metadata": {},
   "outputs": [],
   "source": [
    "d = {}\n",
    "for v in model_cfg.minimal_cfgs:\n",
    "    d[v] = globals()[v]\n",
    "\n",
    "for v in model_cfg.aux_cfgs:\n",
    "    try:\n",
    "        d[v] = globals()[v]\n",
    "    except:\n",
    "        pass\n",
    "\n",
    "cfg = model_cfg(**d)\n",
    "\n",
    "tf.random.set_seed(cfg.rng_seed)\n",
    "data = my_data(cfg)"
   ]
  },
  {
   "cell_type": "markdown",
   "metadata": {
    "colab_type": "text",
    "id": "0IwxbE29_0yx"
   },
   "source": [
    "# Modeling"
   ]
  },
  {
   "cell_type": "markdown",
   "metadata": {
    "colab_type": "text",
    "id": "HFTsfceXUGIh",
    "toc-hr-collapsed": false
   },
   "source": [
    "## Building"
   ]
  },
  {
   "cell_type": "code",
   "execution_count": null,
   "metadata": {},
   "outputs": [],
   "source": [
    "def build_model(training=True):\n",
    "    \"\"\"\n",
    "    Create Keras model\n",
    "    Note that:\n",
    "    For structural things, such as repeat vector, should build within the model\n",
    "    For Static calculation of input, it is easier to modify, should build within sample generator\n",
    "    \"\"\"\n",
    "\n",
    "    cfg.noise_on() if training is True else cfg.noise_off()\n",
    "    input_o = Input(shape=(cfg.input_dim, ), name=\"Input_O\")\n",
    "    input_o_t = RepeatVector(cfg.n_timesteps, name='Input_Ot')(input_o)\n",
    "\n",
    "    if cfg.use_semantic == True:\n",
    "        raw_s_t = Input(\n",
    "            shape=(cfg.n_timesteps, cfg.output_dim), name='Plaut_St'\n",
    "        )\n",
    "\n",
    "        input_p = Input(shape=(cfg.output_dim, ), name='input_P')\n",
    "        input_p_t = RepeatVector(cfg.n_timesteps, name='Teaching_Pt')(input_p)\n",
    "\n",
    "        input_s_t = multiply([raw_s_t, input_p_t], name='Input_St')\n",
    "\n",
    "        combined = concatenate([input_o_t, input_s_t], name='Combined_input')\n",
    "        rnn_model = rnn(cfg)(combined)\n",
    "        model = Model([input_o, raw_s_t, input_p], rnn_model)\n",
    "\n",
    "    else:\n",
    "        rnn_model = rnn(cfg)(input_o_t)\n",
    "        model = Model(input_o, rnn_model)\n",
    "\n",
    "    if cfg.optimizer == 'adam':\n",
    "        op = Adam(\n",
    "            learning_rate=cfg.learning_rate,\n",
    "            beta_1=0.9,\n",
    "            beta_2=0.999,\n",
    "            amsgrad=False\n",
    "        )\n",
    "\n",
    "    elif cfg.optimizer == 'sgd':\n",
    "        op = SGD(cfg.learning_rate)\n",
    "\n",
    "    model.compile(\n",
    "        loss='binary_crossentropy',\n",
    "        optimizer=op,\n",
    "        metrics=['BinaryAccuracy', 'mse']\n",
    "    )\n",
    "\n",
    "    model.summary()\n",
    "    return model\n",
    "\n",
    "\n",
    "model = build_model(training=True)"
   ]
  },
  {
   "cell_type": "markdown",
   "metadata": {},
   "source": [
    "## Arming attractor"
   ]
  },
  {
   "cell_type": "code",
   "execution_count": null,
   "metadata": {},
   "outputs": [],
   "source": [
    "if cfg.use_attractor is True:\n",
    "    print('Found attractor info in config (cfg), arming attractor...')\n",
    "    attractor_cfg = model_cfg(cfg.embed_attractor_cfg, bypass_chk=True)\n",
    "    attractor_obj = attractor(attractor_cfg, cfg.embed_attractor_h5)\n",
    "    model = arm_attractor(model, attractor_obj)\n",
    "    plot_variables(model)\n",
    "else:\n",
    "    print('Config indicates no attractor, I have do nothing.')"
   ]
  },
  {
   "cell_type": "markdown",
   "metadata": {
    "colab_type": "text",
    "id": "oKUOoZkP8QiA"
   },
   "source": [
    "## Training"
   ]
  },
  {
   "cell_type": "code",
   "execution_count": null,
   "metadata": {},
   "outputs": [],
   "source": [
    "checkpoint = ModelCheckpoint_custom(\n",
    "    cfg.path_weights_checkpoint,\n",
    "    save_weights_only=True,\n",
    "    period=cfg.save_freq,\n",
    ")\n",
    "\n",
    "history = model.fit(\n",
    "    sample_generator(cfg, data),\n",
    "    steps_per_epoch=cfg.steps_per_epoch,\n",
    "    epochs=cfg.nEpo,\n",
    "    verbose=0,\n",
    "    callbacks=[checkpoint]\n",
    ")\n",
    "\n",
    "# Saving history and model\n",
    "pickle_out = open(cfg.path_history_pickle, \"wb\")\n",
    "pickle.dump(history.history, pickle_out)\n",
    "pickle_out.close()\n",
    "\n",
    "clear_output()\n",
    "print('Training done')"
   ]
  },
  {
   "cell_type": "markdown",
   "metadata": {
    "colab_type": "text",
    "id": "VMmNcbJdcPMh"
   },
   "source": [
    "# Reporting"
   ]
  },
  {
   "cell_type": "code",
   "execution_count": null,
   "metadata": {},
   "outputs": [],
   "source": [
    "cfg = model_cfg('models/{}/model_config.json'.format(code_name))\n",
    "data = my_data(cfg)"
   ]
  },
  {
   "cell_type": "markdown",
   "metadata": {
    "colab_type": "text",
    "id": "7BqpDOQStugK"
   },
   "source": [
    "### Training history"
   ]
  },
  {
   "cell_type": "code",
   "execution_count": null,
   "metadata": {},
   "outputs": [],
   "source": [
    "hist = training_history(cfg.path_history_pickle)\n",
    "hist.plot_all(cfg.path_plot_folder + 'history.html')"
   ]
  },
  {
   "cell_type": "markdown",
   "metadata": {},
   "source": [
    "### Parse item level stats"
   ]
  },
  {
   "cell_type": "code",
   "execution_count": null,
   "metadata": {},
   "outputs": [],
   "source": [
    "# Must turn training mode off beforuse_semanticvaluation\n",
    "model = build_model(training=False)\n",
    "\n",
    "# Strain full model\n",
    "strain = strain_eval(cfg, data, model)\n",
    "strain.start_evaluate(\n",
    "    test_use_semantic=True,\n",
    "    output=cfg.path_model_folder + 'result_strain_item.csv'\n",
    ")\n",
    "\n",
    "# Semantic lesion in Strain\n",
    "# if cfg.use_semantic == True:\n",
    "#     strain_ns = strain_eval(cfg, data, model)\n",
    "#     strain_ns.start_evaluate(\n",
    "#         test_use_semantic=False,\n",
    "#         output=cfg.path_model_folder + 'result_strain_ns_item.csv'\n",
    "#     )\n",
    "\n",
    "# Grain\n",
    "grain = grain_eval(cfg, data, model)\n",
    "grain.start_evaluate(\n",
    "    test_use_semantic=False,\n",
    "    output=cfg.path_model_folder + 'result_grain_item.csv'\n",
    ")"
   ]
  },
  {
   "cell_type": "markdown",
   "metadata": {
    "colab_type": "text",
    "id": "_KnxCNzMyWah"
   },
   "source": [
    "### Strain plots"
   ]
  },
  {
   "cell_type": "code",
   "execution_count": null,
   "metadata": {},
   "outputs": [],
   "source": [
    "# vis_ns = vis(\n",
    "#     cfg.path_model_folder, 'result_strain_ns_item.csv', 'result_grain_item.csv'\n",
    "# )\n",
    "# vis_ns.parse_cond_df()\n",
    "# lesion = vis_ns.plot_dev('acc').properties(title='Semantic lesion')\n",
    "# strain_plot = full | lesion\n",
    "# strain_plot\n",
    "\n",
    "vis = vis(\n",
    "    cfg.path_model_folder, 'result_strain_item.csv', 'result_grain_item.csv'\n",
    ")\n",
    "\n",
    "vis.parse_cond_df()\n",
    "\n",
    "full = vis.plot_dev_interactive('acc').properties(\n",
    "    title='Accurcy in all conditions'\n",
    ")\n",
    "full.save(cfg.path_plot_folder + 'development_all.html')\n",
    "full"
   ]
  },
  {
   "cell_type": "markdown",
   "metadata": {},
   "source": [
    "### Lesion development deep dive"
   ]
  },
  {
   "cell_type": "code",
   "execution_count": null,
   "metadata": {},
   "outputs": [],
   "source": [
    "# dev_inter = vis.plot_dev_interactive('acc')\n",
    "# dev_inter.save(cfg.path_plot_folder + 'interactive_strain_dev_full.html')\n",
    "# dev_inter\n",
    "\n",
    "# dev_inter = vis_ns.plot_dev_interactive('acc')\n",
    "# dev_inter.save(cfg.path_plot_folder + 'interactive_strain_dev_lesion.html')\n",
    "# dev_inter"
   ]
  },
  {
   "cell_type": "markdown",
   "metadata": {},
   "source": [
    "### Lesion time plot deep dive"
   ]
  },
  {
   "cell_type": "code",
   "execution_count": null,
   "metadata": {},
   "outputs": [],
   "source": [
    "# time_inter = vis.plot_time_interactive('acc')\n",
    "# time_inter.save(cfg.path_plot_folder + 'interactive_strain_time.html')\n",
    "# time_inter"
   ]
  },
  {
   "cell_type": "markdown",
   "metadata": {},
   "source": [
    "### Grain plots"
   ]
  },
  {
   "cell_type": "code",
   "execution_count": null,
   "metadata": {},
   "outputs": [],
   "source": [
    "small = vis.plot_dev_interactive('acc_small_grain', exp='grain')\n",
    "large = vis.plot_dev_interactive('acc_large_grain', exp='grain')\n",
    "grain_plot = small | large\n",
    "grain_plot.save(cfg.path_plot_folder + 'grain_by_response.html')\n",
    "grain_plot"
   ]
  },
  {
   "cell_type": "markdown",
   "metadata": {},
   "source": [
    "### Words vs. Nonwords"
   ]
  },
  {
   "cell_type": "code",
   "execution_count": null,
   "metadata": {},
   "outputs": [],
   "source": [
    "wnw_plot = vis.plot_wnw(['INC_HF', 'ambiguous', 'unambiguous'])\n",
    "wnw_plot.save(cfg.path_plot_folder + 'word_vs_nonword.html')\n",
    "wnw_plot"
   ]
  },
  {
   "cell_type": "markdown",
   "metadata": {},
   "source": [
    "### Model weights and biases"
   ]
  },
  {
   "cell_type": "code",
   "execution_count": null,
   "metadata": {},
   "outputs": [],
   "source": [
    "plot_variables(model, cfg.path_plot_folder + 'variables.png')"
   ]
  },
  {
   "cell_type": "code",
   "execution_count": null,
   "metadata": {},
   "outputs": [],
   "source": [
    "# !jupyter nbconvert --output-dir=$cfg.path_model_folder --to html OSP_master.ipynb"
   ]
  },
  {
   "cell_type": "code",
   "execution_count": null,
   "metadata": {},
   "outputs": [],
   "source": [
    "!sudo poweroff"
   ]
  },
  {
   "cell_type": "code",
   "execution_count": null,
   "metadata": {},
   "outputs": [],
   "source": []
  }
 ],
 "metadata": {
  "accelerator": "GPU",
  "colab": {
   "collapsed_sections": [],
   "name": "basicO2P_master.ipynb",
   "provenance": []
  },
  "kernelspec": {
   "display_name": "Python 3",
   "language": "python",
   "name": "python3"
  },
  "language_info": {
   "codemirror_mode": {
    "name": "ipython",
    "version": 3
   },
   "file_extension": ".py",
   "mimetype": "text/x-python",
   "name": "python",
   "nbconvert_exporter": "python",
   "pygments_lexer": "ipython3",
   "version": "3.5.3"
  },
  "toc-autonumbering": false,
  "toc-showcode": false,
  "toc-showmarkdowntxt": false,
  "toc-showtags": true
 },
 "nbformat": 4,
 "nbformat_minor": 4
}
