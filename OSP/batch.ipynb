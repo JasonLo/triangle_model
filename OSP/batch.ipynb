{
 "cells": [
  {
   "cell_type": "markdown",
   "metadata": {},
   "source": [
    "# This notebook uses Papermill to batch run models"
   ]
  },
  {
   "cell_type": "code",
   "execution_count": null,
   "metadata": {},
   "outputs": [],
   "source": [
    "%load_ext lab_black\n",
    "import papermill as pm\n",
    "import multiprocessing\n",
    "import pandas as pd\n",
    "import altair as alt\n",
    "import os, itertools, json\n",
    "from meta import model_cfg, connect_gbq\n",
    "from tqdm import tqdm\n",
    "from evaluate import vis, make_df_wnw"
   ]
  },
  {
   "cell_type": "markdown",
   "metadata": {},
   "source": [
    "## Batch configurations"
   ]
  },
  {
   "cell_type": "code",
   "execution_count": null,
   "metadata": {},
   "outputs": [],
   "source": [
    "# import random\n",
    "# seeds = [int(random.random() * 1e5) for x in range(10)]\n",
    "\n",
    "batch_name = \"O2P_noreg_pch\"\n",
    "\n",
    "batch_cfgs = []\n",
    "i = 0\n",
    "\n",
    "param_grid = {\n",
    "    'p_noise': [0., 1., 2., 4.],\n",
    "    'hidden_units': [25, 100],\n",
    "    'cleanup_units': [10, 20, 50, 100]\n",
    "}\n",
    "\n",
    "varying_hpar_names, varying_hpar_values = zip(*param_grid.items())\n",
    "\n",
    "for v in itertools.product(*varying_hpar_values):\n",
    "    i += 1\n",
    "    code_name = batch_name + \"_model_{:04d}\".format(i)\n",
    "\n",
    "    # create this param dict (From varying hparameters)\n",
    "    this_hpar = dict(zip(varying_hpar_names, v))\n",
    "\n",
    "    # Add static params into param dict\n",
    "    this_hpar['code_name'] = code_name\n",
    "    this_hpar['bq_dataset'] = batch_name\n",
    "\n",
    "    this_hpar['sample_name'] = 'hs04'\n",
    "    this_hpar['sample_rng_seed'] = 4321\n",
    "    this_hpar['tf_rng_seed'] = 4444\n",
    "    this_hpar['use_semantic'] = False\n",
    "    this_hpar['input_dim'] = 119\n",
    "    #     this_hpar['hidden_units'] = 100\n",
    "    this_hpar['output_dim'] = 250\n",
    "    #     this_hpar['cleanup_units'] = 50\n",
    "    this_hpar['use_attractor'] = False\n",
    "    this_hpar['rnn_activation'] = 'sigmoid'\n",
    "    this_hpar['regularizer_const'] = None\n",
    "    #     this_hpar['p_noise'] = 0.\n",
    "    this_hpar['tau'] = 0.2\n",
    "    this_hpar['max_unit_time'] = 4.\n",
    "    this_hpar['n_mil_sample'] = 1.\n",
    "    this_hpar['batch_size'] = 128\n",
    "    this_hpar['learning_rate'] = 0.005\n",
    "    this_hpar['save_freq'] = 10\n",
    "\n",
    "    batch_cfg = dict(\n",
    "        sn=i,\n",
    "        in_notebook=\"OSP_master.ipynb\",\n",
    "        code_name=code_name,\n",
    "        model_folder=\"models/\" + code_name + \"/\",\n",
    "        out_notebook=\"models/\" + code_name + \"/output.ipynb\",\n",
    "        params=this_hpar\n",
    "    )\n",
    "\n",
    "    batch_cfgs.append(batch_cfg)"
   ]
  },
  {
   "cell_type": "markdown",
   "metadata": {},
   "source": [
    "## Run batch"
   ]
  },
  {
   "cell_type": "code",
   "execution_count": null,
   "metadata": {},
   "outputs": [],
   "source": [
    "# Run\n",
    "def run_batch(cfg):\n",
    "    try:\n",
    "        print(\"Running model {}\".format(cfg['sn']))\n",
    "\n",
    "        if not os.path.exists(cfg['model_folder']):\n",
    "            os.mkdir(cfg['model_folder'])\n",
    "\n",
    "        pm.execute_notebook(\n",
    "            cfg['in_notebook'],\n",
    "            cfg['out_notebook'],\n",
    "            parameters=cfg['params'],\n",
    "        )\n",
    "\n",
    "    except:\n",
    "        print(\"Error occur in {}\".format(cfg['code_name']))\n",
    "\n",
    "\n",
    "# Run in parallel pool\n",
    "with multiprocessing.Pool(4) as pool:\n",
    "    pool.map(run_batch, batch_cfgs)"
   ]
  },
  {
   "cell_type": "code",
   "execution_count": null,
   "metadata": {},
   "outputs": [],
   "source": [
    "# Push cfgs to BQ\n",
    "bq = connect_gbq()\n",
    "bq.push_cfgs(batch_name, batch_cfgs)"
   ]
  },
  {
   "cell_type": "markdown",
   "metadata": {},
   "source": [
    "#### Shutdown compute engine"
   ]
  },
  {
   "cell_type": "code",
   "execution_count": null,
   "metadata": {},
   "outputs": [],
   "source": [
    "from time import sleep\n",
    "sleep(30)\n",
    "!sudo poweroff  "
   ]
  },
  {
   "cell_type": "markdown",
   "metadata": {},
   "source": [
    "## Compile results"
   ]
  },
  {
   "cell_type": "code",
   "execution_count": null,
   "metadata": {},
   "outputs": [],
   "source": [
    "import os, json\n",
    "import pandas as pd\n",
    "from meta import connect_gbq\n",
    "from evaluate import vis\n",
    "from tqdm import tqdm\n",
    "\n",
    "conn = connect_gbq()\n",
    "cfgs = conn.read_bq_cfg(batch_name)\n",
    "\n",
    "# Read cfg files from BQ\n",
    "print('===== Batch level hyperparams (columns that have >1 unique value) =====')\n",
    "for i, x in enumerate(cfgs.columns):\n",
    "    if not x in ['code_name', 'uuid']:\n",
    "        if len(cfgs[x].unique()) > 1:\n",
    "            print(\n",
    "                'Column <{}> has these unique values: {}'.format(\n",
    "                    x, cfgs[x].unique()\n",
    "                )\n",
    "            )\n",
    "\n",
    "# Parse each run by batch_eval, which aggregate item level data to condition level\n",
    "# and merge Grain and Strain into one single file (Using local files instead of BQ,\n",
    "# may use BQ for way way more data... >5Gbs I guess)\n",
    "\n",
    "\n",
    "def parse_batch_results(cfgs, batch_name):\n",
    "    \"\"\"\n",
    "    Parse and Concat all condition level results\n",
    "    And merge with cfg data (run level meta data) from cfgs\n",
    "    \"\"\"\n",
    "    batch_cdf = pd.DataFrame()\n",
    "\n",
    "    for i in tqdm(range(len(cfgs))):\n",
    "\n",
    "        model_path = 'models/' + batch_name + '_model_{0:04d}'.format(i + 1)\n",
    "\n",
    "        this_eval = vis(\n",
    "            model_path, 'result_strain_item.csv', 'result_grain_item.csv'\n",
    "        )  # Eval lesion and grain\n",
    "        this_eval.parse_cond_df()\n",
    "        batch_cdf = pd.concat([batch_cdf, this_eval.cdf], ignore_index=True)\n",
    "\n",
    "    return pd.merge(batch_cdf, cfgs, 'left', 'code_name')\n",
    "\n",
    "\n",
    "df = parse_batch_results(cfgs, batch_name)\n",
    "os.makedirs('batch_eval/{}'.format(batch_name))\n",
    "df.to_hdf('batch_eval/{}/bcdf.h5'.format(batch_name), key='df', mode='w')"
   ]
  },
  {
   "cell_type": "markdown",
   "metadata": {},
   "source": [
    "# Plotting"
   ]
  },
  {
   "cell_type": "markdown",
   "metadata": {},
   "source": [
    "Create re-useable overview heatmap and word vs. nonword df"
   ]
  },
  {
   "cell_type": "code",
   "execution_count": null,
   "metadata": {},
   "outputs": [],
   "source": [
    "alt.data_transformers.enable(\"default\")\n",
    "alt.data_transformers.disable_max_rows()\n",
    "\n",
    "df = pd.read_hdf('batch_eval/{}/bcdf.h5'.format(batch_name), 'df')\n",
    "\n",
    "# Selectors for interactions\n",
    "sel_run = alt.selection(type=\"multi\", on=\"click\", fields=[\"code_name\"])\n",
    "sel_cond = alt.selection(\n",
    "    type=\"multi\", on=\"click\", fields=[\"cond\"], bind=\"legend\"\n",
    ")\n",
    "\n",
    "# df for overview\n",
    "df_ov = df[(df.epoch == df.epoch.max()) & (df.timestep == df.timestep.max())]\n",
    "\n",
    "# Shared master over-view\n",
    "overview = (\n",
    "    alt.Chart(df_ov).mark_rect().encode(\n",
    "        x=\"p_noise:O\",\n",
    "        y=\"cleanup_units:O\",\n",
    "        row=\"hidden_units:O\",\n",
    "        color=alt.Color(\"acc\", scale=alt.Scale(scheme=\"redyellowgreen\")),\n",
    "        opacity=alt.condition(sel_run, alt.value(1), alt.value(0.1)),\n",
    "        tooltip=[\"code_name\", \"acc\"],\n",
    "    ).add_selection(sel_run).properties(title=\"Overall accuracy\")\n",
    ")\n",
    "\n",
    "# Accuracy Word (HF-INC) vs. Nonwords\n",
    "df_wnw = make_df_wnw(df, selected_cond=['INC_HF', 'ambiguous', 'unambiguous'])"
   ]
  },
  {
   "cell_type": "markdown",
   "metadata": {},
   "source": [
    "### Single run plots"
   ]
  },
  {
   "cell_type": "code",
   "execution_count": null,
   "metadata": {},
   "outputs": [],
   "source": [
    "# Accuracy over epoch at last time step for selected model\n",
    "df_laststep = df[df.timestep == df.timestep.max()]\n",
    "\n",
    "acc_plot = (\n",
    "    alt.Chart(df_laststep).mark_line(point=True).encode(\n",
    "        y=alt.Y(\"acc:Q\", scale=alt.Scale(domain=(0, 1))),\n",
    "        x=\"epoch\",\n",
    "        color=\"cond\",\n",
    "        opacity=alt.condition(sel_cond, alt.value(1), alt.value(0.1)),\n",
    "        tooltip=[\"code_name\", \"acc\"],\n",
    "    ).add_selection(sel_cond).transform_filter(sel_run).properties(\n",
    "        title=\"Full model at final time step\"\n",
    "    )\n",
    ")\n",
    "\n",
    "wnw_plot = (\n",
    "    alt.Chart(df_wnw).mark_point().encode(\n",
    "        y=alt.Y(\"nonword_acc:Q\", scale=alt.Scale(domain=(0, 1))),\n",
    "        x=alt.X(\"word_acc:Q\", scale=alt.Scale(domain=(0, 1))),\n",
    "        color=alt.Color(\"epoch\", scale=alt.Scale(scheme=\"redyellowgreen\")),\n",
    "        tooltip=[\"epoch\", \"word_acc\", \"nonword_acc\"],\n",
    "    ).transform_filter(sel_run).properties(\n",
    "        title=\"Word vs. Nonword accuracy at final time step\"\n",
    "    )\n",
    ")\n",
    "\n",
    "# Plot diagonal\n",
    "diagline = alt.Chart(pd.DataFrame({\n",
    "    'x': [0, 1],\n",
    "    'y': [0, 1]\n",
    "})).mark_line().encode(x='x', y='y')\n",
    "\n",
    "wnw_with_diag = wnw_plot + diagline\n",
    "\n",
    "# overview = overview_strain & overview_grain\n",
    "mainplots = acc_plot & wnw_with_diag\n",
    "splot = overview | mainplots\n",
    "\n",
    "splot.save('batch_eval/{}/single_run.html'.format(batch_name))\n",
    "splot"
   ]
  },
  {
   "cell_type": "markdown",
   "metadata": {},
   "source": [
    "### Multi runs plots"
   ]
  },
  {
   "cell_type": "code",
   "execution_count": null,
   "metadata": {},
   "outputs": [],
   "source": [
    "wnw_mdf = df_wnw.melt(\n",
    "    id_vars=['code_name', 'epoch'],\n",
    "    value_vars=['word_acc', 'nonword_acc'],\n",
    "    var_name='wnw',\n",
    "    value_name='acc'\n",
    ")\n",
    "\n",
    "wnw_mdf['group'] = wnw_mdf.code_name.str.slice(-4\n",
    "                                              ) + '_' + wnw_mdf.wnw.str.slice(\n",
    "                                                  stop=-4\n",
    "                                              )\n",
    "\n",
    "plot_epoch = alt.Chart(wnw_mdf).mark_line(point=True).encode(\n",
    "    y=alt.Y(\"acc:Q\", scale=alt.Scale(domain=(0, 1))),\n",
    "    x=\"epoch:Q\",\n",
    "    color=\"group:N\",\n",
    "    tooltip=[\"code_name\", \"epoch\", \"acc\"],\n",
    ").transform_filter(sel_run).properties(\n",
    "    title=\"Plot word and nonword accuracy by epoch\"\n",
    ")\n",
    "\n",
    "plot_wnw = alt.Chart(df_wnw).mark_line(point=True).encode(\n",
    "    y=alt.Y(\"nonword_acc:Q\", scale=alt.Scale(domain=(0, 1))),\n",
    "    x=alt.X(\"word_acc:Q\", scale=alt.Scale(domain=(0, 1))),\n",
    "    color=\"code_name:N\",\n",
    "    opacity=alt.condition(sel_run, alt.value(1), alt.value(0.1)),\n",
    "    tooltip=[\"code_name\", \"epoch\", \"word_acc\", \"nonword_acc\"],\n",
    ").add_selection(sel_run).transform_filter(sel_run).properties(\n",
    "    title=\"Word vs. Nonword accuracy at final time step\"\n",
    ")\n",
    "\n",
    "multi_plot = overview | (plot_epoch & plot_wnw)\n",
    "multi_plot.save('batch_eval/{}/multi_runs.html'.format(batch_name))\n",
    "multi_plot"
   ]
  },
  {
   "cell_type": "code",
   "execution_count": null,
   "metadata": {},
   "outputs": [],
   "source": [
    "batch_dir = 'batch_eval/{}'.format(batch_name)\n",
    "!jupyter nbconvert --output-dir=$batch_dir --to html batch.ipynb"
   ]
  }
 ],
 "metadata": {
  "kernelspec": {
   "display_name": "Python 3",
   "language": "python",
   "name": "python3"
  },
  "language_info": {
   "codemirror_mode": {
    "name": "ipython",
    "version": 3
   },
   "file_extension": ".py",
   "mimetype": "text/x-python",
   "name": "python",
   "nbconvert_exporter": "python",
   "pygments_lexer": "ipython3",
   "version": "3.5.3"
  }
 },
 "nbformat": 4,
 "nbformat_minor": 4
}
