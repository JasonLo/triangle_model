{
 "cells": [
  {
   "cell_type": "markdown",
   "metadata": {},
   "source": [
    "# Batch run models\n",
    "1. Running model\n",
    "2. Evaluating results"
   ]
  },
  {
   "cell_type": "code",
   "execution_count": null,
   "metadata": {},
   "outputs": [],
   "source": [
    "%load_ext lab_black\n",
    "import os, json, multiprocessing, random\n",
    "import pandas as pd\n",
    "import altair as alt\n",
    "import papermill as pm\n",
    "from time import sleep\n",
    "from meta import model_cfg, make_batch_cfg, check_cfgs_params, parse_batch_results, send_mail\n",
    "from evaluate import make_df_wnw"
   ]
  },
  {
   "cell_type": "markdown",
   "metadata": {},
   "source": [
    "## Make configs"
   ]
  },
  {
   "cell_type": "code",
   "execution_count": null,
   "metadata": {},
   "outputs": [],
   "source": [
    "batch_name = \"O2P_m270_rep\"\n",
    "batch_output_dir = \"batch_eval/{}/\".format(batch_name)\n",
    "\n",
    "# Gen OG random seed: [int(random.random() * 1e5) for x in range(10)]\n",
    "\n",
    "param_grid = {\n",
    "    \"p_noise\": [0.0, 1.0, 3.0],\n",
    "    \"hidden_units\": [50, 100, 250],\n",
    "    \"learning_rate\": [0.05, 0.01, 0.02],\n",
    "    \"rng_seed\":\n",
    "        [53797, 77501, 86017, 61301, 96533, 88467, 85362, 66721, 49596, 71461]\n",
    "}\n",
    "\n",
    "static_hpar = {\n",
    "    \"sample_name\": \"jay\",\n",
    "    \"cleanup_units\": 20,\n",
    "    \"use_semantic\": False,\n",
    "    \"input_dim\": 119,\n",
    "    \"output_dim\": 250,\n",
    "    \"pretrain_attractor\": False,\n",
    "    \"rnn_activation\": \"sigmoid\",\n",
    "    \"regularizer_const\": None,\n",
    "    \"w_initializer\": \"glorot_uniform\",\n",
    "    \"tau\": 0.2,\n",
    "    \"max_unit_time\": 4.0,\n",
    "    \"output_ticks\": 20,\n",
    "    \"optimizer\": \"adam\",\n",
    "    \"n_mil_sample\": 1.0,\n",
    "    \"batch_size\": 128,\n",
    "    \"save_freq\": 10,\n",
    "    \"bq_dataset\": batch_name,\n",
    "}\n",
    "\n",
    "batch_cfgs = make_batch_cfg(\n",
    "    batch_name, static_hpar, param_grid, \"OSP_master.ipynb\"\n",
    ")"
   ]
  },
  {
   "cell_type": "markdown",
   "metadata": {},
   "source": [
    "## Parallel run"
   ]
  },
  {
   "cell_type": "code",
   "execution_count": null,
   "metadata": {},
   "outputs": [],
   "source": [
    "# Run\n",
    "def run_batch(cfg):\n",
    "    \"\"\"\n",
    "    Using papermill to run parameterized notebook\n",
    "    \"\"\"\n",
    "    print(\"Running model {}\".format(cfg['sn']))\n",
    "    os.makedirs(cfg['model_folder'], exist_ok=True)\n",
    "    pm.execute_notebook(\n",
    "        cfg['in_notebook'], cfg['out_notebook'], parameters=cfg['params']\n",
    "    )\n",
    "\n",
    "\n",
    "# Run in parallel pool\n",
    "with multiprocessing.Pool(4) as pool:\n",
    "    pool.map(run_batch, batch_cfgs)"
   ]
  },
  {
   "cell_type": "markdown",
   "metadata": {},
   "source": [
    "Compile and save results"
   ]
  },
  {
   "cell_type": "code",
   "execution_count": null,
   "metadata": {},
   "outputs": [],
   "source": [
    "cfgs, df = parse_batch_results(batch_cfgs)\n",
    "df.to_csv(batch_output_dir + 'bcdf.csv')\n",
    "cfgs.to_csv(batch_output_dir + 'cfgs.csv')"
   ]
  },
  {
   "cell_type": "markdown",
   "metadata": {},
   "source": [
    "Shutdown compute engine"
   ]
  },
  {
   "cell_type": "code",
   "execution_count": null,
   "metadata": {},
   "outputs": [],
   "source": [
    "sleep(30)\n",
    "print('shuting down')\n",
    "!sudo poweroff"
   ]
  },
  {
   "cell_type": "markdown",
   "metadata": {},
   "source": [
    "## Plotting"
   ]
  },
  {
   "cell_type": "markdown",
   "metadata": {},
   "source": [
    "Review the batch structure"
   ]
  },
  {
   "cell_type": "code",
   "execution_count": null,
   "metadata": {},
   "outputs": [],
   "source": [
    "cfgs = pd.read_csv(batch_output_dir + 'cfgs.csv')\n",
    "df = pd.read_csv(batch_output_dir + 'bcdf.csv')"
   ]
  },
  {
   "cell_type": "code",
   "execution_count": null,
   "metadata": {},
   "outputs": [],
   "source": [
    "cfgs.loc[cfgs.learning_rate == 0.05, ]"
   ]
  },
  {
   "cell_type": "code",
   "execution_count": null,
   "metadata": {},
   "outputs": [],
   "source": [
    "check_cfgs_params(cfgs)"
   ]
  },
  {
   "cell_type": "markdown",
   "metadata": {},
   "source": [
    "Create re-useable overview heatmap and word vs. nonword df"
   ]
  },
  {
   "cell_type": "code",
   "execution_count": null,
   "metadata": {},
   "outputs": [],
   "source": [
    "variates = ['hidden_units', 'learning_rate', 'p_noise']\n",
    "\n",
    "df = df.pivot_table(\n",
    "    index=['hidden_units', 'learning_rate', 'p_noise', 'epoch', 'cond']\n",
    ").reset_index()"
   ]
  },
  {
   "cell_type": "code",
   "execution_count": null,
   "metadata": {},
   "outputs": [],
   "source": [
    "alt.data_transformers.enable(\"default\")\n",
    "alt.data_transformers.disable_max_rows()\n",
    "\n",
    "# Selectors for interactions\n",
    "sel_run = alt.selection(type=\"multi\", on=\"click\", fields=[\"code_name\"])\n",
    "\n",
    "########## Overview heatmap model selector ##########\n",
    "df_ov = df[(df.epoch == df.epoch.max()) & (df.timestep == df.timestep.max())]\n",
    "\n",
    "overview = (\n",
    "    alt.Chart(df_ov).mark_rect().encode(\n",
    "        x=\"p_noise:O\",\n",
    "        y=\"hidden_units:O\",\n",
    "        row=\"learning_rate:O\",\n",
    "        column=\"cleanup_units:O\",\n",
    "        color=alt.Color(\n",
    "            \"mean(acc):Q\",\n",
    "            scale=alt.Scale(scheme=\"redyellowgreen\", domain=(0, 1))\n",
    "        ),\n",
    "        opacity=alt.condition(sel_run, alt.value(1), alt.value(0.1)),\n",
    "        tooltip=[\"acc\"] + variates,\n",
    "    ).add_selection(sel_run).properties(\n",
    "        title=\"Overall accuracy (incl. all words and nonwords)\"\n",
    "    )\n",
    ")\n",
    "\n",
    "overview"
   ]
  },
  {
   "cell_type": "code",
   "execution_count": null,
   "metadata": {},
   "outputs": [],
   "source": [
    "########## Word vs. Nonword accuracy over epoch ##########\n",
    "df_wnw = make_df_wnw(\n",
    "    df, selected_cond=['INC_HF', 'unambiguous']\n",
    ")  # Match with Rueckl\n",
    "df_wnw = df_wnw.merge(cfgs)\n",
    "\n",
    "mdf_wnw = df_wnw.melt(\n",
    "    id_vars=['code_name', 'epoch'],\n",
    "    value_vars=['word_acc', 'nonword_acc'],\n",
    "    var_name='wnw',\n",
    "    value_name='acc'\n",
    ")\n",
    "\n",
    "plot_epoch = alt.Chart(mdf_wnw).mark_point(size=80).encode(\n",
    "    y=alt.Y(\"mean(acc):Q\", scale=alt.Scale(domain=(0, 1))),\n",
    "    x=\"epoch:Q\",\n",
    "    color=alt.Color(\"code_name\", legend=None),\n",
    "    shape=\"wnw:N\",\n",
    "    opacity=alt.condition(sel_run, alt.value(1), alt.value(0)),\n",
    "    tooltip=[\"code_name\", \"epoch\", \"acc\"],\n",
    ").add_selection(sel_run).properties(\n",
    "    title=\"Plot word and nonword accuracy by epoch\"\n",
    ")\n",
    "\n",
    "########## Word vs. Nonword plot with diagonal ##########\n",
    "\n",
    "wnw_line = alt.Chart(df_wnw).mark_line().encode(\n",
    "    y=alt.Y(\"mean(nonword_acc):Q\", scale=alt.Scale(domain=(0, 1))),\n",
    "    x=alt.X(\"word_acc:Q\", scale=alt.Scale(domain=(0, 1))),\n",
    "    color=alt.Color(\"code_name\", legend=None),\n",
    "    opacity=alt.condition(sel_run, alt.value(1), alt.value(0)),\n",
    "    tooltip=[\"code_name\", \"epoch\", \"word_acc\", \"nonword_acc\"] + variates,\n",
    ")\n",
    "\n",
    "wnw_point = wnw_line.mark_point().encode(\n",
    "    color=alt.Color(\"epoch\", scale=alt.Scale(scheme=\"redyellowgreen\")),\n",
    ")\n",
    "\n",
    "diagonal = alt.Chart(pd.DataFrame({\n",
    "    'x': [0, 1],\n",
    "    'y': [0, 1]\n",
    "})).mark_line(color='black').encode(x='x', y='y')\n",
    "\n",
    "wnw = diagonal + wnw_line + wnw_point\n",
    "\n",
    "wnw_interactive = wnw.add_selection(sel_run).properties(\n",
    "    title=\"Word vs. Nonword accuracy at final time step\"\n",
    ")\n",
    "\n",
    "dashboard = overview | plot_epoch | wnw_interactive\n",
    "dashboard.save(batch_output_dir + 'dashboard.html')\n",
    "dashboard"
   ]
  },
  {
   "cell_type": "markdown",
   "metadata": {},
   "source": [
    "Main effect plot"
   ]
  },
  {
   "cell_type": "code",
   "execution_count": null,
   "metadata": {},
   "outputs": [],
   "source": [
    "def main_effect_plot(df, var):\n",
    "\n",
    "    pdf = df.pivot_table(\n",
    "        index=['epoch', var], values=['word_acc', 'nonword_acc']\n",
    "    )\n",
    "\n",
    "    pdf.reset_index(inplace=True)\n",
    "    pdf['word_advantage'] = pdf.word_acc - pdf.nonword_acc\n",
    "\n",
    "    sel_run = alt.selection(type=\"multi\", on=\"click\", fields=[var])\n",
    "\n",
    "    overview_wacc = alt.Chart(pdf).mark_rect().encode(\n",
    "        y=alt.Y(var, type=\"ordinal\"),\n",
    "        x='epoch:O',\n",
    "        color=alt.Color(\n",
    "            \"word_acc\", scale=alt.Scale(scheme=\"redyellowgreen\", domain=(0, 1))\n",
    "        ),\n",
    "        opacity=alt.condition(sel_run, alt.value(1), alt.value(0.1)),\n",
    "        tooltip=[\"word_acc\", \"nonword_acc\"],\n",
    "    ).add_selection(sel_run).properties(\n",
    "        title=\"Word - Nonword accuracy (word accuracy) heatmap by {} and epoch\".\n",
    "        format(var)\n",
    "    )\n",
    "\n",
    "    overview_wadv = overview_wacc.encode(\n",
    "        color=alt.Color(\n",
    "            \"word_advantage\",\n",
    "            scale=alt.Scale(scheme=\"redyellowgreen\", domain=(-.2, .2))\n",
    "        )\n",
    "    ).properties(\n",
    "        title=\"Word - Nonword accuracy (word advantage) heatmap by {} and epoch\"\n",
    "        .format(var)\n",
    "    )\n",
    "\n",
    "    wnw_line = alt.Chart(pdf).mark_line().encode(\n",
    "        y=alt.Y(\"nonword_acc:Q\", scale=alt.Scale(domain=(0, 1))),\n",
    "        x=alt.X(\"word_acc:Q\", scale=alt.Scale(domain=(0, 1))),\n",
    "        color=alt.Color(var, type=\"ordinal\", scale=alt.Scale(scheme=\"magma\")),\n",
    "        opacity=alt.condition(sel_run, alt.value(0.9), alt.value(0)),\n",
    "        tooltip=[var, \"epoch\", \"word_acc\", \"nonword_acc\"],\n",
    "    )\n",
    "\n",
    "    diagonal = alt.Chart(pd.DataFrame({\n",
    "        'x': [0, 1],\n",
    "        'y': [0, 1]\n",
    "    })).mark_line(color='black').encode(x='x', y='y')\n",
    "\n",
    "    return overview_wacc | overview_wadv | (diagonal + wnw_line)\n",
    "\n",
    "\n",
    "p = alt.vconcat()\n",
    "for v in variates:\n",
    "    p &= main_effect_plot(df_wnw, v)\n",
    "\n",
    "p.save(batch_output_dir + 'main_effects.html')\n",
    "p"
   ]
  },
  {
   "cell_type": "code",
   "execution_count": null,
   "metadata": {},
   "outputs": [],
   "source": [
    "df_wnw['word_advantage'] = df_wnw.word_acc - df_wnw.nonword_acc"
   ]
  },
  {
   "cell_type": "code",
   "execution_count": null,
   "metadata": {},
   "outputs": [],
   "source": [
    "base = alt.Chart(df_wnw).mark_point().encode(\n",
    "    y=alt.Y(\"nonword_acc:Q\", scale=alt.Scale(domain=(0, 1))),\n",
    "    x=alt.X(\"word_acc:Q\", scale=alt.Scale(domain=(0, 1))),\n",
    "    color=alt.Color(\n",
    "        \"epoch\", scale=alt.Scale(scheme=\"redyellowgreen\", domain=(0, 100))\n",
    "    ),\n",
    "    opacity=alt.value(0.2),\n",
    "    tooltip=[\"code_name\", \"epoch\", \"word_acc\", \"nonword_acc\"],\n",
    ")\n",
    "\n",
    "diagonal = alt.Chart(pd.DataFrame({\n",
    "    'x': [0, 1],\n",
    "    'y': [0, 1]\n",
    "})).mark_line(color='black').encode(x='x', y='y')\n",
    "\n",
    "plot = diagonal + base\n",
    "\n",
    "plot.save(batch_output_dir + 'all_models_wnw.html')\n",
    "plot"
   ]
  },
  {
   "cell_type": "code",
   "execution_count": null,
   "metadata": {},
   "outputs": [],
   "source": [
    "base = alt.Chart(df_wnw).mark_rect().encode(\n",
    "    x=\"p_noise:O\",\n",
    "    y=\"hidden_units:O\",\n",
    "    row=\"learning_rate:O\",\n",
    "    column=\"epoch:O\",\n",
    "    tooltip=[\n",
    "        \"p_noise\", \"hidden_units\", \"cleanup_units\", \"learning_rate\", \"word_acc\",\n",
    "        \"nonword_acc\"\n",
    "    ],\n",
    ")\n",
    "\n",
    "w = base.encode(\n",
    "    color=alt.\n",
    "    Color(\"word_acc\", scale=alt.Scale(scheme=\"redyellowgreen\", domain=(0, 1)))\n",
    ").properties(title=\"Word acc\")\n",
    "\n",
    "w.save(batch_output_dir + 'word.html')"
   ]
  },
  {
   "cell_type": "code",
   "execution_count": null,
   "metadata": {},
   "outputs": [],
   "source": [
    "nw = base.encode(\n",
    "    color=alt.Color(\n",
    "        \"nonword_acc\", scale=alt.Scale(scheme=\"redyellowgreen\", domain=(0, 1))\n",
    "    )\n",
    ").properties(title=\"Nonword acc\")\n",
    "nw.save(batch_output_dir + 'nonword.html')"
   ]
  },
  {
   "cell_type": "code",
   "execution_count": null,
   "metadata": {},
   "outputs": [],
   "source": [
    "adv = base.encode(\n",
    "    color=alt.Color(\n",
    "        \"word_advantage\",\n",
    "        scale=alt.Scale(scheme=\"redyellowgreen\", domain=(-.3, .3))\n",
    "    )\n",
    ").properties(title=\"Word advantage\")\n",
    "\n",
    "adv.save(batch_output_dir + 'wadv.html')"
   ]
  },
  {
   "cell_type": "code",
   "execution_count": null,
   "metadata": {},
   "outputs": [],
   "source": [
    "df_agg = df_wnw.pivot_table(\n",
    "    index=['epoch', 'learning_rate', 'hidden_units', 'p_noise']\n",
    ")\n",
    "\n",
    "df_agg.reset_index(inplace=True)\n",
    "df_agg"
   ]
  },
  {
   "cell_type": "code",
   "execution_count": null,
   "metadata": {},
   "outputs": [],
   "source": [
    "plot_pnoise = alt.Chart().mark_line().encode(\n",
    "    y=alt.Y(\"nonword_acc:Q\", scale=alt.Scale(domain=(0, 1))),\n",
    "    x=alt.X(\"word_acc:Q\", scale=alt.Scale(domain=(0, 1))),\n",
    "    color=alt.Color(\"p_noise\", type=\"ordinal\", scale=alt.Scale(scheme=\"reds\")),\n",
    "    tooltip=[\n",
    "        \"epoch\", \"hidden_units\", \"cleanup_units\", \"p_noise\", \"learning_rate\",\n",
    "        \"word_acc\", \"nonword_acc\"\n",
    "    ],\n",
    ")\n",
    "\n",
    "diagonal = alt.Chart(pd.DataFrame({\n",
    "    'x': [0, 1],\n",
    "    'y': [0, 1]\n",
    "})).mark_line(color='black').encode(x='x', y='y')\n",
    "\n",
    "p = alt.layer(diagonal + plot_pnoise, data=df_agg).facet(\n",
    "    row=\"hidden_units:O\", column=\"learning_rate:O\"\n",
    ")\n",
    "\n",
    "p.save(batch_output_dir + 'p_noise.html')"
   ]
  },
  {
   "cell_type": "code",
   "execution_count": null,
   "metadata": {},
   "outputs": [],
   "source": [
    "plot_hidden = alt.Chart().mark_line().encode(\n",
    "    y=alt.Y(\"nonword_acc:Q\", scale=alt.Scale(domain=(0, 1))),\n",
    "    x=alt.X(\"word_acc:Q\", scale=alt.Scale(domain=(0, 1))),\n",
    "    color=alt.Color(\n",
    "        \"hidden_units\", type=\"ordinal\", scale=alt.Scale(scheme=\"blues\")\n",
    "    ),\n",
    "    tooltip=[\n",
    "        \"epoch\", \"hidden_units\", \"cleanup_units\", \"p_noise\", \"learning_rate\",\n",
    "        \"word_acc\", \"nonword_acc\"\n",
    "    ],\n",
    ")\n",
    "\n",
    "h = alt.layer(diagonal + plot_hidden,\n",
    "              data=df_agg).facet(row=\"p_noise:O\", column=\"learning_rate:O\")\n",
    "\n",
    "h.save(batch_output_dir + 'hidden.html')"
   ]
  },
  {
   "cell_type": "code",
   "execution_count": null,
   "metadata": {},
   "outputs": [],
   "source": [
    "plot_lr = alt.Chart().mark_line().encode(\n",
    "    y=alt.Y(\"nonword_acc:Q\", scale=alt.Scale(domain=(0, 1))),\n",
    "    x=alt.X(\"word_acc:Q\", scale=alt.Scale(domain=(0, 1))),\n",
    "    color=alt.Color(\n",
    "        \"learning_rate\", type=\"ordinal\", scale=alt.Scale(scheme=\"greens\")\n",
    "    ),\n",
    "    tooltip=[\n",
    "        \"epoch\", \"hidden_units\", \"cleanup_units\", \"p_noise\", \"learning_rate\",\n",
    "        \"word_acc\", \"nonword_acc\"\n",
    "    ],\n",
    ")\n",
    "\n",
    "lr = alt.layer(diagonal + plot_lr,\n",
    "               data=df_agg).facet(row=\"hidden_units:O\", column=\"p_noise:O\")\n",
    "\n",
    "lr.save(batch_output_dir + 'lr.html')"
   ]
  },
  {
   "cell_type": "markdown",
   "metadata": {},
   "source": [
    "Save notebook to html"
   ]
  },
  {
   "cell_type": "code",
   "execution_count": null,
   "metadata": {},
   "outputs": [],
   "source": [
    "!jupyter nbconvert --output-dir=$batch_output_dir --to html batch.ipynb"
   ]
  }
 ],
 "metadata": {
  "kernelspec": {
   "display_name": "Python 3",
   "language": "python",
   "name": "python3"
  },
  "language_info": {
   "codemirror_mode": {
    "name": "ipython",
    "version": 3
   },
   "file_extension": ".py",
   "mimetype": "text/x-python",
   "name": "python",
   "nbconvert_exporter": "python",
   "pygments_lexer": "ipython3",
   "version": "3.5.3"
  },
  "toc-autonumbering": false,
  "toc-showcode": false,
  "toc-showmarkdowntxt": true,
  "toc-showtags": false
 },
 "nbformat": 4,
 "nbformat_minor": 4
}
