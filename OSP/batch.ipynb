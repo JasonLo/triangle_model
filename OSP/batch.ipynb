{
 "cells": [
  {
   "cell_type": "markdown",
   "metadata": {},
   "source": [
    "# Batch run models\n",
    "1. Running model\n",
    "2. Evaluating results"
   ]
  },
  {
   "cell_type": "code",
   "execution_count": null,
   "metadata": {},
   "outputs": [],
   "source": [
    "%load_ext lab_black\n",
    "import os, json, multiprocessing\n",
    "import pandas as pd\n",
    "import altair as alt\n",
    "import papermill as pm\n",
    "from time import sleep\n",
    "from meta import model_cfg, make_batch_cfg, check_cfgs_params, parse_batch_results\n",
    "from evaluate import make_df_wnw"
   ]
  },
  {
   "cell_type": "markdown",
   "metadata": {},
   "source": [
    "## Run batch\n",
    "Make configs"
   ]
  },
  {
   "cell_type": "code",
   "execution_count": null,
   "metadata": {},
   "outputs": [],
   "source": [
    "# import random\n",
    "# seeds = [int(random.random() * 1e5) for x in range(10)]\n",
    "\n",
    "batch_name = \"O2P_rer2019\"\n",
    "batch_output_dir = \"batch_eval/{}/\".format(batch_name)\n",
    "\n",
    "param_grid = {\n",
    "    \"p_noise\": [0.0, 1.0, 2.0, 3.0],\n",
    "    \"hidden_units\": [50, 100, 150, 200],\n",
    "    \"learning_rate\": [0.001, 0.005, 0.01],\n",
    "    \"cleanup_units\": [10, 50],\n",
    "}\n",
    "\n",
    "static_hpar = {\n",
    "    \"sample_name\": \"jay\",\n",
    "    \"rng_seed\": 4321,\n",
    "    \"use_semantic\": False,\n",
    "    \"input_dim\": 119,\n",
    "    \"output_dim\": 250,\n",
    "    \"use_attractor\": False,\n",
    "    \"rnn_activation\": \"sigmoid\",\n",
    "    \"regularizer_const\": None,\n",
    "    \"w_initializer\": \"glorot_uniform\",\n",
    "    \"tau\": 0.2,\n",
    "    \"max_unit_time\": 4.0,\n",
    "    \"optimizer\": \"adam\",\n",
    "    \"n_mil_sample\": 1.0,\n",
    "    \"batch_size\": 128,\n",
    "    \"save_freq\": 10,\n",
    "    \"bq_dataset\": batch_name,\n",
    "}\n",
    "\n",
    "batch_cfgs = make_batch_cfg(batch_name, static_hpar, param_grid, \"OSP_master.ipynb\")"
   ]
  },
  {
   "cell_type": "markdown",
   "metadata": {},
   "source": [
    "Parallel run"
   ]
  },
  {
   "cell_type": "code",
   "execution_count": null,
   "metadata": {},
   "outputs": [],
   "source": [
    "# Run\n",
    "def run_batch(cfg):\n",
    "    \"\"\"\n",
    "    Using papermill to run parameterized notebook\n",
    "    \"\"\"\n",
    "    print(\"Running model {}\".format(cfg['sn']))\n",
    "    os.makedirs(cfg['model_folder'], exist_ok=True)\n",
    "    pm.execute_notebook(\n",
    "        cfg['in_notebook'],\n",
    "        cfg['out_notebook'],\n",
    "        parameters=cfg['params'],\n",
    "    )\n",
    "\n",
    "# Run in parallel pool\n",
    "with multiprocessing.Pool(4) as pool:\n",
    "    pool.map(run_batch, batch_cfgs)"
   ]
  },
  {
   "cell_type": "markdown",
   "metadata": {},
   "source": [
    "Compile and save results"
   ]
  },
  {
   "cell_type": "code",
   "execution_count": null,
   "metadata": {},
   "outputs": [],
   "source": [
    "df = parse_batch_results(cfgs)\n",
    "df.to_csv(batch_output_dir + 'bcdf.csv')"
   ]
  },
  {
   "cell_type": "markdown",
   "metadata": {},
   "source": [
    "Shutdown compute engine"
   ]
  },
  {
   "cell_type": "code",
   "execution_count": null,
   "metadata": {},
   "outputs": [],
   "source": [
    "send_mail(batch_name)\n",
    "sleep(30)\n",
    "!sudo poweroff  "
   ]
  },
  {
   "cell_type": "markdown",
   "metadata": {},
   "source": [
    "## Plotting"
   ]
  },
  {
   "cell_type": "markdown",
   "metadata": {},
   "source": [
    "Review the batch structure"
   ]
  },
  {
   "cell_type": "code",
   "execution_count": null,
   "metadata": {},
   "outputs": [],
   "source": [
    "check_cfgs_params(cfgs)"
   ]
  },
  {
   "cell_type": "markdown",
   "metadata": {},
   "source": [
    "Create re-useable overview heatmap and word vs. nonword df"
   ]
  },
  {
   "cell_type": "code",
   "execution_count": null,
   "metadata": {},
   "outputs": [],
   "source": [
    "alt.data_transformers.enable(\"default\")\n",
    "alt.data_transformers.disable_max_rows()\n",
    "\n",
    "# Selectors for interactions\n",
    "sel_run = alt.selection(type=\"multi\", on=\"click\", fields=[\"code_name\"])\n",
    "sel_cond = alt.selection(\n",
    "    type=\"multi\", on=\"click\", fields=[\"cond\"], bind=\"legend\"\n",
    ")\n",
    "\n",
    "# df for overview\n",
    "df_ov = df[(df.epoch == df.epoch.max()) & (df.timestep == df.timestep.max())]\n",
    "\n",
    "# Shared master over-view\n",
    "overview = (\n",
    "    alt.Chart(df_ov).mark_rect().encode(\n",
    "        x=\"p_noise:O\",\n",
    "        y=\"hidden_units:O\",\n",
    "        row=\"learning_rate:O\",\n",
    "        column=\"cleanup_units:O\",\n",
    "        color=alt.Color(\"acc\", scale=alt.Scale(scheme=\"redyellowgreen\")),\n",
    "        opacity=alt.condition(sel_run, alt.value(1), alt.value(0)),\n",
    "        tooltip=[\"code_name\", \"acc\"],\n",
    "    ).add_selection(sel_run).properties(title=\"Overall accuracy\")\n",
    ")\n",
    "\n",
    "# Accuracy Word (HF-INC) vs. Nonwords\n",
    "df_wnw = make_df_wnw(df, selected_cond=['INC_HF', 'ambiguous', 'unambiguous'])"
   ]
  },
  {
   "cell_type": "markdown",
   "metadata": {},
   "source": [
    "Single run plots"
   ]
  },
  {
   "cell_type": "code",
   "execution_count": null,
   "metadata": {},
   "outputs": [],
   "source": [
    "# Accuracy over epoch at last time step for selected model\n",
    "df_laststep = df[df.timestep == df.timestep.max()]\n",
    "\n",
    "acc_plot = (\n",
    "    alt.Chart(df_laststep).mark_line(point=True).encode(\n",
    "        y=alt.Y(\"acc:Q\", scale=alt.Scale(domain=(0, 1))),\n",
    "        x=\"epoch\",\n",
    "        color=\"cond\",\n",
    "        opacity=alt.condition(sel_cond, alt.value(1), alt.value(0)),\n",
    "        tooltip=[\"code_name\", \"acc\"],\n",
    "    ).add_selection(sel_cond).transform_filter(sel_run).properties(\n",
    "        title=\"Full model at final time step\"\n",
    "    )\n",
    ")\n",
    "\n",
    "wnw_plot = (\n",
    "    alt.Chart(df_wnw).mark_point().encode(\n",
    "        y=alt.Y(\"nonword_acc:Q\", scale=alt.Scale(domain=(0, 1))),\n",
    "        x=alt.X(\"word_acc:Q\", scale=alt.Scale(domain=(0, 1))),\n",
    "        color=alt.Color(\"epoch\", scale=alt.Scale(scheme=\"redyellowgreen\")),\n",
    "        tooltip=[\"epoch\", \"word_acc\", \"nonword_acc\"],\n",
    "    ).transform_filter(sel_run).properties(\n",
    "        title=\"Word vs. Nonword accuracy at final time step\"\n",
    "    )\n",
    ")\n",
    "\n",
    "# Plot diagonal\n",
    "diagline = alt.Chart(pd.DataFrame({\n",
    "    'x': [0, 1],\n",
    "    'y': [0, 1]\n",
    "})).mark_line(color='black').encode(x='x', y='y')\n",
    "\n",
    "wnw_with_diag = wnw_plot + diagline\n",
    "\n",
    "# overview = overview_strain & overview_grain\n",
    "mainplots = acc_plot & wnw_with_diag\n",
    "splot = overview | mainplots\n",
    "\n",
    "splot.save(batch_output_dir + 'single_run.html')\n",
    "splot"
   ]
  },
  {
   "cell_type": "markdown",
   "metadata": {},
   "source": [
    "Multi runs plots"
   ]
  },
  {
   "cell_type": "code",
   "execution_count": null,
   "metadata": {},
   "outputs": [],
   "source": [
    "wnw_mdf = df_wnw.melt(\n",
    "    id_vars=['code_name', 'epoch'],\n",
    "    value_vars=['word_acc', 'nonword_acc'],\n",
    "    var_name='wnw',\n",
    "    value_name='acc'\n",
    ")\n",
    "\n",
    "plot_epoch = alt.Chart(wnw_mdf).mark_point(size=80).encode(\n",
    "    y=alt.Y(\"acc:Q\", scale=alt.Scale(domain=(0, 1))),\n",
    "    x=\"epoch:Q\",\n",
    "    color=\"code_name:N\",\n",
    "    shape=\"wnw:N\",\n",
    "    opacity=alt.condition(sel_run, alt.value(1), alt.value(0)),\n",
    "    tooltip=[\"code_name\", \"epoch\", \"acc\"],\n",
    ").add_selection(sel_run).transform_filter(sel_run).properties(\n",
    "    title=\"Plot word and nonword accuracy by epoch\"\n",
    ")\n",
    "\n",
    "plot_wnw = alt.Chart(df_wnw).mark_line(point=True).encode(\n",
    "    y=alt.Y(\"nonword_acc:Q\", scale=alt.Scale(domain=(0, 1))),\n",
    "    x=alt.X(\"word_acc:Q\", scale=alt.Scale(domain=(0, 1))),\n",
    "    color=\"code_name:N\",\n",
    "    opacity=alt.condition(sel_run, alt.value(1), alt.value(0)),\n",
    "    tooltip=[\"code_name\", \"epoch\", \"word_acc\", \"nonword_acc\"],\n",
    ").add_selection(sel_run).properties(\n",
    "    title=\"Word vs. Nonword accuracy at final time step\"\n",
    ")\n",
    "\n",
    "plot_wnw_diag = plot_wnw + diagline\n",
    "\n",
    "multi_plot = overview | (plot_epoch & plot_wnw_diag)\n",
    "multi_plot.save(batch_output_dir + 'multi_runs.html')\n",
    "multi_plot"
   ]
  },
  {
   "cell_type": "markdown",
   "metadata": {},
   "source": [
    "## Save and shutdown"
   ]
  },
  {
   "cell_type": "code",
   "execution_count": null,
   "metadata": {},
   "outputs": [],
   "source": [
    "# !jupyter nbconvert --output-dir=$batch_output_dir --to html batch.ipynb"
   ]
  },
  {
   "cell_type": "markdown",
   "metadata": {},
   "source": [
    "### Maybe useful"
   ]
  },
  {
   "cell_type": "code",
   "execution_count": null,
   "metadata": {},
   "outputs": [],
   "source": [
    "def main_effect_plot(df, var):\n",
    "\n",
    "    pdf = df.pivot_table(\n",
    "        index=['epoch', var], values=['word_acc', 'nonword_acc']\n",
    "    )\n",
    "\n",
    "    pdf.reset_index(inplace=True)\n",
    "    pdf['word_advantage'] = pdf.word_acc - pdf.nonword_acc\n",
    "\n",
    "    sel_var = alt.selection(type=\"multi\", on=\"click\", fields=[var])\n",
    "\n",
    "    overview_bias = (\n",
    "        alt.Chart(pdf).mark_rect().encode(\n",
    "            y=alt.Y(var, type=\"ordinal\"),\n",
    "            x='epoch:O',\n",
    "            color=alt.Color(\n",
    "                \"word_advantage\",\n",
    "                scale=alt.Scale(scheme=\"redyellowgreen\", domain=(-.2, .2))\n",
    "            ),\n",
    "            opacity=alt.condition(sel_var, alt.value(1), alt.value(0.1)),\n",
    "            tooltip=[\"word_acc\", \"nonword_acc\"],\n",
    "        ).add_selection(sel_var).properties(\n",
    "            title=\n",
    "            \"Word - Nonword accuracy (word_advantage) heatmap by {} and epoch\".\n",
    "            format(var)\n",
    "        )\n",
    "    )\n",
    "\n",
    "    overview_wacc = (\n",
    "        alt.Chart(pdf).mark_rect().encode(\n",
    "            y=alt.Y(var, type=\"ordinal\"),\n",
    "            x='epoch:O',\n",
    "            color=alt.Color(\n",
    "                \"word_acc\",\n",
    "                scale=alt.Scale(scheme=\"redyellowgreen\", domain=(0, 1))\n",
    "            ),\n",
    "            opacity=alt.condition(sel_var, alt.value(1), alt.value(0.1)),\n",
    "            tooltip=[\"word_acc\", \"nonword_acc\"],\n",
    "        ).add_selection(sel_var).properties(\n",
    "            title=\n",
    "            \"Word - Nonword accuracy (word_advantage) heatmap by {} and epoch\".\n",
    "            format(var)\n",
    "        )\n",
    "    )\n",
    "\n",
    "    wnw_line = alt.Chart(pdf).mark_line().encode(\n",
    "        y=alt.Y(\"nonword_acc:Q\", scale=alt.Scale(domain=(0, 1))),\n",
    "        x=alt.X(\"word_acc:Q\", scale=alt.Scale(domain=(0, 1))),\n",
    "        color=alt.Color(var, type=\"ordinal\", scale=alt.Scale(scheme=\"magma\")),\n",
    "        opacity=alt.condition(sel_var, alt.value(0.9), alt.value(0)),\n",
    "        tooltip=[var, \"epoch\", \"word_acc\", \"nonword_acc\"],\n",
    "    )\n",
    "\n",
    "    diagonal = alt.Chart(pd.DataFrame({\n",
    "        'x': [0, 1],\n",
    "        'y': [0, 1]\n",
    "    })).mark_line(color='black').encode(x='x', y='y')\n",
    "\n",
    "    wnw = diagonal + wnw_line\n",
    "\n",
    "    return overview_wacc | overview_bias | wnw"
   ]
  },
  {
   "cell_type": "code",
   "execution_count": null,
   "metadata": {},
   "outputs": [],
   "source": [
    "def main_dashboard(df):\n",
    "\n",
    "    sel_run = alt.selection(type=\"multi\", on=\"click\", fields=[\"code_name\"])\n",
    "\n",
    "    # df for overview\n",
    "    df_ov = df[df.epoch == df.epoch.max()]\n",
    "\n",
    "    # Shared master over-view\n",
    "    overview = (\n",
    "        alt.Chart(df_ov).mark_rect().encode(\n",
    "            x=\"p_noise:O\",\n",
    "            y=\"hidden_units:O\",\n",
    "            row=\"learning_rate:O\",\n",
    "            column=\"cleanup_units:O\",\n",
    "            color=alt.Color(\n",
    "                \"word_acc\",\n",
    "                scale=alt.Scale(scheme=\"redyellowgreen\", domain=(0, 1))\n",
    "            ),\n",
    "            opacity=alt.condition(sel_run, alt.value(1), alt.value(0.1)),\n",
    "            tooltip=[\n",
    "                \"code_name\", \"p_noise\", \"hidden_units\", \"cleanup_units\",\n",
    "                \"learning_rate\", \"word_acc\", \"nonword_acc\"\n",
    "            ],\n",
    "        ).add_selection(sel_run).properties(title=\"Overall accuracy\")\n",
    "    )\n",
    "\n",
    "    wnw_mdf = df.melt(\n",
    "        id_vars=['code_name', 'epoch'],\n",
    "        value_vars=['word_acc', 'nonword_acc'],\n",
    "        var_name='wnw',\n",
    "        value_name='acc'\n",
    "    )\n",
    "\n",
    "    plot_epoch = alt.Chart(wnw_mdf).mark_point(size=80).encode(\n",
    "        y=alt.Y(\"acc:Q\", scale=alt.Scale(domain=(0, 1))),\n",
    "        x=\"epoch:Q\",\n",
    "        color=\"code_name:N\",\n",
    "        shape=\"wnw:N\",\n",
    "        opacity=alt.condition(sel_run, alt.value(1), alt.value(0)),\n",
    "        tooltip=[\"code_name\", \"epoch\", \"acc\"],\n",
    "    ).add_selection(sel_run).properties(\n",
    "        title=\"Plot word and nonword accuracy by epoch\"\n",
    "    )\n",
    "\n",
    "    wnw_line = alt.Chart(df).mark_line(point=True).encode(\n",
    "        y=alt.Y(\"nonword_acc:Q\", scale=alt.Scale(domain=(0, 1))),\n",
    "        x=alt.X(\"word_acc:Q\", scale=alt.Scale(domain=(0, 1))),\n",
    "        color=\"code_name:N\",\n",
    "        opacity=alt.condition(sel_run, alt.value(1), alt.value(0)),\n",
    "        tooltip=[\"code_name\", \"epoch\", \"word_acc\", \"nonword_acc\"],\n",
    "    ).add_selection(sel_run).properties(\n",
    "        title=\"Word vs. Nonword accuracy at final time step\"\n",
    "    )\n",
    "\n",
    "    diagonal = alt.Chart(pd.DataFrame({\n",
    "        'x': [0, 1],\n",
    "        'y': [0, 1]\n",
    "    })).mark_line(color='black').encode(x='x', y='y')\n",
    "\n",
    "    return overview | (plot_epoch & (diagonal + wnw_line))"
   ]
  }
 ],
 "metadata": {
  "kernelspec": {
   "display_name": "Python 3",
   "language": "python",
   "name": "python3"
  },
  "language_info": {
   "codemirror_mode": {
    "name": "ipython",
    "version": 3
   },
   "file_extension": ".py",
   "mimetype": "text/x-python",
   "name": "python",
   "nbconvert_exporter": "python",
   "pygments_lexer": "ipython3",
   "version": "3.7.6"
  }
 },
 "nbformat": 4,
 "nbformat_minor": 4
}
