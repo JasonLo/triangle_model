{
 "cells": [
  {
   "cell_type": "markdown",
   "metadata": {},
   "source": [
    "# Batch run models"
   ]
  },
  {
   "cell_type": "code",
   "execution_count": null,
   "metadata": {},
   "outputs": [],
   "source": [
    "%load_ext lab_black\n",
    "import os, multiprocessing, time\n",
    "import papermill as pm\n",
    "from meta import model_cfg, make_batch_cfg, parse_batch_results"
   ]
  },
  {
   "cell_type": "markdown",
   "metadata": {},
   "source": [
    "## Make configs"
   ]
  },
  {
   "cell_type": "code",
   "execution_count": null,
   "metadata": {},
   "outputs": [],
   "source": [
    "batch_name = \"O2P_m270_3other_injection_timing\"\n",
    "batch_output_dir = \"batch_eval/{}/\".format(batch_name)\n",
    "\n",
    "# Gen OG random seed: [int(random.random() * 1e5) for x in range(10)]\n",
    "# Below using the same seed as m270, but due to dictionary change, it is qualitatively not the same anymore\n",
    "\n",
    "param_grid = {\n",
    "    \"p_noise\": [0.0, 1.0, 3.0],\n",
    "    \"hidden_units\": [50, 100, 250],\n",
    "    \"learning_rate\": [0.05, 0.01, 0.02],\n",
    "    \"output_ticks\": [1, 6, 11],\n",
    "    \"rng_seed\":\n",
    "        [53797, 77501, 86017, 61301, 96533, 88467, 85362, 66721, 49596, 71461]\n",
    "}\n",
    "\n",
    "static_hpar = {\n",
    "    \"sample_name\": \"jay\",\n",
    "    \"cleanup_units\": 20,\n",
    "    \"use_semantic\": False,\n",
    "    \"input_dim\": 119,\n",
    "    \"output_dim\": 250,\n",
    "    \"pretrain_attractor\": False,\n",
    "    \"rnn_activation\": \"sigmoid\",\n",
    "    \"regularizer_const\": None,\n",
    "    \"w_initializer\": \"glorot_uniform\",\n",
    "    \"tau\": 0.2,\n",
    "    \"max_unit_time\": 4.0,\n",
    "    \"optimizer\": \"adam\",\n",
    "    \"n_mil_sample\": 1.0,\n",
    "    \"batch_size\": 128,\n",
    "    \"save_freq\": 10,\n",
    "    \"bq_dataset\": batch_name,\n",
    "}\n",
    "\n",
    "batch_cfgs = make_batch_cfg(\n",
    "    batch_name, static_hpar, param_grid, \"OSP_master.ipynb\"\n",
    ")"
   ]
  },
  {
   "cell_type": "markdown",
   "metadata": {},
   "source": [
    "## Parallel run"
   ]
  },
  {
   "cell_type": "code",
   "execution_count": null,
   "metadata": {},
   "outputs": [],
   "source": [
    "# Run\n",
    "def run_batch(cfg):\n",
    "    \"\"\"\n",
    "    Using papermill to run parameterized notebook\n",
    "    \"\"\"\n",
    "\n",
    "    if not os.path.isdir(cfg['model_folder']):\n",
    "        print(\"Running model {}\".format(cfg['sn']))\n",
    "        os.makedirs(cfg['model_folder'], exist_ok=True)\n",
    "        pm.execute_notebook(\n",
    "            cfg['in_notebook'], cfg['out_notebook'], parameters=cfg['params']\n",
    "        )\n",
    "\n",
    "\n",
    "# Run in parallel pool\n",
    "with multiprocessing.Pool(4) as pool:\n",
    "    pool.map(run_batch, batch_cfgs)"
   ]
  },
  {
   "cell_type": "markdown",
   "metadata": {},
   "source": [
    "Compile and save results"
   ]
  },
  {
   "cell_type": "code",
   "execution_count": null,
   "metadata": {},
   "outputs": [],
   "source": [
    "cfgs, df = parse_batch_results(batch_cfgs)\n",
    "df.to_csv(batch_output_dir + 'bcdf.csv')\n",
    "cfgs.to_csv(batch_output_dir + 'cfgs.csv')"
   ]
  },
  {
   "cell_type": "markdown",
   "metadata": {},
   "source": [
    "Shutdown compute engine"
   ]
  },
  {
   "cell_type": "code",
   "execution_count": null,
   "metadata": {},
   "outputs": [],
   "source": [
    "time.sleep(30)\n",
    "print('shuting down')\n",
    "!sudo poweroff"
   ]
  }
 ],
 "metadata": {
  "kernelspec": {
   "display_name": "Python 3",
   "language": "python",
   "name": "python3"
  },
  "language_info": {
   "codemirror_mode": {
    "name": "ipython",
    "version": 3
   },
   "file_extension": ".py",
   "mimetype": "text/x-python",
   "name": "python",
   "nbconvert_exporter": "python",
   "pygments_lexer": "ipython3",
   "version": "3.5.3"
  },
  "toc-autonumbering": false,
  "toc-showcode": false,
  "toc-showmarkdowntxt": true,
  "toc-showtags": false
 },
 "nbformat": 4,
 "nbformat_minor": 4
}
