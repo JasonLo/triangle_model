{
 "cells": [
  {
   "cell_type": "markdown",
   "metadata": {},
   "source": [
    "# Purpose\n",
    "\n",
    "If IRT is valid: Check rank acc % in average across epoch, the rank in word sequence should be similar across model —> ICC should be high\n",
    "\n"
   ]
  },
  {
   "cell_type": "code",
   "execution_count": null,
   "metadata": {},
   "outputs": [],
   "source": [
    "import pandas as pd\n",
    "import numpy as np\n",
    "import os"
   ]
  },
  {
   "cell_type": "markdown",
   "metadata": {},
   "source": [
    "## Pull data from BQ"
   ]
  },
  {
   "cell_type": "code",
   "execution_count": null,
   "metadata": {},
   "outputs": [],
   "source": [
    "from google.cloud import bigquery\n",
    "os.environ[\"GOOGLE_APPLICATION_CREDENTIALS\"]=\"/home/jupyter/tf/secret/majestic-camp-303620-e8cb3a12037b.json\"\n",
    "client = bigquery.Client(location=\"US\", project=\"majestic-camp-303620\")\n",
    "\n",
    "def load_raw_data():\n",
    "    \"\"\"Read data from BQ database\"\"\"\n",
    "    query = \"\"\"\n",
    "    SELECT\n",
    "        code_name,\n",
    "        word,\n",
    "        AVG(acc) AS acc, \n",
    "    FROM \n",
    "        slow_op_10.train\n",
    "    WHERE \n",
    "        unit_time=4.0\n",
    "    GROUP BY\n",
    "        code_name,\n",
    "        word;\n",
    "    \"\"\"\n",
    "    query_job = client.query(query)\n",
    "\n",
    "    return query_job.to_dataframe()\n",
    "\n",
    "df = load_raw_data()"
   ]
  },
  {
   "cell_type": "code",
   "execution_count": null,
   "metadata": {},
   "outputs": [],
   "source": [
    "wide_df = df.pivot_table(columns=\"code_name\", index='word', values='acc')"
   ]
  }
 ],
 "metadata": {
  "environment": {
   "name": "tf2-gpu.2-4.m68",
   "type": "gcloud",
   "uri": "gcr.io/deeplearning-platform-release/tf2-gpu.2-4:m68"
  },
  "kernelspec": {
   "display_name": "Python [conda env:root] *",
   "language": "python",
   "name": "conda-root-py"
  },
  "language_info": {
   "codemirror_mode": {
    "name": "ipython",
    "version": 3
   },
   "file_extension": ".py",
   "mimetype": "text/x-python",
   "name": "python",
   "nbconvert_exporter": "python",
   "pygments_lexer": "ipython3",
   "version": "3.7.10"
  }
 },
 "nbformat": 4,
 "nbformat_minor": 4
}
