{
 "cells": [
  {
   "cell_type": "markdown",
   "metadata": {},
   "source": [
    "# Explore basics WF effect"
   ]
  },
  {
   "cell_type": "markdown",
   "metadata": {},
   "source": [
    "- What is the relationship between \n",
    "\n",
    "- Get Frequency effect first with WSJ\n",
    "- Get the relationship between dynamic frequnecy and typical WSJ Frequency\n",
    "- Freq x Consistency\n",
    "- Semantic path modulation <-- use triangle?\n",
    "- question about effect of transformation to frequency\n",
    "- Caution: about batch learning and adam\n",
    "- Relation to Strain finding in Zevin paper\n",
    "\n",
    "### Follow up stragegy\n",
    "\n",
    "1. Relationship between freuqnecies (dynamic, wsj)\n",
    "\n",
    "2. Frequency effect in LM Model (ave_acc ~ wlen + cons x log10(wf_wsj+1))  | (full training set, strain as refrence)\n",
    "\n",
    "Reading fig 2 citation (2 papers)\n",
    "\n",
    "3. Characterize frequency effect separately ... (partial out other effect of un-interest)\n",
    "\n"
   ]
  },
  {
   "cell_type": "markdown",
   "metadata": {},
   "source": [
    "## What is the frequency effect looks like"
   ]
  },
  {
   "cell_type": "code",
   "execution_count": null,
   "metadata": {},
   "outputs": [],
   "source": [
    "import pandas as pd\n",
    "import altair as alt\n",
    "import statsmodels.api as sm\n",
    "import statsmodels.formula.api as smf"
   ]
  },
  {
   "cell_type": "code",
   "execution_count": null,
   "metadata": {},
   "outputs": [],
   "source": [
    "df = pd.read_csv(\"parsed_df_210514.csv\", index_col=0)\n",
    "\n",
    "# Find strain words\n",
    "strain = pd.read_csv(\"../../dataset/df_strain.csv\")\n",
    "strain_words = strain.word.to_list()\n",
    "df[\"is_strain_word\"] = df.word.apply(lambda x: 1 if (x in strain_words) else 0)\n",
    "\n",
    "df.to_csv(\"parsed_df_210514r.csv\")"
   ]
  },
  {
   "cell_type": "markdown",
   "metadata": {},
   "source": [
    "Easier to run lm in r, see 210514_basic_item_effect.r"
   ]
  }
 ],
 "metadata": {
  "kernelspec": {
   "display_name": "Python 3.7.9 64-bit ('base': conda)",
   "name": "python379jvsc74a57bd098b0a9b7b4eaaa670588a142fd0a9b87eaafe866f1db4228be72b4211d12040f"
  },
  "language_info": {
   "codemirror_mode": {
    "name": "ipython",
    "version": 3
   },
   "file_extension": ".py",
   "mimetype": "text/x-python",
   "name": "python",
   "nbconvert_exporter": "python",
   "pygments_lexer": "ipython3",
   "version": "3.7.9"
  }
 },
 "nbformat": 4,
 "nbformat_minor": 2
}
