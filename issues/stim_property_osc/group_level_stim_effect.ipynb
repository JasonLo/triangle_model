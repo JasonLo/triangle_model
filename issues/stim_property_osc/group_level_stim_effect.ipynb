{
 "cells": [
  {
   "cell_type": "markdown",
   "id": "hired-insurance",
   "metadata": {},
   "source": [
    "# Group level stimulus effect in triangle model\n",
    "\n",
    "## Purpose:\n",
    "- Examine the group-level stim effect during pretraining (oral) and reading phase in triangle model\n",
    "- With reference to naming data in ELP \n",
    "\n",
    "## Methods:\n",
    "- Run full training set eval in batch run\n",
    "- Extract item level eval data\n",
    "- Subset (or not)\n",
    "    - Full training set\n",
    "    - Subset to Strain items (n=160)\n",
    "- Run LME\n",
    "    - DV: ACC, RT, cond_RT\n",
    "    - Non interaction model: freq + OP surprisal + Length + "
   ]
  },
  {
   "cell_type": "markdown",
   "id": "living-foundation",
   "metadata": {},
   "source": [
    "### Replicate OSC table 3 with Train set and Strain set"
   ]
  },
  {
   "cell_type": "code",
   "execution_count": null,
   "id": "brazilian-murray",
   "metadata": {},
   "outputs": [],
   "source": [
    "%load_ext lab_black\n",
    "import pandas as pd\n",
    "import numpy as np\n",
    "import os"
   ]
  },
  {
   "cell_type": "code",
   "execution_count": null,
   "id": "closing-chocolate",
   "metadata": {},
   "outputs": [],
   "source": [
    "# # Script to parse new ELP pull on March 12, 2021\n",
    "# df_elp = pd.DataFrame()\n",
    "\n",
    "# for i in range(18):\n",
    "#     file = os.path.join(\"data/elp_210312_naming/\", f\"namingData_{i+1}.csv\")\n",
    "#     data = pd.read_csv(file, thousands=\",\")\n",
    "#     min_id = data.Sub_ID.min()\n",
    "#     max_id = data.Sub_ID.max()\n",
    "#     print(f\"{i+1}: min ID = {min_id}, max ID = {max_id}\")\n",
    "\n",
    "#     df_elp = pd.concat([df_elp, data])\n",
    "\n",
    "# df_elp.to_csv(\"data/ELP_naming_210321.csv.gz\", compression=\"gzip\")"
   ]
  },
  {
   "cell_type": "markdown",
   "id": "resistant-snowboard",
   "metadata": {},
   "source": [
    "### Import newly pulled ELP naming data "
   ]
  },
  {
   "cell_type": "code",
   "execution_count": null,
   "id": "super-thought",
   "metadata": {},
   "outputs": [],
   "source": [
    "df_elp = pd.read_csv(\"data/ELP_naming_210321.csv.gz\")\n",
    "\n",
    "# Remove outliers\n",
    "df_elp = df_elp.loc[df_elp.Outlier == False]\n",
    "\n",
    "# Simplified acc (1/0 instead of 1/2/3/4/5...)\n",
    "df_elp[\"acc\"] = df_elp.D_Accuracy.apply(lambda x: 1 if x == 1 else 0)\n",
    "\n",
    "# Conditional RT\n",
    "df_elp[\"rt\"] = df_elp.apply(lambda x: x.D_RT if x.D_Accuracy == 1 else np.NaN, axis=1)\n",
    "\n",
    "# Rename useful columns\n",
    "df_elp.rename(\n",
    "    columns={\"Sub_ID\": \"sub_id\", \"D_Word\": \"word\"},\n",
    "    inplace=True,\n",
    ")\n",
    "\n",
    "df_elp = df_elp[[\"sub_id\", \"word\", \"acc\", \"rt\"]]\n",
    "df_elp[\"log_rt\"] = np.log10(df_elp.rt)\n",
    "df_elp.to_csv(\"data/df_elp.csv.gz\", compression=\"gzip\")"
   ]
  },
  {
   "cell_type": "markdown",
   "id": "scheduled-destiny",
   "metadata": {},
   "source": [
    "### Item properties"
   ]
  },
  {
   "cell_type": "code",
   "execution_count": null,
   "id": "naval-exclusive",
   "metadata": {},
   "outputs": [],
   "source": [
    "# Create Full dataset from OSC / OP surprisal paper osf files\n",
    "\n",
    "df_train = pd.read_csv(\"../../dataset/df_train.csv\")\n",
    "df_train = df_train[[\"word\", \"wf\", \"img\"]]\n",
    "\n",
    "# https://osf.io/d72q4/?view_only=5f5f49f4cda14c3cacea81d295903aac\n",
    "df_osc = pd.read_csv(\"data/osc.psc.OSF.csv\")\n",
    "df_osc.rename(\n",
    "    columns={\n",
    "        \"D_word\": \"word\",\n",
    "        \"O-S consistency\": \"os\",\n",
    "        \"P-S consistency\": \"ps\",\n",
    "        \"orth neighborhood size\": \"ons\",\n",
    "        \"phon neighborhood size\": \"pns\",\n",
    "    },\n",
    "    inplace=True,\n",
    ")\n",
    "\n",
    "\n",
    "# https://osf.io/w8gjq/download\n",
    "df_op = pd.read_csv(\"data/supplementary_material.csv\")\n",
    "df_op.rename(\n",
    "    columns={\n",
    "        \"uncond.surprisal\": \"op_uncond\",\n",
    "        \"coda.cond.surprisal\": \"op_coda\",\n",
    "        \"onset.cond.surprisal\": \"op_onset\",\n",
    "    },\n",
    "    inplace=True,\n",
    ")\n",
    "\n",
    "# Merged df\n",
    "df = df_train.merge(df_osc[[\"word\", \"os\", \"ps\", \"ons\", \"pns\"]], how=\"left\", on=\"word\")\n",
    "df = df.merge(\n",
    "    df_op[[\"word\", \"op_uncond\", \"op_coda\", \"op_onset\"]], how=\"left\", on=\"word\"\n",
    ")\n",
    "\n",
    "# Calculate log x\n",
    "df[\"log_wf\"] = np.log10(df.wf + 1)\n",
    "df[\"log_ons\"] = np.log10(df.ons + 1)\n",
    "df[\"log_pns\"] = np.log10(df.pns + 1)\n",
    "df[\"word_length\"] = df.word.str.len()\n",
    "\n",
    "df.to_csv(\"data/item_properties.csv\")"
   ]
  },
  {
   "cell_type": "markdown",
   "id": "circular-leader",
   "metadata": {},
   "source": [
    "### Merge lme data files and export"
   ]
  },
  {
   "cell_type": "code",
   "execution_count": null,
   "id": "above-assault",
   "metadata": {},
   "outputs": [],
   "source": [
    "# Union of Train set\n",
    "df1 = df_elp.loc[df_elp.word.isin(df.word)]\n",
    "df1 = df1.merge(df, how=\"left\", on=\"word\")\n",
    "df1.to_csv(\"data/lme_df_train.csv.gz\", compression=\"gzip\")"
   ]
  },
  {
   "cell_type": "code",
   "execution_count": null,
   "id": "framed-coffee",
   "metadata": {},
   "outputs": [],
   "source": [
    "# Union of Strain set\n",
    "strain = pd.read_csv(\"../../dataset/df_strain.csv\")\n",
    "df2 = df1.loc[df1.word.isin(strain.word)]\n",
    "len(df2.word.unique())\n",
    "df2.to_csv(\"data/lme_df_strain.csv.gz\", compression=\"gzip\")"
   ]
  }
 ],
 "metadata": {
  "kernelspec": {
   "display_name": "Python 3",
   "language": "python",
   "name": "python3"
  },
  "language_info": {
   "codemirror_mode": {
    "name": "ipython",
    "version": 3
   },
   "file_extension": ".py",
   "mimetype": "text/x-python",
   "name": "python",
   "nbconvert_exporter": "python",
   "pygments_lexer": "ipython3",
   "version": "3.7.9"
  }
 },
 "nbformat": 4,
 "nbformat_minor": 5
}
