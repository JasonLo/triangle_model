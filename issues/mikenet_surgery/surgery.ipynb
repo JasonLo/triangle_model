{
 "cells": [
  {
   "cell_type": "markdown",
   "metadata": {},
   "source": [
    "# Surgery"
   ]
  },
  {
   "cell_type": "markdown",
   "metadata": {},
   "source": [
    "Purpose: Move all the weight and biases from MikeNet to TensorFlow"
   ]
  },
  {
   "cell_type": "code",
   "execution_count": null,
   "metadata": {},
   "outputs": [],
   "source": [
    "import troubleshooting, meta, modeling\n",
    "from importlib import reload\n",
    "import numpy as np\n",
    "import matplotlib.pyplot as plt\n",
    "import tensorflow as tf\n",
    "reload(troubleshooting)\n",
    "mn_weight = troubleshooting.MikeNetWeight(\"mikenet/Reading_Weight_v1\")  # They have v1-v10, looks similar to me"
   ]
  },
  {
   "cell_type": "code",
   "execution_count": null,
   "metadata": {},
   "outputs": [],
   "source": [
    "def plot_weight_heatmap(weight_name):\n",
    "    \"\"\"Plot weight in 3 orders, to help guessing MN weight order format\"\"\"\n",
    "\n",
    "    fig, axs = plt.subplots(1, 3, figsize=(10, 6))\n",
    "\n",
    "    for ax, order in zip(axs, ['F', 'C', 'A']):\n",
    "        w = np.reshape(mn_weight.weights[weight_name], mn_weight.shape_map[weight_name], order=order)\n",
    "        ax.imshow(w, cmap='hot', interpolation='none')\n",
    "        ax.set_title(f\"{weight_name}: {order}\")\n",
    "\n",
    "    fig.patch.set_facecolor('white')\n",
    "\n"
   ]
  },
  {
   "cell_type": "code",
   "execution_count": null,
   "metadata": {},
   "outputs": [],
   "source": [
    "plot_weight_heatmap('Ortho -> osh')"
   ]
  },
  {
   "cell_type": "markdown",
   "metadata": {},
   "source": [
    "Use Fortran ordering"
   ]
  },
  {
   "cell_type": "markdown",
   "metadata": {},
   "source": [
    "## Shapes of weights in MikeNet model"
   ]
  },
  {
   "cell_type": "code",
   "execution_count": null,
   "metadata": {},
   "outputs": [],
   "source": [
    "mn_weight.create_weights_shapes()"
   ]
  },
  {
   "cell_type": "markdown",
   "metadata": {},
   "source": [
    "# Create config file"
   ]
  },
  {
   "cell_type": "code",
   "execution_count": null,
   "metadata": {},
   "outputs": [],
   "source": [
    "code_name = \"surgery\"\n",
    "batch_name = None\n",
    "tf_root = \"/home/jupyter/triangle_model\"\n",
    "\n",
    "# Model configs\n",
    "ort_units = 364\n",
    "pho_units = 200\n",
    "sem_units = 2446\n",
    "hidden_os_units = 500\n",
    "hidden_op_units = 500\n",
    "hidden_ps_units = 300\n",
    "hidden_sp_units = 300\n",
    "pho_cleanup_units = 50\n",
    "sem_cleanup_units = 50\n",
    "pho_noise_level = 0.\n",
    "sem_noise_level = 0.\n",
    "activation = \"sigmoid\"\n",
    "\n",
    "tau = 1 / 3\n",
    "max_unit_time = 4.0\n",
    "output_ticks = 13\n",
    "inject_error_ticks = 11\n",
    "\n",
    "# Training configs\n",
    "learning_rate = 0.005\n",
    "zero_error_radius = 0.1\n",
    "save_freq = 20\n",
    "\n",
    "# Environment configs\n",
    "tasks = (\"pho_sem\", \"sem_pho\", \"pho_pho\", \"sem_sem\", \"ort_pho\", \"ort_sem\", \"triangle\")\n",
    "wf_compression = \"log\"\n",
    "wf_clip_low = 0\n",
    "wf_clip_high = 999_999_999\n",
    "oral_start_pct = 1.0\n",
    "oral_end_pct = 1.0\n",
    "\n",
    "oral_sample = 1_800_000\n",
    "# oral_tasks_ps = (0.4, 0.4, 0.1, 0.1, 0.)\n",
    "oral_tasks_ps = (0.4, 0.4, 0.05, 0.15, 0., 0., 0.)\n",
    "transition_sample = 800_000\n",
    "reading_sample = 15_000_000\n",
    "# reading_tasks_ps = (0.2, 0.2, 0.05, 0.05, 0.5)\n",
    "reading_tasks_ps = (0.2, 0.2, 0.05, 0.05, .1, .1, .3)\n",
    "\n",
    "batch_size = 100\n",
    "rng_seed = 2021"
   ]
  },
  {
   "cell_type": "markdown",
   "metadata": {},
   "source": [
    "## Build model"
   ]
  },
  {
   "cell_type": "code",
   "execution_count": null,
   "metadata": {},
   "outputs": [],
   "source": [
    "cfg = meta.ModelConfig.from_global(globals_dict=globals())\n",
    "model = modeling.MyModel(cfg)\n",
    "model.build()"
   ]
  },
  {
   "cell_type": "markdown",
   "metadata": {},
   "source": [
    "# Grafting"
   ]
  },
  {
   "cell_type": "code",
   "execution_count": null,
   "metadata": {},
   "outputs": [],
   "source": [
    "for weight in model.weights:\n",
    "    try:\n",
    "        name = weight.name[:-2]\n",
    "        weight.assign(mn_weight.weights_tf[name])\n",
    "        print(f\"Grafted mikenet weight {name} to tf.weights\")\n",
    "\n",
    "        # Post-load weight sanity check\n",
    "        tf.debugging.assert_equal(mn_weight.weights_tf[name], weight)\n",
    "\n",
    "    except KeyError:\n",
    "        print(f\"Missing weight {name} in mikenet\")\n",
    "        pass\n",
    "\n"
   ]
  },
  {
   "cell_type": "code",
   "execution_count": null,
   "metadata": {},
   "outputs": [],
   "source": [
    "# Check grafted weight is the correct one\n",
    "def my_heatmap(x):\n",
    "    plt.imshow(x, cmap='hot', interpolation='none')\n",
    "    plt.colorbar()\n",
    "\n",
    "\n",
    "[my_heatmap(w) for w in model.weights if w.name.startswith(\"w_hos_oh\")]\n"
   ]
  },
  {
   "cell_type": "markdown",
   "metadata": {},
   "source": [
    "# Parse MN pattern into TF format"
   ]
  },
  {
   "cell_type": "markdown",
   "metadata": {},
   "source": [
    "# Input"
   ]
  },
  {
   "cell_type": "code",
   "execution_count": null,
   "metadata": {},
   "outputs": [],
   "source": [
    "import evaluate\n",
    "from importlib import reload\n",
    "reload(evaluate)\n",
    "testset = mn_r100\n",
    "testset_name = 'mn_r100'\n",
    "task = 'triangle'\n",
    "\n",
    "model.set_active_task('triangle')\n",
    "input_name = modeling.IN_OUT[task][0]\n",
    "pred = model([testset[input_name]]* cfg.n_timesteps)\n",
    "\n",
    "testset = evaluate.TestSet(cfg)\n",
    "df = testset.eval(testset_name, task)\n"
   ]
  },
  {
   "cell_type": "code",
   "execution_count": null,
   "metadata": {},
   "outputs": [],
   "source": [
    "df"
   ]
  },
  {
   "cell_type": "code",
   "execution_count": null,
   "metadata": {},
   "outputs": [],
   "source": [
    "import altair as alt\n",
    "\n",
    "alt.Chart(df).mark_line().encode(\n",
    "    x='timetick:O',\n",
    "    y=\"act1:Q\"\n",
    ")"
   ]
  },
  {
   "cell_type": "code",
   "execution_count": null,
   "metadata": {},
   "outputs": [],
   "source": [
    "from IPython.display import clear_output\n",
    "from ipywidgets import interact\n"
   ]
  },
  {
   "cell_type": "code",
   "execution_count": null,
   "metadata": {},
   "outputs": [],
   "source": [
    "reload(troubleshooting)\n",
    "d = troubleshooting.Diagnosis(code_name)\n",
    "d.eval(testset_name, task='triangle', epoch=0)\n",
    "sel_word = 'wasps'\n",
    "d.set_target_word(sel_word)"
   ]
  },
  {
   "cell_type": "code",
   "execution_count": null,
   "metadata": {},
   "outputs": [],
   "source": [
    "d.word_pho"
   ]
  },
  {
   "cell_type": "code",
   "execution_count": null,
   "metadata": {},
   "outputs": [],
   "source": [
    "reload(troubleshooting)\n",
    "d = troubleshooting.Diagnosis(code_name)\n",
    "d.eval(testset_name, task='triangle', epoch=0)\n",
    "\n",
    "@interact(\n",
    "    sel_word=d.testset_package['item'], \n",
    "    layer=['pho', 'sem'], \n",
    "    task=['triangle', 'ort_pho', 'exp_osp', 'ort_sem', 'exp_ops'], \n",
    "    )\n",
    "def interactive_plot(sel_word, layer, task):\n",
    "    d = troubleshooting.Diagnosis(code_name)\n",
    "    d.eval(testset_name, task=task, epoch=0)\n",
    "    d.set_target_word(sel_word)\n",
    "    # print(f\"Output phoneme over timeticks: {d.list_output_phoneme}\")\n",
    "    return d.plot_one_layer(layer)\n"
   ]
  },
  {
   "cell_type": "code",
   "execution_count": null,
   "metadata": {},
   "outputs": [],
   "source": []
  }
 ],
 "metadata": {
  "interpreter": {
   "hash": "98b0a9b7b4eaaa670588a142fd0a9b87eaafe866f1db4228be72b4211d12040f"
  },
  "kernelspec": {
   "display_name": "Python 3.7.10 64-bit ('base': conda)",
   "name": "python3"
  },
  "language_info": {
   "codemirror_mode": {
    "name": "ipython",
    "version": 3
   },
   "file_extension": ".py",
   "mimetype": "text/x-python",
   "name": "python",
   "nbconvert_exporter": "python",
   "pygments_lexer": "ipython3",
   "version": "3.7.10"
  }
 },
 "nbformat": 4,
 "nbformat_minor": 2
}
