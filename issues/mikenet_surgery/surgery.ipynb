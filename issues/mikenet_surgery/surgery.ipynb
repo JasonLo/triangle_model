{
 "cells": [
  {
   "cell_type": "markdown",
   "metadata": {},
   "source": [
    "# Surgery"
   ]
  },
  {
   "cell_type": "markdown",
   "metadata": {},
   "source": [
    "Purpose: Move all the weight and biases from MikeNet to TensorFlow"
   ]
  },
  {
   "cell_type": "code",
   "execution_count": 1,
   "metadata": {},
   "outputs": [],
   "source": [
    "import os\n",
    "os.chdir('/triangle_model')"
   ]
  },
  {
   "cell_type": "code",
   "execution_count": 2,
   "metadata": {},
   "outputs": [
    {
     "name": "stderr",
     "output_type": "stream",
     "text": [
      "2021-11-12 19:16:05.260886: I tensorflow/stream_executor/cuda/cuda_gpu_executor.cc:923] could not open file to read NUMA node: /sys/bus/pci/devices/0000:01:00.0/numa_node\n",
      "Your kernel may have been built without NUMA support.\n",
      "2021-11-12 19:16:05.268886: I tensorflow/stream_executor/cuda/cuda_gpu_executor.cc:923] could not open file to read NUMA node: /sys/bus/pci/devices/0000:01:00.0/numa_node\n",
      "Your kernel may have been built without NUMA support.\n",
      "2021-11-12 19:16:05.269375: I tensorflow/stream_executor/cuda/cuda_gpu_executor.cc:923] could not open file to read NUMA node: /sys/bus/pci/devices/0000:01:00.0/numa_node\n",
      "Your kernel may have been built without NUMA support.\n",
      "2021-11-12 19:16:05.270612: I tensorflow/core/platform/cpu_feature_guard.cc:142] This TensorFlow binary is optimized with oneAPI Deep Neural Network Library (oneDNN) to use the following CPU instructions in performance-critical operations:  AVX2 FMA\n",
      "To enable them in other operations, rebuild TensorFlow with the appropriate compiler flags.\n",
      "2021-11-12 19:16:05.272721: I tensorflow/stream_executor/cuda/cuda_gpu_executor.cc:923] could not open file to read NUMA node: /sys/bus/pci/devices/0000:01:00.0/numa_node\n",
      "Your kernel may have been built without NUMA support.\n",
      "2021-11-12 19:16:05.273104: I tensorflow/stream_executor/cuda/cuda_gpu_executor.cc:923] could not open file to read NUMA node: /sys/bus/pci/devices/0000:01:00.0/numa_node\n",
      "Your kernel may have been built without NUMA support.\n",
      "2021-11-12 19:16:05.273396: I tensorflow/stream_executor/cuda/cuda_gpu_executor.cc:923] could not open file to read NUMA node: /sys/bus/pci/devices/0000:01:00.0/numa_node\n",
      "Your kernel may have been built without NUMA support.\n",
      "2021-11-12 19:16:05.814542: I tensorflow/stream_executor/cuda/cuda_gpu_executor.cc:923] could not open file to read NUMA node: /sys/bus/pci/devices/0000:01:00.0/numa_node\n",
      "Your kernel may have been built without NUMA support.\n",
      "2021-11-12 19:16:05.814847: I tensorflow/stream_executor/cuda/cuda_gpu_executor.cc:923] could not open file to read NUMA node: /sys/bus/pci/devices/0000:01:00.0/numa_node\n",
      "Your kernel may have been built without NUMA support.\n",
      "2021-11-12 19:16:05.814935: I tensorflow/core/common_runtime/gpu/gpu_device.cc:1594] Could not identify NUMA node of platform GPU id 0, defaulting to 0.  Your kernel may not have been built with NUMA support.\n",
      "2021-11-12 19:16:05.815088: I tensorflow/stream_executor/cuda/cuda_gpu_executor.cc:923] could not open file to read NUMA node: /sys/bus/pci/devices/0000:01:00.0/numa_node\n",
      "Your kernel may have been built without NUMA support.\n",
      "2021-11-12 19:16:05.815273: I tensorflow/core/common_runtime/gpu/gpu_device.cc:1510] Created device /job:localhost/replica:0/task:0/device:GPU:0 with 3501 MB memory:  -> device: 0, name: NVIDIA GeForce RTX 3060 Laptop GPU, pci bus id: 0000:01:00.0, compute capability: 8.6\n"
     ]
    }
   ],
   "source": [
    "import troubleshooting, meta, modeling, data_wrangling\n",
    "import numpy as np\n",
    "import tensorflow as tf\n",
    "import pandas as pd\n",
    "import altair as alt\n",
    "\n",
    "from ipywidgets import interact"
   ]
  },
  {
   "cell_type": "markdown",
   "metadata": {},
   "source": [
    "# Load model from disk"
   ]
  },
  {
   "cell_type": "code",
   "execution_count": 3,
   "metadata": {},
   "outputs": [
    {
     "name": "stdout",
     "output_type": "stream",
     "text": [
      "Weight Keys: ['Phono -> psh', 'Con -> csh', 'psh -> Semantics', 'csh -> Semantics', 'Semantics -> SemCleanup', 'SemCleanup -> Semantics', 'Bias -> Semantics', 'Bias -> SemCleanup', 'Bias -> psh', 'Bias -> csh', 'Semantics -> sph', 'sph -> Phono', 'Phono -> PhoCleanup', 'PhoCleanup -> Phono', 'Bias -> Phono', 'Bias -> sph', 'Bias -> PhoCleanup', 'Ortho -> oph', 'Ortho -> osh', 'oph -> Phono', 'osh -> Semantics', 'Bias -> oph', 'Bias -> osh']\n",
      "\n",
      "Non-weight Keys: ['SimulatorSeed 114806242', 'TAOS Phono', 'DELAYS Phono', 'TAOS psh', 'DELAYS psh', 'TAOS sph', 'DELAYS sph', 'TAOS Semantics', 'DELAYS Semantics', 'TAOS SemCleanup', 'DELAYS SemCleanup', 'TAOS PhoCleanup', 'DELAYS PhoCleanup', 'TAOS Bias', 'DELAYS Bias', 'TAOS Ortho', 'DELAYS Ortho', 'TAOS oph', 'DELAYS oph', 'TAOS osh', 'DELAYS osh', 'TAOS Con', 'DELAYS Con', 'TAOS csh', 'DELAYS csh']\n"
     ]
    }
   ],
   "source": [
    "mn_weight = troubleshooting.MikeNetWeight(\"mikenet/Reading_Weight_v10\") "
   ]
  },
  {
   "cell_type": "code",
   "execution_count": 4,
   "metadata": {},
   "outputs": [
    {
     "name": "stdout",
     "output_type": "stream",
     "text": [
      "UUID not found, regenerating.\n",
      "Saved config json to /triangle_model/models/surgery_v10/model_config.json\n"
     ]
    }
   ],
   "source": [
    "code_name = \"surgery_v10\"\n",
    "batch_name = None\n",
    "tf_root = \"/triangle_model\"\n",
    "\n",
    "# Model configs\n",
    "ort_units = 364\n",
    "pho_units = 200\n",
    "sem_units = 2446\n",
    "hidden_os_units = 500\n",
    "hidden_op_units = 500\n",
    "hidden_ps_units = 300\n",
    "hidden_sp_units = 300\n",
    "pho_cleanup_units = 50\n",
    "sem_cleanup_units = 50\n",
    "pho_noise_level = 0.\n",
    "sem_noise_level = 0.\n",
    "activation = \"sigmoid\"\n",
    "\n",
    "tau = 1 / 3\n",
    "max_unit_time = 4.0\n",
    "output_ticks = 13\n",
    "inject_error_ticks = 11\n",
    "\n",
    "# Training configs\n",
    "learning_rate = 0.005\n",
    "zero_error_radius = 0.1\n",
    "save_freq = 20\n",
    "\n",
    "# Environment configs\n",
    "tasks = (\"pho_sem\", \"sem_pho\", \"pho_pho\", \"sem_sem\", \"ort_pho\", \"ort_sem\", \"triangle\")\n",
    "wf_compression = \"log\"\n",
    "wf_clip_low = 0\n",
    "wf_clip_high = 999_999_999\n",
    "oral_start_pct = 1.0\n",
    "oral_end_pct = 1.0\n",
    "\n",
    "oral_sample = 1_800_000\n",
    "# oral_tasks_ps = (0.4, 0.4, 0.1, 0.1, 0.)\n",
    "oral_tasks_ps = (0.4, 0.4, 0.05, 0.15, 0., 0., 0.)\n",
    "transition_sample = 800_000\n",
    "reading_sample = 15_000_000\n",
    "# reading_tasks_ps = (0.2, 0.2, 0.05, 0.05, 0.5)\n",
    "reading_tasks_ps = (0.2, 0.2, 0.05, 0.05, .1, .1, .3)\n",
    "\n",
    "batch_size = 100\n",
    "rng_seed = 2021\n",
    "\n",
    "cfg = meta.ModelConfig.from_global(globals_dict=globals())\n",
    "model = modeling.MyModel(cfg)\n",
    "model.build()"
   ]
  },
  {
   "cell_type": "code",
   "execution_count": 5,
   "metadata": {},
   "outputs": [
    {
     "name": "stdout",
     "output_type": "stream",
     "text": [
      "Grafted mikenet weight w_hsp_sh to tf.weights\n",
      "Grafted mikenet weight w_hsp_hp to tf.weights\n",
      "Missing weight w_pp in mikenet\n",
      "Grafted mikenet weight w_pc to tf.weights\n",
      "Grafted mikenet weight w_cp to tf.weights\n",
      "Grafted mikenet weight bias_hsp to tf.weights\n",
      "Grafted mikenet weight bias_p to tf.weights\n",
      "Grafted mikenet weight bias_cpp to tf.weights\n",
      "Grafted mikenet weight w_hps_ph to tf.weights\n",
      "Grafted mikenet weight w_hps_hs to tf.weights\n",
      "Missing weight w_ss in mikenet\n",
      "Grafted mikenet weight w_sc to tf.weights\n",
      "Grafted mikenet weight w_cs to tf.weights\n",
      "Grafted mikenet weight bias_hps to tf.weights\n",
      "Grafted mikenet weight bias_s to tf.weights\n",
      "Grafted mikenet weight bias_css to tf.weights\n",
      "Grafted mikenet weight w_hos_oh to tf.weights\n",
      "Grafted mikenet weight w_hos_hs to tf.weights\n",
      "Grafted mikenet weight bias_hos to tf.weights\n",
      "Grafted mikenet weight w_hop_oh to tf.weights\n",
      "Grafted mikenet weight w_hop_hp to tf.weights\n",
      "Grafted mikenet weight bias_hop to tf.weights\n"
     ]
    }
   ],
   "source": [
    "for weight in model.weights:\n",
    "    try:\n",
    "        name = weight.name[:-2]\n",
    "        weight.assign(mn_weight.weights_tf[name])\n",
    "        print(f\"Grafted mikenet weight {name} to tf.weights\")\n",
    "\n",
    "        # Post-load weight sanity check\n",
    "        tf.debugging.assert_equal(mn_weight.weights_tf[name], weight)\n",
    "\n",
    "    except KeyError:\n",
    "        print(f\"Missing weight {name} in mikenet\")\n",
    "        pass\n"
   ]
  },
  {
   "cell_type": "code",
   "execution_count": 17,
   "metadata": {},
   "outputs": [
    {
     "data": {
      "text/plain": [
       "['w_hsp_sh:0: -0.036436256021261215',\n",
       " 'w_hsp_hp:0: -0.15658600628376007',\n",
       " 'w_pp:0: 5.9607933508232236e-05',\n",
       " 'w_pc:0: -0.09082742780447006',\n",
       " 'w_cp:0: -0.38210487365722656',\n",
       " 'bias_hsp:0: -2.535120964050293',\n",
       " 'bias_p:0: -3.783306837081909',\n",
       " 'bias_cpp:0: -2.9965076446533203',\n",
       " 'w_hps_ph:0: -0.14618974924087524',\n",
       " 'w_hps_hs:0: -0.18353353440761566',\n",
       " 'w_ss:0: 2.6221119696856476e-05',\n",
       " 'w_sc:0: -0.03645188361406326',\n",
       " 'w_cs:0: -0.3741818368434906',\n",
       " 'bias_hps:0: -2.2887043952941895',\n",
       " 'bias_s:0: -3.3815836906433105',\n",
       " 'bias_css:0: -1.3210525512695312',\n",
       " 'w_hos_oh:0: -0.048883236944675446',\n",
       " 'w_hos_hs:0: -0.0537002868950367',\n",
       " 'bias_hos:0: -3.338172197341919',\n",
       " 'w_hop_oh:0: -0.032783929258584976',\n",
       " 'w_hop_hp:0: -0.09362849593162537',\n",
       " 'bias_hop:0: -2.79338002204895']"
      ]
     },
     "execution_count": 17,
     "metadata": {},
     "output_type": "execute_result"
    }
   ],
   "source": [
    "[f\"{w.name}: {w.numpy().mean()}\" for w in model.weights]"
   ]
  },
  {
   "cell_type": "code",
   "execution_count": 6,
   "metadata": {},
   "outputs": [
    {
     "data": {
      "text/plain": [
       "[None]"
      ]
     },
     "execution_count": 6,
     "metadata": {},
     "output_type": "execute_result"
    },
    {
     "data": {
      "image/png": "[encoded data removed]",
      "text/plain": [
       "<Figure size 432x288 with 2 Axes>"
      ]
     },
     "metadata": {
      "needs_background": "light"
     },
     "output_type": "display_data"
    }
   ],
   "source": [
    "# Re-Double check the weights looks like what we put in\n",
    "import matplotlib.pyplot as plt\n",
    "\n",
    "def my_heatmap(x):\n",
    "    plt.imshow(x, cmap='hot', interpolation='none')\n",
    "    plt.colorbar()\n",
    "\n",
    "[my_heatmap(w) for w in model.weights if w.name.startswith(\"w_hop_oh\")]"
   ]
  },
  {
   "cell_type": "markdown",
   "metadata": {},
   "source": [
    "# Intact triangle model input temporal dynamics\n",
    "Need to fix Diagnosis class... somehow not really working... check plot input manually"
   ]
  },
  {
   "cell_type": "code",
   "execution_count": 7,
   "metadata": {},
   "outputs": [
    {
     "name": "stderr",
     "output_type": "stream",
     "text": [
      "2021-11-12 19:16:33.393657: I tensorflow/stream_executor/cuda/cuda_blas.cc:1760] TensorFloat-32 will be used for the matrix multiplication. This will only be logged once.\n"
     ]
    }
   ],
   "source": [
    "ts = data_wrangling.load_testset('mn_r100')\n",
    "\n",
    "model.set_active_task('triangle')\n",
    "y_pred = model([ts['ort']] * cfg.n_timesteps)\n"
   ]
  },
  {
   "cell_type": "code",
   "execution_count": 46,
   "metadata": {},
   "outputs": [],
   "source": [
    "def dense_to_sparse(dense: np.array) -> list:\n",
    "    \"\"\"Convert dense representation to sparse representation.\"\"\"\n",
    "    sparse = []\n",
    "    for i, unit in enumerate(dense):\n",
    "        if unit == 1:\n",
    "            sparse.append(i)\n",
    "    return sparse"
   ]
  },
  {
   "cell_type": "code",
   "execution_count": 48,
   "metadata": {},
   "outputs": [
    {
     "name": "stdout",
     "output_type": "stream",
     "text": [
      "[54, 89, 118, 174, 186]\n",
      "[29, 31, 52, 60, 62, 87, 90, 92, 94, 96, 102, 107]\n",
      "[4, 6, 29, 46, 49, 104, 209, 236, 813, 913, 1148]\n"
     ]
    }
   ],
   "source": [
    "idx = ts['item'].index('close')\n",
    "print(dense_to_sparse(ts['ort'][idx]))\n",
    "print(dense_to_sparse(ts['pho'][idx]))\n",
    "print(dense_to_sparse(ts['sem'][idx]))"
   ]
  },
  {
   "cell_type": "code",
   "execution_count": 36,
   "metadata": {},
   "outputs": [],
   "source": [
    "\n",
    "def get_inputs(y: tf.Tensor, mask: tf.Tensor) -> list:\n",
    "    \"\"\"Get the input over time tick.\n",
    "    Assumed dimensions equal between y and mask:\n",
    "        y: (timetick, word, unit)\n",
    "    \"\"\"\n",
    "    assert y.shape == mask.shape\n",
    "    masked_y = mask * y\n",
    "    mean_y = tf.reduce_sum(masked_y, axis=2) / tf.reduce_sum(mask, axis=2)  # Average over unit (node) dimension\n",
    "    return tf.reduce_mean(mean_y, axis=1).numpy().tolist()"
   ]
  },
  {
   "cell_type": "code",
   "execution_count": 31,
   "metadata": {},
   "outputs": [],
   "source": [
    "expanded_sem = tf.cast([ts['sem']] * 13, tf.float32)\n",
    "masked_sem = expanded_sem * y_pred['sem']\n",
    "ave_sem_act1 = tf.reduce_sum(masked_sem, axis=2) / tf.reduce_sum(expanded_sem, axis=2)\n",
    "aot = tf.reduce_mean(ave_sem_act1, axis=1)"
   ]
  },
  {
   "cell_type": "code",
   "execution_count": 38,
   "metadata": {},
   "outputs": [],
   "source": [
    "pho = tf.cast([ts['pho']] * 13, tf.float32)\n",
    "sem = tf.cast([ts['sem']] * 13, tf.float32)"
   ]
  },
  {
   "cell_type": "code",
   "execution_count": 39,
   "metadata": {},
   "outputs": [],
   "source": [
    "# Raw input before TAI\n",
    "op = get_inputs(y_pred['input_hop_hp'], mask=pho)\n",
    "os = get_inputs(y_pred['input_hos_hs'], mask=sem)\n",
    "ps = get_inputs(y_pred['input_hps_hs'], mask=sem)\n",
    "cs = get_inputs(y_pred['input_css_cs'], mask=sem)"
   ]
  },
  {
   "cell_type": "code",
   "execution_count": 42,
   "metadata": {},
   "outputs": [
    {
     "data": {
      "image/png": "[encoded data removed]",
      "text/plain": [
       "<Figure size 432x288 with 1 Axes>"
      ]
     },
     "metadata": {
      "needs_background": "light"
     },
     "output_type": "display_data"
    }
   ],
   "source": [
    "plt.plot(op, label='O->P')\n",
    "plt.plot(os, label='O->S')\n",
    "plt.plot(ps, label='P->S')\n",
    "plt.plot(cs, label='C->S')\n",
    "plt.legend(loc=\"lower right\")\n",
    "plt.title(\"Input temporal dynamics in Chang's weight, averaged across 100 words\")\n",
    "plt.show()"
   ]
  },
  {
   "cell_type": "markdown",
   "metadata": {},
   "source": [
    "## Collect time invarying elements"
   ]
  },
  {
   "cell_type": "code",
   "execution_count": 8,
   "metadata": {},
   "outputs": [
    {
     "data": {
      "text/html": [
       "<div>\n",
       "<style scoped>\n",
       "    .dataframe tbody tr th:only-of-type {\n",
       "        vertical-align: middle;\n",
       "    }\n",
       "\n",
       "    .dataframe tbody tr th {\n",
       "        vertical-align: top;\n",
       "    }\n",
       "\n",
       "    .dataframe thead th {\n",
       "        text-align: right;\n",
       "    }\n",
       "</style>\n",
       "<table border=\"1\" class=\"dataframe\">\n",
       "  <thead>\n",
       "    <tr style=\"text-align: right;\">\n",
       "      <th></th>\n",
       "      <th>target_act</th>\n",
       "      <th>bias</th>\n",
       "      <th>unit</th>\n",
       "      <th>word</th>\n",
       "    </tr>\n",
       "  </thead>\n",
       "  <tbody>\n",
       "    <tr>\n",
       "      <th>0</th>\n",
       "      <td>0.0</td>\n",
       "      <td>-2.634219</td>\n",
       "      <td>0</td>\n",
       "      <td>close</td>\n",
       "    </tr>\n",
       "    <tr>\n",
       "      <th>1</th>\n",
       "      <td>0.0</td>\n",
       "      <td>-2.103109</td>\n",
       "      <td>1</td>\n",
       "      <td>close</td>\n",
       "    </tr>\n",
       "    <tr>\n",
       "      <th>2</th>\n",
       "      <td>0.0</td>\n",
       "      <td>-1.273724</td>\n",
       "      <td>2</td>\n",
       "      <td>close</td>\n",
       "    </tr>\n",
       "    <tr>\n",
       "      <th>3</th>\n",
       "      <td>0.0</td>\n",
       "      <td>-2.099038</td>\n",
       "      <td>3</td>\n",
       "      <td>close</td>\n",
       "    </tr>\n",
       "    <tr>\n",
       "      <th>4</th>\n",
       "      <td>1.0</td>\n",
       "      <td>-1.837062</td>\n",
       "      <td>4</td>\n",
       "      <td>close</td>\n",
       "    </tr>\n",
       "    <tr>\n",
       "      <th>...</th>\n",
       "      <td>...</td>\n",
       "      <td>...</td>\n",
       "      <td>...</td>\n",
       "      <td>...</td>\n",
       "    </tr>\n",
       "    <tr>\n",
       "      <th>2441</th>\n",
       "      <td>0.0</td>\n",
       "      <td>-4.272089</td>\n",
       "      <td>2441</td>\n",
       "      <td>close</td>\n",
       "    </tr>\n",
       "    <tr>\n",
       "      <th>2442</th>\n",
       "      <td>0.0</td>\n",
       "      <td>-3.797071</td>\n",
       "      <td>2442</td>\n",
       "      <td>close</td>\n",
       "    </tr>\n",
       "    <tr>\n",
       "      <th>2443</th>\n",
       "      <td>0.0</td>\n",
       "      <td>-4.257431</td>\n",
       "      <td>2443</td>\n",
       "      <td>close</td>\n",
       "    </tr>\n",
       "    <tr>\n",
       "      <th>2444</th>\n",
       "      <td>0.0</td>\n",
       "      <td>-4.691223</td>\n",
       "      <td>2444</td>\n",
       "      <td>close</td>\n",
       "    </tr>\n",
       "    <tr>\n",
       "      <th>2445</th>\n",
       "      <td>0.0</td>\n",
       "      <td>-4.906723</td>\n",
       "      <td>2445</td>\n",
       "      <td>close</td>\n",
       "    </tr>\n",
       "  </tbody>\n",
       "</table>\n",
       "<p>2446 rows × 4 columns</p>\n",
       "</div>"
      ],
      "text/plain": [
       "      target_act      bias  unit   word\n",
       "0            0.0 -2.634219     0  close\n",
       "1            0.0 -2.103109     1  close\n",
       "2            0.0 -1.273724     2  close\n",
       "3            0.0 -2.099038     3  close\n",
       "4            1.0 -1.837062     4  close\n",
       "...          ...       ...   ...    ...\n",
       "2441         0.0 -4.272089  2441  close\n",
       "2442         0.0 -3.797071  2442  close\n",
       "2443         0.0 -4.257431  2443  close\n",
       "2444         0.0 -4.691223  2444  close\n",
       "2445         0.0 -4.906723  2445  close\n",
       "\n",
       "[2446 rows x 4 columns]"
      ]
     },
     "execution_count": 8,
     "metadata": {},
     "output_type": "execute_result"
    }
   ],
   "source": [
    "layer = 'sem'\n",
    "target_word = 'close'\n",
    "target_word_idx = ts['item'].index(target_word)\n",
    "bias_name = 'bias_s'\n",
    "\n",
    "df_dict = {}\n",
    "df_dict[\"target_act\"] = ts[layer][target_word_idx, :]\n",
    "df_dict[\"bias\"] = [w.numpy() for w in model.weights if w.name.startswith(bias_name)][0]\n",
    "df_time_invar = pd.DataFrame.from_dict(df_dict)\n",
    "df_time_invar[\"unit\"] = df_time_invar.index\n",
    "df_time_invar[\"word\"] = target_word\n",
    "df_time_invar"
   ]
  },
  {
   "cell_type": "markdown",
   "metadata": {},
   "source": [
    "## Collect time varying elements"
   ]
  },
  {
   "cell_type": "code",
   "execution_count": 9,
   "metadata": {},
   "outputs": [
    {
     "data": {
      "text/html": [
       "<div>\n",
       "<style scoped>\n",
       "    .dataframe tbody tr th:only-of-type {\n",
       "        vertical-align: middle;\n",
       "    }\n",
       "\n",
       "    .dataframe tbody tr th {\n",
       "        vertical-align: top;\n",
       "    }\n",
       "\n",
       "    .dataframe thead th {\n",
       "        text-align: right;\n",
       "    }\n",
       "</style>\n",
       "<table border=\"1\" class=\"dataframe\">\n",
       "  <thead>\n",
       "    <tr style=\"text-align: right;\">\n",
       "      <th></th>\n",
       "      <th>PS</th>\n",
       "      <th>timetick</th>\n",
       "      <th>unit</th>\n",
       "      <th>CS</th>\n",
       "      <th>SS</th>\n",
       "      <th>OS</th>\n",
       "      <th>input</th>\n",
       "      <th>act</th>\n",
       "    </tr>\n",
       "  </thead>\n",
       "  <tbody>\n",
       "    <tr>\n",
       "      <th>0</th>\n",
       "      <td>0.000000</td>\n",
       "      <td>0</td>\n",
       "      <td>0</td>\n",
       "      <td>0.000000</td>\n",
       "      <td>0.000000</td>\n",
       "      <td>0.000000</td>\n",
       "      <td>0.000000</td>\n",
       "      <td>5.000000e-01</td>\n",
       "    </tr>\n",
       "    <tr>\n",
       "      <th>1</th>\n",
       "      <td>0.000000</td>\n",
       "      <td>0</td>\n",
       "      <td>1</td>\n",
       "      <td>0.000000</td>\n",
       "      <td>0.000000</td>\n",
       "      <td>0.000000</td>\n",
       "      <td>0.000000</td>\n",
       "      <td>5.000000e-01</td>\n",
       "    </tr>\n",
       "    <tr>\n",
       "      <th>2</th>\n",
       "      <td>0.000000</td>\n",
       "      <td>0</td>\n",
       "      <td>2</td>\n",
       "      <td>0.000000</td>\n",
       "      <td>0.000000</td>\n",
       "      <td>0.000000</td>\n",
       "      <td>0.000000</td>\n",
       "      <td>5.000000e-01</td>\n",
       "    </tr>\n",
       "    <tr>\n",
       "      <th>3</th>\n",
       "      <td>0.000000</td>\n",
       "      <td>0</td>\n",
       "      <td>3</td>\n",
       "      <td>0.000000</td>\n",
       "      <td>0.000000</td>\n",
       "      <td>0.000000</td>\n",
       "      <td>0.000000</td>\n",
       "      <td>5.000000e-01</td>\n",
       "    </tr>\n",
       "    <tr>\n",
       "      <th>4</th>\n",
       "      <td>0.000000</td>\n",
       "      <td>0</td>\n",
       "      <td>4</td>\n",
       "      <td>0.000000</td>\n",
       "      <td>0.000000</td>\n",
       "      <td>0.000000</td>\n",
       "      <td>0.000000</td>\n",
       "      <td>5.000000e-01</td>\n",
       "    </tr>\n",
       "    <tr>\n",
       "      <th>...</th>\n",
       "      <td>...</td>\n",
       "      <td>...</td>\n",
       "      <td>...</td>\n",
       "      <td>...</td>\n",
       "      <td>...</td>\n",
       "      <td>...</td>\n",
       "      <td>...</td>\n",
       "      <td>...</td>\n",
       "    </tr>\n",
       "    <tr>\n",
       "      <th>31793</th>\n",
       "      <td>-8.519194</td>\n",
       "      <td>12</td>\n",
       "      <td>2441</td>\n",
       "      <td>-3.174736</td>\n",
       "      <td>0.094540</td>\n",
       "      <td>-1.104074</td>\n",
       "      <td>-18.039394</td>\n",
       "      <td>1.464167e-08</td>\n",
       "    </tr>\n",
       "    <tr>\n",
       "      <th>31794</th>\n",
       "      <td>-5.844481</td>\n",
       "      <td>12</td>\n",
       "      <td>2442</td>\n",
       "      <td>-4.165694</td>\n",
       "      <td>0.150971</td>\n",
       "      <td>-4.696007</td>\n",
       "      <td>-19.237715</td>\n",
       "      <td>4.417399e-09</td>\n",
       "    </tr>\n",
       "    <tr>\n",
       "      <th>31795</th>\n",
       "      <td>-4.823146</td>\n",
       "      <td>12</td>\n",
       "      <td>2443</td>\n",
       "      <td>-6.466595</td>\n",
       "      <td>0.075323</td>\n",
       "      <td>-1.220229</td>\n",
       "      <td>-16.089689</td>\n",
       "      <td>1.028814e-07</td>\n",
       "    </tr>\n",
       "    <tr>\n",
       "      <th>31796</th>\n",
       "      <td>-11.020306</td>\n",
       "      <td>12</td>\n",
       "      <td>2444</td>\n",
       "      <td>-7.732808</td>\n",
       "      <td>0.003940</td>\n",
       "      <td>-1.993777</td>\n",
       "      <td>-24.176319</td>\n",
       "      <td>3.164885e-11</td>\n",
       "    </tr>\n",
       "    <tr>\n",
       "      <th>31797</th>\n",
       "      <td>-15.634994</td>\n",
       "      <td>12</td>\n",
       "      <td>2445</td>\n",
       "      <td>-6.993566</td>\n",
       "      <td>-0.140186</td>\n",
       "      <td>-5.510592</td>\n",
       "      <td>-31.786034</td>\n",
       "      <td>1.568560e-14</td>\n",
       "    </tr>\n",
       "  </tbody>\n",
       "</table>\n",
       "<p>31798 rows × 8 columns</p>\n",
       "</div>"
      ],
      "text/plain": [
       "              PS  timetick  unit        CS        SS        OS      input  \\\n",
       "0       0.000000         0     0  0.000000  0.000000  0.000000   0.000000   \n",
       "1       0.000000         0     1  0.000000  0.000000  0.000000   0.000000   \n",
       "2       0.000000         0     2  0.000000  0.000000  0.000000   0.000000   \n",
       "3       0.000000         0     3  0.000000  0.000000  0.000000   0.000000   \n",
       "4       0.000000         0     4  0.000000  0.000000  0.000000   0.000000   \n",
       "...          ...       ...   ...       ...       ...       ...        ...   \n",
       "31793  -8.519194        12  2441 -3.174736  0.094540 -1.104074 -18.039394   \n",
       "31794  -5.844481        12  2442 -4.165694  0.150971 -4.696007 -19.237715   \n",
       "31795  -4.823146        12  2443 -6.466595  0.075323 -1.220229 -16.089689   \n",
       "31796 -11.020306        12  2444 -7.732808  0.003940 -1.993777 -24.176319   \n",
       "31797 -15.634994        12  2445 -6.993566 -0.140186 -5.510592 -31.786034   \n",
       "\n",
       "                act  \n",
       "0      5.000000e-01  \n",
       "1      5.000000e-01  \n",
       "2      5.000000e-01  \n",
       "3      5.000000e-01  \n",
       "4      5.000000e-01  \n",
       "...             ...  \n",
       "31793  1.464167e-08  \n",
       "31794  4.417399e-09  \n",
       "31795  1.028814e-07  \n",
       "31796  3.164885e-11  \n",
       "31797  1.568560e-14  \n",
       "\n",
       "[31798 rows x 8 columns]"
      ]
     },
     "execution_count": 9,
     "metadata": {},
     "output_type": "execute_result"
    }
   ],
   "source": [
    "SEM_NAME_MAP = {\n",
    "    \"input_hps_hs\": \"PS\",\n",
    "    \"input_css_cs\": \"CS\",\n",
    "    \"input_sem_ss\": \"SS\",\n",
    "    \"input_hos_hs\": \"OS\",\n",
    "    \"input_sem\": \"input\",\n",
    "    \"sem\": \"act\",\n",
    "}\n",
    "PHO_NAME_MAP = {\n",
    "    \"input_hsp_hp\": \"SP\",\n",
    "    \"input_cpp_cp\": \"CP\",\n",
    "    \"input_pho_pp\": \"PP\",\n",
    "    \"input_hop_hp\": \"OP\",\n",
    "    \"input_pho\": \"input\",\n",
    "    \"pho\": \"act\",\n",
    "}\n",
    "\n",
    "name_map = SEM_NAME_MAP\n",
    "\n",
    "df_time_varying = pd.DataFrame()\n",
    "\n",
    "for i, model_output_name in enumerate(name_map.keys()):\n",
    "    this_output_df = pd.DataFrame()\n",
    "    for t in range(13):\n",
    "        df_dict = {}\n",
    "        name = name_map[model_output_name]\n",
    "        df_dict[name] = y_pred[model_output_name][t, target_word_idx, :]\n",
    "        this_step_df = pd.DataFrame.from_dict(df_dict)\n",
    "        this_step_df[\"timetick\"] = t\n",
    "        this_step_df[\"unit\"] = this_step_df.index\n",
    "        this_output_df = pd.concat([this_output_df, this_step_df], ignore_index=True)\n",
    "\n",
    "    if i == 0:\n",
    "        df_time_varying = this_output_df\n",
    "    else:\n",
    "        df_time_varying = pd.merge(\n",
    "            df_time_varying, this_output_df, on=[\"timetick\", \"unit\"]\n",
    "        )\n",
    "\n",
    "df_time_varying"
   ]
  },
  {
   "cell_type": "code",
   "execution_count": 18,
   "metadata": {},
   "outputs": [
    {
     "data": {
      "text/html": [
       "<div>\n",
       "<style scoped>\n",
       "    .dataframe tbody tr th:only-of-type {\n",
       "        vertical-align: middle;\n",
       "    }\n",
       "\n",
       "    .dataframe tbody tr th {\n",
       "        vertical-align: top;\n",
       "    }\n",
       "\n",
       "    .dataframe thead th {\n",
       "        text-align: right;\n",
       "    }\n",
       "</style>\n",
       "<table border=\"1\" class=\"dataframe\">\n",
       "  <thead>\n",
       "    <tr style=\"text-align: right;\">\n",
       "      <th></th>\n",
       "      <th>PS</th>\n",
       "      <th>timetick</th>\n",
       "      <th>unit</th>\n",
       "      <th>CS</th>\n",
       "      <th>SS</th>\n",
       "      <th>OS</th>\n",
       "      <th>input</th>\n",
       "      <th>act</th>\n",
       "    </tr>\n",
       "  </thead>\n",
       "  <tbody>\n",
       "    <tr>\n",
       "      <th>24479</th>\n",
       "      <td>11.745820</td>\n",
       "      <td>10</td>\n",
       "      <td>19</td>\n",
       "      <td>-0.030493</td>\n",
       "      <td>0.009371</td>\n",
       "      <td>2.086039</td>\n",
       "      <td>1.627385</td>\n",
       "      <td>0.835811</td>\n",
       "    </tr>\n",
       "    <tr>\n",
       "      <th>25461</th>\n",
       "      <td>5.161246</td>\n",
       "      <td>10</td>\n",
       "      <td>1001</td>\n",
       "      <td>-4.242477</td>\n",
       "      <td>0.003293</td>\n",
       "      <td>10.286044</td>\n",
       "      <td>1.208126</td>\n",
       "      <td>0.769967</td>\n",
       "    </tr>\n",
       "    <tr>\n",
       "      <th>26925</th>\n",
       "      <td>12.213028</td>\n",
       "      <td>11</td>\n",
       "      <td>19</td>\n",
       "      <td>1.071834</td>\n",
       "      <td>0.054207</td>\n",
       "      <td>2.138830</td>\n",
       "      <td>5.633402</td>\n",
       "      <td>0.996436</td>\n",
       "    </tr>\n",
       "    <tr>\n",
       "      <th>26930</th>\n",
       "      <td>2.940341</td>\n",
       "      <td>11</td>\n",
       "      <td>24</td>\n",
       "      <td>2.084994</td>\n",
       "      <td>-0.029139</td>\n",
       "      <td>4.390696</td>\n",
       "      <td>0.285334</td>\n",
       "      <td>0.570854</td>\n",
       "    </tr>\n",
       "    <tr>\n",
       "      <th>27907</th>\n",
       "      <td>5.228791</td>\n",
       "      <td>11</td>\n",
       "      <td>1001</td>\n",
       "      <td>-2.775637</td>\n",
       "      <td>0.011825</td>\n",
       "      <td>10.304584</td>\n",
       "      <td>4.246756</td>\n",
       "      <td>0.985891</td>\n",
       "    </tr>\n",
       "    <tr>\n",
       "      <th>29371</th>\n",
       "      <td>12.434217</td>\n",
       "      <td>12</td>\n",
       "      <td>19</td>\n",
       "      <td>2.553104</td>\n",
       "      <td>0.104111</td>\n",
       "      <td>2.173959</td>\n",
       "      <td>8.883276</td>\n",
       "      <td>0.999861</td>\n",
       "    </tr>\n",
       "    <tr>\n",
       "      <th>29376</th>\n",
       "      <td>3.157211</td>\n",
       "      <td>12</td>\n",
       "      <td>24</td>\n",
       "      <td>7.239064</td>\n",
       "      <td>-0.025400</td>\n",
       "      <td>4.410080</td>\n",
       "      <td>4.476071</td>\n",
       "      <td>0.988750</td>\n",
       "    </tr>\n",
       "    <tr>\n",
       "      <th>30353</th>\n",
       "      <td>5.268645</td>\n",
       "      <td>12</td>\n",
       "      <td>1001</td>\n",
       "      <td>-1.098093</td>\n",
       "      <td>-0.011317</td>\n",
       "      <td>10.316992</td>\n",
       "      <td>6.849111</td>\n",
       "      <td>0.998941</td>\n",
       "    </tr>\n",
       "  </tbody>\n",
       "</table>\n",
       "</div>"
      ],
      "text/plain": [
       "              PS  timetick  unit        CS        SS         OS     input  \\\n",
       "24479  11.745820        10    19 -0.030493  0.009371   2.086039  1.627385   \n",
       "25461   5.161246        10  1001 -4.242477  0.003293  10.286044  1.208126   \n",
       "26925  12.213028        11    19  1.071834  0.054207   2.138830  5.633402   \n",
       "26930   2.940341        11    24  2.084994 -0.029139   4.390696  0.285334   \n",
       "27907   5.228791        11  1001 -2.775637  0.011825  10.304584  4.246756   \n",
       "29371  12.434217        12    19  2.553104  0.104111   2.173959  8.883276   \n",
       "29376   3.157211        12    24  7.239064 -0.025400   4.410080  4.476071   \n",
       "30353   5.268645        12  1001 -1.098093 -0.011317  10.316992  6.849111   \n",
       "\n",
       "            act  \n",
       "24479  0.835811  \n",
       "25461  0.769967  \n",
       "26925  0.996436  \n",
       "26930  0.570854  \n",
       "27907  0.985891  \n",
       "29371  0.999861  \n",
       "29376  0.988750  \n",
       "30353  0.998941  "
      ]
     },
     "execution_count": 18,
     "metadata": {},
     "output_type": "execute_result"
    }
   ],
   "source": [
    "df_time_varying.loc[df_time_varying.act>0.5]"
   ]
  },
  {
   "cell_type": "code",
   "execution_count": 10,
   "metadata": {},
   "outputs": [],
   "source": [
    "# Merge and export\n",
    "df = df_time_varying.merge(df_time_invar, on=\"unit\", how=\"left\")\n",
    "df[\"unit_acc\"] = abs(df.target_act - df.act) < 0.5\n",
    "df = df[\n",
    "    [\"word\", \"unit\", \"unit_acc\", \"timetick\", \"target_act\", \"bias\"]\n",
    "    + list(name_map.values())\n",
    "]\n",
    "\n",
    "# Restructure\n",
    "melt_value_vars = [\"bias\"] + list(name_map.values())\n",
    "df = df.melt(\n",
    "    id_vars=[\"word\", \"unit\", \"timetick\", \"target_act\", \"unit_acc\"],\n",
    "    value_vars=melt_value_vars,\n",
    ")"
   ]
  },
  {
   "cell_type": "code",
   "execution_count": 11,
   "metadata": {},
   "outputs": [
    {
     "name": "stdout",
     "output_type": "stream",
     "text": [
      "On: [   4    6   29   46   49  104  209  236  813  913 1148] \n",
      "Off: [ 554  244  980  124 1242  200  694  426  635  352]\n"
     ]
    }
   ],
   "source": [
    "all_on_nodes = df.loc[df.target_act == 1, \"unit\"].unique()\n",
    "all_off_nodes = df.loc[df.target_act == 0, \"unit\"].unique()\n",
    "print(f\"On: {all_on_nodes} \\nOff: {np.random.choice(all_off_nodes, 10)}\")"
   ]
  },
  {
   "cell_type": "code",
   "execution_count": 12,
   "metadata": {},
   "outputs": [
    {
     "data": {
      "text/html": [
       "\n",
       "<div id=\"altair-viz-653dfcea297940d49afe67ce21e3acd0\"></div>\n",
       "<script type=\"text/javascript\">\n",
       "  (function(spec, embedOpt){\n",
       "    let outputDiv = document.currentScript.previousElementSibling;\n",
       "    if (outputDiv.id !== \"altair-viz-653dfcea297940d49afe67ce21e3acd0\") {\n",
       "      outputDiv = document.getElementById(\"altair-viz-653dfcea297940d49afe67ce21e3acd0\");\n",
       "    }\n",
       "    const paths = {\n",
       "      \"vega\": \"https://cdn.jsdelivr.net/npm//vega@5?noext\",\n",
       "      \"vega-lib\": \"https://cdn.jsdelivr.net/npm//vega-lib?noext\",\n",
       "      \"vega-lite\": \"https://cdn.jsdelivr.net/npm//vega-lite@4.8.1?noext\",\n",
       "      \"vega-embed\": \"https://cdn.jsdelivr.net/npm//vega-embed@6?noext\",\n",
       "    };\n",
       "\n",
       "    function loadScript(lib) {\n",
       "      return new Promise(function(resolve, reject) {\n",
       "        var s = document.createElement('script');\n",
       "        s.src = paths[lib];\n",
       "        s.async = true;\n",
       "        s.onload = () => resolve(paths[lib]);\n",
       "        s.onerror = () => reject(`Error loading script: ${paths[lib]}`);\n",
       "        document.getElementsByTagName(\"head\")[0].appendChild(s);\n",
       "      });\n",
       "    }\n",
       "\n",
       "    function showError(err) {\n",
       "      outputDiv.innerHTML = `<div class=\"error\" style=\"color:red;\">${err}</div>`;\n",
       "      throw err;\n",
       "    }\n",
       "\n",
       "    function displayChart(vegaEmbed) {\n",
       "      vegaEmbed(outputDiv, spec, embedOpt)\n",
       "        .catch(err => showError(`Javascript Error: ${err.message}<br>This usually means there's a typo in your chart specification. See the javascript console for the full traceback.`));\n",
       "    }\n",
       "\n",
       "    if(typeof define === \"function\" && define.amd) {\n",
       "      requirejs.config({paths});\n",
       "      require([\"vega-embed\"], displayChart, err => showError(`Error loading script: ${err.message}`));\n",
       "    } else if (typeof vegaEmbed === \"function\") {\n",
       "      displayChart(vegaEmbed);\n",
       "    } else {\n",
       "      loadScript(\"vega\")\n",
       "        .then(() => loadScript(\"vega-lite\"))\n",
       "        .then(() => loadScript(\"vega-embed\"))\n",
       "        .catch(showError)\n",
       "        .then(() => displayChart(vegaEmbed));\n",
       "    }\n",
       "  })({\"config\": {\"view\": {\"continuousWidth\": 400, \"continuousHeight\": 300}}, \"data\": {\"name\": \"data-4905538a2297b99ded9f5252ca0eec1e\"}, \"mark\": \"line\", \"encoding\": {\"color\": {\"type\": \"nominal\", \"field\": \"variable\"}, \"x\": {\"type\": \"quantitative\", \"field\": \"timetick\"}, \"y\": {\"type\": \"quantitative\", \"aggregate\": \"mean\", \"field\": \"value\"}}, \"title\": \"word: close at nodes: [   4    6   29   46   49  104  209  236  813  913 1148]\", \"$schema\": \"https://vega.github.io/schema/vega-lite/v4.8.1.json\", \"datasets\": {\"data-4905538a2297b99ded9f5252ca0eec1e\": [{\"word\": \"close\", \"unit\": 4, \"timetick\": 0, \"target_act\": 1.0, \"unit_acc\": false, \"variable\": \"bias\", \"value\": -1.8370620012283325}, {\"word\": \"close\", \"unit\": 6, \"timetick\": 0, \"target_act\": 1.0, \"unit_acc\": false, \"variable\": \"bias\", \"value\": -1.9311920404434204}, {\"word\": \"close\", \"unit\": 29, \"timetick\": 0, \"target_act\": 1.0, \"unit_acc\": false, \"variable\": \"bias\", \"value\": -2.470366954803467}, {\"word\": \"close\", \"unit\": 46, \"timetick\": 0, \"target_act\": 1.0, \"unit_acc\": false, \"variable\": \"bias\", \"value\": -2.151810884475708}, {\"word\": \"close\", \"unit\": 49, \"timetick\": 0, \"target_act\": 1.0, \"unit_acc\": false, \"variable\": \"bias\", \"value\": -3.2371349334716797}, {\"word\": \"close\", \"unit\": 104, \"timetick\": 0, \"target_act\": 1.0, \"unit_acc\": false, \"variable\": \"bias\", \"value\": -2.0450100898742676}, {\"word\": \"close\", \"unit\": 209, \"timetick\": 0, \"target_act\": 1.0, \"unit_acc\": false, \"variable\": \"bias\", \"value\": -2.668355941772461}, {\"word\": \"close\", \"unit\": 236, \"timetick\": 0, \"target_act\": 1.0, \"unit_acc\": false, \"variable\": \"bias\", \"value\": -1.728242039680481}, {\"word\": \"close\", \"unit\": 813, \"timetick\": 0, \"target_act\": 1.0, \"unit_acc\": false, \"variable\": \"bias\", \"value\": -1.2024610042572021}, {\"word\": \"close\", \"unit\": 913, \"timetick\": 0, \"target_act\": 1.0, \"unit_acc\": false, \"variable\": \"bias\", \"value\": -2.991307020187378}, {\"word\": \"close\", \"unit\": 1148, \"timetick\": 0, \"target_act\": 1.0, \"unit_acc\": false, \"variable\": \"bias\", \"value\": -1.0400810241699219}, {\"word\": \"close\", \"unit\": 4, \"timetick\": 1, \"target_act\": 1.0, \"unit_acc\": false, \"variable\": \"bias\", \"value\": -1.8370620012283325}, {\"word\": \"close\", \"unit\": 6, \"timetick\": 1, \"target_act\": 1.0, \"unit_acc\": false, \"variable\": \"bias\", \"value\": -1.9311920404434204}, {\"word\": \"close\", \"unit\": 29, \"timetick\": 1, \"target_act\": 1.0, \"unit_acc\": false, \"variable\": \"bias\", \"value\": -2.470366954803467}, {\"word\": \"close\", \"unit\": 46, \"timetick\": 1, \"target_act\": 1.0, \"unit_acc\": false, \"variable\": \"bias\", \"value\": -2.151810884475708}, {\"word\": \"close\", \"unit\": 49, \"timetick\": 1, \"target_act\": 1.0, \"unit_acc\": false, \"variable\": \"bias\", \"value\": -3.2371349334716797}, {\"word\": \"close\", \"unit\": 104, \"timetick\": 1, \"target_act\": 1.0, \"unit_acc\": false, \"variable\": \"bias\", \"value\": -2.0450100898742676}, {\"word\": \"close\", \"unit\": 209, \"timetick\": 1, \"target_act\": 1.0, \"unit_acc\": false, \"variable\": \"bias\", \"value\": -2.668355941772461}, {\"word\": \"close\", \"unit\": 236, \"timetick\": 1, \"target_act\": 1.0, \"unit_acc\": false, \"variable\": \"bias\", \"value\": -1.728242039680481}, {\"word\": \"close\", \"unit\": 813, \"timetick\": 1, \"target_act\": 1.0, \"unit_acc\": false, \"variable\": \"bias\", \"value\": -1.2024610042572021}, {\"word\": \"close\", \"unit\": 913, \"timetick\": 1, \"target_act\": 1.0, \"unit_acc\": false, \"variable\": \"bias\", \"value\": -2.991307020187378}, {\"word\": \"close\", \"unit\": 1148, \"timetick\": 1, \"target_act\": 1.0, \"unit_acc\": false, \"variable\": \"bias\", \"value\": -1.0400810241699219}, {\"word\": \"close\", \"unit\": 4, \"timetick\": 2, \"target_act\": 1.0, \"unit_acc\": false, \"variable\": \"bias\", \"value\": -1.8370620012283325}, {\"word\": \"close\", \"unit\": 6, \"timetick\": 2, \"target_act\": 1.0, \"unit_acc\": false, \"variable\": \"bias\", \"value\": -1.9311920404434204}, {\"word\": \"close\", \"unit\": 29, \"timetick\": 2, \"target_act\": 1.0, \"unit_acc\": false, \"variable\": \"bias\", \"value\": -2.470366954803467}, {\"word\": \"close\", \"unit\": 46, \"timetick\": 2, \"target_act\": 1.0, \"unit_acc\": false, \"variable\": \"bias\", \"value\": -2.151810884475708}, {\"word\": \"close\", \"unit\": 49, \"timetick\": 2, \"target_act\": 1.0, \"unit_acc\": false, \"variable\": \"bias\", \"value\": -3.2371349334716797}, {\"word\": \"close\", \"unit\": 104, \"timetick\": 2, \"target_act\": 1.0, \"unit_acc\": false, \"variable\": \"bias\", \"value\": -2.0450100898742676}, {\"word\": \"close\", \"unit\": 209, \"timetick\": 2, \"target_act\": 1.0, \"unit_acc\": false, \"variable\": \"bias\", \"value\": -2.668355941772461}, {\"word\": \"close\", \"unit\": 236, \"timetick\": 2, \"target_act\": 1.0, \"unit_acc\": false, \"variable\": \"bias\", \"value\": -1.728242039680481}, {\"word\": \"close\", \"unit\": 813, \"timetick\": 2, \"target_act\": 1.0, \"unit_acc\": false, \"variable\": \"bias\", \"value\": -1.2024610042572021}, {\"word\": \"close\", \"unit\": 913, \"timetick\": 2, \"target_act\": 1.0, \"unit_acc\": false, \"variable\": \"bias\", \"value\": -2.991307020187378}, {\"word\": \"close\", \"unit\": 1148, \"timetick\": 2, \"target_act\": 1.0, \"unit_acc\": false, \"variable\": \"bias\", \"value\": -1.0400810241699219}, {\"word\": \"close\", \"unit\": 4, \"timetick\": 3, \"target_act\": 1.0, \"unit_acc\": false, \"variable\": \"bias\", \"value\": -1.8370620012283325}, {\"word\": \"close\", \"unit\": 6, \"timetick\": 3, \"target_act\": 1.0, \"unit_acc\": false, \"variable\": \"bias\", \"value\": -1.9311920404434204}, {\"word\": \"close\", \"unit\": 29, \"timetick\": 3, \"target_act\": 1.0, \"unit_acc\": false, \"variable\": \"bias\", \"value\": -2.470366954803467}, {\"word\": \"close\", \"unit\": 46, \"timetick\": 3, \"target_act\": 1.0, \"unit_acc\": false, \"variable\": \"bias\", \"value\": -2.151810884475708}, {\"word\": \"close\", \"unit\": 49, \"timetick\": 3, \"target_act\": 1.0, \"unit_acc\": false, \"variable\": \"bias\", \"value\": -3.2371349334716797}, {\"word\": \"close\", \"unit\": 104, \"timetick\": 3, \"target_act\": 1.0, \"unit_acc\": false, \"variable\": \"bias\", \"value\": -2.0450100898742676}, {\"word\": \"close\", \"unit\": 209, \"timetick\": 3, \"target_act\": 1.0, \"unit_acc\": false, \"variable\": \"bias\", \"value\": -2.668355941772461}, {\"word\": \"close\", \"unit\": 236, \"timetick\": 3, \"target_act\": 1.0, \"unit_acc\": false, \"variable\": \"bias\", \"value\": -1.728242039680481}, {\"word\": \"close\", \"unit\": 813, \"timetick\": 3, \"target_act\": 1.0, \"unit_acc\": false, \"variable\": \"bias\", \"value\": -1.2024610042572021}, {\"word\": \"close\", \"unit\": 913, \"timetick\": 3, \"target_act\": 1.0, \"unit_acc\": false, \"variable\": \"bias\", \"value\": -2.991307020187378}, {\"word\": \"close\", \"unit\": 1148, \"timetick\": 3, \"target_act\": 1.0, \"unit_acc\": false, \"variable\": \"bias\", \"value\": -1.0400810241699219}, {\"word\": \"close\", \"unit\": 4, \"timetick\": 4, \"target_act\": 1.0, \"unit_acc\": false, \"variable\": \"bias\", \"value\": -1.8370620012283325}, {\"word\": \"close\", \"unit\": 6, \"timetick\": 4, \"target_act\": 1.0, \"unit_acc\": false, \"variable\": \"bias\", \"value\": -1.9311920404434204}, {\"word\": \"close\", \"unit\": 29, \"timetick\": 4, \"target_act\": 1.0, \"unit_acc\": false, \"variable\": \"bias\", \"value\": -2.470366954803467}, {\"word\": \"close\", \"unit\": 46, \"timetick\": 4, \"target_act\": 1.0, \"unit_acc\": false, \"variable\": \"bias\", \"value\": -2.151810884475708}, {\"word\": \"close\", \"unit\": 49, \"timetick\": 4, \"target_act\": 1.0, \"unit_acc\": false, \"variable\": \"bias\", \"value\": -3.2371349334716797}, {\"word\": \"close\", \"unit\": 104, \"timetick\": 4, \"target_act\": 1.0, \"unit_acc\": false, \"variable\": \"bias\", \"value\": -2.0450100898742676}, {\"word\": \"close\", \"unit\": 209, \"timetick\": 4, \"target_act\": 1.0, \"unit_acc\": false, \"variable\": \"bias\", \"value\": -2.668355941772461}, {\"word\": \"close\", \"unit\": 236, \"timetick\": 4, \"target_act\": 1.0, \"unit_acc\": false, \"variable\": \"bias\", \"value\": -1.728242039680481}, {\"word\": \"close\", \"unit\": 813, \"timetick\": 4, \"target_act\": 1.0, \"unit_acc\": false, \"variable\": \"bias\", \"value\": -1.2024610042572021}, {\"word\": \"close\", \"unit\": 913, \"timetick\": 4, \"target_act\": 1.0, \"unit_acc\": false, \"variable\": \"bias\", \"value\": -2.991307020187378}, {\"word\": \"close\", \"unit\": 1148, \"timetick\": 4, \"target_act\": 1.0, \"unit_acc\": false, \"variable\": \"bias\", \"value\": -1.0400810241699219}, {\"word\": \"close\", \"unit\": 4, \"timetick\": 5, \"target_act\": 1.0, \"unit_acc\": false, \"variable\": \"bias\", \"value\": -1.8370620012283325}, {\"word\": \"close\", \"unit\": 6, \"timetick\": 5, \"target_act\": 1.0, \"unit_acc\": false, \"variable\": \"bias\", \"value\": -1.9311920404434204}, {\"word\": \"close\", \"unit\": 29, \"timetick\": 5, \"target_act\": 1.0, \"unit_acc\": false, \"variable\": \"bias\", \"value\": -2.470366954803467}, {\"word\": \"close\", \"unit\": 46, \"timetick\": 5, \"target_act\": 1.0, \"unit_acc\": false, \"variable\": \"bias\", \"value\": -2.151810884475708}, {\"word\": \"close\", \"unit\": 49, \"timetick\": 5, \"target_act\": 1.0, \"unit_acc\": false, \"variable\": \"bias\", \"value\": -3.2371349334716797}, {\"word\": \"close\", \"unit\": 104, \"timetick\": 5, \"target_act\": 1.0, \"unit_acc\": false, \"variable\": \"bias\", \"value\": -2.0450100898742676}, {\"word\": \"close\", \"unit\": 209, \"timetick\": 5, \"target_act\": 1.0, \"unit_acc\": false, \"variable\": \"bias\", \"value\": -2.668355941772461}, {\"word\": \"close\", \"unit\": 236, \"timetick\": 5, \"target_act\": 1.0, \"unit_acc\": false, \"variable\": \"bias\", \"value\": -1.728242039680481}, {\"word\": \"close\", \"unit\": 813, \"timetick\": 5, \"target_act\": 1.0, \"unit_acc\": false, \"variable\": \"bias\", \"value\": -1.2024610042572021}, {\"word\": \"close\", \"unit\": 913, \"timetick\": 5, \"target_act\": 1.0, \"unit_acc\": false, \"variable\": \"bias\", \"value\": -2.991307020187378}, {\"word\": \"close\", \"unit\": 1148, \"timetick\": 5, \"target_act\": 1.0, \"unit_acc\": false, \"variable\": \"bias\", \"value\": -1.0400810241699219}, {\"word\": \"close\", \"unit\": 4, \"timetick\": 6, \"target_act\": 1.0, \"unit_acc\": false, \"variable\": \"bias\", \"value\": -1.8370620012283325}, {\"word\": \"close\", \"unit\": 6, \"timetick\": 6, \"target_act\": 1.0, \"unit_acc\": false, \"variable\": \"bias\", \"value\": -1.9311920404434204}, {\"word\": \"close\", \"unit\": 29, \"timetick\": 6, \"target_act\": 1.0, \"unit_acc\": false, \"variable\": \"bias\", \"value\": -2.470366954803467}, {\"word\": \"close\", \"unit\": 46, \"timetick\": 6, \"target_act\": 1.0, \"unit_acc\": false, \"variable\": \"bias\", \"value\": -2.151810884475708}, {\"word\": \"close\", \"unit\": 49, \"timetick\": 6, \"target_act\": 1.0, \"unit_acc\": false, \"variable\": \"bias\", \"value\": -3.2371349334716797}, {\"word\": \"close\", \"unit\": 104, \"timetick\": 6, \"target_act\": 1.0, \"unit_acc\": false, \"variable\": \"bias\", \"value\": -2.0450100898742676}, {\"word\": \"close\", \"unit\": 209, \"timetick\": 6, \"target_act\": 1.0, \"unit_acc\": false, \"variable\": \"bias\", \"value\": -2.668355941772461}, {\"word\": \"close\", \"unit\": 236, \"timetick\": 6, \"target_act\": 1.0, \"unit_acc\": false, \"variable\": \"bias\", \"value\": -1.728242039680481}, {\"word\": \"close\", \"unit\": 813, \"timetick\": 6, \"target_act\": 1.0, \"unit_acc\": false, \"variable\": \"bias\", \"value\": -1.2024610042572021}, {\"word\": \"close\", \"unit\": 913, \"timetick\": 6, \"target_act\": 1.0, \"unit_acc\": false, \"variable\": \"bias\", \"value\": -2.991307020187378}, {\"word\": \"close\", \"unit\": 1148, \"timetick\": 6, \"target_act\": 1.0, \"unit_acc\": false, \"variable\": \"bias\", \"value\": -1.0400810241699219}, {\"word\": \"close\", \"unit\": 4, \"timetick\": 7, \"target_act\": 1.0, \"unit_acc\": false, \"variable\": \"bias\", \"value\": -1.8370620012283325}, {\"word\": \"close\", \"unit\": 6, \"timetick\": 7, \"target_act\": 1.0, \"unit_acc\": false, \"variable\": \"bias\", \"value\": -1.9311920404434204}, {\"word\": \"close\", \"unit\": 29, \"timetick\": 7, \"target_act\": 1.0, \"unit_acc\": false, \"variable\": \"bias\", \"value\": -2.470366954803467}, {\"word\": \"close\", \"unit\": 46, \"timetick\": 7, \"target_act\": 1.0, \"unit_acc\": false, \"variable\": \"bias\", \"value\": -2.151810884475708}, {\"word\": \"close\", \"unit\": 49, \"timetick\": 7, \"target_act\": 1.0, \"unit_acc\": false, \"variable\": \"bias\", \"value\": -3.2371349334716797}, {\"word\": \"close\", \"unit\": 104, \"timetick\": 7, \"target_act\": 1.0, \"unit_acc\": false, \"variable\": \"bias\", \"value\": -2.0450100898742676}, {\"word\": \"close\", \"unit\": 209, \"timetick\": 7, \"target_act\": 1.0, \"unit_acc\": false, \"variable\": \"bias\", \"value\": -2.668355941772461}, {\"word\": \"close\", \"unit\": 236, \"timetick\": 7, \"target_act\": 1.0, \"unit_acc\": false, \"variable\": \"bias\", \"value\": -1.728242039680481}, {\"word\": \"close\", \"unit\": 813, \"timetick\": 7, \"target_act\": 1.0, \"unit_acc\": false, \"variable\": \"bias\", \"value\": -1.2024610042572021}, {\"word\": \"close\", \"unit\": 913, \"timetick\": 7, \"target_act\": 1.0, \"unit_acc\": false, \"variable\": \"bias\", \"value\": -2.991307020187378}, {\"word\": \"close\", \"unit\": 1148, \"timetick\": 7, \"target_act\": 1.0, \"unit_acc\": false, \"variable\": \"bias\", \"value\": -1.0400810241699219}, {\"word\": \"close\", \"unit\": 4, \"timetick\": 8, \"target_act\": 1.0, \"unit_acc\": false, \"variable\": \"bias\", \"value\": -1.8370620012283325}, {\"word\": \"close\", \"unit\": 6, \"timetick\": 8, \"target_act\": 1.0, \"unit_acc\": false, \"variable\": \"bias\", \"value\": -1.9311920404434204}, {\"word\": \"close\", \"unit\": 29, \"timetick\": 8, \"target_act\": 1.0, \"unit_acc\": false, \"variable\": \"bias\", \"value\": -2.470366954803467}, {\"word\": \"close\", \"unit\": 46, \"timetick\": 8, \"target_act\": 1.0, \"unit_acc\": false, \"variable\": \"bias\", \"value\": -2.151810884475708}, {\"word\": \"close\", \"unit\": 49, \"timetick\": 8, \"target_act\": 1.0, \"unit_acc\": false, \"variable\": \"bias\", \"value\": -3.2371349334716797}, {\"word\": \"close\", \"unit\": 104, \"timetick\": 8, \"target_act\": 1.0, \"unit_acc\": false, \"variable\": \"bias\", \"value\": -2.0450100898742676}, {\"word\": \"close\", \"unit\": 209, \"timetick\": 8, \"target_act\": 1.0, \"unit_acc\": false, \"variable\": \"bias\", \"value\": -2.668355941772461}, {\"word\": \"close\", \"unit\": 236, \"timetick\": 8, \"target_act\": 1.0, \"unit_acc\": false, \"variable\": \"bias\", \"value\": -1.728242039680481}, {\"word\": \"close\", \"unit\": 813, \"timetick\": 8, \"target_act\": 1.0, \"unit_acc\": false, \"variable\": \"bias\", \"value\": -1.2024610042572021}, {\"word\": \"close\", \"unit\": 913, \"timetick\": 8, \"target_act\": 1.0, \"unit_acc\": false, \"variable\": \"bias\", \"value\": -2.991307020187378}, {\"word\": \"close\", \"unit\": 1148, \"timetick\": 8, \"target_act\": 1.0, \"unit_acc\": false, \"variable\": \"bias\", \"value\": -1.0400810241699219}, {\"word\": \"close\", \"unit\": 4, \"timetick\": 9, \"target_act\": 1.0, \"unit_acc\": false, \"variable\": \"bias\", \"value\": -1.8370620012283325}, {\"word\": \"close\", \"unit\": 6, \"timetick\": 9, \"target_act\": 1.0, \"unit_acc\": false, \"variable\": \"bias\", \"value\": -1.9311920404434204}, {\"word\": \"close\", \"unit\": 29, \"timetick\": 9, \"target_act\": 1.0, \"unit_acc\": false, \"variable\": \"bias\", \"value\": -2.470366954803467}, {\"word\": \"close\", \"unit\": 46, \"timetick\": 9, \"target_act\": 1.0, \"unit_acc\": false, \"variable\": \"bias\", \"value\": -2.151810884475708}, {\"word\": \"close\", \"unit\": 49, \"timetick\": 9, \"target_act\": 1.0, \"unit_acc\": false, \"variable\": \"bias\", \"value\": -3.2371349334716797}, {\"word\": \"close\", \"unit\": 104, \"timetick\": 9, \"target_act\": 1.0, \"unit_acc\": false, \"variable\": \"bias\", \"value\": -2.0450100898742676}, {\"word\": \"close\", \"unit\": 209, \"timetick\": 9, \"target_act\": 1.0, \"unit_acc\": false, \"variable\": \"bias\", \"value\": -2.668355941772461}, {\"word\": \"close\", \"unit\": 236, \"timetick\": 9, \"target_act\": 1.0, \"unit_acc\": false, \"variable\": \"bias\", \"value\": -1.728242039680481}, {\"word\": \"close\", \"unit\": 813, \"timetick\": 9, \"target_act\": 1.0, \"unit_acc\": false, \"variable\": \"bias\", \"value\": -1.2024610042572021}, {\"word\": \"close\", \"unit\": 913, \"timetick\": 9, \"target_act\": 1.0, \"unit_acc\": false, \"variable\": \"bias\", \"value\": -2.991307020187378}, {\"word\": \"close\", \"unit\": 1148, \"timetick\": 9, \"target_act\": 1.0, \"unit_acc\": false, \"variable\": \"bias\", \"value\": -1.0400810241699219}, {\"word\": \"close\", \"unit\": 4, \"timetick\": 10, \"target_act\": 1.0, \"unit_acc\": false, \"variable\": \"bias\", \"value\": -1.8370620012283325}, {\"word\": \"close\", \"unit\": 6, \"timetick\": 10, \"target_act\": 1.0, \"unit_acc\": false, \"variable\": \"bias\", \"value\": -1.9311920404434204}, {\"word\": \"close\", \"unit\": 29, \"timetick\": 10, \"target_act\": 1.0, \"unit_acc\": false, \"variable\": \"bias\", \"value\": -2.470366954803467}, {\"word\": \"close\", \"unit\": 46, \"timetick\": 10, \"target_act\": 1.0, \"unit_acc\": false, \"variable\": \"bias\", \"value\": -2.151810884475708}, {\"word\": \"close\", \"unit\": 49, \"timetick\": 10, \"target_act\": 1.0, \"unit_acc\": false, \"variable\": \"bias\", \"value\": -3.2371349334716797}, {\"word\": \"close\", \"unit\": 104, \"timetick\": 10, \"target_act\": 1.0, \"unit_acc\": false, \"variable\": \"bias\", \"value\": -2.0450100898742676}, {\"word\": \"close\", \"unit\": 209, \"timetick\": 10, \"target_act\": 1.0, \"unit_acc\": false, \"variable\": \"bias\", \"value\": -2.668355941772461}, {\"word\": \"close\", \"unit\": 236, \"timetick\": 10, \"target_act\": 1.0, \"unit_acc\": false, \"variable\": \"bias\", \"value\": -1.728242039680481}, {\"word\": \"close\", \"unit\": 813, \"timetick\": 10, \"target_act\": 1.0, \"unit_acc\": false, \"variable\": \"bias\", \"value\": -1.2024610042572021}, {\"word\": \"close\", \"unit\": 913, \"timetick\": 10, \"target_act\": 1.0, \"unit_acc\": false, \"variable\": \"bias\", \"value\": -2.991307020187378}, {\"word\": \"close\", \"unit\": 1148, \"timetick\": 10, \"target_act\": 1.0, \"unit_acc\": false, \"variable\": \"bias\", \"value\": -1.0400810241699219}, {\"word\": \"close\", \"unit\": 4, \"timetick\": 11, \"target_act\": 1.0, \"unit_acc\": false, \"variable\": \"bias\", \"value\": -1.8370620012283325}, {\"word\": \"close\", \"unit\": 6, \"timetick\": 11, \"target_act\": 1.0, \"unit_acc\": false, \"variable\": \"bias\", \"value\": -1.9311920404434204}, {\"word\": \"close\", \"unit\": 29, \"timetick\": 11, \"target_act\": 1.0, \"unit_acc\": false, \"variable\": \"bias\", \"value\": -2.470366954803467}, {\"word\": \"close\", \"unit\": 46, \"timetick\": 11, \"target_act\": 1.0, \"unit_acc\": false, \"variable\": \"bias\", \"value\": -2.151810884475708}, {\"word\": \"close\", \"unit\": 49, \"timetick\": 11, \"target_act\": 1.0, \"unit_acc\": false, \"variable\": \"bias\", \"value\": -3.2371349334716797}, {\"word\": \"close\", \"unit\": 104, \"timetick\": 11, \"target_act\": 1.0, \"unit_acc\": false, \"variable\": \"bias\", \"value\": -2.0450100898742676}, {\"word\": \"close\", \"unit\": 209, \"timetick\": 11, \"target_act\": 1.0, \"unit_acc\": false, \"variable\": \"bias\", \"value\": -2.668355941772461}, {\"word\": \"close\", \"unit\": 236, \"timetick\": 11, \"target_act\": 1.0, \"unit_acc\": false, \"variable\": \"bias\", \"value\": -1.728242039680481}, {\"word\": \"close\", \"unit\": 813, \"timetick\": 11, \"target_act\": 1.0, \"unit_acc\": false, \"variable\": \"bias\", \"value\": -1.2024610042572021}, {\"word\": \"close\", \"unit\": 913, \"timetick\": 11, \"target_act\": 1.0, \"unit_acc\": false, \"variable\": \"bias\", \"value\": -2.991307020187378}, {\"word\": \"close\", \"unit\": 1148, \"timetick\": 11, \"target_act\": 1.0, \"unit_acc\": false, \"variable\": \"bias\", \"value\": -1.0400810241699219}, {\"word\": \"close\", \"unit\": 4, \"timetick\": 12, \"target_act\": 1.0, \"unit_acc\": false, \"variable\": \"bias\", \"value\": -1.8370620012283325}, {\"word\": \"close\", \"unit\": 6, \"timetick\": 12, \"target_act\": 1.0, \"unit_acc\": false, \"variable\": \"bias\", \"value\": -1.9311920404434204}, {\"word\": \"close\", \"unit\": 29, \"timetick\": 12, \"target_act\": 1.0, \"unit_acc\": false, \"variable\": \"bias\", \"value\": -2.470366954803467}, {\"word\": \"close\", \"unit\": 46, \"timetick\": 12, \"target_act\": 1.0, \"unit_acc\": false, \"variable\": \"bias\", \"value\": -2.151810884475708}, {\"word\": \"close\", \"unit\": 49, \"timetick\": 12, \"target_act\": 1.0, \"unit_acc\": false, \"variable\": \"bias\", \"value\": -3.2371349334716797}, {\"word\": \"close\", \"unit\": 104, \"timetick\": 12, \"target_act\": 1.0, \"unit_acc\": false, \"variable\": \"bias\", \"value\": -2.0450100898742676}, {\"word\": \"close\", \"unit\": 209, \"timetick\": 12, \"target_act\": 1.0, \"unit_acc\": false, \"variable\": \"bias\", \"value\": -2.668355941772461}, {\"word\": \"close\", \"unit\": 236, \"timetick\": 12, \"target_act\": 1.0, \"unit_acc\": false, \"variable\": \"bias\", \"value\": -1.728242039680481}, {\"word\": \"close\", \"unit\": 813, \"timetick\": 12, \"target_act\": 1.0, \"unit_acc\": false, \"variable\": \"bias\", \"value\": -1.2024610042572021}, {\"word\": \"close\", \"unit\": 913, \"timetick\": 12, \"target_act\": 1.0, \"unit_acc\": false, \"variable\": \"bias\", \"value\": -2.991307020187378}, {\"word\": \"close\", \"unit\": 1148, \"timetick\": 12, \"target_act\": 1.0, \"unit_acc\": false, \"variable\": \"bias\", \"value\": -1.0400810241699219}, {\"word\": \"close\", \"unit\": 4, \"timetick\": 0, \"target_act\": 1.0, \"unit_acc\": false, \"variable\": \"PS\", \"value\": 0.0}, {\"word\": \"close\", \"unit\": 6, \"timetick\": 0, \"target_act\": 1.0, \"unit_acc\": false, \"variable\": \"PS\", \"value\": 0.0}, {\"word\": \"close\", \"unit\": 29, \"timetick\": 0, \"target_act\": 1.0, \"unit_acc\": false, \"variable\": \"PS\", \"value\": 0.0}, {\"word\": \"close\", \"unit\": 46, \"timetick\": 0, \"target_act\": 1.0, \"unit_acc\": false, \"variable\": \"PS\", \"value\": 0.0}, {\"word\": \"close\", \"unit\": 49, \"timetick\": 0, \"target_act\": 1.0, \"unit_acc\": false, \"variable\": \"PS\", \"value\": 0.0}, {\"word\": \"close\", \"unit\": 104, \"timetick\": 0, \"target_act\": 1.0, \"unit_acc\": false, \"variable\": \"PS\", \"value\": 0.0}, {\"word\": \"close\", \"unit\": 209, \"timetick\": 0, \"target_act\": 1.0, \"unit_acc\": false, \"variable\": \"PS\", \"value\": 0.0}, {\"word\": \"close\", \"unit\": 236, \"timetick\": 0, \"target_act\": 1.0, \"unit_acc\": false, \"variable\": \"PS\", \"value\": 0.0}, {\"word\": \"close\", \"unit\": 813, \"timetick\": 0, \"target_act\": 1.0, \"unit_acc\": false, \"variable\": \"PS\", \"value\": 0.0}, {\"word\": \"close\", \"unit\": 913, \"timetick\": 0, \"target_act\": 1.0, \"unit_acc\": false, \"variable\": \"PS\", \"value\": 0.0}, {\"word\": \"close\", \"unit\": 1148, \"timetick\": 0, \"target_act\": 1.0, \"unit_acc\": false, \"variable\": \"PS\", \"value\": 0.0}, {\"word\": \"close\", \"unit\": 4, \"timetick\": 1, \"target_act\": 1.0, \"unit_acc\": false, \"variable\": \"PS\", \"value\": -38.59370803833008}, {\"word\": \"close\", \"unit\": 6, \"timetick\": 1, \"target_act\": 1.0, \"unit_acc\": false, \"variable\": \"PS\", \"value\": -35.8897819519043}, {\"word\": \"close\", \"unit\": 29, \"timetick\": 1, \"target_act\": 1.0, \"unit_acc\": false, \"variable\": \"PS\", \"value\": -11.831425666809082}, {\"word\": \"close\", \"unit\": 46, \"timetick\": 1, \"target_act\": 1.0, \"unit_acc\": false, \"variable\": \"PS\", \"value\": -27.94723129272461}, {\"word\": \"close\", \"unit\": 49, \"timetick\": 1, \"target_act\": 1.0, \"unit_acc\": false, \"variable\": \"PS\", \"value\": -23.14571189880371}, {\"word\": \"close\", \"unit\": 104, \"timetick\": 1, \"target_act\": 1.0, \"unit_acc\": false, \"variable\": \"PS\", \"value\": -38.922035217285156}, {\"word\": \"close\", \"unit\": 209, \"timetick\": 1, \"target_act\": 1.0, \"unit_acc\": false, \"variable\": \"PS\", \"value\": -30.361007690429688}, {\"word\": \"close\", \"unit\": 236, \"timetick\": 1, \"target_act\": 1.0, \"unit_acc\": false, \"variable\": \"PS\", \"value\": -29.9439697265625}, {\"word\": \"close\", \"unit\": 813, \"timetick\": 1, \"target_act\": 1.0, \"unit_acc\": false, \"variable\": \"PS\", \"value\": -46.0917854309082}, {\"word\": \"close\", \"unit\": 913, \"timetick\": 1, \"target_act\": 1.0, \"unit_acc\": false, \"variable\": \"PS\", \"value\": -32.85916519165039}, {\"word\": \"close\", \"unit\": 1148, \"timetick\": 1, \"target_act\": 1.0, \"unit_acc\": false, \"variable\": \"PS\", \"value\": -28.4599552154541}, {\"word\": \"close\", \"unit\": 4, \"timetick\": 2, \"target_act\": 1.0, \"unit_acc\": false, \"variable\": \"PS\", \"value\": -4.765512943267822}, {\"word\": \"close\", \"unit\": 6, \"timetick\": 2, \"target_act\": 1.0, \"unit_acc\": false, \"variable\": \"PS\", \"value\": -6.34027624130249}, {\"word\": \"close\", \"unit\": 29, \"timetick\": 2, \"target_act\": 1.0, \"unit_acc\": false, \"variable\": \"PS\", \"value\": -2.1702003479003906}, {\"word\": \"close\", \"unit\": 46, \"timetick\": 2, \"target_act\": 1.0, \"unit_acc\": false, \"variable\": \"PS\", \"value\": -4.774814605712891}, {\"word\": \"close\", \"unit\": 49, \"timetick\": 2, \"target_act\": 1.0, \"unit_acc\": false, \"variable\": \"PS\", \"value\": -3.663766860961914}, {\"word\": \"close\", \"unit\": 104, \"timetick\": 2, \"target_act\": 1.0, \"unit_acc\": false, \"variable\": \"PS\", \"value\": -5.18109655380249}, {\"word\": \"close\", \"unit\": 209, \"timetick\": 2, \"target_act\": 1.0, \"unit_acc\": false, \"variable\": \"PS\", \"value\": -6.022570610046387}, {\"word\": \"close\", \"unit\": 236, \"timetick\": 2, \"target_act\": 1.0, \"unit_acc\": false, \"variable\": \"PS\", \"value\": -1.0995882749557495}, {\"word\": \"close\", \"unit\": 813, \"timetick\": 2, \"target_act\": 1.0, \"unit_acc\": false, \"variable\": \"PS\", \"value\": -3.0839414596557617}, {\"word\": \"close\", \"unit\": 913, \"timetick\": 2, \"target_act\": 1.0, \"unit_acc\": false, \"variable\": \"PS\", \"value\": -8.969450950622559}, {\"word\": \"close\", \"unit\": 1148, \"timetick\": 2, \"target_act\": 1.0, \"unit_acc\": false, \"variable\": \"PS\", \"value\": -6.729299068450928}, {\"word\": \"close\", \"unit\": 4, \"timetick\": 3, \"target_act\": 1.0, \"unit_acc\": false, \"variable\": \"PS\", \"value\": -2.946100950241089}, {\"word\": \"close\", \"unit\": 6, \"timetick\": 3, \"target_act\": 1.0, \"unit_acc\": false, \"variable\": \"PS\", \"value\": -2.6659183502197266}, {\"word\": \"close\", \"unit\": 29, \"timetick\": 3, \"target_act\": 1.0, \"unit_acc\": false, \"variable\": \"PS\", \"value\": -0.07463710755109787}, {\"word\": \"close\", \"unit\": 46, \"timetick\": 3, \"target_act\": 1.0, \"unit_acc\": false, \"variable\": \"PS\", \"value\": -1.5707767009735107}, {\"word\": \"close\", \"unit\": 49, \"timetick\": 3, \"target_act\": 1.0, \"unit_acc\": false, \"variable\": \"PS\", \"value\": -2.2307748794555664}, {\"word\": \"close\", \"unit\": 104, \"timetick\": 3, \"target_act\": 1.0, \"unit_acc\": false, \"variable\": \"PS\", \"value\": -2.9280240535736084}, {\"word\": \"close\", \"unit\": 209, \"timetick\": 3, \"target_act\": 1.0, \"unit_acc\": false, \"variable\": \"PS\", \"value\": -1.1797696352005005}, {\"word\": \"close\", \"unit\": 236, \"timetick\": 3, \"target_act\": 1.0, \"unit_acc\": false, \"variable\": \"PS\", \"value\": -0.9550231099128723}, {\"word\": \"close\", \"unit\": 813, \"timetick\": 3, \"target_act\": 1.0, \"unit_acc\": false, \"variable\": \"PS\", \"value\": -0.9611929059028625}, {\"word\": \"close\", \"unit\": 913, \"timetick\": 3, \"target_act\": 1.0, \"unit_acc\": false, \"variable\": \"PS\", \"value\": -2.1301114559173584}, {\"word\": \"close\", \"unit\": 1148, \"timetick\": 3, \"target_act\": 1.0, \"unit_acc\": false, \"variable\": \"PS\", \"value\": -2.7893903255462646}, {\"word\": \"close\", \"unit\": 4, \"timetick\": 4, \"target_act\": 1.0, \"unit_acc\": false, \"variable\": \"PS\", \"value\": -6.673399448394775}, {\"word\": \"close\", \"unit\": 6, \"timetick\": 4, \"target_act\": 1.0, \"unit_acc\": false, \"variable\": \"PS\", \"value\": -8.108671188354492}, {\"word\": \"close\", \"unit\": 29, \"timetick\": 4, \"target_act\": 1.0, \"unit_acc\": false, \"variable\": \"PS\", \"value\": -3.8554201126098633}, {\"word\": \"close\", \"unit\": 46, \"timetick\": 4, \"target_act\": 1.0, \"unit_acc\": false, \"variable\": \"PS\", \"value\": -4.526580810546875}, {\"word\": \"close\", \"unit\": 49, \"timetick\": 4, \"target_act\": 1.0, \"unit_acc\": false, \"variable\": \"PS\", \"value\": -2.1835155487060547}, {\"word\": \"close\", \"unit\": 104, \"timetick\": 4, \"target_act\": 1.0, \"unit_acc\": false, \"variable\": \"PS\", \"value\": -7.215396881103516}, {\"word\": \"close\", \"unit\": 209, \"timetick\": 4, \"target_act\": 1.0, \"unit_acc\": false, \"variable\": \"PS\", \"value\": -3.3550031185150146}, {\"word\": \"close\", \"unit\": 236, \"timetick\": 4, \"target_act\": 1.0, \"unit_acc\": false, \"variable\": \"PS\", \"value\": -3.5215554237365723}, {\"word\": \"close\", \"unit\": 813, \"timetick\": 4, \"target_act\": 1.0, \"unit_acc\": false, \"variable\": \"PS\", \"value\": -3.583482027053833}, {\"word\": \"close\", \"unit\": 913, \"timetick\": 4, \"target_act\": 1.0, \"unit_acc\": false, \"variable\": \"PS\", \"value\": -2.7547767162323}, {\"word\": \"close\", \"unit\": 1148, \"timetick\": 4, \"target_act\": 1.0, \"unit_acc\": false, \"variable\": \"PS\", \"value\": -3.545315742492676}, {\"word\": \"close\", \"unit\": 4, \"timetick\": 5, \"target_act\": 1.0, \"unit_acc\": false, \"variable\": \"PS\", \"value\": -3.694004535675049}, {\"word\": \"close\", \"unit\": 6, \"timetick\": 5, \"target_act\": 1.0, \"unit_acc\": false, \"variable\": \"PS\", \"value\": -2.486335039138794}, {\"word\": \"close\", \"unit\": 29, \"timetick\": 5, \"target_act\": 1.0, \"unit_acc\": false, \"variable\": \"PS\", \"value\": -2.9784605503082275}, {\"word\": \"close\", \"unit\": 46, \"timetick\": 5, \"target_act\": 1.0, \"unit_acc\": false, \"variable\": \"PS\", \"value\": -1.7626721858978271}, {\"word\": \"close\", \"unit\": 49, \"timetick\": 5, \"target_act\": 1.0, \"unit_acc\": false, \"variable\": \"PS\", \"value\": -2.009486675262451}, {\"word\": \"close\", \"unit\": 104, \"timetick\": 5, \"target_act\": 1.0, \"unit_acc\": false, \"variable\": \"PS\", \"value\": -3.033583641052246}, {\"word\": \"close\", \"unit\": 209, \"timetick\": 5, \"target_act\": 1.0, \"unit_acc\": false, \"variable\": \"PS\", \"value\": -0.20681613683700562}, {\"word\": \"close\", \"unit\": 236, \"timetick\": 5, \"target_act\": 1.0, \"unit_acc\": false, \"variable\": \"PS\", \"value\": -3.670989751815796}, {\"word\": \"close\", \"unit\": 813, \"timetick\": 5, \"target_act\": 1.0, \"unit_acc\": false, \"variable\": \"PS\", \"value\": -5.490976810455322}, {\"word\": \"close\", \"unit\": 913, \"timetick\": 5, \"target_act\": 1.0, \"unit_acc\": false, \"variable\": \"PS\", \"value\": -0.040097445249557495}, {\"word\": \"close\", \"unit\": 1148, \"timetick\": 5, \"target_act\": 1.0, \"unit_acc\": false, \"variable\": \"PS\", \"value\": -1.0687803030014038}, {\"word\": \"close\", \"unit\": 4, \"timetick\": 6, \"target_act\": 1.0, \"unit_acc\": false, \"variable\": \"PS\", \"value\": 0.5550613403320312}, {\"word\": \"close\", \"unit\": 6, \"timetick\": 6, \"target_act\": 1.0, \"unit_acc\": false, \"variable\": \"PS\", \"value\": 0.37907713651657104}, {\"word\": \"close\", \"unit\": 29, \"timetick\": 6, \"target_act\": 1.0, \"unit_acc\": false, \"variable\": \"PS\", \"value\": -0.43921634554862976}, {\"word\": \"close\", \"unit\": 46, \"timetick\": 6, \"target_act\": 1.0, \"unit_acc\": false, \"variable\": \"PS\", \"value\": -2.033658981323242}, {\"word\": \"close\", \"unit\": 49, \"timetick\": 6, \"target_act\": 1.0, \"unit_acc\": false, \"variable\": \"PS\", \"value\": -2.07773756980896}, {\"word\": \"close\", \"unit\": 104, \"timetick\": 6, \"target_act\": 1.0, \"unit_acc\": false, \"variable\": \"PS\", \"value\": -0.06250835210084915}, {\"word\": \"close\", \"unit\": 209, \"timetick\": 6, \"target_act\": 1.0, \"unit_acc\": false, \"variable\": \"PS\", \"value\": 1.3869203329086304}, {\"word\": \"close\", \"unit\": 236, \"timetick\": 6, \"target_act\": 1.0, \"unit_acc\": false, \"variable\": \"PS\", \"value\": -2.2721035480499268}, {\"word\": \"close\", \"unit\": 813, \"timetick\": 6, \"target_act\": 1.0, \"unit_acc\": false, \"variable\": \"PS\", \"value\": -4.96478796005249}, {\"word\": \"close\", \"unit\": 913, \"timetick\": 6, \"target_act\": 1.0, \"unit_acc\": false, \"variable\": \"PS\", \"value\": 2.6888864040374756}, {\"word\": \"close\", \"unit\": 1148, \"timetick\": 6, \"target_act\": 1.0, \"unit_acc\": false, \"variable\": \"PS\", \"value\": 2.1963918209075928}, {\"word\": \"close\", \"unit\": 4, \"timetick\": 7, \"target_act\": 1.0, \"unit_acc\": false, \"variable\": \"PS\", \"value\": 2.9642810821533203}, {\"word\": \"close\", \"unit\": 6, \"timetick\": 7, \"target_act\": 1.0, \"unit_acc\": false, \"variable\": \"PS\", \"value\": 2.9698646068573}, {\"word\": \"close\", \"unit\": 29, \"timetick\": 7, \"target_act\": 1.0, \"unit_acc\": false, \"variable\": \"PS\", \"value\": 1.1141772270202637}, {\"word\": \"close\", \"unit\": 46, \"timetick\": 7, \"target_act\": 1.0, \"unit_acc\": false, \"variable\": \"PS\", \"value\": -0.4403594434261322}, {\"word\": \"close\", \"unit\": 49, \"timetick\": 7, \"target_act\": 1.0, \"unit_acc\": false, \"variable\": \"PS\", \"value\": -0.09317366033792496}, {\"word\": \"close\", \"unit\": 104, \"timetick\": 7, \"target_act\": 1.0, \"unit_acc\": false, \"variable\": \"PS\", \"value\": 0.9134529232978821}, {\"word\": \"close\", \"unit\": 209, \"timetick\": 7, \"target_act\": 1.0, \"unit_acc\": false, \"variable\": \"PS\", \"value\": 2.707920551300049}, {\"word\": \"close\", \"unit\": 236, \"timetick\": 7, \"target_act\": 1.0, \"unit_acc\": false, \"variable\": \"PS\", \"value\": -1.953202724456787}, {\"word\": \"close\", \"unit\": 813, \"timetick\": 7, \"target_act\": 1.0, \"unit_acc\": false, \"variable\": \"PS\", \"value\": -0.49820271134376526}, {\"word\": \"close\", \"unit\": 913, \"timetick\": 7, \"target_act\": 1.0, \"unit_acc\": false, \"variable\": \"PS\", \"value\": 3.5798561573028564}, {\"word\": \"close\", \"unit\": 1148, \"timetick\": 7, \"target_act\": 1.0, \"unit_acc\": false, \"variable\": \"PS\", \"value\": 5.60530948638916}, {\"word\": \"close\", \"unit\": 4, \"timetick\": 8, \"target_act\": 1.0, \"unit_acc\": false, \"variable\": \"PS\", \"value\": 4.590137481689453}, {\"word\": \"close\", \"unit\": 6, \"timetick\": 8, \"target_act\": 1.0, \"unit_acc\": false, \"variable\": \"PS\", \"value\": 2.9545648097991943}, {\"word\": \"close\", \"unit\": 29, \"timetick\": 8, \"target_act\": 1.0, \"unit_acc\": false, \"variable\": \"PS\", \"value\": 1.5381397008895874}, {\"word\": \"close\", \"unit\": 46, \"timetick\": 8, \"target_act\": 1.0, \"unit_acc\": false, \"variable\": \"PS\", \"value\": 0.8329451680183411}, {\"word\": \"close\", \"unit\": 49, \"timetick\": 8, \"target_act\": 1.0, \"unit_acc\": false, \"variable\": \"PS\", \"value\": 2.05169677734375}, {\"word\": \"close\", \"unit\": 104, \"timetick\": 8, \"target_act\": 1.0, \"unit_acc\": false, \"variable\": \"PS\", \"value\": 1.4178550243377686}, {\"word\": \"close\", \"unit\": 209, \"timetick\": 8, \"target_act\": 1.0, \"unit_acc\": false, \"variable\": \"PS\", \"value\": 3.731358766555786}, {\"word\": \"close\", \"unit\": 236, \"timetick\": 8, \"target_act\": 1.0, \"unit_acc\": false, \"variable\": \"PS\", \"value\": -2.4517765045166016}, {\"word\": \"close\", \"unit\": 813, \"timetick\": 8, \"target_act\": 1.0, \"unit_acc\": false, \"variable\": \"PS\", \"value\": 3.5396158695220947}, {\"word\": \"close\", \"unit\": 913, \"timetick\": 8, \"target_act\": 1.0, \"unit_acc\": false, \"variable\": \"PS\", \"value\": 3.038299322128296}, {\"word\": \"close\", \"unit\": 1148, \"timetick\": 8, \"target_act\": 1.0, \"unit_acc\": false, \"variable\": \"PS\", \"value\": 5.934264183044434}, {\"word\": \"close\", \"unit\": 4, \"timetick\": 9, \"target_act\": 1.0, \"unit_acc\": false, \"variable\": \"PS\", \"value\": 5.02352237701416}, {\"word\": \"close\", \"unit\": 6, \"timetick\": 9, \"target_act\": 1.0, \"unit_acc\": false, \"variable\": \"PS\", \"value\": 2.3172504901885986}, {\"word\": \"close\", \"unit\": 29, \"timetick\": 9, \"target_act\": 1.0, \"unit_acc\": false, \"variable\": \"PS\", \"value\": 1.4565435647964478}, {\"word\": \"close\", \"unit\": 46, \"timetick\": 9, \"target_act\": 1.0, \"unit_acc\": false, \"variable\": \"PS\", \"value\": 0.426177054643631}, {\"word\": \"close\", \"unit\": 49, \"timetick\": 9, \"target_act\": 1.0, \"unit_acc\": false, \"variable\": \"PS\", \"value\": 3.0600037574768066}, {\"word\": \"close\", \"unit\": 104, \"timetick\": 9, \"target_act\": 1.0, \"unit_acc\": false, \"variable\": \"PS\", \"value\": 1.2150908708572388}, {\"word\": \"close\", \"unit\": 209, \"timetick\": 9, \"target_act\": 1.0, \"unit_acc\": false, \"variable\": \"PS\", \"value\": 3.7756330966949463}, {\"word\": \"close\", \"unit\": 236, \"timetick\": 9, \"target_act\": 1.0, \"unit_acc\": false, \"variable\": \"PS\", \"value\": -3.6613543033599854}, {\"word\": \"close\", \"unit\": 813, \"timetick\": 9, \"target_act\": 1.0, \"unit_acc\": false, \"variable\": \"PS\", \"value\": 4.5579376220703125}, {\"word\": \"close\", \"unit\": 913, \"timetick\": 9, \"target_act\": 1.0, \"unit_acc\": false, \"variable\": \"PS\", \"value\": 1.977487325668335}, {\"word\": \"close\", \"unit\": 1148, \"timetick\": 9, \"target_act\": 1.0, \"unit_acc\": false, \"variable\": \"PS\", \"value\": 5.524227619171143}, {\"word\": \"close\", \"unit\": 4, \"timetick\": 10, \"target_act\": 1.0, \"unit_acc\": false, \"variable\": \"PS\", \"value\": 4.848423957824707}, {\"word\": \"close\", \"unit\": 6, \"timetick\": 10, \"target_act\": 1.0, \"unit_acc\": false, \"variable\": \"PS\", \"value\": 1.813863754272461}, {\"word\": \"close\", \"unit\": 29, \"timetick\": 10, \"target_act\": 1.0, \"unit_acc\": false, \"variable\": \"PS\", \"value\": 1.3406983613967896}, {\"word\": \"close\", \"unit\": 46, \"timetick\": 10, \"target_act\": 1.0, \"unit_acc\": false, \"variable\": \"PS\", \"value\": -0.12888531386852264}, {\"word\": \"close\", \"unit\": 49, \"timetick\": 10, \"target_act\": 1.0, \"unit_acc\": false, \"variable\": \"PS\", \"value\": 3.499074697494507}, {\"word\": \"close\", \"unit\": 104, \"timetick\": 10, \"target_act\": 1.0, \"unit_acc\": false, \"variable\": \"PS\", \"value\": 0.7816646695137024}, {\"word\": \"close\", \"unit\": 209, \"timetick\": 10, \"target_act\": 1.0, \"unit_acc\": false, \"variable\": \"PS\", \"value\": 3.5300748348236084}, {\"word\": \"close\", \"unit\": 236, \"timetick\": 10, \"target_act\": 1.0, \"unit_acc\": false, \"variable\": \"PS\", \"value\": -4.563515663146973}, {\"word\": \"close\", \"unit\": 813, \"timetick\": 10, \"target_act\": 1.0, \"unit_acc\": false, \"variable\": \"PS\", \"value\": 4.689732074737549}, {\"word\": \"close\", \"unit\": 913, \"timetick\": 10, \"target_act\": 1.0, \"unit_acc\": false, \"variable\": \"PS\", \"value\": 1.309348225593567}, {\"word\": \"close\", \"unit\": 1148, \"timetick\": 10, \"target_act\": 1.0, \"unit_acc\": false, \"variable\": \"PS\", \"value\": 5.1643385887146}, {\"word\": \"close\", \"unit\": 4, \"timetick\": 11, \"target_act\": 1.0, \"unit_acc\": false, \"variable\": \"PS\", \"value\": 4.489799976348877}, {\"word\": \"close\", \"unit\": 6, \"timetick\": 11, \"target_act\": 1.0, \"unit_acc\": false, \"variable\": \"PS\", \"value\": 1.4450645446777344}, {\"word\": \"close\", \"unit\": 29, \"timetick\": 11, \"target_act\": 1.0, \"unit_acc\": false, \"variable\": \"PS\", \"value\": 1.2239711284637451}, {\"word\": \"close\", \"unit\": 46, \"timetick\": 11, \"target_act\": 1.0, \"unit_acc\": false, \"variable\": \"PS\", \"value\": -0.5263625383377075}, {\"word\": \"close\", \"unit\": 49, \"timetick\": 11, \"target_act\": 1.0, \"unit_acc\": false, \"variable\": \"PS\", \"value\": 3.6807944774627686}, {\"word\": \"close\", \"unit\": 104, \"timetick\": 11, \"target_act\": 1.0, \"unit_acc\": false, \"variable\": \"PS\", \"value\": 0.3637325167655945}, {\"word\": \"close\", \"unit\": 209, \"timetick\": 11, \"target_act\": 1.0, \"unit_acc\": false, \"variable\": \"PS\", \"value\": 3.2841129302978516}, {\"word\": \"close\", \"unit\": 236, \"timetick\": 11, \"target_act\": 1.0, \"unit_acc\": false, \"variable\": \"PS\", \"value\": -5.096819877624512}, {\"word\": \"close\", \"unit\": 813, \"timetick\": 11, \"target_act\": 1.0, \"unit_acc\": false, \"variable\": \"PS\", \"value\": 4.642889499664307}, {\"word\": \"close\", \"unit\": 913, \"timetick\": 11, \"target_act\": 1.0, \"unit_acc\": false, \"variable\": \"PS\", \"value\": 0.9218921065330505}, {\"word\": \"close\", \"unit\": 1148, \"timetick\": 11, \"target_act\": 1.0, \"unit_acc\": false, \"variable\": \"PS\", \"value\": 4.890232086181641}, {\"word\": \"close\", \"unit\": 4, \"timetick\": 12, \"target_act\": 1.0, \"unit_acc\": false, \"variable\": \"PS\", \"value\": 4.135880470275879}, {\"word\": \"close\", \"unit\": 6, \"timetick\": 12, \"target_act\": 1.0, \"unit_acc\": false, \"variable\": \"PS\", \"value\": 1.1835806369781494}, {\"word\": \"close\", \"unit\": 29, \"timetick\": 12, \"target_act\": 1.0, \"unit_acc\": false, \"variable\": \"PS\", \"value\": 1.1162800788879395}, {\"word\": \"close\", \"unit\": 46, \"timetick\": 12, \"target_act\": 1.0, \"unit_acc\": false, \"variable\": \"PS\", \"value\": -0.7913559675216675}, {\"word\": \"close\", \"unit\": 49, \"timetick\": 12, \"target_act\": 1.0, \"unit_acc\": false, \"variable\": \"PS\", \"value\": 3.7501492500305176}, {\"word\": \"close\", \"unit\": 104, \"timetick\": 12, \"target_act\": 1.0, \"unit_acc\": false, \"variable\": \"PS\", \"value\": 0.0487891249358654}, {\"word\": \"close\", \"unit\": 209, \"timetick\": 12, \"target_act\": 1.0, \"unit_acc\": false, \"variable\": \"PS\", \"value\": 3.0954508781433105}, {\"word\": \"close\", \"unit\": 236, \"timetick\": 12, \"target_act\": 1.0, \"unit_acc\": false, \"variable\": \"PS\", \"value\": -5.407195091247559}, {\"word\": \"close\", \"unit\": 813, \"timetick\": 12, \"target_act\": 1.0, \"unit_acc\": false, \"variable\": \"PS\", \"value\": 4.572772026062012}, {\"word\": \"close\", \"unit\": 913, \"timetick\": 12, \"target_act\": 1.0, \"unit_acc\": false, \"variable\": \"PS\", \"value\": 0.6856595873832703}, {\"word\": \"close\", \"unit\": 1148, \"timetick\": 12, \"target_act\": 1.0, \"unit_acc\": false, \"variable\": \"PS\", \"value\": 4.692837238311768}, {\"word\": \"close\", \"unit\": 4, \"timetick\": 0, \"target_act\": 1.0, \"unit_acc\": false, \"variable\": \"CS\", \"value\": 0.0}, {\"word\": \"close\", \"unit\": 6, \"timetick\": 0, \"target_act\": 1.0, \"unit_acc\": false, \"variable\": \"CS\", \"value\": 0.0}, {\"word\": \"close\", \"unit\": 29, \"timetick\": 0, \"target_act\": 1.0, \"unit_acc\": false, \"variable\": \"CS\", \"value\": 0.0}, {\"word\": \"close\", \"unit\": 46, \"timetick\": 0, \"target_act\": 1.0, \"unit_acc\": false, \"variable\": \"CS\", \"value\": 0.0}, {\"word\": \"close\", \"unit\": 49, \"timetick\": 0, \"target_act\": 1.0, \"unit_acc\": false, \"variable\": \"CS\", \"value\": 0.0}, {\"word\": \"close\", \"unit\": 104, \"timetick\": 0, \"target_act\": 1.0, \"unit_acc\": false, \"variable\": \"CS\", \"value\": 0.0}, {\"word\": \"close\", \"unit\": 209, \"timetick\": 0, \"target_act\": 1.0, \"unit_acc\": false, \"variable\": \"CS\", \"value\": 0.0}, {\"word\": \"close\", \"unit\": 236, \"timetick\": 0, \"target_act\": 1.0, \"unit_acc\": false, \"variable\": \"CS\", \"value\": 0.0}, {\"word\": \"close\", \"unit\": 813, \"timetick\": 0, \"target_act\": 1.0, \"unit_acc\": false, \"variable\": \"CS\", \"value\": 0.0}, {\"word\": \"close\", \"unit\": 913, \"timetick\": 0, \"target_act\": 1.0, \"unit_acc\": false, \"variable\": \"CS\", \"value\": 0.0}, {\"word\": \"close\", \"unit\": 1148, \"timetick\": 0, \"target_act\": 1.0, \"unit_acc\": false, \"variable\": \"CS\", \"value\": 0.0}, {\"word\": \"close\", \"unit\": 4, \"timetick\": 1, \"target_act\": 1.0, \"unit_acc\": false, \"variable\": \"CS\", \"value\": -11.057257652282715}, {\"word\": \"close\", \"unit\": 6, \"timetick\": 1, \"target_act\": 1.0, \"unit_acc\": false, \"variable\": \"CS\", \"value\": -12.643851280212402}, {\"word\": \"close\", \"unit\": 29, \"timetick\": 1, \"target_act\": 1.0, \"unit_acc\": false, \"variable\": \"CS\", \"value\": -13.259452819824219}, {\"word\": \"close\", \"unit\": 46, \"timetick\": 1, \"target_act\": 1.0, \"unit_acc\": false, \"variable\": \"CS\", \"value\": -13.510409355163574}, {\"word\": \"close\", \"unit\": 49, \"timetick\": 1, \"target_act\": 1.0, \"unit_acc\": false, \"variable\": \"CS\", \"value\": -9.360568046569824}, {\"word\": \"close\", \"unit\": 104, \"timetick\": 1, \"target_act\": 1.0, \"unit_acc\": false, \"variable\": \"CS\", \"value\": -10.443694114685059}, {\"word\": \"close\", \"unit\": 209, \"timetick\": 1, \"target_act\": 1.0, \"unit_acc\": false, \"variable\": \"CS\", \"value\": -10.722850799560547}, {\"word\": \"close\", \"unit\": 236, \"timetick\": 1, \"target_act\": 1.0, \"unit_acc\": false, \"variable\": \"CS\", \"value\": -14.33091926574707}, {\"word\": \"close\", \"unit\": 813, \"timetick\": 1, \"target_act\": 1.0, \"unit_acc\": false, \"variable\": \"CS\", \"value\": -13.921724319458008}, {\"word\": \"close\", \"unit\": 913, \"timetick\": 1, \"target_act\": 1.0, \"unit_acc\": false, \"variable\": \"CS\", \"value\": -9.743772506713867}, {\"word\": \"close\", \"unit\": 1148, \"timetick\": 1, \"target_act\": 1.0, \"unit_acc\": false, \"variable\": \"CS\", \"value\": -14.078757286071777}, {\"word\": \"close\", \"unit\": 4, \"timetick\": 2, \"target_act\": 1.0, \"unit_acc\": false, \"variable\": \"CS\", \"value\": -8.515264511108398}, {\"word\": \"close\", \"unit\": 6, \"timetick\": 2, \"target_act\": 1.0, \"unit_acc\": false, \"variable\": \"CS\", \"value\": -13.209223747253418}, {\"word\": \"close\", \"unit\": 29, \"timetick\": 2, \"target_act\": 1.0, \"unit_acc\": false, \"variable\": \"CS\", \"value\": -13.360682487487793}, {\"word\": \"close\", \"unit\": 46, \"timetick\": 2, \"target_act\": 1.0, \"unit_acc\": false, \"variable\": \"CS\", \"value\": -7.750396728515625}, {\"word\": \"close\", \"unit\": 49, \"timetick\": 2, \"target_act\": 1.0, \"unit_acc\": false, \"variable\": \"CS\", \"value\": -10.082517623901367}, {\"word\": \"close\", \"unit\": 104, \"timetick\": 2, \"target_act\": 1.0, \"unit_acc\": false, \"variable\": \"CS\", \"value\": -7.042603969573975}, {\"word\": \"close\", \"unit\": 209, \"timetick\": 2, \"target_act\": 1.0, \"unit_acc\": false, \"variable\": \"CS\", \"value\": -12.729040145874023}, {\"word\": \"close\", \"unit\": 236, \"timetick\": 2, \"target_act\": 1.0, \"unit_acc\": false, \"variable\": \"CS\", \"value\": -4.015356540679932}, {\"word\": \"close\", \"unit\": 813, \"timetick\": 2, \"target_act\": 1.0, \"unit_acc\": false, \"variable\": \"CS\", \"value\": -10.019596099853516}, {\"word\": \"close\", \"unit\": 913, \"timetick\": 2, \"target_act\": 1.0, \"unit_acc\": false, \"variable\": \"CS\", \"value\": -15.822176933288574}, {\"word\": \"close\", \"unit\": 1148, \"timetick\": 2, \"target_act\": 1.0, \"unit_acc\": false, \"variable\": \"CS\", \"value\": -9.582795143127441}, {\"word\": \"close\", \"unit\": 4, \"timetick\": 3, \"target_act\": 1.0, \"unit_acc\": false, \"variable\": \"CS\", \"value\": -8.55739688873291}, {\"word\": \"close\", \"unit\": 6, \"timetick\": 3, \"target_act\": 1.0, \"unit_acc\": false, \"variable\": \"CS\", \"value\": -13.413619995117188}, {\"word\": \"close\", \"unit\": 29, \"timetick\": 3, \"target_act\": 1.0, \"unit_acc\": false, \"variable\": \"CS\", \"value\": -13.422451972961426}, {\"word\": \"close\", \"unit\": 46, \"timetick\": 3, \"target_act\": 1.0, \"unit_acc\": false, \"variable\": \"CS\", \"value\": -8.002596855163574}, {\"word\": \"close\", \"unit\": 49, \"timetick\": 3, \"target_act\": 1.0, \"unit_acc\": false, \"variable\": \"CS\", \"value\": -10.19021987915039}, {\"word\": \"close\", \"unit\": 104, \"timetick\": 3, \"target_act\": 1.0, \"unit_acc\": false, \"variable\": \"CS\", \"value\": -7.388247489929199}, {\"word\": \"close\", \"unit\": 209, \"timetick\": 3, \"target_act\": 1.0, \"unit_acc\": false, \"variable\": \"CS\", \"value\": -12.927656173706055}, {\"word\": \"close\", \"unit\": 236, \"timetick\": 3, \"target_act\": 1.0, \"unit_acc\": false, \"variable\": \"CS\", \"value\": -3.9989006519317627}, {\"word\": \"close\", \"unit\": 813, \"timetick\": 3, \"target_act\": 1.0, \"unit_acc\": false, \"variable\": \"CS\", \"value\": -9.974989891052246}, {\"word\": \"close\", \"unit\": 913, \"timetick\": 3, \"target_act\": 1.0, \"unit_acc\": false, \"variable\": \"CS\", \"value\": -16.003755569458008}, {\"word\": \"close\", \"unit\": 1148, \"timetick\": 3, \"target_act\": 1.0, \"unit_acc\": false, \"variable\": \"CS\", \"value\": -9.618318557739258}, {\"word\": \"close\", \"unit\": 4, \"timetick\": 4, \"target_act\": 1.0, \"unit_acc\": false, \"variable\": \"CS\", \"value\": -8.5296049118042}, {\"word\": \"close\", \"unit\": 6, \"timetick\": 4, \"target_act\": 1.0, \"unit_acc\": false, \"variable\": \"CS\", \"value\": -13.759073257446289}, {\"word\": \"close\", \"unit\": 29, \"timetick\": 4, \"target_act\": 1.0, \"unit_acc\": false, \"variable\": \"CS\", \"value\": -13.518978118896484}, {\"word\": \"close\", \"unit\": 46, \"timetick\": 4, \"target_act\": 1.0, \"unit_acc\": false, \"variable\": \"CS\", \"value\": -8.437458992004395}, {\"word\": \"close\", \"unit\": 49, \"timetick\": 4, \"target_act\": 1.0, \"unit_acc\": false, \"variable\": \"CS\", \"value\": -10.45751953125}, {\"word\": \"close\", \"unit\": 104, \"timetick\": 4, \"target_act\": 1.0, \"unit_acc\": false, \"variable\": \"CS\", \"value\": -7.805204391479492}, {\"word\": \"close\", \"unit\": 209, \"timetick\": 4, \"target_act\": 1.0, \"unit_acc\": false, \"variable\": \"CS\", \"value\": -13.209246635437012}, {\"word\": \"close\", \"unit\": 236, \"timetick\": 4, \"target_act\": 1.0, \"unit_acc\": false, \"variable\": \"CS\", \"value\": -4.185801982879639}, {\"word\": \"close\", \"unit\": 813, \"timetick\": 4, \"target_act\": 1.0, \"unit_acc\": false, \"variable\": \"CS\", \"value\": -9.68792724609375}, {\"word\": \"close\", \"unit\": 913, \"timetick\": 4, \"target_act\": 1.0, \"unit_acc\": false, \"variable\": \"CS\", \"value\": -16.134021759033203}, {\"word\": \"close\", \"unit\": 1148, \"timetick\": 4, \"target_act\": 1.0, \"unit_acc\": false, \"variable\": \"CS\", \"value\": -9.56782054901123}, {\"word\": \"close\", \"unit\": 4, \"timetick\": 5, \"target_act\": 1.0, \"unit_acc\": false, \"variable\": \"CS\", \"value\": -8.205622673034668}, {\"word\": \"close\", \"unit\": 6, \"timetick\": 5, \"target_act\": 1.0, \"unit_acc\": false, \"variable\": \"CS\", \"value\": -13.710615158081055}, {\"word\": \"close\", \"unit\": 29, \"timetick\": 5, \"target_act\": 1.0, \"unit_acc\": false, \"variable\": \"CS\", \"value\": -14.269022941589355}, {\"word\": \"close\", \"unit\": 46, \"timetick\": 5, \"target_act\": 1.0, \"unit_acc\": false, \"variable\": \"CS\", \"value\": -8.874212265014648}, {\"word\": \"close\", \"unit\": 49, \"timetick\": 5, \"target_act\": 1.0, \"unit_acc\": false, \"variable\": \"CS\", \"value\": -10.7149076461792}, {\"word\": \"close\", \"unit\": 104, \"timetick\": 5, \"target_act\": 1.0, \"unit_acc\": false, \"variable\": \"CS\", \"value\": -8.014159202575684}, {\"word\": \"close\", \"unit\": 209, \"timetick\": 5, \"target_act\": 1.0, \"unit_acc\": false, \"variable\": \"CS\", \"value\": -13.17524242401123}, {\"word\": \"close\", \"unit\": 236, \"timetick\": 5, \"target_act\": 1.0, \"unit_acc\": false, \"variable\": \"CS\", \"value\": -5.018540859222412}, {\"word\": \"close\", \"unit\": 813, \"timetick\": 5, \"target_act\": 1.0, \"unit_acc\": false, \"variable\": \"CS\", \"value\": -9.361971855163574}, {\"word\": \"close\", \"unit\": 913, \"timetick\": 5, \"target_act\": 1.0, \"unit_acc\": false, \"variable\": \"CS\", \"value\": -16.06044578552246}, {\"word\": \"close\", \"unit\": 1148, \"timetick\": 5, \"target_act\": 1.0, \"unit_acc\": false, \"variable\": \"CS\", \"value\": -9.429269790649414}, {\"word\": \"close\", \"unit\": 4, \"timetick\": 6, \"target_act\": 1.0, \"unit_acc\": false, \"variable\": \"CS\", \"value\": -7.257126331329346}, {\"word\": \"close\", \"unit\": 6, \"timetick\": 6, \"target_act\": 1.0, \"unit_acc\": false, \"variable\": \"CS\", \"value\": -12.342098236083984}, {\"word\": \"close\", \"unit\": 29, \"timetick\": 6, \"target_act\": 1.0, \"unit_acc\": false, \"variable\": \"CS\", \"value\": -15.318498611450195}, {\"word\": \"close\", \"unit\": 46, \"timetick\": 6, \"target_act\": 1.0, \"unit_acc\": false, \"variable\": \"CS\", \"value\": -9.095900535583496}, {\"word\": \"close\", \"unit\": 49, \"timetick\": 6, \"target_act\": 1.0, \"unit_acc\": false, \"variable\": \"CS\", \"value\": -10.532544136047363}, {\"word\": \"close\", \"unit\": 104, \"timetick\": 6, \"target_act\": 1.0, \"unit_acc\": false, \"variable\": \"CS\", \"value\": -7.488513946533203}, {\"word\": \"close\", \"unit\": 209, \"timetick\": 6, \"target_act\": 1.0, \"unit_acc\": false, \"variable\": \"CS\", \"value\": -12.405549049377441}, {\"word\": \"close\", \"unit\": 236, \"timetick\": 6, \"target_act\": 1.0, \"unit_acc\": false, \"variable\": \"CS\", \"value\": -5.613862037658691}, {\"word\": \"close\", \"unit\": 813, \"timetick\": 6, \"target_act\": 1.0, \"unit_acc\": false, \"variable\": \"CS\", \"value\": -9.454887390136719}, {\"word\": \"close\", \"unit\": 913, \"timetick\": 6, \"target_act\": 1.0, \"unit_acc\": false, \"variable\": \"CS\", \"value\": -16.142704010009766}, {\"word\": \"close\", \"unit\": 1148, \"timetick\": 6, \"target_act\": 1.0, \"unit_acc\": false, \"variable\": \"CS\", \"value\": -9.20702838897705}, {\"word\": \"close\", \"unit\": 4, \"timetick\": 7, \"target_act\": 1.0, \"unit_acc\": false, \"variable\": \"CS\", \"value\": -5.981032848358154}, {\"word\": \"close\", \"unit\": 6, \"timetick\": 7, \"target_act\": 1.0, \"unit_acc\": false, \"variable\": \"CS\", \"value\": -10.477418899536133}, {\"word\": \"close\", \"unit\": 29, \"timetick\": 7, \"target_act\": 1.0, \"unit_acc\": false, \"variable\": \"CS\", \"value\": -13.521639823913574}, {\"word\": \"close\", \"unit\": 46, \"timetick\": 7, \"target_act\": 1.0, \"unit_acc\": false, \"variable\": \"CS\", \"value\": -8.856544494628906}, {\"word\": \"close\", \"unit\": 49, \"timetick\": 7, \"target_act\": 1.0, \"unit_acc\": false, \"variable\": \"CS\", \"value\": -9.625754356384277}, {\"word\": \"close\", \"unit\": 104, \"timetick\": 7, \"target_act\": 1.0, \"unit_acc\": false, \"variable\": \"CS\", \"value\": -5.970578193664551}, {\"word\": \"close\", \"unit\": 209, \"timetick\": 7, \"target_act\": 1.0, \"unit_acc\": false, \"variable\": \"CS\", \"value\": -10.636249542236328}, {\"word\": \"close\", \"unit\": 236, \"timetick\": 7, \"target_act\": 1.0, \"unit_acc\": false, \"variable\": \"CS\", \"value\": -4.518606185913086}, {\"word\": \"close\", \"unit\": 813, \"timetick\": 7, \"target_act\": 1.0, \"unit_acc\": false, \"variable\": \"CS\", \"value\": -9.773927688598633}, {\"word\": \"close\", \"unit\": 913, \"timetick\": 7, \"target_act\": 1.0, \"unit_acc\": false, \"variable\": \"CS\", \"value\": -16.17435073852539}, {\"word\": \"close\", \"unit\": 1148, \"timetick\": 7, \"target_act\": 1.0, \"unit_acc\": false, \"variable\": \"CS\", \"value\": -9.674986839294434}, {\"word\": \"close\", \"unit\": 4, \"timetick\": 8, \"target_act\": 1.0, \"unit_acc\": false, \"variable\": \"CS\", \"value\": -5.2682952880859375}, {\"word\": \"close\", \"unit\": 6, \"timetick\": 8, \"target_act\": 1.0, \"unit_acc\": false, \"variable\": \"CS\", \"value\": -8.83981990814209}, {\"word\": \"close\", \"unit\": 29, \"timetick\": 8, \"target_act\": 1.0, \"unit_acc\": false, \"variable\": \"CS\", \"value\": -9.118762016296387}, {\"word\": \"close\", \"unit\": 46, \"timetick\": 8, \"target_act\": 1.0, \"unit_acc\": false, \"variable\": \"CS\", \"value\": -7.298031806945801}, {\"word\": \"close\", \"unit\": 49, \"timetick\": 8, \"target_act\": 1.0, \"unit_acc\": false, \"variable\": \"CS\", \"value\": -7.795809745788574}, {\"word\": \"close\", \"unit\": 104, \"timetick\": 8, \"target_act\": 1.0, \"unit_acc\": false, \"variable\": \"CS\", \"value\": -4.815123081207275}, {\"word\": \"close\", \"unit\": 209, \"timetick\": 8, \"target_act\": 1.0, \"unit_acc\": false, \"variable\": \"CS\", \"value\": -7.960873603820801}, {\"word\": \"close\", \"unit\": 236, \"timetick\": 8, \"target_act\": 1.0, \"unit_acc\": false, \"variable\": \"CS\", \"value\": -3.4918322563171387}, {\"word\": \"close\", \"unit\": 813, \"timetick\": 8, \"target_act\": 1.0, \"unit_acc\": false, \"variable\": \"CS\", \"value\": -9.034205436706543}, {\"word\": \"close\", \"unit\": 913, \"timetick\": 8, \"target_act\": 1.0, \"unit_acc\": false, \"variable\": \"CS\", \"value\": -13.919809341430664}, {\"word\": \"close\", \"unit\": 1148, \"timetick\": 8, \"target_act\": 1.0, \"unit_acc\": false, \"variable\": \"CS\", \"value\": -8.865640640258789}, {\"word\": \"close\", \"unit\": 4, \"timetick\": 9, \"target_act\": 1.0, \"unit_acc\": false, \"variable\": \"CS\", \"value\": -5.9325456619262695}, {\"word\": \"close\", \"unit\": 6, \"timetick\": 9, \"target_act\": 1.0, \"unit_acc\": false, \"variable\": \"CS\", \"value\": -7.226530075073242}, {\"word\": \"close\", \"unit\": 29, \"timetick\": 9, \"target_act\": 1.0, \"unit_acc\": false, \"variable\": \"CS\", \"value\": -6.729207992553711}, {\"word\": \"close\", \"unit\": 46, \"timetick\": 9, \"target_act\": 1.0, \"unit_acc\": false, \"variable\": \"CS\", \"value\": -5.744972229003906}, {\"word\": \"close\", \"unit\": 49, \"timetick\": 9, \"target_act\": 1.0, \"unit_acc\": false, \"variable\": \"CS\", \"value\": -5.885401248931885}, {\"word\": \"close\", \"unit\": 104, \"timetick\": 9, \"target_act\": 1.0, \"unit_acc\": false, \"variable\": \"CS\", \"value\": -4.438685894012451}, {\"word\": \"close\", \"unit\": 209, \"timetick\": 9, \"target_act\": 1.0, \"unit_acc\": false, \"variable\": \"CS\", \"value\": -5.709256172180176}, {\"word\": \"close\", \"unit\": 236, \"timetick\": 9, \"target_act\": 1.0, \"unit_acc\": false, \"variable\": \"CS\", \"value\": -3.4831459522247314}, {\"word\": \"close\", \"unit\": 813, \"timetick\": 9, \"target_act\": 1.0, \"unit_acc\": false, \"variable\": \"CS\", \"value\": -7.841100692749023}, {\"word\": \"close\", \"unit\": 913, \"timetick\": 9, \"target_act\": 1.0, \"unit_acc\": false, \"variable\": \"CS\", \"value\": -10.52806282043457}, {\"word\": \"close\", \"unit\": 1148, \"timetick\": 9, \"target_act\": 1.0, \"unit_acc\": false, \"variable\": \"CS\", \"value\": -7.183637619018555}, {\"word\": \"close\", \"unit\": 4, \"timetick\": 10, \"target_act\": 1.0, \"unit_acc\": false, \"variable\": \"CS\", \"value\": -7.969028472900391}, {\"word\": \"close\", \"unit\": 6, \"timetick\": 10, \"target_act\": 1.0, \"unit_acc\": false, \"variable\": \"CS\", \"value\": -6.733262538909912}, {\"word\": \"close\", \"unit\": 29, \"timetick\": 10, \"target_act\": 1.0, \"unit_acc\": false, \"variable\": \"CS\", \"value\": -7.024228572845459}, {\"word\": \"close\", \"unit\": 46, \"timetick\": 10, \"target_act\": 1.0, \"unit_acc\": false, \"variable\": \"CS\", \"value\": -5.84611177444458}, {\"word\": \"close\", \"unit\": 49, \"timetick\": 10, \"target_act\": 1.0, \"unit_acc\": false, \"variable\": \"CS\", \"value\": -4.999948501586914}, {\"word\": \"close\", \"unit\": 104, \"timetick\": 10, \"target_act\": 1.0, \"unit_acc\": false, \"variable\": \"CS\", \"value\": -4.8380208015441895}, {\"word\": \"close\", \"unit\": 209, \"timetick\": 10, \"target_act\": 1.0, \"unit_acc\": false, \"variable\": \"CS\", \"value\": -5.102017402648926}, {\"word\": \"close\", \"unit\": 236, \"timetick\": 10, \"target_act\": 1.0, \"unit_acc\": false, \"variable\": \"CS\", \"value\": -3.4450221061706543}, {\"word\": \"close\", \"unit\": 813, \"timetick\": 10, \"target_act\": 1.0, \"unit_acc\": false, \"variable\": \"CS\", \"value\": -7.214061737060547}, {\"word\": \"close\", \"unit\": 913, \"timetick\": 10, \"target_act\": 1.0, \"unit_acc\": false, \"variable\": \"CS\", \"value\": -8.209250450134277}, {\"word\": \"close\", \"unit\": 1148, \"timetick\": 10, \"target_act\": 1.0, \"unit_acc\": false, \"variable\": \"CS\", \"value\": -6.636575222015381}, {\"word\": \"close\", \"unit\": 4, \"timetick\": 11, \"target_act\": 1.0, \"unit_acc\": false, \"variable\": \"CS\", \"value\": -9.902709007263184}, {\"word\": \"close\", \"unit\": 6, \"timetick\": 11, \"target_act\": 1.0, \"unit_acc\": false, \"variable\": \"CS\", \"value\": -7.838352680206299}, {\"word\": \"close\", \"unit\": 29, \"timetick\": 11, \"target_act\": 1.0, \"unit_acc\": false, \"variable\": \"CS\", \"value\": -7.305075645446777}, {\"word\": \"close\", \"unit\": 46, \"timetick\": 11, \"target_act\": 1.0, \"unit_acc\": false, \"variable\": \"CS\", \"value\": -6.839609622955322}, {\"word\": \"close\", \"unit\": 49, \"timetick\": 11, \"target_act\": 1.0, \"unit_acc\": false, \"variable\": \"CS\", \"value\": -5.196589469909668}, {\"word\": \"close\", \"unit\": 104, \"timetick\": 11, \"target_act\": 1.0, \"unit_acc\": false, \"variable\": \"CS\", \"value\": -6.013364315032959}, {\"word\": \"close\", \"unit\": 209, \"timetick\": 11, \"target_act\": 1.0, \"unit_acc\": false, \"variable\": \"CS\", \"value\": -5.893376350402832}, {\"word\": \"close\", \"unit\": 236, \"timetick\": 11, \"target_act\": 1.0, \"unit_acc\": false, \"variable\": \"CS\", \"value\": -3.4200711250305176}, {\"word\": \"close\", \"unit\": 813, \"timetick\": 11, \"target_act\": 1.0, \"unit_acc\": false, \"variable\": \"CS\", \"value\": -7.651331901550293}, {\"word\": \"close\", \"unit\": 913, \"timetick\": 11, \"target_act\": 1.0, \"unit_acc\": false, \"variable\": \"CS\", \"value\": -7.506565570831299}, {\"word\": \"close\", \"unit\": 1148, \"timetick\": 11, \"target_act\": 1.0, \"unit_acc\": false, \"variable\": \"CS\", \"value\": -7.46141242980957}, {\"word\": \"close\", \"unit\": 4, \"timetick\": 12, \"target_act\": 1.0, \"unit_acc\": false, \"variable\": \"CS\", \"value\": -12.859926223754883}, {\"word\": \"close\", \"unit\": 6, \"timetick\": 12, \"target_act\": 1.0, \"unit_acc\": false, \"variable\": \"CS\", \"value\": -12.18535041809082}, {\"word\": \"close\", \"unit\": 29, \"timetick\": 12, \"target_act\": 1.0, \"unit_acc\": false, \"variable\": \"CS\", \"value\": -11.991341590881348}, {\"word\": \"close\", \"unit\": 46, \"timetick\": 12, \"target_act\": 1.0, \"unit_acc\": false, \"variable\": \"CS\", \"value\": -11.136051177978516}, {\"word\": \"close\", \"unit\": 49, \"timetick\": 12, \"target_act\": 1.0, \"unit_acc\": false, \"variable\": \"CS\", \"value\": -8.161678314208984}, {\"word\": \"close\", \"unit\": 104, \"timetick\": 12, \"target_act\": 1.0, \"unit_acc\": false, \"variable\": \"CS\", \"value\": -9.577216148376465}, {\"word\": \"close\", \"unit\": 209, \"timetick\": 12, \"target_act\": 1.0, \"unit_acc\": false, \"variable\": \"CS\", \"value\": -10.655041694641113}, {\"word\": \"close\", \"unit\": 236, \"timetick\": 12, \"target_act\": 1.0, \"unit_acc\": false, \"variable\": \"CS\", \"value\": -6.975786209106445}, {\"word\": \"close\", \"unit\": 813, \"timetick\": 12, \"target_act\": 1.0, \"unit_acc\": false, \"variable\": \"CS\", \"value\": -10.488258361816406}, {\"word\": \"close\", \"unit\": 913, \"timetick\": 12, \"target_act\": 1.0, \"unit_acc\": false, \"variable\": \"CS\", \"value\": -9.74089241027832}, {\"word\": \"close\", \"unit\": 1148, \"timetick\": 12, \"target_act\": 1.0, \"unit_acc\": false, \"variable\": \"CS\", \"value\": -10.988679885864258}, {\"word\": \"close\", \"unit\": 4, \"timetick\": 0, \"target_act\": 1.0, \"unit_acc\": false, \"variable\": \"OS\", \"value\": 0.0}, {\"word\": \"close\", \"unit\": 6, \"timetick\": 0, \"target_act\": 1.0, \"unit_acc\": false, \"variable\": \"OS\", \"value\": 0.0}, {\"word\": \"close\", \"unit\": 29, \"timetick\": 0, \"target_act\": 1.0, \"unit_acc\": false, \"variable\": \"OS\", \"value\": 0.0}, {\"word\": \"close\", \"unit\": 46, \"timetick\": 0, \"target_act\": 1.0, \"unit_acc\": false, \"variable\": \"OS\", \"value\": 0.0}, {\"word\": \"close\", \"unit\": 49, \"timetick\": 0, \"target_act\": 1.0, \"unit_acc\": false, \"variable\": \"OS\", \"value\": 0.0}, {\"word\": \"close\", \"unit\": 104, \"timetick\": 0, \"target_act\": 1.0, \"unit_acc\": false, \"variable\": \"OS\", \"value\": 0.0}, {\"word\": \"close\", \"unit\": 209, \"timetick\": 0, \"target_act\": 1.0, \"unit_acc\": false, \"variable\": \"OS\", \"value\": 0.0}, {\"word\": \"close\", \"unit\": 236, \"timetick\": 0, \"target_act\": 1.0, \"unit_acc\": false, \"variable\": \"OS\", \"value\": 0.0}, {\"word\": \"close\", \"unit\": 813, \"timetick\": 0, \"target_act\": 1.0, \"unit_acc\": false, \"variable\": \"OS\", \"value\": 0.0}, {\"word\": \"close\", \"unit\": 913, \"timetick\": 0, \"target_act\": 1.0, \"unit_acc\": false, \"variable\": \"OS\", \"value\": 0.0}, {\"word\": \"close\", \"unit\": 1148, \"timetick\": 0, \"target_act\": 1.0, \"unit_acc\": false, \"variable\": \"OS\", \"value\": 0.0}, {\"word\": \"close\", \"unit\": 4, \"timetick\": 1, \"target_act\": 1.0, \"unit_acc\": false, \"variable\": \"OS\", \"value\": -19.81118392944336}, {\"word\": \"close\", \"unit\": 6, \"timetick\": 1, \"target_act\": 1.0, \"unit_acc\": false, \"variable\": \"OS\", \"value\": -20.843677520751953}, {\"word\": \"close\", \"unit\": 29, \"timetick\": 1, \"target_act\": 1.0, \"unit_acc\": false, \"variable\": \"OS\", \"value\": -2.3022212982177734}, {\"word\": \"close\", \"unit\": 46, \"timetick\": 1, \"target_act\": 1.0, \"unit_acc\": false, \"variable\": \"OS\", \"value\": -16.923614501953125}, {\"word\": \"close\", \"unit\": 49, \"timetick\": 1, \"target_act\": 1.0, \"unit_acc\": false, \"variable\": \"OS\", \"value\": -22.05923080444336}, {\"word\": \"close\", \"unit\": 104, \"timetick\": 1, \"target_act\": 1.0, \"unit_acc\": false, \"variable\": \"OS\", \"value\": -20.852169036865234}, {\"word\": \"close\", \"unit\": 209, \"timetick\": 1, \"target_act\": 1.0, \"unit_acc\": false, \"variable\": \"OS\", \"value\": -32.528533935546875}, {\"word\": \"close\", \"unit\": 236, \"timetick\": 1, \"target_act\": 1.0, \"unit_acc\": false, \"variable\": \"OS\", \"value\": -10.225238800048828}, {\"word\": \"close\", \"unit\": 813, \"timetick\": 1, \"target_act\": 1.0, \"unit_acc\": false, \"variable\": \"OS\", \"value\": -21.963613510131836}, {\"word\": \"close\", \"unit\": 913, \"timetick\": 1, \"target_act\": 1.0, \"unit_acc\": false, \"variable\": \"OS\", \"value\": -30.148670196533203}, {\"word\": \"close\", \"unit\": 1148, \"timetick\": 1, \"target_act\": 1.0, \"unit_acc\": false, \"variable\": \"OS\", \"value\": -19.10183334350586}, {\"word\": \"close\", \"unit\": 4, \"timetick\": 2, \"target_act\": 1.0, \"unit_acc\": false, \"variable\": \"OS\", \"value\": -3.2801854610443115}, {\"word\": \"close\", \"unit\": 6, \"timetick\": 2, \"target_act\": 1.0, \"unit_acc\": false, \"variable\": \"OS\", \"value\": -3.760288715362549}, {\"word\": \"close\", \"unit\": 29, \"timetick\": 2, \"target_act\": 1.0, \"unit_acc\": false, \"variable\": \"OS\", \"value\": 1.2222836017608643}, {\"word\": \"close\", \"unit\": 46, \"timetick\": 2, \"target_act\": 1.0, \"unit_acc\": false, \"variable\": \"OS\", \"value\": -5.056488513946533}, {\"word\": \"close\", \"unit\": 49, \"timetick\": 2, \"target_act\": 1.0, \"unit_acc\": false, \"variable\": \"OS\", \"value\": -6.251227855682373}, {\"word\": \"close\", \"unit\": 104, \"timetick\": 2, \"target_act\": 1.0, \"unit_acc\": false, \"variable\": \"OS\", \"value\": -4.473574161529541}, {\"word\": \"close\", \"unit\": 209, \"timetick\": 2, \"target_act\": 1.0, \"unit_acc\": false, \"variable\": \"OS\", \"value\": -8.31805419921875}, {\"word\": \"close\", \"unit\": 236, \"timetick\": 2, \"target_act\": 1.0, \"unit_acc\": false, \"variable\": \"OS\", \"value\": 1.1284685134887695}, {\"word\": \"close\", \"unit\": 813, \"timetick\": 2, \"target_act\": 1.0, \"unit_acc\": false, \"variable\": \"OS\", \"value\": -3.988933801651001}, {\"word\": \"close\", \"unit\": 913, \"timetick\": 2, \"target_act\": 1.0, \"unit_acc\": false, \"variable\": \"OS\", \"value\": -3.9643592834472656}, {\"word\": \"close\", \"unit\": 1148, \"timetick\": 2, \"target_act\": 1.0, \"unit_acc\": false, \"variable\": \"OS\", \"value\": -4.118943214416504}, {\"word\": \"close\", \"unit\": 4, \"timetick\": 3, \"target_act\": 1.0, \"unit_acc\": false, \"variable\": \"OS\", \"value\": 0.862980306148529}, {\"word\": \"close\", \"unit\": 6, \"timetick\": 3, \"target_act\": 1.0, \"unit_acc\": false, \"variable\": \"OS\", \"value\": 0.20021164417266846}, {\"word\": \"close\", \"unit\": 29, \"timetick\": 3, \"target_act\": 1.0, \"unit_acc\": false, \"variable\": \"OS\", \"value\": 2.098121404647827}, {\"word\": \"close\", \"unit\": 46, \"timetick\": 3, \"target_act\": 1.0, \"unit_acc\": false, \"variable\": \"OS\", \"value\": -1.120242953300476}, {\"word\": \"close\", \"unit\": 49, \"timetick\": 3, \"target_act\": 1.0, \"unit_acc\": false, \"variable\": \"OS\", \"value\": -1.356321930885315}, {\"word\": \"close\", \"unit\": 104, \"timetick\": 3, \"target_act\": 1.0, \"unit_acc\": false, \"variable\": \"OS\", \"value\": 0.5722202658653259}, {\"word\": \"close\", \"unit\": 209, \"timetick\": 3, \"target_act\": 1.0, \"unit_acc\": false, \"variable\": \"OS\", \"value\": -0.847474217414856}, {\"word\": \"close\", \"unit\": 236, \"timetick\": 3, \"target_act\": 1.0, \"unit_acc\": false, \"variable\": \"OS\", \"value\": 4.7666473388671875}, {\"word\": \"close\", \"unit\": 813, \"timetick\": 3, \"target_act\": 1.0, \"unit_acc\": false, \"variable\": \"OS\", \"value\": -0.6731367111206055}, {\"word\": \"close\", \"unit\": 913, \"timetick\": 3, \"target_act\": 1.0, \"unit_acc\": false, \"variable\": \"OS\", \"value\": 2.1907334327697754}, {\"word\": \"close\", \"unit\": 1148, \"timetick\": 3, \"target_act\": 1.0, \"unit_acc\": false, \"variable\": \"OS\", \"value\": -0.42127251625061035}, {\"word\": \"close\", \"unit\": 4, \"timetick\": 4, \"target_act\": 1.0, \"unit_acc\": false, \"variable\": \"OS\", \"value\": 2.3579564094543457}, {\"word\": \"close\", \"unit\": 6, \"timetick\": 4, \"target_act\": 1.0, \"unit_acc\": false, \"variable\": \"OS\", \"value\": 1.6076892614364624}, {\"word\": \"close\", \"unit\": 29, \"timetick\": 4, \"target_act\": 1.0, \"unit_acc\": false, \"variable\": \"OS\", \"value\": 2.3709683418273926}, {\"word\": \"close\", \"unit\": 46, \"timetick\": 4, \"target_act\": 1.0, \"unit_acc\": false, \"variable\": \"OS\", \"value\": 0.4265918731689453}, {\"word\": \"close\", \"unit\": 49, \"timetick\": 4, \"target_act\": 1.0, \"unit_acc\": false, \"variable\": \"OS\", \"value\": 0.5792278051376343}, {\"word\": \"close\", \"unit\": 104, \"timetick\": 4, \"target_act\": 1.0, \"unit_acc\": false, \"variable\": \"OS\", \"value\": 2.5167484283447266}, {\"word\": \"close\", \"unit\": 209, \"timetick\": 4, \"target_act\": 1.0, \"unit_acc\": false, \"variable\": \"OS\", \"value\": 1.9192204475402832}, {\"word\": \"close\", \"unit\": 236, \"timetick\": 4, \"target_act\": 1.0, \"unit_acc\": false, \"variable\": \"OS\", \"value\": 6.312551498413086}, {\"word\": \"close\", \"unit\": 813, \"timetick\": 4, \"target_act\": 1.0, \"unit_acc\": false, \"variable\": \"OS\", \"value\": 0.40440571308135986}, {\"word\": \"close\", \"unit\": 913, \"timetick\": 4, \"target_act\": 1.0, \"unit_acc\": false, \"variable\": \"OS\", \"value\": 4.371368408203125}, {\"word\": \"close\", \"unit\": 1148, \"timetick\": 4, \"target_act\": 1.0, \"unit_acc\": false, \"variable\": \"OS\", \"value\": 0.9059086441993713}, {\"word\": \"close\", \"unit\": 4, \"timetick\": 5, \"target_act\": 1.0, \"unit_acc\": false, \"variable\": \"OS\", \"value\": 3.0511457920074463}, {\"word\": \"close\", \"unit\": 6, \"timetick\": 5, \"target_act\": 1.0, \"unit_acc\": false, \"variable\": \"OS\", \"value\": 2.229750394821167}, {\"word\": \"close\", \"unit\": 29, \"timetick\": 5, \"target_act\": 1.0, \"unit_acc\": false, \"variable\": \"OS\", \"value\": 2.478370189666748}, {\"word\": \"close\", \"unit\": 46, \"timetick\": 5, \"target_act\": 1.0, \"unit_acc\": false, \"variable\": \"OS\", \"value\": 1.1634706258773804}, {\"word\": \"close\", \"unit\": 49, \"timetick\": 5, \"target_act\": 1.0, \"unit_acc\": false, \"variable\": \"OS\", \"value\": 1.5087007284164429}, {\"word\": \"close\", \"unit\": 104, \"timetick\": 5, \"target_act\": 1.0, \"unit_acc\": false, \"variable\": \"OS\", \"value\": 3.433140754699707}, {\"word\": \"close\", \"unit\": 209, \"timetick\": 5, \"target_act\": 1.0, \"unit_acc\": false, \"variable\": \"OS\", \"value\": 3.193329095840454}, {\"word\": \"close\", \"unit\": 236, \"timetick\": 5, \"target_act\": 1.0, \"unit_acc\": false, \"variable\": \"OS\", \"value\": 7.051410675048828}, {\"word\": \"close\", \"unit\": 813, \"timetick\": 5, \"target_act\": 1.0, \"unit_acc\": false, \"variable\": \"OS\", \"value\": 0.9022122025489807}, {\"word\": \"close\", \"unit\": 913, \"timetick\": 5, \"target_act\": 1.0, \"unit_acc\": false, \"variable\": \"OS\", \"value\": 5.374120235443115}, {\"word\": \"close\", \"unit\": 1148, \"timetick\": 5, \"target_act\": 1.0, \"unit_acc\": false, \"variable\": \"OS\", \"value\": 1.5319443941116333}, {\"word\": \"close\", \"unit\": 4, \"timetick\": 6, \"target_act\": 1.0, \"unit_acc\": false, \"variable\": \"OS\", \"value\": 3.420522689819336}, {\"word\": \"close\", \"unit\": 6, \"timetick\": 6, \"target_act\": 1.0, \"unit_acc\": false, \"variable\": \"OS\", \"value\": 2.552241802215576}, {\"word\": \"close\", \"unit\": 29, \"timetick\": 6, \"target_act\": 1.0, \"unit_acc\": false, \"variable\": \"OS\", \"value\": 2.533665180206299}, {\"word\": \"close\", \"unit\": 46, \"timetick\": 6, \"target_act\": 1.0, \"unit_acc\": false, \"variable\": \"OS\", \"value\": 1.5631011724472046}, {\"word\": \"close\", \"unit\": 49, \"timetick\": 6, \"target_act\": 1.0, \"unit_acc\": false, \"variable\": \"OS\", \"value\": 2.0135161876678467}, {\"word\": \"close\", \"unit\": 104, \"timetick\": 6, \"target_act\": 1.0, \"unit_acc\": false, \"variable\": \"OS\", \"value\": 3.924177646636963}, {\"word\": \"close\", \"unit\": 209, \"timetick\": 6, \"target_act\": 1.0, \"unit_acc\": false, \"variable\": \"OS\", \"value\": 3.866403579711914}, {\"word\": \"close\", \"unit\": 236, \"timetick\": 6, \"target_act\": 1.0, \"unit_acc\": false, \"variable\": \"OS\", \"value\": 7.449048042297363}, {\"word\": \"close\", \"unit\": 813, \"timetick\": 6, \"target_act\": 1.0, \"unit_acc\": false, \"variable\": \"OS\", \"value\": 1.1739367246627808}, {\"word\": \"close\", \"unit\": 913, \"timetick\": 6, \"target_act\": 1.0, \"unit_acc\": false, \"variable\": \"OS\", \"value\": 5.907664775848389}, {\"word\": \"close\", \"unit\": 1148, \"timetick\": 6, \"target_act\": 1.0, \"unit_acc\": false, \"variable\": \"OS\", \"value\": 1.8731497526168823}, {\"word\": \"close\", \"unit\": 4, \"timetick\": 7, \"target_act\": 1.0, \"unit_acc\": false, \"variable\": \"OS\", \"value\": 3.6336677074432373}, {\"word\": \"close\", \"unit\": 6, \"timetick\": 7, \"target_act\": 1.0, \"unit_acc\": false, \"variable\": \"OS\", \"value\": 2.733039140701294}, {\"word\": \"close\", \"unit\": 29, \"timetick\": 7, \"target_act\": 1.0, \"unit_acc\": false, \"variable\": \"OS\", \"value\": 2.5610098838806152}, {\"word\": \"close\", \"unit\": 46, \"timetick\": 7, \"target_act\": 1.0, \"unit_acc\": false, \"variable\": \"OS\", \"value\": 1.7983531951904297}, {\"word\": \"close\", \"unit\": 49, \"timetick\": 7, \"target_act\": 1.0, \"unit_acc\": false, \"variable\": \"OS\", \"value\": 2.307323455810547}, {\"word\": \"close\", \"unit\": 104, \"timetick\": 7, \"target_act\": 1.0, \"unit_acc\": false, \"variable\": \"OS\", \"value\": 4.210562705993652}, {\"word\": \"close\", \"unit\": 209, \"timetick\": 7, \"target_act\": 1.0, \"unit_acc\": false, \"variable\": \"OS\", \"value\": 4.251816749572754}, {\"word\": \"close\", \"unit\": 236, \"timetick\": 7, \"target_act\": 1.0, \"unit_acc\": false, \"variable\": \"OS\", \"value\": 7.679231643676758}, {\"word\": \"close\", \"unit\": 813, \"timetick\": 7, \"target_act\": 1.0, \"unit_acc\": false, \"variable\": \"OS\", \"value\": 1.3344178199768066}, {\"word\": \"close\", \"unit\": 913, \"timetick\": 7, \"target_act\": 1.0, \"unit_acc\": false, \"variable\": \"OS\", \"value\": 6.217128753662109}, {\"word\": \"close\", \"unit\": 1148, \"timetick\": 7, \"target_act\": 1.0, \"unit_acc\": false, \"variable\": \"OS\", \"value\": 2.0711019039154053}, {\"word\": \"close\", \"unit\": 4, \"timetick\": 8, \"target_act\": 1.0, \"unit_acc\": false, \"variable\": \"OS\", \"value\": 3.7642083168029785}, {\"word\": \"close\", \"unit\": 6, \"timetick\": 8, \"target_act\": 1.0, \"unit_acc\": false, \"variable\": \"OS\", \"value\": 2.842087984085083}, {\"word\": \"close\", \"unit\": 29, \"timetick\": 8, \"target_act\": 1.0, \"unit_acc\": false, \"variable\": \"OS\", \"value\": 2.5773208141326904}, {\"word\": \"close\", \"unit\": 46, \"timetick\": 8, \"target_act\": 1.0, \"unit_acc\": false, \"variable\": \"OS\", \"value\": 1.9427971839904785}, {\"word\": \"close\", \"unit\": 49, \"timetick\": 8, \"target_act\": 1.0, \"unit_acc\": false, \"variable\": \"OS\", \"value\": 2.488429069519043}, {\"word\": \"close\", \"unit\": 104, \"timetick\": 8, \"target_act\": 1.0, \"unit_acc\": false, \"variable\": \"OS\", \"value\": 4.383182525634766}, {\"word\": \"close\", \"unit\": 209, \"timetick\": 8, \"target_act\": 1.0, \"unit_acc\": false, \"variable\": \"OS\", \"value\": 4.484976768493652}, {\"word\": \"close\", \"unit\": 236, \"timetick\": 8, \"target_act\": 1.0, \"unit_acc\": false, \"variable\": \"OS\", \"value\": 7.817975997924805}, {\"word\": \"close\", \"unit\": 813, \"timetick\": 8, \"target_act\": 1.0, \"unit_acc\": false, \"variable\": \"OS\", \"value\": 1.4351600408554077}, {\"word\": \"close\", \"unit\": 913, \"timetick\": 8, \"target_act\": 1.0, \"unit_acc\": false, \"variable\": \"OS\", \"value\": 6.407334804534912}, {\"word\": \"close\", \"unit\": 1148, \"timetick\": 8, \"target_act\": 1.0, \"unit_acc\": false, \"variable\": \"OS\", \"value\": 2.192582607269287}, {\"word\": \"close\", \"unit\": 4, \"timetick\": 9, \"target_act\": 1.0, \"unit_acc\": false, \"variable\": \"OS\", \"value\": 3.8466598987579346}, {\"word\": \"close\", \"unit\": 6, \"timetick\": 9, \"target_act\": 1.0, \"unit_acc\": false, \"variable\": \"OS\", \"value\": 2.9082562923431396}, {\"word\": \"close\", \"unit\": 29, \"timetick\": 9, \"target_act\": 1.0, \"unit_acc\": false, \"variable\": \"OS\", \"value\": 2.5883233547210693}, {\"word\": \"close\", \"unit\": 46, \"timetick\": 9, \"target_act\": 1.0, \"unit_acc\": false, \"variable\": \"OS\", \"value\": 2.0345468521118164}, {\"word\": \"close\", \"unit\": 49, \"timetick\": 9, \"target_act\": 1.0, \"unit_acc\": false, \"variable\": \"OS\", \"value\": 2.6011767387390137}, {\"word\": \"close\", \"unit\": 104, \"timetick\": 9, \"target_act\": 1.0, \"unit_acc\": false, \"variable\": \"OS\", \"value\": 4.492513179779053}, {\"word\": \"close\", \"unit\": 209, \"timetick\": 9, \"target_act\": 1.0, \"unit_acc\": false, \"variable\": \"OS\", \"value\": 4.631861209869385}, {\"word\": \"close\", \"unit\": 236, \"timetick\": 9, \"target_act\": 1.0, \"unit_acc\": false, \"variable\": \"OS\", \"value\": 7.907094478607178}, {\"word\": \"close\", \"unit\": 813, \"timetick\": 9, \"target_act\": 1.0, \"unit_acc\": false, \"variable\": \"OS\", \"value\": 1.5002692937850952}, {\"word\": \"close\", \"unit\": 913, \"timetick\": 9, \"target_act\": 1.0, \"unit_acc\": false, \"variable\": \"OS\", \"value\": 6.525233745574951}, {\"word\": \"close\", \"unit\": 1148, \"timetick\": 9, \"target_act\": 1.0, \"unit_acc\": false, \"variable\": \"OS\", \"value\": 2.268129825592041}, {\"word\": \"close\", \"unit\": 4, \"timetick\": 10, \"target_act\": 1.0, \"unit_acc\": false, \"variable\": \"OS\", \"value\": 3.8992836475372314}, {\"word\": \"close\", \"unit\": 6, \"timetick\": 10, \"target_act\": 1.0, \"unit_acc\": false, \"variable\": \"OS\", \"value\": 2.9511797428131104}, {\"word\": \"close\", \"unit\": 29, \"timetick\": 10, \"target_act\": 1.0, \"unit_acc\": false, \"variable\": \"OS\", \"value\": 2.595648765563965}, {\"word\": \"close\", \"unit\": 46, \"timetick\": 10, \"target_act\": 1.0, \"unit_acc\": false, \"variable\": \"OS\", \"value\": 2.0939571857452393}, {\"word\": \"close\", \"unit\": 49, \"timetick\": 10, \"target_act\": 1.0, \"unit_acc\": false, \"variable\": \"OS\", \"value\": 2.6736114025115967}, {\"word\": \"close\", \"unit\": 104, \"timetick\": 10, \"target_act\": 1.0, \"unit_acc\": false, \"variable\": \"OS\", \"value\": 4.562836170196533}, {\"word\": \"close\", \"unit\": 209, \"timetick\": 10, \"target_act\": 1.0, \"unit_acc\": false, \"variable\": \"OS\", \"value\": 4.725483417510986}, {\"word\": \"close\", \"unit\": 236, \"timetick\": 10, \"target_act\": 1.0, \"unit_acc\": false, \"variable\": \"OS\", \"value\": 7.962542533874512}, {\"word\": \"close\", \"unit\": 813, \"timetick\": 10, \"target_act\": 1.0, \"unit_acc\": false, \"variable\": \"OS\", \"value\": 1.5410300493240356}, {\"word\": \"close\", \"unit\": 913, \"timetick\": 10, \"target_act\": 1.0, \"unit_acc\": false, \"variable\": \"OS\", \"value\": 6.602079391479492}, {\"word\": \"close\", \"unit\": 1148, \"timetick\": 10, \"target_act\": 1.0, \"unit_acc\": false, \"variable\": \"OS\", \"value\": 2.31745982170105}, {\"word\": \"close\", \"unit\": 4, \"timetick\": 11, \"target_act\": 1.0, \"unit_acc\": false, \"variable\": \"OS\", \"value\": 3.934641122817993}, {\"word\": \"close\", \"unit\": 6, \"timetick\": 11, \"target_act\": 1.0, \"unit_acc\": false, \"variable\": \"OS\", \"value\": 2.9772238731384277}, {\"word\": \"close\", \"unit\": 29, \"timetick\": 11, \"target_act\": 1.0, \"unit_acc\": false, \"variable\": \"OS\", \"value\": 2.5999093055725098}, {\"word\": \"close\", \"unit\": 46, \"timetick\": 11, \"target_act\": 1.0, \"unit_acc\": false, \"variable\": \"OS\", \"value\": 2.1329245567321777}, {\"word\": \"close\", \"unit\": 49, \"timetick\": 11, \"target_act\": 1.0, \"unit_acc\": false, \"variable\": \"OS\", \"value\": 2.7209701538085938}, {\"word\": \"close\", \"unit\": 104, \"timetick\": 11, \"target_act\": 1.0, \"unit_acc\": false, \"variable\": \"OS\", \"value\": 4.608060836791992}, {\"word\": \"close\", \"unit\": 209, \"timetick\": 11, \"target_act\": 1.0, \"unit_acc\": false, \"variable\": \"OS\", \"value\": 4.787393569946289}, {\"word\": \"close\", \"unit\": 236, \"timetick\": 11, \"target_act\": 1.0, \"unit_acc\": false, \"variable\": \"OS\", \"value\": 7.9983229637146}, {\"word\": \"close\", \"unit\": 813, \"timetick\": 11, \"target_act\": 1.0, \"unit_acc\": false, \"variable\": \"OS\", \"value\": 1.5672026872634888}, {\"word\": \"close\", \"unit\": 913, \"timetick\": 11, \"target_act\": 1.0, \"unit_acc\": false, \"variable\": \"OS\", \"value\": 6.651332378387451}, {\"word\": \"close\", \"unit\": 1148, \"timetick\": 11, \"target_act\": 1.0, \"unit_acc\": false, \"variable\": \"OS\", \"value\": 2.3504629135131836}, {\"word\": \"close\", \"unit\": 4, \"timetick\": 12, \"target_act\": 1.0, \"unit_acc\": false, \"variable\": \"OS\", \"value\": 3.9564156532287598}, {\"word\": \"close\", \"unit\": 6, \"timetick\": 12, \"target_act\": 1.0, \"unit_acc\": false, \"variable\": \"OS\", \"value\": 2.994755983352661}, {\"word\": \"close\", \"unit\": 29, \"timetick\": 12, \"target_act\": 1.0, \"unit_acc\": false, \"variable\": \"OS\", \"value\": 2.6032001972198486}, {\"word\": \"close\", \"unit\": 46, \"timetick\": 12, \"target_act\": 1.0, \"unit_acc\": false, \"variable\": \"OS\", \"value\": 2.15852689743042}, {\"word\": \"close\", \"unit\": 49, \"timetick\": 12, \"target_act\": 1.0, \"unit_acc\": false, \"variable\": \"OS\", \"value\": 2.7519638538360596}, {\"word\": \"close\", \"unit\": 104, \"timetick\": 12, \"target_act\": 1.0, \"unit_acc\": false, \"variable\": \"OS\", \"value\": 4.639124393463135}, {\"word\": \"close\", \"unit\": 209, \"timetick\": 12, \"target_act\": 1.0, \"unit_acc\": false, \"variable\": \"OS\", \"value\": 4.826467990875244}, {\"word\": \"close\", \"unit\": 236, \"timetick\": 12, \"target_act\": 1.0, \"unit_acc\": false, \"variable\": \"OS\", \"value\": 8.020245552062988}, {\"word\": \"close\", \"unit\": 813, \"timetick\": 12, \"target_act\": 1.0, \"unit_acc\": false, \"variable\": \"OS\", \"value\": 1.5835144519805908}, {\"word\": \"close\", \"unit\": 913, \"timetick\": 12, \"target_act\": 1.0, \"unit_acc\": false, \"variable\": \"OS\", \"value\": 6.684616565704346}, {\"word\": \"close\", \"unit\": 1148, \"timetick\": 12, \"target_act\": 1.0, \"unit_acc\": false, \"variable\": \"OS\", \"value\": 2.370209217071533}]}}, {\"mode\": \"vega-lite\"});\n",
       "</script>"
      ],
      "text/plain": [
       "alt.Chart(...)"
      ]
     },
     "execution_count": 12,
     "metadata": {},
     "output_type": "execute_result"
    }
   ],
   "source": [
    "sel_node = all_on_nodes\n",
    "node_df = df.loc[df.unit.isin(sel_node)]\n",
    "plot_df = node_df.loc[~node_df.variable.isin(['act', 'input', 'SS', 'PP'])]\n",
    "\n",
    "alt.Chart(plot_df).mark_line().encode(\n",
    "    y='mean(value):Q', \n",
    "    x='timetick:Q', \n",
    "    color='variable:N'\n",
    "    ).properties(title=f\"word: {target_word} at nodes: {sel_node}\")"
   ]
  },
  {
   "cell_type": "markdown",
   "metadata": {},
   "source": [
    "# Accuracy at the end of training"
   ]
  },
  {
   "cell_type": "code",
   "execution_count": 13,
   "metadata": {},
   "outputs": [],
   "source": [
    "from scipy.spatial.distance import cosine"
   ]
  },
  {
   "cell_type": "code",
   "execution_count": 14,
   "metadata": {},
   "outputs": [],
   "source": [
    "def min_cosine_distance_idx(all_reps, pred):\n",
    "    \"\"\"return the index of word that has min cosine distance\"\"\"\n",
    "    all_cosine_dist = [cosine(pred, rep) for rep in all_reps]\n",
    "    return np.argmin(all_cosine_dist) \n",
    "\n",
    "def cosine_accuracy(all_reps, pred, target):\n",
    "    \"\"\"Check whether the prediction is the min cosine distance word\"\"\"\n",
    "    target_idx = min_cosine_distance_idx(all_reps, target)\n",
    "    pred_idx = min_cosine_distance_idx(all_reps, pred)\n",
    "    return target_idx == pred_idx\n",
    "\n",
    "def all_cosine_accuracy(all_reps, preds, targets):\n",
    "    return np.mean([cosine_accuracy(all_reps, pred, target) for pred, target in zip(preds, targets)])\n",
    "\n",
    "def binary_accuracy(pred, target):\n",
    "    \"\"\"Calculate correct side accuracy\"\"\"\n",
    "    d = abs(pred - target)\n",
    "    max_d = np.max(d, axis = 1)\n",
    "    # print(max_d)\n",
    "    return np.mean(max_d < 0.5)\n",
    "\n",
    "def get_all_acc(y_pred):\n",
    "    \"\"\"Calculate accuracy of all outputs\"\"\"\n",
    "    mn_train = data_wrangling.load_testset('mn_train')\n",
    "    sem_acc = all_cosine_accuracy(all_reps=mn_train['sem'], preds=y_pred['sem'][-1].numpy(), targets=ts['sem'])\n",
    "    pho_acc = binary_accuracy(ts['pho'], y_pred['pho'][-1, :, :].numpy())\n",
    "    return {\n",
    "        \"pho\": pho_acc,\n",
    "        \"sem\": sem_acc\n",
    "    }\n",
    "\n",
    "def get_task_acc(task):\n",
    "    \"\"\"Get task acc\"\"\"\n",
    "    model.set_active_task(task)\n",
    "    input_name = modeling.IN_OUT[task][0]\n",
    "    y_pred = model([ts[input_name]] * cfg.n_timesteps)\n",
    "    return get_all_acc(y_pred)\n"
   ]
  },
  {
   "cell_type": "code",
   "execution_count": 15,
   "metadata": {},
   "outputs": [
    {
     "data": {
      "text/plain": [
       "{'pho': 0.96, 'sem': 0.88}"
      ]
     },
     "execution_count": 15,
     "metadata": {},
     "output_type": "execute_result"
    }
   ],
   "source": [
    "get_task_acc('triangle')"
   ]
  },
  {
   "cell_type": "code",
   "execution_count": 21,
   "metadata": {},
   "outputs": [
    {
     "data": {
      "text/plain": [
       "{'pho': 0.0, 'sem': 0.24}"
      ]
     },
     "execution_count": 21,
     "metadata": {},
     "output_type": "execute_result"
    }
   ],
   "source": [
    "get_task_acc('ort_sem')"
   ]
  },
  {
   "cell_type": "code",
   "execution_count": 22,
   "metadata": {},
   "outputs": [
    {
     "data": {
      "text/plain": [
       "{'pho': 0.96, 'sem': 0.31}"
      ]
     },
     "execution_count": 22,
     "metadata": {},
     "output_type": "execute_result"
    }
   ],
   "source": [
    "get_task_acc('exp_ops')"
   ]
  },
  {
   "cell_type": "code",
   "execution_count": 23,
   "metadata": {},
   "outputs": [
    {
     "data": {
      "text/plain": [
       "{'pho': 0.0, 'sem': 0.07}"
      ]
     },
     "execution_count": 23,
     "metadata": {},
     "output_type": "execute_result"
    }
   ],
   "source": [
    "get_task_acc('exp_osp')"
   ]
  },
  {
   "cell_type": "code",
   "execution_count": 24,
   "metadata": {},
   "outputs": [
    {
     "name": "stderr",
     "output_type": "stream",
     "text": [
      "/opt/conda/lib/python3.7/site-packages/scipy/spatial/distance.py:699: RuntimeWarning: invalid value encountered in double_scalars\n",
      "  dist = 1.0 - uv / np.sqrt(uu * vv)\n"
     ]
    },
    {
     "data": {
      "text/plain": [
       "{'pho': 0.96, 'sem': 0.0}"
      ]
     },
     "execution_count": 24,
     "metadata": {},
     "output_type": "execute_result"
    }
   ],
   "source": [
    "get_task_acc('ort_pho')"
   ]
  }
 ],
 "metadata": {
  "interpreter": {
   "hash": "d4d1e4263499bec80672ea0156c357c1ee493ec2b1c70f0acce89fc37c4a6abe"
  },
  "kernelspec": {
   "display_name": "Python 3.7.10 64-bit ('base': conda)",
   "name": "python3"
  },
  "language_info": {
   "codemirror_mode": {
    "name": "ipython",
    "version": 3
   },
   "file_extension": ".py",
   "mimetype": "text/x-python",
   "name": "python",
   "nbconvert_exporter": "python",
   "pygments_lexer": "ipython3",
   "version": "3.7.10"
  }
 },
 "nbformat": 4,
 "nbformat_minor": 2
}
