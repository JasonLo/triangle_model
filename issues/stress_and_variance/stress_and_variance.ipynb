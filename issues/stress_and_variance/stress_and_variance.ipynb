{
 "cells": [
  {
   "cell_type": "code",
   "execution_count": null,
   "metadata": {},
   "outputs": [],
   "source": [
    "%reload_ext lab_black\n",
    "import sqlite3\n",
    "import pandas as pd"
   ]
  },
  {
   "cell_type": "code",
   "execution_count": null,
   "metadata": {},
   "outputs": [],
   "source": [
    "batch_name = \"error_injection_timing_test\"\n",
    "con = sqlite3.connect(\n",
    "    f\"/home/jupyter/tf/models/batch_run/{batch_name}/batch_results.sqlite\"\n",
    ")\n",
    "cur = con.cursor()\n",
    "cur.execute(\"SELECT name FROM sqlite_master WHERE type='table';\")\n",
    "print(f'Result tables: {cur.fetchall()}')"
   ]
  },
  {
   "cell_type": "code",
   "execution_count": null,
   "metadata": {},
   "outputs": [],
   "source": [
    "batch_config = pd.read_sql_query(\"SELECT * from batch_config\", con)\n",
    "strain_df = pd.read_sql_query(\"SELECT * from strain\", con)\n",
    "grain_df = pd.read_sql"
   ]
  },
  {
   "cell_type": "code",
   "execution_count": null,
   "metadata": {},
   "outputs": [],
   "source": [
    "# Print columns\n",
    "\n",
    "cur.execute(\"select * from strain\")\n",
    "next(zip(*cur.description))"
   ]
  },
  {
   "cell_type": "code",
   "execution_count": null,
   "metadata": {},
   "outputs": [],
   "source": []
  },
  {
   "cell_type": "code",
   "execution_count": null,
   "metadata": {},
   "outputs": [],
   "source": [
    "query = \"\"\"\n",
    "    SELECT \n",
    "        code_name, \n",
    "        epoch, \n",
    "        timetick, \n",
    "        y, \n",
    "        testset, \n",
    "        AVG(acc) as acc, \n",
    "        AVG(sse) as sse, \n",
    "        AVG(conditional_sse) as conditional_sse\n",
    "    FROM strain\n",
    "    GROUP BY\n",
    "        code_name, \n",
    "        epoch,\n",
    "        timetick,\n",
    "        y,\n",
    "        testset\n",
    "    \"\"\"\n",
    "\n",
    "strain_df = pd.read_sql_query(query, con)\n"
   ]
  },
  {
   "cell_type": "code",
   "execution_count": null,
   "metadata": {},
   "outputs": [],
   "source": [
    "query = \"\"\"\n",
    "    SELECT \n",
    "        code_name, \n",
    "        epoch, \n",
    "        timetick, \n",
    "        y, \n",
    "        testset, \n",
    "        AVG(acc) as acc, \n",
    "        AVG(sse) as sse, \n",
    "        AVG(conditional_sse) as conditional_sse\n",
    "    FROM grain\n",
    "    GROUP BY\n",
    "        code_name, \n",
    "        epoch,\n",
    "        timetick,\n",
    "        y,\n",
    "        testset\n",
    "    \"\"\"\n",
    "\n",
    "grain_df = pd.read_sql_query(query, con)\n"
   ]
  },
  {
   "cell_type": "code",
   "execution_count": null,
   "metadata": {},
   "outputs": [],
   "source": [
    "grain_df['wordness'] = 'nonword'\n",
    "strain_df['wordness'] = 'word'\n",
    "\n",
    "df = pd.concat([strain_df, grain_df])\n",
    "mean_df = df.groupby(['code_name', 'epoch', 'timetick', 'y', 'wordness']).mean().reset_index()\n",
    "mean_df = mean_df.merge(batch_config[['code_name', 'inject_error_ticks']], \"left\", on=\"code_name\")"
   ]
  },
  {
   "cell_type": "code",
   "execution_count": null,
   "metadata": {},
   "outputs": [],
   "source": []
  },
  {
   "cell_type": "code",
   "execution_count": null,
   "metadata": {},
   "outputs": [],
   "source": [
    "df.columns"
   ]
  },
  {
   "cell_type": "code",
   "execution_count": null,
   "metadata": {},
   "outputs": [],
   "source": []
  },
  {
   "cell_type": "code",
   "execution_count": null,
   "metadata": {},
   "outputs": [],
   "source": [
    "import altair as alt\n",
    "\n",
    "stress_contrast_df = mean_df.groupby(['inject_error_ticks', 'epoch', 'timetick', 'y']).mean().reset_index()\n",
    "\n",
    "def stress_plot(variable_of_interest):\n",
    "    \"\"\"Plot Hi time stress vs. Low time stress in variable of interest\"\"\"\n",
    "\n",
    "    timetick_selection = alt.selection_single(\n",
    "        bind=alt.binding_range(min=0, max=12, step=1),\n",
    "        fields=[\"timetick\"],\n",
    "        init={\"timetick\": 12},\n",
    "        name=\"timetick\",\n",
    "    )\n",
    "\n",
    "    return alt.Chart(stress_contrast_df).mark_line().encode(\n",
    "        x='epoch:Q',\n",
    "        y=f'{variable_of_interest}:Q',\n",
    "        color='y:N',\n",
    "        column='inject_error_ticks:N',\n",
    "    ).add_selection(timetick_selection).transform_filter(timetick_selection)\n",
    "\n",
    "stress_plot('acc')"
   ]
  },
  {
   "cell_type": "code",
   "execution_count": null,
   "metadata": {},
   "outputs": [],
   "source": [
    "import json\n",
    "\n",
    "with open('/home/jupyter/tf/models/batch_run/error_injection_timing_test/batch_config.json') as f:\n",
    "    batch_cfg = json.load(f)"
   ]
  },
  {
   "cell_type": "code",
   "execution_count": null,
   "metadata": {},
   "outputs": [],
   "source": [
    "cfg_df = pd.DataFrame()\n",
    "\n",
    "for i, cfg in enumerate(batch_cfg):\n",
    "    cfg_df = pd.concat(\n",
    "        [cfg_df,\n",
    "        pd.DataFrame(cfg['params'], index=[i])]\n",
    "    )\n"
   ]
  },
  {
   "cell_type": "code",
   "execution_count": null,
   "metadata": {},
   "outputs": [],
   "source": [
    "cfg_df"
   ]
  },
  {
   "cell_type": "code",
   "execution_count": null,
   "metadata": {},
   "outputs": [],
   "source": [
    "for model_cfg in cfg\n",
    "pd.DataFrame()"
   ]
  }
 ],
 "metadata": {
  "environment": {
   "name": "tf2-gpu.2-4.m61",
   "type": "gcloud",
   "uri": "gcr.io/deeplearning-platform-release/tf2-gpu.2-4:m61"
  },
  "kernelspec": {
   "display_name": "Python 3",
   "language": "python",
   "name": "python3"
  },
  "language_info": {
   "codemirror_mode": {
    "name": "ipython",
    "version": 3
   },
   "file_extension": ".py",
   "mimetype": "text/x-python",
   "name": "python",
   "nbconvert_exporter": "python",
   "pygments_lexer": "ipython3",
   "version": "3.7.9-final"
  }
 },
 "nbformat": 4,
 "nbformat_minor": 4
}
