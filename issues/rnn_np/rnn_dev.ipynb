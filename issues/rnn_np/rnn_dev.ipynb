{
 "cells": [
  {
   "cell_type": "code",
   "execution_count": null,
   "metadata": {
    "colab": {
     "base_uri": "https://localhost:8080/",
     "height": 160
    },
    "colab_type": "code",
    "executionInfo": {
     "elapsed": 27423,
     "status": "ok",
     "timestamp": 1580611877069,
     "user": {
      "displayName": "Jason Lo",
      "photoUrl": "https://lh3.googleusercontent.com/a-/AAuE7mB2QWsl_vzihRifHZBxq7M-ofOQkG8cBrTfFhl_Kzs=s64",
      "userId": "10618067338459780934"
     },
     "user_tz": 300
    },
    "id": "8nSQVB8kOZ9i",
    "outputId": "51634e2f-b2c2-4c19-920f-5a2784844431"
   },
   "outputs": [],
   "source": [
    "%tensorflow_version 2.x\n",
    "import tensorflow as tf\n",
    "import numpy as np\n",
    "from google.colab import drive\n",
    "drive.mount('/content/drive')\n",
    "%cd 'drive/My Drive/Colab Notebooks/np.rnn'"
   ]
  },
  {
   "cell_type": "markdown",
   "metadata": {
    "colab_type": "text",
    "id": "2jj36l1MmaFY"
   },
   "source": [
    "## Forward propagation formula\n",
    "\n",
    "$x_j^{<t>}=\\tau(\\sum_is_iw_{ij}+b_j)+(1-\\tau)x_j^{<t-\\tau>}$\n",
    "\n",
    "$s_j=\\sigma(x_j)=\\frac{1}{1+exp(-x_j)}$\n",
    "\n",
    "---\n",
    "\n",
    "$x_j^{<t>}$ is `input` : the input of unit $j$ at time step $t$\n",
    "\n",
    "$\\tau$ is `tau` : time stride (higher indicate faster \"ramping up\", typical RNN usually set $\\tau =1$)\n",
    "\n",
    "$s_i$ is `act` : the activation  (=state) of unit $i$\n",
    "\n",
    "$w_{ij}$ is `w`: the weight from $i$ to $j$\n",
    "\n",
    "$b_j$ is `bias`: the bias of unit $j$\n",
    "\n",
    "$x_j^{<t-\\tau>}$ is `input` : the input of unit $j$ at previous time step, i.e. memory\n",
    "\n",
    "$\\sigma$ is `af()` is the activation function (= binary logistic = sigmoid)\n",
    "\n"
   ]
  },
  {
   "cell_type": "code",
   "execution_count": null,
   "metadata": {
    "colab": {
     "base_uri": "https://localhost:8080/",
     "height": 174
    },
    "colab_type": "code",
    "executionInfo": {
     "elapsed": 329,
     "status": "ok",
     "timestamp": 1580613253090,
     "user": {
      "displayName": "Jason Lo",
      "photoUrl": "https://lh3.googleusercontent.com/a-/AAuE7mB2QWsl_vzihRifHZBxq7M-ofOQkG8cBrTfFhl_Kzs=s64",
      "userId": "10618067338459780934"
     },
     "user_tz": 300
    },
    "id": "6EMbZAw_xqSc",
    "outputId": "43715584-0c42-4a4d-c22b-aa402f7efce4"
   },
   "outputs": [],
   "source": [
    "\n",
    "from tensorflow.keras.layers import Input, Dense, Layer\n",
    "from tensorflow.keras import Model\n",
    "\n",
    "class rnnModel(Layer):\n",
    "    from tensorflow.keras.activations import sigmoid\n",
    "    def __init__(self):\n",
    "        super(rnnModel, self).__init__()\n",
    "        self.cleanup_dim = 50\n",
    "        self.hidden_dim = 100\n",
    "        self.ort_dim = 119\n",
    "        self.pho_dim = 250\n",
    "\n",
    "        self.nTimeSteps = 10\n",
    "        self.tau = tf.constant([0.2], dtype=tf.float32)\n",
    "\n",
    "        # initialize neural network weights\n",
    "        self.w_oh = (tf.random.uniform([self.ort_dim, self.hidden_dim]) - 0.5) / 1000\n",
    "        self.w_hp = (tf.random.uniform([self.hidden_dim, self.pho_dim]) - 0.5) / 1000\n",
    "        self.w_pp = (tf.random.uniform([self.pho_dim, self.pho_dim]) - 0.5) / 1000\n",
    "        # np.fill_diagonal(self.w_pp, 0) \n",
    "        self.w_cp = (tf.random.uniform([self.cleanup_dim, self.pho_dim]) - 0.5) / 1000\n",
    "        self.w_pc = (tf.random.uniform([self.pho_dim, self.cleanup_dim]) - 0.5) / 1000\n",
    "\n",
    "        # Forward propagation\n",
    "        self.bias_h = (tf.random.uniform([1, self.hidden_dim]) - 0.5) / 1000\n",
    "        self.bias_p = (tf.random.uniform([1, self.pho_dim]) - 0.5) / 1000\n",
    "        self.bias_c = (tf.random.uniform([1, self.cleanup_dim]) - 0.5) / 1000\n",
    "\n",
    "    def call(self, inputs):\n",
    "        ### Trial level init ###\n",
    "        self.input_h_list = []\n",
    "        self.input_p_list = []\n",
    "        self.input_c_list = []\n",
    "\n",
    "        self.act_h_list =[]\n",
    "        self.act_p_list =[]\n",
    "        self.act_c_list =[]\n",
    "\n",
    "        # Set input to 0\n",
    "        self.input_h_list.append(tf.zeros((1, self.hidden_dim), dtype=tf.float32))\n",
    "        self.input_p_list.append(tf.zeros((1, self.pho_dim), dtype=tf.float32))\n",
    "        self.input_c_list.append(tf.zeros((1, self.cleanup_dim), dtype=tf.float32))\n",
    "\n",
    "        # Set activations to 0.5\n",
    "        self.act_h_list.append(self.input_h_list[0] + 0.5)\n",
    "        self.act_p_list.append(self.input_p_list[0] + 0.5)\n",
    "        self.act_c_list.append(self.input_c_list[0] + 0.5)\n",
    "\n",
    "        for t in range(1, self.nTimeSteps):\n",
    "            # print(f'Time step = {t}')\n",
    "            ##### Hidden layer #####\n",
    "            # Calculate temporary variables for readability\n",
    "            oh = tf.matmul(inputs, self.w_oh) \n",
    "            mem_h = self.input_h_list[t-1]  \n",
    "\n",
    "            h = self.tau*(oh + self.bias_h) + (1-self.tau)*mem_h\n",
    "\n",
    "            # Write it to lists which store all input and activation in every time step\n",
    "            self.input_h_list.append(h)\n",
    "            self.act_h_list.append(sigmoid(h))\n",
    "\n",
    "            # ##### Phonology layer #####\n",
    "            hp = tf.matmul(self.act_h_list[t-1], self.w_hp)\n",
    "            pp = tf.matmul(self.act_p_list[t-1], self.w_pp)\n",
    "            cp = tf.matmul(self.act_c_list[t-1], self.w_cp)\n",
    "\n",
    "            mem_p = self.input_p_list[t-1]\n",
    "            p = self.tau*(hp + pp + cp + self.bias_p) + (1-self.tau)*mem_p\n",
    "\n",
    "            self.input_p_list.append(p)\n",
    "            self.act_p_list.append(sigmoid(p))\n",
    "\n",
    "            ##### Cleanup layer #####\n",
    "            pc = tf.matmul(self.act_p_list[t-1], self.w_pc)\n",
    "            mem_c = self.input_c_list[t-1]\n",
    "            c = self.tau*(pc + self.bias_c) + (1-self.tau)*mem_c\n",
    "\n",
    "            self.input_c_list.append(c)\n",
    "            self.act_c_list.append(sigmoid(c))\n",
    "        return self.act_p_list[-1]\n",
    "\n",
    "\n",
    "input_O = Input(shape=(119,))\n",
    "rnnModel = rnnModel()(input_O)\n",
    "model = Model(input_O, rnnModel)\n",
    "\n",
    "model.compile(loss='binary_crossentropy',\n",
    "              optimizer='adam',\n",
    "              metrics=['BinaryAccuracy', 'mse'])\n",
    "\n",
    "\n",
    "tf.keras.utils.plot_model(model)"
   ]
  },
  {
   "cell_type": "code",
   "execution_count": null,
   "metadata": {
    "colab": {},
    "colab_type": "code",
    "id": "HFilU8sQzI4p"
   },
   "outputs": [],
   "source": [
    "\n",
    "\n",
    "\n",
    "\n",
    "x_train = np.load('x_train.npz')['data']\n",
    "y_train = np.load('y_train.npz')['data']\n",
    "### Input ###\n",
    "input_o = x_train[trial,:]\n",
    "input_o = tf.constant(input_o, dtype=tf.float32)\n",
    "input_o = tf.expand_dims(input_o, axis=0)\n",
    "\n",
    "### Y ###\n",
    "y = y_train[trial,:]\n",
    "y = tf.constant(y, dtype=tf.float32)\n",
    "y = tf.expand_dims(y, axis=0)\n",
    "\n",
    "# Collect the history of W-values and b-values to plot later\n",
    "for epoch in epochs:\n",
    "\n",
    "\n",
    "    train(model, inputs, outputs, learning_rate=0.1)\n",
    "    print('Epoch %2d: loss=%2.5f' %(epoch, current_loss))\n",
    "\n",
    "# Let's plot it all\n",
    "plt.plot(epochs, Ws, 'r',\n",
    "epochs, bs, 'b')\n",
    "plt.plot([TRUE_W] * len(epochs), 'r--',\n",
    "[TRUE_b] * len(epochs), 'b--')\n",
    "plt.legend(['W', 'b', 'True W', 'True b'])\n",
    "plt.show()\n"
   ]
  },
  {
   "cell_type": "markdown",
   "metadata": {
    "colab_type": "text",
    "id": "X67Do3K1f9o7"
   },
   "source": [
    "# Loss function"
   ]
  },
  {
   "cell_type": "code",
   "execution_count": null,
   "metadata": {
    "colab": {},
    "colab_type": "code",
    "id": "PqYWEwMXhJIG"
   },
   "outputs": [],
   "source": [
    "import pandas as pd\n",
    "df_train = pd.read_csv('df_train.csv', index_col=0)\n",
    "\n",
    "def sampleGenerator(x_set, y_set, batch_size, sample_p, rng_seed):\n",
    "# Get <batch_size> of data from <x_set>, <y_set> based on the probability of <sample_p>\n",
    "    np.random.seed(rng_seed)\n",
    "    while 1:\n",
    "        idx = np.random.choice(range(len(sample_p)), batch_size, p=sample_p)\n",
    "        batch_x = x_set[idx]\n",
    "        batch_y = y_set[idx]\n",
    "        yield (batch_x, batch_y)\n",
    "\n",
    "\n",
    "for batch in sampleGenerator(x_train, y_train, 300, df_train.p, rng_seed=1234):     \n",
    "    adam.minimize(lambda: loss_function(x_train, w_oh, w_hp, w_pp, w_pc, w_cp, bias_h, bias_p, bias_c, y_train), \n",
    "                  var_list=[w_oh, w_hp, w_pp, w_pc, w_cp, bias_h, bias_p, bias_c])"
   ]
  },
  {
   "cell_type": "code",
   "execution_count": null,
   "metadata": {
    "colab": {},
    "colab_type": "code",
    "id": "DiFm00Xis0RA"
   },
   "outputs": [],
   "source": []
  },
  {
   "cell_type": "code",
   "execution_count": null,
   "metadata": {
    "colab": {},
    "colab_type": "code",
    "id": "WedzJjvjzNv-"
   },
   "outputs": [],
   "source": [
    "def saveTensorList(fileName, list_with_tensors):\n",
    "    np.savetxt(fileName, np.squeeze(np.stack(list_with_tensors)), delimiter=',')\n",
    "\n",
    "saveTensorList('tf_input_p.csv', input_p_list)\n",
    "\n",
    "# Loss\n",
    "def loss_function(predictions, ys):\n",
    "    from tensorflow.keras.losses import binary_crossentropy\n",
    "    return binary_crossentropy(ys, predictions)\n",
    "\n",
    "# Vanilla gradient descent optimizer\n",
    "def train(model, inputs, outputs, learning_rate):\n",
    "    with tf.GradientTape() as t:\n",
    "        current_loss = loss_function(model(inputs), outputs)\n",
    "        dw_oh, dw_hp, dw_pp, dw_pc, dw_cp, db_h, db_p, db_c = t.gradient(current_loss, [model.w_oh, model.w_hp, model.w_pp, model.w_pc, model.w_cp, model.bias_h, model.bias_p, model.bias_h])\n",
    "        model.w_oh.assign_sub(learning_rate * dw_oh)\n",
    "        model.w_hp.assign_sub(learning_rate * dw_hp)\n",
    "        model.w_pp.assign_sub(learning_rate * dw_pp)\n",
    "        model.w_pc.assign_sub(learning_rate * dw_pc)\n",
    "        model.w_cp.assign_sub(learning_rate * dw_cp)"
   ]
  },
  {
   "cell_type": "markdown",
   "metadata": {
    "colab_type": "text",
    "id": "8jI2L2WgGesW"
   },
   "source": [
    "## Backward propagation formula\n",
    "Binary crossentropy loss:\n",
    "\n",
    "$C=-\\sum_{i}t_ilog_2(s_i)+(1-t_i)log_2(1-s_i)$\n",
    "\n",
    "$C$ is `lossf()`: Binary cross-entropy between pho output $s_i$ `yhat` and target $t_i$ `y`\n",
    "\n",
    "---\n",
    "Partial derivative of $C$ w.r.t. input $x_j$:\n",
    "\n",
    "$\\frac{\\partial C}{\\partial{x_j}}=\\frac{\\partial C}{\\partial{s_j}}\\frac{ds_j}{dx_j}$\n",
    "$=(\\frac{1-t_j}{1-s_j}-\\frac{t_j}{s_j})s_j(1-s_j)=s_j-t_j$\n",
    "\n",
    "---\n",
    "BPTT with TAI:\n",
    "\n",
    "Derivative of the error w.r.t input of unit $j$, i.e., define $\\frac{\\partial C}{\\partial x_j} = \\delta_j^{<t>}$\n",
    "\n",
    "$\\delta_j^{<t>}=\\tau\\frac{\\partial C}{\\partial s_j^{<t+\\tau>}}\\sigma^\\prime (x_j^{<t+\\tau>})+(1-\\tau)\\delta_j^{<t+\\tau>}...(1)$\n",
    "\n",
    "Consider\n",
    "\n",
    "$\\sigma(x_j) = s_j$\n",
    "\n",
    "$\\sigma^\\prime(x_j) = \\frac{ds_j}{dx_j} ...(2)$\n",
    "\n",
    "Put (2) into (1), \n",
    "\n",
    "$\\delta_j^{<t>}=\\tau\\frac{\\partial C}{\\partial s_j^{<t+\\tau>}}\\frac{ds_j^{<t+\\tau>}}{dx_j^{<t+\\tau>}}+(1-\\tau)\\delta_j^{<t+\\tau>}...(3)$\n",
    "\n",
    "Conside\n",
    "\n",
    "$\\frac{\\partial C}{\\partial{x_j}}=\\frac{\\partial C}{\\partial{s_j}}\\frac{ds_j}{dx_j}$\n",
    "$=(\\frac{1-t_j}{1-s_j}-\\frac{t_j}{s_j})s_j(1-s_j)=s_j-t_j...(4)$ \n",
    "\n",
    "Put (4) into (3),\n",
    "\n",
    "$\\delta_j^{<t>}=\\tau(s_j^{<t+\\tau>} - t_j^{<t+\\tau>})+(1-\\tau)\\delta_j^{<t+\\tau>}...(5)$\n",
    "\n",
    "According to Plaut96 there are two parts in this equation,\n",
    "**a weighted average backwards in time of its current value and the contribution from the current error of the unit.**\n",
    "\n",
    "Therefore, in (5) we should have:\n",
    "\n",
    "- injected error (i.e., error from the discrepancy between its own state and target) scaled by $\\tau$ at time $t$\n",
    "- internal error (i.e., back prop error from other units) scaled by $1-\\tau$ at time $t+\\tau$\n",
    "\n",
    "But, $s_j^{<t+\\tau>} - t_j^{<t+\\tau>}$ is the injected error of $t+\\tau$ instead of $t$, which is a bit weird, because we already have the error form $t+\\tau$ in $\\delta_j^{<t+\\tau>}$\n",
    "\n",
    "### Issues to discuss\n",
    "1. Did Plaut96 meant $s_j^{<t>} - t_j^{<t>}$ instead of $s_j^{<t+\\tau>} - t_j^{<t+\\tau>}$, therefore $\\delta_j^{<t>}=\\tau(s_j^{<t>} - t_j^{<t>})+(1-\\tau)\\delta_j^{<t+\\tau>}$\n",
    "\n",
    "2. Despite Plaut 96 said $\\delta_j^{<t>}$ is **the derivative of the error with respect to the input of unit j**, i.e., applicable to all units. However, looking at the back prop direction, only layer P fits the description. \n",
    "\n",
    "### Generalize to our model with clean up\n",
    "\n",
    "So, we need to generalize Plaut equation (no clean up) to fit our model with cleanup\n",
    "\n",
    "$\\delta_j^{<t>}=\\tau(s_j^{<t>} - t_j^{<t>})+(1-\\tau)(\\delta_j^{<t+\\tau>} + \\sum_{k\\neq j}\\delta_k^{<t+\\tau>})$\n",
    "\n",
    "- injected error $s_j^{<t>} - t_j^{<t>}$ depends on model setting with these contrains\n",
    "    - must from >= time step 2 (since no O_input info can reach there?)\n",
    "    - must at Layer P (where it is the model level output)\n",
    "    - (optional) Plaut 96 start injection from unit time >=2\n",
    "- internal error $\\delta_j^{<t+\\tau>} + \\sum_{k\\neq j}\\delta_k^{<t+\\tau>}$ depends on model connection\n",
    "\n",
    "### In Jay's ppt:\n",
    "Internal error:\n",
    "\n",
    "$\\delta_j^{<t>}int = \\tau(\\sum_kw_{jk}\\delta_k^{<t+\\tau>})+(1-\\tau)\\delta_j^{<t+\\tau>}$\n",
    "\n",
    "\n",
    "Injected error:\n",
    "\n",
    "$\\delta_j^{<t>}inj = (t_j^{<t>}-a_j^{<t>})$\n",
    "\n",
    "Total error:\n",
    "\n",
    "$\\delta_j^{<t>}total = \\delta_j^{<t>}int + \\delta_j^{<t>}inj$\n",
    "\n",
    "### Discussion\n",
    "- Discuss the rationale of internal error formulation\n",
    "\n",
    "\n"
   ]
  },
  {
   "cell_type": "markdown",
   "metadata": {
    "colab_type": "text",
    "id": "eqSgYcjVsmi-"
   },
   "source": [
    "## Gradient of each trainable parameter\n",
    "\n",
    "We have 4 sets of weights and 3 sets of biases. Before gradient descent (weight change) we need:\n",
    "- $\\frac{\\partial C}{\\partial w_{oh}}, \\frac{\\partial C}{\\partial w_{hp}}, \\frac{\\partial C}{\\partial w_{pp}}, \\frac{\\partial C}{\\partial w_{cp}}$\n",
    "- $\\frac{\\partial C}{\\partial b_h}, \\frac{\\partial C}{\\partial b_p}, \\frac{\\partial C}{\\partial b_c}$\n",
    "\n",
    "No details in Plaut96 paper\n",
    "may need to apply chain rule manually... HELP!\n",
    "\n",
    "- Option 1: Chain rule with symbolic diff (See Chen, 2018)\n",
    "- Option 2: I can hand write auto diff... and cross check with tf auto diff \n",
    "- Option 3: Numeric diff... slowly\n"
   ]
  },
  {
   "cell_type": "markdown",
   "metadata": {
    "colab_type": "text",
    "id": "TVhbFF4xeHqO"
   },
   "source": [
    "![image.png](data:image/png;base64,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)"
   ]
  },
  {
   "cell_type": "markdown",
   "metadata": {
    "colab_type": "text",
    "id": "xmFJ9_A8eOvC"
   },
   "source": [
    "- Green arrow: injected error\n",
    "- Orange arrow: back prop error (internal error)\n",
    "\n",
    "Assume we only have 5 time steps, from 0 to 4 as illustrated by above figure.\n",
    "\n",
    "First, we calculate $\\frac{\\partial C}{\\partial bp^{<4>}}$\n",
    "\n",
    "$= \\frac{\\partial C}{\\partial x_j^{<4>}} \\frac{\\partial x_j^{<4>}}{\\partial bp^{<4>}}$\n",
    "\n",
    "$=(s_j^{<4>} - t_j^{<4>})(\\frac{\\partial {\\tau(\\sum_is_iw_{ip}+bp^{<4>})+(1-\\tau)x_j^{<t-\\tau>}}}{\\partial bp^{<4>}})$\n",
    "\n",
    "$=(s_j^{<4>} - t_j^{<4>})({\\tau(1)})$\n",
    "\n",
    "$=\\tau(s_j^{<4>} - t_j^{<4>})$\n",
    "\n",
    "Then we calculate $\\frac{\\partial C}{\\partial bp^{<3>}}$\n",
    "\n",
    "$= \\frac{\\partial C}{\\partial x_j^{<4>}} \\frac{\\partial x_j^{<4>}}{\\partial bp^{<4>}}$\n",
    "\n",
    "\n",
    "\n"
   ]
  },
  {
   "cell_type": "markdown",
   "metadata": {
    "colab_type": "text",
    "id": "jU4J3B_s1R_1"
   },
   "source": [
    "## Gradient descent\n",
    "\n",
    "---\n",
    "\n",
    "Weight decay in cross-entropy during training:\n",
    "\n",
    "$C_{decay} = C \\times 0.0001 \\times \\sum_{i,j}w_{ij}^2$\n",
    "\n",
    "Weight change:\n",
    "\n",
    "$\\Delta w_{ij}^{<t>} = \\epsilon \\epsilon_{ij}(\\frac{\\partial C_{decay}}{\\partial w_{ij}}+\\alpha \\Delta w_{ij}^{<t-1>})$\n",
    "\n",
    "$\\Delta w_{ij}^{<t>}$ is `dw_ij`: change of weight from $i$ to $j$ at epoch $t$\n",
    "\n",
    "**IMPORTANT**: $<t>$ is epoch t now, **NOT TIME!**\n",
    "\n",
    "$\\epsilon$ is `lr`: global learning rate\n",
    "\n",
    "$\\epsilon_{ij}$: specific learning rate of weight from $i$ to $j$ \n",
    "\n",
    "$\\alpha$: if epoch >=10, momentum = 0.9, else momentum = 1.0\n",
    "\n",
    "---\n",
    "\n",
    "### Minimalistic version without weight decay, path specific learning rate, and momentum from last weight change\n",
    "\n",
    "$\\Delta w_{ij}^{<t>} = \\epsilon\\frac{\\partial C}{\\partial w_{ij}}$\n",
    "\n",
    "### Jay's version\n",
    "$\\Delta w_{ij}^{<t>}=\\lambda a_i^{<t-1>}\\delta_j^{<t>}total$"
   ]
  },
  {
   "cell_type": "markdown",
   "metadata": {
    "colab_type": "text",
    "id": "Rw8rwl5MhtcR"
   },
   "source": [
    "## Jay's ppt"
   ]
  },
  {
   "cell_type": "markdown",
   "metadata": {
    "colab_type": "text",
    "id": "kyTa7OeofRqR"
   },
   "source": [
    "Internal error:\n",
    "\n",
    "$\\delta_j^{<t>}int = \\tau(\\sum_kw_{jk}\\delta_k^{<t+\\tau>})+\n",
    "                     (1-\\tau)\\delta_j^{<t+\\tau>}$\n",
    "\n",
    "\n",
    "Injected error:\n",
    "\n",
    "$\\delta_j^{<t>}inj = (t_j^{<t>}-a_j^{<t>})$\n",
    "\n",
    "Total error:\n",
    "\n",
    "$\\delta_j^{<t>}total = \\delta_j^{<t>}int + \\delta_j^{<t>}inj$\n",
    "\n",
    "Weight change:\n",
    "\n",
    "$\\Delta w_{ij}^{<t>}=\\lambda a_i^{<t-1>}\\delta_j^{<t>}total$"
   ]
  },
  {
   "cell_type": "markdown",
   "metadata": {
    "colab_type": "text",
    "id": "43j142HbVXTI"
   },
   "source": [
    "# Hand check test code"
   ]
  },
  {
   "cell_type": "code",
   "execution_count": null,
   "metadata": {
    "colab": {},
    "colab_type": "code",
    "id": "0hpq0IKAz1j-"
   },
   "outputs": [],
   "source": [
    "x_train = np.array([[1,0,1],[0,0,0]])\n",
    "y_train = np.array([[0,1],[0,0]])\n",
    "\n",
    "cleanup_dim = 2\n",
    "hidden_dim = 3\n",
    "ort_dim = x_train.shape[0]\n",
    "pho_dim = y_train.shape[0]\n",
    "nTimeSteps = 6 # We need at least 5 to test for whole cycle o-h-p-c-p\n",
    "tau = 0.2 \n",
    "\n",
    "# initialize neural network weights\n",
    "w_oh = np.array([[0.1, 0.2, 0.3], [0.4, 0.2, 0.1], [0.7, 0.2, 0.1]])\n",
    "w_hp = np.array([[0.4, 0.1], [0.2, 0.1], [0.6, 0.7]])\n",
    "w_pp = np.array([[0.3, 0.2], [0.6, 0.1]])\n",
    "np.fill_diagonal(w_pp, 0)  # Set diagonal of w_pp = 0    <-- discuss... the formula did not indicate i =/= j\n",
    "w_cp = np.array([[0.1, 0.3], [0.3, 0.2]])\n",
    "w_pc = np.array([[0.2, 0.0], [0.1, 0.3]])\n",
    "\n",
    "# Forward propagation\n",
    "bias_h = np.zeros(hidden_dim)\n",
    "bias_p = np.zeros(pho_dim)\n",
    "bias_c = np.zeros(cleanup_dim)"
   ]
  },
  {
   "cell_type": "code",
   "execution_count": null,
   "metadata": {
    "colab": {
     "base_uri": "https://localhost:8080/",
     "height": 33
    },
    "colab_type": "code",
    "executionInfo": {
     "elapsed": 260,
     "status": "ok",
     "timestamp": 1580241632384,
     "user": {
      "displayName": "Jason Lo",
      "photoUrl": "https://lh3.googleusercontent.com/a-/AAuE7mB2QWsl_vzihRifHZBxq7M-ofOQkG8cBrTfFhl_Kzs=s64",
      "userId": "10618067338459780934"
     },
     "user_tz": 300
    },
    "id": "-yzijs0pvbBG",
    "outputId": "9ad69500-3546-4f79-e3e8-a16ece92c61b"
   },
   "outputs": [],
   "source": [
    "# print('=================== Model params shape ===================')\n",
    "# print(f'input_o shape: {input_o.shape}')\n",
    "# print(f'w_oh: {w_oh.shape}')\n",
    "# print(f'w_hp: {w_hp.shape}')\n",
    "# print(f'w_pc: {w_pc.shape}')\n",
    "# print(f'w_pp: {w_pp.shape}')\n",
    "# print(f'w_cp: {w_cp.shape}')\n",
    "# print(f'bias_h: {bias_h.shape}')\n",
    "# print(f'bias_p: {bias_p.shape}')\n",
    "# print(f'bias_c: {bias_c.shape}')\n",
    "# print(f'y shape: {y.shape}')\n",
    "\n",
    "# print('=================== Recurrent units shape ===================')\n",
    "# print(f'input_h shape: {input_h_list[0].shape}')\n",
    "# print(f'input_p shape: {input_p_list[0].shape}')\n",
    "# print(f'input_c shape: {input_c_list[0].shape}')\n",
    "# print(f'act_h shape: {act_h_list[0].shape}')\n",
    "# print(f'act_p shape: {act_p_list[0].shape}')\n",
    "# print(f'act_c shape: {act_c_list[0].shape}')"
   ]
  }
 ],
 "metadata": {
  "accelerator": "GPU",
  "colab": {
   "authorship_tag": "ABX9TyPIQQzqfZtI5y0waQHCBuUk",
   "collapsed_sections": [],
   "name": "rnn_dev.ipynb",
   "provenance": []
  },
  "kernelspec": {
   "display_name": "Python 3",
   "language": "python",
   "name": "python3"
  },
  "language_info": {
   "codemirror_mode": {
    "name": "ipython",
    "version": 3
   },
   "file_extension": ".py",
   "mimetype": "text/x-python",
   "name": "python",
   "nbconvert_exporter": "python",
   "pygments_lexer": "ipython3",
   "version": "3.5.3"
  }
 },
 "nbformat": 4,
 "nbformat_minor": 4
}
