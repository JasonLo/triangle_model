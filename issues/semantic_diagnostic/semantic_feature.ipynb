{
 "cells": [
  {
   "cell_type": "code",
   "execution_count": null,
   "id": "herbal-packing",
   "metadata": {},
   "outputs": [],
   "source": [
    "import data_wrangling\n",
    "import pandas as pd\n",
    "import numpy as np\n",
    "import altair as alt\n",
    "# %% Load test sets from file\n",
    "d = data_wrangling.MyData()\n",
    "d.load_testsets()"
   ]
  },
  {
   "cell_type": "code",
   "execution_count": null,
   "id": "innovative-straight",
   "metadata": {},
   "outputs": [],
   "source": [
    "# %% A function to get number of features\n",
    "def get_n_features(word):\n",
    "    if word in d.testsets['train']['item']:\n",
    "        idx = d.testsets['train']['item'].index(word)\n",
    "        semantic_vector = d.testsets['train']['sem'][idx,:]\n",
    "        return(sum(semantic_vector)) "
   ]
  },
  {
   "cell_type": "code",
   "execution_count": null,
   "id": "beautiful-patrol",
   "metadata": {},
   "outputs": [],
   "source": [
    "# %% Parse Cortese\n",
    "cortese = pd.read_csv(\n",
    "    \"../preprocessing/cortese2004norms.csv\", skiprows=9, na_filter=False\n",
    ")\n",
    "cortese = cortese[[\"item\", \"rating\"]]\n",
    "cortese = cortese.rename({\"item\": \"word\", \"rating\":\"img\"}, axis=1)\n",
    "cortese[\"n_features\"] = cortese.word.apply(get_n_features)\n",
    "\n",
    "cortese = cortese.merge(d.df_train[['word', 'wf']])\n",
    "\n",
    "# %% Also get probability by different implementation\n",
    "cortese[\"p_hs04\"] = data_wrangling.Sampling.get_sampling_probability(cortese, \"hs04\")\n",
    "cortese[\"p_zevin\"] = data_wrangling.Sampling.get_sampling_probability(cortese, \"jay\")\n",
    "cortese[\"log_wf\"] = data_wrangling.Sampling.get_sampling_probability(cortese, \"log\")"
   ]
  },
  {
   "cell_type": "code",
   "execution_count": null,
   "id": "charitable-nomination",
   "metadata": {},
   "outputs": [],
   "source": [
    "# %% Plot IMG vs. n_features\n",
    "nf = alt.Chart(cortese).mark_point().encode(x=\"img\", y=\"n_features\", tooltip=[\"word\", \"img\"])\n",
    "nf += nf.transform_regression('img', 'n_features').mark_line(color=\"red\")\n",
    "nf"
   ]
  },
  {
   "cell_type": "code",
   "execution_count": null,
   "id": "responsible-senegal",
   "metadata": {},
   "outputs": [],
   "source": [
    "# %% Pearson's r\n",
    "cortese.corr()"
   ]
  },
  {
   "cell_type": "code",
   "execution_count": null,
   "id": "detected-position",
   "metadata": {},
   "outputs": [],
   "source": [
    "cortese['img_gp'] = cortese.img.apply(lambda x: 1 if x > cortese.img.median() else 0)"
   ]
  },
  {
   "cell_type": "code",
   "execution_count": null,
   "id": "national-robinson",
   "metadata": {},
   "outputs": [],
   "source": [
    "cortese.groupby(\"img_gp\").mean()"
   ]
  },
  {
   "cell_type": "code",
   "execution_count": null,
   "id": "amateur-blowing",
   "metadata": {},
   "outputs": [],
   "source": [
    "cortese['wf_gp'] = cortese.wf.apply(lambda x: 1 if x > cortese.wf.median() else 0)\n",
    "cortese.groupby(\"wf_gp\").mean()"
   ]
  },
  {
   "cell_type": "code",
   "execution_count": null,
   "id": "foreign-feedback",
   "metadata": {},
   "outputs": [],
   "source": [
    "# %%\n",
    "p = alt.Chart(cortese).mark_point().encode(x=\"img\", y=\"p_hs04\", tooltip=[\"word\", \"p_hs04\"])\n",
    "p + p.transform_regression('img', 'p_hs04').mark_line(color=\"red\")\n",
    "\n",
    "# %%"
   ]
  }
 ],
 "metadata": {
  "environment": {
   "name": "tf2-gpu.2-4.mnightly-2021-02-02-debian-10-test",
   "type": "gcloud",
   "uri": "gcr.io/deeplearning-platform-release/tf2-gpu.2-4:mnightly-2021-02-02-debian-10-test"
  },
  "kernelspec": {
   "display_name": "Python 3",
   "language": "python",
   "name": "python3"
  },
  "language_info": {
   "codemirror_mode": {
    "name": "ipython",
    "version": 3
   },
   "file_extension": ".py",
   "mimetype": "text/x-python",
   "name": "python",
   "nbconvert_exporter": "python",
   "pygments_lexer": "ipython3",
   "version": "3.7.9"
  }
 },
 "nbformat": 4,
 "nbformat_minor": 5
}
