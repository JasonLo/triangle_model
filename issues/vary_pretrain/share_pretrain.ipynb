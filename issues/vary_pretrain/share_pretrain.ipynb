{
 "cells": [
  {
   "cell_type": "markdown",
   "metadata": {},
   "source": [
    "# Examine the temporal dynamics over the training"
   ]
  },
  {
   "cell_type": "code",
   "execution_count": null,
   "metadata": {},
   "outputs": [],
   "source": [
    "import os\n",
    "import meta\n",
    "import examine\n",
    "meta.split_gpu(3)"
   ]
  },
  {
   "cell_type": "markdown",
   "metadata": {},
   "source": [
    "# Shared pretraining from SGD"
   ]
  },
  {
   "cell_type": "code",
   "execution_count": null,
   "metadata": {},
   "outputs": [],
   "source": [
    "def setting_to_run_path(pretrain_epoch, optimizer, tf_root='/home/jal21012/triangle_model'):\n",
    "    \"\"\"Convert hyperparameters setting to a run path.\"\"\"\n",
    "    pretraining_epochs = [0, 1, 10, 100, 1000]\n",
    "    batch_name = f'share_pretrain_{optimizer}'\n",
    "    run_sn = pretraining_epochs.index(pretrain_epoch)\n",
    "    run_folder = f'share_pretrain_{optimizer}_r{run_sn:04d}'\n",
    "    return os.path.join(tf_root, 'models', batch_name, run_folder, 'model_config.json')"
   ]
  },
  {
   "cell_type": "code",
   "execution_count": null,
   "metadata": {},
   "outputs": [],
   "source": [
    "cfg_path = setting_to_run_path(pretrain_epoch=100, optimizer='adam')\n",
    "cfg = meta.Config.from_json(cfg_path)\n",
    "exam = examine.Examine(cfg)"
   ]
  },
  {
   "cell_type": "code",
   "execution_count": null,
   "metadata": {},
   "outputs": [],
   "source": [
    "sel_epochs = [1, 50, 100, 240, 500]\n",
    "[exam.plot_input(task='triangle', epoch=x, act=1) for x in sel_epochs]"
   ]
  },
  {
   "cell_type": "markdown",
   "metadata": {},
   "source": [
    "- Direct path dominates in ON nodes"
   ]
  },
  {
   "cell_type": "code",
   "execution_count": null,
   "metadata": {},
   "outputs": [],
   "source": [
    "[exam.plot_input(task='triangle', epoch=x, act=0) for x in sel_epochs]"
   ]
  },
  {
   "cell_type": "code",
   "execution_count": null,
   "metadata": {},
   "outputs": [],
   "source": [
    "import pandas as pd\n",
    "df = pd.read_csv(f\"{cfg.eval_folder}/train_r100_ort_pho.csv\")\n",
    "print(df.loc[(df.timetick==12) & (df.epoch==300) & (df.acc==0), 'pho_pred'].sample(10))"
   ]
  },
  {
   "cell_type": "code",
   "execution_count": null,
   "metadata": {},
   "outputs": [],
   "source": [
    "df = pd.read_csv(f\"{cfg.eval_folder}/train_r100_exp_osp.csv\")\n",
    "print(df.loc[(df.timetick==12) & (df.epoch==300) & (df.acc==0), 'pho_pred'].sample(10))"
   ]
  },
  {
   "cell_type": "code",
   "execution_count": null,
   "metadata": {},
   "outputs": [],
   "source": [
    "from tqdm import tqdm\n",
    "[exam.plot_input(task='triangle', epoch=500, act=0, sem_units=[x], save=True, ) for x in tqdm(range(cfg.sem_units))]"
   ]
  },
  {
   "cell_type": "markdown",
   "metadata": {},
   "source": [
    "- Direct path also dominates in OFF nodes"
   ]
  },
  {
   "cell_type": "markdown",
   "metadata": {},
   "source": [
    "## Summary\n",
    "- Output at PHO learn to turn ON the ON nodes, and turn OFF the OFF nodes very quickly\n",
    "- Output at SEM first tick \n",
    "- Input magnitude increase over training"
   ]
  }
 ],
 "metadata": {
  "interpreter": {
   "hash": "d4d1e4263499bec80672ea0156c357c1ee493ec2b1c70f0acce89fc37c4a6abe"
  },
  "kernelspec": {
   "display_name": "Python 3.7.10 64-bit ('base': conda)",
   "name": "python3"
  },
  "language_info": {
   "codemirror_mode": {
    "name": "ipython",
    "version": 3
   },
   "file_extension": ".py",
   "mimetype": "text/x-python",
   "name": "python",
   "nbconvert_exporter": "python",
   "pygments_lexer": "ipython3",
   "version": "3.6.8"
  }
 },
 "nbformat": 4,
 "nbformat_minor": 4
}
