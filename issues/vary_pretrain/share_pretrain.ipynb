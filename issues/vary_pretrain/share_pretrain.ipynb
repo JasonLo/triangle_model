{
 "cells": [
  {
   "cell_type": "markdown",
   "metadata": {},
   "source": [
    "# Examine the temporal dynamics over the training"
   ]
  },
  {
   "cell_type": "code",
   "execution_count": 43,
   "metadata": {},
   "outputs": [],
   "source": [
    "import meta\n",
    "meta.split_gpu(which_gpu=3)\n",
    "\n",
    "import os\n",
    "import examine\n",
    "import pandas as pd"
   ]
  },
  {
   "cell_type": "markdown",
   "metadata": {},
   "source": [
    "# Shared pretraining from SGD"
   ]
  },
  {
   "cell_type": "code",
   "execution_count": 44,
   "metadata": {},
   "outputs": [],
   "source": [
    "pretrain_epoch = 1000\n",
    "optimizer = \"adam\"\n"
   ]
  },
  {
   "cell_type": "code",
   "execution_count": 45,
   "metadata": {},
   "outputs": [],
   "source": [
    "def setting_to_run_path(pretrain_epoch, optimizer, tf_root='/home/jal21012/triangle_model'):\n",
    "    \"\"\"Convert hyperparameters setting to a run path.\"\"\"\n",
    "    pretraining_epochs = [0, 1, 10, 100, 1000]\n",
    "    batch_name = f'share_pretrain_{optimizer}'\n",
    "    run_sn = pretraining_epochs.index(pretrain_epoch)\n",
    "    run_folder = f'share_pretrain_{optimizer}_r{run_sn:04d}'\n",
    "    return os.path.join(tf_root, 'models', batch_name, run_folder, 'model_config.json')"
   ]
  },
  {
   "cell_type": "code",
   "execution_count": 46,
   "metadata": {},
   "outputs": [
    {
     "name": "stdout",
     "output_type": "stream",
     "text": [
      "Loaded config from /home/jal21012/triangle_model/models/share_pretrain_adam/share_pretrain_adam_r0004/model_config.json\n"
     ]
    }
   ],
   "source": [
    "cfg_path = setting_to_run_path(pretrain_epoch, optimizer)\n",
    "cfg = meta.Config.from_json(cfg_path)\n",
    "exam = examine.Examine(cfg)"
   ]
  },
  {
   "cell_type": "code",
   "execution_count": null,
   "metadata": {},
   "outputs": [],
   "source": [
    "sel_epochs = [1, 50, 100, 240, 500]\n",
    "[exam.plot_input(task='triangle', epoch=x, act=1) for x in sel_epochs]"
   ]
  },
  {
   "cell_type": "markdown",
   "metadata": {},
   "source": [
    "- Direct path dominates in ON nodes"
   ]
  },
  {
   "cell_type": "code",
   "execution_count": null,
   "metadata": {},
   "outputs": [],
   "source": [
    "[exam.plot_input(task='triangle', epoch=x, act=0) for x in sel_epochs]"
   ]
  },
  {
   "cell_type": "markdown",
   "metadata": {},
   "source": [
    "### Look at predicted phonemes"
   ]
  },
  {
   "cell_type": "markdown",
   "metadata": {},
   "source": [
    "OP"
   ]
  },
  {
   "cell_type": "code",
   "execution_count": null,
   "metadata": {},
   "outputs": [],
   "source": [
    "df = pd.read_csv(f\"{cfg.eval_folder}/train_r100_ort_pho.csv\")\n",
    "print(df.loc[(df.timetick==12) & (df.epoch==300) & (df.acc==0), 'pho_pred'].sample(10))"
   ]
  },
  {
   "cell_type": "markdown",
   "metadata": {},
   "source": [
    "OSP"
   ]
  },
  {
   "cell_type": "code",
   "execution_count": null,
   "metadata": {},
   "outputs": [],
   "source": [
    "df = pd.read_csv(f\"{cfg.eval_folder}/train_r100_exp_osp.csv\")\n",
    "print(df.loc[(df.timetick==12) & (df.epoch==300) & (df.acc==0), 'pho_pred'].sample(10))"
   ]
  }
 ],
 "metadata": {
  "interpreter": {
   "hash": "d4d1e4263499bec80672ea0156c357c1ee493ec2b1c70f0acce89fc37c4a6abe"
  },
  "kernelspec": {
   "display_name": "Python 3.7.10 64-bit ('base': conda)",
   "name": "python3"
  },
  "language_info": {
   "codemirror_mode": {
    "name": "ipython",
    "version": 3
   },
   "file_extension": ".py",
   "mimetype": "text/x-python",
   "name": "python",
   "nbconvert_exporter": "python",
   "pygments_lexer": "ipython3",
   "version": "3.6.8"
  }
 },
 "nbformat": 4,
 "nbformat_minor": 4
}
