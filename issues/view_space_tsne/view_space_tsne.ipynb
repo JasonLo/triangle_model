{
 "cells": [
  {
   "cell_type": "code",
   "execution_count": null,
   "metadata": {},
   "outputs": [],
   "source": [
    "from sklearn.manifold import TSNE\n",
    "import pandas as pd\n",
    "import altair as alt\n",
    "import data_wrangling\n",
    "data = data_wrangling.MyData()\n",
    "p = data.np_representations['pho']\n",
    "s = data.np_representations['sem']"
   ]
  },
  {
   "cell_type": "code",
   "execution_count": null,
   "metadata": {},
   "outputs": [],
   "source": [
    "tsne = TSNE(n_components=2, random_state=0)\n",
    "p_2d = tsne.fit_transform(p)\n",
    "s_2d = tsne.fit_transform(s)"
   ]
  },
  {
   "cell_type": "code",
   "execution_count": null,
   "metadata": {},
   "outputs": [],
   "source": [
    "tsne_dict = {\n",
    "    'word': list(data.df_train.word),\n",
    "    'p0': p_2d[:,0],\n",
    "    'p1': p_2d[:,1],\n",
    "    's0': s_2d[:,0],\n",
    "    's1': s_2d[:,1]\n",
    "}\n",
    "df = pd.DataFrame.from_dict(tsne_dict)\n",
    "df"
   ]
  },
  {
   "cell_type": "code",
   "execution_count": null,
   "metadata": {},
   "outputs": [],
   "source": [
    "pho_plot = alt.Chart(df.sample(1000)).mark_point().encode(\n",
    "    x='p0',\n",
    "    y='p1',\n",
    "    detail='word',\n",
    "    tooltip=['word']\n",
    ").interactive().properties(title='PHO representation t-SNE 2d projection in 1000 words')\n",
    "\n",
    "pho_plot.save('pho.html')"
   ]
  },
  {
   "cell_type": "code",
   "execution_count": null,
   "metadata": {},
   "outputs": [],
   "source": [
    "pho_plot = alt.Chart(df.sample(1000)).mark_point().encode(\n",
    "    x='s0',\n",
    "    y='s1',\n",
    "    detail='word',\n",
    "    tooltip=['word']\n",
    ").interactive().properties(title='SEM representation t-SNE 2d projection in 1000 words')\n",
    "\n",
    "pho_plot.save('SEM.html')"
   ]
  }
 ],
 "metadata": {
  "interpreter": {
   "hash": "98b0a9b7b4eaaa670588a142fd0a9b87eaafe866f1db4228be72b4211d12040f"
  },
  "kernelspec": {
   "display_name": "Python 3.7.10 64-bit ('base': conda)",
   "name": "python3"
  },
  "language_info": {
   "codemirror_mode": {
    "name": "ipython",
    "version": 3
   },
   "file_extension": ".py",
   "mimetype": "text/x-python",
   "name": "python",
   "nbconvert_exporter": "python",
   "pygments_lexer": "ipython3",
   "version": "3.7.10"
  }
 },
 "nbformat": 4,
 "nbformat_minor": 2
}
