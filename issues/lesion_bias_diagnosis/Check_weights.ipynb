{
 "cells": [
  {
   "cell_type": "markdown",
   "metadata": {},
   "source": [
    "# MikeNet weights"
   ]
  },
  {
   "cell_type": "code",
   "execution_count": null,
   "metadata": {},
   "outputs": [],
   "source": [
    "import mn_helper\n",
    "from importlib import reload\n",
    "reload(mn_helper)\n",
    "w = mn_helper.mn_weights('Reading_Weight_v10')"
   ]
  },
  {
   "cell_type": "code",
   "execution_count": null,
   "metadata": {},
   "outputs": [],
   "source": [
    "import numpy as np\n",
    "np.unique()"
   ]
  },
  {
   "cell_type": "code",
   "execution_count": null,
   "metadata": {},
   "outputs": [],
   "source": [
    "\n",
    "for x in w.useless_keys:\n",
    "    this_w = w.weights[x]\n",
    "    print(f\"{x}: len = {len(this_w)}; Unique valuse: {np.unique(this_w)}\")"
   ]
  },
  {
   "cell_type": "code",
   "execution_count": null,
   "metadata": {},
   "outputs": [],
   "source": [
    "w = mn_helper.mn_weights('Reading_Weight_v1')\n",
    "mn_plot_all = w.plot_all(xlim=[-6, 6])"
   ]
  },
  {
   "cell_type": "markdown",
   "metadata": {},
   "source": [
    "# TF weights"
   ]
  },
  {
   "cell_type": "code",
   "execution_count": null,
   "metadata": {},
   "outputs": [],
   "source": [
    "import os \n",
    "os.chdir('/home/jupyter/tf')\n",
    "import troubleshooting"
   ]
  },
  {
   "cell_type": "code",
   "execution_count": null,
   "metadata": {},
   "outputs": [],
   "source": [
    "code_name = 'Refrac3_local'\n",
    "epoch = 200\n",
    "d = troubleshooting.Diagnosis(code_name)\n",
    "d.eval('train_r100', task='triangle', epoch=epoch)"
   ]
  },
  {
   "cell_type": "code",
   "execution_count": null,
   "metadata": {},
   "outputs": [],
   "source": [
    "import matplotlib.pyplot as plt\n",
    "import pandas as pd\n",
    "\n",
    "def plot(diag, weight_name: str, ax: plt.axes = None, xlim: tuple = None) -> plt.figure:\n",
    "    \"\"\"Density plot of a given weight in Diagnosis object\"\"\"\n",
    "\n",
    "    df = pd.DataFrame({weight_name: diag.get_weight(weight_name).flatten()})\n",
    "\n",
    "    if len(df) > 1000:\n",
    "        df = df.sample(1000)\n",
    "\n",
    "    title = f\"{weight_name}\"\n",
    "    return df.plot.density(title=title, ax=ax, legend=None, xlim=xlim)\n"
   ]
  },
  {
   "cell_type": "code",
   "execution_count": null,
   "metadata": {},
   "outputs": [],
   "source": [
    "def dual_plot(tf_diag, mn_weights, weight_name:str) -> plt.figure:\n",
    "    \"\"\"Plot both MN weight with TF weight\n",
    "    td_diag: troubleshoot.Diagnosis class\n",
    "    mn_weights: mn_helper.mn_weights class\n",
    "    weight_name: weight name in TF naming convention\n",
    "    \"\"\"\n",
    "    fig, ax = plt.subplots(1, 2, figsize=(10, 5), sharex=True, sharey=True)\n",
    "    mn_weights_name = mn_weights.as_mn_name(weight_name)\n",
    "\n",
    "    mn_weights.plot(mn_weights_name, ax=ax[0])\n",
    "    plot(tf_diag, weight_name, ax=ax[1])\n",
    "    return fig"
   ]
  },
  {
   "cell_type": "code",
   "execution_count": null,
   "metadata": {},
   "outputs": [],
   "source": [
    "os.mkdir(os.path.join(d.cfg.plot_folder, \"compare_mn_weights\"))\n",
    "\n",
    "for x in w.useful_keys:\n",
    "    w_name = w.as_tf_name(x)\n",
    "    print(w_name)\n",
    "    try:\n",
    "        tmp = dual_plot(d, w, w_name)\n",
    "        tmp.savefig(os.path.join(d.cfg.plot_folder, \"compare_mn_weights\", f\"{w_name}.png\"))\n",
    "    except IndexError:\n",
    "        pass\n",
    "    \n"
   ]
  }
 ],
 "metadata": {
  "interpreter": {
   "hash": "98b0a9b7b4eaaa670588a142fd0a9b87eaafe866f1db4228be72b4211d12040f"
  },
  "kernelspec": {
   "display_name": "Python 3.7.10 64-bit ('base': conda)",
   "name": "python3"
  },
  "language_info": {
   "codemirror_mode": {
    "name": "ipython",
    "version": 3
   },
   "file_extension": ".py",
   "mimetype": "text/x-python",
   "name": "python",
   "nbconvert_exporter": "python",
   "pygments_lexer": "ipython3",
   "version": "3.7.10"
  }
 },
 "nbformat": 4,
 "nbformat_minor": 2
}
