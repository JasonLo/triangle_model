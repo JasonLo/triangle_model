{
 "cells": [
  {
   "cell_type": "markdown",
   "metadata": {},
   "source": [
    "# MikeNet weights"
   ]
  },
  {
   "cell_type": "code",
   "execution_count": null,
   "metadata": {},
   "outputs": [],
   "source": [
    "import os \n",
    "import mn_helper\n",
    "import numpy as np\n",
    "\n",
    "w = mn_helper.mn_weights('Reading_Weight_v1')"
   ]
  },
  {
   "cell_type": "code",
   "execution_count": null,
   "metadata": {},
   "outputs": [],
   "source": [
    "for x in w.nonweight_keys:\n",
    "    this_w = w.weights[x]\n",
    "    print(f\"{x}: len = {len(this_w)}; Unique values: {np.unique(this_w)}\")"
   ]
  },
  {
   "cell_type": "markdown",
   "metadata": {},
   "source": [
    "# Plot all weights density in MN"
   ]
  },
  {
   "cell_type": "code",
   "execution_count": null,
   "metadata": {},
   "outputs": [],
   "source": [
    "os.getcwd()"
   ]
  },
  {
   "cell_type": "code",
   "execution_count": null,
   "metadata": {},
   "outputs": [],
   "source": [
    "mn_plot_all = w.plot_all(xlim=[-6, 6])\n",
    "mn_plot_all.savefig(os.path.join(\"plots\", \"all_mn_weights.png\"))"
   ]
  },
  {
   "cell_type": "markdown",
   "metadata": {},
   "source": [
    "# TF weights"
   ]
  },
  {
   "cell_type": "code",
   "execution_count": null,
   "metadata": {},
   "outputs": [],
   "source": [
    "os.chdir('/home/jupyter/triangle_model')\n",
    "import troubleshooting\n",
    "import matplotlib.pyplot as plt\n",
    "import pandas as pd"
   ]
  },
  {
   "cell_type": "code",
   "execution_count": null,
   "metadata": {},
   "outputs": [],
   "source": [
    "code_name = 'Refrac3_local'\n",
    "epoch = 200\n",
    "d = troubleshooting.Diagnosis(code_name)\n",
    "d.eval('train_r100', task='triangle', epoch=epoch)"
   ]
  },
  {
   "cell_type": "code",
   "execution_count": null,
   "metadata": {},
   "outputs": [],
   "source": [
    "os.mkdir(os.path.join(d.cfg.plot_folder, \"compare_mn_weights\"))\n",
    "\n",
    "for x in w.weight_keys:\n",
    "    w_name = w.as_tf_name(x)\n",
    "    print(w_name)\n",
    "    try:\n",
    "        tmp = dual_plot(d, w, w_name)\n",
    "        tmp.savefig(os.path.join(d.cfg.plot_folder, \"compare_mn_weights\", f\"{w_name}.png\"))\n",
    "    except IndexError:\n",
    "        pass\n",
    "    \n"
   ]
  }
 ],
 "metadata": {
  "interpreter": {
   "hash": "98b0a9b7b4eaaa670588a142fd0a9b87eaafe866f1db4228be72b4211d12040f"
  },
  "kernelspec": {
   "display_name": "Python 3.7.10 64-bit ('base': conda)",
   "name": "python3"
  },
  "language_info": {
   "codemirror_mode": {
    "name": "ipython",
    "version": 3
   },
   "file_extension": ".py",
   "mimetype": "text/x-python",
   "name": "python",
   "nbconvert_exporter": "python",
   "pygments_lexer": "ipython3",
   "version": "3.7.10"
  }
 },
 "nbformat": 4,
 "nbformat_minor": 2
}
