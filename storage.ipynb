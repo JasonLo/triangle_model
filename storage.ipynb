{
 "cells": [
  {
   "cell_type": "markdown",
   "id": "733dca9b",
   "metadata": {},
   "source": [
    "# Storage manager"
   ]
  },
  {
   "cell_type": "markdown",
   "id": "7ad40134",
   "metadata": {},
   "source": [
    "There are two types of storage in tf project\n",
    "- file storage buckets (google storage bucket)\n",
    "- data warehouse (bigquery)"
   ]
  },
  {
   "cell_type": "markdown",
   "id": "995d962d",
   "metadata": {},
   "source": [
    "## Storage bucket"
   ]
  },
  {
   "cell_type": "code",
   "execution_count": null,
   "id": "eada0b96",
   "metadata": {},
   "outputs": [],
   "source": [
    "bucket_name = \"tmp\"\n",
    "!gsutil mb gs://{bucket_name}/\n",
    "!gsutil rm -r gs://{bucket_name}/"
   ]
  },
  {
   "cell_type": "code",
   "execution_count": null,
   "id": "9befc094",
   "metadata": {},
   "outputs": [],
   "source": [
    "# GCP to GS\n",
    "code_name = 'triangle_high_time_res_4M_fix'\n",
    "!gsutil -m rsync -d -r models/{code_name} gs://tf_mirror/{code_name}"
   ]
  },
  {
   "cell_type": "code",
   "execution_count": null,
   "id": "811d1858",
   "metadata": {},
   "outputs": [],
   "source": [
    "# GS to local\n",
    "code_name = 'triangle_high_time_res_4M_fix'\n",
    "!mkdir models/{code_name}\n",
    "!gsutil -m rsync -r gs://tf_mirror/{code_name} models/{code_name}"
   ]
  },
  {
   "cell_type": "markdown",
   "id": "5dbac13e",
   "metadata": {},
   "source": [
    "## Bigquery"
   ]
  },
  {
   "cell_type": "code",
   "execution_count": null,
   "id": "6c67cbfa",
   "metadata": {},
   "outputs": [],
   "source": [
    "13.8*8"
   ]
  }
 ],
 "metadata": {
  "environment": {
   "name": "tf2-gpu.2-5.m74",
   "type": "gcloud",
   "uri": "gcr.io/deeplearning-platform-release/tf2-gpu.2-5:m74"
  },
  "kernelspec": {
   "display_name": "Python 3",
   "language": "python",
   "name": "python3"
  },
  "language_info": {
   "codemirror_mode": {
    "name": "ipython",
    "version": 3
   },
   "file_extension": ".py",
   "mimetype": "text/x-python",
   "name": "python",
   "nbconvert_exporter": "python",
   "pygments_lexer": "ipython3",
   "version": "3.7.10"
  }
 },
 "nbformat": 4,
 "nbformat_minor": 5
}
