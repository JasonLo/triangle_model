{
 "cells": [
  {
   "cell_type": "markdown",
   "id": "09e2092a",
   "metadata": {},
   "source": [
    "# Storage manager"
   ]
  },
  {
   "cell_type": "markdown",
   "id": "28e39c59",
   "metadata": {},
   "source": [
    "There are two types of storage in tf project\n",
    "- file storage buckets (google storage bucket)\n",
    "- data warehouse (bigquery)"
   ]
  },
  {
   "cell_type": "markdown",
   "id": "a96693f2",
   "metadata": {},
   "source": [
    "## Storage bucket"
   ]
  },
  {
   "cell_type": "code",
   "execution_count": null,
   "id": "1073d58f",
   "metadata": {},
   "outputs": [],
   "source": [
    "bucket_name = \"tmp\"\n",
    "!gsutil mb gs://{bucket_name}/\n",
    "!gsutil rm -r gs://{bucket_name}/"
   ]
  },
  {
   "cell_type": "code",
   "execution_count": null,
   "id": "628b3cde",
   "metadata": {},
   "outputs": [],
   "source": [
    "# GCP to GS\n",
    "!gsutil -m rsync -d -r models/triangle_high_time_res_4M gs://tf_mirror/triangle_high_time_res_4M"
   ]
  },
  {
   "cell_type": "code",
   "execution_count": null,
   "id": "03282857",
   "metadata": {},
   "outputs": [],
   "source": [
    "# GS to local\n",
    "!gsutil -m rsync -r gs://tf_mirror/triangle_high_time_res_4M models/triangle_high_time_res_4M"
   ]
  },
  {
   "cell_type": "markdown",
   "id": "6f8aba0e",
   "metadata": {},
   "source": [
    "## Bigquery"
   ]
  },
  {
   "cell_type": "code",
   "execution_count": null,
   "id": "0921b956",
   "metadata": {},
   "outputs": [],
   "source": [
    "13.8*8"
   ]
  }
 ],
 "metadata": {
  "environment": {
   "name": "tf2-gpu.2-5.m74",
   "type": "gcloud",
   "uri": "gcr.io/deeplearning-platform-release/tf2-gpu.2-5:m74"
  },
  "kernelspec": {
   "display_name": "Python 3",
   "language": "python",
   "name": "python3"
  },
  "language_info": {
   "codemirror_mode": {
    "name": "ipython",
    "version": 3
   },
   "file_extension": ".py",
   "mimetype": "text/x-python",
   "name": "python",
   "nbconvert_exporter": "python",
   "pygments_lexer": "ipython3",
   "version": "3.7.10"
  }
 },
 "nbformat": 4,
 "nbformat_minor": 5
}
