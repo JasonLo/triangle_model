{
 "cells": [
  {
   "cell_type": "markdown",
   "id": "8590ec51",
   "metadata": {},
   "source": [
    "# Storage manager"
   ]
  },
  {
   "cell_type": "markdown",
   "id": "634b95cc",
   "metadata": {},
   "source": [
    "There are two types of storage in tf project\n",
    "- file storage buckets (google storage bucket)\n",
    "- data warehouse (bigquery)"
   ]
  },
  {
   "cell_type": "markdown",
   "id": "1ee23e7b",
   "metadata": {},
   "source": [
    "## Storage bucket"
   ]
  },
  {
   "cell_type": "code",
   "execution_count": null,
   "id": "2e18f58f",
   "metadata": {},
   "outputs": [],
   "source": [
    "bucket_name = \"tmp\"\n",
    "!gsutil mb gs://{bucket_name}/\n",
    "!gsutil rm -r gs://{bucket_name}/"
   ]
  },
  {
   "cell_type": "code",
   "execution_count": null,
   "id": "6cb48596",
   "metadata": {},
   "outputs": [],
   "source": [
    "!gsutil -m rsync -d -r models/test_combine_run gs://tf-mirror/test_combine_run"
   ]
  },
  {
   "cell_type": "markdown",
   "id": "db4cff6e",
   "metadata": {},
   "source": [
    "## Bigquery"
   ]
  },
  {
   "cell_type": "code",
   "execution_count": null,
   "id": "3bdd135b",
   "metadata": {},
   "outputs": [],
   "source": []
  }
 ],
 "metadata": {
  "environment": {
   "name": "tf2-gpu.2-4.m68",
   "type": "gcloud",
   "uri": "gcr.io/deeplearning-platform-release/tf2-gpu.2-4:m68"
  },
  "kernelspec": {
   "display_name": "Python 3",
   "language": "python",
   "name": "python3"
  },
  "language_info": {
   "codemirror_mode": {
    "name": "ipython",
    "version": 3
   },
   "file_extension": ".py",
   "mimetype": "text/x-python",
   "name": "python",
   "nbconvert_exporter": "python",
   "pygments_lexer": "ipython3",
   "version": "3.7.10"
  }
 },
 "nbformat": 4,
 "nbformat_minor": 5
}
