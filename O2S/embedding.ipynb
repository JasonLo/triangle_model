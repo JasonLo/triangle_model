{
 "cells": [
  {
   "cell_type": "code",
   "execution_count": null,
   "metadata": {},
   "outputs": [],
   "source": [
    "# !pip install bert-for-tf2\n",
    "# !wget https://storage.googleapis.com/bert_models/2019_05_30/wwm_uncased_L-24_H-1024_A-16.zip\n",
    "# !unzip embeddings/bert/wwm_uncased_L-24_H-1024_A-16.zip"
   ]
  },
  {
   "cell_type": "code",
   "execution_count": null,
   "metadata": {},
   "outputs": [],
   "source": [
    "%load_ext lab_black"
   ]
  },
  {
   "cell_type": "markdown",
   "metadata": {},
   "source": [
    "# BERT embedding\n",
    "- Multiple versions of pretrained BERT are available on https://github.com/google-research/bert\n",
    "    - Versions varies in:\n",
    "        - BERT layer (L), \n",
    "        - Hidden unit (H), \n",
    "        - Attention head (A), \n",
    "        - Training set cases or not (cased, uncased)\n",
    "        - Masking stregegy (Whole word masking (wwm), or wwm + sublexical mask)\n",
    "    - For example, the base model (uncased_L-12_H-768_A-12), it has 12 BERT layers, 768 hidden unit, and 12 attention head which trained on uncased training set with sublexical information into account\n",
    "- Non wwm masking encode a single word into >=1 tokens(e.g., hat maybe encoded into two tokens: hat-, and -s), therefore it needs a longer sequence (max_seq_len) to encode a single word\n",
    "- For whole word masking models (e.g. wwm_uncased_L-24_H-1024_A-16), bert only need 1 cell to encode each word\n",
    "- Because BERT is designed to encode sentence level information, 2 special tokens are needed to mark the start [CLS] and the end [SEP] of a sentence/word\n",
    "    - However, testing the word level similarity matrix, including these special tokens harms the similarity between highly related word pairs\n",
    "    - Therefore, I do not include the special token when applying BERT\n"
   ]
  },
  {
   "cell_type": "markdown",
   "metadata": {},
   "source": [
    "## Create BERT model from file"
   ]
  },
  {
   "cell_type": "code",
   "execution_count": null,
   "metadata": {},
   "outputs": [],
   "source": [
    "from tensorflow import keras\n",
    "import os, bert\n",
    "import pandas as pd\n",
    "import numpy as np\n",
    "\n",
    "\n",
    "def simple_load_bert(model_dir, max_seq_len):\n",
    "    \"\"\"\n",
    "    Building a tensorflow model with pretrained model\n",
    "    \"\"\"\n",
    "\n",
    "    bert_params = bert.params_from_pretrained_ckpt(model_dir)\n",
    "    l_bert = bert.BertModelLayer.from_params(bert_params, name=\"bert\")\n",
    "\n",
    "    # Since BERT also uses sublexical info (e.g., -s, -ed), for a single word 8 is enough for our corpus\n",
    "    l_input_ids = keras.layers.Input(shape=(max_seq_len, ), dtype='int32')\n",
    "\n",
    "    # using the default token_type\n",
    "    # output: [batch_size, max_seq_len, hidden_size]\n",
    "    output = l_bert(l_input_ids)\n",
    "    model = keras.Model(inputs=l_input_ids, outputs=output)\n",
    "\n",
    "    # Build and load checkpoint weights\n",
    "    model.build(input_shape=(None, max_seq_len))\n",
    "    bert_ckpt_file = os.path.join(model_dir, \"bert_model.ckpt\")\n",
    "    bert.load_stock_weights(l_bert, bert_ckpt_file)\n",
    "    return model\n",
    "\n",
    "\n",
    "model_dir = 'embeddings/bert/wwm_uncased_L-24_H-1024_A-16'\n",
    "max_seq_len = 1\n",
    "model = simple_load_bert(model_dir, max_seq_len)"
   ]
  },
  {
   "cell_type": "markdown",
   "metadata": {},
   "source": [
    "## Tokenize training set with BERT token id"
   ]
  },
  {
   "cell_type": "code",
   "execution_count": null,
   "metadata": {},
   "outputs": [],
   "source": [
    "from bert.tokenization.bert_tokenization import BasicTokenizer, load_vocab, convert_by_vocab\n",
    "\n",
    "tokenizer = BasicTokenizer()\n",
    "vocab = load_vocab(os.path.join(model_dir, \"vocab.txt\"))\n",
    "\n",
    "x_train = pd.read_csv('../common/input/df_train.csv', na_filter=False)\n",
    "print('Training set has {} words'.format(len(x_train)))\n",
    "\n",
    "words = []\n",
    "x = []\n",
    "\n",
    "for i, word in enumerate(x_train.word):\n",
    "    if word in vocab:\n",
    "        words.append(word)\n",
    "        x.append(convert_by_vocab(vocab, tokenizer.tokenize(word)))\n",
    "\n",
    "print('There are {} words with BERT vector'.format(len(x)))"
   ]
  },
  {
   "cell_type": "markdown",
   "metadata": {},
   "source": [
    "## Use BERT to create word embedding"
   ]
  },
  {
   "cell_type": "code",
   "execution_count": null,
   "metadata": {},
   "outputs": [],
   "source": [
    "y = model.predict(x[10])\n",
    "print('y shape (words, seq, hidden) = {}'.format(y.shape))\n",
    "\n",
    "# Can use different pooling stregegy is seq dim > 1\n",
    "y = y.squeeze()\n",
    "# y = np.mean(y, axis=1)\n",
    "# y = np.max(y, axis=1)\n",
    "\n",
    "print('After squeezing seq dimension, shoep = {}'.format(y.shape))"
   ]
  },
  {
   "cell_type": "code",
   "execution_count": null,
   "metadata": {},
   "outputs": [],
   "source": [
    "[layer.output for layer in model.layers]"
   ]
  },
  {
   "cell_type": "code",
   "execution_count": null,
   "metadata": {},
   "outputs": [],
   "source": [
    "from keras import backend as K\n",
    "\n",
    "inp = model.input                                           # input placeholder\n",
    "outputs = [layer.output for layer in model.layers]          # all layer outputs\n",
    "functors = [K.function([inp, K.learning_phase()], [out]) for out in outputs]    # evaluation functions\n",
    "\n",
    "# Testing\n",
    "test = x[10]\n",
    "layer_outs = [func([test, 1.]) for func in functors]\n",
    "print(layer_outs)"
   ]
  },
  {
   "cell_type": "code",
   "execution_count": null,
   "metadata": {},
   "outputs": [],
   "source": [
    "model.layers"
   ]
  },
  {
   "cell_type": "markdown",
   "metadata": {},
   "source": [
    "### Visualize embedding"
   ]
  },
  {
   "cell_type": "code",
   "execution_count": null,
   "metadata": {},
   "outputs": [],
   "source": [
    "import matplotlib.pyplot as plt\n",
    "plt.figure(figsize=(8, 5))\n",
    "plt.subplot(111)\n",
    "plt.title('WWM BERT word embedding')\n",
    "plt.imshow(y, cmap='jet', interpolation='nearest', aspect=\"auto\")\n",
    "plt.colorbar()\n",
    "plt.show()"
   ]
  },
  {
   "cell_type": "markdown",
   "metadata": {},
   "source": [
    "### Tiny test case\n",
    "- Check whether similar words are really similar at the embedding\n",
    "- Consider expanding to full blown test case using free association norm http://w3.usf.edu/FreeAssociation/"
   ]
  },
  {
   "cell_type": "code",
   "execution_count": null,
   "metadata": {},
   "outputs": [],
   "source": [
    "from tensorflow.keras.losses import cosine_similarity\n",
    "\n",
    "\n",
    "def check_sim():\n",
    "    \"\"\"\n",
    "    A test case for checking the embedding is providing sensible similarity measure\n",
    "    \"\"\"\n",
    "\n",
    "    fire = y[[i for i, word in enumerate(words) if word == 'fire']]\n",
    "    heat = y[[i for i, word in enumerate(words) if word == 'heat']]\n",
    "    boy = y[[i for i, word in enumerate(words) if word == 'boy']]\n",
    "    girl = y[[i for i, word in enumerate(words) if word == 'girl']]\n",
    "\n",
    "    print(\n",
    "        'Cosine similarity range from -1 to 1, more positive indicate higher similarity'\n",
    "    )\n",
    "\n",
    "    print(\n",
    "        'Similarity between {} and {} is {}'.format(\n",
    "            'fire', 'heat', -cosine_similarity(fire, heat)\n",
    "        )\n",
    "    )\n",
    "\n",
    "    print(\n",
    "        'Similarity between {} and {} is {}'.format(\n",
    "            'fire', 'boy', -cosine_similarity(fire, boy)\n",
    "        )\n",
    "    )\n",
    "\n",
    "    print(\n",
    "        'Similarity between {} and {} is {}'.format(\n",
    "            'fire', 'girl', -cosine_similarity(fire, girl)\n",
    "        )\n",
    "    )\n",
    "\n",
    "    print(\n",
    "        'Similarity between {} and {} is {}'.format(\n",
    "            'heat', 'boy', -cosine_similarity(heat, boy)\n",
    "        )\n",
    "    )\n",
    "\n",
    "    print(\n",
    "        'Similarity between {} and {} is {}'.format(\n",
    "            'heat', 'girl', -cosine_similarity(heat, girl)\n",
    "        )\n",
    "    )\n",
    "\n",
    "    print(\n",
    "        'Similarity between {} and {} is {}'.format(\n",
    "            'boy', 'girl', -cosine_similarity(boy, girl)\n",
    "        )\n",
    "    )\n",
    "\n",
    "\n",
    "check_sim()"
   ]
  },
  {
   "cell_type": "markdown",
   "metadata": {},
   "source": [
    "### Save embedding"
   ]
  },
  {
   "cell_type": "code",
   "execution_count": null,
   "metadata": {},
   "outputs": [],
   "source": [
    "np.savez_compressed('embeddings/bert/bert.npz', data=y)\n",
    "\n",
    "with open('embeddings/bert/bert_wordlist.txt', 'w') as file:\n",
    "    file.writelines(\"%s\\n\" % word for word in words)\n",
    "\n",
    "print('{} words in bert.npz'.format(len(x)))"
   ]
  },
  {
   "cell_type": "markdown",
   "metadata": {},
   "source": [
    "# Glove"
   ]
  },
  {
   "cell_type": "code",
   "execution_count": null,
   "metadata": {},
   "outputs": [],
   "source": [
    "import numpy as np\n",
    "import pandas as pd\n",
    "\n",
    "embeddings_dict = {}\n",
    "with open('embeddings/glove/glove.6B.300d.txt', 'r', encoding=\"utf-8\") as f:\n",
    "\n",
    "    for line in f:\n",
    "        values = line.split()\n",
    "        word = values[0]\n",
    "        vector = np.asarray(values[1:], \"float32\")\n",
    "        embeddings_dict[word] = vector\n",
    "\n",
    "x_train = pd.read_csv('../common/input/df_train.csv', na_filter=False)\n",
    "sel = x_train.word[x_train.word.isin(embeddings_dict.keys())]\n",
    "glove = {key: embeddings_dict[key] for key in sel}"
   ]
  },
  {
   "cell_type": "code",
   "execution_count": null,
   "metadata": {},
   "outputs": [],
   "source": []
  }
 ],
 "metadata": {
  "kernelspec": {
   "display_name": "Python 3",
   "language": "python",
   "name": "python3"
  },
  "language_info": {
   "codemirror_mode": {
    "name": "ipython",
    "version": 3
   },
   "file_extension": ".py",
   "mimetype": "text/x-python",
   "name": "python",
   "nbconvert_exporter": "python",
   "pygments_lexer": "ipython3",
   "version": "3.5.3"
  }
 },
 "nbformat": 4,
 "nbformat_minor": 4
}
