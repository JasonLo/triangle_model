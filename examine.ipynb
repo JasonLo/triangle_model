{
 "cells": [
  {
   "cell_type": "markdown",
   "metadata": {},
   "source": [
    "# Examine one model"
   ]
  },
  {
   "cell_type": "code",
   "execution_count": null,
   "metadata": {},
   "outputs": [],
   "source": [
    "%load_ext lab_black\n",
    "import os\n",
    "import altair as alt\n",
    "from ipywidgets import interact\n",
    "import pandas as pd\n",
    "import meta, data_wrangling, modeling, metrics, evaluate\n",
    "\n",
    "# meta.limit_gpu_memory_use(7000)"
   ]
  },
  {
   "cell_type": "code",
   "execution_count": null,
   "metadata": {},
   "outputs": [],
   "source": [
    "class examine:\n",
    "    \n",
    "    def __init__(self, code_name, tf_root=\"/home/jupyter/tf\"):\n",
    "\n",
    "        try:\n",
    "            # Fast load from disk\n",
    "            csv_file = os.path.join(tf_root, 'models', code_name, 'eval', 'strain_mean_df.csv')\n",
    "            self.df = pd.read_csv(csv_file)\n",
    "        except:\n",
    "            # Eval from scratch\n",
    "            self.cfg = meta.ModelConfig.from_json(os.path.join(tf_root, 'models', code_name, 'model_config.json'))\n",
    "            self.data = data_wrangling.MyData()\n",
    "            self.model = modeling.HS04Model(self.cfg)\n",
    "            self.model.build()\n",
    "            self.test_strain = evaluate.EvalOral(self.cfg, self.model, self.data)\n",
    "            self.df = self.test_strain.strain_mean_df\n",
    "\n",
    "    def plot_op_strain(self):\n",
    "        df = self.df\n",
    "\n",
    "        @interact(\n",
    "            use_y=['acc','sse','conditional_sse'],\n",
    "            timetick=(1,12,1),\n",
    "            y_max=(1, 20, 1)\n",
    "            )\n",
    "        def plot(use_y='acc', timetick=12, y_max=1):\n",
    "            sdf = df.loc[(df.timetick==timetick)] \n",
    "            \n",
    "            # Plot by condition\n",
    "            return alt.Chart(sdf).mark_line().encode(\n",
    "                x='epoch:Q',\n",
    "                y=alt.Y(f\"{use_y}:Q\", scale=alt.Scale(domain=(0, y_max))),\n",
    "                color='cond:N'\n",
    "            )\n",
    "\n",
    "    def plot(self):\n",
    "        \"\"\" Create an interactive plot for strain \"\"\"\n",
    "        df = self.df\n",
    "\n",
    "        @interact(\n",
    "            use_y=['acc','sse','conditional_sse'],\n",
    "            task=['pho_sem', 'sem_pho', 'pho_pho', 'sem_sem'],\n",
    "            timetick=(1,12,1),\n",
    "            y_max=(1, 20, 1)\n",
    "            )\n",
    "        def plot(use_y='acc', timetick=12, task='pho_sem', y_max=1):\n",
    "            sdf = df.loc[(df.timetick==timetick) & (df.task==task)] \n",
    "            \n",
    "            # Plot by condition\n",
    "            plot_by_cond = alt.Chart(sdf).mark_line().encode(\n",
    "                x='epoch:Q',\n",
    "                y=alt.Y(f\"{use_y}:Q\", scale=alt.Scale(domain=(0, y_max))),\n",
    "                color='testset:N'\n",
    "            )\n",
    "\n",
    "            # Plot average\n",
    "            plot_average = plot_by_cond.encode(y=alt.Y(f\"mean({use_y}):Q\", scale=alt.Scale(domain=(0, y_max))), color='task')\n",
    "            plot_average += plot_average.mark_errorband()\n",
    "\n",
    "            # Plot contrasts\n",
    "            contrasts = {}\n",
    "            contrasts['contrast_frequency'] = \"\"\"(datum.strain_hf_con_hi + datum.strain_hf_con_li + datum.strain_hf_inc_hi + datum.strain_hf_inc_li - \n",
    "                (datum.strain_lf_con_hi + datum.strain_lf_con_li + datum.strain_lf_inc_hi + datum.strain_lf_inc_li))/4\"\"\"\n",
    "            contrasts['contrast_consistency'] = \"\"\"(datum.strain_hf_con_hi + datum.strain_hf_con_li + datum.strain_lf_con_hi + datum.strain_lf_con_li - \n",
    "                (datum.strain_hf_inc_hi + datum.strain_hf_inc_li + datum.strain_lf_inc_hi + datum.strain_lf_inc_li))/4\"\"\"\n",
    "            contrasts['contrast_imageability'] = \"\"\"(datum.strain_hf_con_hi + datum.strain_lf_con_hi + datum.strain_hf_inc_hi + datum.strain_lf_inc_hi - \n",
    "                (datum.strain_hf_con_li + datum.strain_lf_con_li + datum.strain_hf_inc_li + datum.strain_lf_inc_li))/4\"\"\"\n",
    "\n",
    "            def create_contrast_plot(name):\n",
    "                return plot_by_cond.encode(y=alt.Y(\"difference:Q\", scale=alt.Scale(domain=(-y_max, y_max)))\n",
    "                    ).transform_pivot('testset', value=use_y, groupby=['epoch']\n",
    "                    ).transform_calculate(difference = contrasts[name]\n",
    "                    ).properties(title=name)\n",
    "\n",
    "            contrast_plots = alt.hconcat()\n",
    "            for c in contrasts.keys():\n",
    "                contrast_plots |= create_contrast_plot(c)\n",
    "\n",
    "\n",
    "            return((plot_by_cond | plot_average) & contrast_plots)\n"
   ]
  },
  {
   "cell_type": "code",
   "execution_count": null,
   "metadata": {},
   "outputs": [],
   "source": [
    "tmp = examine('op_full')\n",
    "tmp.plot_op_strain()"
   ]
  },
  {
   "cell_type": "code",
   "execution_count": null,
   "metadata": {},
   "outputs": [],
   "source": [
    "tmp = examine('op_chang')\n",
    "tmp.plot_op_strain()\n"
   ]
  },
  {
   "cell_type": "markdown",
   "metadata": {},
   "source": [
    "## Strain"
   ]
  },
  {
   "cell_type": "code",
   "execution_count": null,
   "metadata": {},
   "outputs": [],
   "source": [
    "# Half-pretrain (Chang 2019)\n",
    "\n",
    "half_pretrain = examine(\"half_pretrain\")\n",
    "half_pretrain.plot()\n"
   ]
  },
  {
   "cell_type": "code",
   "execution_count": null,
   "metadata": {},
   "outputs": [],
   "source": [
    "# Chang 2019\n",
    "\n",
    "chang_pretrain = examine(\"chang_pretrain\")\n",
    "chang_pretrain.plot()"
   ]
  },
  {
   "cell_type": "code",
   "execution_count": null,
   "metadata": {},
   "outputs": [],
   "source": [
    "# Full-pretrain \n",
    "full_pretrain = examine(\"full_pretrain\")\n",
    "full_pretrain.plot()"
   ]
  },
  {
   "cell_type": "code",
   "execution_count": null,
   "metadata": {},
   "outputs": [],
   "source": []
  }
 ],
 "metadata": {
  "environment": {
   "name": "tf2-gpu.2-4.m68",
   "type": "gcloud",
   "uri": "gcr.io/deeplearning-platform-release/tf2-gpu.2-4:m68"
  },
  "interpreter": {
   "hash": "98b0a9b7b4eaaa670588a142fd0a9b87eaafe866f1db4228be72b4211d12040f"
  },
  "kernelspec": {
   "display_name": "Python 3.7.9 64-bit ('base': conda)",
   "name": "python3"
  },
  "language_info": {
   "codemirror_mode": {
    "name": "ipython",
    "version": 3
   },
   "file_extension": ".py",
   "mimetype": "text/x-python",
   "name": "python",
   "nbconvert_exporter": "python",
   "pygments_lexer": "ipython3",
   "version": "3.7.9"
  },
  "toc-autonumbering": true,
  "toc-showcode": false,
  "toc-showmarkdowntxt": false
 },
 "nbformat": 4,
 "nbformat_minor": 4
}
