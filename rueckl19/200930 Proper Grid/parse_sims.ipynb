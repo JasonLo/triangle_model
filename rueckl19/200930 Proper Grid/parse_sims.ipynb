{
 "cells": [
  {
   "cell_type": "code",
   "execution_count": null,
   "metadata": {},
   "outputs": [],
   "source": [
    "%load_ext lab_black\n",
    "import pandas as pd\n",
    "import numpy as np\n",
    "import helper"
   ]
  },
  {
   "cell_type": "code",
   "execution_count": null,
   "metadata": {},
   "outputs": [],
   "source": [
    "g = helper.parse_mikenet_sims(\"all_grain_fillIn.txt\", \"grain\")\n",
    "s = helper.parse_mikenet_sims(\"all_strain_fillIn.txt\", \"strain\")\n",
    "new_runs = pd.concat([g, s], ignore_index=True)\n",
    "new_runs.sample(3)"
   ]
  },
  {
   "cell_type": "code",
   "execution_count": null,
   "metadata": {},
   "outputs": [],
   "source": [
    "# check h-params\n",
    "for x in [\"Hidden\", \"Pnoise\", \"Epsilon\", \"PhoHid\"]:\n",
    "    print(f\"{x}: {new_runs[x].unique()}\")"
   ]
  },
  {
   "cell_type": "code",
   "execution_count": null,
   "metadata": {},
   "outputs": [],
   "source": [
    "# Read canonical df\n",
    "df_1520 = pd.read_csv(\"../sims/1520_sims.csv\", index_col=0)\n",
    "df_1520.sample(3)"
   ]
  },
  {
   "cell_type": "code",
   "execution_count": null,
   "metadata": {},
   "outputs": [],
   "source": [
    "# Check duplicate\n",
    "x = df_1520.ID.unique()\n",
    "y = new_runs.ID.unique()\n",
    "np.intersect1d(x, y)"
   ]
  },
  {
   "cell_type": "code",
   "execution_count": null,
   "metadata": {},
   "outputs": [],
   "source": [
    "len(y) + 1520"
   ]
  },
  {
   "cell_type": "code",
   "execution_count": null,
   "metadata": {},
   "outputs": [],
   "source": [
    "# Make new canonical df\n",
    "df_1695 = pd.concat([df_1520, new_runs], ignore_index=True)\n",
    "df_1695.to_csv(\"../sims/1695_sims.csv\")"
   ]
  },
  {
   "cell_type": "markdown",
   "metadata": {},
   "source": [
    "### Proper grid (n=525)"
   ]
  },
  {
   "cell_type": "code",
   "execution_count": null,
   "metadata": {},
   "outputs": [],
   "source": [
    "# Make a ID only h-param dataset\n",
    "v = [\"ID\", \"Hidden\", \"PhoHid\", \"Pnoise\", \"Epsilon\"]\n",
    "hpar = df_1695[v].groupby(\"ID\").mean().reset_index()\n",
    "hpar[\"Epsilon\"] = hpar.Epsilon.round(3)  # Fix Epsilon rounding problem after mean"
   ]
  },
  {
   "cell_type": "code",
   "execution_count": null,
   "metadata": {},
   "outputs": [],
   "source": [
    "# Get 3 ID from each cell in desired grid\n",
    "df = pd.DataFrame()\n",
    "\n",
    "for hidden in [25, 50, 75, 100, 150, 200, 250]:\n",
    "    for p_noise in [0, 2, 4, 6, 8]:\n",
    "        for epsilon in [0.002, 0.004, 0.006, 0.008, 0.010]:\n",
    "            tmp = hpar.loc[\n",
    "                (hpar.Hidden == hidden)\n",
    "                & (hpar.Pnoise == p_noise)\n",
    "                & (hpar.Epsilon == epsilon)\n",
    "                & (hpar.PhoHid == 20)\n",
    "            ]\n",
    "\n",
    "            df = df.append(tmp.sample(3), ignore_index=True)"
   ]
  },
  {
   "cell_type": "code",
   "execution_count": null,
   "metadata": {},
   "outputs": [],
   "source": [
    "sel = df_1695.loc[\n",
    "    df_1695.ID.isin(df.ID),\n",
    "]"
   ]
  },
  {
   "cell_type": "code",
   "execution_count": null,
   "metadata": {},
   "outputs": [],
   "source": [
    "sel.to_csv(\"../sims/part3_525.csv\")"
   ]
  }
 ],
 "metadata": {
  "environment": {
   "name": "tf2-2-2-gpu.2-2.m50",
   "type": "gcloud",
   "uri": "gcr.io/deeplearning-platform-release/tf2-2-2-gpu.2-2:m50"
  },
  "kernelspec": {
   "display_name": "Python 3",
   "language": "python",
   "name": "python3"
  },
  "language_info": {
   "codemirror_mode": {
    "name": "ipython",
    "version": 3
   },
   "file_extension": ".py",
   "mimetype": "text/x-python",
   "name": "python",
   "nbconvert_exporter": "python",
   "pygments_lexer": "ipython3",
   "version": "3.7.6"
  }
 },
 "nbformat": 4,
 "nbformat_minor": 4
}
