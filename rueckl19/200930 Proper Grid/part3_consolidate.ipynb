{
 "cells": [
  {
   "cell_type": "markdown",
   "metadata": {},
   "source": [
    "# Individual differences (part 3)"
   ]
  },
  {
   "cell_type": "code",
   "execution_count": null,
   "metadata": {},
   "outputs": [],
   "source": [
    "%load_ext lab_black\n",
    "import pandas as pd\n",
    "import numpy as np\n",
    "import altair as alt\n",
    "import helper\n",
    "from altair.expr import datum\n",
    "\n",
    "alt.data_transformers.disable_max_rows()"
   ]
  },
  {
   "cell_type": "markdown",
   "metadata": {},
   "source": [
    "### Load new (Sept 30, 2020) combined and even grid dataset 525"
   ]
  },
  {
   "cell_type": "code",
   "execution_count": null,
   "metadata": {},
   "outputs": [],
   "source": [
    "df_all = helper.parse_from_file(\"../sims/1520_sims.csv\")\n",
    "hpar = [\"hidden_units\", \"cleanup_units\", \"p_noise\", \"learning_rate\"]"
   ]
  },
  {
   "cell_type": "code",
   "execution_count": null,
   "metadata": {},
   "outputs": [],
   "source": [
    "baseline = helper.Select_Model(df_all)\n",
    "baseline.select_by_control(\n",
    "    hidden_units=[100, 150, 200], p_noise=[1, 2, 3], learning_rate=[0.004, 0.006, 0.008]\n",
    ")\n",
    "baseline.plot(\"Baseline: Middle control space 3x3x3\").save(\"baseline.html\")"
   ]
  },
  {
   "cell_type": "markdown",
   "metadata": {},
   "source": [
    "### At Risk"
   ]
  },
  {
   "cell_type": "code",
   "execution_count": null,
   "metadata": {},
   "outputs": [],
   "source": [
    "df = helper.parse_from_file(\"../sims/part3_525.csv\")\n",
    "helper.count_grid(df, hpar).save(\"count_models_525.html\")"
   ]
  },
  {
   "cell_type": "code",
   "execution_count": null,
   "metadata": {},
   "outputs": [],
   "source": [
    "variates = [\"hidden_units\", \"p_noise\", \"learning_rate\"]\n",
    "\n",
    "df_wnw = df.loc[\n",
    "    (df.cond.isin([\"HF_INC\", \"NW_UN\"])),\n",
    "    variates + [\"code_name\", \"epoch\", \"cond\", \"score\"],\n",
    "]\n",
    "\n",
    "df_wnw = df_wnw.pivot_table(\n",
    "    index=variates + [\"epoch\", \"code_name\"], columns=\"cond\"\n",
    ").reset_index()\n",
    "\n",
    "df_wnw.columns = df_wnw.columns = [\"\".join(c).strip() for c in df_wnw.columns.values]\n",
    "df_wnw.rename(\n",
    "    columns={\"scoreHF_INC\": \"word_acc\", \"scoreNW_UN\": \"nonword_acc\",}, inplace=True,\n",
    ")\n",
    "\n",
    "df_wnw[\"word_advantage\"] = df_wnw.word_acc - df_wnw.nonword_acc\n",
    "df_wnw"
   ]
  },
  {
   "cell_type": "code",
   "execution_count": null,
   "metadata": {},
   "outputs": [],
   "source": [
    "select_control_space = alt.selection(\n",
    "    type=\"multi\",\n",
    "    on=\"click\",\n",
    "    empty=\"none\",\n",
    "    fields=[\"code_name\"],\n",
    "    init=[{\"code_name\": \"n0_h100_l0.01\"}],\n",
    ")\n",
    "\n",
    "# Control space\n",
    "df_overview = df_wnw.loc[df_wnw.epoch == df_wnw.epoch.max()]\n",
    "\n",
    "control_space = (\n",
    "    alt.Chart(df_overview)\n",
    "    .mark_rect()\n",
    "    .encode(\n",
    "        x=\"p_noise:O\",\n",
    "        y=alt.Y(\"hidden_units:O\", sort=\"descending\"),\n",
    "        column=alt.Column(\"learning_rate:O\", sort=\"descending\"),\n",
    "        color=alt.Color(\n",
    "            \"word_acc\", scale=alt.Scale(scheme=\"redyellowgreen\", domain=(0, 1))\n",
    "        ),\n",
    "        opacity=alt.condition(select_control_space, alt.value(1), alt.value(0.3)),\n",
    "        tooltip=[\"code_name\", \"word_acc\", \"nonword_acc\", \"word_advantage\"],\n",
    "    )\n",
    "    .add_selection(select_control_space)\n",
    "    .properties(title=\"Select a control parameter setting:\")\n",
    ")\n",
    "\n",
    "# Development space\n",
    "df.sort_values(by=[\"code_name\", \"cond\"], inplace=True)\n",
    "\n",
    "development_space = (\n",
    "    alt.Chart(df)\n",
    "    .mark_line()\n",
    "    .encode(\n",
    "        y=alt.Y(\"score:Q\", scale=alt.Scale(domain=(0, 1))),\n",
    "        x=\"epoch:Q\",\n",
    "        color=\"cond:N\",\n",
    "        tooltip=[\"code_name\", \"epoch\", \"score\"],\n",
    "    )\n",
    "    .transform_filter(select_control_space)\n",
    "    .properties(title=\"Developmental space: Accuracy in each condition over epoch\")\n",
    ")\n",
    "\n",
    "# Performance space\n",
    "wnw_line = (\n",
    "    alt.Chart(df_wnw)\n",
    "    .mark_line(color=\"black\")\n",
    "    .encode(\n",
    "        y=alt.Y(\"nonword_acc:Q\", scale=alt.Scale(domain=(0, 1))),\n",
    "        x=alt.X(\"word_acc:Q\", scale=alt.Scale(domain=(0, 1))),\n",
    "        tooltip=[\"code_name\", \"epoch\", \"word_acc\", \"nonword_acc\"],\n",
    "    )\n",
    "    .transform_filter(select_control_space)\n",
    ")\n",
    "\n",
    "diagonal = (\n",
    "    alt.Chart(pd.DataFrame({\"x\": [0, 1], \"y\": [0, 1]}))\n",
    "    .mark_line(color=\"#D3D3D3\")\n",
    "    .encode(\n",
    "        x=alt.X(\"x\", axis=alt.Axis(title=\"word\")),\n",
    "        y=alt.X(\"y\", axis=alt.Axis(title=\"nonword\")),\n",
    "    )\n",
    ")\n",
    "\n",
    "performance_space = (diagonal + wnw_line).properties(\n",
    "    title=\"Performance space: Nonword accuracy vs. Word accuracy\"\n",
    ")\n",
    "\n",
    "dev_heat = alt.Chart()\n",
    "\n",
    "\n",
    "# Merge dashboard\n",
    "dashboard = control_space & (development_space | performance_space)\n",
    "dashboard.save(\"dashboard.html\")"
   ]
  },
  {
   "cell_type": "code",
   "execution_count": null,
   "metadata": {},
   "outputs": [],
   "source": []
  }
 ],
 "metadata": {
  "environment": {
   "name": "tf2-2-2-gpu.2-2.m50",
   "type": "gcloud",
   "uri": "gcr.io/deeplearning-platform-release/tf2-2-2-gpu.2-2:m50"
  },
  "kernelspec": {
   "display_name": "Python 3",
   "language": "python",
   "name": "python3"
  },
  "language_info": {
   "codemirror_mode": {
    "name": "ipython",
    "version": 3
   },
   "file_extension": ".py",
   "mimetype": "text/x-python",
   "name": "python",
   "nbconvert_exporter": "python",
   "pygments_lexer": "ipython3",
   "version": "3.7.6"
  }
 },
 "nbformat": 4,
 "nbformat_minor": 4
}
