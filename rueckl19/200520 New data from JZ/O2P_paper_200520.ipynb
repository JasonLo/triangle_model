{
 "cells": [
  {
   "cell_type": "markdown",
   "metadata": {},
   "source": [
    "# Translating simple analyses from Jason Zevin with some extra plots"
   ]
  },
  {
   "cell_type": "markdown",
   "metadata": {},
   "source": [
    "### Environment"
   ]
  },
  {
   "cell_type": "code",
   "execution_count": null,
   "metadata": {},
   "outputs": [],
   "source": [
    "%load_ext lab_black\n",
    "import pandas as pd\n",
    "import altair as alt"
   ]
  },
  {
   "cell_type": "markdown",
   "metadata": {},
   "source": [
    "### Ingest, tidy"
   ]
  },
  {
   "cell_type": "code",
   "execution_count": null,
   "metadata": {},
   "outputs": [],
   "source": [
    "df = pd.read_csv(\"1250_sims.csv\", index_col=0)\n",
    "\n",
    "# Rename variables to use old codes\n",
    "# Should avoid variable with \".\", since it will block some convienent function in pandas\n",
    "df.rename(\n",
    "    columns={\n",
    "        \"ID\": \"code_name\",\n",
    "        \"Trial.Scaled\": \"epoch\",\n",
    "        \"Hidden\": \"hidden_units\",\n",
    "        \"PhoHid\": \"cleanup_units\",\n",
    "        \"Pnoise\": \"p_noise\",\n",
    "        \"Epsilon\": \"learning_rate\",\n",
    "        \"Type\": \"cond\",\n",
    "        \"Measure\": \"measure\",\n",
    "        \"Score\": \"score\",\n",
    "        \"Freq\": \"cond_freq\",\n",
    "        \"Cons\": \"cond_cons\",\n",
    "    },\n",
    "    inplace=True,\n",
    ")\n",
    "\n",
    "# h-params that varies\n",
    "variates = [\"hidden_units\", \"cleanup_units\", \"p_noise\", \"learning_rate\"]"
   ]
  },
  {
   "cell_type": "markdown",
   "metadata": {},
   "source": [
    "### Create H-params settings table and count model per setting"
   ]
  },
  {
   "cell_type": "code",
   "execution_count": null,
   "metadata": {},
   "outputs": [],
   "source": [
    "settings = df[[\"code_name\"] + variates].pivot_table(index=\"code_name\")\n",
    "settings[\"code_name\"] = settings.index\n",
    "settings[\"learning_rate\"].round(4)\n",
    "\n",
    "count_settings = settings.pivot_table(\n",
    "    index=variates, aggfunc=\"count\", values=\"code_name\",\n",
    ")\n",
    "count_settings.reset_index(inplace=True)\n",
    "count_settings.rename(columns={\"code_name\": \"n\"}, inplace=True)"
   ]
  },
  {
   "cell_type": "markdown",
   "metadata": {},
   "source": [
    "### How many model per cell? 2"
   ]
  },
  {
   "cell_type": "code",
   "execution_count": null,
   "metadata": {},
   "outputs": [],
   "source": [
    "plot_count = (\n",
    "    alt.Chart(count_settings)\n",
    "    .mark_rect()\n",
    "    .encode(\n",
    "        x=\"p_noise:O\",\n",
    "        y=\"hidden_units:O\",\n",
    "        row=\"learning_rate:O\",\n",
    "        column=\"cleanup_units:O\",\n",
    "        color=\"n:O\",\n",
    "        tooltip=variates + [\"n\"],\n",
    "    )\n",
    "    .properties(title=\"Model counts\")\n",
    ")\n",
    "\n",
    "plot_count.save(\"count_model.html\")"
   ]
  },
  {
   "cell_type": "markdown",
   "metadata": {},
   "source": [
    "# Strain related plots"
   ]
  },
  {
   "cell_type": "markdown",
   "metadata": {},
   "source": [
    "## Histogram of overall accuracy"
   ]
  },
  {
   "cell_type": "code",
   "execution_count": null,
   "metadata": {},
   "outputs": [],
   "source": [
    "df_last_epoch = df.loc[df.epoch == df.epoch.max()]\n",
    "df_last_epoch_strain = df_last_epoch.loc[df_last_epoch.cond_cons != \"NW\"]"
   ]
  },
  {
   "cell_type": "code",
   "execution_count": null,
   "metadata": {},
   "outputs": [],
   "source": [
    "hist_strain = (\n",
    "    alt.Chart(df_last_epoch_strain)\n",
    "    .mark_bar()\n",
    "    .encode(alt.X(\"score:Q\", bin=True), y=\"count()\",)\n",
    "    .properties(title=\"Over all accuracy in Strain (all conditions)\")\n",
    ")\n",
    "\n",
    "hist_strain.save(\"Strain_histogram.html\")"
   ]
  },
  {
   "cell_type": "markdown",
   "metadata": {},
   "source": [
    "## Histogram of accuracy by condition"
   ]
  },
  {
   "cell_type": "code",
   "execution_count": null,
   "metadata": {},
   "outputs": [],
   "source": [
    "hist_strain_cond = hist_strain.encode(color=\"cond:N\", column=\"cond:N\").properties(\n",
    "    title=\"Accuracy in Strain by conditions\", width=100, height=50\n",
    ")\n",
    "hist_strain_cond.save(\"Strain_histogram_cond.html\")"
   ]
  },
  {
   "cell_type": "markdown",
   "metadata": {},
   "source": [
    "### descriptives"
   ]
  },
  {
   "cell_type": "code",
   "execution_count": null,
   "metadata": {},
   "outputs": [],
   "source": [
    "print(\"Descriptives on Grand mean accuracy in Strain:\")\n",
    "df_last_epoch_strain.score.describe()"
   ]
  },
  {
   "cell_type": "code",
   "execution_count": null,
   "metadata": {},
   "outputs": [],
   "source": [
    "print(\"Descriptives on Mean accuracy by condition in Strain\")\n",
    "df_last_epoch_strain.groupby(\"cond\").score.describe()"
   ]
  },
  {
   "cell_type": "markdown",
   "metadata": {},
   "source": [
    "### Accuracy in the last epoch"
   ]
  },
  {
   "cell_type": "code",
   "execution_count": null,
   "metadata": {},
   "outputs": [],
   "source": [
    "plot_meanacc_bycond = (\n",
    "    alt.Chart(df_last_epoch_strain)\n",
    "    .mark_rect()\n",
    "    .encode(\n",
    "        x=\"p_noise:O\",\n",
    "        y=\"hidden_units:O\",\n",
    "        column=\"learning_rate:O\",\n",
    "        row=\"cond:N\",\n",
    "        color=alt.Color(\n",
    "            \"mean(score)\", scale=alt.Scale(scheme=\"redyellowgreen\", domain=(0, 1))\n",
    "        ),\n",
    "        tooltip=[\"mean(score)\"],\n",
    "    )\n",
    "    .properties(title=\"Mean accuracy in each condition\")\n",
    ")\n",
    "\n",
    "plot_meanacc_bycond.save(\"Strain_acc_bycond.html\")"
   ]
  },
  {
   "cell_type": "markdown",
   "metadata": {},
   "source": [
    "## Significant interactions (refers to R for details):\n",
    "- Hidden x Pnoise x Epsilon\n",
    "- Frequency x Consistency x Pnoise x Hidden\n",
    "- Frequency x Consistency x Pnoise x Epsilon"
   ]
  },
  {
   "cell_type": "markdown",
   "metadata": {},
   "source": [
    "### Overall accuracy (Hidden x Pnoise x Epsilon)\n",
    "- the platform I am using have some trouble in plotting large dataset, it is easier for me to save the plot instead of plotting it in the notebook"
   ]
  },
  {
   "cell_type": "code",
   "execution_count": null,
   "metadata": {},
   "outputs": [],
   "source": [
    "plot_meanacc_strain = (\n",
    "    alt.Chart(df_last_epoch_strain)\n",
    "    .mark_rect()\n",
    "    .encode(\n",
    "        x=\"p_noise:O\",\n",
    "        y=\"hidden_units:O\",\n",
    "        column=\"learning_rate:O\",\n",
    "        color=alt.Color(\n",
    "            \"mean(score)\", scale=alt.Scale(scheme=\"redyellowgreen\", domain=(0, 1))\n",
    "        ),\n",
    "        tooltip=[\"mean(score)\"],\n",
    "    )\n",
    "    .properties(title=\"Mean accuracy (all conditions in Strain)\")\n",
    ")\n",
    "\n",
    "plot_meanacc_strain.save(\"Strain_hparam_effect_on_acc.html\")"
   ]
  },
  {
   "cell_type": "markdown",
   "metadata": {},
   "source": [
    "### Frequency by Consistency interaction (facet by: hidden unit and noise)"
   ]
  },
  {
   "cell_type": "code",
   "execution_count": null,
   "metadata": {},
   "outputs": [],
   "source": [
    "fxc_hn = (\n",
    "    alt.Chart(df_last_epoch_strain)\n",
    "    .mark_boxplot()\n",
    "    .encode(x=\"cond:O\", y=\"score:Q\", column=\"p_noise\", row=\"hidden_units\")\n",
    "    .properties(width=100, height=80)\n",
    ")\n",
    "\n",
    "fxc_hn.save(\"Strain_interaction_hidden_pnoise_boxplot.html\")"
   ]
  },
  {
   "cell_type": "markdown",
   "metadata": {},
   "source": [
    "### Frequency by Consistency interaction (facet by: Learning rate and noise)"
   ]
  },
  {
   "cell_type": "code",
   "execution_count": null,
   "metadata": {},
   "outputs": [],
   "source": [
    "fxc_ln = fxc_hn.encode(row=\"learning_rate\")  # Recycle last plot (fxc_hn) for new facet\n",
    "fxc_ln.save(\"Strain_interaction_lr_pnoise_boxplot.html\")"
   ]
  },
  {
   "cell_type": "markdown",
   "metadata": {},
   "source": [
    "- the boxplots are still quite hard to read... maybe aggregating interaction can help\n",
    "- Define interact: (LF_CON - LF_INC) - (HF_CON - HF_INC)\n",
    "- (Maybe later) Probably adding SD is better... I meant plotting the t-value."
   ]
  },
  {
   "cell_type": "code",
   "execution_count": null,
   "metadata": {},
   "outputs": [],
   "source": [
    "df_strain_int_eff = df_last_epoch_strain[variates + [\"cond\", \"score\", \"code_name\"]]\n",
    "\n",
    "df_strain_int_eff = df_strain_int_eff.pivot_table(\n",
    "    index=variates + [\"code_name\"], columns=\"cond\"\n",
    ").reset_index()\n",
    "\n",
    "df_strain_int_eff.columns = df_strain_int_eff.columns = [\n",
    "    \"\".join(c).strip() for c in df_strain_int_eff.columns.values\n",
    "]\n",
    "\n",
    "df_strain_int_eff.rename(\n",
    "    columns={\n",
    "        \"scoreHF_CON\": \"HF_CON\",\n",
    "        \"scoreHF_INC\": \"HF_INC\",\n",
    "        \"scoreLF_CON\": \"LF_CON\",\n",
    "        \"scoreLF_INC\": \"LF_INC\",\n",
    "    },\n",
    "    inplace=True,\n",
    ")\n",
    "\n",
    "df_strain_int_eff[\"fxc\"] = (\n",
    "    df_strain_int_eff.LF_CON\n",
    "    - df_strain_int_eff.LF_INC\n",
    "    - df_strain_int_eff.HF_CON\n",
    "    + df_strain_int_eff.HF_INC\n",
    ")"
   ]
  },
  {
   "cell_type": "markdown",
   "metadata": {},
   "source": [
    "### Interaction effect heatmap"
   ]
  },
  {
   "cell_type": "code",
   "execution_count": null,
   "metadata": {},
   "outputs": [],
   "source": [
    "plot_interaction_ph = (\n",
    "    alt.Chart(df_strain_int_eff)\n",
    "    .mark_rect()\n",
    "    .encode(\n",
    "        x=\"p_noise:O\", y=\"hidden_units:O\", color=\"mean(fxc)\", tooltip=[\"mean(fxc)\"],\n",
    "    )\n",
    "    .properties(\n",
    "        title=\"Interaction heatmap for visualising: (FREQ x CON) x PNOISE x Hidden\"\n",
    "    )\n",
    ")\n",
    "\n",
    "plot_interaction_ph.save(\"Strain_interaction_pnoise_hidden_heatmap.html\")"
   ]
  },
  {
   "cell_type": "code",
   "execution_count": null,
   "metadata": {},
   "outputs": [],
   "source": [
    "plot_interaction_pl = plot_interaction_ph.encode(y=\"learning_rate:O\").properties(\n",
    "    title=\"Interaction heatmap for visualising: (FREQ x CON) x PNOISE x Epsilon\"\n",
    ")\n",
    "\n",
    "plot_interaction_pl.save(\"Strain_interaction_pnoise_lr_heatmap.html\")"
   ]
  },
  {
   "cell_type": "markdown",
   "metadata": {},
   "source": [
    "# Grain related plots"
   ]
  },
  {
   "cell_type": "code",
   "execution_count": null,
   "metadata": {},
   "outputs": [],
   "source": [
    "df_last_epoch_grain = df_last_epoch.loc[\n",
    "    (df_last_epoch.cond.isin([\"NW_UN\", \"NW_AMB\"]))\n",
    "    & (df_last_epoch.measure == \"Accuracy\")\n",
    "]\n",
    "\n",
    "hist_grain = (\n",
    "    alt.Chart(df_last_epoch_grain)\n",
    "    .mark_bar()\n",
    "    .encode(alt.X(\"score:Q\", bin=True), y=\"count()\",)\n",
    "    .properties(title=\"Over all accuracy in Grain (all conditions)\")\n",
    ")\n",
    "\n",
    "hist_grain.save(\"Grain_histogram.html\")"
   ]
  },
  {
   "cell_type": "code",
   "execution_count": null,
   "metadata": {},
   "outputs": [],
   "source": [
    "hist_grain_cond = hist_grain.encode(color=\"cond:N\", column=\"cond:N\").properties(\n",
    "    title=\"Accuracy in Grain by conditions\", width=100, height=50\n",
    ")\n",
    "hist_grain_cond.save(\"Grain_histogram_cond.html\")"
   ]
  },
  {
   "cell_type": "code",
   "execution_count": null,
   "metadata": {},
   "outputs": [],
   "source": [
    "print(\"Descriptives on Grand mean accuracy in Grain:\")\n",
    "df_last_epoch_grain.score.describe()"
   ]
  },
  {
   "cell_type": "code",
   "execution_count": null,
   "metadata": {},
   "outputs": [],
   "source": [
    "print(\"Descriptives on Mean accuracy by condition in Grain\")\n",
    "df_last_epoch_grain.groupby(\"cond\").score.describe()"
   ]
  },
  {
   "cell_type": "markdown",
   "metadata": {},
   "source": [
    "### Grain by condition plot at last epoch"
   ]
  },
  {
   "cell_type": "code",
   "execution_count": null,
   "metadata": {},
   "outputs": [],
   "source": [
    "plot_meanacc_grain = (\n",
    "    alt.Chart(df_last_epoch_grain)\n",
    "    .mark_rect()\n",
    "    .encode(\n",
    "        x=\"p_noise:O\",\n",
    "        y=\"hidden_units:O\",\n",
    "        column=\"learning_rate:O\",\n",
    "        row=\"cond:N\",\n",
    "        color=alt.Color(\n",
    "            \"mean(score)\", scale=alt.Scale(scheme=\"redyellowgreen\", domain=(0, 1))\n",
    "        ),\n",
    "        tooltip=[\"mean(score)\"],\n",
    "    )\n",
    "    .properties(title=\"Mean accuracy in each condition in Grain\")\n",
    ")\n",
    "\n",
    "plot_meanacc_grain.save(\"Grain_acc_bycond.html\")"
   ]
  },
  {
   "cell_type": "markdown",
   "metadata": {},
   "source": [
    "## Significant interactions (See R for details)\n",
    "- Pnoise x Hidden X Epsilon\n",
    "- Type x Hidden x Epsilon x PhoHid\n",
    "- Type x Pnoise x PhoHid\n",
    "- Type x Pnoise x Epsilon"
   ]
  },
  {
   "cell_type": "markdown",
   "metadata": {},
   "source": [
    "### Pnoise x Hidden X Epsilon"
   ]
  },
  {
   "cell_type": "code",
   "execution_count": null,
   "metadata": {},
   "outputs": [],
   "source": [
    "plot_meanacc = (\n",
    "    alt.Chart(df_last_epoch_grain)\n",
    "    .mark_rect()\n",
    "    .encode(\n",
    "        x=\"p_noise:O\",\n",
    "        y=\"hidden_units:O\",\n",
    "        column=\"learning_rate:O\",\n",
    "        color=alt.Color(\n",
    "            \"mean(score)\", scale=alt.Scale(scheme=\"redyellowgreen\", domain=(0, 1))\n",
    "        ),\n",
    "        tooltip=[\"mean(score)\"],\n",
    "    )\n",
    "    .properties(title=\"Mean accuracy (all conditions in Strain)\")\n",
    ")\n",
    "\n",
    "plot_meanacc.save(\"Grain_hparma_effect_on_acc.html\")"
   ]
  },
  {
   "cell_type": "markdown",
   "metadata": {},
   "source": [
    "### Type x h-params interactions\n",
    "- Since there are 4 ways interactions, to reduce the plot number, aggregate condition main effect = NW_UN - NW_AMB"
   ]
  },
  {
   "cell_type": "code",
   "execution_count": null,
   "metadata": {},
   "outputs": [],
   "source": [
    "df_grain_cond_eff = df_last_epoch_grain[variates + [\"cond\", \"score\", \"code_name\"]]\n",
    "\n",
    "df_grain_cond_eff = df_grain_cond_eff.pivot_table(\n",
    "    index=variates + [\"code_name\"], columns=\"cond\"\n",
    ").reset_index()\n",
    "\n",
    "df_grain_cond_eff.columns = df_grain_cond_eff.columns = [\n",
    "    \"\".join(c).strip() for c in df_grain_cond_eff.columns.values\n",
    "]\n",
    "\n",
    "df_grain_cond_eff.rename(\n",
    "    columns={\"scoreNW_AMB\": \"ambiguous\", \"scoreNW_UN\": \"unambiguous\"}, inplace=True\n",
    ")\n",
    "\n",
    "df_grain_cond_eff[\"cond_effect\"] = (\n",
    "    df_grain_cond_eff.unambiguous - df_grain_cond_eff.ambiguous\n",
    ")"
   ]
  },
  {
   "cell_type": "code",
   "execution_count": null,
   "metadata": {},
   "outputs": [],
   "source": [
    "plot_effect = (\n",
    "    alt.Chart(df_grain_cond_eff)\n",
    "    .mark_rect()\n",
    "    .encode(\n",
    "        x=\"cleanup_units:O\",\n",
    "        y=\"hidden_units:O\",\n",
    "        column=\"learning_rate:O\",\n",
    "        color=\"mean(cond_effect)\",\n",
    "        tooltip=[\"mean(cond_effect)\"],\n",
    "    )\n",
    "    .properties(\n",
    "        title=\"Mean condition effect (UN - AMB) for visualising: Type x Hidden x Epsilon x PhoHid\"\n",
    "    )\n",
    ")\n",
    "\n",
    "plot_effect.save(\"Grain_interaction_lr_hidden_cleanup.html\")"
   ]
  },
  {
   "cell_type": "markdown",
   "metadata": {},
   "source": [
    "Hard to tell the interaction... maybe higher condition effect in more cleanup, fewer hidden, and larger epsilon..."
   ]
  },
  {
   "cell_type": "markdown",
   "metadata": {},
   "source": [
    "### Type x Pnoise x PhoHid"
   ]
  },
  {
   "cell_type": "code",
   "execution_count": null,
   "metadata": {},
   "outputs": [],
   "source": [
    "# Original Boxplot\n",
    "interaction_hc = (\n",
    "    alt.Chart(df_last_epoch_grain)\n",
    "    .mark_boxplot()\n",
    "    .encode(x=\"cond:O\", y=\"score:Q\", row=\"p_noise\", column=\"cleanup_units\")\n",
    "    .properties(width=100, height=80)\n",
    ")\n",
    "\n",
    "interaction_hc.save(\"Grain_interaction_pnoise_cleanup_boxplot.html\")"
   ]
  },
  {
   "cell_type": "code",
   "execution_count": null,
   "metadata": {},
   "outputs": [],
   "source": [
    "# Easier to read heatmap\n",
    "plot_effect = (\n",
    "    alt.Chart(df_grain_cond_eff)\n",
    "    .mark_rect()\n",
    "    .encode(\n",
    "        x=\"cleanup_units:O\",\n",
    "        y=\"p_noise:O\",\n",
    "        color=\"mean(cond_effect)\",\n",
    "        tooltip=[\"mean(cond_effect)\"],\n",
    "    )\n",
    ")\n",
    "\n",
    "plot_effect.save(\"Grain_interaction_pnoise_cleanup_heatmap.html\")"
   ]
  },
  {
   "cell_type": "markdown",
   "metadata": {},
   "source": [
    "### Type x Pnoise x Epsilon"
   ]
  },
  {
   "cell_type": "code",
   "execution_count": null,
   "metadata": {},
   "outputs": [],
   "source": [
    "# Original Boxplot\n",
    "interaction_pe = interaction_hc.encode(row=\"p_noise\", column=\"learning_rate\")\n",
    "interaction_pe.save(\"Grain_interaction_pnoise_lr_boxplot.html\")"
   ]
  },
  {
   "cell_type": "code",
   "execution_count": null,
   "metadata": {},
   "outputs": [],
   "source": [
    "# Easier to read heatmap\n",
    "plot_effect.encode(x=\"learning_rate:O\").save(\"Grain_interaction_pnoise_lr_heatmap.html\")"
   ]
  },
  {
   "cell_type": "markdown",
   "metadata": {},
   "source": [
    "There are some response type plots but skipping it for now..."
   ]
  },
  {
   "cell_type": "markdown",
   "metadata": {},
   "source": [
    "# Some new plots"
   ]
  },
  {
   "cell_type": "markdown",
   "metadata": {},
   "source": [
    "### Book chapter figure 2"
   ]
  },
  {
   "cell_type": "markdown",
   "metadata": {},
   "source": [
    "Create ploting dataframe\n",
    "- Only Accuracy (since NW has other measures)\n",
    "- Only HF_INC and NW_UN (to match original plot axis selection)\n",
    "- H-param cell aggregation (n=2 per cell)"
   ]
  },
  {
   "cell_type": "code",
   "execution_count": null,
   "metadata": {},
   "outputs": [],
   "source": [
    "df_wnw = df.loc[\n",
    "    (df.cond.isin([\"HF_INC\", \"NW_UN\"])) & (df.measure == \"Accuracy\"),\n",
    "    variates + [\"code_name\", \"epoch\", \"cond\", \"score\"],\n",
    "]\n",
    "\n",
    "df_wnw = df_wnw.pivot_table(index=variates + [\"epoch\"], columns=\"cond\").reset_index()\n",
    "df_wnw.columns = df_wnw.columns = [\"\".join(c).strip() for c in df_wnw.columns.values]\n",
    "\n",
    "df_wnw.rename(\n",
    "    columns={\n",
    "        \"scoreHF_INC\": \"word_acc\",\n",
    "        \"scoreNW_UN\": \"nonword_acc\",\n",
    "        \"code_nameHF_INC\": \"code_name\",\n",
    "    },\n",
    "    inplace=True,\n",
    ")\n",
    "\n",
    "df_wnw.drop(columns=\"code_nameNW_UN\", inplace=True)\n",
    "df_wnw[\"word_advantage\"] = df_wnw.word_acc - df_wnw.nonword_acc"
   ]
  },
  {
   "cell_type": "markdown",
   "metadata": {},
   "source": [
    "Plotting Word (HF_INC) vs. Nonword (NW_UN) accuracy in all epoch"
   ]
  },
  {
   "cell_type": "code",
   "execution_count": null,
   "metadata": {},
   "outputs": [],
   "source": [
    "alt.data_transformers.enable(\"default\")\n",
    "alt.data_transformers.disable_max_rows()\n",
    "\n",
    "base = (\n",
    "    alt.Chart(df_wnw)\n",
    "    .mark_point()\n",
    "    .encode(\n",
    "        y=alt.Y(\"nonword_acc:Q\", scale=alt.Scale(domain=(0, 1))),\n",
    "        x=alt.X(\"word_acc:Q\", scale=alt.Scale(domain=(0, 1))),\n",
    "        color=alt.Color(\n",
    "            \"epoch\", scale=alt.Scale(scheme=\"redyellowgreen\", domain=(0, 1))\n",
    "        ),\n",
    "        opacity=alt.value(0.1),\n",
    "        tooltip=[\"epoch\", \"word_acc\", \"nonword_acc\"],\n",
    "    )\n",
    ")\n",
    "\n",
    "diagonal = (\n",
    "    alt.Chart(pd.DataFrame({\"x\": [0, 1], \"y\": [0, 1]}))\n",
    "    .mark_line(color=\"black\")\n",
    "    .encode(x=\"x\", y=\"y\")\n",
    ")\n",
    "\n",
    "\n",
    "fig2 = (diagonal + base).properties(\n",
    "    title=\"Word (HF_INC) vs. Nonword (NW_UN) accuracy in all epoch\"\n",
    ")\n",
    "fig2.save(\"fig2.html\")"
   ]
  },
  {
   "cell_type": "markdown",
   "metadata": {},
   "source": [
    "### Heatmap by epoch\n",
    "- Since no significant interaction with cleanup plot it as a selector to double check"
   ]
  },
  {
   "cell_type": "code",
   "execution_count": null,
   "metadata": {},
   "outputs": [],
   "source": [
    "sel_cleanup = alt.selection(\n",
    "    type=\"single\",\n",
    "    on=\"click\",\n",
    "    fields=[\"cleanup_units\"],\n",
    "    bind=alt.binding_radio(options=df_wnw.cleanup_units.unique(), name=\"Cleanup: \"),\n",
    ")\n",
    "\n",
    "hm_base = (\n",
    "    alt.Chart(df_wnw)\n",
    "    .mark_rect()\n",
    "    .encode(\n",
    "        x=\"p_noise:O\",\n",
    "        y=\"hidden_units:O\",\n",
    "        row=\"learning_rate:O\",\n",
    "        column=\"epoch:O\",\n",
    "        tooltip=[\"word_acc\", \"nonword_acc\", \"word_advantage\"] + variates,\n",
    "    )\n",
    "    .add_selection(sel_cleanup)\n",
    "    .transform_filter(sel_cleanup)\n",
    ")\n",
    "\n",
    "# Word\n",
    "hm_word = hm_base.encode(\n",
    "    color=alt.Color(\n",
    "        \"mean(word_acc)\", scale=alt.Scale(scheme=\"redyellowgreen\", domain=(0, 1))\n",
    "    )\n",
    ").properties(title=\"Word accuracy\")\n",
    "\n",
    "# Nonword\n",
    "hm_nonword = hm_base.encode(\n",
    "    color=alt.Color(\n",
    "        \"mean(nonword_acc)\", scale=alt.Scale(scheme=\"redyellowgreen\", domain=(0, 1))\n",
    "    )\n",
    ").properties(title=\"Nonword accuracy\")\n",
    "\n",
    "# Word - Nonword\n",
    "hm_wordadvantage = hm_base.encode(\n",
    "    color=alt.Color(\n",
    "        \"mean(word_advantage)\",\n",
    "        scale=alt.Scale(scheme=\"redyellowgreen\", domain=(-0.3, 0.3)),\n",
    "    )\n",
    ").properties(title=\"Word advantage\")\n",
    "\n",
    "\n",
    "hm_word.save(\"heatmap_word_with_cleanup.html\")\n",
    "hm_nonword.save(\"heatmap_nonword_with_cleanup.html\")\n",
    "hm_wordadvantage.save(\"heatmap_wordadvantage_with_cleanup.html\")"
   ]
  },
  {
   "cell_type": "markdown",
   "metadata": {},
   "source": [
    "### Seems save to aggregate cleanup"
   ]
  },
  {
   "cell_type": "code",
   "execution_count": null,
   "metadata": {},
   "outputs": [],
   "source": [
    "hm_base_nc = (\n",
    "    alt.Chart(df_wnw)\n",
    "    .mark_rect()\n",
    "    .encode(\n",
    "        x=\"p_noise:O\",\n",
    "        y=\"hidden_units:O\",\n",
    "        row=\"learning_rate:O\",\n",
    "        column=\"epoch:O\",\n",
    "        tooltip=[\"word_acc\", \"nonword_acc\", \"word_advantage\"],\n",
    "    )\n",
    ")\n",
    "\n",
    "# Word\n",
    "hm_word = hm_base_nc.encode(\n",
    "    color=alt.Color(\n",
    "        \"mean(word_acc)\", scale=alt.Scale(scheme=\"redyellowgreen\", domain=(0, 1))\n",
    "    )\n",
    ").properties(title=\"Word accuracy\")\n",
    "\n",
    "# Nonword\n",
    "hm_nonword = hm_base_nc.encode(\n",
    "    color=alt.Color(\n",
    "        \"mean(nonword_acc)\", scale=alt.Scale(scheme=\"redyellowgreen\", domain=(0, 1))\n",
    "    )\n",
    ").properties(title=\"Nonword accuracy\")\n",
    "\n",
    "# Word - Nonword\n",
    "hm_wordadvantage = hm_base_nc.encode(\n",
    "    color=alt.Color(\n",
    "        \"mean(word_advantage)\",\n",
    "        scale=alt.Scale(scheme=\"redyellowgreen\", domain=(-0.3, 0.3)),\n",
    "    )\n",
    ").properties(title=\"Word advantage\")\n",
    "\n",
    "\n",
    "hm_word.save(\"heatmap_word.html\")\n",
    "hm_nonword.save(\"heatmap_nonword.html\")\n",
    "hm_wordadvantage.save(\"heatmap_wordadvantage.html\")"
   ]
  },
  {
   "cell_type": "markdown",
   "metadata": {},
   "source": [
    "## Interactive dashboard"
   ]
  },
  {
   "cell_type": "code",
   "execution_count": null,
   "metadata": {},
   "outputs": [],
   "source": [
    "alt.data_transformers.disable_max_rows()\n",
    "\n",
    "def main_dashboard(df):\n",
    "\n",
    "    sel_run = alt.selection(type=\"multi\", on=\"click\", fields=[\"code_name\"])\n",
    "\n",
    "    # df for overview\n",
    "    df_ov = df[df.epoch == df.epoch.max()]\n",
    "\n",
    "    # Shared master over-view heatmap\n",
    "    overview = (\n",
    "        alt.Chart(df_ov)\n",
    "        .mark_rect()\n",
    "        .encode(\n",
    "            x=\"p_noise:O\",\n",
    "            y=\"hidden_units:O\",\n",
    "            row=\"learning_rate:O\",\n",
    "            column=\"cleanup_units:O\",\n",
    "            color=alt.Color(\n",
    "                \"word_acc\", scale=alt.Scale(scheme=\"redyellowgreen\", domain=(0, 1))\n",
    "            ),\n",
    "            opacity=alt.condition(sel_run, alt.value(1), alt.value(0.1)),\n",
    "            tooltip=[\"word_acc\", \"nonword_acc\", \"word_advantage\"],\n",
    "        )\n",
    "        .add_selection(sel_run)\n",
    "        .properties(title=\"Word accuracy at the end of training\")\n",
    "    )\n",
    "\n",
    "    wnw_mdf = df.melt(\n",
    "        id_vars=[\"code_name\", \"epoch\"],\n",
    "        value_vars=[\"word_acc\", \"nonword_acc\"],\n",
    "        var_name=\"wnw\",\n",
    "        value_name=\"acc\",\n",
    "    )\n",
    "\n",
    "    # Developmental plot\n",
    "    plot_epoch = (\n",
    "        alt.Chart(wnw_mdf)\n",
    "        .mark_point(size=80)\n",
    "        .encode(\n",
    "            y=alt.Y(\"acc:Q\", scale=alt.Scale(domain=(0, 1))),\n",
    "            x=\"epoch:Q\",\n",
    "            color=alt.Color(\"code_name:N\", legend=None),\n",
    "            shape=\"wnw:N\",\n",
    "            opacity=alt.condition(sel_run, alt.value(1), alt.value(0)),\n",
    "            tooltip=[\"code_name\", \"epoch\", \"acc\"],\n",
    "        )\n",
    "        .add_selection(sel_run)\n",
    "        .properties(title=\"Plot word and nonword accuracy by epoch\")\n",
    "    )\n",
    "\n",
    "    # Word against Nonword\n",
    "    wnw_line = (\n",
    "        alt.Chart(df)\n",
    "        .mark_line()\n",
    "        .encode(\n",
    "            y=alt.Y(\"nonword_acc:Q\", scale=alt.Scale(domain=(0, 1))),\n",
    "            x=alt.X(\"word_acc:Q\", scale=alt.Scale(domain=(0, 1))),\n",
    "            color=alt.Color(\"code_name:N\", legend=None),\n",
    "            opacity=alt.condition(sel_run, alt.value(1), alt.value(0)),\n",
    "            tooltip=[\"code_name\", \"epoch\", \"word_acc\", \"nonword_acc\"],\n",
    "        )\n",
    "    )\n",
    "\n",
    "    wnw_point = wnw_line.mark_point().encode(\n",
    "        color=alt.Color(\"epoch\", scale=alt.Scale(scheme=\"redyellowgreen\"))\n",
    "    )\n",
    "\n",
    "    diagonal = (\n",
    "        alt.Chart(pd.DataFrame({\"x\": [0, 1], \"y\": [0, 1]}))\n",
    "        .mark_line(color=\"black\")\n",
    "        .encode(x=\"x\", y=\"y\")\n",
    "    )\n",
    "\n",
    "    wnw = diagonal + wnw_line + wnw_point\n",
    "\n",
    "    wnw_interactive = wnw.add_selection(sel_run).properties(\n",
    "        title=\"Word vs. Nonword accuracy at final time step\"\n",
    "    )\n",
    "\n",
    "    ### Mini heatmap ###\n",
    "\n",
    "    mini_wadv = (\n",
    "        alt.Chart(df)\n",
    "        .mark_rect()\n",
    "        .encode(\n",
    "            x=\"epoch:O\",\n",
    "            color=alt.Color(\n",
    "                \"word_advantage:Q\",\n",
    "                scale=alt.Scale(scheme=\"redyellowgreen\", domain=(-0.3, 0.3)),\n",
    "            ),\n",
    "            opacity=alt.condition(sel_run, alt.value(1), alt.value(0)),\n",
    "            tooltip=[\"word_acc\", \"nonword_acc\", \"word_advantage\"] + variates,\n",
    "        )\n",
    "        .properties(title=\"Word - Nonword\")\n",
    "    )\n",
    "\n",
    "    return (overview | (plot_epoch & mini_wadv) | wnw_interactive).resolve_scale(\n",
    "        y=\"independent\", color=\"independent\", shape=\"independent\"\n",
    "    )\n",
    "\n",
    "\n",
    "main_dashboard(df_wnw).save(\"dashboard.html\")"
   ]
  },
  {
   "cell_type": "code",
   "execution_count": null,
   "metadata": {},
   "outputs": [],
   "source": []
  }
 ],
 "metadata": {
  "environment": {
   "name": "tf2-gpu.2-1.m46",
   "type": "gcloud",
   "uri": "gcr.io/deeplearning-platform-release/tf2-gpu.2-1:m46"
  },
  "kernelspec": {
   "display_name": "Python 3",
   "language": "python",
   "name": "python3"
  },
  "language_info": {
   "codemirror_mode": {
    "name": "ipython",
    "version": 3
   },
   "file_extension": ".py",
   "mimetype": "text/x-python",
   "name": "python",
   "nbconvert_exporter": "python",
   "pygments_lexer": "ipython3",
   "version": "3.7.6"
  }
 },
 "nbformat": 4,
 "nbformat_minor": 4
}
