{
 "cells": [
  {
   "cell_type": "markdown",
   "metadata": {},
   "source": [
    "# Examine Rueckl19 dataset"
   ]
  },
  {
   "cell_type": "code",
   "execution_count": null,
   "metadata": {},
   "outputs": [],
   "source": [
    "%load_ext lab_black\n",
    "import pandas as pd\n",
    "import altair as alt\n",
    "\n",
    "alt.data_transformers.enable(\"default\")\n",
    "alt.data_transformers.disable_max_rows()"
   ]
  },
  {
   "cell_type": "markdown",
   "metadata": {},
   "source": [
    "### Ingest, tidy"
   ]
  },
  {
   "cell_type": "code",
   "execution_count": null,
   "metadata": {},
   "outputs": [],
   "source": [
    "df = pd.read_csv(\"plotdf.csv\", index_col=0)\n",
    "\n",
    "# df['word_acc'] = df[[\n",
    "#     'HF_CON_Accuracy', 'HF_INC_Accuracy', 'LF_CON_Accuracy', 'LF_INC_Accuracy'\n",
    "# ]].mean(axis=1)\n",
    "# df['nonword_acc'] = df[['NW_AMB_Accuracy', 'NW_UN_Accuracy']].mean(axis=1)\n",
    "\n",
    "df[\"word_acc\"] = df[[\"HF_INC_Accuracy\"]].mean(axis=1)\n",
    "df[\"nonword_acc\"] = df[[\"NW_UN_Accuracy\"]].mean(axis=1)\n",
    "\n",
    "df.rename(\n",
    "    columns={\n",
    "        \"ID\": \"code_name\",\n",
    "        \"Trial.Scaled\": \"epoch\",  # Trial scaled renamed to Epoch onward\n",
    "        \"Pnoise\": \"p_noise\",  # group renamed to code_name onward\n",
    "        \"Hidden\": \"hidden_units\",\n",
    "        \"Epsilon\": \"learning_rate\",\n",
    "        \"PhoHid\": \"cleanup_units\",\n",
    "        \"Classification\": \"group\",\n",
    "    },\n",
    "    inplace=True,\n",
    ")\n",
    "\n",
    "df = df[\n",
    "    [\n",
    "        \"code_name\",\n",
    "        \"epoch\",\n",
    "        \"hidden_units\",\n",
    "        \"cleanup_units\",\n",
    "        \"p_noise\",\n",
    "        \"learning_rate\",\n",
    "        \"word_acc\",\n",
    "        \"nonword_acc\",\n",
    "        \"group\",\n",
    "    ]\n",
    "]\n",
    "\n",
    "df = df.loc[df.code_name == 86052131]\n",
    "df[\"word_advantage\"] = df.word_acc - df.nonword_acc\n",
    "\n",
    "# melt df for wnw plot\n",
    "mdf = df.melt(\n",
    "    id_vars=[\"code_name\", \"epoch\"],\n",
    "    value_vars=[\"word_acc\", \"nonword_acc\"],\n",
    "    var_name=\"wnw\",\n",
    "    value_name=\"acc\",\n",
    ")"
   ]
  },
  {
   "cell_type": "markdown",
   "metadata": {},
   "source": [
    "### Plot the usuals"
   ]
  },
  {
   "cell_type": "code",
   "execution_count": null,
   "metadata": {},
   "outputs": [],
   "source": [
    "### Development ###\n",
    "\n",
    "plot_dev = (\n",
    "    alt.Chart(mdf)\n",
    "    .mark_point(size=80)\n",
    "    .encode(\n",
    "        y=alt.Y(\"acc:Q\", scale=alt.Scale(domain=(0, 1))),\n",
    "        x=\"epoch:Q\",\n",
    "        color=alt.Color(\"code_name:N\", legend=None),\n",
    "        shape=\"wnw:N\",\n",
    "        tooltip=[\"code_name\", \"epoch\", \"acc\"],\n",
    "    )\n",
    "    .properties(title=\"Plot word and nonword accuracy by epoch\")\n",
    ")\n",
    "\n",
    "\n",
    "### Word vs. Nonword\n",
    "\n",
    "wnw_line = (\n",
    "    alt.Chart(df)\n",
    "    .mark_line()\n",
    "    .encode(\n",
    "        y=alt.Y(\"nonword_acc:Q\", scale=alt.Scale(domain=(0, 1))),\n",
    "        x=alt.X(\"word_acc:Q\", scale=alt.Scale(domain=(0, 1))),\n",
    "        color=alt.Color(\"code_name:N\", legend=None),\n",
    "        tooltip=[\"code_name\", \"epoch\", \"word_acc\", \"nonword_acc\"],\n",
    "    )\n",
    ")\n",
    "\n",
    "wnw_point = wnw_line.mark_point().encode(\n",
    "    color=alt.Color(\"epoch\", scale=alt.Scale(scheme=\"redyellowgreen\"))\n",
    ")\n",
    "\n",
    "diagonal = (\n",
    "    alt.Chart(pd.DataFrame({\"x\": [0, 1], \"y\": [0, 1]}))\n",
    "    .mark_line(color=\"black\")\n",
    "    .encode(x=\"x\", y=\"y\")\n",
    ")\n",
    "\n",
    "wnw = diagonal + wnw_line + wnw_point\n",
    "\n",
    "\n",
    "### Mini heatmap ###\n",
    "\n",
    "mini_wadv = (\n",
    "    alt.Chart(df)\n",
    "    .mark_rect()\n",
    "    .encode(\n",
    "        x=\"epoch:O\",\n",
    "        color=alt.Color(\n",
    "            \"word_advantage:Q\",\n",
    "            scale=alt.Scale(scheme=\"redyellowgreen\", domain=(-0.3, 0.3)),\n",
    "        ),\n",
    "        tooltip=[\"word_acc\", \"nonword_acc\", \"word_advantage\"],\n",
    "    )\n",
    "    .properties(title=\"Word - Nonword\")\n",
    ")\n",
    "\n",
    "main_plot = (plot_dev & mini_wadv) | wnw\n",
    "main_plot"
   ]
  }
 ],
 "metadata": {
  "environment": {
   "name": "tf2-gpu.2-1.m46",
   "type": "gcloud",
   "uri": "gcr.io/deeplearning-platform-release/tf2-gpu.2-1:m46"
  },
  "kernelspec": {
   "display_name": "Python 3",
   "language": "python",
   "name": "python3"
  },
  "language_info": {
   "codemirror_mode": {
    "name": "ipython",
    "version": 3
   },
   "file_extension": ".py",
   "mimetype": "text/x-python",
   "name": "python",
   "nbconvert_exporter": "python",
   "pygments_lexer": "ipython3",
   "version": "3.7.6"
  }
 },
 "nbformat": 4,
 "nbformat_minor": 4
}
