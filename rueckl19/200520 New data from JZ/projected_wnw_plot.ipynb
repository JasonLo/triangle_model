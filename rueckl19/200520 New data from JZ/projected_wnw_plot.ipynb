{
 "cells": [
  {
   "cell_type": "code",
   "execution_count": null,
   "metadata": {},
   "outputs": [],
   "source": [
    "%load_ext lab_black\n",
    "import pandas as pd\n",
    "import numpy as np\n",
    "import altair as alt\n",
    "from tqdm import tqdm\n",
    "\n",
    "alt.data_transformers.enable(\"default\")\n",
    "alt.data_transformers.disable_max_rows()"
   ]
  },
  {
   "cell_type": "markdown",
   "metadata": {},
   "source": [
    "# Predicted accuracy over epoch"
   ]
  },
  {
   "cell_type": "code",
   "execution_count": null,
   "metadata": {},
   "outputs": [],
   "source": [
    "df_growth = pd.read_csv(\"req1_results.csv\", index_col=0)\n",
    "epochs = np.concatenate([np.linspace(0.0, 0.1, 11), np.linspace(0.2, 1.0, 9)]).round(3)\n",
    "\n",
    "df_hpar = df_growth.pivot_table(\n",
    "    index=\"code_name\",\n",
    "    values=[\"cleanup_units\", \"hidden_units\", \"learning_rate\", \"p_noise\"],\n",
    ").reset_index()\n",
    "\n",
    "\n",
    "df_actual = pd.read_csv(\"1250_sims.csv\")\n",
    "df_actual = df_actual.loc[\n",
    "    df_actual.Measure == \"Accuracy\",\n",
    "]"
   ]
  },
  {
   "cell_type": "code",
   "execution_count": null,
   "metadata": {},
   "outputs": [],
   "source": [
    "def vonb(x, max_acc, k, x0):\n",
    "    \"\"\" von Bertalanffy (1938)\n",
    "    Assume that the rate of growth of an organism declines with size \n",
    "    so that the rate of change in length, l,  may be described by:\n",
    "    dl/dt = K (L_inf - l) or under our context: dy/dx = k (max_acc - y)\n",
    "    max_acc: Maximum accuracy / upper asymtote\n",
    "    k: growth rate\n",
    "    x0: x value where model start to learn\n",
    "    \"\"\"\n",
    "    return max_acc * (1 - np.exp(-k * (x - x0)))\n",
    "\n",
    "\n",
    "def clipped_vonb(x, max_acc, k, x0):\n",
    "    return np.clip(max_acc * (1 - np.exp(-k * (x - x0))), 0, 1)\n",
    "\n",
    "\n",
    "def get_params(df, code_name, cond):\n",
    "    \"\"\" Return growth parameters (max_acc, k, and x0)\n",
    "    \"\"\"\n",
    "    return df.loc[\n",
    "        (df.code_name == code_name) & (df.cond == cond), [\"max_acc\", \"k\", \"x0\"]\n",
    "    ].to_numpy()[0]"
   ]
  },
  {
   "cell_type": "markdown",
   "metadata": {},
   "source": [
    "### Predict and merge dataset"
   ]
  },
  {
   "cell_type": "code",
   "execution_count": null,
   "metadata": {},
   "outputs": [],
   "source": [
    "df_pred = pd.DataFrame()\n",
    "\n",
    "for model in tqdm(df_growth.code_name.unique()):\n",
    "    this_df = pd.DataFrame()\n",
    "    this_df[\"HF_INC\"] = clipped_vonb(epochs, *get_params(df_growth, model, \"HF_INC\"))\n",
    "    this_df[\"word_pred\"] = this_df.HF_INC  # Copy for convienient\n",
    "    this_df[\"HF_CON\"] = clipped_vonb(epochs, *get_params(df_growth, model, \"HF_CON\"))\n",
    "    this_df[\"LF_INC\"] = clipped_vonb(epochs, *get_params(df_growth, model, \"LF_INC\"))\n",
    "    this_df[\"LF_CON\"] = clipped_vonb(epochs, *get_params(df_growth, model, \"LF_CON\"))\n",
    "    this_df[\"NW_UN\"] = clipped_vonb(epochs, *get_params(df_growth, model, \"NW_UN\"))\n",
    "    this_df[\"nonword_pred\"] = this_df.NW_UN  # Copy for convienient\n",
    "    this_df[\"NW_AMB\"] = clipped_vonb(epochs, *get_params(df_growth, model, \"NW_AMB\"))\n",
    "    this_df[\"epoch\"] = np.round(epochs, 3)\n",
    "    this_df[\"code_name\"] = model\n",
    "    df_pred = pd.concat([df_pred, this_df], ignore_index=True)"
   ]
  },
  {
   "cell_type": "markdown",
   "metadata": {},
   "source": [
    "### Export predicted value to Jay"
   ]
  },
  {
   "cell_type": "code",
   "execution_count": null,
   "metadata": {},
   "outputs": [],
   "source": [
    "df_pred_melt = pdf.melt(id_vars=[\"code_name\", \"epoch\"])\n",
    "df_pred_melt.merge(df_hpar, on=\"code_name\").to_csv(\"predicted.csv\")"
   ]
  },
  {
   "cell_type": "markdown",
   "metadata": {},
   "source": [
    "### W vs. NW plot for predicted accuracy "
   ]
  },
  {
   "cell_type": "code",
   "execution_count": null,
   "metadata": {},
   "outputs": [],
   "source": [
    "predicted_wnw = (\n",
    "    alt.Chart(df_pred)\n",
    "    .mark_point()\n",
    "    .encode(\n",
    "        x=\"word_pred\",\n",
    "        y=\"nonword_pred\",\n",
    "        color=alt.Color(\n",
    "            \"epoch:Q\", scale=alt.Scale(scheme=\"redyellowgreen\", domain=(0, 1)),\n",
    "        ),\n",
    "        opacity=alt.value(0.2),\n",
    "    )\n",
    ")"
   ]
  },
  {
   "cell_type": "markdown",
   "metadata": {},
   "source": [
    "# Actual accuracy "
   ]
  },
  {
   "cell_type": "code",
   "execution_count": null,
   "metadata": {},
   "outputs": [],
   "source": [
    "pvt = df_actual.pivot_table(index=[\"ID\", \"Trial.Scaled\"], columns=\"Type\").reset_index()\n",
    "\n",
    "rdf = pd.DataFrame()\n",
    "rdf[\"code_name\"] = pvt.ID\n",
    "rdf[\"epoch\"] = np.round(pvt[\"Trial.Scaled\"], 3)\n",
    "rdf[\"word\"] = pvt.Score.HF_INC\n",
    "rdf[\"nonword\"] = pvt.Score.NW_UN"
   ]
  },
  {
   "cell_type": "code",
   "execution_count": null,
   "metadata": {},
   "outputs": [],
   "source": [
    "actual_wnw = (\n",
    "    alt.Chart(rdf)\n",
    "    .mark_point()\n",
    "    .encode(\n",
    "        x=\"word\",\n",
    "        y=\"nonword\",\n",
    "        color=alt.Color(\n",
    "            \"epoch:Q\", scale=alt.Scale(scheme=\"redyellowgreen\", domain=(0, 1)),\n",
    "        ),\n",
    "        opacity=alt.value(0.2),\n",
    "    )\n",
    ")"
   ]
  },
  {
   "cell_type": "code",
   "execution_count": null,
   "metadata": {},
   "outputs": [],
   "source": [
    "predicted_wnw | actual_wnw"
   ]
  },
  {
   "cell_type": "markdown",
   "metadata": {},
   "source": [
    "### Merge data sets"
   ]
  },
  {
   "cell_type": "code",
   "execution_count": null,
   "metadata": {},
   "outputs": [],
   "source": [
    "# Merge actual and predicted df\n",
    "df = df_pred.merge(rdf, on=[\"code_name\", \"epoch\"])"
   ]
  },
  {
   "cell_type": "code",
   "execution_count": null,
   "metadata": {},
   "outputs": [],
   "source": [
    "df[\"d_word\"] = df.word - df.word_pred\n",
    "df[\"d_nw\"] = df.nonword - df.nonword_pred\n",
    "df[\"wnw_real\"] = df.word - df.nonword\n",
    "df[\"wnw_pred\"] = df.word_pred - df.nonword_pred\n",
    "df[\"d_wnw\"] = df.wnw_real - df.wnw_pred\n",
    "\n",
    "# Merge h-params\n",
    "df = df.merge(df_hpar, on=[\"code_name\"])"
   ]
  },
  {
   "cell_type": "code",
   "execution_count": null,
   "metadata": {},
   "outputs": [],
   "source": [
    "df"
   ]
  },
  {
   "cell_type": "code",
   "execution_count": null,
   "metadata": {},
   "outputs": [],
   "source": [
    "actual = df[[\"code_name\", \"epoch\", \"word\", \"nonword\"]].melt([\"code_name\", \"epoch\"])"
   ]
  },
  {
   "cell_type": "code",
   "execution_count": null,
   "metadata": {},
   "outputs": [],
   "source": [
    "predicted = df[[\"code_name\", \"epoch\", \"word_pred\", \"nonword_pred\"]].melt(\n",
    "    [\"code_name\", \"epoch\"]\n",
    ")\n",
    "\n",
    "predicted[\"variable\"] = predicted.variable.map(\n",
    "    lambda x: \"word\" if x == \"word_pred\" else \"nonword\"\n",
    ")"
   ]
  },
  {
   "cell_type": "code",
   "execution_count": null,
   "metadata": {},
   "outputs": [],
   "source": [
    "df1 = actual.merge(predicted, on=[\"code_name\", \"epoch\", \"variable\"])\n",
    "df1.rename(\n",
    "    {\"value_x\": \"actual\", \"value_y\": \"predicted\", \"variable\": \"type\"},\n",
    "    axis=1,\n",
    "    inplace=True,\n",
    ")"
   ]
  },
  {
   "cell_type": "code",
   "execution_count": null,
   "metadata": {},
   "outputs": [],
   "source": [
    "df1"
   ]
  },
  {
   "cell_type": "code",
   "execution_count": null,
   "metadata": {},
   "outputs": [],
   "source": [
    "df1 = df1.melt(id_vars=[\"code_name\", \"epoch\", \"type\"]).rename({\"value\": \"acc\"}, axis=1)"
   ]
  },
  {
   "cell_type": "code",
   "execution_count": null,
   "metadata": {},
   "outputs": [],
   "source": [
    "import seaborn as sns\n",
    "import matplotlib.pyplot as plt\n",
    "\n",
    "fig, ax = plt.subplots(figsize=(18, 8))\n",
    "ax = sns.violinplot(x=\"epoch\", y=\"acc\", hue=\"variable\", split=True, data=df1).set_title(\n",
    "    \"Predicted vs. Actual Accuracy by Epoch\"\n",
    ")"
   ]
  },
  {
   "cell_type": "code",
   "execution_count": null,
   "metadata": {},
   "outputs": [],
   "source": [
    "df2 = df[[\"code_name\", \"epoch\", \"d_word\", \"d_nw\"]].melt(id_vars=[\"code_name\", \"epoch\"])\n",
    "df2"
   ]
  },
  {
   "cell_type": "code",
   "execution_count": null,
   "metadata": {},
   "outputs": [],
   "source": [
    "fig, ax = plt.subplots(figsize=(18, 8))\n",
    "ax = sns.violinplot(\n",
    "    x=\"epoch\", y=\"value\", hue=\"variable\", split=True, inner=\"box\", data=df2\n",
    ").set_title(\"Residual Accuracy (actual-predicted) by Epoch\")\n",
    "\n",
    "sns.despine(left=True)"
   ]
  },
  {
   "cell_type": "code",
   "execution_count": null,
   "metadata": {},
   "outputs": [],
   "source": [
    "import statsmodels.api as sm\n",
    "import statsmodels.formula.api as smf\n",
    "\n",
    "m_epoch = smf.mixedlm(\"value ~ epoch * variable\", df2, groups=\"code_name\").fit()"
   ]
  },
  {
   "cell_type": "code",
   "execution_count": null,
   "metadata": {},
   "outputs": [],
   "source": [
    "print(m_epoch.summary())"
   ]
  },
  {
   "cell_type": "markdown",
   "metadata": {},
   "source": [
    "# Whether the shape of W vs. NW change"
   ]
  },
  {
   "cell_type": "code",
   "execution_count": null,
   "metadata": {},
   "outputs": [],
   "source": [
    "df3 = df[\n",
    "    [\n",
    "        \"code_name\",\n",
    "        \"d_word\",\n",
    "        \"d_nw\",\n",
    "        \"hidden_units\",\n",
    "        \"p_noise\",\n",
    "        \"learning_rate\",\n",
    "        \"cleanup_units\",\n",
    "    ]\n",
    "]\n",
    "\n",
    "df3.loc[:, \"learning_rate\"] = np.round(df3.learning_rate, 3)"
   ]
  },
  {
   "cell_type": "code",
   "execution_count": null,
   "metadata": {},
   "outputs": [],
   "source": [
    "heatmap_base = (\n",
    "    alt.Chart(df3)\n",
    "    .mark_rect()\n",
    "    .encode(\n",
    "        x=\"p_noise:O\",\n",
    "        y=\"hidden_units:O\",\n",
    "        row=\"learning_rate:O\",\n",
    "        column=\"cleanup_units:O\",\n",
    "    )\n",
    ")\n",
    "\n",
    "heatmap_base.encode(\n",
    "    color=alt.Color(\n",
    "        \"mean(d_word)\", scale=alt.Scale(scheme=\"redyellowgreen\", domain=(-0.05, 0.05))\n",
    "    )\n",
    ").properties(title=\"WORD residual\")"
   ]
  },
  {
   "cell_type": "code",
   "execution_count": null,
   "metadata": {},
   "outputs": [],
   "source": [
    "heatmap_base.encode(\n",
    "    color=alt.Color(\n",
    "        \"mean(d_nw)\", scale=alt.Scale(scheme=\"redyellowgreen\", domain=(-0.05, 0.05))\n",
    "    )\n",
    ").properties(title=\"NONWORD residual\")"
   ]
  },
  {
   "cell_type": "markdown",
   "metadata": {},
   "source": [
    "### Other conditions"
   ]
  },
  {
   "cell_type": "code",
   "execution_count": null,
   "metadata": {},
   "outputs": [],
   "source": [
    "df_actual"
   ]
  },
  {
   "cell_type": "code",
   "execution_count": null,
   "metadata": {},
   "outputs": [],
   "source": [
    "# Parse predicted a bit\n",
    "p = (\n",
    "    df_pred[\n",
    "        [\n",
    "            \"code_name\",\n",
    "            \"epoch\",\n",
    "            \"HF_INC\",\n",
    "            \"HF_CON\",\n",
    "            \"LF_INC\",\n",
    "            \"LF_CON\",\n",
    "            \"NW_UN\",\n",
    "            \"NW_AMB\",\n",
    "        ]\n",
    "    ]\n",
    "    .melt([\"code_name\", \"epoch\"])\n",
    "    .rename({\"variable\": \"cond\", \"value\": \"acc_pred\"}, axis=1)\n",
    ")"
   ]
  },
  {
   "cell_type": "code",
   "execution_count": null,
   "metadata": {},
   "outputs": [],
   "source": [
    "df_allcond = df_actual.rename(\n",
    "    {\"ID\": \"code_name\", \"Trial.Scaled\": \"epoch\", \"Type\": \"cond\", \"Score\": \"acc\"}, axis=1\n",
    ")[[\"code_name\", \"epoch\", \"cond\", \"Hidden\", \"PhoHid\", \"Pnoise\", \"Epsilon\", \"acc\"]].merge(\n",
    "    p, on=[\"code_name\", \"epoch\", \"cond\"]\n",
    ")\n",
    "\n",
    "df_allcond[\"d\"] = df_allcond.acc - df_allcond.acc_pred"
   ]
  },
  {
   "cell_type": "code",
   "execution_count": null,
   "metadata": {},
   "outputs": [],
   "source": [
    "df_allcond"
   ]
  },
  {
   "cell_type": "code",
   "execution_count": null,
   "metadata": {},
   "outputs": [],
   "source": [
    "df_allcond_aggepoch = df_allcond.pivot_table(index=[\"code_name\", \"cond\"]).reset_index()\n",
    "df_allcond_aggepoch[\"Epsilon\"] = df_allcond_aggepoch.Epsilon.round(3)"
   ]
  },
  {
   "cell_type": "code",
   "execution_count": null,
   "metadata": {},
   "outputs": [],
   "source": [
    "from altair.expr import datum\n",
    "\n",
    "base = (\n",
    "    alt.Chart(df_allcond_aggepoch)\n",
    "    .mark_rect()\n",
    "    .encode(\n",
    "        x=\"Pnoise:O\",\n",
    "        y=\"Hidden:O\",\n",
    "        row=\"Epsilon:O\",\n",
    "        column=\"PhoHid:O\",\n",
    "        color=alt.Color(\n",
    "            \"d:Q\", scale=alt.Scale(scheme=\"redyellowgreen\", domain=(-0.05, 0.05))\n",
    "        ),\n",
    "    )\n",
    ")\n",
    "\n",
    "chart = alt.vconcat()\n",
    "\n",
    "for cond in df_allcond_aggepoch.cond.unique():\n",
    "    chart |= base.transform_filter(datum.cond == cond).properties(title=cond)\n",
    "\n",
    "\n",
    "chart"
   ]
  },
  {
   "cell_type": "code",
   "execution_count": null,
   "metadata": {},
   "outputs": [],
   "source": [
    "fig, ax = plt.subplots(figsize=(36, 8))\n",
    "ax = sns.violinplot(\n",
    "    x=\"epoch\", y=\"d\", hue=\"cond\", data=df_allcond.loc[df_allcond.epoch <= 0.1,]\n",
    ").set_title(\"Residual Accuracy (actual-predicted) by Epoch in all conditions\")\n",
    "\n",
    "\n",
    "plt.savefig(\"all_cond_vio_1.png\")"
   ]
  },
  {
   "cell_type": "code",
   "execution_count": null,
   "metadata": {},
   "outputs": [],
   "source": [
    "fig, ax = plt.subplots(figsize=(36, 8))\n",
    "ax = sns.violinplot(\n",
    "    x=\"epoch\", y=\"d\", hue=\"cond\", data=df_allcond.loc[df_allcond.epoch > 0.1,]\n",
    ").set_title(\"Residual Accuracy (actual-predicted) by Epoch in all conditions\")\n",
    "\n",
    "\n",
    "plt.savefig(\"all_cond_vio_2.png\")"
   ]
  },
  {
   "cell_type": "code",
   "execution_count": null,
   "metadata": {},
   "outputs": [],
   "source": [
    "df_allcond.columns"
   ]
  },
  {
   "cell_type": "code",
   "execution_count": null,
   "metadata": {},
   "outputs": [],
   "source": [
    "df_allcond"
   ]
  },
  {
   "cell_type": "code",
   "execution_count": null,
   "metadata": {},
   "outputs": [],
   "source": [
    "base = alt.Chart(df_allcond).mark_line(point=True).encode(\n",
    "    x=\"epoch\", y=\"\"\n",
    "    )"
   ]
  }
 ],
 "metadata": {
  "environment": {
   "name": "tf2-2-2-gpu.2-2.m50",
   "type": "gcloud",
   "uri": "gcr.io/deeplearning-platform-release/tf2-2-2-gpu.2-2:m50"
  },
  "kernelspec": {
   "display_name": "Python 3",
   "language": "python",
   "name": "python3"
  },
  "language_info": {
   "codemirror_mode": {
    "name": "ipython",
    "version": 3
   },
   "file_extension": ".py",
   "mimetype": "text/x-python",
   "name": "python",
   "nbconvert_exporter": "python",
   "pygments_lexer": "ipython3",
   "version": "3.7.6"
  }
 },
 "nbformat": 4,
 "nbformat_minor": 4
}
