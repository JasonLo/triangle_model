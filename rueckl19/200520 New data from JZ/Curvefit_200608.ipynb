{
 "cells": [
  {
   "cell_type": "markdown",
   "metadata": {},
   "source": [
    "# Characterizing development with growth modeling"
   ]
  },
  {
   "cell_type": "markdown",
   "metadata": {},
   "source": [
    "### Environment"
   ]
  },
  {
   "cell_type": "code",
   "execution_count": null,
   "metadata": {},
   "outputs": [],
   "source": [
    "%load_ext lab_black\n",
    "import pandas as pd\n",
    "import altair as alt\n",
    "import numpy as np\n",
    "from scipy.optimize import curve_fit\n",
    "from IPython.display import clear_output"
   ]
  },
  {
   "cell_type": "markdown",
   "metadata": {},
   "source": [
    "### Ingest, tidy"
   ]
  },
  {
   "cell_type": "code",
   "execution_count": null,
   "metadata": {},
   "outputs": [],
   "source": [
    "df = pd.read_csv(\"1250_sims.csv\", index_col=0)\n",
    "\n",
    "# Rename variables to use old codes\n",
    "# Should avoid variable with \".\", since it will block some convienent function in pandas\n",
    "df.rename(\n",
    "    columns={\n",
    "        \"ID\": \"code_name\",\n",
    "        \"Trial.Scaled\": \"epoch\",\n",
    "        \"Hidden\": \"hidden_units\",\n",
    "        \"PhoHid\": \"cleanup_units\",\n",
    "        \"Pnoise\": \"p_noise\",\n",
    "        \"Epsilon\": \"learning_rate\",\n",
    "        \"Type\": \"cond\",\n",
    "        \"Measure\": \"measure\",\n",
    "        \"Score\": \"score\",\n",
    "        \"Freq\": \"cond_freq\",\n",
    "        \"Cons\": \"cond_cons\",\n",
    "    },\n",
    "    inplace=True,\n",
    ")"
   ]
  },
  {
   "cell_type": "markdown",
   "metadata": {},
   "source": [
    "### Grand mean development over time"
   ]
  },
  {
   "cell_type": "code",
   "execution_count": null,
   "metadata": {},
   "outputs": [],
   "source": [
    "gmdf = df.groupby([\"epoch\", \"cond\"]).mean().reset_index()\n",
    "alt.Chart(gmdf).mark_line(point=True).encode(y=\"score\", x=\"epoch\", color=\"cond\")"
   ]
  },
  {
   "cell_type": "markdown",
   "metadata": {},
   "source": [
    "### Equations"
   ]
  },
  {
   "cell_type": "code",
   "execution_count": null,
   "metadata": {},
   "outputs": [],
   "source": [
    "def linear(x, a, b):\n",
    "    return a * x + b\n",
    "\n",
    "\n",
    "def quadratic(x, a, b, c):\n",
    "    return a * np.power(x, 2) + b * x + c\n",
    "\n",
    "\n",
    "def cubic(x, a, b, c, d):\n",
    "    return a * np.power(x, 3) + b * np.power(x, 2) + c * x + d\n",
    "\n",
    "\n",
    "def vonb(x, max_acc, k, x0):\n",
    "    \"\"\" von Bertalanffy (1938)\n",
    "    Assume that the rate of growth of an organism declines with size \n",
    "    so that the rate of change in length, l,  may be described by:\n",
    "    dl/dt = K (L_inf - l) or under our context: dy/dx = k (max_acc - y)\n",
    "    max_acc: Maximum accuracy / upper asymtote\n",
    "    k: growth rate\n",
    "    x0: x value where model start to learn\n",
    "    \"\"\"\n",
    "    return max_acc * (1 - np.exp(-k * (x - x0)))\n",
    "\n",
    "\n",
    "def expg(x, max_acc, k):\n",
    "    \"\"\" Somewhat Exponential growth (no reference, but \n",
    "    equavalent to von Bertalanffy with x0 == 0)\n",
    "    Assume x-intercept at 0\n",
    "    max_acc: upper asymtote\n",
    "    k: growth rate\n",
    "    \"\"\"\n",
    "    return max_acc * (1 - np.exp(-k * x))\n",
    "\n",
    "\n",
    "def janos(x, max_acc, k, i):\n",
    "    \"\"\" Janoschek, A. (1957)\n",
    "    # Occationally fail to to converge \n",
    "    max_acc: Maximum accuracy\n",
    "    k: growth rate\n",
    "    i: related to inflection point x location\n",
    "    \"\"\"\n",
    "    return max_acc * (1 - np.exp(-k * np.power(x, i)))"
   ]
  },
  {
   "cell_type": "markdown",
   "metadata": {},
   "source": [
    "### Fit functions and convienient function"
   ]
  },
  {
   "cell_type": "code",
   "execution_count": null,
   "metadata": {},
   "outputs": [],
   "source": [
    "def get_df(df, code_name, cond, remove_zero=False):\n",
    "    \"\"\"\n",
    "    Convienient function for subsetting data\n",
    "    \"\"\"\n",
    "    data = df.loc[\n",
    "        (df.code_name == code_name)\n",
    "        & (df.cond == cond)\n",
    "        & (df.measure == \"Accuracy\"),  # Early points are too volatile\n",
    "        [\"epoch\", \"score\"],\n",
    "    ].reset_index(drop=True)\n",
    "\n",
    "    if remove_zero:\n",
    "        data = data.loc[\n",
    "            data.score > 0,\n",
    "        ]\n",
    "\n",
    "    return data\n",
    "\n",
    "\n",
    "class growth_model:\n",
    "    def __init__(self, df, growth_fx, bounds, name, robust=False, f_scale=0.02):\n",
    "        \"\"\" Fit growth models\n",
    "        df: datafile with score (y) and epoch (x)\n",
    "        growth_fx: growth function to fit\n",
    "        bounds: model constrain of parameters\n",
    "        name: model name\n",
    "        robust: whether to use robust method\n",
    "        f_scale (only or robust = True): soft residual cutoff for outlier, \n",
    "            used in scipy.optimize.least_squares()\n",
    "        See https://scipy-cookbook.readthedocs.io/items/robust_regression.html\n",
    "        for more details\n",
    "        \"\"\"\n",
    "        self.df = df\n",
    "        self.growth_fx = growth_fx\n",
    "        self.bounds = (-np.inf, np.inf) if bounds == None else bounds\n",
    "        self.__name__ = name\n",
    "        self.f_scale = f_scale\n",
    "\n",
    "        # Create plotting dataset\n",
    "        self.df[\"set\"] = \"actual\"\n",
    "        self.actual = self.df.score\n",
    "        self.n = len(self.df)\n",
    "\n",
    "        # Fit model\n",
    "        self.fit_robust() if robust else self.fit()\n",
    "\n",
    "        # Predicts\n",
    "        self.pred = self.growth_fx(self.df.epoch, *self.params)\n",
    "        self.res = np.sum(np.square(self.pred - self.actual))\n",
    "        self.adj_res = self.res * 19 / self.n\n",
    "\n",
    "        model_df = pd.DataFrame(\n",
    "            {\"epoch\": self.df.epoch, \"score\": self.pred, \"set\": \"predict\",}\n",
    "        )\n",
    "        self.df = pd.concat([self.df, model_df], ignore_index=True)\n",
    "\n",
    "    def fit(self):\n",
    "\n",
    "        self.params, _ = curve_fit(\n",
    "            self.growth_fx, self.df.epoch, self.df.score, bounds=self.bounds\n",
    "        )\n",
    "\n",
    "    def fit_robust(self):\n",
    "        \"\"\" Fitting the selected curve with robust method\n",
    "        \"\"\"\n",
    "        self.params, _ = curve_fit(\n",
    "            self.growth_fx,\n",
    "            self.df.epoch,\n",
    "            self.df.score,\n",
    "            bounds=self.bounds,\n",
    "            maxfev=10000,\n",
    "            method=\"trf\",  # Relatively robust method\n",
    "            loss=\"soft_l1\",  # More robust to outlier\n",
    "            f_scale=self.f_scale,  # Soft boundary for outlier residual, based on specific data set,\n",
    "        )\n",
    "\n",
    "    def plot(self):\n",
    "        return (\n",
    "            alt.Chart(self.df)\n",
    "            .mark_line(point=True)\n",
    "            .encode(\n",
    "                y=alt.Y(\"score\", scale=alt.Scale(domain=(0, 1))),\n",
    "                x=alt.X(\"epoch\", scale=alt.Scale(domain=(0, 1))),\n",
    "                color=\"set\",\n",
    "            )\n",
    "            .properties(\n",
    "                title=[\n",
    "                    f\"Model: {self.__name__}\",\n",
    "                    f\"Parameters: {self.params.round(3)}\",\n",
    "                    f\"Residual (SSE): {self.res:.3f}\",\n",
    "                    f\"Data point adjusted residual {self.adj_res:.3f}\",\n",
    "                ]\n",
    "            )\n",
    "        )\n",
    "\n",
    "\n",
    "def plot_all_models(df):\n",
    "    \"\"\" Plot all 6 candidate models for case study\n",
    "    \"\"\"\n",
    "\n",
    "    df_no_zero = df.loc[\n",
    "        df.score > 0,\n",
    "    ]\n",
    "    # models\n",
    "    m1 = growth_model(df, linear, bounds=None, name=\"linear\")\n",
    "    m2 = growth_model(df, quadratic, None, \"Quadratic\")\n",
    "    m3 = growth_model(df, cubic, None, \"Cubic\")\n",
    "    m4 = growth_model(df_no_zero, vonb, (0, [1, np.inf, 1]), \"EQ1\", True, 0.01)\n",
    "    m5 = growth_model(df_no_zero, expg, (0, [1, np.inf]), \"EQ2\")\n",
    "    m6 = growth_model(df, janos, ([0, 0, -np.inf], [1, np.inf, np.inf]), \"EQ3\")\n",
    "\n",
    "    # plots\n",
    "    pg1 = m1.plot() | m2.plot() | m3.plot()\n",
    "    pg2 = m4.plot() | m5.plot() | m6.plot()\n",
    "\n",
    "    return pg1 & pg2"
   ]
  },
  {
   "cell_type": "markdown",
   "metadata": {},
   "source": [
    "### High accuracy sample"
   ]
  },
  {
   "cell_type": "code",
   "execution_count": null,
   "metadata": {},
   "outputs": [],
   "source": [
    "plot_all_models(get_df(df, 65317006, \"NW_UN\", remove_zero=False))"
   ]
  },
  {
   "cell_type": "markdown",
   "metadata": {},
   "source": [
    "### Another high accuracy example"
   ]
  },
  {
   "cell_type": "code",
   "execution_count": null,
   "metadata": {},
   "outputs": [],
   "source": [
    "plot_all_models(get_df(df, 65317006, \"HF_CON\", remove_zero=False))"
   ]
  },
  {
   "cell_type": "markdown",
   "metadata": {},
   "source": [
    "### Medium"
   ]
  },
  {
   "cell_type": "code",
   "execution_count": null,
   "metadata": {},
   "outputs": [],
   "source": [
    "plot_all_models(get_df(df, 64195100, \"HF_INC\", remove_zero=False))"
   ]
  },
  {
   "cell_type": "markdown",
   "metadata": {},
   "source": [
    "### Low accuracy example"
   ]
  },
  {
   "cell_type": "code",
   "execution_count": null,
   "metadata": {},
   "outputs": [],
   "source": [
    "plot_all_models(get_df(df, 64195080, \"LF_INC\", remove_zero=False))"
   ]
  },
  {
   "cell_type": "markdown",
   "metadata": {},
   "source": [
    "### Extremely low accuracy example"
   ]
  },
  {
   "cell_type": "code",
   "execution_count": null,
   "metadata": {},
   "outputs": [],
   "source": [
    "plot_all_models(get_df(df, 64195680, \"LF_INC\", False))"
   ]
  },
  {
   "cell_type": "markdown",
   "metadata": {},
   "source": [
    "# Fit all models and conditions"
   ]
  },
  {
   "cell_type": "code",
   "execution_count": null,
   "metadata": {},
   "outputs": [],
   "source": [
    "i = 0\n",
    "n = len(df.code_name.unique())\n",
    "\n",
    "eq1_results = pd.DataFrame()\n",
    "eq2_results = pd.DataFrame()\n",
    "eq3_results = pd.DataFrame()\n",
    "\n",
    "for m in df.code_name.unique():\n",
    "    clear_output(wait=True)\n",
    "    i += 1\n",
    "    print(\"Processing model {} of {}\".format(i, n))\n",
    "    for c in df.cond.unique():\n",
    "        m1 = growth_model(get_df(df, m, c, remove_zero=True), vonb, (0, [1, np.inf, 1]), \"EQ1\")\n",
    "        m2 = growth_model(get_df(df, m, c, remove_zero=True), expg, (0, [1, np.inf]), \"EQ2\")\n",
    "        m3 = growth_model(get_df(df, m, c), janos, ([0, 0, -np.inf], [1, np.inf, np.inf]), \"EQ3\")\n",
    "        \n",
    "        m1_result = pd.DataFrame(\n",
    "            {\"model\": \"EQ1\", \"nadj_residual\": m1.adj_res, \"max_acc\":m1.params[0], \n",
    "             \"k\":m1.params[1], \"x0\":m1.params[2]}, index=[0])\n",
    "        \n",
    "        m2_result = pd.DataFrame(\n",
    "            {\"model\": \"EQ2\", \"nadj_residual\": m2.adj_res, \"max_acc\":m2.params[0] , \n",
    "             \"k\":m2.params[1]}, index=[0])\n",
    "        \n",
    "        m3_result = pd.DataFrame(\n",
    "            {\"model\": \"EQ3\", \"nadj_residual\": m3.adj_res, \"max_acc\":m3.params[0] , \n",
    "             \"k\":m3.params[1], \"i\":m3.params[2]}, index=[0])\n",
    "        \n",
    "        m1_result[\"code_name\"] = m\n",
    "        m2_result[\"code_name\"] = m\n",
    "        m3_result[\"code_name\"] = m\n",
    "        \n",
    "        m1_result[\"cond\"] = c\n",
    "        m2_result[\"cond\"] = c\n",
    "        m3_result[\"cond\"] = c\n",
    "        \n",
    "        eq1_results = pd.concat([eq1_results, m1_result])\n",
    "        eq2_results = pd.concat([eq2_results, m2_result])\n",
    "        eq3_results = pd.concat([eq3_results, m3_result])"
   ]
  },
  {
   "cell_type": "markdown",
   "metadata": {},
   "source": [
    "### Merge h-params spec"
   ]
  },
  {
   "cell_type": "code",
   "execution_count": null,
   "metadata": {},
   "outputs": [],
   "source": [
    "model_spec = df.groupby(\"code_name\").mean().reset_index()\n",
    "model_spec.drop(columns=[\"epoch\", \"score\"], inplace=True)\n",
    "\n",
    "eq1_results = eq1_results.reset_index()\n",
    "eq1_results = eq1_results.merge(model_spec, on=\"code_name\")\n",
    "eq1_results.to_csv(\"eq1_results.csv\")\n",
    "print(f\"EQ 1 mean residual = {eq1_results.residual.mean():.4f}\")\n",
    "\n",
    "eq2_results = eq2_results.reset_index()\n",
    "eq2_results = eq2_results.merge(model_spec, on=\"code_name\")\n",
    "eq2_results.to_csv(\"eq2_results.csv\")\n",
    "print(f\"EQ 2 mean residual = {eq2_results.residual.mean():.4f}\")\n",
    "\n",
    "eq3_results = eq3_results.reset_index()\n",
    "eq3_results = eq3_results.merge(model_spec, on=\"code_name\")\n",
    "eq3_results.to_csv(\"eq3_results.csv\")\n",
    "print(f\"EQ 3 mean residual = {eq3_results.residual.mean():.4f}\")"
   ]
  },
  {
   "cell_type": "markdown",
   "metadata": {},
   "source": [
    "### Growth parameter outlier fix\n",
    "- There is an outlier estimate in model 65317006, NW_UN\n",
    "- Which caused by an extreme value in the 2nd data point\n",
    "- maybe it is good to use a more robust method to fit the curve"
   ]
  },
  {
   "cell_type": "code",
   "execution_count": null,
   "metadata": {},
   "outputs": [],
   "source": [
    "i = 0\n",
    "n = len(df.code_name.unique())\n",
    "\n",
    "robust_eq1_results = pd.DataFrame()\n",
    "\n",
    "for m in df.code_name.unique():\n",
    "    clear_output(wait=True)\n",
    "    i += 1\n",
    "    print(\"Processing model {} of {}\".format(i, n))\n",
    "    for c in df.cond.unique():\n",
    "        m1 = growth_model(\n",
    "            get_df(df, m, c, remove_zero=True),\n",
    "            vonb,\n",
    "            (0, [1, np.inf, 1]),\n",
    "            \"rEQ1\",\n",
    "            True,\n",
    "            0.01,\n",
    "        )\n",
    "        m1_result = pd.DataFrame(\n",
    "            {\n",
    "                \"model\": \"EQ1\",\n",
    "                \"adj_residual\": m1.adj_res,\n",
    "                \"max_acc\": m1.params[0],\n",
    "                \"k\": m1.params[1],\n",
    "                \"x0\": m1.params[2],\n",
    "            },\n",
    "            index=[0],\n",
    "        )\n",
    "        m1_result[\"code_name\"] = m\n",
    "        m1_result[\"cond\"] = c\n",
    "\n",
    "        robust_eq1_results = pd.concat([robust_eq1_results, m1_result])"
   ]
  },
  {
   "cell_type": "code",
   "execution_count": null,
   "metadata": {},
   "outputs": [],
   "source": [
    "model_spec = df.groupby(\"code_name\").mean().reset_index()\n",
    "model_spec.drop(columns=[\"epoch\", \"score\"], inplace=True)\n",
    "\n",
    "robust_eq1_results = robust_eq1_results.reset_index()\n",
    "robust_eq1_results = robust_eq1_results.merge(model_spec, on=\"code_name\")\n",
    "robust_eq1_results.to_csv(\"req1_results.csv\")\n",
    "print(f\"EQ 1 mean residual = {robust_eq1_results.adj_residual.mean():.4f}\")"
   ]
  },
  {
   "cell_type": "code",
   "execution_count": null,
   "metadata": {},
   "outputs": [],
   "source": [
    "!sudo poweroff"
   ]
  },
  {
   "cell_type": "code",
   "execution_count": null,
   "metadata": {},
   "outputs": [],
   "source": [
    "plot_all_models(get_df(df, 65317490, \"HF_INC\", remove_zero=False))"
   ]
  }
 ],
 "metadata": {
  "environment": {
   "name": "tf2-gpu.2-1.m46",
   "type": "gcloud",
   "uri": "gcr.io/deeplearning-platform-release/tf2-gpu.2-1:m46"
  },
  "kernelspec": {
   "display_name": "Python 3",
   "language": "python",
   "name": "python3"
  },
  "language_info": {
   "codemirror_mode": {
    "name": "ipython",
    "version": 3
   },
   "file_extension": ".py",
   "mimetype": "text/x-python",
   "name": "python",
   "nbconvert_exporter": "python",
   "pygments_lexer": "ipython3",
   "version": "3.7.6"
  }
 },
 "nbformat": 4,
 "nbformat_minor": 4
}
