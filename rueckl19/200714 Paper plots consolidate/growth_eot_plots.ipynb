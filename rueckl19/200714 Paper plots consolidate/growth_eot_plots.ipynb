{
 "cells": [
  {
   "cell_type": "markdown",
   "metadata": {},
   "source": [
    "# This file plots the followings\n",
    "- End of training mean accuracy in each condition by each h-param setting\n",
    "- Growth model asymotote, growth (log(k+1)), and x-intercept in the same arrangement"
   ]
  },
  {
   "cell_type": "code",
   "execution_count": null,
   "metadata": {},
   "outputs": [],
   "source": [
    "%load_ext lab_black\n",
    "import pandas as pd\n",
    "import numpy as np\n",
    "import altair as alt\n",
    "from altair.expr import datum\n",
    "\n",
    "alt.data_transformers.enable(\"default\")\n",
    "alt.data_transformers.disable_max_rows()"
   ]
  },
  {
   "cell_type": "markdown",
   "metadata": {},
   "source": [
    "# Actual plot (EoT)"
   ]
  },
  {
   "cell_type": "code",
   "execution_count": null,
   "metadata": {},
   "outputs": [],
   "source": [
    "df = pd.read_csv(\"../sims/1250_sims.csv\", index_col=0)\n",
    "df = df.loc[(df[\"Trial.Scaled\"] == 1) & (df.Measure == \"Accuracy\"), :]\n",
    "df.sample(5)"
   ]
  },
  {
   "cell_type": "code",
   "execution_count": null,
   "metadata": {},
   "outputs": [],
   "source": [
    "base = (\n",
    "    alt.Chart(df)\n",
    "    .mark_rect()\n",
    "    .encode(\n",
    "        x=\"Pnoise:O\",\n",
    "        y=\"Hidden:O\",\n",
    "        row=\"Epsilon:O\",\n",
    "        column=\"PhoHid:O\",\n",
    "        color=alt.Color(\n",
    "            \"mean(Score):Q\", scale=alt.Scale(scheme=\"redyellowgreen\", domain=(0.5, 1))\n",
    "        ),\n",
    "    )\n",
    ")\n",
    "\n",
    "chart = alt.vconcat()\n",
    "conds = df.Type.unique()\n",
    "\n",
    "for y in (0, 1, 2):\n",
    "    row = alt.hconcat()\n",
    "    for x in (0, 1):\n",
    "        idx = y * 2 + x\n",
    "        row |= base.transform_filter(datum.Type == conds[idx]).properties(\n",
    "            title=conds[idx]\n",
    "        )\n",
    "    chart &= row\n",
    "\n",
    "chart.save(\"acc_eot_all.html\")"
   ]
  },
  {
   "cell_type": "markdown",
   "metadata": {},
   "source": [
    "# Growth model plots"
   ]
  },
  {
   "cell_type": "code",
   "execution_count": null,
   "metadata": {},
   "outputs": [],
   "source": [
    "df = pd.read_csv(\"req1_results.csv\", index_col=0)\n",
    "df[\"learning_rate\"] = df.learning_rate.round(3)\n",
    "df[\"growth\"] = np.log(df.k + 1)\n",
    "df.sample(5)"
   ]
  },
  {
   "cell_type": "markdown",
   "metadata": {},
   "source": [
    "### Asymtotes"
   ]
  },
  {
   "cell_type": "code",
   "execution_count": null,
   "metadata": {},
   "outputs": [],
   "source": [
    "large_header = alt.Header(labelFontSize=16, titleFontSize=16)\n",
    "\n",
    "base = (\n",
    "    alt.Chart(df)\n",
    "    .mark_rect()\n",
    "    .encode(\n",
    "        x=alt.X(\"p_noise:O\"),\n",
    "        y=alt.Y(\"hidden_units:O\", sort=\"descending\"),\n",
    "        column=alt.Column(\"learning_rate:O\", sort=\"descending\", header=large_header,),\n",
    "        row=alt.Row(\"cleanup_units\", sort=\"descending\", header=large_header,),\n",
    "        color=alt.Color(\n",
    "            \"mean(max_acc):Q\", scale=alt.Scale(scheme=\"redyellowgreen\", domain=(0.5, 1))\n",
    "        ),\n",
    "    )\n",
    ")"
   ]
  },
  {
   "cell_type": "code",
   "execution_count": null,
   "metadata": {},
   "outputs": [],
   "source": [
    "chart = alt.vconcat()\n",
    "conds = df.cond.unique()\n",
    "\n",
    "for y in (0, 1, 2):\n",
    "    row = alt.hconcat()\n",
    "    for x in (0, 1):\n",
    "        idx = y * 2 + x\n",
    "        row |= base.transform_filter(datum.cond == conds[idx]).properties(\n",
    "            title=conds[idx]\n",
    "        )\n",
    "    chart &= row\n",
    "\n",
    "chart.save(\"asy_all.html\")"
   ]
  },
  {
   "cell_type": "markdown",
   "metadata": {},
   "source": [
    "### Growth"
   ]
  },
  {
   "cell_type": "code",
   "execution_count": null,
   "metadata": {},
   "outputs": [],
   "source": [
    "sel_df = df.loc[\n",
    "    df.cond.isin([\"HF_INC\", \"HF_CON\", \"LF_INC\", \"LF_CON\"]),\n",
    "]\n",
    "\n",
    "base = (\n",
    "    alt.Chart(sel_df)\n",
    "    .mark_rect()\n",
    "    .encode(\n",
    "        x=\"p_noise:O\",\n",
    "        y=alt.Y(\"hidden_units:O\", sort=\"descending\"),\n",
    "        row=alt.Row(\"cleanup_units\", sort=\"descending\", header=large_header,),\n",
    "        column=alt.Column(\"learning_rate:O\", sort=\"descending\", header=large_header,),\n",
    "        color=alt.Color(\n",
    "            \"mean(growth):Q\", scale=alt.Scale(scheme=\"redyellowblue\", domain=(1, 4))\n",
    "        ),\n",
    "    )\n",
    ").configure_axis(labelFontSize=16, titleFontSize=16)\n",
    "\n",
    "\n",
    "base.save(\"growth_word_mean.html\")"
   ]
  },
  {
   "cell_type": "code",
   "execution_count": null,
   "metadata": {},
   "outputs": [],
   "source": [
    "base = (\n",
    "    alt.Chart(df)\n",
    "    .mark_rect()\n",
    "    .encode(\n",
    "        x=\"p_noise:O\",\n",
    "        y=\"hidden_units:O\",\n",
    "        row=\"learning_rate:O\",\n",
    "        column=\"cleanup_units:O\",\n",
    "        color=alt.Color(\n",
    "            \"mean(growth):Q\", scale=alt.Scale(scheme=\"redyellowblue\", domain=(1, 4))\n",
    "        ),\n",
    "    )\n",
    ")\n",
    "\n",
    "chart = alt.vconcat()\n",
    "conds = df.cond.unique()\n",
    "\n",
    "for y in (0, 1, 2):\n",
    "    row = alt.hconcat()\n",
    "    for x in (0, 1):\n",
    "        idx = y * 2 + x\n",
    "        row |= base.transform_filter(datum.cond == conds[idx]).properties(\n",
    "            title=conds[idx]\n",
    "        )\n",
    "    chart &= row\n",
    "\n",
    "chart.save(\"growth_all.html\")"
   ]
  },
  {
   "cell_type": "markdown",
   "metadata": {},
   "source": [
    "### X-Intercept"
   ]
  },
  {
   "cell_type": "code",
   "execution_count": null,
   "metadata": {},
   "outputs": [],
   "source": [
    "base = (\n",
    "    alt.Chart(df)\n",
    "    .mark_rect()\n",
    "    .encode(\n",
    "        x=\"p_noise:O\",\n",
    "        y=\"hidden_units:O\",\n",
    "        row=\"learning_rate:O\",\n",
    "        column=\"cleanup_units:O\",\n",
    "        color=alt.Color(\n",
    "            \"mean(x0):Q\", scale=alt.Scale(scheme=\"lightmulti\", domain=(0, 0.4))\n",
    "        ),\n",
    "    )\n",
    ")\n",
    "\n",
    "chart = alt.vconcat()\n",
    "conds = df.cond.unique()\n",
    "\n",
    "for y in (0, 1, 2):\n",
    "    row = alt.hconcat()\n",
    "    for x in (0, 1):\n",
    "        idx = y * 2 + x\n",
    "        row |= base.transform_filter(datum.cond == conds[idx]).properties(\n",
    "            title=conds[idx]\n",
    "        )\n",
    "    chart &= row\n",
    "\n",
    "chart.save(\"intercept_all.html\")"
   ]
  }
 ],
 "metadata": {
  "environment": {
   "name": "tf2-2-2-gpu.2-2.m50",
   "type": "gcloud",
   "uri": "gcr.io/deeplearning-platform-release/tf2-2-2-gpu.2-2:m50"
  },
  "kernelspec": {
   "display_name": "Python 3",
   "language": "python",
   "name": "python3"
  },
  "language_info": {
   "codemirror_mode": {
    "name": "ipython",
    "version": 3
   },
   "file_extension": ".py",
   "mimetype": "text/x-python",
   "name": "python",
   "nbconvert_exporter": "python",
   "pygments_lexer": "ipython3",
   "version": "3.7.6"
  }
 },
 "nbformat": 4,
 "nbformat_minor": 4
}
