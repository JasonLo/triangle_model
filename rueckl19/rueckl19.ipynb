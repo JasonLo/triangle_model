{
 "cells": [
  {
   "cell_type": "markdown",
   "metadata": {},
   "source": [
    "# Examine Rueckl19 dataset"
   ]
  },
  {
   "cell_type": "code",
   "execution_count": null,
   "metadata": {},
   "outputs": [],
   "source": [
    "%load_ext lab_black\n",
    "import pandas as pd\n",
    "import altair as alt\n",
    "alt.data_transformers.enable(\"default\")\n",
    "alt.data_transformers.disable_max_rows()"
   ]
  },
  {
   "cell_type": "markdown",
   "metadata": {},
   "source": [
    "### Ingest, tidy"
   ]
  },
  {
   "cell_type": "code",
   "execution_count": null,
   "metadata": {},
   "outputs": [],
   "source": [
    "df.columns"
   ]
  },
  {
   "cell_type": "code",
   "execution_count": null,
   "metadata": {},
   "outputs": [],
   "source": [
    "df = pd.read_csv('plotdf.csv', index_col=0)\n",
    "df['word_acc'] = df[[\n",
    "    'HF_CON_Accuracy', 'HF_INC_Accuracy', 'LF_CON_Accuracy', 'LF_INC_Accuracy'\n",
    "]].mean(axis=1)\n",
    "df['nonword_acc'] = df[['NW_AMB_Accuracy', 'NW_UN_Accuracy']].mean(axis=1)\n",
    "\n",
    "df.rename(\n",
    "    columns={\n",
    "        'ID': 'code_name',\n",
    "        'Trial.Scaled': 'epoch',  # Trial scaled renamed to Epoch onward\n",
    "        'Pnoise': 'p_noise',  # group renamed to code_name onward\n",
    "        'Hidden': 'hidden_units',\n",
    "        'Epsilon': 'learning_rate',\n",
    "        'PhoHid': 'cleanup_units'\n",
    "    },\n",
    "    inplace=True\n",
    ")\n",
    "\n",
    "df = df[[\n",
    "    'code_name', 'epoch', 'hidden_units', 'cleanup_units', 'p_noise',\n",
    "    'learning_rate', 'word_acc', 'nonword_acc'\n",
    "]]"
   ]
  },
  {
   "cell_type": "markdown",
   "metadata": {},
   "source": [
    "### Are there more than one model in a unique set of setting? Yes..."
   ]
  },
  {
   "cell_type": "code",
   "execution_count": null,
   "metadata": {},
   "outputs": [],
   "source": [
    "def count_models(df):\n",
    "\n",
    "    dfm = df[[\n",
    "        'code_name', 'p_noise', 'hidden_units', 'learning_rate', 'cleanup_units'\n",
    "    ]].pivot_table(index='code_name')\n",
    "    dfm['code_name'] = dfm.index\n",
    "\n",
    "    pvt = dfm.pivot_table(\n",
    "        index=['p_noise', 'hidden_units', 'learning_rate', 'cleanup_units'],\n",
    "        aggfunc='count',\n",
    "        values='code_name'\n",
    "    )\n",
    "\n",
    "    pvt.reset_index(inplace=True)\n",
    "    pvt.rename(columns={'code_name': 'n'}, inplace=True)\n",
    "\n",
    "    plot_n = alt.Chart(pvt).mark_rect().encode(\n",
    "        x=\"p_noise:O\",\n",
    "        y=\"hidden_units:O\",\n",
    "        row=\"learning_rate:O\",\n",
    "        column=\"cleanup_units:O\",\n",
    "        color=\"n:O\",\n",
    "        tooltip=[\n",
    "            \"p_noise\", \"hidden_units\", \"cleanup_units\", \"learning_rate\", \"n\"\n",
    "        ],\n",
    "    ).properties(title=\"Model counts\")\n",
    "\n",
    "    return plot_n\n",
    "\n",
    "plot_n = count_models(df)\n",
    "plot_n.save('count_model_all.html')"
   ]
  },
  {
   "cell_type": "markdown",
   "metadata": {},
   "source": [
    "# Main plot word vs. nonword"
   ]
  },
  {
   "cell_type": "markdown",
   "metadata": {},
   "source": [
    "- To reuse my pipeline as much as possible, I just select one model if there multiple runs with one setting"
   ]
  },
  {
   "cell_type": "code",
   "execution_count": null,
   "metadata": {},
   "outputs": [],
   "source": [
    "def main_dashboard(df):\n",
    "\n",
    "    sel_run = alt.selection(type=\"multi\", on=\"click\", fields=[\"code_name\"])\n",
    "\n",
    "    # df for overview\n",
    "    df_ov = df[df.epoch == df.epoch.max()]\n",
    "\n",
    "    # Shared master over-view\n",
    "    overview = (\n",
    "        alt.Chart(df_ov).mark_rect().encode(\n",
    "            x=\"p_noise:O\",\n",
    "            y=\"hidden_units:O\",\n",
    "            row=\"learning_rate:O\",\n",
    "            column=\"cleanup_units:O\",\n",
    "            color=alt.Color(\n",
    "                \"word_acc\",\n",
    "                scale=alt.Scale(scheme=\"redyellowgreen\", domain=(0, 1))\n",
    "            ),\n",
    "            opacity=alt.condition(sel_run, alt.value(1), alt.value(0.1)),\n",
    "            tooltip=[\n",
    "                \"code_name\", \"p_noise\", \"hidden_units\", \"cleanup_units\",\n",
    "                \"learning_rate\", \"word_acc\", \"nonword_acc\"\n",
    "            ],\n",
    "        ).add_selection(sel_run).properties(title=\"Overall accuracy\")\n",
    "    )\n",
    "\n",
    "    wnw_mdf = df.melt(\n",
    "        id_vars=['code_name', 'epoch'],\n",
    "        value_vars=['word_acc', 'nonword_acc'],\n",
    "        var_name='wnw',\n",
    "        value_name='acc'\n",
    "    )\n",
    "\n",
    "    plot_epoch = alt.Chart(wnw_mdf).mark_point(size=80).encode(\n",
    "        y=alt.Y(\"acc:Q\", scale=alt.Scale(domain=(0, 1))),\n",
    "        x=\"epoch:Q\",\n",
    "        color=\"code_name:N\",\n",
    "        shape=\"wnw:N\",\n",
    "        opacity=alt.condition(sel_run, alt.value(1), alt.value(0)),\n",
    "        tooltip=[\"code_name\", \"epoch\", \"acc\"],\n",
    "    ).add_selection(sel_run).properties(\n",
    "        title=\"Plot word and nonword accuracy by epoch\"\n",
    "    )\n",
    "\n",
    "    wnw_line = alt.Chart(df).mark_line(point=True).encode(\n",
    "        y=alt.Y(\"nonword_acc:Q\", scale=alt.Scale(domain=(0, 1))),\n",
    "        x=alt.X(\"word_acc:Q\", scale=alt.Scale(domain=(0, 1))),\n",
    "        color=\"code_name:N\",\n",
    "        opacity=alt.condition(sel_run, alt.value(1), alt.value(0)),\n",
    "        tooltip=[\"code_name\", \"epoch\", \"word_acc\", \"nonword_acc\"],\n",
    "    ).add_selection(sel_run).properties(\n",
    "        title=\"Word vs. Nonword accuracy at final time step\"\n",
    "    )\n",
    "\n",
    "    diagonal = alt.Chart(pd.DataFrame({\n",
    "        'x': [0, 1],\n",
    "        'y': [0, 1]\n",
    "    })).mark_line(color='black').encode(x='x', y='y')\n",
    "\n",
    "    return overview | (plot_epoch & (diagonal + wnw_line))\n",
    "\n",
    "\n",
    "main_plot = main_dashboard(df)\n",
    "main_plot.save('dashboard_all.html')"
   ]
  },
  {
   "cell_type": "markdown",
   "metadata": {},
   "source": [
    "# Single dimension main effect plots"
   ]
  },
  {
   "cell_type": "code",
   "execution_count": null,
   "metadata": {},
   "outputs": [],
   "source": [
    "def main_effect_plot(df, var):\n",
    "\n",
    "    pdf = df.pivot_table(\n",
    "        index=['epoch', var], values=['word_acc', 'nonword_acc']\n",
    "    )\n",
    "    pdf.reset_index(inplace=True)\n",
    "    pdf['word_advantage'] = pdf.word_acc - pdf.nonword_acc\n",
    "\n",
    "    sel_var = alt.selection(type=\"multi\", on=\"click\", fields=[var])\n",
    "\n",
    "    overview_bias = (\n",
    "        alt.Chart(pdf).mark_rect().encode(\n",
    "            y=alt.Y(var, type=\"ordinal\"),\n",
    "            x='epoch:O',\n",
    "            color=alt.Color(\n",
    "                \"word_advantage\",\n",
    "                scale=alt.Scale(scheme=\"redyellowgreen\", domain=(-.2, .2))\n",
    "            ),\n",
    "            opacity=alt.condition(sel_var, alt.value(1), alt.value(0.1)),\n",
    "            tooltip=[\"word_acc\", \"nonword_acc\"],\n",
    "        ).add_selection(sel_var).properties(\n",
    "            title=\n",
    "            \"Word - Nonword accuracy (word_advantage) heatmap by {} and epoch\".\n",
    "            format(var)\n",
    "        )\n",
    "    )\n",
    "\n",
    "    overview_wacc = (\n",
    "        alt.Chart(pdf).mark_rect().encode(\n",
    "            y=alt.Y(var, type=\"ordinal\"),\n",
    "            x='epoch:O',\n",
    "            color=alt.Color(\n",
    "                \"word_acc\",\n",
    "                scale=alt.Scale(scheme=\"redyellowgreen\", domain=(0, 1))\n",
    "            ),\n",
    "            opacity=alt.condition(sel_var, alt.value(1), alt.value(0.1)),\n",
    "            tooltip=[\"word_acc\", \"nonword_acc\"],\n",
    "        ).add_selection(sel_var).properties(\n",
    "            title=\n",
    "            \"Word - Nonword accuracy (word_advantage) heatmap by {} and epoch\".\n",
    "            format(var)\n",
    "        )\n",
    "    )\n",
    "\n",
    "    wnw_line = alt.Chart(pdf).mark_line().encode(\n",
    "        y=alt.Y(\"nonword_acc:Q\", scale=alt.Scale(domain=(0, 1))),\n",
    "        x=alt.X(\"word_acc:Q\", scale=alt.Scale(domain=(0, 1))),\n",
    "        color=alt.Color(var, type=\"ordinal\", scale=alt.Scale(scheme=\"magma\")),\n",
    "        opacity=alt.condition(sel_var, alt.value(0.9), alt.value(0)),\n",
    "        tooltip=[var, \"epoch\", \"word_acc\", \"nonword_acc\"],\n",
    "    )\n",
    "\n",
    "    diagonal = alt.Chart(pd.DataFrame({\n",
    "        'x': [0, 1],\n",
    "        'y': [0, 1]\n",
    "    })).mark_line(color='black').encode(x='x', y='y')\n",
    "\n",
    "    wnw = diagonal + wnw_line\n",
    "\n",
    "    return overview_wacc | overview_bias | wnw\n",
    "\n",
    "\n",
    "p = alt.vconcat()\n",
    "for v in ['hidden_units', 'cleanup_units', 'p_noise', 'learning_rate']:\n",
    "    p &= main_effect_plot(df, v)\n",
    "\n",
    "p.save('main_effect_all.html')"
   ]
  },
  {
   "cell_type": "markdown",
   "metadata": {},
   "source": [
    "# (Somewhat) Direct comparison with my data"
   ]
  },
  {
   "cell_type": "markdown",
   "metadata": {},
   "source": [
    "- Perhaps can compare: hidden units, cleanup units\n",
    "- probably not comparable: lr, p-noise\n",
    "- setup an even grid for easier comparision"
   ]
  },
  {
   "cell_type": "code",
   "execution_count": null,
   "metadata": {},
   "outputs": [],
   "source": [
    "sdf = df.loc[df.learning_rate.isin([.002, .004, .006, .008, .010]) &\n",
    "             (df.p_noise < 6) & df.cleanup_units.isin([10, 50]) &\n",
    "             df.hidden_units.isin([50, 100, 150, 200]), ]"
   ]
  },
  {
   "cell_type": "code",
   "execution_count": null,
   "metadata": {},
   "outputs": [],
   "source": [
    "psdf = sdf.pivot_table(index='code_name').reset_index()\n",
    "sel_code = psdf.groupby(\n",
    "    ['hidden_units', 'cleanup_units', 'p_noise', 'learning_rate'],\n",
    "    group_keys=False\n",
    ").apply(lambda df: df.sample(1)).code_name\n",
    "\n",
    "ssdf = sdf.loc[sdf.code_name.isin(sel_code)]\n",
    "plot_n_sel = count_models(ssdf)\n",
    "plot_n_sel.save('count_model_sel.html')"
   ]
  },
  {
   "cell_type": "markdown",
   "metadata": {},
   "source": [
    "### Plot dashboard and main effect plot"
   ]
  },
  {
   "cell_type": "code",
   "execution_count": null,
   "metadata": {},
   "outputs": [],
   "source": [
    "plot_main_sel = main_dashboard(ssdf)\n",
    "plot_main_sel.save('dashboard_sel.html')"
   ]
  },
  {
   "cell_type": "code",
   "execution_count": null,
   "metadata": {},
   "outputs": [],
   "source": [
    "p = alt.vconcat()\n",
    "for v in ['hidden_units', 'p_noise', 'learning_rate']:\n",
    "    p &= main_effect_plot(ssdf, v)\n",
    "\n",
    "p.save('main_effect_sel.html')"
   ]
  }
 ],
 "metadata": {
  "kernelspec": {
   "display_name": "Python 3",
   "language": "python",
   "name": "python3"
  },
  "language_info": {
   "codemirror_mode": {
    "name": "ipython",
    "version": 3
   },
   "file_extension": ".py",
   "mimetype": "text/x-python",
   "name": "python",
   "nbconvert_exporter": "python",
   "pygments_lexer": "ipython3",
   "version": "3.5.3"
  }
 },
 "nbformat": 4,
 "nbformat_minor": 4
}
