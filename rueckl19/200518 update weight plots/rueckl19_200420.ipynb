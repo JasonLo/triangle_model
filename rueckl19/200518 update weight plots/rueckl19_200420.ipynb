{
 "cells": [
  {
   "cell_type": "markdown",
   "metadata": {},
   "source": [
    "# Examine Rueckl19 dataset"
   ]
  },
  {
   "cell_type": "code",
   "execution_count": null,
   "metadata": {},
   "outputs": [],
   "source": [
    "%load_ext lab_black\n",
    "import pandas as pd\n",
    "import altair as alt\n",
    "\n",
    "alt.data_transformers.enable(\"default\")\n",
    "alt.data_transformers.disable_max_rows()"
   ]
  },
  {
   "cell_type": "markdown",
   "metadata": {},
   "source": [
    "### Ingest, tidy"
   ]
  },
  {
   "cell_type": "code",
   "execution_count": null,
   "metadata": {},
   "outputs": [],
   "source": [
    "df = pd.read_csv(\"plotdf.csv\", index_col=0)\n",
    "\n",
    "# df['word_acc'] = df[[\n",
    "#     'HF_CON_Accuracy', 'HF_INC_Accuracy', 'LF_CON_Accuracy', 'LF_INC_Accuracy'\n",
    "# ]].mean(axis=1)\n",
    "# df['nonword_acc'] = df[['NW_AMB_Accuracy', 'NW_UN_Accuracy']].mean(axis=1)\n",
    "\n",
    "df[\"word_acc\"] = df[[\"HF_INC_Accuracy\"]].mean(axis=1)\n",
    "df[\"nonword_acc\"] = df[[\"NW_UN_Accuracy\"]].mean(axis=1)\n",
    "\n",
    "df.rename(\n",
    "    columns={\n",
    "        \"ID\": \"code_name\",\n",
    "        \"Trial.Scaled\": \"epoch\",  # Trial scaled renamed to Epoch onward\n",
    "        \"Pnoise\": \"p_noise\",  # group renamed to code_name onward\n",
    "        \"Hidden\": \"hidden_units\",\n",
    "        \"Epsilon\": \"learning_rate\",\n",
    "        \"PhoHid\": \"cleanup_units\",\n",
    "        \"Classification\": \"group\",\n",
    "    },\n",
    "    inplace=True,\n",
    ")\n",
    "\n",
    "df = df[\n",
    "    [\n",
    "        \"code_name\",\n",
    "        \"epoch\",\n",
    "        \"hidden_units\",\n",
    "        \"cleanup_units\",\n",
    "        \"p_noise\",\n",
    "        \"learning_rate\",\n",
    "        \"word_acc\",\n",
    "        \"nonword_acc\",\n",
    "        \"group\",\n",
    "    ]\n",
    "]\n",
    "\n",
    "df = df[\n",
    "    df.p_noise.isin([0, 2, 4, 8])\n",
    "    & df.hidden_units.isin([50, 100, 250])\n",
    "    & df.cleanup_units.isin([20])\n",
    "    & df.learning_rate.isin([0.002, 0.004, 0.006, 0.008, 0.01])\n",
    "]"
   ]
  },
  {
   "cell_type": "markdown",
   "metadata": {},
   "source": [
    "### Are there more than one model in a unique set of setting? Yes..."
   ]
  },
  {
   "cell_type": "code",
   "execution_count": null,
   "metadata": {},
   "outputs": [],
   "source": [
    "def count_models(df):\n",
    "    print(\"There are {} models in the datafile\".format(len(df.code_name.unique())))\n",
    "\n",
    "    dfm = df[\n",
    "        [\"code_name\", \"p_noise\", \"hidden_units\", \"learning_rate\", \"cleanup_units\"]\n",
    "    ].pivot_table(index=\"code_name\")\n",
    "    dfm[\"code_name\"] = dfm.index\n",
    "\n",
    "    pvt = dfm.pivot_table(\n",
    "        index=[\"p_noise\", \"hidden_units\", \"learning_rate\", \"cleanup_units\"],\n",
    "        aggfunc=\"count\",\n",
    "        values=\"code_name\",\n",
    "    )\n",
    "\n",
    "    pvt.reset_index(inplace=True)\n",
    "    pvt.rename(columns={\"code_name\": \"n\"}, inplace=True)\n",
    "\n",
    "    plot_n = (\n",
    "        alt.Chart(pvt)\n",
    "        .mark_rect()\n",
    "        .encode(\n",
    "            x=\"p_noise:O\",\n",
    "            y=\"hidden_units:O\",\n",
    "            row=\"learning_rate:O\",\n",
    "            column=\"cleanup_units:O\",\n",
    "            color=\"n:O\",\n",
    "            tooltip=[\"p_noise\", \"hidden_units\", \"cleanup_units\", \"learning_rate\", \"n\"],\n",
    "        )\n",
    "        .properties(title=\"Model counts\")\n",
    "    )\n",
    "\n",
    "    return plot_n\n",
    "\n",
    "\n",
    "df_upper = df.loc[df.group == \"Upper\"]\n",
    "df_mid = df.loc[df.group == \"Mid\"]\n",
    "df_lower = df.loc[df.group == \"Lower\"]\n",
    "\n",
    "count_by_group = (\n",
    "    count_models(df)\n",
    "    | count_models(df_upper)\n",
    "    | count_models(df_mid)\n",
    "    | count_models(df_lower)\n",
    ")\n",
    "\n",
    "count_by_group.save(\"count_model_selgridall.html\")\n",
    "\n",
    "count_by_group"
   ]
  },
  {
   "cell_type": "markdown",
   "metadata": {},
   "source": [
    "# Variance within cell"
   ]
  },
  {
   "cell_type": "code",
   "execution_count": null,
   "metadata": {},
   "outputs": [],
   "source": [
    "w_acc_variance = (\n",
    "    df[[\"learning_rate\", \"hidden_units\", \"p_noise\", \"epoch\", \"word_acc\"]]\n",
    "    .groupby([\"learning_rate\", \"hidden_units\", \"p_noise\", \"epoch\"])\n",
    "    .std()\n",
    "    .reset_index()\n",
    ")\n",
    "\n",
    "nw_acc_variance = (\n",
    "    df[[\"learning_rate\", \"hidden_units\", \"p_noise\", \"epoch\", \"nonword_acc\"]]\n",
    "    .groupby([\"learning_rate\", \"hidden_units\", \"p_noise\", \"epoch\"])\n",
    "    .std()\n",
    "    .reset_index()\n",
    ")"
   ]
  },
  {
   "cell_type": "code",
   "execution_count": null,
   "metadata": {},
   "outputs": [],
   "source": [
    "# Word accuracy variance\n",
    "\n",
    "owv = (\n",
    "    alt.Chart(w_acc_variance)\n",
    "    .mark_rect()\n",
    "    .encode(\n",
    "        x=\"epoch:O\",\n",
    "        y=\"hidden_units:O\",\n",
    "        row=\"learning_rate:O\",\n",
    "        column=\"p_noise:O\",\n",
    "        color=alt.Color(\"word_acc:Q\", scale=alt.Scale(domain=[0, 0.2])),\n",
    "        tooltip=[\"p_noise\", \"hidden_units\", \"learning_rate\", \"word_acc\"],\n",
    "    )\n",
    ")\n",
    "\n",
    "# Nonword accuracy variance\n",
    "onwv = (\n",
    "    alt.Chart(nw_acc_variance)\n",
    "    .mark_rect()\n",
    "    .encode(\n",
    "        x=\"epoch:O\",\n",
    "        y=\"hidden_units:O\",\n",
    "        row=\"learning_rate:O\",\n",
    "        column=\"p_noise:O\",\n",
    "        color=alt.Color(\"nonword_acc:Q\", scale=alt.Scale(domain=[0, 0.2])),\n",
    "        tooltip=[\"p_noise\", \"hidden_units\", \"learning_rate\", \"nonword_acc\"],\n",
    "    )\n",
    ")\n",
    "\n",
    "(owv & onwv).properties(title=\"old sims word and nonword variance\")"
   ]
  },
  {
   "cell_type": "markdown",
   "metadata": {},
   "source": [
    "# M270 variance"
   ]
  },
  {
   "cell_type": "code",
   "execution_count": null,
   "metadata": {},
   "outputs": [],
   "source": [
    "import pandas as pd\n",
    "import altair as alt\n",
    "\n",
    "df = pd.read_csv(\"../OSP/batch_eval/O2P_m270/bcdf.csv\", index_col=0)"
   ]
  },
  {
   "cell_type": "code",
   "execution_count": null,
   "metadata": {},
   "outputs": [],
   "source": [
    "def plot_std(df, variates, conditions, dv):\n",
    "    \"\"\"\n",
    "    Plot standard deviation of VARIABLE at given CONDITIONS at last time step\n",
    "    \"\"\"\n",
    "    # Select useful data\n",
    "    sel_df = df.loc[\n",
    "        (df.timestep == df.timestep.max()) & df.cond.isin(conditions),\n",
    "        variates + [\"cond\", \"epoch\", dv],\n",
    "    ]\n",
    "\n",
    "    # Calculate standard deveiation in each cell\n",
    "    plot_df = sel_df.groupby(variates + [\"epoch\"]).std().reset_index()\n",
    "\n",
    "    # Plot heatmap\n",
    "    return (\n",
    "        alt.Chart(plot_df)\n",
    "        .mark_rect()\n",
    "        .encode(\n",
    "            x=\"epoch:O\",\n",
    "            y=\"hidden_units:O\",\n",
    "            row=\"learning_rate:O\",\n",
    "            column=\"p_noise:O\",\n",
    "            color=alt.Color(dv, scale=alt.Scale(domain=[0, 0.2])),\n",
    "            tooltip=variates + [dv],\n",
    "        )\n",
    "    )"
   ]
  },
  {
   "cell_type": "code",
   "execution_count": null,
   "metadata": {},
   "outputs": [],
   "source": [
    "variates = [\"hidden_units\", \"learning_rate\", \"p_noise\"]\n",
    "plot_std(df, variates, [\"INC_HF\"], \"acc\")"
   ]
  },
  {
   "cell_type": "code",
   "execution_count": null,
   "metadata": {},
   "outputs": [],
   "source": [
    "plot_std(df, variates, [\"unambiguous\"], \"acc\")"
   ]
  },
  {
   "cell_type": "markdown",
   "metadata": {},
   "source": [
    "# Replicate Fig2."
   ]
  },
  {
   "cell_type": "code",
   "execution_count": null,
   "metadata": {},
   "outputs": [],
   "source": [
    "len(df.code_name.unique())"
   ]
  },
  {
   "cell_type": "code",
   "execution_count": null,
   "metadata": {},
   "outputs": [],
   "source": [
    "sel_group = alt.selection(\n",
    "    type=\"single\",\n",
    "    on=\"click\",\n",
    "    fields=[\"group\"],\n",
    "    bind=alt.binding_radio(options=[\"Upper\", \"Mid\", \"Lower\"], name=\"Classification: \"),\n",
    ")\n",
    "\n",
    "base = (\n",
    "    alt.Chart(df)\n",
    "    .mark_point()\n",
    "    .encode(\n",
    "        y=alt.Y(\"nonword_acc:Q\", scale=alt.Scale(domain=(0, 1))),\n",
    "        x=alt.X(\"word_acc:Q\", scale=alt.Scale(domain=(0, 1))),\n",
    "        color=alt.Color(\n",
    "            \"epoch\", scale=alt.Scale(scheme=\"redyellowgreen\", domain=(0, 1))\n",
    "        ),\n",
    "        opacity=alt.condition(sel_group, alt.value(0.2), alt.value(0)),\n",
    "        tooltip=[\"code_name\", \"epoch\", \"word_acc\", \"nonword_acc\"],\n",
    "    )\n",
    "    .add_selection(sel_group).transform_filter(\n",
    "    genre_select\n",
    ")\n",
    "\n",
    "diagonal = (\n",
    "    alt.Chart(pd.DataFrame({\"x\": [0, 1], \"y\": [0, 1]}))\n",
    "    .mark_line(color=\"black\")\n",
    "    .encode(x=\"x\", y=\"y\")\n",
    ")\n",
    "\n",
    "f2 = diagonal + base\n",
    "f2.save(\"fig2.html\")"
   ]
  },
  {
   "cell_type": "markdown",
   "metadata": {},
   "source": [
    "### Group average plots"
   ]
  },
  {
   "cell_type": "code",
   "execution_count": null,
   "metadata": {},
   "outputs": [],
   "source": [
    "df.columns"
   ]
  },
  {
   "cell_type": "code",
   "execution_count": null,
   "metadata": {},
   "outputs": [],
   "source": [
    "dfg = df.pivot_table(index=[\"group\", \"epoch\"]).reset_index()\n",
    "\n",
    "sel_group = alt.selection(\n",
    "    type=\"single\",\n",
    "    on=\"click\",\n",
    "    fields=[\"group\"],\n",
    "    bind=alt.binding_radio(options=[\"Upper\", \"Mid\", \"Lower\"], name=\"Classification: \"),\n",
    ")\n",
    "\n",
    "base = (\n",
    "    alt.Chart(dfg)\n",
    "    .mark_point()\n",
    "    .encode(\n",
    "        y=alt.Y(\"nonword_acc:Q\", scale=alt.Scale(domain=(0, 1))),\n",
    "        x=alt.X(\"word_acc:Q\", scale=alt.Scale(domain=(0, 1))),\n",
    "        color=alt.Color(\n",
    "            \"epoch\", scale=alt.Scale(scheme=\"redyellowgreen\", domain=(0, 1))\n",
    "        ),\n",
    "        opacity=alt.condition(sel_group, alt.value(1), alt.value(0)),\n",
    "        tooltip=[\"code_name\", \"epoch\", \"word_acc\", \"nonword_acc\"],\n",
    "    )\n",
    "    .add_selection(sel_group)\n",
    ")\n",
    "\n",
    "diagonal = (\n",
    "    alt.Chart(pd.DataFrame({\"x\": [0, 1], \"y\": [0, 1]}))\n",
    "    .mark_line(color=\"black\")\n",
    "    .encode(x=\"x\", y=\"y\")\n",
    ")\n",
    "\n",
    "diagonal + base"
   ]
  },
  {
   "cell_type": "markdown",
   "metadata": {},
   "source": [
    "### Aggregate cell heatmaps"
   ]
  },
  {
   "cell_type": "code",
   "execution_count": null,
   "metadata": {},
   "outputs": [],
   "source": [
    "dfc = df.pivot_table(\n",
    "    index=[\"epoch\", \"hidden_units\", \"cleanup_units\", \"p_noise\", \"learning_rate\"]\n",
    ").reset_index()\n",
    "\n",
    "dfc[\"word_advantage\"] = dfc.word_acc - dfc.nonword_acc"
   ]
  },
  {
   "cell_type": "code",
   "execution_count": null,
   "metadata": {},
   "outputs": [],
   "source": [
    "sel_epoch = alt.selection(\n",
    "    type=\"single\",\n",
    "    on=\"click\",\n",
    "    fields=[\"epoch\"],\n",
    "    bind=alt.binding_radio(options=list(dfc.epoch.unique()), name=\"Epoch: \"),\n",
    ")\n",
    "\n",
    "w = (\n",
    "    alt.Chart(dfc)\n",
    "    .mark_rect()\n",
    "    .encode(\n",
    "        x=\"p_noise:O\",\n",
    "        y=\"hidden_units:O\",\n",
    "        row=\"learning_rate:O\",\n",
    "        column=\"epoch:O\",\n",
    "        color=alt.Color(\n",
    "            \"word_acc\", scale=alt.Scale(scheme=\"redyellowgreen\", domain=(0, 1))\n",
    "        ),\n",
    "        tooltip=[\n",
    "            \"p_noise\",\n",
    "            \"hidden_units\",\n",
    "            \"cleanup_units\",\n",
    "            \"learning_rate\",\n",
    "            \"word_acc\",\n",
    "            \"nonword_acc\",\n",
    "        ],\n",
    "    )\n",
    "    .add_selection(sel_epoch)\n",
    "    .transform_filter(sel_epoch)\n",
    "    .properties(title=\"Word acc\")\n",
    ")\n",
    "\n",
    "w.save(\"heatmap_word.html\")"
   ]
  },
  {
   "cell_type": "code",
   "execution_count": null,
   "metadata": {},
   "outputs": [],
   "source": [
    "nw = (\n",
    "    alt.Chart(dfc)\n",
    "    .mark_rect()\n",
    "    .encode(\n",
    "        x=\"p_noise:O\",\n",
    "        y=\"hidden_units:O\",\n",
    "        row=\"learning_rate:O\",\n",
    "        column=\"epoch:O\",\n",
    "        color=alt.Color(\n",
    "            \"nonword_acc\", scale=alt.Scale(scheme=\"redyellowgreen\", domain=(0, 1))\n",
    "        ),\n",
    "        tooltip=[\n",
    "            \"p_noise\",\n",
    "            \"hidden_units\",\n",
    "            \"cleanup_units\",\n",
    "            \"learning_rate\",\n",
    "            \"word_acc\",\n",
    "            \"nonword_acc\",\n",
    "        ],\n",
    "    )\n",
    "    .add_selection(sel_epoch)\n",
    "    .transform_filter(sel_epoch)\n",
    "    .properties(title=\"Nonword acc\")\n",
    ")\n",
    "\n",
    "nw.save(\"heatmap_nonword.html\")"
   ]
  },
  {
   "cell_type": "code",
   "execution_count": null,
   "metadata": {},
   "outputs": [],
   "source": [
    "wnw = (\n",
    "    alt.Chart(dfc)\n",
    "    .mark_rect()\n",
    "    .encode(\n",
    "        x=\"p_noise:O\",\n",
    "        y=\"hidden_units:O\",\n",
    "        row=\"learning_rate:O\",\n",
    "        column=\"epoch:O\",\n",
    "        color=alt.Color(\n",
    "            \"word_advantage\",\n",
    "            scale=alt.Scale(scheme=\"redyellowgreen\", domain=(-0.3, 0.3)),\n",
    "        ),\n",
    "        tooltip=[\n",
    "            \"p_noise\",\n",
    "            \"hidden_units\",\n",
    "            \"cleanup_units\",\n",
    "            \"learning_rate\",\n",
    "            \"word_acc\",\n",
    "            \"nonword_acc\",\n",
    "        ],\n",
    "    )\n",
    "    .add_selection(sel_epoch)\n",
    "    .transform_filter(sel_epoch)\n",
    "    .properties(title=\"Word advantage (Word - Nonword)\")\n",
    ")\n",
    "\n",
    "wnw.save(\"heatmap_wnw.html\")"
   ]
  },
  {
   "cell_type": "code",
   "execution_count": null,
   "metadata": {},
   "outputs": [],
   "source": [
    "# # Get model level mean word advantage sorting\n",
    "# # Merge it back to cell level df\n",
    "\n",
    "# dfm = dfc.pivot_table(\n",
    "#     index=['hidden_units', 'cleanup_units', 'p_noise', 'learning_rate']\n",
    "# ).reset_index()\n",
    "\n",
    "# dfm['cell_id'] = dfm.index\n",
    "# dfms = dfm.sort_values('word_advantage').reset_index(drop=True)\n",
    "# dfms['sorted_adv'] = dfms.index\n",
    "# dfms = dfms[['code_name', 'cell_id', 'sorted_adv']]\n",
    "\n",
    "# dfc = dfc.merge(dfms, on='code_name')"
   ]
  },
  {
   "cell_type": "code",
   "execution_count": null,
   "metadata": {},
   "outputs": [],
   "source": [
    "dfc_speed = dfc.loc[\n",
    "    dfc.epoch == 0.1,\n",
    "]\n",
    "dfc_speed.sample(5)"
   ]
  },
  {
   "cell_type": "code",
   "execution_count": null,
   "metadata": {},
   "outputs": [],
   "source": [
    "dfc_speed.loc[]"
   ]
  },
  {
   "cell_type": "code",
   "execution_count": null,
   "metadata": {},
   "outputs": [],
   "source": [
    "import statsmodels.api as sm\n",
    "from statsmodels.formula.api import ols\n",
    "\n",
    "model = ols(\n",
    "    \"\"\"\n",
    "    word_acc ~ hidden_units + p_noise + cleanup_units + learning_rate +\n",
    "                hidden_units*p_noise*cleanup_units*learning_rate +\n",
    "                hidden_units*p_noise*cleanup_units \n",
    "    \"\"\",\n",
    "    data=dfc_speed,\n",
    ").fit()\n",
    "\n",
    "sm.stats.anova_lm(model, typ=3).round(4)"
   ]
  },
  {
   "cell_type": "markdown",
   "metadata": {},
   "source": [
    "### P-noise without aggregation"
   ]
  },
  {
   "cell_type": "code",
   "execution_count": null,
   "metadata": {},
   "outputs": [],
   "source": [
    "diagonal = alt.Chart(pd.DataFrame({\n",
    "    'x': [0, 1],\n",
    "    'y': [0, 1]\n",
    "})).mark_line(color='black').encode(x='x', y='y')\n",
    "\n",
    "plot_pnoise = alt.Chart().mark_line().encode(\n",
    "    y=alt.Y(\"nonword_acc:Q\", scale=alt.Scale(domain=(0, 1))),\n",
    "    x=alt.X(\"word_acc:Q\", scale=alt.Scale(domain=(0, 1))),\n",
    "    color=alt.Color(\"p_noise\", type='ordinal', scale=alt.Scale(scheme=\"reds\")),\n",
    "    tooltip=[\n",
    "        \"epoch\", \"hidden_units\", \"cleanup_units\", \"p_noise\", \"learning_rate\",\n",
    "        \"word_acc\", \"nonword_acc\"\n",
    "    ],\n",
    ")\n",
    "\n",
    "alt.layer(diagonal + plot_pnoise,\n",
    "          data=dfc).facet(row=\"hidden_units:O\", column=\"learning_rate:O\")"
   ]
  },
  {
   "cell_type": "markdown",
   "metadata": {},
   "source": [
    "### Hidden units effect"
   ]
  },
  {
   "cell_type": "code",
   "execution_count": null,
   "metadata": {},
   "outputs": [],
   "source": [
    "plot_hidden = alt.Chart().mark_line().encode(\n",
    "    y=alt.Y(\"nonword_acc:Q\", scale=alt.Scale(domain=(0, 1))),\n",
    "    x=alt.X(\"word_acc:Q\", scale=alt.Scale(domain=(0, 1))),\n",
    "    color=alt.Color(\n",
    "        \"hidden_units\", type=\"ordinal\", scale=alt.Scale(scheme=\"blues\")\n",
    "    ),\n",
    "    tooltip=[\n",
    "        \"epoch\", \"hidden_units\", \"cleanup_units\", \"p_noise\", \"learning_rate\",\n",
    "        \"word_acc\", \"nonword_acc\"\n",
    "    ],\n",
    ")\n",
    "\n",
    "alt.layer(diagonal + plot_hidden,\n",
    "          data=dfc).facet(row=\"p_noise:O\", column=\"learning_rate:O\")"
   ]
  },
  {
   "cell_type": "markdown",
   "metadata": {},
   "source": [
    "### Learning rate effect"
   ]
  },
  {
   "cell_type": "code",
   "execution_count": null,
   "metadata": {},
   "outputs": [],
   "source": [
    "plot_lr = alt.Chart().mark_line().encode(\n",
    "    y=alt.Y(\"nonword_acc:Q\", scale=alt.Scale(domain=(0, 1))),\n",
    "    x=alt.X(\"word_acc:Q\", scale=alt.Scale(domain=(0, 1))),\n",
    "    color=alt.Color(\n",
    "        \"learning_rate\", type=\"ordinal\", scale=alt.Scale(scheme=\"greens\")\n",
    "    ),\n",
    "    tooltip=[\n",
    "        \"epoch\", \"hidden_units\", \"cleanup_units\", \"p_noise\", \"learning_rate\",\n",
    "        \"word_acc\", \"nonword_acc\"\n",
    "    ],\n",
    ")\n",
    "\n",
    "alt.layer(diagonal + plot_lr,\n",
    "          data=dfc).facet(row=\"hidden_units:O\", column=\"p_noise:O\")"
   ]
  },
  {
   "cell_type": "markdown",
   "metadata": {},
   "source": [
    "### Dashboard"
   ]
  },
  {
   "cell_type": "code",
   "execution_count": null,
   "metadata": {},
   "outputs": [],
   "source": [
    "def main_dashboard(df):\n",
    "\n",
    "    sel_run = alt.selection(type=\"multi\", on=\"click\", fields=[\"code_name\"])\n",
    "\n",
    "    # df for overview\n",
    "    df_ov = df[df.epoch == df.epoch.max()]\n",
    "\n",
    "    # Shared master over-view\n",
    "    overview = (\n",
    "        alt.Chart(df_ov)\n",
    "        .mark_rect()\n",
    "        .encode(\n",
    "            x=\"p_noise:O\",\n",
    "            y=\"hidden_units:O\",\n",
    "            row=\"learning_rate:O\",\n",
    "            color=alt.Color(\n",
    "                \"word_acc\", scale=alt.Scale(scheme=\"redyellowgreen\", domain=(0, 1))\n",
    "            ),\n",
    "            opacity=alt.condition(sel_run, alt.value(1), alt.value(0.1)),\n",
    "            tooltip=[\n",
    "                \"code_name\",\n",
    "                \"p_noise\",\n",
    "                \"hidden_units\",\n",
    "                \"learning_rate\",\n",
    "                \"word_acc\",\n",
    "                \"nonword_acc\",\n",
    "            ],\n",
    "        )\n",
    "        .add_selection(sel_run)\n",
    "        .properties(title=\"Word accuracy at the end of training\")\n",
    "    )\n",
    "\n",
    "    wnw_mdf = df.melt(\n",
    "        id_vars=[\"code_name\", \"epoch\"],\n",
    "        value_vars=[\"word_acc\", \"nonword_acc\"],\n",
    "        var_name=\"wnw\",\n",
    "        value_name=\"acc\",\n",
    "    )\n",
    "\n",
    "    plot_epoch = (\n",
    "        alt.Chart(wnw_mdf)\n",
    "        .mark_point(size=80)\n",
    "        .encode(\n",
    "            y=alt.Y(\"acc:Q\", scale=alt.Scale(domain=(0, 1))),\n",
    "            x=\"epoch:Q\",\n",
    "            color=alt.Color(\"code_name:N\", legend=None),\n",
    "            shape=\"wnw:N\",\n",
    "            opacity=alt.condition(sel_run, alt.value(1), alt.value(0)),\n",
    "            tooltip=[\"code_name\", \"epoch\", \"acc\"],\n",
    "        )\n",
    "        .add_selection(sel_run)\n",
    "        .properties(title=\"Plot word and nonword accuracy by epoch\")\n",
    "    )\n",
    "\n",
    "    wnw_line = (\n",
    "        alt.Chart(df)\n",
    "        .mark_line()\n",
    "        .encode(\n",
    "            y=alt.Y(\"nonword_acc:Q\", scale=alt.Scale(domain=(0, 1))),\n",
    "            x=alt.X(\"word_acc:Q\", scale=alt.Scale(domain=(0, 1))),\n",
    "            color=alt.Color(\"code_name:N\", legend=None),\n",
    "            opacity=alt.condition(sel_run, alt.value(1), alt.value(0)),\n",
    "            tooltip=[\"code_name\", \"epoch\", \"word_acc\", \"nonword_acc\"],\n",
    "        )\n",
    "    )\n",
    "\n",
    "    wnw_point = wnw_line.mark_point().encode(\n",
    "        color=alt.Color(\"epoch\", scale=alt.Scale(scheme=\"redyellowgreen\"))\n",
    "    )\n",
    "\n",
    "    diagonal = (\n",
    "        alt.Chart(pd.DataFrame({\"x\": [0, 1], \"y\": [0, 1]}))\n",
    "        .mark_line(color=\"black\")\n",
    "        .encode(x=\"x\", y=\"y\")\n",
    "    )\n",
    "\n",
    "    wnw = diagonal + wnw_line + wnw_point\n",
    "\n",
    "    wnw_interactive = wnw.add_selection(sel_run).properties(\n",
    "        title=\"Word vs. Nonword accuracy at final time step\"\n",
    "    )\n",
    "\n",
    "    ### Mini heatmap ###\n",
    "\n",
    "    mini_wadv = (\n",
    "        alt.Chart(df)\n",
    "        .mark_rect()\n",
    "        .encode(\n",
    "            x=\"epoch:O\",\n",
    "            color=alt.Color(\n",
    "                \"word_advantage:Q\",\n",
    "                scale=alt.Scale(scheme=\"redyellowgreen\", domain=(-0.3, 0.3)),\n",
    "            ),\n",
    "            opacity=alt.condition(sel_run, alt.value(1), alt.value(0)),\n",
    "            tooltip=[\"word_acc\", \"nonword_acc\", \"word_advantage\"],\n",
    "        )\n",
    "        .properties(title=\"Word - Nonword\")\n",
    "    )\n",
    "\n",
    "    return overview | (plot_epoch & mini_wadv) | wnw_interactive\n",
    "\n",
    "\n",
    "main_plot = main_dashboard(dfc)\n",
    "main_plot.save(\"dashboard_all.html\")"
   ]
  },
  {
   "cell_type": "code",
   "execution_count": null,
   "metadata": {},
   "outputs": [],
   "source": [
    "main_plot"
   ]
  }
 ],
 "metadata": {
  "environment": {
   "name": "tf2-gpu.2-1.m46",
   "type": "gcloud",
   "uri": "gcr.io/deeplearning-platform-release/tf2-gpu.2-1:m46"
  },
  "kernelspec": {
   "display_name": "Python 3",
   "language": "python",
   "name": "python3"
  },
  "language_info": {
   "codemirror_mode": {
    "name": "ipython",
    "version": 3
   },
   "file_extension": ".py",
   "mimetype": "text/x-python",
   "name": "python",
   "nbconvert_exporter": "python",
   "pygments_lexer": "ipython3",
   "version": "3.7.6"
  }
 },
 "nbformat": 4,
 "nbformat_minor": 4
}
