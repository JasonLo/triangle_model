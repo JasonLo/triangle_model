{
 "cells": [
  {
   "cell_type": "markdown",
   "metadata": {},
   "source": [
    "# Individual differences (part 3)"
   ]
  },
  {
   "cell_type": "code",
   "execution_count": null,
   "metadata": {},
   "outputs": [],
   "source": [
    "%load_ext lab_black\n",
    "import pandas as pd\n",
    "import numpy as np\n",
    "import altair as alt\n",
    "import helper\n",
    "from altair.expr import datum\n",
    "from IPython.display import clear_output\n",
    "from tqdm import tqdm\n",
    "\n",
    "alt.data_transformers.disable_max_rows()"
   ]
  },
  {
   "cell_type": "markdown",
   "metadata": {},
   "source": [
    "### Import parsed datafile"
   ]
  },
  {
   "cell_type": "code",
   "execution_count": null,
   "metadata": {},
   "outputs": [],
   "source": [
    "sim2 = helper.parse_from_file(\"../sims/part3_1750.csv\")\n",
    "sim2 = helper.SimResults(sim2)\n",
    "sim2.select_by_cond([\"HF_INC\", \"NW_UN\"])\n",
    "sim2.df.columns"
   ]
  },
  {
   "cell_type": "markdown",
   "metadata": {},
   "source": [
    "### Heatmap for overview"
   ]
  },
  {
   "cell_type": "code",
   "execution_count": null,
   "metadata": {},
   "outputs": [],
   "source": [
    "sim2.plot_heatmap_wadv(mode=\"dev\").save(\"wadv_development.html\")\n",
    "sim2.plot_heatmap_wadv(mode=\"per\").save(\"wadv_performance.html\")"
   ]
  },
  {
   "cell_type": "markdown",
   "metadata": {},
   "source": [
    "### Plot main effect in  performance space"
   ]
  },
  {
   "cell_type": "code",
   "execution_count": null,
   "metadata": {},
   "outputs": [],
   "source": [
    "sim2.plot_performance_multiline(var=\"p_noise\", color=\"reds\").save(\n",
    "    \"performance_pnoise_main.html\"\n",
    ")\n",
    "sim2.plot_performance_multiline(var=\"hidden_units\", color=\"blues\").save(\n",
    "    \"performance_hidden_main.html\"\n",
    ")\n",
    "sim2.plot_performance_multiline(var=\"learning_rate\", color=\"greens\").save(\n",
    "    \"performance_epsilon_main.html\"\n",
    ")"
   ]
  },
  {
   "cell_type": "markdown",
   "metadata": {},
   "source": [
    "### Plot interactions in performance space (P-noise as focus)"
   ]
  },
  {
   "cell_type": "code",
   "execution_count": null,
   "metadata": {},
   "outputs": [],
   "source": [
    "plot = alt.hconcat()\n",
    "for h in tqdm(np.sort(sim2.df.hidden_units.unique())[::-1]):\n",
    "    plot_row = alt.vconcat()\n",
    "    for l in np.sort(sim2.df.learning_rate.unique())[::-1]:\n",
    "        tmp = helper.parse_from_file(\"../sims/part3_1750.csv\")\n",
    "        tmp = helper.SimResults(tmp)\n",
    "        tmp.select_by_cond([\"HF_INC\", \"NW_UN\"], verbose=False)\n",
    "        tmp.select_by_control(hidden_units=[h], learning_rate=[l], verbose=False)\n",
    "        plot_row |= tmp.plot_performance_multiline(\n",
    "            var=\"p_noise\", color=\"reds\"\n",
    "        ).properties(title=f\"hidden = {h}, epsilon = {l}\")\n",
    "\n",
    "    plot &= plot_row\n",
    "\n",
    "plot.save(\"performance_pnoise_interaction.html\")"
   ]
  },
  {
   "cell_type": "markdown",
   "metadata": {},
   "source": [
    "### Plot interactions in performance space (Hidden as focus)"
   ]
  },
  {
   "cell_type": "code",
   "execution_count": null,
   "metadata": {},
   "outputs": [],
   "source": [
    "plot = alt.hconcat()\n",
    "for p in tqdm(np.sort(sim2.df.p_noise.unique())):\n",
    "    plot_row = alt.vconcat()\n",
    "    for l in np.sort(sim2.df.learning_rate.unique())[::-1]:\n",
    "        tmp = helper.parse_from_file(\"../sims/part3_1750.csv\")\n",
    "        tmp = helper.SimResults(tmp)\n",
    "        tmp.select_by_cond([\"HF_INC\", \"NW_UN\"], verbose=False)\n",
    "        tmp.select_by_control(p_noise=[p], learning_rate=[l], verbose=False)\n",
    "        plot_row |= tmp.plot_performance_multiline(\n",
    "            var=\"hidden_units\", color=\"blues\"\n",
    "        ).properties(title=f\"p-noise = {p}, epsilon = {l}\")\n",
    "\n",
    "    plot &= plot_row\n",
    "\n",
    "plot.save(\"performance_hidden_interaction.html\")"
   ]
  },
  {
   "cell_type": "markdown",
   "metadata": {},
   "source": [
    "### Plot interactions in performance space (Epsilon as focus)"
   ]
  },
  {
   "cell_type": "code",
   "execution_count": null,
   "metadata": {},
   "outputs": [],
   "source": [
    "plot = alt.hconcat()\n",
    "for p in tqdm(np.sort(sim2.df.p_noise.unique())):\n",
    "    plot_row = alt.vconcat()\n",
    "    for h in np.sort(sim2.df.hidden_units.unique())[::-1]:\n",
    "        tmp = helper.parse_from_file(\"../sims/part3_1750.csv\")\n",
    "        tmp = helper.SimResults(tmp)\n",
    "        tmp.select_by_cond([\"HF_INC\", \"NW_UN\"], verbose=False)\n",
    "        tmp.select_by_control(p_noise=[p], hidden_units=[h], verbose=False)\n",
    "        plot_row |= tmp.plot_performance_multiline(\n",
    "            var=\"learning_rate\", color=\"greens\"\n",
    "        ).properties(title=f\"p-noise = {p}, hidden = {h}\")\n",
    "        clear_output(wait=True)\n",
    "\n",
    "    plot &= plot_row\n",
    "\n",
    "plot.save(\"performance_epsilon_interaction.html\")"
   ]
  },
  {
   "cell_type": "code",
   "execution_count": null,
   "metadata": {},
   "outputs": [],
   "source": []
  }
 ],
 "metadata": {
  "environment": {
   "name": "tf2-2-2-gpu.2-2.m50",
   "type": "gcloud",
   "uri": "gcr.io/deeplearning-platform-release/tf2-2-2-gpu.2-2:m50"
  },
  "kernelspec": {
   "display_name": "Python 3",
   "language": "python",
   "name": "python3"
  },
  "language_info": {
   "codemirror_mode": {
    "name": "ipython",
    "version": 3
   },
   "file_extension": ".py",
   "mimetype": "text/x-python",
   "name": "python",
   "nbconvert_exporter": "python",
   "pygments_lexer": "ipython3",
   "version": "3.7.6"
  }
 },
 "nbformat": 4,
 "nbformat_minor": 4
}
