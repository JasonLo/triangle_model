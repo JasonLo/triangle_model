{
 "cells": [
  {
   "cell_type": "code",
   "execution_count": null,
   "metadata": {},
   "outputs": [],
   "source": [
    "%load_ext lab_black\n",
    "import pandas as pd\n",
    "import numpy as np\n",
    "import altair as alt\n",
    "from altair.expr import datum\n",
    "import helper"
   ]
  },
  {
   "cell_type": "code",
   "execution_count": null,
   "metadata": {},
   "outputs": [],
   "source": [
    "df_1250 = helper.parse_from_file(\"../sims/1250_sims.csv\")\n",
    "sim1 = helper.SimResults(df_1250)\n",
    "sim1.df.columns"
   ]
  },
  {
   "cell_type": "markdown",
   "metadata": {},
   "source": [
    "# Make a interactive plot for all h-cell"
   ]
  },
  {
   "cell_type": "code",
   "execution_count": null,
   "metadata": {},
   "outputs": [],
   "source": [
    "sim1.interactive = (\n",
    "    sim1.plot_control_space(with_cleanup=True)\n",
    "    & (\n",
    "        sim1.plot_mean_dev(show_sd=False, interactive=True, baseline=None)\n",
    "        | sim1._interactive_wnw(baseline=None)\n",
    "    )\n",
    ").properties(title=f\"Sim 1 interactive plot (n = {len(sim1.df.code_name.unique())})\")\n",
    "\n",
    "sim1.interactive.save(\"sim1_interactive.html\")"
   ]
  },
  {
   "cell_type": "markdown",
   "metadata": {},
   "source": [
    "# Make the figures that will be use in draft results"
   ]
  },
  {
   "cell_type": "markdown",
   "metadata": {},
   "source": [
    "### Figure 1: EoT ACC"
   ]
  },
  {
   "cell_type": "code",
   "execution_count": null,
   "metadata": {},
   "outputs": [],
   "source": [
    "def draw_figure1(df, font_size=18):\n",
    "    p = (\n",
    "        alt.Chart(df)\n",
    "        .mark_rect()\n",
    "        .encode(\n",
    "            x=alt.X(\"p_noise:O\", title=\"P-noise\"),\n",
    "            y=alt.Y(\"hidden_units:O\", sort=\"descending\", title=\"Hidden\"),\n",
    "            column=alt.Column(\"learning_rate:O\", sort=\"descending\", title=\"Epsilon\"),\n",
    "            row=alt.Row(\"cleanup_units:O\", sort=\"descending\", title=\"Cleanup\"),\n",
    "            color=alt.Color(\n",
    "                \"score\",\n",
    "                scale=alt.Scale(scheme=\"redyellowgreen\", domain=(0, 1)),\n",
    "                title=\"Accuracy\",\n",
    "            ),\n",
    "            tooltip=[\"score\"],\n",
    "        )\n",
    "        .configure_axis(labelFontSize=font_size, titleFontSize=font_size)\n",
    "        .configure_header(labelFontSize=font_size, titleFontSize=font_size)\n",
    "        .configure_legend(labelFontSize=font_size, titleFontSize=font_size)\n",
    "    )\n",
    "\n",
    "    return p"
   ]
  },
  {
   "cell_type": "markdown",
   "metadata": {},
   "source": [
    "#### figure 1a"
   ]
  },
  {
   "cell_type": "code",
   "execution_count": null,
   "metadata": {},
   "outputs": [],
   "source": [
    "df_eot_word = (\n",
    "    sim1.df.loc[(sim1.df.epoch == 1) & (sim1.df.type == \"word\"),]\n",
    "    .groupby([\"cell_code\", \"hidden_units\", \"cleanup_units\", \"p_noise\", \"learning_rate\"])\n",
    "    .mean()\n",
    "    .reset_index()\n",
    ")\n",
    "\n",
    "draw_figure1(df_eot_word).save(\"part1 plots/fig1a.html\")"
   ]
  },
  {
   "cell_type": "markdown",
   "metadata": {},
   "source": [
    "#### figure 1b"
   ]
  },
  {
   "cell_type": "code",
   "execution_count": null,
   "metadata": {},
   "outputs": [],
   "source": [
    "df_eot_nonword = (\n",
    "    sim1.df.loc[(sim1.df.epoch == 1) & (sim1.df.type == \"nonword\"),]\n",
    "    .groupby([\"cell_code\", \"hidden_units\", \"cleanup_units\", \"p_noise\", \"learning_rate\"])\n",
    "    .mean()\n",
    "    .reset_index()\n",
    ")\n",
    "\n",
    "draw_figure1(df_eot_nonword).save(\"part1 plots/fig1b.html\")"
   ]
  },
  {
   "cell_type": "markdown",
   "metadata": {},
   "source": [
    "#### Appendix figure 1: each condition"
   ]
  },
  {
   "cell_type": "code",
   "execution_count": null,
   "metadata": {},
   "outputs": [],
   "source": [
    "for c in sim1.df.cond.unique():\n",
    "    tmp_df = (\n",
    "        sim1.df.loc[(sim1.df.epoch == 1) & (sim1.df.cond == c),]\n",
    "        .groupby(\n",
    "            [\"cell_code\", \"hidden_units\", \"cleanup_units\", \"p_noise\", \"learning_rate\",]\n",
    "        )\n",
    "        .mean()\n",
    "        .reset_index()\n",
    "    )\n",
    "\n",
    "    draw_figure1(tmp_df).save(f\"part1 plots/appendix_fig1_{c}.html\")"
   ]
  },
  {
   "cell_type": "markdown",
   "metadata": {},
   "source": [
    "### Figure 2: Acc over epoch"
   ]
  },
  {
   "cell_type": "code",
   "execution_count": null,
   "metadata": {},
   "outputs": [],
   "source": [
    "def draw_figure2(df, color=\"cond:N\", color_label=\"Condition\", font_size=18):\n",
    "    p = (\n",
    "        alt.Chart(df)\n",
    "        .mark_line()\n",
    "        .encode(\n",
    "            x=alt.X(\"epoch:Q\", title=\"Sample (M)\"),\n",
    "            y=alt.Y(\"score:Q\", title=\"Accuracy\", scale=alt.Scale(domain=(0, 1))),\n",
    "            color=alt.Color(color, legend=alt.Legend(orient=\"top\"), title=color_label),\n",
    "        )\n",
    "        .configure_axis(labelFontSize=font_size, titleFontSize=font_size)\n",
    "        .configure_header(labelFontSize=font_size, titleFontSize=font_size)\n",
    "        .configure_legend(labelFontSize=font_size, titleFontSize=font_size)\n",
    "    )\n",
    "\n",
    "    return p"
   ]
  },
  {
   "cell_type": "markdown",
   "metadata": {},
   "source": [
    "#### Figure 2a"
   ]
  },
  {
   "cell_type": "code",
   "execution_count": null,
   "metadata": {},
   "outputs": [],
   "source": [
    "df_dev_wcond = (\n",
    "    sim1.df.loc[sim1.df.type == \"word\",].groupby([\"cond\", \"epoch\"]).mean().reset_index()\n",
    ")\n",
    "\n",
    "draw_figure2(df_dev_wcond).save(\"part1 plots/fig2a.html\")"
   ]
  },
  {
   "cell_type": "markdown",
   "metadata": {},
   "source": [
    "#### Figure 2b"
   ]
  },
  {
   "cell_type": "code",
   "execution_count": null,
   "metadata": {},
   "outputs": [],
   "source": [
    "df_dev_type = sim1.df.groupby([\"type\", \"epoch\"]).mean().reset_index()\n",
    "draw_figure2(df_dev_type, color=\"type:N\").save(\"part1 plots/fig2b.html\")"
   ]
  },
  {
   "cell_type": "markdown",
   "metadata": {},
   "source": [
    "#### Figure 2c"
   ]
  },
  {
   "cell_type": "code",
   "execution_count": null,
   "metadata": {},
   "outputs": [],
   "source": [
    "df_dev_hfinc_nwun = (\n",
    "    sim1.df.loc[sim1.df.cond.isin([\"HF_INC\", \"NW_UN\"])]\n",
    "    .groupby([\"cond\", \"epoch\"])\n",
    "    .mean()\n",
    "    .reset_index()\n",
    ")\n",
    "\n",
    "draw_figure2(df_dev_hfinc_nwun).save(\"part1 plots/fig2c.html\")"
   ]
  },
  {
   "cell_type": "markdown",
   "metadata": {},
   "source": [
    "### Figure 3: Heatmap word accuracy over epoch"
   ]
  },
  {
   "cell_type": "code",
   "execution_count": null,
   "metadata": {},
   "outputs": [],
   "source": [
    "def draw_figure3(df, font_size=18):\n",
    "    \"\"\" Heatmap h-grid over epoch\n",
    "    Figure 3 is basically the same as figure 4\"\"\"\n",
    "    p = (\n",
    "        alt.Chart(df)\n",
    "        .mark_rect()\n",
    "        .encode(\n",
    "            x=alt.X(\"p_noise:O\", title=\"P-noise\"),\n",
    "            y=alt.Y(\"hidden_units:O\", sort=\"descending\", title=\"Hidden\"),\n",
    "            column=alt.Column(\"epoch:O\", title=\"Sample (M)\"),\n",
    "            row=alt.Row(\"learning_rate:O\", sort=\"descending\", title=\"Epsilon\"),\n",
    "            color=alt.Color(\n",
    "                \"score\",\n",
    "                scale=alt.Scale(scheme=\"redyellowgreen\", domain=(0, 1)),\n",
    "                title=\"Accuracy\",\n",
    "            ),\n",
    "            tooltip=[\"score\"],\n",
    "        )\n",
    "        .configure_axis(labelFontSize=font_size, titleFontSize=font_size)\n",
    "        .configure_header(labelFontSize=font_size, titleFontSize=font_size)\n",
    "        .configure_legend(labelFontSize=font_size, titleFontSize=font_size)\n",
    "    )\n",
    "\n",
    "    return p"
   ]
  },
  {
   "cell_type": "code",
   "execution_count": null,
   "metadata": {},
   "outputs": [],
   "source": [
    "sel_epoch = [0.01, 0.03, 0.05, 0.07, 0.09, 0.2, 0.4, 0.6, 0.8, 1.0]\n",
    "\n",
    "df_dev_word = (\n",
    "    sim1.df.loc[(sim1.df.epoch.isin(sel_epoch)) & (sim1.df.type == \"word\"),]\n",
    "    .groupby([\"cell_code\", \"hidden_units\", \"p_noise\", \"learning_rate\", \"epoch\",])\n",
    "    .mean()\n",
    "    .reset_index()\n",
    ")\n",
    "\n",
    "draw_figure3(df_dev_word).save(\"part1 plots/fig3.html\")"
   ]
  },
  {
   "cell_type": "markdown",
   "metadata": {},
   "source": [
    "### Figure 4: Heatmap nonword accuracy over epoch"
   ]
  },
  {
   "cell_type": "code",
   "execution_count": null,
   "metadata": {},
   "outputs": [],
   "source": [
    "sel_epoch = [0.01, 0.03, 0.05, 0.07, 0.09, 0.2, 0.4, 0.6, 0.8, 1.0]\n",
    "\n",
    "df_dev_nonword = (\n",
    "    sim1.df.loc[(sim1.df.epoch.isin(sel_epoch)) & (sim1.df.type == \"nonword\")]\n",
    "    .groupby([\"cell_code\", \"hidden_units\", \"p_noise\", \"learning_rate\", \"epoch\",])\n",
    "    .mean()\n",
    "    .reset_index()\n",
    ")\n",
    "\n",
    "draw_figure3(df_dev_nonword).save(\"part1 plots/fig4.html\")"
   ]
  },
  {
   "cell_type": "code",
   "execution_count": null,
   "metadata": {},
   "outputs": [],
   "source": []
  }
 ],
 "metadata": {
  "environment": {
   "name": "tf2-2-2-gpu.2-2.m50",
   "type": "gcloud",
   "uri": "gcr.io/deeplearning-platform-release/tf2-2-2-gpu.2-2:m50"
  },
  "kernelspec": {
   "display_name": "Python 3",
   "language": "python",
   "name": "python3"
  },
  "language_info": {
   "codemirror_mode": {
    "name": "ipython",
    "version": 3
   },
   "file_extension": ".py",
   "mimetype": "text/x-python",
   "name": "python",
   "nbconvert_exporter": "python",
   "pygments_lexer": "ipython3",
   "version": "3.7.6"
  }
 },
 "nbformat": 4,
 "nbformat_minor": 4
}
