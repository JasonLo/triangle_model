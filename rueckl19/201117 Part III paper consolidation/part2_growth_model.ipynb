{
 "cells": [
  {
   "cell_type": "code",
   "execution_count": null,
   "metadata": {},
   "outputs": [],
   "source": [
    "%load_ext lab_black\n",
    "import pandas as pd\n",
    "import numpy as np\n",
    "import altair as alt\n",
    "import helper"
   ]
  },
  {
   "cell_type": "code",
   "execution_count": null,
   "metadata": {},
   "outputs": [],
   "source": [
    "df = pd.read_csv(\"../200520 New data from JZ/req1_results.csv\", index_col=0)\n",
    "df[\"learning_rate\"] = df.learning_rate.round(3)\n",
    "df[\"growth\"] = np.log(df.k + 1)\n",
    "df.columns"
   ]
  },
  {
   "cell_type": "code",
   "execution_count": null,
   "metadata": {},
   "outputs": [],
   "source": [
    "df.cond.unique()"
   ]
  },
  {
   "cell_type": "markdown",
   "metadata": {},
   "source": [
    "### figure 5-7: Plotting growth parameters"
   ]
  },
  {
   "cell_type": "code",
   "execution_count": null,
   "metadata": {},
   "outputs": [],
   "source": [
    "def draw_growth_pars(df, color, color_label, scheme, domain, font_size=18):\n",
    "\n",
    "    p = (\n",
    "        alt.Chart(df)\n",
    "        .mark_rect()\n",
    "        .encode(\n",
    "            x=alt.X(\"p_noise:O\", title=\"P-noise\"),\n",
    "            y=alt.Y(\"hidden_units:O\", sort=\"descending\", title=\"Hidden\"),\n",
    "            column=alt.Column(\"cleanup_units:O\", sort=\"descending\", title=\"Cleanup\"),\n",
    "            row=alt.Row(\"learning_rate:O\", sort=\"descending\", title=\"Epsilon\"),\n",
    "            color=alt.Color(\n",
    "                color, scale=alt.Scale(scheme=scheme, domain=domain), title=color_label,\n",
    "            ),\n",
    "        )\n",
    "        .configure_axis(labelFontSize=font_size, titleFontSize=font_size)\n",
    "        .configure_header(labelFontSize=font_size, titleFontSize=font_size)\n",
    "        .configure_legend(labelFontSize=font_size, titleFontSize=font_size)\n",
    "    )\n",
    "\n",
    "    return p"
   ]
  },
  {
   "cell_type": "code",
   "execution_count": null,
   "metadata": {},
   "outputs": [],
   "source": [
    "df_growth_word = (\n",
    "    df.loc[df.cond.isin([\"HF_CON\", \"LF_CON\", \"HF_INC\", \"LF_INC\"]),]\n",
    "    .groupby([\"hidden_units\", \"cleanup_units\", \"p_noise\", \"learning_rate\"])\n",
    "    .mean()\n",
    "    .reset_index()\n",
    ")\n",
    "\n",
    "df_growth_nonword = (\n",
    "    df.loc[df.cond.isin([\"NW_UN\", \"NW_AMB\"]),]\n",
    "    .groupby([\"hidden_units\", \"cleanup_units\", \"p_noise\", \"learning_rate\"])\n",
    "    .mean()\n",
    "    .reset_index()\n",
    ")\n",
    "\n",
    "assert len(df_growth_word) == 5 ** 4\n",
    "assert len(df_growth_nonword) == 5 ** 4"
   ]
  },
  {
   "cell_type": "markdown",
   "metadata": {},
   "source": [
    "#### Fig 5a"
   ]
  },
  {
   "cell_type": "code",
   "execution_count": null,
   "metadata": {},
   "outputs": [],
   "source": [
    "draw_growth_pars(\n",
    "    df_growth_word,\n",
    "    color=\"max_acc\",\n",
    "    color_label=\"Asymtote\",\n",
    "    scheme=\"redyellowgreen\",\n",
    "    domain=(0, 1),\n",
    ").save(\"part2 plots/fig5a.html\")"
   ]
  },
  {
   "cell_type": "markdown",
   "metadata": {},
   "source": [
    "#### Fig 5b"
   ]
  },
  {
   "cell_type": "code",
   "execution_count": null,
   "metadata": {},
   "outputs": [],
   "source": [
    "draw_growth_pars(\n",
    "    df_growth_nonword,\n",
    "    color=\"max_acc\",\n",
    "    color_label=\"Asymtote\",\n",
    "    scheme=\"redyellowgreen\",\n",
    "    domain=(0, 1),\n",
    ").save(\"part2 plots/fig5b.html\")"
   ]
  },
  {
   "cell_type": "markdown",
   "metadata": {},
   "source": [
    "#### Fig 6a"
   ]
  },
  {
   "cell_type": "code",
   "execution_count": null,
   "metadata": {},
   "outputs": [],
   "source": [
    "draw_growth_pars(\n",
    "    df_growth_word,\n",
    "    color=\"growth\",\n",
    "    color_label=\"Growth (Log)\",\n",
    "    scheme=\"redyellowblue\",\n",
    "    domain=(1, 4),\n",
    ").save(\"part2 plots/fig6a.html\")"
   ]
  },
  {
   "cell_type": "markdown",
   "metadata": {},
   "source": [
    "#### Fig 6b"
   ]
  },
  {
   "cell_type": "code",
   "execution_count": null,
   "metadata": {},
   "outputs": [],
   "source": [
    "draw_growth_pars(\n",
    "    df_growth_nonword,\n",
    "    color=\"growth\",\n",
    "    color_label=\"Growth (Log)\",\n",
    "    scheme=\"redyellowblue\",\n",
    "    domain=(1, 4),\n",
    ").save(\"part2 plots/fig6b.html\")"
   ]
  },
  {
   "cell_type": "markdown",
   "metadata": {},
   "source": [
    "#### Fig 7a"
   ]
  },
  {
   "cell_type": "code",
   "execution_count": null,
   "metadata": {},
   "outputs": [],
   "source": [
    "draw_growth_pars(\n",
    "    df_growth_word,\n",
    "    color=\"x0\",\n",
    "    color_label=\"X-intercept\",\n",
    "    scheme=\"lightmulti\",\n",
    "    domain=(0, 0.4),\n",
    ").save(\"part2 plots/fig7a.html\")"
   ]
  },
  {
   "cell_type": "markdown",
   "metadata": {},
   "source": [
    "#### Fig 7b"
   ]
  },
  {
   "cell_type": "code",
   "execution_count": null,
   "metadata": {},
   "outputs": [],
   "source": [
    "draw_growth_pars(\n",
    "    df_growth_nonword,\n",
    "    color=\"x0\",\n",
    "    color_label=\"X-intercept\",\n",
    "    scheme=\"lightmulti\",\n",
    "    domain=(0, 0.4),\n",
    ").save(\"part2 plots/fig7b.html\")"
   ]
  }
 ],
 "metadata": {
  "environment": {
   "name": "tf2-2-2-gpu.2-2.m50",
   "type": "gcloud",
   "uri": "gcr.io/deeplearning-platform-release/tf2-2-2-gpu.2-2:m50"
  },
  "kernelspec": {
   "display_name": "Python 3",
   "language": "python",
   "name": "python3"
  },
  "language_info": {
   "codemirror_mode": {
    "name": "ipython",
    "version": 3
   },
   "file_extension": ".py",
   "mimetype": "text/x-python",
   "name": "python",
   "nbconvert_exporter": "python",
   "pygments_lexer": "ipython3",
   "version": "3.7.6"
  }
 },
 "nbformat": 4,
 "nbformat_minor": 4
}
