{
 "cells": [
  {
   "cell_type": "markdown",
   "metadata": {},
   "source": [
    "# Individual differences (part 3)"
   ]
  },
  {
   "cell_type": "code",
   "execution_count": null,
   "metadata": {},
   "outputs": [],
   "source": [
    "%load_ext lab_black\n",
    "import helper"
   ]
  },
  {
   "cell_type": "markdown",
   "metadata": {},
   "source": [
    "### Import parsed datafile"
   ]
  },
  {
   "cell_type": "code",
   "execution_count": null,
   "metadata": {},
   "outputs": [],
   "source": [
    "sim2 = helper.parse_from_file(\"../sims/part3_1750.csv\")\n",
    "sim2 = helper.SimResults(sim2)\n",
    "sim2.df = sim2.df.loc[sim2.df.risk_count >= 1]\n",
    "sim2.df.columns"
   ]
  },
  {
   "cell_type": "markdown",
   "metadata": {},
   "source": [
    "### Baseline definition"
   ]
  },
  {
   "cell_type": "code",
   "execution_count": null,
   "metadata": {},
   "outputs": [],
   "source": [
    "df_1520 = helper.parse_from_file(\"../sims/1520_sims.csv\")\n",
    "baseline = helper.SimResults(df_1520)\n",
    "baseline.select_by_control(\n",
    "    hidden_units=[100, 150, 200],\n",
    "    p_noise=[1, 2, 3],\n",
    "    learning_rate=[0.004, 0.006, 0.008],\n",
    "    cleanup_units=[20],\n",
    ")"
   ]
  },
  {
   "cell_type": "markdown",
   "metadata": {},
   "source": [
    "#### SD in baseline"
   ]
  },
  {
   "cell_type": "code",
   "execution_count": null,
   "metadata": {},
   "outputs": [],
   "source": [
    "df_1520 = helper.parse_from_file(\"../sims/1520_sims.csv\")\n",
    "sd_df = helper.SimResults(df_1520)\n",
    "sd_df.select_by_control(\n",
    "    hidden_units=[100, 150, 200],\n",
    "    p_noise=[1, 2, 3],\n",
    "    learning_rate=[0.004, 0.006, 0.008],\n",
    "    cleanup_units=[20],\n",
    ")\n",
    "\n",
    "sd_df.select_by_cond([\"HF_INC\", \"HF_CON\", \"LF_INC\", \"LF_CON\"])\n",
    "sd_df.plot_mean_dev(show_sd=True, by_cond=False).properties(\n",
    "    title=\"Mean and SD of word accuracy (all 4 conditions) over Epoch in Baseline\"\n",
    ").save(\"baseline_dev.html\")\n",
    "\n",
    "print(\n",
    "    f\"These conditions are included when calculating baseline: {sd_df.df.cond.unique()}\"\n",
    ")"
   ]
  },
  {
   "cell_type": "markdown",
   "metadata": {},
   "source": [
    "### Reading disability grouping"
   ]
  },
  {
   "cell_type": "code",
   "execution_count": null,
   "metadata": {},
   "outputs": [],
   "source": [
    "rd = helper.RDGrouping(sim2.df, baseline.df)"
   ]
  },
  {
   "cell_type": "markdown",
   "metadata": {},
   "source": [
    "### Raw score / percentage / z-score over epoch"
   ]
  },
  {
   "cell_type": "code",
   "execution_count": null,
   "metadata": {},
   "outputs": [],
   "source": [
    "rd.plot_heatmap(\"score\").save(\"epoch_score.html\")\n",
    "rd.plot_heatmap(\"pc\").save(\"epoch_pc.html\")\n",
    "rd.plot_heatmap(\"z_deviance\").save(\"epoch_z.html\")"
   ]
  },
  {
   "cell_type": "markdown",
   "metadata": {},
   "source": [
    "### Interactive cutoff"
   ]
  },
  {
   "cell_type": "code",
   "execution_count": null,
   "metadata": {},
   "outputs": [],
   "source": [
    "rd.plot_interactive_group_heatmap(version=\"z\").save(\"grouping_z.html\")\n",
    "rd.plot_interactive_group_heatmap(version=\"pc\").save(\"grouping_pc.html\")"
   ]
  }
 ],
 "metadata": {
  "environment": {
   "name": "tf2-2-2-gpu.2-2.m50",
   "type": "gcloud",
   "uri": "gcr.io/deeplearning-platform-release/tf2-2-2-gpu.2-2:m50"
  },
  "kernelspec": {
   "display_name": "Python 3",
   "language": "python",
   "name": "python3"
  },
  "language_info": {
   "codemirror_mode": {
    "name": "ipython",
    "version": 3
   },
   "file_extension": ".py",
   "mimetype": "text/x-python",
   "name": "python",
   "nbconvert_exporter": "python",
   "pygments_lexer": "ipython3",
   "version": "3.7.6"
  }
 },
 "nbformat": 4,
 "nbformat_minor": 4
}
