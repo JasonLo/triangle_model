{
 "cells": [
  {
   "cell_type": "markdown",
   "metadata": {},
   "source": [
    "# Individual differences (part 3)"
   ]
  },
  {
   "cell_type": "code",
   "execution_count": null,
   "metadata": {},
   "outputs": [],
   "source": [
    "%load_ext lab_black\n",
    "import helper\n",
    "import altair as alt"
   ]
  },
  {
   "cell_type": "markdown",
   "metadata": {},
   "source": [
    "### Import parsed datafile"
   ]
  },
  {
   "cell_type": "code",
   "execution_count": null,
   "metadata": {},
   "outputs": [],
   "source": [
    "sim1 = helper.parse_from_file(\"../sims/1250_sims.csv\")\n",
    "baseline = helper.SimResults(sim1)\n",
    "baseline.select_by_control(\n",
    "    hidden_units=[100, 150, 200],\n",
    "    p_noise=[1, 2, 3],\n",
    "    learning_rate=[0.004, 0.006, 0.008],\n",
    "    cleanup_units=[20],\n",
    ")\n",
    "baseline.df.columns"
   ]
  },
  {
   "cell_type": "markdown",
   "metadata": {},
   "source": [
    "#### Baseline development"
   ]
  },
  {
   "cell_type": "code",
   "execution_count": null,
   "metadata": {},
   "outputs": [],
   "source": [
    "base_dev_df = (\n",
    "    baseline.df.loc[baseline.df.cond.isin([\"HF_INC\", \"NW_UN\"])]\n",
    "    .groupby([\"cond\", \"epoch\"])\n",
    "    .mean()\n",
    "    .reset_index()\n",
    ")\n",
    "\n",
    "base_dev = (\n",
    "    alt.Chart(base_dev_df)\n",
    "    .mark_line(strokeDash=[10, 10], size=5)\n",
    "    .encode(\n",
    "        y=alt.Y(\"score:Q\", scale=alt.Scale(domain=(0, 1)), title=\"Accuracy\"),\n",
    "        x=alt.X(\"epoch:Q\", title=\"Sample (M)\"),\n",
    "        color=alt.Color(\"cond:N\", legend=None),\n",
    "        opacity=alt.value(0.3),\n",
    "    )\n",
    ")"
   ]
  },
  {
   "cell_type": "markdown",
   "metadata": {},
   "source": [
    "#### Make baseline performance space plot for overlaying"
   ]
  },
  {
   "cell_type": "code",
   "execution_count": null,
   "metadata": {},
   "outputs": [],
   "source": [
    "base_per_df = baseline.make_wnw().groupby(\"epoch\").mean().reset_index()\n",
    "\n",
    "base_wnw = (\n",
    "    alt.Chart(base_per_df)\n",
    "    .mark_line(color=\"black\", strokeDash=[10, 10], size=5)\n",
    "    .encode(\n",
    "        y=alt.Y(\"nonword_acc:Q\", scale=alt.Scale(domain=(0, 1)), title=\"Nonword\",),\n",
    "        x=alt.X(\"word_acc:Q\", scale=alt.Scale(domain=(0, 1)), title=\"Word\"),\n",
    "        tooltip=[\"epoch\", \"word_acc:Q\", \"nonword_acc:Q\"],\n",
    "        opacity=alt.value(0.5),\n",
    "    )\n",
    "    .transform_calculate(\n",
    "        color=\"if(datum.epoch===0.05, 'red', if(datum.epoch === 0.3, 'green', ''))\"\n",
    "    )\n",
    ")\n",
    "\n",
    "points = base_wnw.mark_point(size=200).encode(color=alt.Color(\"color:N\", scale=None))\n",
    "\n",
    "base_wnw += points"
   ]
  },
  {
   "cell_type": "code",
   "execution_count": null,
   "metadata": {},
   "outputs": [],
   "source": [
    "sim2 = helper.parse_from_file(\"../sims/part3_1750.csv\")\n",
    "sim2 = helper.SimResults(sim2)\n",
    "sim2.select_by_cond([\"HF_INC\", \"NW_UN\"])\n",
    "sim2.plot_interactive(\n",
    "    title=\"Sim 2 interactive plot\", show_sd=False, base_dev=base_dev, base_wnw=base_wnw\n",
    ").save(\"sim2_interactive.html\")"
   ]
  },
  {
   "cell_type": "code",
   "execution_count": null,
   "metadata": {},
   "outputs": [],
   "source": [
    "sim2.plot_interactive(title=\"Sim 2 interactive plot\", show_sd=False,).save(\"tmp.html\")"
   ]
  },
  {
   "cell_type": "code",
   "execution_count": null,
   "metadata": {},
   "outputs": [],
   "source": [
    "sim2.df = sim2.df.loc[sim2.df.risk_count >= 1]\n",
    "sim2.df.columns"
   ]
  },
  {
   "cell_type": "markdown",
   "metadata": {},
   "source": [
    "### Baseline definition"
   ]
  },
  {
   "cell_type": "markdown",
   "metadata": {},
   "source": [
    "### Interactive plot\n"
   ]
  },
  {
   "cell_type": "code",
   "execution_count": null,
   "metadata": {},
   "outputs": [],
   "source": [
    "baseline.plot_mean_dev(show_sd=False)"
   ]
  },
  {
   "cell_type": "code",
   "execution_count": null,
   "metadata": {},
   "outputs": [],
   "source": []
  },
  {
   "cell_type": "code",
   "execution_count": null,
   "metadata": {},
   "outputs": [],
   "source": []
  },
  {
   "cell_type": "code",
   "execution_count": null,
   "metadata": {},
   "outputs": [],
   "source": []
  },
  {
   "cell_type": "markdown",
   "metadata": {},
   "source": [
    "#### SD in baseline"
   ]
  },
  {
   "cell_type": "code",
   "execution_count": null,
   "metadata": {},
   "outputs": [],
   "source": [
    "baseline_sd = helper.SimResults(sim1)\n",
    "baseline_sd.select_by_control(\n",
    "    hidden_units=[100, 150, 200],\n",
    "    p_noise=[1, 2, 3],\n",
    "    learning_rate=[0.004, 0.006, 0.008],\n",
    "    cleanup_units=[20],\n",
    ")\n",
    "\n",
    "baseline_sd.select_by_cond([\"HF_INC\", \"HF_CON\", \"LF_INC\", \"LF_CON\"])\n",
    "baseline_sd.plot_mean_dev(show_sd=True, by_cond=False).properties(\n",
    "    title=\"Mean and SD of word accuracy (all 4 conditions) over Epoch in Baseline\"\n",
    ").save(\"baseline_dev.html\")\n",
    "\n",
    "print(\n",
    "    f\"These conditions are included when calculating baseline: {baseline_sd.df.cond.unique()}\"\n",
    ")"
   ]
  },
  {
   "cell_type": "code",
   "execution_count": null,
   "metadata": {},
   "outputs": [],
   "source": [
    "sim2.plot_interactive(title=\"Sim 2 interactive plot\").save(\"sim2_interactive.html\")"
   ]
  },
  {
   "cell_type": "markdown",
   "metadata": {},
   "source": [
    "### Reading disability grouping"
   ]
  },
  {
   "cell_type": "code",
   "execution_count": null,
   "metadata": {},
   "outputs": [],
   "source": [
    "rd = helper.RDGrouping(sim2.df, baseline.df)"
   ]
  },
  {
   "cell_type": "markdown",
   "metadata": {},
   "source": [
    "### Raw score / percentage / z-score over epoch"
   ]
  },
  {
   "cell_type": "code",
   "execution_count": null,
   "metadata": {},
   "outputs": [],
   "source": [
    "rd.plot_heatmap(\"score\").save(\"epoch_score.html\")\n",
    "rd.plot_heatmap(\"pc\").save(\"epoch_pc.html\")\n",
    "rd.plot_heatmap(\"z_deviance\").save(\"epoch_z.html\")"
   ]
  },
  {
   "cell_type": "markdown",
   "metadata": {},
   "source": [
    "### Interactive cutoff"
   ]
  },
  {
   "cell_type": "code",
   "execution_count": null,
   "metadata": {},
   "outputs": [],
   "source": [
    "rd.plot_interactive_group_heatmap(version=\"z\").save(\"grouping_z.html\")\n",
    "rd.plot_interactive_group_heatmap(version=\"pc\").save(\"grouping_pc.html\")"
   ]
  }
 ],
 "metadata": {
  "environment": {
   "name": "tf2-2-2-gpu.2-2.m50",
   "type": "gcloud",
   "uri": "gcr.io/deeplearning-platform-release/tf2-2-2-gpu.2-2:m50"
  },
  "kernelspec": {
   "display_name": "Python 3",
   "language": "python",
   "name": "python3"
  },
  "language_info": {
   "codemirror_mode": {
    "name": "ipython",
    "version": 3
   },
   "file_extension": ".py",
   "mimetype": "text/x-python",
   "name": "python",
   "nbconvert_exporter": "python",
   "pygments_lexer": "ipython3",
   "version": "3.7.6"
  }
 },
 "nbformat": 4,
 "nbformat_minor": 4
}
