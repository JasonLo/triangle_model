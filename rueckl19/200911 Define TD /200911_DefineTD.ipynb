{
 "cells": [
  {
   "cell_type": "markdown",
   "metadata": {},
   "source": [
    "# Individual differences simulation paper part III"
   ]
  },
  {
   "cell_type": "code",
   "execution_count": null,
   "metadata": {},
   "outputs": [],
   "source": [
    "%load_ext lab_black\n",
    "import helper\n",
    "import pandas as pd\n",
    "import numpy as np\n",
    "import altair as alt\n",
    "from altair.expr import datum\n",
    "\n",
    "alt.data_transformers.disable_max_rows()\n",
    "df = helper.parse_from_file(\"../sims/1520_sims.csv\")"
   ]
  },
  {
   "cell_type": "markdown",
   "metadata": {},
   "source": [
    "# Defining typically developing readers\n",
    "\n",
    "### Goal: Somewhat meaningful TD (acknowledging it is arbitury)\n",
    "\n",
    "### Stragegy:\n",
    "\n",
    "1. Filtering on control space\n",
    "    - Since we know one control parameter can offset the detrimental effect from another control parameter\n",
    "    - \"good\" behavior outcome is not equal to \"typical\" in some cases... \n",
    "    - i.e., need to differential TD and \"compensated\" DD\n",
    "    - Which justify using Part I & II control space as one of the filtering criteria\n",
    "    - (follow up) n1250 - lowest level - highest level\n",
    "    \n",
    "2. Filtering on development (Accuracy based)\n",
    "    - TD develop at a reasonable pace\n",
    "    - Not too fast:  <Threshold_low at early epoch (t_low)\n",
    "    - Not too slow:  >Threshold_hi at late epoch (t_hi)\n",
    "3. Filtering on rank\n",
    "    - Global mean all cond, all epoch\n",
    "    - Max min rank within each class\n",
    "    - Maybe start with smaller bin size... \n",
    "    \n",
    "    \n",
    "### Meeting notes (Sep 11, 2020)\n",
    "- Not to average within cell. (OK)\n",
    "- Table for descriptives of selected \"TD\" (OK)\n",
    "- Not worse level in 1250 (try) (OK)\n",
    "- Add plot (mean of all condition only (not epoch)) (OK)\n",
    "- Control space descritives (OK)\n",
    "- 3-4 solution per set (OK)\n",
    "\n"
   ]
  },
  {
   "cell_type": "markdown",
   "metadata": {},
   "source": [
    "### Master Select Model Class"
   ]
  },
  {
   "cell_type": "code",
   "execution_count": null,
   "metadata": {
    "jupyter": {
     "source_hidden": true
    }
   },
   "outputs": [],
   "source": [
    "class Select_Model:\n",
    "    \"\"\" Helper class for defining TD\n",
    "    I: Selection:\n",
    "    1. Control space filter\n",
    "    2. Rank filter\n",
    "    3. Accuracy filter (developmental)\n",
    "    \n",
    "    II: Plotting:\n",
    "    1. Where are the selected model in the control space\n",
    "    2. How's their average performance (in each cond / mean of all conds)\n",
    "    3. Some basic descriptives in title\n",
    "    \"\"\"\n",
    "\n",
    "    def __init__(self, df):\n",
    "        self.df = df\n",
    "\n",
    "    def count_model(self):\n",
    "        return len(self.df.code_name.unique())\n",
    "\n",
    "    # Selection related functions\n",
    "\n",
    "    def select_by_performance(self, threshold_low, threshold_hi, t_low, t_hi):\n",
    "\n",
    "        n_pre = self.count_model()\n",
    "        tmp = self.pivot_to_wide(self.df, t_low, t_hi)\n",
    "        # Selected models\n",
    "        tmp = tmp.loc[(tmp.t_low < threshold_low) & (tmp.t_hi > threshold_hi)]\n",
    "\n",
    "        # Create full dataframe of selected models\n",
    "        self.df = (\n",
    "            self.df.loc[self.df.code_name.isin(tmp.code_name)]\n",
    "            .sort_values(by=[\"code_name\", \"cond\", \"epoch\"])\n",
    "            .reset_index()\n",
    "        )\n",
    "\n",
    "        n_post = self.count_model()\n",
    "        print(f\"Selected {n_post} models from the original {n_pre} models\")\n",
    "\n",
    "    def select_by_control(self, hidden_units=None, p_noise=None, learning_rate=None):\n",
    "\n",
    "        n_pre = self.count_model()\n",
    "        if hidden_units is not None:\n",
    "            self.df = self.df.loc[self.df.hidden_units.isin(hidden_units)]\n",
    "        if p_noise is not None:\n",
    "            self.df = self.df.loc[self.df.p_noise.isin(p_noise)]\n",
    "        if learning_rate is not None:\n",
    "            self.df = self.df.loc[self.df.learning_rate.isin(learning_rate)]\n",
    "\n",
    "        n_post = self.count_model()\n",
    "        print(f\"Selected {n_post} models from the original {n_pre} models\")\n",
    "\n",
    "    def select_by_rankpc(self, minpc, maxpc):\n",
    "        n_pre = self.count_model()\n",
    "        self.df = self.df.loc[(self.df.rank_pc >= minpc) & (self.df.rank_pc <= maxpc)]\n",
    "        n_post = self.count_model()\n",
    "        print(f\"Selected {n_post} models from the original {n_pre} models\")\n",
    "\n",
    "    def select_by_cond(self, conds):\n",
    "        n_pre = self.count_model()\n",
    "        self.df = self.df.loc[self.df.cond.isin(conds)]\n",
    "        n_post = self.count_model()\n",
    "        print(f\"Selected {n_post} models from the original {n_pre} models\")\n",
    "\n",
    "    # Descriptives related functions\n",
    "\n",
    "    def get_rankpc_desc(self):\n",
    "        desc = self.df.groupby(\"code_name\").mean().reset_index().rank_pc.describe()\n",
    "        return f\"M:{desc['mean']:.3f} SD: {desc['std']:.3f} Min: {desc['min']:.3f} Max: {desc['max']:.3f}\"\n",
    "\n",
    "    def get_acc_desc(self):\n",
    "        desc = self.df.groupby(\"code_name\").mean().reset_index().score.describe()\n",
    "        return f\"M:{desc['mean']:.3f} SD: {desc['std']:.3f} Min: {desc['min']:.3f} Max: {desc['max']:.3f}\"\n",
    "\n",
    "    # Plotting related functions\n",
    "\n",
    "    def pivot_to_wide(self, df, t_low, t_hi):\n",
    "        \"\"\" Create a pivot table of model's t_low and t_hi as column\n",
    "        df: input datafile\n",
    "        t_low: epoch used in applying threshold_low\n",
    "        t_hi : epoch used in applying threshold_hi\n",
    "        \"\"\"\n",
    "        tmp = df.loc[(df.epoch.isin([t_low, t_hi]))]\n",
    "\n",
    "        index_names = [\n",
    "            \"code_name\",\n",
    "            \"hidden_units\",\n",
    "            \"p_noise\",\n",
    "            \"learning_rate\",\n",
    "        ]\n",
    "\n",
    "        pvt = tmp.pivot_table(\n",
    "            index=index_names, columns=\"epoch\", values=\"score\",\n",
    "        ).reset_index()\n",
    "\n",
    "        # Rename new columns\n",
    "        pvt.columns = index_names + [\"t_low\", \"t_hi\"]\n",
    "        return pvt\n",
    "\n",
    "    def plot_control_space(self):\n",
    "        \"\"\"Plot selected models at control space\"\"\"\n",
    "\n",
    "        pdf = self.df.groupby(\"code_name\").mean().round(3).reset_index()\n",
    "\n",
    "        control_space = (\n",
    "            alt.Chart(pdf)\n",
    "            .mark_rect()\n",
    "            .encode(\n",
    "                x=\"p_noise:O\",\n",
    "                y=alt.Y(\"hidden_units:O\", sort=\"descending\"),\n",
    "                column=alt.Column(\"learning_rate:O\", sort=\"descending\"),\n",
    "                color=\"count(code_name)\",\n",
    "            )\n",
    "        )\n",
    "        return control_space\n",
    "\n",
    "    def plot_mean_development(self):\n",
    "        \"\"\"Plot the mean development of all selected models\"\"\"\n",
    "\n",
    "        development_space_sd = (\n",
    "            alt.Chart(self.df)\n",
    "            .mark_errorband(extent=\"stdev\")\n",
    "            .encode(\n",
    "                y=alt.Y(\"score:Q\", scale=alt.Scale(domain=(0, 1))),\n",
    "                x=\"epoch:Q\",\n",
    "                color=\"cond:N\",\n",
    "            )\n",
    "            .properties(\n",
    "                title=\"Developmental space: Accuracy in each condition over epoch\"\n",
    "            )\n",
    "        )\n",
    "\n",
    "        development_space_mean = development_space_sd.mark_line().encode(\n",
    "            y=\"mean(score):Q\"\n",
    "        )\n",
    "        return development_space_mean + development_space_sd\n",
    "\n",
    "    def plot_all_cond_mean(self):\n",
    "        \"\"\"Plot the average accuracy in all conditions over epoch of all selected models\"\"\"\n",
    "        group_var = [\"code_name\", \"hidden_units\", \"p_noise\", \"learning_rate\", \"epoch\"]\n",
    "        pdf = self.df.groupby(group_var).mean().reset_index()\n",
    "\n",
    "        dev_all_sd = (\n",
    "            alt.Chart(pdf)\n",
    "            .mark_errorband(extent=\"stdev\")\n",
    "            .encode(y=alt.Y(\"score:Q\", scale=alt.Scale(domain=(0, 1))), x=\"epoch:Q\",)\n",
    "            .properties(\n",
    "                title=\"Developmental space: Mean Accuracy in all conditions over epoch\"\n",
    "            )\n",
    "        )\n",
    "\n",
    "        dev_all_m = dev_all_sd.mark_line().encode(y=\"mean(score):Q\")\n",
    "        return dev_all_m + dev_all_sd\n",
    "\n",
    "    def plot(self, title=None):\n",
    "        \"\"\"Plot all relevant stuffs\"\"\"\n",
    "\n",
    "        n = len(self.df.code_name.unique())\n",
    "\n",
    "        t = [\n",
    "            \"Grand mean rank: \" + self.get_rankpc_desc(),\n",
    "            \"Grand mean acc  : \" + self.get_acc_desc(),\n",
    "        ]\n",
    "\n",
    "        if title is not None:\n",
    "            t = [title + f\" (n={n})\"] + t\n",
    "\n",
    "        all_plot = (\n",
    "            self.plot_control_space()\n",
    "            & (self.plot_mean_development() | self.plot_all_cond_mean())\n",
    "        ).properties(title=t)\n",
    "\n",
    "        return all_plot"
   ]
  },
  {
   "cell_type": "markdown",
   "metadata": {},
   "source": [
    "### Results: Control space selection"
   ]
  },
  {
   "cell_type": "code",
   "execution_count": null,
   "metadata": {},
   "outputs": [],
   "source": [
    "c1 = Select_Model(df)\n",
    "c1.select_by_control(hidden_units=[150], p_noise=[2], learning_rate=[0.006])\n",
    "c1.plot(\"C1: Dead center \")"
   ]
  },
  {
   "cell_type": "code",
   "execution_count": null,
   "metadata": {},
   "outputs": [],
   "source": [
    "c2 = Select_Model(df)\n",
    "c2.select_by_control(\n",
    "    hidden_units=[100, 150, 200], p_noise=[1, 2, 3], learning_rate=[0.004, 0.006, 0.008]\n",
    ")\n",
    "c2.plot(\"C2: Middle levels\")"
   ]
  },
  {
   "cell_type": "code",
   "execution_count": null,
   "metadata": {},
   "outputs": [],
   "source": [
    "c3 = Select_Model(df)\n",
    "c3.select_by_control(\n",
    "    hidden_units=[100, 150, 200, 250],\n",
    "    p_noise=[0, 1, 2, 3],\n",
    "    learning_rate=[0.004, 0.006, 0.008, 0.01],\n",
    ")\n",
    "c3.plot(\"C3: Better\")"
   ]
  },
  {
   "cell_type": "code",
   "execution_count": null,
   "metadata": {},
   "outputs": [],
   "source": [
    "c4 = Select_Model(df)\n",
    "c4.select_by_control(\n",
    "    hidden_units=[50, 100, 150, 200],\n",
    "    p_noise=[1, 2, 3, 4],\n",
    "    learning_rate=[0.002, 0.004, 0.006, 0.008],\n",
    ")\n",
    "c4.plot(\"C4: Worse\")"
   ]
  },
  {
   "cell_type": "markdown",
   "metadata": {},
   "source": [
    "### Results: Rank selection"
   ]
  },
  {
   "cell_type": "code",
   "execution_count": null,
   "metadata": {},
   "outputs": [],
   "source": [
    "r1 = Select_Model(df)\n",
    "r1.select_by_rankpc(minpc=0.25, maxpc=0.75)\n",
    "r1.plot(\"R1: 25-75%\")"
   ]
  },
  {
   "cell_type": "code",
   "execution_count": null,
   "metadata": {},
   "outputs": [],
   "source": [
    "r2 = Select_Model(df)\n",
    "r2.select_by_rankpc(minpc=0.25, maxpc=0.5)\n",
    "r2.plot(\"R2: 25-50%\")"
   ]
  },
  {
   "cell_type": "code",
   "execution_count": null,
   "metadata": {},
   "outputs": [],
   "source": [
    "r3 = Select_Model(df)\n",
    "r3.select_by_rankpc(minpc=0.5, maxpc=0.75)\n",
    "r3.plot(\"R3: 50-75%\")"
   ]
  },
  {
   "cell_type": "markdown",
   "metadata": {},
   "source": [
    "### Results: Accuracy selection"
   ]
  },
  {
   "cell_type": "code",
   "execution_count": null,
   "metadata": {},
   "outputs": [],
   "source": [
    "a1 = Select_Model(df)\n",
    "a1.select_by_performance(t_low=0.1, threshold_low=0.8, t_hi=0.6, threshold_hi=0.9)\n",
    "a1.plot(\"A1: Mean-ish\")"
   ]
  },
  {
   "cell_type": "code",
   "execution_count": null,
   "metadata": {},
   "outputs": [],
   "source": [
    "a2 = Select_Model(df)\n",
    "a2.select_by_performance(t_low=0.1, threshold_low=0.85, t_hi=0.6, threshold_hi=0.9)\n",
    "a2.plot(\"A2: More low-end variance\")"
   ]
  },
  {
   "cell_type": "code",
   "execution_count": null,
   "metadata": {},
   "outputs": [],
   "source": [
    "a3 = Select_Model(df)\n",
    "a3.select_by_performance(t_low=0.1, threshold_low=0.85, t_hi=0.6, threshold_hi=0.85)\n",
    "a3.plot(\"A3: More hi-end variance\")"
   ]
  }
 ],
 "metadata": {
  "environment": {
   "name": "tf2-2-2-gpu.2-2.m50",
   "type": "gcloud",
   "uri": "gcr.io/deeplearning-platform-release/tf2-2-2-gpu.2-2:m50"
  },
  "kernelspec": {
   "display_name": "Python 3",
   "language": "python",
   "name": "python3"
  },
  "language_info": {
   "codemirror_mode": {
    "name": "ipython",
    "version": 3
   },
   "file_extension": ".py",
   "mimetype": "text/x-python",
   "name": "python",
   "nbconvert_exporter": "python",
   "pygments_lexer": "ipython3",
   "version": "3.7.6"
  }
 },
 "nbformat": 4,
 "nbformat_minor": 4
}
