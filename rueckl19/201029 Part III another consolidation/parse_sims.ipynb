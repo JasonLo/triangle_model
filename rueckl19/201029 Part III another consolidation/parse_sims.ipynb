{
 "cells": [
  {
   "cell_type": "code",
   "execution_count": null,
   "metadata": {},
   "outputs": [],
   "source": [
    "%load_ext lab_black\n",
    "import pandas as pd\n",
    "import numpy as np\n",
    "import helper"
   ]
  },
  {
   "cell_type": "code",
   "execution_count": null,
   "metadata": {},
   "outputs": [],
   "source": [
    "g = helper.parse_mikenet_sims(\"all_grain_fillIn2.txt\", \"grain\")\n",
    "s = helper.parse_mikenet_sims(\"all_strain_fillIn2.txt\", \"strain\")\n",
    "new_runs = pd.concat([g, s], ignore_index=True)\n",
    "new_runs.sample(3)"
   ]
  },
  {
   "cell_type": "code",
   "execution_count": null,
   "metadata": {},
   "outputs": [],
   "source": [
    "# check h-params and n\n",
    "for x in [\"Hidden\", \"Pnoise\", \"Epsilon\", \"PhoHid\"]:\n",
    "    print(f\"{x}: {new_runs[x].unique()}\")\n",
    "\n",
    "n = len(new_runs.ID.unique())\n",
    "print(f\"n={n}\")"
   ]
  },
  {
   "cell_type": "code",
   "execution_count": null,
   "metadata": {},
   "outputs": [],
   "source": [
    "helper.count_grid(new_runs, [\"Hidden\", \"Pnoise\", \"Epsilon\", \"PhoHid\"], \"raw\")"
   ]
  },
  {
   "cell_type": "code",
   "execution_count": null,
   "metadata": {},
   "outputs": [],
   "source": [
    "# Read canonical df \n",
    "df_2395 = pd.read_csv(\"../sims/2395_sims.csv\", index_col=0)\n",
    "df_2395.sample(3)"
   ]
  },
  {
   "cell_type": "markdown",
   "metadata": {},
   "source": [
    "### Check if duplicate ID exist in new runs"
   ]
  },
  {
   "cell_type": "code",
   "execution_count": null,
   "metadata": {},
   "outputs": [],
   "source": [
    "np.intersect1d(df_2395.ID.unique(), new_runs.ID.unique())\n",
    "# There are duplicate between 1695 and new_runs, double check content"
   ]
  },
  {
   "cell_type": "code",
   "execution_count": null,
   "metadata": {},
   "outputs": [],
   "source": [
    "n + 2395"
   ]
  },
  {
   "cell_type": "code",
   "execution_count": null,
   "metadata": {},
   "outputs": [],
   "source": [
    "# Make new canonical df\n",
    "df_2920 = pd.concat([df_2395, new_runs], ignore_index=True)\n",
    "df_2920.to_csv(\"../sims/2920_sims.csv\")"
   ]
  },
  {
   "cell_type": "code",
   "execution_count": null,
   "metadata": {},
   "outputs": [],
   "source": [
    "helper.count_grid(df_2920, [\"Hidden\", \"PhoHid\", \"Pnoise\", \"Epsilon\"], \"raw\")\n",
    "# Min at needed space n = 7"
   ]
  },
  {
   "cell_type": "markdown",
   "metadata": {},
   "source": [
    "### Proper grid (n=525)"
   ]
  },
  {
   "cell_type": "code",
   "execution_count": null,
   "metadata": {},
   "outputs": [],
   "source": [
    "df = df_2920.copy()"
   ]
  },
  {
   "cell_type": "code",
   "execution_count": null,
   "metadata": {},
   "outputs": [],
   "source": [
    "# Make a ID only h-param dataset\n",
    "v = [\"ID\", \"Hidden\", \"PhoHid\", \"Pnoise\", \"Epsilon\"]\n",
    "hpar = df[v].groupby(\"ID\").mean().reset_index()\n",
    "hpar[\"Epsilon\"] = hpar.Epsilon.round(3)  # Fix Epsilon rounding problem after mean"
   ]
  },
  {
   "cell_type": "code",
   "execution_count": null,
   "metadata": {},
   "outputs": [],
   "source": [
    "# Get 7 ID from each cell in desired grid\n",
    "n = 10\n",
    "df = pd.DataFrame()\n",
    "\n",
    "for hidden in [25, 50, 75, 100, 150, 200, 250]:\n",
    "    for p_noise in [0, 2, 4, 6, 8]:\n",
    "        for epsilon in [0.002, 0.004, 0.006, 0.008, 0.010]:\n",
    "            tmp = hpar.loc[\n",
    "                (hpar.Hidden == hidden)\n",
    "                & (hpar.Pnoise == p_noise)\n",
    "                & (hpar.Epsilon == epsilon)\n",
    "                & (hpar.PhoHid == 20)\n",
    "            ]\n",
    "\n",
    "            df = df.append(tmp.sample(n), ignore_index=True)"
   ]
  },
  {
   "cell_type": "code",
   "execution_count": null,
   "metadata": {},
   "outputs": [],
   "source": [
    "# Check len == n * noise_lvs * hidden_lvs * lr_lvs\n",
    "assert len(df) == 10 * 7 * 5 * 5\n",
    "print(len(df))"
   ]
  },
  {
   "cell_type": "code",
   "execution_count": null,
   "metadata": {},
   "outputs": [],
   "source": [
    "sel = df_2920.loc[\n",
    "    df_2920.ID.isin(df.ID),\n",
    "]"
   ]
  },
  {
   "cell_type": "code",
   "execution_count": null,
   "metadata": {},
   "outputs": [],
   "source": [
    "sel.to_csv(\"../sims/part3_1750.csv\")"
   ]
  },
  {
   "cell_type": "code",
   "execution_count": null,
   "metadata": {},
   "outputs": [],
   "source": [
    "helper.count_grid(sel, [\"Hidden\", \"PhoHid\", \"Pnoise\", \"Epsilon\"], \"raw\")"
   ]
  },
  {
   "cell_type": "code",
   "execution_count": null,
   "metadata": {},
   "outputs": [],
   "source": []
  }
 ],
 "metadata": {
  "environment": {
   "name": "tf2-2-2-gpu.2-2.m50",
   "type": "gcloud",
   "uri": "gcr.io/deeplearning-platform-release/tf2-2-2-gpu.2-2:m50"
  },
  "kernelspec": {
   "display_name": "Python 3",
   "language": "python",
   "name": "python3"
  },
  "language_info": {
   "codemirror_mode": {
    "name": "ipython",
    "version": 3
   },
   "file_extension": ".py",
   "mimetype": "text/x-python",
   "name": "python",
   "nbconvert_exporter": "python",
   "pygments_lexer": "ipython3",
   "version": "3.7.6"
  }
 },
 "nbformat": 4,
 "nbformat_minor": 4
}
