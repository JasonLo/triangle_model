{
 "cells": [
  {
   "cell_type": "markdown",
   "metadata": {},
   "source": [
    "# Part III: Subtype"
   ]
  },
  {
   "cell_type": "code",
   "execution_count": null,
   "metadata": {},
   "outputs": [],
   "source": [
    "%load_ext lab_black\n",
    "import pandas as pd\n",
    "import numpy as np\n",
    "import altair as alt\n",
    "import helper\n",
    "from altair import datum, expr\n",
    "\n",
    "alt.data_transformers.disable_max_rows()"
   ]
  },
  {
   "cell_type": "markdown",
   "metadata": {},
   "source": [
    "### Create baseline"
   ]
  },
  {
   "cell_type": "code",
   "execution_count": null,
   "metadata": {},
   "outputs": [],
   "source": [
    "baseline_df = helper.parse_from_file(\"../sims/1520_sims.csv\")\n",
    "baseline = helper.Select_Model(baseline_df)\n",
    "baseline.select_by_control(\n",
    "    hidden_units=[100, 150, 200], p_noise=[1, 2, 3], learning_rate=[0.004, 0.006, 0.008]\n",
    ")"
   ]
  },
  {
   "cell_type": "markdown",
   "metadata": {},
   "source": [
    "### Load Part 3 data (n=1750)"
   ]
  },
  {
   "cell_type": "code",
   "execution_count": null,
   "metadata": {},
   "outputs": [],
   "source": [
    "df = helper.parse_from_file(\"../sims/part3_1750.csv\")\n",
    "\n",
    "df[\"risk_count\"] = (\n",
    "    (df.hidden_units < 100) * 1 + (df.p_noise > 3) * 1 + (df.learning_rate < 0.004) * 1\n",
    ")\n",
    "\n",
    "df = df.loc[df.risk_count >= 1]\n",
    "\n",
    "print(len(df.code_name.unique()))"
   ]
  },
  {
   "cell_type": "code",
   "execution_count": null,
   "metadata": {},
   "outputs": [],
   "source": [
    "base_stat = baseline_df.groupby([\"cond\", \"epoch\"]).agg([\"mean\", \"std\"]).score.to_dict()\n",
    "# base_stat[\"mean\"][(\"HF_INC\", 0.01)]\n",
    "\n",
    "\n",
    "def calcuate_z_deviance(row):\n",
    "    \"\"\"Calcuate z score relative to TD at each epoch\n",
    "    \"\"\"\n",
    "    m = base_stat[\"mean\"][(row[\"cond\"], row[\"epoch\"])]\n",
    "    sd = base_stat[\"std\"][(row[\"cond\"], row[\"epoch\"])]\n",
    "\n",
    "    # Avoid zero division\n",
    "    if sd == 0:\n",
    "        sd = 1e-6\n",
    "\n",
    "    return (row[\"score\"] - m) / sd"
   ]
  },
  {
   "cell_type": "code",
   "execution_count": null,
   "metadata": {},
   "outputs": [],
   "source": [
    "def reduce_epoch_resolution(df):\n",
    "    sel_epoch = [0.01, 0.02, 0.03, 0.05, 0.07, 0.09, 0.2, 0.4, 0.6, 0.8, 1.0]\n",
    "    return df.loc[\n",
    "        df.epoch.isin(sel_epoch),\n",
    "    ]\n",
    "\n",
    "df = reduce_epoch_resolution(df)"
   ]
  },
  {
   "cell_type": "code",
   "execution_count": null,
   "metadata": {},
   "outputs": [],
   "source": [
    "df[\"z\"] = df.apply(calcuate_z_deviance, axis=1)"
   ]
  },
  {
   "cell_type": "code",
   "execution_count": null,
   "metadata": {},
   "outputs": [],
   "source": [
    "m_idx = [\n",
    "    \"code_name\",\n",
    "    \"hidden_units\",\n",
    "    \"learning_rate\",\n",
    "    \"p_noise\",\n",
    "    \"cleanup_units\",\n",
    "    \"epoch\",\n",
    "]\n",
    "\n"
   ]
  },
  {
   "cell_type": "markdown",
   "metadata": {},
   "source": [
    "### Make z datafile"
   ]
  },
  {
   "cell_type": "code",
   "execution_count": null,
   "metadata": {},
   "outputs": [],
   "source": [
    "sdf = df[m_idx + [\"cond\", \"z\"]]\n",
    "sdf = sdf.pivot_table(index=m_idx, columns=[\"cond\"],).reset_index()\n",
    "sdf.columns = [\"\".join(c).strip() for c in sdf.columns.values]\n",
    "sdf.columns"
   ]
  },
  {
   "cell_type": "code",
   "execution_count": null,
   "metadata": {},
   "outputs": [],
   "source": [
    "for x in range(10, 31):\n",
    "    sdf[f\"word_cutoff_{x}\"] = 1 * (sdf.zHF_INC > -x / 10)\n",
    "    sdf[f\"nonword_cutoff_{x}\"] = 1 * (sdf.zNW_UN > -x / 10)"
   ]
  },
  {
   "cell_type": "code",
   "execution_count": null,
   "metadata": {},
   "outputs": [],
   "source": [
    "sdf[\"z_wadv\"] = sdf.zHF_INC - sdf.zNW_UN"
   ]
  },
  {
   "cell_type": "code",
   "execution_count": null,
   "metadata": {},
   "outputs": [],
   "source": [
    "brush_word = alt.selection(type=\"interval\", encodings=[\"x\"])\n",
    "brush_nonword = alt.selection(type=\"interval\", encodings=[\"x\"])\n",
    "\n",
    "base = (\n",
    "    alt.Chart(sdf)\n",
    "    .mark_rect()\n",
    "    .encode(\n",
    "        x=\"p_noise:O\",\n",
    "        y=alt.Y(\"hidden_units:O\", sort=\"descending\"),\n",
    "        row=alt.Row(\"learning_rate:O\", sort=\"descending\"),\n",
    "        column=\"epoch:O\",\n",
    "        color=alt.Color(\"count(code_name):O\", scale=alt.Scale(domain=(0, 10))),\n",
    "    )\n",
    ")\n",
    "\n",
    "cut = -2.0\n",
    "\n",
    "iW = base.transform_filter(((datum.zHF_INC < cut) & (datum.zNW_UN >= cut))).properties(\n",
    "    title=\"iW\"\n",
    ")\n",
    "\n",
    "iNW = base.transform_filter(((datum.zHF_INC >= cut) & (datum.zNW_UN < cut))).properties(\n",
    "    title=\"iNW\"\n",
    ")\n",
    "\n",
    "iBoth = base.transform_filter(\n",
    "    ((datum.zHF_INC < cut) & (datum.zNW_UN < cut))\n",
    ").properties(title=\"iBoth\")\n",
    "\n",
    "iNone = base.transform_filter(\n",
    "    ((datum.zHF_INC >= cut) & (datum.zNW_UN >= cut))\n",
    ").properties(title=\"iNone\")\n",
    "\n",
    "(iNone & iBoth & iW & iNW).save(\"impairment_2.html\")\n",
    "# word_density | nonword_density"
   ]
  },
  {
   "cell_type": "code",
   "execution_count": null,
   "metadata": {},
   "outputs": [],
   "source": []
  }
 ],
 "metadata": {
  "environment": {
   "name": "tf2-2-2-gpu.2-2.m50",
   "type": "gcloud",
   "uri": "gcr.io/deeplearning-platform-release/tf2-2-2-gpu.2-2:m50"
  },
  "kernelspec": {
   "display_name": "Python 3",
   "language": "python",
   "name": "python3"
  },
  "language_info": {
   "codemirror_mode": {
    "name": "ipython",
    "version": 3
   },
   "file_extension": ".py",
   "mimetype": "text/x-python",
   "name": "python",
   "nbconvert_exporter": "python",
   "pygments_lexer": "ipython3",
   "version": "3.7.6"
  }
 },
 "nbformat": 4,
 "nbformat_minor": 4
}
