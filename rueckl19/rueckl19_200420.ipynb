{
 "cells": [
  {
   "cell_type": "markdown",
   "metadata": {},
   "source": [
    "# Examine Rueckl19 dataset"
   ]
  },
  {
   "cell_type": "code",
   "execution_count": null,
   "metadata": {},
   "outputs": [],
   "source": [
    "%load_ext lab_black\n",
    "import pandas as pd\n",
    "import altair as alt\n",
    "alt.data_transformers.enable(\"default\")\n",
    "alt.data_transformers.disable_max_rows()"
   ]
  },
  {
   "cell_type": "markdown",
   "metadata": {},
   "source": [
    "### Ingest, tidy"
   ]
  },
  {
   "cell_type": "code",
   "execution_count": null,
   "metadata": {},
   "outputs": [],
   "source": [
    "df = pd.read_csv('plotdf.csv', index_col=0)\n",
    "\n",
    "# df['word_acc'] = df[[\n",
    "#     'HF_CON_Accuracy', 'HF_INC_Accuracy', 'LF_CON_Accuracy', 'LF_INC_Accuracy'\n",
    "# ]].mean(axis=1)\n",
    "# df['nonword_acc'] = df[['NW_AMB_Accuracy', 'NW_UN_Accuracy']].mean(axis=1)\n",
    "\n",
    "df['word_acc'] = df[['HF_INC_Accuracy']].mean(axis=1)\n",
    "df['nonword_acc'] = df[['NW_UN_Accuracy']].mean(axis=1)\n",
    "\n",
    "df.rename(\n",
    "    columns={\n",
    "        'ID': 'code_name',\n",
    "        'Trial.Scaled': 'epoch',  # Trial scaled renamed to Epoch onward\n",
    "        'Pnoise': 'p_noise',  # group renamed to code_name onward\n",
    "        'Hidden': 'hidden_units',\n",
    "        'Epsilon': 'learning_rate',\n",
    "        'PhoHid': 'cleanup_units',\n",
    "        'Classification': 'group'\n",
    "    },\n",
    "    inplace=True\n",
    ")\n",
    "\n",
    "df = df[[\n",
    "    'code_name', 'epoch', 'hidden_units', 'cleanup_units', 'p_noise',\n",
    "    'learning_rate', 'word_acc', 'nonword_acc', 'group'\n",
    "]]\n",
    "\n",
    "df = df[df.p_noise.isin([0, 2, 4, 8]) & df.hidden_units.isin([50, 100, 250]) &\n",
    "        df.cleanup_units.isin([20]) &\n",
    "        df.learning_rate.isin([.002, .004, .006, .008, .01])]"
   ]
  },
  {
   "cell_type": "markdown",
   "metadata": {},
   "source": [
    "### Are there more than one model in a unique set of setting? Yes..."
   ]
  },
  {
   "cell_type": "code",
   "execution_count": null,
   "metadata": {},
   "outputs": [],
   "source": [
    "def count_models(df):\n",
    "    print(\n",
    "        'There are {} models in the datafile'.format(\n",
    "            len(df.code_name.unique())\n",
    "        )\n",
    "    )\n",
    "\n",
    "    dfm = df[[\n",
    "        'code_name', 'p_noise', 'hidden_units', 'learning_rate', 'cleanup_units'\n",
    "    ]].pivot_table(index='code_name')\n",
    "    dfm['code_name'] = dfm.index\n",
    "\n",
    "    pvt = dfm.pivot_table(\n",
    "        index=['p_noise', 'hidden_units', 'learning_rate', 'cleanup_units'],\n",
    "        aggfunc='count',\n",
    "        values='code_name'\n",
    "    )\n",
    "\n",
    "    pvt.reset_index(inplace=True)\n",
    "    pvt.rename(columns={'code_name': 'n'}, inplace=True)\n",
    "\n",
    "    plot_n = alt.Chart(pvt).mark_rect().encode(\n",
    "        x=\"p_noise:O\",\n",
    "        y=\"hidden_units:O\",\n",
    "        row=\"learning_rate:O\",\n",
    "        column=\"cleanup_units:O\",\n",
    "        color=\"n:O\",\n",
    "        tooltip=[\n",
    "            \"p_noise\", \"hidden_units\", \"cleanup_units\", \"learning_rate\", \"n\"\n",
    "        ],\n",
    "    ).properties(title=\"Model counts\")\n",
    "\n",
    "    return plot_n\n",
    "\n",
    "\n",
    "df_upper = df.loc[df.group == 'Upper']\n",
    "df_mid = df.loc[df.group == 'Mid']\n",
    "df_lower = df.loc[df.group == 'Lower']\n",
    "\n",
    "count_by_group = count_models(df) | count_models(df_upper) | count_models(\n",
    "    df_mid\n",
    ") | count_models(df_lower)\n",
    "\n",
    "count_by_group.save('count_model_selgridall.html')\n",
    "\n",
    "count_by_group"
   ]
  },
  {
   "cell_type": "markdown",
   "metadata": {},
   "source": [
    "# Replicate Fig2."
   ]
  },
  {
   "cell_type": "code",
   "execution_count": null,
   "metadata": {},
   "outputs": [],
   "source": [
    "sel_group = alt.selection(\n",
    "    type=\"single\",\n",
    "    on=\"click\",\n",
    "    fields=['group'],\n",
    "    bind=alt.binding_radio(\n",
    "        options=['Upper', 'Mid', 'Lower'], name=\"Classification: \"\n",
    "    )\n",
    ")\n",
    "\n",
    "base = alt.Chart(df).mark_point().encode(\n",
    "    y=alt.Y(\"nonword_acc:Q\", scale=alt.Scale(domain=(0, 1))),\n",
    "    x=alt.X(\"word_acc:Q\", scale=alt.Scale(domain=(0, 1))),\n",
    "    color=alt.Color(\n",
    "        \"epoch\", scale=alt.Scale(scheme=\"redyellowgreen\", domain=(0, 1))\n",
    "    ),\n",
    "    opacity=alt.condition(sel_group, alt.value(0.2), alt.value(0)),\n",
    "    tooltip=[\"code_name\", \"epoch\", \"word_acc\", \"nonword_acc\"],\n",
    ").add_selection(sel_group)\n",
    "\n",
    "diagonal = alt.Chart(pd.DataFrame({\n",
    "    'x': [0, 1],\n",
    "    'y': [0, 1]\n",
    "})).mark_line(color='black').encode(x='x', y='y')\n",
    "\n",
    "diagonal + base"
   ]
  },
  {
   "cell_type": "markdown",
   "metadata": {},
   "source": [
    "### Group average plots"
   ]
  },
  {
   "cell_type": "code",
   "execution_count": null,
   "metadata": {},
   "outputs": [],
   "source": [
    "df.columns"
   ]
  },
  {
   "cell_type": "code",
   "execution_count": null,
   "metadata": {},
   "outputs": [],
   "source": [
    "dfg = df.pivot_table(index=['group', 'epoch']).reset_index()\n",
    "\n",
    "sel_group = alt.selection(\n",
    "    type=\"single\",\n",
    "    on=\"click\",\n",
    "    fields=['group'],\n",
    "    bind=alt.binding_radio(\n",
    "        options=['Upper', 'Mid', 'Lower'], name=\"Classification: \"\n",
    "    )\n",
    ")\n",
    "\n",
    "base = alt.Chart(dfg).mark_point().encode(\n",
    "    y=alt.Y(\"nonword_acc:Q\", scale=alt.Scale(domain=(0, 1))),\n",
    "    x=alt.X(\"word_acc:Q\", scale=alt.Scale(domain=(0, 1))),\n",
    "    color=alt.Color(\n",
    "        \"epoch\", scale=alt.Scale(scheme=\"redyellowgreen\", domain=(0, 1))\n",
    "    ),\n",
    "    opacity=alt.condition(sel_group, alt.value(1), alt.value(0)),\n",
    "    tooltip=[\"code_name\", \"epoch\", \"word_acc\", \"nonword_acc\"],\n",
    ").add_selection(sel_group)\n",
    "\n",
    "diagonal = alt.Chart(pd.DataFrame({\n",
    "    'x': [0, 1],\n",
    "    'y': [0, 1]\n",
    "})).mark_line(color='black').encode(x='x', y='y')\n",
    "\n",
    "diagonal + base"
   ]
  },
  {
   "cell_type": "markdown",
   "metadata": {},
   "source": [
    "### Aggregate cell heatmaps"
   ]
  },
  {
   "cell_type": "code",
   "execution_count": null,
   "metadata": {},
   "outputs": [],
   "source": [
    "dfc = df.pivot_table(\n",
    "    index=[\n",
    "        'epoch', 'hidden_units', 'cleanup_units', 'p_noise', 'learning_rate'\n",
    "    ]\n",
    ").reset_index()\n",
    "\n",
    "dfc['word_advantage'] = dfc.word_acc - dfc.nonword_acc"
   ]
  },
  {
   "cell_type": "code",
   "execution_count": null,
   "metadata": {},
   "outputs": [],
   "source": [
    "dfc"
   ]
  },
  {
   "cell_type": "code",
   "execution_count": null,
   "metadata": {},
   "outputs": [],
   "source": [
    "sel_epoch = alt.selection(\n",
    "    type=\"single\",\n",
    "    on=\"click\",\n",
    "    fields=['epoch'],\n",
    "    bind=alt.binding_radio(options=list(dfc.epoch.unique()), name=\"Epoch: \")\n",
    ")\n",
    "\n",
    "alt.Chart(dfc).mark_rect().encode(\n",
    "    x=\"p_noise:O\",\n",
    "    y=\"hidden_units:O\",\n",
    "    row=\"learning_rate:O\",\n",
    "    color=alt.Color(\n",
    "        \"word_acc\", scale=alt.Scale(scheme=\"redyellowgreen\", domain=(0, 1))\n",
    "    ),\n",
    "    tooltip=[\n",
    "        \"p_noise\", \"hidden_units\", \"cleanup_units\", \"learning_rate\", \"word_acc\",\n",
    "        \"nonword_acc\"\n",
    "    ],\n",
    ").add_selection(sel_epoch).transform_filter(sel_epoch).properties(\n",
    "    title=\"Word acc\"\n",
    ")"
   ]
  },
  {
   "cell_type": "code",
   "execution_count": null,
   "metadata": {},
   "outputs": [],
   "source": [
    "alt.Chart(dfc).mark_rect().encode(\n",
    "    x=\"p_noise:O\",\n",
    "    y=\"hidden_units:O\",\n",
    "    row=\"learning_rate:O\",\n",
    "    color=alt.Color(\n",
    "        \"nonword_acc\", scale=alt.Scale(scheme=\"redyellowgreen\", domain=(0, 1))\n",
    "    ),\n",
    "    tooltip=[\n",
    "        \"p_noise\", \"hidden_units\", \"cleanup_units\", \"learning_rate\", \"word_acc\",\n",
    "        \"nonword_acc\"\n",
    "    ],\n",
    ").add_selection(sel_epoch).transform_filter(sel_epoch).properties(\n",
    "    title=\"Nonword acc\"\n",
    ")"
   ]
  },
  {
   "cell_type": "code",
   "execution_count": null,
   "metadata": {},
   "outputs": [],
   "source": [
    "alt.Chart(dfc).mark_rect().encode(\n",
    "    x=\"p_noise:O\",\n",
    "    y=\"hidden_units:O\",\n",
    "    row=\"learning_rate:O\",\n",
    "    color=alt.Color(\n",
    "        \"word_advantage\",\n",
    "        scale=alt.Scale(scheme=\"redyellowgreen\", domain=(-0.3, 0.3))\n",
    "    ),\n",
    "    tooltip=[\n",
    "        \"p_noise\", \"hidden_units\", \"cleanup_units\", \"learning_rate\", \"word_acc\",\n",
    "        \"nonword_acc\"\n",
    "    ],\n",
    ").add_selection(sel_epoch).transform_filter(sel_epoch).properties(\n",
    "    title=\"Word advantage (Word - Nonword)\"\n",
    ")"
   ]
  },
  {
   "cell_type": "code",
   "execution_count": null,
   "metadata": {},
   "outputs": [],
   "source": [
    "# # Get model level mean word advantage sorting\n",
    "# # Merge it back to cell level df\n",
    "\n",
    "# dfm = dfc.pivot_table(\n",
    "#     index=['hidden_units', 'cleanup_units', 'p_noise', 'learning_rate']\n",
    "# ).reset_index()\n",
    "\n",
    "# dfm['cell_id'] = dfm.index\n",
    "# dfms = dfm.sort_values('word_advantage').reset_index(drop=True)\n",
    "# dfms['sorted_adv'] = dfms.index\n",
    "# dfms = dfms[['code_name', 'cell_id', 'sorted_adv']]\n",
    "\n",
    "# dfc = dfc.merge(dfms, on='code_name')"
   ]
  },
  {
   "cell_type": "code",
   "execution_count": null,
   "metadata": {},
   "outputs": [],
   "source": [
    "dfc"
   ]
  },
  {
   "cell_type": "markdown",
   "metadata": {},
   "source": [
    "### P-noise without aggregation"
   ]
  },
  {
   "cell_type": "code",
   "execution_count": null,
   "metadata": {},
   "outputs": [],
   "source": [
    "diagonal = alt.Chart(pd.DataFrame({\n",
    "    'x': [0, 1],\n",
    "    'y': [0, 1]\n",
    "})).mark_line(color='black').encode(x='x', y='y')\n",
    "\n",
    "plot_pnoise = alt.Chart().mark_line().encode(\n",
    "    y=alt.Y(\"nonword_acc:Q\", scale=alt.Scale(domain=(0, 1))),\n",
    "    x=alt.X(\"word_acc:Q\", scale=alt.Scale(domain=(0, 1))),\n",
    "    color=alt.Color(\"p_noise\", type='ordinal', scale=alt.Scale(scheme=\"reds\")),\n",
    "    tooltip=[\n",
    "        \"epoch\", \"hidden_units\", \"cleanup_units\", \"p_noise\", \"learning_rate\",\n",
    "        \"word_acc\", \"nonword_acc\"\n",
    "    ],\n",
    ")\n",
    "\n",
    "alt.layer(diagonal + plot_pnoise,\n",
    "          data=dfc).facet(row=\"hidden_units:O\", column=\"learning_rate:O\")"
   ]
  },
  {
   "cell_type": "markdown",
   "metadata": {},
   "source": [
    "### Hidden units effect"
   ]
  },
  {
   "cell_type": "code",
   "execution_count": null,
   "metadata": {},
   "outputs": [],
   "source": [
    "plot_hidden = alt.Chart().mark_line().encode(\n",
    "    y=alt.Y(\"nonword_acc:Q\", scale=alt.Scale(domain=(0, 1))),\n",
    "    x=alt.X(\"word_acc:Q\", scale=alt.Scale(domain=(0, 1))),\n",
    "    color=alt.Color(\n",
    "        \"hidden_units\", type=\"ordinal\", scale=alt.Scale(scheme=\"blues\")\n",
    "    ),\n",
    "    tooltip=[\n",
    "        \"epoch\", \"hidden_units\", \"cleanup_units\", \"p_noise\", \"learning_rate\",\n",
    "        \"word_acc\", \"nonword_acc\"\n",
    "    ],\n",
    ")\n",
    "\n",
    "alt.layer(diagonal + plot_hidden,\n",
    "          data=dfc).facet(row=\"p_noise:O\", column=\"learning_rate:O\")"
   ]
  },
  {
   "cell_type": "markdown",
   "metadata": {},
   "source": [
    "### Learning rate effect"
   ]
  },
  {
   "cell_type": "code",
   "execution_count": null,
   "metadata": {},
   "outputs": [],
   "source": [
    "plot_lr = alt.Chart().mark_line().encode(\n",
    "    y=alt.Y(\"nonword_acc:Q\", scale=alt.Scale(domain=(0, 1))),\n",
    "    x=alt.X(\"word_acc:Q\", scale=alt.Scale(domain=(0, 1))),\n",
    "    color=alt.Color(\n",
    "        \"learning_rate\", type=\"ordinal\", scale=alt.Scale(scheme=\"greens\")\n",
    "    ),\n",
    "    tooltip=[\n",
    "        \"epoch\", \"hidden_units\", \"cleanup_units\", \"p_noise\", \"learning_rate\",\n",
    "        \"word_acc\", \"nonword_acc\"\n",
    "    ],\n",
    ")\n",
    "\n",
    "alt.layer(diagonal + plot_lr,\n",
    "          data=dfc).facet(row=\"hidden_units:O\", column=\"p_noise:O\")"
   ]
  },
  {
   "cell_type": "code",
   "execution_count": null,
   "metadata": {},
   "outputs": [],
   "source": []
  }
 ],
 "metadata": {
  "kernelspec": {
   "display_name": "Python 3",
   "language": "python",
   "name": "python3"
  },
  "language_info": {
   "codemirror_mode": {
    "name": "ipython",
    "version": 3
   },
   "file_extension": ".py",
   "mimetype": "text/x-python",
   "name": "python",
   "nbconvert_exporter": "python",
   "pygments_lexer": "ipython3",
   "version": "3.5.3"
  }
 },
 "nbformat": 4,
 "nbformat_minor": 4
}
