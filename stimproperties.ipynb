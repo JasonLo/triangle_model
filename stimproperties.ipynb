{
 "cells": [
  {
   "cell_type": "markdown",
   "source": [
    "1. Align with accuracy instead of epoch\n",
    "- One epoch that closest to 80% accuracy on PHO\n",
    "2. Plot individual “network” difference beta over grid\n",
    "- Taraban : y~lm(freq x cons)\n",
    "- IMG-HS04 : y~lm(fxcximg)\n",
    "- Nonword Glushko overall: just acc\n",
    "3. Big stat model on the entire grid\n",
    "- Y ~ batch_size  or epsilon check same dimensions or not… \n",
    "- y ~ lm/lmer(batch_size  or epsilon * stimprop)  | testset x\n",
    "4. Also summarize DoL within the same grid [raw, same epoch at 1]\n",
    "- P: intact, OP, OSP\n",
    "- S: intact, OS, OPS\n"
   ],
   "metadata": {}
  },
  {
   "cell_type": "markdown",
   "source": [
    "# Get merged data"
   ],
   "metadata": {}
  },
  {
   "cell_type": "code",
   "execution_count": 3,
   "source": [
    "import meta\n",
    "import os\n",
    "import pandas as pd\n",
    "import numpy as np\n",
    "import altair as alt\n",
    "from itertools import chain\n",
    "from tqdm import tqdm"
   ],
   "outputs": [],
   "metadata": {}
  },
  {
   "cell_type": "code",
   "execution_count": null,
   "source": [
    "class Batch:\n",
    "    \"\"\"\n",
    "    \n",
    "    \n",
    "    \"\"\"\n",
    "\n",
    "    def __init__(self, batch_name: str, tf_root: str = None):\n",
    "        self.batch_name = batch_name\n",
    "        self.json = os.path.join(\"models\", batch_name, \"batch_config.json\")\n",
    "        self.tf_root = tf_root if tf_root else \"./\"\n",
    "        self.cfg_df = self.parse_batch_config()\n",
    "        self.code_names = self.cfg_df.code_name.unique().tolist()\n",
    "        self.df = self.parse_df(['train_r100_triangle.csv'])\n",
    "\n",
    "    def mount_testset(self, csv: list):\n",
    "        self.df = self.parse_df(csv)\n",
    "\n",
    "    def subset_df(self, code_name:str=None, epoch:int=None, output_name:str=None, timetick:list=None, cond:list=None):\n",
    "        \"\"\"Return a subset of the dataframe.\"\"\"\n",
    "        df = self.df\n",
    "        df = df.loc[df.code_name == code_name] if code_name is not None else df\n",
    "        df = df.loc[df.epoch == epoch] if epoch is not None else df \n",
    "        df = df.loc[df.output_name == output_name] if output_name is not None else df\n",
    "        df = df.loc[df.timetick.isin(timetick)] if timetick is not None else df\n",
    "        df = df.loc[df.cond.isin(cond)] if cond is not None else df\n",
    "        return df\n",
    "\n",
    "    def subset_by_epoch_dict(self, sel_epoch:dict):\n",
    "        \"\"\"Return a subset of the dataframe using a epoch dictionary.\n",
    "        args:\n",
    "            sel_epoch: dictionary of epochs to select with k=code_name, v=epoch\n",
    "        \"\"\"\n",
    "        dfs = [self.subset_df(code_name=k, epoch=v) for k, v in sel_epoch.items()]\n",
    "        return self.concat_dfs(dfs)\n",
    "\n",
    "    def parse_batch_config(self):\n",
    "        df = meta.batch_json_to_df(self.json, tf_root=self.tf_root)\n",
    "        assert (\n",
    "            self.batch_name == \"task_effect\"\n",
    "        )  # Just in case I forgot to change below line in other batches\n",
    "        df[\"train_task\"] = [\n",
    "            \"OP\",\n",
    "            \"OS\",\n",
    "            \"Triangle\",\n",
    "        ] * 12  # Caution: this is a hack to get around list type config, only works for this batch\n",
    "        return df[[\"code_name\", \"batch_size\", \"learning_rate\", \"train_task\"]]\n",
    "\n",
    "    def parse_df(self, csv: list) -> pd.DataFrame:\n",
    "        files = chain.from_iterable([self.get_eval_file_names(x) for x in csv])\n",
    "        df = self.merge_from_file_names(files)\n",
    "        return df.merge(self.cfg_df, on=\"code_name\", how=\"left\")\n",
    "\n",
    "\n",
    "    def get_eval_file_names(self, csv_name: str) -> list:\n",
    "        \"\"\"Return a list of dataframes from a list of csvs.\"\"\"\n",
    "        return [\n",
    "            os.path.join(\n",
    "                self.tf_root, \"models\", self.batch_name, code_name, \"eval\", csv_name\n",
    "            )\n",
    "            for code_name in self.code_names\n",
    "        ]\n",
    "\n",
    "    def find_code_name(self, criteria: dict) -> str:\n",
    "        \"\"\"Return a code_name from a dictionary of criteria.\"\"\"\n",
    "        mask = None\n",
    "        for k, v in criteria.items():\n",
    "            hit = (self.cfg_df[k].isin(v)).to_list()\n",
    "            mask = hit if mask is None else (a & b for a, b in zip(mask, hit))\n",
    "\n",
    "        return self.cfg_df.code_name.loc[mask].tolist()\n",
    "\n",
    "    def find_epoch_by_acc(self, code_name: str, acc: float) -> int:\n",
    "        \"\"\"Return an epoch number from an accuracy.\"\"\"\n",
    "        df = self.df.loc[self.df.code_name == code_name]\n",
    "        df = df.loc[df.output_name == 'pho'] # PHO as criteria\n",
    "        df = df.loc[df.timetick.isin(range(8, 13))] # Selecting 8-12 ticks\n",
    "        df = df.groupby('epoch').mean().reset_index() # Group by epoch\n",
    "        idx = self.find_nearest(df.acc, acc) # Find nearest accuracy\n",
    "        return df.iloc[idx,].epoch # Return epoch\n",
    "        \n",
    "    @staticmethod\n",
    "    def merge_from_file_names(filenames: list) -> list:\n",
    "        \"\"\"Merge a list of dataframes into one.\"\"\"\n",
    "        dfs = [pd.read_csv(f) for f in filenames]\n",
    "        return Batch.concat_dfs(dfs)\n",
    "\n",
    "    @staticmethod\n",
    "    def concat_dfs(dfs: list) -> pd.DataFrame:\n",
    "        \"\"\"Return a dataframe from a list of dataframes.\"\"\"\n",
    "        return pd.concat(dfs, ignore_index=True).reset_index(drop=True)\n",
    "\n",
    "    @staticmethod\n",
    "    def find_nearest(array, value):\n",
    "        array = np.asarray(array)\n",
    "        idx = (np.abs(array - value)).argmin()\n",
    "        return idx\n",
    "\n",
    "    @staticmethod\n",
    "    def get_acc_based_df(self, acc: float) -> pd.DataFrame:\n",
    "        \"\"\"Return a dataframe of accuracy for a code_name.\"\"\"\n",
    "\n",
    "        df = self.df.loc[self.df.code_name == code_name].copy()\n",
    "        # Subset to nearest accuracy epoch\n",
    "        sel_epoch = self.find_epoch_by_acc(code_name, 0.8)\n",
    "        df = df.loc[df.epoch == sel_epoch]\n",
    "        return df\n",
    "\n",
    "\n",
    "    \n",
    "\n",
    "\n",
    "b = Batch(\"task_effect\")\n"
   ],
   "outputs": [],
   "metadata": {}
  },
  {
   "cell_type": "markdown",
   "source": [
    "# Find epoch that are closest to 80% accuracy in each network"
   ],
   "metadata": {}
  },
  {
   "cell_type": "markdown",
   "source": [
    "- Define by train_r100 testset\n",
    "- at 8-12 ticks"
   ],
   "metadata": {}
  },
  {
   "cell_type": "code",
   "execution_count": 4,
   "source": [
    "b.mount_testset(['taraban_triangle.csv'])"
   ],
   "outputs": [],
   "metadata": {}
  },
  {
   "cell_type": "code",
   "execution_count": 5,
   "source": [
    "sel_epoch = {x:b.find_epoch_by_acc(x, 0.8) for x in tqdm(b.code_names)}\n",
    "print(sel_epoch)"
   ],
   "outputs": [
    {
     "output_type": "stream",
     "name": "stderr",
     "text": [
      "100%|██████████| 36/36 [00:16<00:00,  2.13it/s]"
     ]
    },
    {
     "output_type": "stream",
     "name": "stdout",
     "text": [
      "{'task_effect_r0000': 1000.0, 'task_effect_r0001': 840.0, 'task_effect_r0002': 100.0, 'task_effect_r0003': 560.0, 'task_effect_r0004': 980.0, 'task_effect_r0005': 40.0, 'task_effect_r0006': 860.0, 'task_effect_r0007': 340.0, 'task_effect_r0008': 120.0, 'task_effect_r0009': 340.0, 'task_effect_r0010': 760.0, 'task_effect_r0011': 100.0, 'task_effect_r0012': 740.0, 'task_effect_r0013': 980.0, 'task_effect_r0014': 220.0, 'task_effect_r0015': 900.0, 'task_effect_r0016': 1000.0, 'task_effect_r0017': 40.0, 'task_effect_r0018': 980.0, 'task_effect_r0019': 780.0, 'task_effect_r0020': 20.0, 'task_effect_r0021': 780.0, 'task_effect_r0022': 760.0, 'task_effect_r0023': 120.0, 'task_effect_r0024': 20.0, 'task_effect_r0025': 20.0, 'task_effect_r0026': 880.0, 'task_effect_r0027': 1000.0, 'task_effect_r0028': 660.0, 'task_effect_r0029': 120.0, 'task_effect_r0030': 560.0, 'task_effect_r0031': 420.0, 'task_effect_r0032': 40.0, 'task_effect_r0033': 700.0, 'task_effect_r0034': 880.0, 'task_effect_r0035': 60.0}\n"
     ]
    },
    {
     "output_type": "stream",
     "name": "stderr",
     "text": [
      "\n"
     ]
    }
   ],
   "metadata": {}
  },
  {
   "cell_type": "code",
   "execution_count": 11,
   "source": [
    "df = b.subset_by_epoch_dict(sel_epoch)"
   ],
   "outputs": [],
   "metadata": {}
  },
  {
   "cell_type": "code",
   "execution_count": 12,
   "source": [
    "sel_conds = [\n",
    "    \"High-frequency exception\",\n",
    "    \"Regular control for High-frequency exception\",\n",
    "    \"Low-frequency exception\",\n",
    "    \"Regular control for Low-frequency exception\",\n",
    "    ]\n",
    "\n",
    "df = df.loc[df.cond.isin(sel_conds)] # Select conditions\n",
    "df = df.loc[df.output_name == 'pho'] # P output\n",
    "df = df.loc[df.timetick.isin(range(8, 13))] # timetick 8-12\n",
    "df = df.loc[df.train_task == 'Triangle'] "
   ],
   "outputs": [],
   "metadata": {}
  },
  {
   "cell_type": "code",
   "execution_count": 14,
   "source": [
    "df.to_csv('issues/0_batchsize_lr/taraban80.csv')"
   ],
   "outputs": [],
   "metadata": {}
  },
  {
   "cell_type": "code",
   "execution_count": 8,
   "source": [
    "df = df.groupby(['batch_size', 'learning_rate', 'code_name', 'epoch', 'cond']).mean().reset_index()"
   ],
   "outputs": [],
   "metadata": {}
  },
  {
   "cell_type": "markdown",
   "source": [
    "# Try inferential statistics"
   ],
   "metadata": {}
  },
  {
   "cell_type": "code",
   "execution_count": 36,
   "source": [
    "import statsmodels.formula.api as smf\n",
    "import statsmodels.api as sm\n",
    "from scipy.stats.mstats import zscore"
   ],
   "outputs": [],
   "metadata": {}
  },
  {
   "cell_type": "code",
   "execution_count": 53,
   "source": [
    "\n",
    "m = smf.glm(formula='zscore(acc) ~ zscore(learning_rate) + zscore(batch_size) + C(reg)  + C(freq)', data=mdf).fit()\n",
    "print(m.summary())"
   ],
   "outputs": [
    {
     "output_type": "stream",
     "name": "stdout",
     "text": [
      "                 Generalized Linear Model Regression Results                  \n",
      "==============================================================================\n",
      "Dep. Variable:            zscore(acc)   No. Observations:                   48\n",
      "Model:                            GLM   Df Residuals:                       43\n",
      "Model Family:                Gaussian   Df Model:                            4\n",
      "Link Function:               identity   Scale:                         0.58857\n",
      "Method:                          IRLS   Log-Likelihood:                -52.748\n",
      "Date:                Fri, 17 Sep 2021   Deviance:                       25.309\n",
      "Time:                        18:38:28   Pearson chi2:                     25.3\n",
      "No. Iterations:                     3                                         \n",
      "Covariance Type:            nonrobust                                         \n",
      "=========================================================================================\n",
      "                            coef    std err          z      P>|z|      [0.025      0.975]\n",
      "-----------------------------------------------------------------------------------------\n",
      "Intercept                -0.4978      0.192     -2.595      0.009      -0.874      -0.122\n",
      "C(reg)[T.Regular]         1.2888      0.221      5.819      0.000       0.855       1.723\n",
      "C(freq)[T.Low]           -0.2932      0.221     -1.324      0.185      -0.727       0.141\n",
      "zscore(learning_rate)     0.1866      0.111      1.685      0.092      -0.030       0.404\n",
      "zscore(batch_size)       -0.0344      0.111     -0.311      0.756      -0.251       0.183\n",
      "=========================================================================================\n"
     ]
    }
   ],
   "metadata": {}
  },
  {
   "cell_type": "code",
   "execution_count": 65,
   "source": [
    "m.params"
   ],
   "outputs": [
    {
     "output_type": "execute_result",
     "data": {
      "text/plain": [
       "Intercept               -0.497771\n",
       "C(reg)[T.Regular]        1.288786\n",
       "C(freq)[T.Low]          -0.293243\n",
       "zscore(learning_rate)    0.186576\n",
       "zscore(batch_size)      -0.034421\n",
       "dtype: float64"
      ]
     },
     "metadata": {},
     "execution_count": 65
    }
   ],
   "metadata": {}
  },
  {
   "cell_type": "code",
   "execution_count": 38,
   "source": [
    "df.columns"
   ],
   "outputs": [
    {
     "output_type": "execute_result",
     "data": {
      "text/plain": [
       "Index(['batch_size', 'learning_rate', 'code_name', 'epoch', 'timetick', 'freq',\n",
       "       'reg', 'word', 'acc', 'sse'],\n",
       "      dtype='object')"
      ]
     },
     "metadata": {},
     "execution_count": 38
    }
   ],
   "metadata": {}
  },
  {
   "cell_type": "code",
   "execution_count": 35,
   "source": [],
   "outputs": [
    {
     "output_type": "stream",
     "name": "stdout",
     "text": [
      "                 Generalized Linear Model Regression Results                  \n",
      "==============================================================================\n",
      "Dep. Variable:                    acc   No. Observations:                 5580\n",
      "Model:                            GLM   Df Residuals:                     5577\n",
      "Model Family:                Binomial   Df Model:                            2\n",
      "Link Function:                  logit   Scale:                          1.0000\n",
      "Method:                          IRLS   Log-Likelihood:                -3024.1\n",
      "Date:                Fri, 17 Sep 2021   Deviance:                       6048.2\n",
      "Time:                        18:20:08   Pearson chi2:                 5.59e+03\n",
      "No. Iterations:                     4                                         \n",
      "Covariance Type:            nonrobust                                         \n",
      "=================================================================================\n",
      "                    coef    std err          z      P>|z|      [0.025      0.975]\n",
      "---------------------------------------------------------------------------------\n",
      "Intercept         0.9942      0.051     19.667      0.000       0.895       1.093\n",
      "learning_rate    56.3042      8.420      6.687      0.000      39.802      72.806\n",
      "batch_size       -0.0014      0.001     -1.281      0.200      -0.004       0.001\n",
      "=================================================================================\n"
     ]
    }
   ],
   "metadata": {}
  },
  {
   "cell_type": "code",
   "execution_count": 18,
   "source": [
    "alt.Chart(df).mark_text().encode(\n",
    "    x='learning_rate:O',\n",
    "    y='batch_size:O',\n",
    "    text='mean(acc):Q'\n",
    "    ).properties(width=500, height=500)"
   ],
   "outputs": [
    {
     "output_type": "execute_result",
     "data": {
      "text/html": [
       "\n",
       "<div id=\"altair-viz-adb0192a91c54b7a9f0113540d8ad455\"></div>\n",
       "<script type=\"text/javascript\">\n",
       "  (function(spec, embedOpt){\n",
       "    let outputDiv = document.currentScript.previousElementSibling;\n",
       "    if (outputDiv.id !== \"altair-viz-adb0192a91c54b7a9f0113540d8ad455\") {\n",
       "      outputDiv = document.getElementById(\"altair-viz-adb0192a91c54b7a9f0113540d8ad455\");\n",
       "    }\n",
       "    const paths = {\n",
       "      \"vega\": \"https://cdn.jsdelivr.net/npm//vega@5?noext\",\n",
       "      \"vega-lib\": \"https://cdn.jsdelivr.net/npm//vega-lib?noext\",\n",
       "      \"vega-lite\": \"https://cdn.jsdelivr.net/npm//vega-lite@4.8.1?noext\",\n",
       "      \"vega-embed\": \"https://cdn.jsdelivr.net/npm//vega-embed@6?noext\",\n",
       "    };\n",
       "\n",
       "    function loadScript(lib) {\n",
       "      return new Promise(function(resolve, reject) {\n",
       "        var s = document.createElement('script');\n",
       "        s.src = paths[lib];\n",
       "        s.async = true;\n",
       "        s.onload = () => resolve(paths[lib]);\n",
       "        s.onerror = () => reject(`Error loading script: ${paths[lib]}`);\n",
       "        document.getElementsByTagName(\"head\")[0].appendChild(s);\n",
       "      });\n",
       "    }\n",
       "\n",
       "    function showError(err) {\n",
       "      outputDiv.innerHTML = `<div class=\"error\" style=\"color:red;\">${err}</div>`;\n",
       "      throw err;\n",
       "    }\n",
       "\n",
       "    function displayChart(vegaEmbed) {\n",
       "      vegaEmbed(outputDiv, spec, embedOpt)\n",
       "        .catch(err => showError(`Javascript Error: ${err.message}<br>This usually means there's a typo in your chart specification. See the javascript console for the full traceback.`));\n",
       "    }\n",
       "\n",
       "    if(typeof define === \"function\" && define.amd) {\n",
       "      requirejs.config({paths});\n",
       "      require([\"vega-embed\"], displayChart, err => showError(`Error loading script: ${err.message}`));\n",
       "    } else if (typeof vegaEmbed === \"function\") {\n",
       "      displayChart(vegaEmbed);\n",
       "    } else {\n",
       "      loadScript(\"vega\")\n",
       "        .then(() => loadScript(\"vega-lite\"))\n",
       "        .then(() => loadScript(\"vega-embed\"))\n",
       "        .catch(showError)\n",
       "        .then(() => displayChart(vegaEmbed));\n",
       "    }\n",
       "  })({\"config\": {\"view\": {\"continuousWidth\": 400, \"continuousHeight\": 300}}, \"data\": {\"name\": \"data-6b050080a12002dd87fd72db9d778fa5\"}, \"mark\": \"text\", \"encoding\": {\"text\": {\"type\": \"quantitative\", \"aggregate\": \"mean\", \"field\": \"acc\"}, \"x\": {\"type\": \"ordinal\", \"field\": \"learning_rate\"}, \"y\": {\"type\": \"ordinal\", \"field\": \"batch_size\"}}, \"height\": 500, \"width\": 500, \"$schema\": \"https://vega.github.io/schema/vega-lite/v4.8.1.json\", \"datasets\": {\"data-6b050080a12002dd87fd72db9d778fa5\": [{\"batch_size\": 1, \"learning_rate\": 0.0001, \"code_name\": \"task_effect_r0002\", \"epoch\": 120, \"cond\": \"High-frequency exception\", \"Unnamed: 0\": 27911.0, \"acc\": 0.5739130434782609, \"sse\": 0.9679815961860869, \"act0\": 0.009761245990434783, \"act1\": 0.9445775645217391, \"timetick_idx\": 10.0, \"timetick\": 10.0}, {\"batch_size\": 1, \"learning_rate\": 0.0001, \"code_name\": \"task_effect_r0002\", \"epoch\": 120, \"cond\": \"Low-frequency exception\", \"Unnamed: 0\": 27958.5, \"acc\": 0.625, \"sse\": 0.8740266740916667, \"act0\": 0.008917220924166667, \"act1\": 0.9372246941666666, \"timetick_idx\": 10.0, \"timetick\": 10.0}, {\"batch_size\": 1, \"learning_rate\": 0.0001, \"code_name\": \"task_effect_r0002\", \"epoch\": 120, \"cond\": \"Regular control for High-frequency exception\", \"Unnamed: 0\": 28004.0, \"acc\": 1.0, \"sse\": 0.07271496127478261, \"act0\": 0.006647302608695652, \"act1\": 0.9933122053913044, \"timetick_idx\": 10.0, \"timetick\": 10.0}, {\"batch_size\": 1, \"learning_rate\": 0.0001, \"code_name\": \"task_effect_r0002\", \"epoch\": 120, \"cond\": \"Regular control for Low-frequency exception\", \"Unnamed: 0\": 28050.0, \"acc\": 1.0, \"sse\": 0.059937292704347826, \"act0\": 0.006565524114782608, \"act1\": 0.9956698702608695, \"timetick_idx\": 10.0, \"timetick\": 10.0}, {\"batch_size\": 1, \"learning_rate\": 0.001, \"code_name\": \"task_effect_r0005\", \"epoch\": 40, \"cond\": \"High-frequency exception\", \"Unnamed: 0\": 8567.0, \"acc\": 0.8, \"sse\": 0.32559856068485005, \"act0\": 0.00024228025120394783, \"act1\": 0.9710726060869566, \"timetick_idx\": 10.0, \"timetick\": 10.0}, {\"batch_size\": 1, \"learning_rate\": 0.001, \"code_name\": \"task_effect_r0005\", \"epoch\": 40, \"cond\": \"Low-frequency exception\", \"Unnamed: 0\": 8614.5, \"acc\": 0.775, \"sse\": 0.32896136610755256, \"act0\": 0.00032770089716584996, \"act1\": 0.9729253966666668, \"timetick_idx\": 10.0, \"timetick\": 10.0}, {\"batch_size\": 1, \"learning_rate\": 0.001, \"code_name\": \"task_effect_r0005\", \"epoch\": 40, \"cond\": \"Regular control for High-frequency exception\", \"Unnamed: 0\": 8660.0, \"acc\": 0.9130434782608695, \"sse\": 0.09197472957371212, \"act0\": 4.485047368365218e-05, \"act1\": 0.9917783751304348, \"timetick_idx\": 10.0, \"timetick\": 10.0}, {\"batch_size\": 1, \"learning_rate\": 0.001, \"code_name\": \"task_effect_r0005\", \"epoch\": 40, \"cond\": \"Regular control for Low-frequency exception\", \"Unnamed: 0\": 8706.0, \"acc\": 0.7478260869565218, \"sse\": 0.4406311907132596, \"act0\": 9.141556059155652e-05, \"act1\": 0.9621354446086956, \"timetick_idx\": 10.0, \"timetick\": 10.0}, {\"batch_size\": 1, \"learning_rate\": 0.005, \"code_name\": \"task_effect_r0008\", \"epoch\": 120, \"cond\": \"High-frequency exception\", \"Unnamed: 0\": 27911.0, \"acc\": 0.9130434782608695, \"sse\": 0.08807752210177494, \"act0\": 1.5648213471298323e-05, \"act1\": 0.9929584181739131, \"timetick_idx\": 10.0, \"timetick\": 10.0}, {\"batch_size\": 1, \"learning_rate\": 0.005, \"code_name\": \"task_effect_r0008\", \"epoch\": 120, \"cond\": \"Low-frequency exception\", \"Unnamed: 0\": 27958.5, \"acc\": 0.8166666666666667, \"sse\": 0.27900414213517666, \"act0\": 0.00010242930392528823, \"act1\": 0.9770955169166666, \"timetick_idx\": 10.0, \"timetick\": 10.0}, {\"batch_size\": 1, \"learning_rate\": 0.005, \"code_name\": \"task_effect_r0008\", \"epoch\": 120, \"cond\": \"Regular control for High-frequency exception\", \"Unnamed: 0\": 28004.0, \"acc\": 0.8260869565217391, \"sse\": 0.17396841191462167, \"act0\": 2.3496382112758378e-07, \"act1\": 0.9844588607826087, \"timetick_idx\": 10.0, \"timetick\": 10.0}, {\"batch_size\": 1, \"learning_rate\": 0.005, \"code_name\": \"task_effect_r0008\", \"epoch\": 120, \"cond\": \"Regular control for Low-frequency exception\", \"Unnamed: 0\": 28050.0, \"acc\": 0.782608695652174, \"sse\": 0.21739134028158585, \"act0\": 1.2978443606942384e-07, \"act1\": 0.981230719652174, \"timetick_idx\": 10.0, \"timetick\": 10.0}, {\"batch_size\": 1, \"learning_rate\": 0.01, \"code_name\": \"task_effect_r0011\", \"epoch\": 80, \"cond\": \"High-frequency exception\", \"Unnamed: 0\": 18239.0, \"acc\": 0.7304347826086957, \"sse\": 0.4641691190370367, \"act0\": 0.0004145363612244497, \"act1\": 0.961088928347826, \"timetick_idx\": 10.0, \"timetick\": 10.0}, {\"batch_size\": 1, \"learning_rate\": 0.01, \"code_name\": \"task_effect_r0011\", \"epoch\": 80, \"cond\": \"Low-frequency exception\", \"Unnamed: 0\": 18286.5, \"acc\": 0.7083333333333334, \"sse\": 0.6647557334819307, \"act0\": 0.00022832662760906302, \"act1\": 0.9466100868333334, \"timetick_idx\": 10.0, \"timetick\": 10.0}, {\"batch_size\": 1, \"learning_rate\": 0.01, \"code_name\": \"task_effect_r0011\", \"epoch\": 80, \"cond\": \"Regular control for High-frequency exception\", \"Unnamed: 0\": 18332.0, \"acc\": 0.782608695652174, \"sse\": 0.26138663591490596, \"act0\": 1.3678535998925901e-05, \"act1\": 0.9702796260869565, \"timetick_idx\": 10.0, \"timetick\": 10.0}, {\"batch_size\": 1, \"learning_rate\": 0.01, \"code_name\": \"task_effect_r0011\", \"epoch\": 80, \"cond\": \"Regular control for Low-frequency exception\", \"Unnamed: 0\": 18378.0, \"acc\": 0.6956521739130435, \"sse\": 0.39137169524059456, \"act0\": 6.266267202250609e-08, \"act1\": 0.9629198769565217, \"timetick_idx\": 10.0, \"timetick\": 10.0}, {\"batch_size\": 4, \"learning_rate\": 0.0001, \"code_name\": \"task_effect_r0014\", \"epoch\": 240, \"cond\": \"High-frequency exception\", \"Unnamed: 0\": 56927.0, \"acc\": 0.5304347826086957, \"sse\": 1.1093737575391305, \"act0\": 0.012336909581739131, \"act1\": 0.9382045373043478, \"timetick_idx\": 10.0, \"timetick\": 10.0}, {\"batch_size\": 4, \"learning_rate\": 0.0001, \"code_name\": \"task_effect_r0014\", \"epoch\": 240, \"cond\": \"Low-frequency exception\", \"Unnamed: 0\": 56974.5, \"acc\": 0.5, \"sse\": 0.9819152082833333, \"act0\": 0.0116330671425, \"act1\": 0.9348394721666666, \"timetick_idx\": 10.0, \"timetick\": 10.0}, {\"batch_size\": 4, \"learning_rate\": 0.0001, \"code_name\": \"task_effect_r0014\", \"epoch\": 240, \"cond\": \"Regular control for High-frequency exception\", \"Unnamed: 0\": 57020.0, \"acc\": 0.991304347826087, \"sse\": 0.15883571940869565, \"act0\": 0.009172421305217391, \"act1\": 0.9949108818260869, \"timetick_idx\": 10.0, \"timetick\": 10.0}, {\"batch_size\": 4, \"learning_rate\": 0.0001, \"code_name\": \"task_effect_r0014\", \"epoch\": 240, \"cond\": \"Regular control for Low-frequency exception\", \"Unnamed: 0\": 57066.0, \"acc\": 1.0, \"sse\": 0.13008134753913042, \"act0\": 0.009119708499130436, \"act1\": 0.997448038173913, \"timetick_idx\": 10.0, \"timetick\": 10.0}, {\"batch_size\": 4, \"learning_rate\": 0.001, \"code_name\": \"task_effect_r0017\", \"epoch\": 40, \"cond\": \"High-frequency exception\", \"Unnamed: 0\": 8567.0, \"acc\": 0.8347826086956521, \"sse\": 0.3719317406771305, \"act0\": 0.001962330277478261, \"act1\": 0.9707698127826087, \"timetick_idx\": 10.0, \"timetick\": 10.0}, {\"batch_size\": 4, \"learning_rate\": 0.001, \"code_name\": \"task_effect_r0017\", \"epoch\": 40, \"cond\": \"Low-frequency exception\", \"Unnamed: 0\": 8614.5, \"acc\": 0.49166666666666664, \"sse\": 0.7894406296083333, \"act0\": 0.0023781789184166664, \"act1\": 0.9402853046666666, \"timetick_idx\": 10.0, \"timetick\": 10.0}, {\"batch_size\": 4, \"learning_rate\": 0.001, \"code_name\": \"task_effect_r0017\", \"epoch\": 40, \"cond\": \"Regular control for High-frequency exception\", \"Unnamed: 0\": 8660.0, \"acc\": 1.0, \"sse\": 0.018731989101391303, \"act0\": 0.0006769666848695652, \"act1\": 0.9967046726086956, \"timetick_idx\": 10.0, \"timetick\": 10.0}, {\"batch_size\": 4, \"learning_rate\": 0.001, \"code_name\": \"task_effect_r0017\", \"epoch\": 40, \"cond\": \"Regular control for Low-frequency exception\", \"Unnamed: 0\": 8706.0, \"acc\": 1.0, \"sse\": 0.0073664943605217395, \"act0\": 0.0006288041014347826, \"act1\": 0.9990163533913043, \"timetick_idx\": 10.0, \"timetick\": 10.0}, {\"batch_size\": 4, \"learning_rate\": 0.005, \"code_name\": \"task_effect_r0020\", \"epoch\": 20, \"cond\": \"High-frequency exception\", \"Unnamed: 0\": 3731.0, \"acc\": 0.8, \"sse\": 0.35746062942390266, \"act0\": 0.0008150673520164348, \"act1\": 0.9748029488695652, \"timetick_idx\": 10.0, \"timetick\": 10.0}, {\"batch_size\": 4, \"learning_rate\": 0.005, \"code_name\": \"task_effect_r0020\", \"epoch\": 20, \"cond\": \"Low-frequency exception\", \"Unnamed: 0\": 3778.5, \"acc\": 0.6416666666666667, \"sse\": 0.5980645086667429, \"act0\": 0.00086256681633025, \"act1\": 0.9486653955833333, \"timetick_idx\": 10.0, \"timetick\": 10.0}, {\"batch_size\": 4, \"learning_rate\": 0.005, \"code_name\": \"task_effect_r0020\", \"epoch\": 20, \"cond\": \"Regular control for High-frequency exception\", \"Unnamed: 0\": 3824.0, \"acc\": 0.8695652173913043, \"sse\": 0.17671069719387208, \"act0\": 2.4182353389913042e-05, \"act1\": 0.9841978473043479, \"timetick_idx\": 10.0, \"timetick\": 10.0}, {\"batch_size\": 4, \"learning_rate\": 0.005, \"code_name\": \"task_effect_r0020\", \"epoch\": 20, \"cond\": \"Regular control for Low-frequency exception\", \"Unnamed: 0\": 3870.0, \"acc\": 0.782608695652174, \"sse\": 0.26280735330319516, \"act0\": 1.8315312864869567e-05, \"act1\": 0.9779500519130434, \"timetick_idx\": 10.0, \"timetick\": 10.0}, {\"batch_size\": 4, \"learning_rate\": 0.01, \"code_name\": \"task_effect_r0023\", \"epoch\": 160, \"cond\": \"High-frequency exception\", \"Unnamed: 0\": 37583.0, \"acc\": 0.8434782608695652, \"sse\": 0.152291152111906, \"act0\": 5.779590510142609e-07, \"act1\": 0.9863182203478261, \"timetick_idx\": 10.0, \"timetick\": 10.0}, {\"batch_size\": 4, \"learning_rate\": 0.01, \"code_name\": \"task_effect_r0023\", \"epoch\": 160, \"cond\": \"Low-frequency exception\", \"Unnamed: 0\": 37630.5, \"acc\": 0.9, \"sse\": 0.14050650167693682, \"act0\": 1.9312357561071665e-06, \"act1\": 0.9867263975, \"timetick_idx\": 10.0, \"timetick\": 10.0}, {\"batch_size\": 4, \"learning_rate\": 0.01, \"code_name\": \"task_effect_r0023\", \"epoch\": 160, \"cond\": \"Regular control for High-frequency exception\", \"Unnamed: 0\": 37676.0, \"acc\": 0.782608695652174, \"sse\": 0.21736683647038665, \"act0\": 1.1758675687043478e-08, \"act1\": 0.9797126186956522, \"timetick_idx\": 10.0, \"timetick\": 10.0}, {\"batch_size\": 4, \"learning_rate\": 0.01, \"code_name\": \"task_effect_r0023\", \"epoch\": 160, \"cond\": \"Regular control for Low-frequency exception\", \"Unnamed: 0\": 37722.0, \"acc\": 0.7739130434782608, \"sse\": 0.21080823929248388, \"act0\": 5.904530201333044e-07, \"act1\": 0.9810424688695651, \"timetick_idx\": 10.0, \"timetick\": 10.0}, {\"batch_size\": 64, \"learning_rate\": 0.0001, \"code_name\": \"task_effect_r0026\", \"epoch\": 960, \"cond\": \"High-frequency exception\", \"Unnamed: 0\": 231023.0, \"acc\": 0.40869565217391307, \"sse\": 1.6393320329043477, \"act0\": 0.02954223145217391, \"act1\": 0.9080726549565217, \"timetick_idx\": 10.0, \"timetick\": 10.0}, {\"batch_size\": 64, \"learning_rate\": 0.0001, \"code_name\": \"task_effect_r0026\", \"epoch\": 960, \"cond\": \"Low-frequency exception\", \"Unnamed: 0\": 231070.5, \"acc\": 0.36666666666666664, \"sse\": 1.54983895275, \"act0\": 0.029211744158333334, \"act1\": 0.90325534375, \"timetick_idx\": 10.0, \"timetick\": 10.0}, {\"batch_size\": 64, \"learning_rate\": 0.0001, \"code_name\": \"task_effect_r0026\", \"epoch\": 960, \"cond\": \"Regular control for High-frequency exception\", \"Unnamed: 0\": 231116.0, \"acc\": 0.991304347826087, \"sse\": 0.35777598382608694, \"act0\": 0.02560661016521739, \"act1\": 0.9861557293913042, \"timetick_idx\": 10.0, \"timetick\": 10.0}, {\"batch_size\": 64, \"learning_rate\": 0.0001, \"code_name\": \"task_effect_r0026\", \"epoch\": 960, \"cond\": \"Regular control for Low-frequency exception\", \"Unnamed: 0\": 231162.0, \"acc\": 1.0, \"sse\": 0.32839054939130435, \"act0\": 0.02488007808695652, \"act1\": 0.9937463871304347, \"timetick_idx\": 10.0, \"timetick\": 10.0}, {\"batch_size\": 64, \"learning_rate\": 0.001, \"code_name\": \"task_effect_r0029\", \"epoch\": 140, \"cond\": \"High-frequency exception\", \"Unnamed: 0\": 32747.0, \"acc\": 0.6608695652173913, \"sse\": 0.8092068738869566, \"act0\": 0.014563969742608696, \"act1\": 0.9530777278260869, \"timetick_idx\": 10.0, \"timetick\": 10.0}, {\"batch_size\": 64, \"learning_rate\": 0.001, \"code_name\": \"task_effect_r0029\", \"epoch\": 140, \"cond\": \"Low-frequency exception\", \"Unnamed: 0\": 32794.5, \"acc\": 0.5833333333333334, \"sse\": 0.7920580036166667, \"act0\": 0.014228933800833335, \"act1\": 0.94775632975, \"timetick_idx\": 10.0, \"timetick\": 10.0}, {\"batch_size\": 64, \"learning_rate\": 0.001, \"code_name\": \"task_effect_r0029\", \"epoch\": 140, \"cond\": \"Regular control for High-frequency exception\", \"Unnamed: 0\": 32840.0, \"acc\": 1.0, \"sse\": 0.12438005102608696, \"act0\": 0.011311581933913043, \"act1\": 0.9991742685217392, \"timetick_idx\": 10.0, \"timetick\": 10.0}, {\"batch_size\": 64, \"learning_rate\": 0.001, \"code_name\": \"task_effect_r0029\", \"epoch\": 140, \"cond\": \"Regular control for Low-frequency exception\", \"Unnamed: 0\": 32886.0, \"acc\": 1.0, \"sse\": 0.11277660707826087, \"act0\": 0.011590014942608695, \"act1\": 0.9987511123478261, \"timetick_idx\": 10.0, \"timetick\": 10.0}, {\"batch_size\": 64, \"learning_rate\": 0.005, \"code_name\": \"task_effect_r0032\", \"epoch\": 40, \"cond\": \"High-frequency exception\", \"Unnamed: 0\": 8567.0, \"acc\": 0.6521739130434783, \"sse\": 0.9343692556723653, \"act0\": 0.002280890952869565, \"act1\": 0.9205844826956521, \"timetick_idx\": 10.0, \"timetick\": 10.0}, {\"batch_size\": 64, \"learning_rate\": 0.005, \"code_name\": \"task_effect_r0032\", \"epoch\": 40, \"cond\": \"Low-frequency exception\", \"Unnamed: 0\": 8614.5, \"acc\": 0.5166666666666667, \"sse\": 0.9487521985783917, \"act0\": 0.0019416138263416666, \"act1\": 0.9116167329166667, \"timetick_idx\": 10.0, \"timetick\": 10.0}, {\"batch_size\": 64, \"learning_rate\": 0.005, \"code_name\": \"task_effect_r0032\", \"epoch\": 40, \"cond\": \"Regular control for High-frequency exception\", \"Unnamed: 0\": 8660.0, \"acc\": 0.8173913043478261, \"sse\": 0.29316312205143397, \"act0\": 0.00033619175806086956, \"act1\": 0.9635432751304348, \"timetick_idx\": 10.0, \"timetick\": 10.0}, {\"batch_size\": 64, \"learning_rate\": 0.005, \"code_name\": \"task_effect_r0032\", \"epoch\": 40, \"cond\": \"Regular control for Low-frequency exception\", \"Unnamed: 0\": 8706.0, \"acc\": 0.9565217391304348, \"sse\": 0.15375698280861738, \"act0\": 0.00039445979805217393, \"act1\": 0.982257797826087, \"timetick_idx\": 10.0, \"timetick\": 10.0}, {\"batch_size\": 64, \"learning_rate\": 0.01, \"code_name\": \"task_effect_r0035\", \"epoch\": 60, \"cond\": \"High-frequency exception\", \"Unnamed: 0\": 13403.0, \"acc\": 0.9043478260869565, \"sse\": 0.1815166648750147, \"act0\": 0.000490651154826087, \"act1\": 0.9859841893913043, \"timetick_idx\": 10.0, \"timetick\": 10.0}, {\"batch_size\": 64, \"learning_rate\": 0.01, \"code_name\": \"task_effect_r0035\", \"epoch\": 60, \"cond\": \"Low-frequency exception\", \"Unnamed: 0\": 13450.5, \"acc\": 0.8583333333333333, \"sse\": 0.22894031939885226, \"act0\": 0.00047969741938083335, \"act1\": 0.98290677825, \"timetick_idx\": 10.0, \"timetick\": 10.0}, {\"batch_size\": 64, \"learning_rate\": 0.01, \"code_name\": \"task_effect_r0035\", \"epoch\": 60, \"cond\": \"Regular control for High-frequency exception\", \"Unnamed: 0\": 13496.0, \"acc\": 0.9565217391304348, \"sse\": 0.0875922849612523, \"act0\": 4.5253436636521734e-05, \"act1\": 0.9918752739130435, \"timetick_idx\": 10.0, \"timetick\": 10.0}, {\"batch_size\": 64, \"learning_rate\": 0.01, \"code_name\": \"task_effect_r0035\", \"epoch\": 60, \"cond\": \"Regular control for Low-frequency exception\", \"Unnamed: 0\": 13542.0, \"acc\": 0.9130434782608695, \"sse\": 0.13110011807496746, \"act0\": 3.173915993913044e-05, \"act1\": 0.9883515966086956, \"timetick_idx\": 10.0, \"timetick\": 10.0}]}}, {\"mode\": \"vega-lite\"});\n",
       "</script>"
      ],
      "text/plain": [
       "alt.Chart(...)"
      ]
     },
     "metadata": {},
     "execution_count": 18
    }
   ],
   "metadata": {}
  },
  {
   "cell_type": "markdown",
   "source": [
    "# Taraban dataset"
   ],
   "metadata": {}
  },
  {
   "cell_type": "code",
   "execution_count": 32,
   "source": [
    "b.mount_testset(['taraban_triangle.csv'])\n",
    "df = b.subset_by_epoch_dict(sel_epoch)"
   ],
   "outputs": [],
   "metadata": {}
  },
  {
   "cell_type": "code",
   "execution_count": 33,
   "source": [
    "sel_conds = [\"High-frequency exception\",\n",
    "            \"Regular control for High-frequency exception\",\n",
    "            \"Low-frequency exception\",\n",
    "            \"Regular control for Low-frequency exception\",\n",
    "            ]\n",
    "\n",
    "df = df.loc[df.cond.isin(sel_conds)] # Select conditions\n",
    "df = df.loc[df.output_name == 'pho'] # P output\n",
    "df = df.loc[df.timetick.isin(range(8, 13))] # timetick 8-12\n",
    "df = df.loc[df.train_task == 'Triangle'] \n",
    "    \n",
    "df[\"freq\"] = df.cond.apply(\n",
    "    lambda x: \"High\"\n",
    "    if x\n",
    "    in (\"High-frequency exception\", \"Regular control for High-frequency exception\")\n",
    "    else \"Low\"\n",
    ")\n",
    "df[\"reg\"] = df.cond.apply(\n",
    "    lambda x: \"Regular\" if x.startswith(\"Regular\") else \"Exception\"\n",
    ")\n",
    "\n",
    "\n",
    "df = df[['batch_size', 'learning_rate', 'code_name', 'epoch', 'timetick', 'freq', 'reg', 'word', 'acc', 'sse']]\n",
    "df.to_csv(os.path.join('issues', '0_batchsize_lr', 'taraban80.csv'))\n",
    "mdf = df.groupby(['batch_size', 'learning_rate', 'freq', 'reg']).mean().reset_index()"
   ],
   "outputs": [],
   "metadata": {}
  },
  {
   "cell_type": "code",
   "execution_count": 23,
   "source": [
    "mdf = df.groupby(['batch_size', 'learning_rate', 'code_name', 'freq', 'reg']).mean().reset_index()\n",
    "\n",
    "def plot_taraban(df, metric: str = 'acc'):\n",
    "    metric_specific_scale = alt.Scale(domain=(0, 1)) if metric == \"acc\" else alt.Scale()\n",
    "    return alt.Chart(df).mark_line().encode(\n",
    "            x=alt.X(\"freq:N\", scale=alt.Scale(reverse=True)),\n",
    "            y=alt.Y(f\"mean({metric}):Q\", scale=metric_specific_scale),\n",
    "            row=\"batch_size:O\",\n",
    "            column=\"learning_rate:O\",\n",
    "            color=\"reg:N\",\n",
    "        ).properties(width=150, height=150)\n",
    "\n",
    "\n",
    "plot_taraban(mdf, 'acc').save('taraban_acc.html')"
   ],
   "outputs": [],
   "metadata": {}
  },
  {
   "cell_type": "code",
   "execution_count": null,
   "source": [
    "df.to_csv('taraban_at_80.csv')"
   ],
   "outputs": [],
   "metadata": {}
  },
  {
   "cell_type": "markdown",
   "source": [
    "### Select PHO accuracy at last time tick"
   ],
   "metadata": {}
  },
  {
   "cell_type": "code",
   "execution_count": null,
   "source": [
    "import altair as alt\n",
    "\n",
    "heat = alt.Chart(acc_df).mark_rect().encode(\n",
    "    x='learning_rate:O',\n",
    "    y=alt.Y('batch_size:O'),\n",
    "    color=alt.Color('acc:Q', scale=alt.Scale(domain=[0, 1])),\n",
    ")\n",
    "\n",
    "heat.mark_text().encode(\n",
    "    text=alt.Text('acc:Q', format='.2f')\n",
    ").properties(width=300, height=300).configure_text(fontSize=20)\n"
   ],
   "outputs": [],
   "metadata": {}
  },
  {
   "cell_type": "markdown",
   "source": [
    "### Selected epoch"
   ],
   "metadata": {}
  },
  {
   "cell_type": "code",
   "execution_count": null,
   "source": [
    "heat.mark_text().encode(\n",
    "    text=alt.Text('epoch:Q', format='.0f')\n",
    ").properties(width=300, height=300).configure_text(fontSize=20)"
   ],
   "outputs": [],
   "metadata": {}
  }
 ],
 "metadata": {
  "orig_nbformat": 4,
  "language_info": {
   "name": "python",
   "version": "3.7.10",
   "mimetype": "text/x-python",
   "codemirror_mode": {
    "name": "ipython",
    "version": 3
   },
   "pygments_lexer": "ipython3",
   "nbconvert_exporter": "python",
   "file_extension": ".py"
  },
  "kernelspec": {
   "name": "python3",
   "display_name": "Python 3.7.10 64-bit ('base': conda)"
  },
  "interpreter": {
   "hash": "98b0a9b7b4eaaa670588a142fd0a9b87eaafe866f1db4228be72b4211d12040f"
  }
 },
 "nbformat": 4,
 "nbformat_minor": 2
}