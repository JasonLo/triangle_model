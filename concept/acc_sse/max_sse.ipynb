{
 "cells": [
  {
   "cell_type": "code",
   "execution_count": null,
   "metadata": {},
   "outputs": [],
   "source": [
    "%load_ext lab_black"
   ]
  },
  {
   "cell_type": "markdown",
   "metadata": {},
   "source": [
    "Simulate SSE boundary which leads to ACC = 1"
   ]
  },
  {
   "cell_type": "code",
   "execution_count": null,
   "metadata": {},
   "outputs": [],
   "source": [
    "# Library from evaluate.py\n",
    "import numpy as np\n",
    "import pandas as pd\n",
    "\n",
    "\n",
    "def gen_pkey(p_file=\"../common/patterns/mappingv2.txt\"):\n",
    "    # read phonological patterns from the mapping file\n",
    "    # See Harm & Seidenberg PDF file\n",
    "    mapping = pd.read_table(p_file, header=None, delim_whitespace=True)\n",
    "    m_dict = mapping.set_index(0).T.to_dict(\"list\")\n",
    "    return m_dict\n",
    "\n",
    "\n",
    "def get_pronunciation_fast(act, phon_key):\n",
    "    phonemes = list(phon_key.keys())\n",
    "    act10 = np.tile([v for k, v in phon_key.items()], 10)\n",
    "\n",
    "    d = np.abs(act10 - act)\n",
    "    d_mat = np.reshape(d, (38, 10, 25))\n",
    "    sumd_mat = np.squeeze(np.sum(d_mat, 2))\n",
    "    map_idx = np.argmin(sumd_mat, 0)\n",
    "    out = str()\n",
    "    for x in map_idx:\n",
    "        out += phonemes[x]\n",
    "    return out\n",
    "\n",
    "\n",
    "def get_all_pronunciations_fast(act, phon_key):\n",
    "    return np.apply_along_axis(get_pronunciation_fast, 1, act, phon_key)\n",
    "\n",
    "\n",
    "def get_accuracy(output, target):\n",
    "    current_word = 0\n",
    "    accuracy_list = []\n",
    "    target = target.tolist()\n",
    "    for pronunciation in output:\n",
    "        accuracy_list.append(int(pronunciation == target[current_word]))\n",
    "        current_word += 1\n",
    "    return np.array(accuracy_list)\n",
    "\n",
    "\n",
    "def get_mean_accuracy(output, target):\n",
    "    return np.mean(get_accuracy(output, target))\n",
    "\n",
    "\n",
    "def get_sse(output, target):\n",
    "    sse_list = []\n",
    "    target = target.tolist()\n",
    "    for i in range(len(output)):\n",
    "        sse_list.append(np.sum(np.square(output[i] - target[i])))\n",
    "    return np.array(sse_list)\n",
    "\n",
    "\n",
    "def get_mean_sse(output, target):\n",
    "    return np.mean(get_sse(output, target)) / len(output)"
   ]
  },
  {
   "cell_type": "markdown",
   "metadata": {},
   "source": [
    "### Load Strain Dataset"
   ]
  },
  {
   "cell_type": "code",
   "execution_count": null,
   "metadata": {},
   "outputs": [],
   "source": [
    "pkey = gen_pkey(\"../../common/patterns/mappingv2.txt\")\n",
    "input_path = \"../../common/input/\"\n",
    "df_strain = pd.read_csv(input_path + \"df_strain.csv\", index_col=0)\n",
    "y_strain = np.load(input_path + \"y_strain.npz\")[\"data\"]"
   ]
  },
  {
   "cell_type": "markdown",
   "metadata": {},
   "source": [
    "### Main simulation function\n",
    "1. Add noise to teaching signal\n",
    "2. Convert noisy signal to P with mapping.txt\n",
    "3. Calculate SSE and ACC"
   ]
  },
  {
   "cell_type": "code",
   "execution_count": null,
   "metadata": {},
   "outputs": [],
   "source": [
    "def my_sim(noise_lv):\n",
    "    noisy_y = y_strain + noise_lv * np.random.rand(*y_strain.shape)\n",
    "    yp = get_all_pronunciations_fast(noisy_y, pkey)\n",
    "    sse = get_mean_sse(noisy_y, y_strain)\n",
    "    acc = get_mean_accuracy(yp, df_strain.pho)\n",
    "    return acc, sse"
   ]
  },
  {
   "cell_type": "markdown",
   "metadata": {},
   "source": [
    "Since too much noise will just wipe out accuracy, sim will keep noise level near 0.5 - 0.51, where near the boundary at each output"
   ]
  },
  {
   "cell_type": "code",
   "execution_count": null,
   "metadata": {},
   "outputs": [],
   "source": [
    "sims_acc = []\n",
    "sims_sse = []\n",
    "for noise in np.linspace(0.5, 0.51, 10000):\n",
    "    sims = my_sim(noise)\n",
    "    sims_acc.append(sims[0])\n",
    "    sims_sse.append(sims[1])"
   ]
  },
  {
   "cell_type": "markdown",
   "metadata": {},
   "source": [
    "Plot results"
   ]
  },
  {
   "cell_type": "code",
   "execution_count": null,
   "metadata": {},
   "outputs": [],
   "source": [
    "df = pd.DataFrame()\n",
    "df[\"acc\"] = sims_acc\n",
    "df[\"sse\"] = sims_sse\n",
    "df.plot.scatter(x=\"sse\", y=\"acc\")"
   ]
  },
  {
   "cell_type": "markdown",
   "metadata": {},
   "source": [
    "### Results\n",
    "- Simulated max SSE for 100% accuracy in Strain data set = 0.134"
   ]
  },
  {
   "cell_type": "code",
   "execution_count": null,
   "metadata": {},
   "outputs": [],
   "source": [
    "df.loc[df.acc == 1, \"sse\"].max()"
   ]
  }
 ],
 "metadata": {
  "environment": {
   "name": "tf2-gpu.2-1.m46",
   "type": "gcloud",
   "uri": "gcr.io/deeplearning-platform-release/tf2-gpu.2-1:m46"
  },
  "kernelspec": {
   "display_name": "Python 3",
   "language": "python",
   "name": "python3"
  },
  "language_info": {
   "codemirror_mode": {
    "name": "ipython",
    "version": 3
   },
   "file_extension": ".py",
   "mimetype": "text/x-python",
   "name": "python",
   "nbconvert_exporter": "python",
   "pygments_lexer": "ipython3",
   "version": "3.7.6"
  }
 },
 "nbformat": 4,
 "nbformat_minor": 4
}
