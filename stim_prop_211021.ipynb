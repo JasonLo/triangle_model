{
 "cells": [
  {
   "cell_type": "markdown",
   "metadata": {},
   "source": [
    "# Examine stimulus properties effects\n",
    "On PHO:\n",
    "- F + OP + IMG + OP x F + OP x IMG + F x IMG \n",
    "\n",
    "On SEM:\n",
    "- IMG x F\n",
    "\n",
    "Steps:\n",
    "1. Get output at tick 12\n",
    "2. Run lm on each rng_seed\n",
    "    - Logistic regression for accuracy\n",
    "    - Linear regression for SSE\n",
    "3. Extract all betas\n",
    "4. Average the betas over rng_seed\n",
    "5. Plot developmental and performance space\n",
    "    - add zero horizontal line\n",
    "    - add epoch info\n",
    "    - add sem in pho output plot, vice versa...\n",
    "6. Make interactive heat if I have enough time"
   ]
  },
  {
   "cell_type": "code",
   "execution_count": null,
   "metadata": {},
   "outputs": [],
   "source": [
    "# Utilities\n",
    "%load_ext google.cloud.bigquery\n",
    "import json\n",
    "import meta\n",
    "from tqdm import tqdm\n",
    "\n",
    "# Tidy and visualize\n",
    "import pandas as pd\n",
    "import numpy as np\n",
    "import altair as alt\n",
    "\n",
    "# Statistics\n",
    "from scipy.stats.mstats import zscore\n",
    "import statsmodels.formula.api as smf\n",
    "import statsmodels.api as sm"
   ]
  },
  {
   "cell_type": "markdown",
   "metadata": {},
   "source": [
    "# Variance"
   ]
  },
  {
   "cell_type": "code",
   "execution_count": null,
   "metadata": {},
   "outputs": [],
   "source": [
    "%%bigquery df_pho\n",
    "SELECT\n",
    "  code_name, epoch, AVG(acc) as mean_acc\n",
    "FROM\n",
    "  `majestic-camp-303620.station_3.train`\n",
    "WHERE\n",
    "  timetick = 12\n",
    "  AND output_name = 'pho'\n",
    "GROUP BY\n",
    "  code_name, epoch"
   ]
  },
  {
   "cell_type": "code",
   "execution_count": null,
   "metadata": {},
   "outputs": [],
   "source": [
    "%%bigquery df_sem\n",
    "SELECT\n",
    "  code_name, epoch, AVG(acc) as mean_acc\n",
    "FROM\n",
    "  `majestic-camp-303620.station_3.train`\n",
    "WHERE\n",
    "  timetick = 12\n",
    "  AND output_name = 'sem'\n",
    "GROUP BY\n",
    "  code_name, epoch"
   ]
  },
  {
   "cell_type": "code",
   "execution_count": null,
   "metadata": {},
   "outputs": [],
   "source": [
    "df_pho['y'] = 'pho'\n",
    "df_sem['y'] = 'sem'\n",
    "df = pd.concat([df_pho, df_sem])"
   ]
  },
  {
   "cell_type": "code",
   "execution_count": null,
   "metadata": {},
   "outputs": [],
   "source": [
    "json_file = \"models/station_3/batch_config.json\"\n",
    "\n",
    "with open(json_file) as f:\n",
    "    batch_cfgs = json.load(f)\n",
    "\n",
    "all_params = [pd.DataFrame(cfg[\"params\"]) for cfg in batch_cfgs if type(cfg[\"params\"].values()) is not list]\n",
    "cfgs = pd.concat(all_params, ignore_index=True)\n",
    "cfgs = cfgs.groupby(['code_name', 'batch_size', 'learning_rate']).mean().reset_index()\n",
    "cfgs = cfgs[['code_name', 'batch_size', 'learning_rate']]"
   ]
  },
  {
   "cell_type": "code",
   "execution_count": null,
   "metadata": {},
   "outputs": [],
   "source": [
    "df = df.merge(cfgs, on=['code_name'], how='left')"
   ]
  },
  {
   "cell_type": "code",
   "execution_count": null,
   "metadata": {},
   "outputs": [],
   "source": [
    "df"
   ]
  },
  {
   "cell_type": "code",
   "execution_count": null,
   "metadata": {},
   "outputs": [],
   "source": [
    "alt.data_transformers.disable_max_rows()\n",
    "\n",
    "acc = alt.Chart(df).mark_line().encode(\n",
    "    x='epoch:Q',\n",
    "    y='mean(mean_acc):Q',\n",
    "    color=\"code_name:N\",\n",
    "    strokeDash='y:N',\n",
    "    row='batch_size:O',\n",
    "    column='learning_rate:O',\n",
    ")\n",
    "acc.save('acc_stroke.html')\n"
   ]
  },
  {
   "cell_type": "code",
   "execution_count": null,
   "metadata": {},
   "outputs": [],
   "source": [
    "stdev = alt.Chart(df).mark_line().encode(\n",
    "    x='epoch:Q',\n",
    "    y='stdev(mean_acc):Q',\n",
    "    color='y:N',\n",
    "    row='batch_size:O',\n",
    "    column='learning_rate:O',\n",
    ")\n",
    "stdev.save('stdev.html')"
   ]
  },
  {
   "cell_type": "markdown",
   "metadata": {},
   "source": [
    "# H-param of interest"
   ]
  },
  {
   "cell_type": "code",
   "execution_count": null,
   "metadata": {},
   "outputs": [],
   "source": [
    "poi = 'hidden_os'\n",
    "poi_cfg_name = f\"{poi}_units\""
   ]
  },
  {
   "cell_type": "markdown",
   "metadata": {},
   "source": [
    "# Get PHO beta"
   ]
  },
  {
   "cell_type": "code",
   "execution_count": null,
   "metadata": {},
   "outputs": [],
   "source": [
    "%%bigquery df\n",
    "SELECT\n",
    "  code_name, epoch, word, acc, sse, output_name\n",
    "FROM\n",
    "  `majestic-camp-303620.hidden_os.train`\n",
    "WHERE\n",
    "  timetick = 12"
   ]
  },
  {
   "cell_type": "code",
   "execution_count": null,
   "metadata": {},
   "outputs": [],
   "source": [
    "# df.to_csv(\"models/hidden_op/pho_lasttick.csv\")"
   ]
  },
  {
   "cell_type": "code",
   "execution_count": null,
   "metadata": {},
   "outputs": [],
   "source": [
    "json_file = f\"models/{poi}/batch_config.json\"\n",
    "\n",
    "with open(json_file) as f:\n",
    "    batch_cfgs = json.load(f)\n",
    "\n",
    "all_params = [pd.DataFrame(cfg[\"params\"]) for cfg in batch_cfgs if type(cfg[\"params\"].values()) is not list]\n",
    "cfgs = pd.concat(all_params, ignore_index=True)\n",
    "cfgs = cfgs.groupby(['code_name', poi_cfg_name]).mean().reset_index()\n",
    "cfgs = cfgs[['code_name', poi_cfg_name]]"
   ]
  },
  {
   "cell_type": "code",
   "execution_count": null,
   "metadata": {},
   "outputs": [],
   "source": [
    "tf_root = os.environ.get(\"TF_ROOT\")\n",
    "\n",
    "surprisal = pd.read_csv(os.path.join(tf_root, \"corpus/noam_surprisal.csv\"))\n",
    "word2op_dict = {word: op for word, op in zip(surprisal.word, surprisal[\"uncond.surprisal\"])}\n",
    "\n",
    "df_train = pd.read_csv(os.path.join(tf_root, \"dataset/df_train.csv\"))\n",
    "word2wf_dict = {word: wf for word, wf in zip(df_train.word, df_train.wf)}\n",
    "\n",
    "img_replacement_value = df_train.img[0] # The first element is the mean replacement value in the dataset, get rid of it. \n",
    "word2img_dict = {word: img for word, img in zip(df_train.word, df_train.img) if not img == img_replacement_value}\n",
    "\n",
    "\n",
    "def word2op(word):\n",
    "    try:\n",
    "        return word2op_dict[word]\n",
    "    except:\n",
    "        return None\n",
    "\n",
    "def word2wf(word):\n",
    "    try:\n",
    "        return np.log10(word2wf_dict[word] + 1)\n",
    "    except:\n",
    "        return None\n",
    "\n",
    "def word2img(word):\n",
    "    try:\n",
    "        return word2img_dict[word]\n",
    "    except:\n",
    "        return None\n",
    "\n",
    "selected_words = set.intersection(set(word2op_dict.keys()), set(word2wf_dict.keys()), set(word2img_dict.keys()))"
   ]
  },
  {
   "cell_type": "code",
   "execution_count": null,
   "metadata": {},
   "outputs": [],
   "source": [
    "# calculate csse\n",
    "df = df[df.word.isin(selected_words)]\n",
    "\n",
    "df['csse'] = df.sse.loc[df.acc == 1]\n",
    "\n",
    "# Get wf and op for each word\n",
    "df['wf'] = df.word.apply(word2wf)\n",
    "df['op'] = df.word.apply(word2op)\n",
    "df['img'] = df.word.apply(word2img)\n",
    "\n",
    "# Get batch size and learning rate\n",
    "df = df.merge(cfgs, on=['code_name'], how='left')\n",
    "\n",
    "# checkpoint\n",
    "df.to_csv(f\"models/{poi}/parsed_df.csv\")"
   ]
  },
  {
   "cell_type": "code",
   "execution_count": null,
   "metadata": {},
   "outputs": [],
   "source": [
    "mdf = df.groupby([poi_cfg_name, 'epoch', 'output_name']).mean().reset_index()"
   ]
  },
  {
   "cell_type": "code",
   "execution_count": null,
   "metadata": {},
   "outputs": [],
   "source": [
    "alt.Chart(mdf).mark_line().encode(\n",
    "    x='epoch:Q',\n",
    "    y='mean(acc):Q',\n",
    "    color='output_name:N',\n",
    "    column=poi_cfg_name\n",
    ")"
   ]
  },
  {
   "cell_type": "code",
   "execution_count": null,
   "metadata": {},
   "outputs": [],
   "source": [
    "def get_beta(df: pd.DataFrame, output_name: str, code_name:str, epoch:int, metric:str) -> pd.DataFrame:\n",
    "    \"\"\"Run one GLM and get one row of beta\"\"\"\n",
    "\n",
    "    try:\n",
    "        sdf = df.loc[(df.epoch == epoch) & (df.code_name == code_name) & (df.output_name == output_name)]\n",
    "        poi_value = sdf[poi_cfg_name].unique()[0]\n",
    "\n",
    "        assert metric in ('acc', 'sse', 'csse')\n",
    "        sdf = sdf[['word', metric, 'op', 'wf', 'img']].dropna()\n",
    "\n",
    "        # Determine RHS by output_name\n",
    "        if output_name == 'pho':\n",
    "            rhs = \"zscore(op) * zscore(wf) + zscore(op) * zscore(img) + zscore(wf) * zscore(img) + 0\"\n",
    "        elif output_name == 'sem':\n",
    "            rhs = \"zscore(wf) * zscore(img) + 0\"\n",
    "        \n",
    "        # Determine LHS and link function by DV\n",
    "        if metric == 'acc':\n",
    "            m = smf.glm(formula=f\"acc ~ {rhs}\", family=sm.families.Binomial(), data=sdf).fit()\n",
    "        else:\n",
    "            m = smf.glm(formula=f\"zscore(csse) ~ {rhs}\", data=sdf).fit()\n",
    "\n",
    "        p = m.params\n",
    "        p['epoch'] = epoch\n",
    "        p['code_name'] = code_name\n",
    "        p[poi] = poi_value\n",
    "        p['metric'] = metric\n",
    "\n",
    "        return pd.DataFrame(p).T\n",
    "    except Exception:\n",
    "        return None"
   ]
  },
  {
   "cell_type": "code",
   "execution_count": null,
   "metadata": {},
   "outputs": [],
   "source": [
    "\n",
    "def make_beta_df(df, func, output_name:str, acc_label:str):\n",
    "    \"\"\"Make a dataframe of all the betas in each code_name, epoch, and metric (acc, csse)\n",
    "    df: item level raw data dataframe\n",
    "    func: function to get the beta for each row (e.g., get_pho_beta, get_sem_beta)\n",
    "    acc_label: label for the acc column (mean accuracy at a given epoch)\n",
    "    \"\"\"\n",
    "    \n",
    "    epoch_acc_map = df.loc[df.output_name == output_name].groupby(['code_name', 'epoch']).mean().reset_index()[['code_name', 'epoch', 'acc']]\n",
    "    epoch_acc_map.columns = ['code_name', 'epoch', acc_label]\n",
    "\n",
    "    code_names = sorted(df.code_name.unique())\n",
    "    epochs = sorted(df.epoch.unique())\n",
    "    metrics = ['acc', 'csse']\n",
    "\n",
    "    # Do the job\n",
    "    beta_df = pd.concat([func(df, output_name, code_name, epoch, metric) for code_name in tqdm(code_names) for epoch in epochs for metric in metrics], ignore_index=True)\n",
    "\n",
    "    beta_df = beta_df.melt(id_vars=['code_name', 'epoch', poi, 'metric'], var_name='param', value_name='beta')\n",
    "    beta_df = pd.merge(beta_df, epoch_acc_map, on=['code_name', 'epoch'], how='left').dropna()\n",
    "\n",
    "    return beta_df\n"
   ]
  },
  {
   "cell_type": "code",
   "execution_count": null,
   "metadata": {},
   "outputs": [],
   "source": [
    "pho_beta = make_beta_df(df, get_beta, 'pho', acc_label='pho_acc')"
   ]
  },
  {
   "cell_type": "code",
   "execution_count": null,
   "metadata": {},
   "outputs": [],
   "source": [
    "pho_beta.to_csv(f\"models/{poi}/pho_beta.csv\")"
   ]
  },
  {
   "cell_type": "markdown",
   "metadata": {},
   "source": [
    "# Get SEM betas"
   ]
  },
  {
   "cell_type": "code",
   "execution_count": null,
   "metadata": {},
   "outputs": [],
   "source": [
    "sem_beta = make_beta_df(df, get_beta, 'sem', acc_label='sem_acc')\n",
    "sem_beta.to_csv(f\"models/{poi}/sem_beta.csv\")"
   ]
  },
  {
   "cell_type": "markdown",
   "metadata": {},
   "source": [
    "# Exchange mean accuracy between PHO and SEM"
   ]
  },
  {
   "cell_type": "code",
   "execution_count": null,
   "metadata": {},
   "outputs": [],
   "source": [
    "sem_beta = pd.read_csv(f\"models/{poi}/sem_beta.csv\", index_col=0)\n",
    "pho_beta = pd.read_csv(f\"models/{poi}/pho_beta.csv\", index_col=0)"
   ]
  },
  {
   "cell_type": "code",
   "execution_count": null,
   "metadata": {},
   "outputs": [],
   "source": [
    "sem_acc_map = sem_beta.groupby(['code_name', 'epoch']).mean().reset_index()[['code_name', 'epoch', 'sem_acc']]\n",
    "pho_acc_map = pho_beta.groupby(['code_name', 'epoch']).mean().reset_index()[['code_name', 'epoch', 'pho_acc']]"
   ]
  },
  {
   "cell_type": "code",
   "execution_count": null,
   "metadata": {},
   "outputs": [],
   "source": [
    "pho_beta = pho_beta.merge(sem_acc_map, on=['code_name', 'epoch'], how='left')\n",
    "sem_beta = sem_beta.merge(pho_acc_map, on=['code_name', 'epoch'], how='left')"
   ]
  },
  {
   "cell_type": "code",
   "execution_count": null,
   "metadata": {},
   "outputs": [],
   "source": [
    "pho_beta.to_csv(f\"models/{poi}/pho_beta.csv\")\n",
    "sem_beta.to_csv(f\"models/{poi}/sem_beta.csv\")"
   ]
  },
  {
   "cell_type": "markdown",
   "metadata": {},
   "source": [
    "# Plotting"
   ]
  },
  {
   "cell_type": "code",
   "execution_count": null,
   "metadata": {},
   "outputs": [],
   "source": [
    "def plot_beta(df, x:str, metric:str, additional_acc: str):\n",
    "    \"\"\"Plot beta and save developmental and performance space.\"\"\"\n",
    "    df = df.loc[(df.metric == metric) & (df.epoch >= 300)].copy()\n",
    "    df['epoch'] = df.epoch - 300\n",
    " \n",
    "    selection = alt.selection_multi(fields=['param'], bind='legend')\n",
    "\n",
    "    # Line of betas\n",
    "    b = alt.Chart().mark_line(point=True).encode(\n",
    "        x=f\"{x}:Q\",\n",
    "        y=\"beta:Q\",\n",
    "        color=\"param:N\",\n",
    "        opacity=alt.condition(selection, alt.value(1), alt.value(0.))\n",
    "    ).add_selection(selection)\n",
    "\n",
    "    # Line of additional accuracy\n",
    "    a = alt.Chart().mark_line(color='black').encode(\n",
    "        x=f\"{x}:Q\",\n",
    "        y=f\"mean({additional_acc}):Q\",\n",
    "    )\n",
    "    \n",
    "    # Color point to indicate 50 epoch \n",
    "    p = (\n",
    "        alt.Chart()\n",
    "        .transform_filter(alt.datum.epoch == 100)\n",
    "        .mark_rule(color='red')\n",
    "        .encode(x=f\"{x}:Q\")\n",
    "    )\n",
    "\n",
    "    # h-line for easier reference\n",
    "    l = alt.Chart().mark_rule().encode(y='zero:Q').transform_calculate(zero=\"0\")\n",
    "\n",
    "    return (\n",
    "        alt.layer(l, b, p, a, data=df)\n",
    "        .facet(column=f\"{poi}:O\")\n",
    "        .interactive()\n",
    "    ).properties(title=f\"{metric}_by_{x}. Red vertical line indicate epoch == 100\")\n"
   ]
  },
  {
   "cell_type": "markdown",
   "metadata": {},
   "source": [
    "## Plot PHO"
   ]
  },
  {
   "cell_type": "code",
   "execution_count": null,
   "metadata": {},
   "outputs": [],
   "source": [
    "pho_beta = pd.read_csv(f\"models/{poi}/pho_beta.csv\", index_col=0)\n",
    "pho_beta = pho_beta.groupby(['epoch', poi, 'metric', 'param']).mean().reset_index()"
   ]
  },
  {
   "cell_type": "code",
   "execution_count": null,
   "metadata": {},
   "outputs": [],
   "source": [
    "os.makedirs(f\"models/{poi}/plots\", exist_ok=True)"
   ]
  },
  {
   "cell_type": "code",
   "execution_count": null,
   "metadata": {},
   "outputs": [],
   "source": [
    "plot_beta(pho_beta, x='epoch', metric='acc', additional_acc='sem_acc').save(f\"models/{poi}/plots/pho_beta_dev_acc.html\")\n",
    "plot_beta(pho_beta, x='epoch', metric='csse', additional_acc='sem_acc').save(f\"models/{poi}/plots/pho_beta_dev_csse.html\")\n",
    "plot_beta(pho_beta, x='pho_acc', metric='acc', additional_acc='sem_acc').save(f\"models/{poi}/plots/pho_beta_per_acc.html\")\n",
    "plot_beta(pho_beta, x='pho_acc', metric='csse', additional_acc='sem_acc').save(f\"models/{poi}/plots/pho_beta_per_csse.html\")"
   ]
  },
  {
   "cell_type": "markdown",
   "metadata": {},
   "source": [
    "## Plot SEM"
   ]
  },
  {
   "cell_type": "code",
   "execution_count": null,
   "metadata": {},
   "outputs": [],
   "source": [
    "sem_beta = pd.read_csv(f\"models/{poi}/sem_beta.csv\", index_col=0)\n",
    "sem_beta = sem_beta.groupby(['epoch', poi, 'metric', 'param']).mean().reset_index()"
   ]
  },
  {
   "cell_type": "code",
   "execution_count": null,
   "metadata": {},
   "outputs": [],
   "source": [
    "plot_beta(sem_beta, x='epoch', metric='acc', additional_acc='pho_acc').save(f\"models/{poi}/plots/sem_beta_dev_acc.html\")\n",
    "plot_beta(sem_beta, x='epoch', metric='csse', additional_acc='pho_acc').save(f\"models/{poi}/plots/sem_beta_dev_csse.html\")\n",
    "plot_beta(sem_beta, x='sem_acc', metric='acc', additional_acc='pho_acc').save(f\"models/{poi}/plots/sem_beta_per_acc.html\")\n",
    "plot_beta(sem_beta, x='sem_acc', metric='csse', additional_acc='pho_acc').save(f\"models/{poi}/plots/sem_beta_per_csse.html\")"
   ]
  }
 ],
 "metadata": {
  "interpreter": {
   "hash": "d4d1e4263499bec80672ea0156c357c1ee493ec2b1c70f0acce89fc37c4a6abe"
  },
  "kernelspec": {
   "display_name": "Python 3.7.10 64-bit ('base': conda)",
   "name": "python3"
  },
  "language_info": {
   "codemirror_mode": {
    "name": "ipython",
    "version": 3
   },
   "file_extension": ".py",
   "mimetype": "text/x-python",
   "name": "python",
   "nbconvert_exporter": "python",
   "pygments_lexer": "ipython3",
   "version": "3.7.10"
  }
 },
 "nbformat": 4,
 "nbformat_minor": 2
}
