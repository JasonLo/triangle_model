{
 "cells": [
  {
   "cell_type": "markdown",
   "metadata": {},
   "source": [
    "# Examine stimulus properties effects\n",
    "On PHO:\n",
    "- F + OP + IMG + OP x F + OP x IMG + F x IMG \n",
    "\n",
    "On SEM:\n",
    "- IMG x F\n",
    "\n",
    "Steps:\n",
    "1. Get output at tick 12\n",
    "2. Run lm on each rng_seed\n",
    "    - Logistic regression for accuracy\n",
    "    - Linear regression for SSE\n",
    "3. Extract all betas\n",
    "4. Average the betas over rng_seed\n",
    "5. Plot developmental and performance space\n",
    "    - add zero horizontal line\n",
    "    - add epoch info\n",
    "    - add sem in pho output plot, vice versa...\n",
    "6. Make interactive heat if I have enough time"
   ]
  },
  {
   "cell_type": "code",
   "execution_count": 1,
   "metadata": {},
   "outputs": [],
   "source": [
    "# Utilities\n",
    "%load_ext google.cloud.bigquery\n",
    "import json\n",
    "import meta\n",
    "from tqdm import tqdm\n",
    "\n",
    "# Tidy and visualize\n",
    "import pandas as pd\n",
    "import numpy as np\n",
    "import altair as alt\n",
    "\n",
    "# Statistics\n",
    "from scipy.stats.mstats import zscore\n",
    "import statsmodels.formula.api as smf\n",
    "import statsmodels.api as sm"
   ]
  },
  {
   "cell_type": "markdown",
   "metadata": {},
   "source": [
    "# Variance"
   ]
  },
  {
   "cell_type": "code",
   "execution_count": null,
   "metadata": {},
   "outputs": [],
   "source": [
    "%%bigquery df_pho\n",
    "SELECT\n",
    "  code_name, epoch, AVG(acc) as mean_acc\n",
    "FROM\n",
    "  `majestic-camp-303620.station_3.train`\n",
    "WHERE\n",
    "  timetick = 12\n",
    "  AND output_name = 'pho'\n",
    "GROUP BY\n",
    "  code_name, epoch"
   ]
  },
  {
   "cell_type": "code",
   "execution_count": null,
   "metadata": {},
   "outputs": [],
   "source": [
    "%%bigquery df_sem\n",
    "SELECT\n",
    "  code_name, epoch, AVG(acc) as mean_acc\n",
    "FROM\n",
    "  `majestic-camp-303620.station_3.train`\n",
    "WHERE\n",
    "  timetick = 12\n",
    "  AND output_name = 'sem'\n",
    "GROUP BY\n",
    "  code_name, epoch"
   ]
  },
  {
   "cell_type": "code",
   "execution_count": null,
   "metadata": {},
   "outputs": [],
   "source": [
    "df_pho['y'] = 'pho'\n",
    "df_sem['y'] = 'sem'\n",
    "df = pd.concat([df_pho, df_sem])"
   ]
  },
  {
   "cell_type": "code",
   "execution_count": null,
   "metadata": {},
   "outputs": [],
   "source": [
    "json_file = \"models/station_3/batch_config.json\"\n",
    "\n",
    "with open(json_file) as f:\n",
    "    batch_cfgs = json.load(f)\n",
    "\n",
    "all_params = [pd.DataFrame(cfg[\"params\"]) for cfg in batch_cfgs if type(cfg[\"params\"].values()) is not list]\n",
    "cfgs = pd.concat(all_params, ignore_index=True)\n",
    "cfgs = cfgs.groupby(['code_name', 'batch_size', 'learning_rate']).mean().reset_index()\n",
    "cfgs = cfgs[['code_name', 'batch_size', 'learning_rate']]"
   ]
  },
  {
   "cell_type": "code",
   "execution_count": null,
   "metadata": {},
   "outputs": [],
   "source": [
    "df = df.merge(cfgs, on=['code_name'], how='left')"
   ]
  },
  {
   "cell_type": "code",
   "execution_count": null,
   "metadata": {},
   "outputs": [],
   "source": [
    "alt.data_transformers.disable_max_rows()\n",
    "\n",
    "acc = alt.Chart(df).mark_line().encode(\n",
    "    x='epoch:Q',\n",
    "    y='mean(mean_acc):Q',\n",
    "    color='y:N',\n",
    "    row='batch_size:O',\n",
    "    column='learning_rate:O',\n",
    ")\n",
    "acc.save('acc.html')\n"
   ]
  },
  {
   "cell_type": "code",
   "execution_count": null,
   "metadata": {},
   "outputs": [],
   "source": [
    "stdev = alt.Chart(df).mark_line().encode(\n",
    "    x='epoch:Q',\n",
    "    y='stdev(mean_acc):Q',\n",
    "    color='y:N',\n",
    "    row='batch_size:O',\n",
    "    column='learning_rate:O',\n",
    ")\n",
    "stdev.save('stdev.html')"
   ]
  },
  {
   "cell_type": "markdown",
   "metadata": {},
   "source": [
    "# H-param of interest"
   ]
  },
  {
   "cell_type": "code",
   "execution_count": 2,
   "metadata": {},
   "outputs": [],
   "source": [
    "poi = 'hidden_os'\n",
    "poi_cfg_name = f\"{poi}_units\""
   ]
  },
  {
   "cell_type": "markdown",
   "metadata": {},
   "source": [
    "# Get PHO beta"
   ]
  },
  {
   "cell_type": "code",
   "execution_count": 3,
   "metadata": {},
   "outputs": [
    {
     "name": "stderr",
     "output_type": "stream",
     "text": [
      "Query complete after 0.00s: 100%|██████████| 1/1 [00:00<00:00, 631.48query/s] \n",
      "Downloading: 100%|██████████| 902148/902148 [00:01<00:00, 719982.74rows/s]\n"
     ]
    }
   ],
   "source": [
    "%%bigquery df\n",
    "SELECT\n",
    "  code_name, epoch, word, acc, sse, output_name\n",
    "FROM\n",
    "  `majestic-camp-303620.hidden_os.train`\n",
    "WHERE\n",
    "  timetick = 12"
   ]
  },
  {
   "cell_type": "code",
   "execution_count": 4,
   "metadata": {},
   "outputs": [],
   "source": [
    "# df.to_csv(\"models/hidden_op/pho_lasttick.csv\")"
   ]
  },
  {
   "cell_type": "code",
   "execution_count": 5,
   "metadata": {},
   "outputs": [],
   "source": [
    "json_file = f\"models/{poi}/batch_config.json\"\n",
    "\n",
    "with open(json_file) as f:\n",
    "    batch_cfgs = json.load(f)\n",
    "\n",
    "all_params = [pd.DataFrame(cfg[\"params\"]) for cfg in batch_cfgs if type(cfg[\"params\"].values()) is not list]\n",
    "cfgs = pd.concat(all_params, ignore_index=True)\n",
    "cfgs = cfgs.groupby(['code_name', poi_cfg_name]).mean().reset_index()\n",
    "cfgs = cfgs[['code_name', poi_cfg_name]]"
   ]
  },
  {
   "cell_type": "code",
   "execution_count": 6,
   "metadata": {},
   "outputs": [],
   "source": [
    "tf_root = os.environ.get(\"TF_ROOT\")\n",
    "\n",
    "surprisal = pd.read_csv(os.path.join(tf_root, \"corpus/noam_surprisal.csv\"))\n",
    "word2op_dict = {word: op for word, op in zip(surprisal.word, surprisal[\"uncond.surprisal\"])}\n",
    "\n",
    "df_train = pd.read_csv(os.path.join(tf_root, \"dataset/df_train.csv\"))\n",
    "word2wf_dict = {word: wf for word, wf in zip(df_train.word, df_train.wf)}\n",
    "\n",
    "img_replacement_value = df_train.img[0] # The first element is the mean replacement value in the dataset, get rid of it. \n",
    "word2img_dict = {word: img for word, img in zip(df_train.word, df_train.img) if not img == img_replacement_value}\n",
    "\n",
    "\n",
    "def word2op(word):\n",
    "    try:\n",
    "        return word2op_dict[word]\n",
    "    except:\n",
    "        return None\n",
    "\n",
    "def word2wf(word):\n",
    "    try:\n",
    "        return np.log10(word2wf_dict[word] + 1)\n",
    "    except:\n",
    "        return None\n",
    "\n",
    "def word2img(word):\n",
    "    try:\n",
    "        return word2img_dict[word]\n",
    "    except:\n",
    "        return None\n",
    "\n",
    "selected_words = set.intersection(set(word2op_dict.keys()), set(word2wf_dict.keys()), set(word2img_dict.keys()))"
   ]
  },
  {
   "cell_type": "code",
   "execution_count": 7,
   "metadata": {},
   "outputs": [],
   "source": [
    "# calculate csse\n",
    "df = df[df.word.isin(selected_words)]\n",
    "\n",
    "df['csse'] = df.sse.loc[df.acc == 1]\n",
    "\n",
    "# Get wf and op for each word\n",
    "df['wf'] = df.word.apply(word2wf)\n",
    "df['op'] = df.word.apply(word2op)\n",
    "df['img'] = df.word.apply(word2img)\n",
    "\n",
    "# Get batch size and learning rate\n",
    "df = df.merge(cfgs, on=['code_name'], how='left')\n",
    "\n",
    "# checkpoint\n",
    "df.to_csv(f\"models/{poi}/parsed_df.csv\")"
   ]
  },
  {
   "cell_type": "code",
   "execution_count": 8,
   "metadata": {},
   "outputs": [],
   "source": [
    "mdf = df.groupby([poi_cfg_name, 'epoch', 'output_name']).mean().reset_index()"
   ]
  },
  {
   "cell_type": "code",
   "execution_count": 9,
   "metadata": {},
   "outputs": [
    {
     "data": {
      "text/html": [
       "\n",
       "<div id=\"altair-viz-5a171f18e50e4c0ab91c25e1161d4b1f\"></div>\n",
       "<script type=\"text/javascript\">\n",
       "  (function(spec, embedOpt){\n",
       "    let outputDiv = document.currentScript.previousElementSibling;\n",
       "    if (outputDiv.id !== \"altair-viz-5a171f18e50e4c0ab91c25e1161d4b1f\") {\n",
       "      outputDiv = document.getElementById(\"altair-viz-5a171f18e50e4c0ab91c25e1161d4b1f\");\n",
       "    }\n",
       "    const paths = {\n",
       "      \"vega\": \"https://cdn.jsdelivr.net/npm//vega@5?noext\",\n",
       "      \"vega-lib\": \"https://cdn.jsdelivr.net/npm//vega-lib?noext\",\n",
       "      \"vega-lite\": \"https://cdn.jsdelivr.net/npm//vega-lite@4.8.1?noext\",\n",
       "      \"vega-embed\": \"https://cdn.jsdelivr.net/npm//vega-embed@6?noext\",\n",
       "    };\n",
       "\n",
       "    function loadScript(lib) {\n",
       "      return new Promise(function(resolve, reject) {\n",
       "        var s = document.createElement('script');\n",
       "        s.src = paths[lib];\n",
       "        s.async = true;\n",
       "        s.onload = () => resolve(paths[lib]);\n",
       "        s.onerror = () => reject(`Error loading script: ${paths[lib]}`);\n",
       "        document.getElementsByTagName(\"head\")[0].appendChild(s);\n",
       "      });\n",
       "    }\n",
       "\n",
       "    function showError(err) {\n",
       "      outputDiv.innerHTML = `<div class=\"error\" style=\"color:red;\">${err}</div>`;\n",
       "      throw err;\n",
       "    }\n",
       "\n",
       "    function displayChart(vegaEmbed) {\n",
       "      vegaEmbed(outputDiv, spec, embedOpt)\n",
       "        .catch(err => showError(`Javascript Error: ${err.message}<br>This usually means there's a typo in your chart specification. See the javascript console for the full traceback.`));\n",
       "    }\n",
       "\n",
       "    if(typeof define === \"function\" && define.amd) {\n",
       "      requirejs.config({paths});\n",
       "      require([\"vega-embed\"], displayChart, err => showError(`Error loading script: ${err.message}`));\n",
       "    } else if (typeof vegaEmbed === \"function\") {\n",
       "      displayChart(vegaEmbed);\n",
       "    } else {\n",
       "      loadScript(\"vega\")\n",
       "        .then(() => loadScript(\"vega-lite\"))\n",
       "        .then(() => loadScript(\"vega-embed\"))\n",
       "        .catch(showError)\n",
       "        .then(() => displayChart(vegaEmbed));\n",
       "    }\n",
       "  })({\"config\": {\"view\": {\"continuousWidth\": 400, \"continuousHeight\": 300}}, \"data\": {\"name\": \"data-a0c3644b0975b9f37cf386021cafc93d\"}, \"mark\": \"line\", \"encoding\": {\"color\": {\"type\": \"nominal\", \"field\": \"output_name\"}, \"column\": {\"type\": \"quantitative\", \"field\": \"hidden_os_units\"}, \"x\": {\"type\": \"quantitative\", \"field\": \"epoch\"}, \"y\": {\"type\": \"quantitative\", \"aggregate\": \"mean\", \"field\": \"acc\"}}, \"$schema\": \"https://vega.github.io/schema/vega-lite/v4.8.1.json\", \"datasets\": {\"data-a0c3644b0975b9f37cf386021cafc93d\": [{\"hidden_os_units\": 250, \"epoch\": 300, \"output_name\": \"pho\", \"acc\": 0.00035842293906810036, \"sse\": 8.669242773261121, \"csse\": 3.1701812744140625, \"wf\": 2.3022507776310595, \"op\": 0.6477183013180423, \"img\": 4.197491039426526}, {\"hidden_os_units\": 250, \"epoch\": 300, \"output_name\": \"sem\", \"acc\": 0.0, \"sse\": 7.493290664004596, \"csse\": null, \"wf\": 2.3022507776310595, \"op\": 0.6477183013180423, \"img\": 4.197491039426526}, {\"hidden_os_units\": 250, \"epoch\": 320, \"output_name\": \"pho\", \"acc\": 0.8383512544802867, \"sse\": 0.442615785871342, \"csse\": 0.15065023265723274, \"wf\": 2.302250777631061, \"op\": 0.6477183013180421, \"img\": 4.197491039426526}, {\"hidden_os_units\": 250, \"epoch\": 320, \"output_name\": \"sem\", \"acc\": 0.3254480286738351, \"sse\": 2.585017060127283, \"csse\": 0.30181348079093423, \"wf\": 2.3022507776310617, \"op\": 0.6477183013180421, \"img\": 4.197491039426524}, {\"hidden_os_units\": 250, \"epoch\": 340, \"output_name\": \"pho\", \"acc\": 0.9648745519713262, \"sse\": 0.09187063755923801, \"csse\": 0.03221201597283548, \"wf\": 2.3022507776310603, \"op\": 0.6477183013180416, \"img\": 4.197491039426526}, {\"hidden_os_units\": 250, \"epoch\": 340, \"output_name\": \"sem\", \"acc\": 0.6118279569892473, \"sse\": 1.2618694051513202, \"csse\": 0.1418879061117617, \"wf\": 2.302250777631061, \"op\": 0.647718301318042, \"img\": 4.197491039426523}, {\"hidden_os_units\": 250, \"epoch\": 360, \"output_name\": \"pho\", \"acc\": 0.9903225806451613, \"sse\": 0.01918113805701022, \"csse\": 0.005105078850284835, \"wf\": 2.30225077763106, \"op\": 0.6477183013180416, \"img\": 4.197491039426526}, {\"hidden_os_units\": 250, \"epoch\": 360, \"output_name\": \"sem\", \"acc\": 0.7724014336917563, \"sse\": 0.6186836417501657, \"csse\": 0.0726807918275459, \"wf\": 2.3022507776310603, \"op\": 0.6477183013180419, \"img\": 4.1974910394265255}, {\"hidden_os_units\": 250, \"epoch\": 380, \"output_name\": \"pho\", \"acc\": 0.9971326164874552, \"sse\": 0.009475300934941153, \"csse\": 0.002990221952743319, \"wf\": 2.30225077763106, \"op\": 0.6477183013180416, \"img\": 4.197491039426526}, {\"hidden_os_units\": 250, \"epoch\": 380, \"output_name\": \"sem\", \"acc\": 0.8659498207885304, \"sse\": 0.3551637022019643, \"csse\": 0.0518166911003424, \"wf\": 2.302250777631061, \"op\": 0.647718301318042, \"img\": 4.197491039426526}, {\"hidden_os_units\": 250, \"epoch\": 400, \"output_name\": \"pho\", \"acc\": 0.9974910394265233, \"sse\": 0.007154788062252816, \"csse\": 0.0007358271799247967, \"wf\": 2.30225077763106, \"op\": 0.6477183013180416, \"img\": 4.197491039426526}, {\"hidden_os_units\": 250, \"epoch\": 400, \"output_name\": \"sem\", \"acc\": 0.9118279569892473, \"sse\": 0.2624017133989338, \"csse\": 0.03987053815145579, \"wf\": 2.302250777631061, \"op\": 0.6477183013180422, \"img\": 4.197491039426526}, {\"hidden_os_units\": 250, \"epoch\": 420, \"output_name\": \"pho\", \"acc\": 0.9939068100358422, \"sse\": 0.011932028284443152, \"csse\": 0.002399591339286462, \"wf\": 2.30225077763106, \"op\": 0.6477183013180416, \"img\": 4.197491039426526}, {\"hidden_os_units\": 250, \"epoch\": 420, \"output_name\": \"sem\", \"acc\": 0.9340501792114695, \"sse\": 0.2244931596178099, \"csse\": 0.03402114364180083, \"wf\": 2.3022507776310603, \"op\": 0.6477183013180422, \"img\": 4.197491039426526}, {\"hidden_os_units\": 250, \"epoch\": 440, \"output_name\": \"pho\", \"acc\": 0.996415770609319, \"sse\": 0.013526824752420834, \"csse\": 0.007089489971921923, \"wf\": 2.30225077763106, \"op\": 0.6477183013180416, \"img\": 4.197491039426526}, {\"hidden_os_units\": 250, \"epoch\": 440, \"output_name\": \"sem\", \"acc\": 0.946236559139785, \"sse\": 0.17855115898129176, \"csse\": 0.025746561676483412, \"wf\": 2.30225077763106, \"op\": 0.6477183013180422, \"img\": 4.197491039426527}, {\"hidden_os_units\": 250, \"epoch\": 460, \"output_name\": \"pho\", \"acc\": 0.9982078853046595, \"sse\": 0.0039337318595897165, \"csse\": 0.0002490984210725543, \"wf\": 2.3022507776310603, \"op\": 0.6477183013180416, \"img\": 4.197491039426526}, {\"hidden_os_units\": 250, \"epoch\": 460, \"output_name\": \"sem\", \"acc\": 0.9702508960573477, \"sse\": 0.14548660282474674, \"csse\": 0.01794403234012089, \"wf\": 2.30225077763106, \"op\": 0.6477183013180422, \"img\": 4.197491039426526}, {\"hidden_os_units\": 250, \"epoch\": 480, \"output_name\": \"pho\", \"acc\": 0.9985663082437276, \"sse\": 0.004572975290152193, \"csse\": 0.0002943004545484546, \"wf\": 2.30225077763106, \"op\": 0.6477183013180416, \"img\": 4.197491039426526}, {\"hidden_os_units\": 250, \"epoch\": 480, \"output_name\": \"sem\", \"acc\": 0.9691756272401434, \"sse\": 0.1369690110188365, \"csse\": 0.01548320285452685, \"wf\": 2.30225077763106, \"op\": 0.6477183013180423, \"img\": 4.197491039426526}, {\"hidden_os_units\": 250, \"epoch\": 500, \"output_name\": \"pho\", \"acc\": 0.9989247311827957, \"sse\": 0.004251205419934053, \"csse\": 0.000584004524530585, \"wf\": 2.30225077763106, \"op\": 0.6477183013180416, \"img\": 4.197491039426526}, {\"hidden_os_units\": 250, \"epoch\": 500, \"output_name\": \"sem\", \"acc\": 0.9724014336917562, \"sse\": 0.12720023231780303, \"csse\": 0.01478480827488133, \"wf\": 2.30225077763106, \"op\": 0.6477183013180422, \"img\": 4.197491039426526}, {\"hidden_os_units\": 250, \"epoch\": 520, \"output_name\": \"pho\", \"acc\": 0.9985663082437276, \"sse\": 0.005739226242815145, \"csse\": 0.0009137481470831359, \"wf\": 2.30225077763106, \"op\": 0.6477183013180416, \"img\": 4.197491039426526}, {\"hidden_os_units\": 250, \"epoch\": 520, \"output_name\": \"sem\", \"acc\": 0.9720430107526882, \"sse\": 0.12196856571371145, \"csse\": 0.013395951064279907, \"wf\": 2.30225077763106, \"op\": 0.6477183013180423, \"img\": 4.197491039426526}, {\"hidden_os_units\": 250, \"epoch\": 540, \"output_name\": \"pho\", \"acc\": 0.9982078853046595, \"sse\": 0.004734525503766509, \"csse\": 0.0002259839399801882, \"wf\": 2.30225077763106, \"op\": 0.6477183013180416, \"img\": 4.197491039426526}, {\"hidden_os_units\": 250, \"epoch\": 540, \"output_name\": \"sem\", \"acc\": 0.9695340501792115, \"sse\": 0.12372362844393106, \"csse\": 0.014567455214055659, \"wf\": 2.3022507776310603, \"op\": 0.6477183013180422, \"img\": 4.197491039426526}, {\"hidden_os_units\": 250, \"epoch\": 560, \"output_name\": \"pho\", \"acc\": 0.9989247311827957, \"sse\": 0.004798663957295641, \"csse\": 0.00020937361439772348, \"wf\": 2.30225077763106, \"op\": 0.6477183013180416, \"img\": 4.197491039426526}, {\"hidden_os_units\": 250, \"epoch\": 560, \"output_name\": \"sem\", \"acc\": 0.9838709677419355, \"sse\": 0.09940461806371856, \"csse\": 0.009218825521809972, \"wf\": 2.30225077763106, \"op\": 0.6477183013180422, \"img\": 4.197491039426526}, {\"hidden_os_units\": 250, \"epoch\": 580, \"output_name\": \"pho\", \"acc\": 0.9989247311827957, \"sse\": 0.0058734517112800835, \"csse\": 0.0005886074115040603, \"wf\": 2.30225077763106, \"op\": 0.6477183013180416, \"img\": 4.197491039426526}, {\"hidden_os_units\": 250, \"epoch\": 580, \"output_name\": \"sem\", \"acc\": 0.9842293906810036, \"sse\": 0.09263438349040366, \"csse\": 0.008227581271064422, \"wf\": 2.3022507776310603, \"op\": 0.6477183013180423, \"img\": 4.197491039426526}, {\"hidden_os_units\": 250, \"epoch\": 600, \"output_name\": \"pho\", \"acc\": 0.9992831541218637, \"sse\": 0.004955852187713785, \"csse\": 0.0005349453865198477, \"wf\": 2.30225077763106, \"op\": 0.6477183013180416, \"img\": 4.197491039426526}, {\"hidden_os_units\": 250, \"epoch\": 600, \"output_name\": \"sem\", \"acc\": 0.9853046594982079, \"sse\": 0.09162464501339188, \"csse\": 0.006119956408930878, \"wf\": 2.30225077763106, \"op\": 0.6477183013180422, \"img\": 4.197491039426526}, {\"hidden_os_units\": 250, \"epoch\": 620, \"output_name\": \"pho\", \"acc\": 0.9989247311827957, \"sse\": 0.0057011466522448925, \"csse\": 0.0008339252496383026, \"wf\": 2.30225077763106, \"op\": 0.6477183013180416, \"img\": 4.197491039426526}, {\"hidden_os_units\": 250, \"epoch\": 620, \"output_name\": \"sem\", \"acc\": 0.9874551971326165, \"sse\": 0.09037200687007219, \"csse\": 0.006967629270401961, \"wf\": 2.3022507776310595, \"op\": 0.6477183013180422, \"img\": 4.197491039426526}, {\"hidden_os_units\": 250, \"epoch\": 640, \"output_name\": \"pho\", \"acc\": 0.9985663082437276, \"sse\": 0.004153122564879312, \"csse\": 0.0004479331698895473, \"wf\": 2.30225077763106, \"op\": 0.6477183013180416, \"img\": 4.197491039426526}, {\"hidden_os_units\": 250, \"epoch\": 640, \"output_name\": \"sem\", \"acc\": 0.9885304659498207, \"sse\": 0.09377908566263522, \"csse\": 0.006438154282136159, \"wf\": 2.3022507776310595, \"op\": 0.6477183013180422, \"img\": 4.197491039426526}, {\"hidden_os_units\": 250, \"epoch\": 660, \"output_name\": \"pho\", \"acc\": 0.9989247311827957, \"sse\": 0.004669037204181663, \"csse\": 0.0005377194311183203, \"wf\": 2.30225077763106, \"op\": 0.6477183013180416, \"img\": 4.197491039426526}, {\"hidden_os_units\": 250, \"epoch\": 660, \"output_name\": \"sem\", \"acc\": 0.986021505376344, \"sse\": 0.08552813428609446, \"csse\": 0.005691114403982394, \"wf\": 2.3022507776310595, \"op\": 0.6477183013180422, \"img\": 4.197491039426526}, {\"hidden_os_units\": 250, \"epoch\": 680, \"output_name\": \"pho\", \"acc\": 0.9985663082437276, \"sse\": 0.006256708645583814, \"csse\": 0.0006733085339160817, \"wf\": 2.30225077763106, \"op\": 0.6477183013180416, \"img\": 4.197491039426526}, {\"hidden_os_units\": 250, \"epoch\": 680, \"output_name\": \"sem\", \"acc\": 0.9896057347670251, \"sse\": 0.09262951195924185, \"csse\": 0.004402400445183533, \"wf\": 2.30225077763106, \"op\": 0.6477183013180422, \"img\": 4.197491039426526}, {\"hidden_os_units\": 250, \"epoch\": 700, \"output_name\": \"pho\", \"acc\": 0.9989247311827957, \"sse\": 0.00423791097091383, \"csse\": 0.000685007250867976, \"wf\": 2.30225077763106, \"op\": 0.6477183013180416, \"img\": 4.197491039426526}, {\"hidden_os_units\": 250, \"epoch\": 700, \"output_name\": \"sem\", \"acc\": 0.9899641577060931, \"sse\": 0.08695364127779374, \"csse\": 0.004301794074099878, \"wf\": 2.30225077763106, \"op\": 0.6477183013180422, \"img\": 4.197491039426526}, {\"hidden_os_units\": 250, \"epoch\": 720, \"output_name\": \"pho\", \"acc\": 0.9989247311827957, \"sse\": 0.0051744977121305075, \"csse\": 0.0013364810434621118, \"wf\": 2.30225077763106, \"op\": 0.6477183013180416, \"img\": 4.197491039426526}, {\"hidden_os_units\": 250, \"epoch\": 720, \"output_name\": \"sem\", \"acc\": 0.9896057347670251, \"sse\": 0.09045113723225014, \"csse\": 0.005048022431836288, \"wf\": 2.30225077763106, \"op\": 0.6477183013180422, \"img\": 4.197491039426526}, {\"hidden_os_units\": 250, \"epoch\": 740, \"output_name\": \"pho\", \"acc\": 0.9985663082437276, \"sse\": 0.005214879076980975, \"csse\": 0.0012826619500107789, \"wf\": 2.30225077763106, \"op\": 0.6477183013180416, \"img\": 4.197491039426526}, {\"hidden_os_units\": 250, \"epoch\": 740, \"output_name\": \"sem\", \"acc\": 0.989247311827957, \"sse\": 0.08309474096761427, \"csse\": 0.0038934228714138878, \"wf\": 2.30225077763106, \"op\": 0.6477183013180423, \"img\": 4.197491039426526}, {\"hidden_os_units\": 250, \"epoch\": 760, \"output_name\": \"pho\", \"acc\": 0.9989247311827957, \"sse\": 0.003580229611518031, \"csse\": 0.0009789580764690785, \"wf\": 2.30225077763106, \"op\": 0.6477183013180416, \"img\": 4.197491039426526}, {\"hidden_os_units\": 250, \"epoch\": 760, \"output_name\": \"sem\", \"acc\": 0.9906810035842294, \"sse\": 0.08253742765090623, \"csse\": 0.004102695727406938, \"wf\": 2.3022507776310595, \"op\": 0.6477183013180422, \"img\": 4.197491039426526}, {\"hidden_os_units\": 250, \"epoch\": 780, \"output_name\": \"pho\", \"acc\": 0.9989247311827957, \"sse\": 0.00545687178141958, \"csse\": 0.000835702014767042, \"wf\": 2.30225077763106, \"op\": 0.6477183013180416, \"img\": 4.197491039426526}, {\"hidden_os_units\": 250, \"epoch\": 780, \"output_name\": \"sem\", \"acc\": 0.9917562724014337, \"sse\": 0.08114029217070137, \"csse\": 0.003769923912177636, \"wf\": 2.30225077763106, \"op\": 0.6477183013180422, \"img\": 4.197491039426526}, {\"hidden_os_units\": 250, \"epoch\": 800, \"output_name\": \"pho\", \"acc\": 0.9985663082437276, \"sse\": 0.00767823549547443, \"csse\": 0.0018866083769165847, \"wf\": 2.30225077763106, \"op\": 0.6477183013180416, \"img\": 4.197491039426526}, {\"hidden_os_units\": 250, \"epoch\": 800, \"output_name\": \"sem\", \"acc\": 0.9913978494623656, \"sse\": 0.0890558344321668, \"csse\": 0.00380905801581613, \"wf\": 2.3022507776310595, \"op\": 0.6477183013180422, \"img\": 4.197491039426526}, {\"hidden_os_units\": 500, \"epoch\": 300, \"output_name\": \"pho\", \"acc\": 0.00035842293906810036, \"sse\": 8.67771756204653, \"csse\": 3.1254630088806152, \"wf\": 2.302250777631061, \"op\": 0.6477183013180368, \"img\": 4.197491039426511}, {\"hidden_os_units\": 500, \"epoch\": 300, \"output_name\": \"sem\", \"acc\": 0.0, \"sse\": 7.5065687367565745, \"csse\": null, \"wf\": 2.302250777631061, \"op\": 0.6477183013180366, \"img\": 4.197491039426511}, {\"hidden_os_units\": 500, \"epoch\": 320, \"output_name\": \"pho\", \"acc\": 0.8093189964157707, \"sse\": 0.5210963596684999, \"csse\": 0.18159397240737213, \"wf\": 2.302250777631061, \"op\": 0.647718301318037, \"img\": 4.197491039426513}, {\"hidden_os_units\": 500, \"epoch\": 320, \"output_name\": \"sem\", \"acc\": 0.28817204301075267, \"sse\": 2.838266487908466, \"csse\": 0.32130196476552114, \"wf\": 2.302250777631062, \"op\": 0.647718301318037, \"img\": 4.197491039426513}, {\"hidden_os_units\": 500, \"epoch\": 340, \"output_name\": \"pho\", \"acc\": 0.975268817204301, \"sse\": 0.07347782801750122, \"csse\": 0.026079005938133358, \"wf\": 2.302250777631061, \"op\": 0.647718301318037, \"img\": 4.197491039426511}, {\"hidden_os_units\": 500, \"epoch\": 340, \"output_name\": \"sem\", \"acc\": 0.6397849462365591, \"sse\": 1.0978282215472397, \"csse\": 0.13714720089512247, \"wf\": 2.3022507776310626, \"op\": 0.6477183013180371, \"img\": 4.197491039426514}, {\"hidden_os_units\": 500, \"epoch\": 360, \"output_name\": \"pho\", \"acc\": 0.992831541218638, \"sse\": 0.018975303128823354, \"csse\": 0.006854691635166032, \"wf\": 2.3022507776310612, \"op\": 0.6477183013180371, \"img\": 4.197491039426511}, {\"hidden_os_units\": 500, \"epoch\": 360, \"output_name\": \"sem\", \"acc\": 0.7982078853046595, \"sse\": 0.5641011521400763, \"csse\": 0.08325423143279231, \"wf\": 2.302250777631061, \"op\": 0.6477183013180369, \"img\": 4.19749103942651}, {\"hidden_os_units\": 500, \"epoch\": 380, \"output_name\": \"pho\", \"acc\": 0.9978494623655914, \"sse\": 0.008949975913420909, \"csse\": 0.002233441933496782, \"wf\": 2.3022507776310612, \"op\": 0.647718301318037, \"img\": 4.197491039426511}, {\"hidden_os_units\": 500, \"epoch\": 380, \"output_name\": \"sem\", \"acc\": 0.8806451612903226, \"sse\": 0.3199940947043103, \"csse\": 0.05408715845572278, \"wf\": 2.3022507776310612, \"op\": 0.6477183013180369, \"img\": 4.19749103942651}, {\"hidden_os_units\": 500, \"epoch\": 400, \"output_name\": \"pho\", \"acc\": 0.9971326164874552, \"sse\": 0.008113424614912948, \"csse\": 0.0017295339240107129, \"wf\": 2.3022507776310612, \"op\": 0.6477183013180371, \"img\": 4.197491039426511}, {\"hidden_os_units\": 500, \"epoch\": 400, \"output_name\": \"sem\", \"acc\": 0.9050179211469535, \"sse\": 0.264857146001903, \"csse\": 0.04312008203498732, \"wf\": 2.3022507776310617, \"op\": 0.6477183013180368, \"img\": 4.19749103942651}, {\"hidden_os_units\": 500, \"epoch\": 420, \"output_name\": \"pho\", \"acc\": 0.9935483870967742, \"sse\": 0.017149408313177877, \"csse\": 0.007726604650444683, \"wf\": 2.3022507776310612, \"op\": 0.647718301318037, \"img\": 4.197491039426511}, {\"hidden_os_units\": 500, \"epoch\": 420, \"output_name\": \"sem\", \"acc\": 0.8906810035842294, \"sse\": 0.2590232727860271, \"csse\": 0.03623577358490252, \"wf\": 2.3022507776310612, \"op\": 0.6477183013180369, \"img\": 4.197491039426511}, {\"hidden_os_units\": 500, \"epoch\": 440, \"output_name\": \"pho\", \"acc\": 0.9985663082437276, \"sse\": 0.0041302493732092984, \"csse\": 0.0007298781210340207, \"wf\": 2.3022507776310612, \"op\": 0.6477183013180371, \"img\": 4.197491039426511}, {\"hidden_os_units\": 500, \"epoch\": 440, \"output_name\": \"sem\", \"acc\": 0.9501792114695341, \"sse\": 0.18409774184172054, \"csse\": 0.026980956182042007, \"wf\": 2.302250777631061, \"op\": 0.6477183013180368, \"img\": 4.197491039426512}, {\"hidden_os_units\": 500, \"epoch\": 460, \"output_name\": \"pho\", \"acc\": 0.9989247311827957, \"sse\": 0.0035203523622565243, \"csse\": 0.0010197548533014086, \"wf\": 2.3022507776310612, \"op\": 0.647718301318037, \"img\": 4.197491039426511}, {\"hidden_os_units\": 500, \"epoch\": 460, \"output_name\": \"sem\", \"acc\": 0.9709677419354839, \"sse\": 0.13580378676088378, \"csse\": 0.01700509019938621, \"wf\": 2.302250777631061, \"op\": 0.6477183013180366, \"img\": 4.197491039426511}, {\"hidden_os_units\": 500, \"epoch\": 480, \"output_name\": \"pho\", \"acc\": 0.9985663082437276, \"sse\": 0.0055759353651702245, \"csse\": 0.001690834588346518, \"wf\": 2.3022507776310612, \"op\": 0.647718301318037, \"img\": 4.197491039426511}, {\"hidden_os_units\": 500, \"epoch\": 480, \"output_name\": \"sem\", \"acc\": 0.9695340501792115, \"sse\": 0.12701581770074147, \"csse\": 0.014349332062014306, \"wf\": 2.3022507776310612, \"op\": 0.6477183013180368, \"img\": 4.197491039426511}, {\"hidden_os_units\": 500, \"epoch\": 500, \"output_name\": \"pho\", \"acc\": 0.9982078853046595, \"sse\": 0.004503694964633893, \"csse\": 0.0014826761837958594, \"wf\": 2.3022507776310612, \"op\": 0.647718301318037, \"img\": 4.197491039426511}, {\"hidden_os_units\": 500, \"epoch\": 500, \"output_name\": \"sem\", \"acc\": 0.9770609318996416, \"sse\": 0.11319753522556161, \"csse\": 0.013562312886626777, \"wf\": 2.302250777631061, \"op\": 0.6477183013180366, \"img\": 4.197491039426511}, {\"hidden_os_units\": 500, \"epoch\": 520, \"output_name\": \"pho\", \"acc\": 0.9974910394265233, \"sse\": 0.007868523928303558, \"csse\": 0.0022281392841048114, \"wf\": 2.3022507776310612, \"op\": 0.647718301318037, \"img\": 4.197491039426511}, {\"hidden_os_units\": 500, \"epoch\": 520, \"output_name\": \"sem\", \"acc\": 0.9698924731182795, \"sse\": 0.11630018983884563, \"csse\": 0.01223711756651122, \"wf\": 2.302250777631061, \"op\": 0.6477183013180368, \"img\": 4.197491039426511}, {\"hidden_os_units\": 500, \"epoch\": 540, \"output_name\": \"pho\", \"acc\": 0.9989247311827957, \"sse\": 0.004811967158738719, \"csse\": 0.0022155761337150563, \"wf\": 2.3022507776310612, \"op\": 0.647718301318037, \"img\": 4.197491039426511}, {\"hidden_os_units\": 500, \"epoch\": 540, \"output_name\": \"sem\", \"acc\": 0.9476702508960574, \"sse\": 0.15519806460519917, \"csse\": 0.022152835352311558, \"wf\": 2.302250777631061, \"op\": 0.6477183013180366, \"img\": 4.197491039426511}, {\"hidden_os_units\": 500, \"epoch\": 560, \"output_name\": \"pho\", \"acc\": 0.9989247311827957, \"sse\": 0.004085305833712452, \"csse\": 0.0010656838039605982, \"wf\": 2.3022507776310612, \"op\": 0.647718301318037, \"img\": 4.197491039426511}, {\"hidden_os_units\": 500, \"epoch\": 560, \"output_name\": \"sem\", \"acc\": 0.985663082437276, \"sse\": 0.09976335850303003, \"csse\": 0.008728568704112066, \"wf\": 2.3022507776310612, \"op\": 0.6477183013180366, \"img\": 4.197491039426511}, {\"hidden_os_units\": 500, \"epoch\": 580, \"output_name\": \"pho\", \"acc\": 0.9989247311827957, \"sse\": 0.004070541887925423, \"csse\": 0.0005172823800819849, \"wf\": 2.3022507776310612, \"op\": 0.647718301318037, \"img\": 4.197491039426511}, {\"hidden_os_units\": 500, \"epoch\": 580, \"output_name\": \"sem\", \"acc\": 0.985663082437276, \"sse\": 0.08971046174513567, \"csse\": 0.00716962201379601, \"wf\": 2.302250777631061, \"op\": 0.6477183013180366, \"img\": 4.197491039426511}, {\"hidden_os_units\": 500, \"epoch\": 600, \"output_name\": \"pho\", \"acc\": 0.9989247311827957, \"sse\": 0.003285827007496566, \"csse\": 0.0003274262816985491, \"wf\": 2.3022507776310612, \"op\": 0.647718301318037, \"img\": 4.197491039426511}, {\"hidden_os_units\": 500, \"epoch\": 600, \"output_name\": \"sem\", \"acc\": 0.9888888888888889, \"sse\": 0.08367209054476239, \"csse\": 0.006716779197642666, \"wf\": 2.3022507776310612, \"op\": 0.6477183013180366, \"img\": 4.197491039426511}, {\"hidden_os_units\": 500, \"epoch\": 620, \"output_name\": \"pho\", \"acc\": 0.9989247311827957, \"sse\": 0.003747373333803309, \"csse\": 0.0006312066069003546, \"wf\": 2.3022507776310612, \"op\": 0.647718301318037, \"img\": 4.197491039426511}, {\"hidden_os_units\": 500, \"epoch\": 620, \"output_name\": \"sem\", \"acc\": 0.9896057347670251, \"sse\": 0.08681839884191121, \"csse\": 0.005754303865358794, \"wf\": 2.302250777631061, \"op\": 0.6477183013180366, \"img\": 4.197491039426511}, {\"hidden_os_units\": 500, \"epoch\": 640, \"output_name\": \"pho\", \"acc\": 0.9989247311827957, \"sse\": 0.003512026916951449, \"csse\": 0.0005872815146339459, \"wf\": 2.3022507776310612, \"op\": 0.647718301318037, \"img\": 4.197491039426511}, {\"hidden_os_units\": 500, \"epoch\": 640, \"output_name\": \"sem\", \"acc\": 0.9903225806451613, \"sse\": 0.09228840223191057, \"csse\": 0.0054834461610301635, \"wf\": 2.302250777631061, \"op\": 0.6477183013180366, \"img\": 4.197491039426511}, {\"hidden_os_units\": 500, \"epoch\": 660, \"output_name\": \"pho\", \"acc\": 0.9992831541218637, \"sse\": 0.003321741100572169, \"csse\": 0.0005824386849818097, \"wf\": 2.3022507776310612, \"op\": 0.647718301318037, \"img\": 4.197491039426511}, {\"hidden_os_units\": 500, \"epoch\": 660, \"output_name\": \"sem\", \"acc\": 0.9906810035842294, \"sse\": 0.08523652956790213, \"csse\": 0.005042383325913261, \"wf\": 2.302250777631061, \"op\": 0.6477183013180366, \"img\": 4.197491039426511}, {\"hidden_os_units\": 500, \"epoch\": 680, \"output_name\": \"pho\", \"acc\": 0.9992831541218637, \"sse\": 0.003714107556553892, \"csse\": 0.0008763197885068417, \"wf\": 2.3022507776310612, \"op\": 0.647718301318037, \"img\": 4.197491039426511}, {\"hidden_os_units\": 500, \"epoch\": 680, \"output_name\": \"sem\", \"acc\": 0.9899641577060931, \"sse\": 0.08641861332367662, \"csse\": 0.004051092428964338, \"wf\": 2.302250777631061, \"op\": 0.6477183013180366, \"img\": 4.197491039426511}, {\"hidden_os_units\": 500, \"epoch\": 700, \"output_name\": \"pho\", \"acc\": 0.9989247311827957, \"sse\": 0.003985922128700975, \"csse\": 0.0007959198444768383, \"wf\": 2.3022507776310612, \"op\": 0.647718301318037, \"img\": 4.197491039426511}, {\"hidden_os_units\": 500, \"epoch\": 700, \"output_name\": \"sem\", \"acc\": 0.9917562724014337, \"sse\": 0.08565160745164072, \"csse\": 0.0033960612945502884, \"wf\": 2.302250777631061, \"op\": 0.6477183013180366, \"img\": 4.197491039426511}, {\"hidden_os_units\": 500, \"epoch\": 720, \"output_name\": \"pho\", \"acc\": 0.9989247311827957, \"sse\": 0.004205041185126807, \"csse\": 0.0008374476129630125, \"wf\": 2.3022507776310612, \"op\": 0.647718301318037, \"img\": 4.197491039426511}, {\"hidden_os_units\": 500, \"epoch\": 720, \"output_name\": \"sem\", \"acc\": 0.9913978494623656, \"sse\": 0.08655914459517106, \"csse\": 0.0030499571781416202, \"wf\": 2.302250777631061, \"op\": 0.6477183013180366, \"img\": 4.197491039426511}, {\"hidden_os_units\": 500, \"epoch\": 740, \"output_name\": \"pho\", \"acc\": 0.9985663082437276, \"sse\": 0.006521869753443658, \"csse\": 0.0022516807727846434, \"wf\": 2.3022507776310612, \"op\": 0.647718301318037, \"img\": 4.197491039426511}, {\"hidden_os_units\": 500, \"epoch\": 740, \"output_name\": \"sem\", \"acc\": 0.992831541218638, \"sse\": 0.08133610810141602, \"csse\": 0.003235286114123112, \"wf\": 2.302250777631061, \"op\": 0.6477183013180366, \"img\": 4.197491039426511}, {\"hidden_os_units\": 500, \"epoch\": 760, \"output_name\": \"pho\", \"acc\": 0.9989247311827957, \"sse\": 0.004469482636586136, \"csse\": 0.0009113886369675872, \"wf\": 2.3022507776310612, \"op\": 0.647718301318037, \"img\": 4.197491039426511}, {\"hidden_os_units\": 500, \"epoch\": 760, \"output_name\": \"sem\", \"acc\": 0.9921146953405018, \"sse\": 0.08452292648767383, \"csse\": 0.003673912408938289, \"wf\": 2.3022507776310612, \"op\": 0.6477183013180366, \"img\": 4.197491039426511}, {\"hidden_os_units\": 500, \"epoch\": 780, \"output_name\": \"pho\", \"acc\": 0.9989247311827957, \"sse\": 0.004340722757469429, \"csse\": 0.0007459332193129558, \"wf\": 2.3022507776310612, \"op\": 0.647718301318037, \"img\": 4.197491039426511}, {\"hidden_os_units\": 500, \"epoch\": 780, \"output_name\": \"sem\", \"acc\": 0.9921146953405018, \"sse\": 0.08266810654680559, \"csse\": 0.0024098308244987735, \"wf\": 2.302250777631061, \"op\": 0.6477183013180366, \"img\": 4.197491039426511}, {\"hidden_os_units\": 500, \"epoch\": 800, \"output_name\": \"pho\", \"acc\": 0.9985663082437276, \"sse\": 0.0064366570215841235, \"csse\": 0.0008726251703326062, \"wf\": 2.3022507776310612, \"op\": 0.647718301318037, \"img\": 4.197491039426511}, {\"hidden_os_units\": 500, \"epoch\": 800, \"output_name\": \"sem\", \"acc\": 0.9921146953405018, \"sse\": 0.08488156246187187, \"csse\": 0.002032318015200272, \"wf\": 2.302250777631061, \"op\": 0.6477183013180366, \"img\": 4.197491039426511}, {\"hidden_os_units\": 1000, \"epoch\": 300, \"output_name\": \"pho\", \"acc\": 0.00035842293906810036, \"sse\": 8.675065789598717, \"csse\": 3.1975412368774414, \"wf\": 2.302250777631052, \"op\": 0.6477183013180391, \"img\": 4.197491039426521}, {\"hidden_os_units\": 1000, \"epoch\": 300, \"output_name\": \"sem\", \"acc\": 0.0, \"sse\": 7.451961513915797, \"csse\": null, \"wf\": 2.302250777631052, \"op\": 0.6477183013180391, \"img\": 4.197491039426521}, {\"hidden_os_units\": 1000, \"epoch\": 320, \"output_name\": \"pho\", \"acc\": 0.839426523297491, \"sse\": 0.428917471097622, \"csse\": 0.1728684597930622, \"wf\": 2.302250777631053, \"op\": 0.6477183013180401, \"img\": 4.197491039426517}, {\"hidden_os_units\": 1000, \"epoch\": 320, \"output_name\": \"sem\", \"acc\": 0.3146953405017921, \"sse\": 2.5855906757905807, \"csse\": 0.31511269064152353, \"wf\": 2.3022507776310523, \"op\": 0.6477183013180396, \"img\": 4.197491039426517}, {\"hidden_os_units\": 1000, \"epoch\": 340, \"output_name\": \"pho\", \"acc\": 0.9795698924731183, \"sse\": 0.059540599796505424, \"csse\": 0.02455777650475986, \"wf\": 2.3022507776310532, \"op\": 0.6477183013180398, \"img\": 4.1974910394265175}, {\"hidden_os_units\": 1000, \"epoch\": 340, \"output_name\": \"sem\", \"acc\": 0.6408602150537634, \"sse\": 1.0329547291651504, \"csse\": 0.13249799303481732, \"wf\": 2.302250777631052, \"op\": 0.6477183013180398, \"img\": 4.1974910394265175}, {\"hidden_os_units\": 1000, \"epoch\": 360, \"output_name\": \"pho\", \"acc\": 0.9845878136200716, \"sse\": 0.038672859816144545, \"csse\": 0.020107051312471348, \"wf\": 2.302250777631053, \"op\": 0.6477183013180394, \"img\": 4.1974910394265175}, {\"hidden_os_units\": 1000, \"epoch\": 360, \"output_name\": \"sem\", \"acc\": 0.706810035842294, \"sse\": 0.7191167774644228, \"csse\": 0.12386895275615609, \"wf\": 2.302250777631052, \"op\": 0.6477183013180396, \"img\": 4.19749103942652}, {\"hidden_os_units\": 1000, \"epoch\": 380, \"output_name\": \"pho\", \"acc\": 0.9982078853046595, \"sse\": 0.01153883917019052, \"csse\": 0.006172165922922902, \"wf\": 2.3022507776310532, \"op\": 0.6477183013180396, \"img\": 4.1974910394265175}, {\"hidden_os_units\": 1000, \"epoch\": 380, \"output_name\": \"sem\", \"acc\": 0.8888888888888888, \"sse\": 0.30246323881988785, \"csse\": 0.057030044973784715, \"wf\": 2.302250777631052, \"op\": 0.647718301318039, \"img\": 4.197491039426519}, {\"hidden_os_units\": 1000, \"epoch\": 400, \"output_name\": \"pho\", \"acc\": 0.9727598566308244, \"sse\": 0.07862913417231807, \"csse\": 0.0285837407168887, \"wf\": 2.302250777631053, \"op\": 0.6477183013180395, \"img\": 4.1974910394265175}, {\"hidden_os_units\": 1000, \"epoch\": 400, \"output_name\": \"sem\", \"acc\": 0.793189964157706, \"sse\": 0.4770518197651534, \"csse\": 0.07146439338092941, \"wf\": 2.302250777631052, \"op\": 0.6477183013180389, \"img\": 4.19749103942652}, {\"hidden_os_units\": 1000, \"epoch\": 420, \"output_name\": \"pho\", \"acc\": 0.9956989247311828, \"sse\": 0.01380420081211167, \"csse\": 0.006205405202908394, \"wf\": 2.3022507776310532, \"op\": 0.6477183013180396, \"img\": 4.1974910394265175}, {\"hidden_os_units\": 1000, \"epoch\": 420, \"output_name\": \"sem\", \"acc\": 0.9139784946236559, \"sse\": 0.21853390156677285, \"csse\": 0.034193090727391844, \"wf\": 2.302250777631052, \"op\": 0.647718301318039, \"img\": 4.19749103942652}, {\"hidden_os_units\": 1000, \"epoch\": 440, \"output_name\": \"pho\", \"acc\": 0.9978494623655914, \"sse\": 0.012953410322100558, \"csse\": 0.006663613524937183, \"wf\": 2.3022507776310532, \"op\": 0.6477183013180396, \"img\": 4.1974910394265175}, {\"hidden_os_units\": 1000, \"epoch\": 440, \"output_name\": \"sem\", \"acc\": 0.9383512544802868, \"sse\": 0.17776986544590995, \"csse\": 0.021206038877168532, \"wf\": 2.3022507776310523, \"op\": 0.6477183013180391, \"img\": 4.19749103942652}, {\"hidden_os_units\": 1000, \"epoch\": 460, \"output_name\": \"pho\", \"acc\": 0.9989247311827957, \"sse\": 0.010422607471411546, \"csse\": 0.008264739319179065, \"wf\": 2.3022507776310532, \"op\": 0.6477183013180396, \"img\": 4.1974910394265175}, {\"hidden_os_units\": 1000, \"epoch\": 460, \"output_name\": \"sem\", \"acc\": 0.9731182795698925, \"sse\": 0.1312136280148375, \"csse\": 0.015719814928033246, \"wf\": 2.302250777631052, \"op\": 0.6477183013180391, \"img\": 4.197491039426521}, {\"hidden_os_units\": 1000, \"epoch\": 480, \"output_name\": \"pho\", \"acc\": 0.9989247311827957, \"sse\": 0.014313775917496408, \"csse\": 0.010060252745051962, \"wf\": 2.3022507776310532, \"op\": 0.6477183013180396, \"img\": 4.1974910394265175}, {\"hidden_os_units\": 1000, \"epoch\": 480, \"output_name\": \"sem\", \"acc\": 0.9756272401433692, \"sse\": 0.11780659624115271, \"csse\": 0.011899246029116175, \"wf\": 2.302250777631052, \"op\": 0.6477183013180391, \"img\": 4.197491039426521}, {\"hidden_os_units\": 1000, \"epoch\": 500, \"output_name\": \"pho\", \"acc\": 0.9978494623655914, \"sse\": 0.013166917489724416, \"csse\": 0.00952585093750272, \"wf\": 2.3022507776310532, \"op\": 0.6477183013180396, \"img\": 4.1974910394265175}, {\"hidden_os_units\": 1000, \"epoch\": 500, \"output_name\": \"sem\", \"acc\": 0.9756272401433692, \"sse\": 0.10936039732248126, \"csse\": 0.011402227888928022, \"wf\": 2.302250777631052, \"op\": 0.647718301318039, \"img\": 4.197491039426521}, {\"hidden_os_units\": 1000, \"epoch\": 520, \"output_name\": \"pho\", \"acc\": 0.9985663082437276, \"sse\": 0.003302044525654185, \"csse\": 0.0003938354493677548, \"wf\": 2.3022507776310532, \"op\": 0.6477183013180396, \"img\": 4.1974910394265175}, {\"hidden_os_units\": 1000, \"epoch\": 520, \"output_name\": \"sem\", \"acc\": 0.9792114695340501, \"sse\": 0.10471844332345717, \"csse\": 0.011776766786893468, \"wf\": 2.302250777631052, \"op\": 0.6477183013180391, \"img\": 4.197491039426521}, {\"hidden_os_units\": 1000, \"epoch\": 540, \"output_name\": \"pho\", \"acc\": 0.9985663082437276, \"sse\": 0.0033048769016672656, \"csse\": 0.0012213351318153326, \"wf\": 2.3022507776310532, \"op\": 0.6477183013180396, \"img\": 4.1974910394265175}, {\"hidden_os_units\": 1000, \"epoch\": 540, \"output_name\": \"sem\", \"acc\": 0.9591397849462365, \"sse\": 0.14485882214505688, \"csse\": 0.022793955804401706, \"wf\": 2.3022507776310523, \"op\": 0.6477183013180392, \"img\": 4.197491039426521}, {\"hidden_os_units\": 1000, \"epoch\": 560, \"output_name\": \"pho\", \"acc\": 0.9989247311827957, \"sse\": 0.004026045870604255, \"csse\": 0.0016329162074566028, \"wf\": 2.3022507776310532, \"op\": 0.6477183013180396, \"img\": 4.1974910394265175}, {\"hidden_os_units\": 1000, \"epoch\": 560, \"output_name\": \"sem\", \"acc\": 0.989247311827957, \"sse\": 0.0864153805421123, \"csse\": 0.005924421714385144, \"wf\": 2.302250777631052, \"op\": 0.647718301318039, \"img\": 4.197491039426522}, {\"hidden_os_units\": 1000, \"epoch\": 580, \"output_name\": \"pho\", \"acc\": 0.9992831541218637, \"sse\": 0.006603270874567467, \"csse\": 0.004069465816445663, \"wf\": 2.3022507776310532, \"op\": 0.6477183013180396, \"img\": 4.1974910394265175}, {\"hidden_os_units\": 1000, \"epoch\": 580, \"output_name\": \"sem\", \"acc\": 0.9881720430107527, \"sse\": 0.08497587925162177, \"csse\": 0.004047481562166641, \"wf\": 2.302250777631052, \"op\": 0.6477183013180391, \"img\": 4.197491039426521}, {\"hidden_os_units\": 1000, \"epoch\": 600, \"output_name\": \"pho\", \"acc\": 0.9992831541218637, \"sse\": 0.0030153351960762373, \"csse\": 0.0010521675373200313, \"wf\": 2.3022507776310532, \"op\": 0.6477183013180396, \"img\": 4.1974910394265175}, {\"hidden_os_units\": 1000, \"epoch\": 600, \"output_name\": \"sem\", \"acc\": 0.9913978494623656, \"sse\": 0.08260540540834203, \"csse\": 0.00303306598674256, \"wf\": 2.302250777631052, \"op\": 0.6477183013180391, \"img\": 4.197491039426521}, {\"hidden_os_units\": 1000, \"epoch\": 620, \"output_name\": \"pho\", \"acc\": 0.9992831541218637, \"sse\": 0.005215229549665038, \"csse\": 0.0016430310461928522, \"wf\": 2.3022507776310532, \"op\": 0.6477183013180396, \"img\": 4.1974910394265175}, {\"hidden_os_units\": 1000, \"epoch\": 620, \"output_name\": \"sem\", \"acc\": 0.9910394265232975, \"sse\": 0.08309634090086775, \"csse\": 0.003081315026980501, \"wf\": 2.302250777631052, \"op\": 0.6477183013180391, \"img\": 4.197491039426521}, {\"hidden_os_units\": 1000, \"epoch\": 640, \"output_name\": \"pho\", \"acc\": 0.9989247311827957, \"sse\": 0.004110515148729094, \"csse\": 0.001486988671051488, \"wf\": 2.3022507776310532, \"op\": 0.6477183013180396, \"img\": 4.1974910394265175}, {\"hidden_os_units\": 1000, \"epoch\": 640, \"output_name\": \"sem\", \"acc\": 0.9917562724014337, \"sse\": 0.08642401288926042, \"csse\": 0.00455807074135287, \"wf\": 2.302250777631052, \"op\": 0.6477183013180391, \"img\": 4.197491039426521}, {\"hidden_os_units\": 1000, \"epoch\": 660, \"output_name\": \"pho\", \"acc\": 0.9989247311827957, \"sse\": 0.004499399097332506, \"csse\": 0.0012708628089522361, \"wf\": 2.3022507776310532, \"op\": 0.6477183013180396, \"img\": 4.1974910394265175}, {\"hidden_os_units\": 1000, \"epoch\": 660, \"output_name\": \"sem\", \"acc\": 0.9931899641577061, \"sse\": 0.08428268269618497, \"csse\": 0.0035246170694857343, \"wf\": 2.302250777631052, \"op\": 0.6477183013180391, \"img\": 4.197491039426521}, {\"hidden_os_units\": 1000, \"epoch\": 680, \"output_name\": \"pho\", \"acc\": 0.9989247311827957, \"sse\": 0.00593624358005669, \"csse\": 0.0019347217237756056, \"wf\": 2.3022507776310532, \"op\": 0.6477183013180396, \"img\": 4.1974910394265175}, {\"hidden_os_units\": 1000, \"epoch\": 680, \"output_name\": \"sem\", \"acc\": 0.9921146953405018, \"sse\": 0.08516843075699632, \"csse\": 0.0022121619873172165, \"wf\": 2.302250777631052, \"op\": 0.6477183013180391, \"img\": 4.197491039426521}, {\"hidden_os_units\": 1000, \"epoch\": 700, \"output_name\": \"pho\", \"acc\": 0.9989247311827957, \"sse\": 0.004667176262001508, \"csse\": 0.0010104304639529274, \"wf\": 2.3022507776310532, \"op\": 0.6477183013180396, \"img\": 4.1974910394265175}, {\"hidden_os_units\": 1000, \"epoch\": 700, \"output_name\": \"sem\", \"acc\": 0.9935483870967742, \"sse\": 0.0822111619187764, \"csse\": 0.0029713740130175147, \"wf\": 2.302250777631052, \"op\": 0.6477183013180391, \"img\": 4.197491039426521}, {\"hidden_os_units\": 1000, \"epoch\": 720, \"output_name\": \"pho\", \"acc\": 0.9985663082437276, \"sse\": 0.00483992217731448, \"csse\": 0.0011139641972742387, \"wf\": 2.3022507776310532, \"op\": 0.6477183013180396, \"img\": 4.1974910394265175}, {\"hidden_os_units\": 1000, \"epoch\": 720, \"output_name\": \"sem\", \"acc\": 0.9939068100358422, \"sse\": 0.08540832445887514, \"csse\": 0.0030521243892015298, \"wf\": 2.302250777631052, \"op\": 0.6477183013180391, \"img\": 4.197491039426521}, {\"hidden_os_units\": 1000, \"epoch\": 740, \"output_name\": \"pho\", \"acc\": 0.9985663082437276, \"sse\": 0.004305293667890477, \"csse\": 0.000650249590587675, \"wf\": 2.3022507776310532, \"op\": 0.6477183013180396, \"img\": 4.1974910394265175}, {\"hidden_os_units\": 1000, \"epoch\": 740, \"output_name\": \"sem\", \"acc\": 0.9935483870967742, \"sse\": 0.08163281015020481, \"csse\": 0.0015272071981191726, \"wf\": 2.302250777631052, \"op\": 0.6477183013180391, \"img\": 4.197491039426521}, {\"hidden_os_units\": 1000, \"epoch\": 760, \"output_name\": \"pho\", \"acc\": 0.9989247311827957, \"sse\": 0.004469550104998235, \"csse\": 0.00151890716291207, \"wf\": 2.3022507776310532, \"op\": 0.6477183013180396, \"img\": 4.1974910394265175}, {\"hidden_os_units\": 1000, \"epoch\": 760, \"output_name\": \"sem\", \"acc\": 0.9924731182795699, \"sse\": 0.08492488755326882, \"csse\": 0.0033018489032231877, \"wf\": 2.302250777631052, \"op\": 0.6477183013180391, \"img\": 4.197491039426521}, {\"hidden_os_units\": 1000, \"epoch\": 780, \"output_name\": \"pho\", \"acc\": 0.9985663082437276, \"sse\": 0.00404079323431044, \"csse\": 0.00035555370660942537, \"wf\": 2.3022507776310532, \"op\": 0.6477183013180396, \"img\": 4.1974910394265175}, {\"hidden_os_units\": 1000, \"epoch\": 780, \"output_name\": \"sem\", \"acc\": 0.9935483870967742, \"sse\": 0.08319839366073419, \"csse\": 0.0015381731797064527, \"wf\": 2.302250777631052, \"op\": 0.6477183013180391, \"img\": 4.197491039426521}, {\"hidden_os_units\": 1000, \"epoch\": 800, \"output_name\": \"pho\", \"acc\": 0.9989247311827957, \"sse\": 0.004780667793732981, \"csse\": 0.0008878721230417519, \"wf\": 2.3022507776310532, \"op\": 0.6477183013180396, \"img\": 4.1974910394265175}, {\"hidden_os_units\": 1000, \"epoch\": 800, \"output_name\": \"sem\", \"acc\": 0.9935483870967742, \"sse\": 0.0856839997817576, \"csse\": 0.0016658895418709084, \"wf\": 2.302250777631052, \"op\": 0.6477183013180391, \"img\": 4.197491039426521}]}}, {\"mode\": \"vega-lite\"});\n",
       "</script>"
      ],
      "text/plain": [
       "alt.Chart(...)"
      ]
     },
     "execution_count": 9,
     "metadata": {},
     "output_type": "execute_result"
    }
   ],
   "source": [
    "alt.Chart(mdf).mark_line().encode(\n",
    "    x='epoch:Q',\n",
    "    y='mean(acc):Q',\n",
    "    color='output_name:N',\n",
    "    column=poi_cfg_name\n",
    ")"
   ]
  },
  {
   "cell_type": "code",
   "execution_count": 10,
   "metadata": {},
   "outputs": [],
   "source": [
    "def get_beta(df: pd.DataFrame, output_name: str, code_name:str, epoch:int, metric:str) -> pd.DataFrame:\n",
    "    \"\"\"Run one GLM and get one row of beta\"\"\"\n",
    "\n",
    "    try:\n",
    "        sdf = df.loc[(df.epoch == epoch) & (df.code_name == code_name) & (df.output_name == output_name)]\n",
    "        poi_value = sdf[poi_cfg_name].unique()[0]\n",
    "\n",
    "        assert metric in ('acc', 'sse', 'csse')\n",
    "        sdf = sdf[['word', metric, 'op', 'wf', 'img']].dropna()\n",
    "\n",
    "        # Determine RHS by output_name\n",
    "        if output_name == 'pho':\n",
    "            rhs = \"zscore(op) * zscore(wf) + zscore(op) * zscore(img) + zscore(wf) * zscore(img) + 0\"\n",
    "        elif output_name == 'sem':\n",
    "            rhs = \"zscore(wf) * zscore(img) + 0\"\n",
    "        \n",
    "        # Determine LHS and link function by DV\n",
    "        if metric == 'acc':\n",
    "            m = smf.glm(formula=f\"acc ~ {rhs}\", family=sm.families.Binomial(), data=sdf).fit()\n",
    "        else:\n",
    "            m = smf.glm(formula=f\"zscore(csse) ~ {rhs}\", data=sdf).fit()\n",
    "\n",
    "        p = m.params\n",
    "        p['epoch'] = epoch\n",
    "        p['code_name'] = code_name\n",
    "        p[poi] = poi_value\n",
    "        p['metric'] = metric\n",
    "\n",
    "        return pd.DataFrame(p).T\n",
    "    except Exception:\n",
    "        return None"
   ]
  },
  {
   "cell_type": "code",
   "execution_count": 11,
   "metadata": {},
   "outputs": [],
   "source": [
    "\n",
    "def make_beta_df(df, func, output_name:str, acc_label:str):\n",
    "    \"\"\"Make a dataframe of all the betas in each code_name, epoch, and metric (acc, csse)\n",
    "    df: item level raw data dataframe\n",
    "    func: function to get the beta for each row (e.g., get_pho_beta, get_sem_beta)\n",
    "    acc_label: label for the acc column (mean accuracy at a given epoch)\n",
    "    \"\"\"\n",
    "    \n",
    "    epoch_acc_map = df.loc[df.output_name == output_name].groupby(['code_name', 'epoch']).mean().reset_index()[['code_name', 'epoch', 'acc']]\n",
    "    epoch_acc_map.columns = ['code_name', 'epoch', acc_label]\n",
    "\n",
    "    code_names = sorted(df.code_name.unique())\n",
    "    epochs = sorted(df.epoch.unique())\n",
    "    metrics = ['acc', 'csse']\n",
    "\n",
    "    # Do the job\n",
    "    beta_df = pd.concat([func(df, output_name, code_name, epoch, metric) for code_name in tqdm(code_names) for epoch in epochs for metric in metrics], ignore_index=True)\n",
    "\n",
    "    beta_df = beta_df.melt(id_vars=['code_name', 'epoch', poi, 'metric'], var_name='param', value_name='beta')\n",
    "    beta_df = pd.merge(beta_df, epoch_acc_map, on=['code_name', 'epoch'], how='left').dropna()\n",
    "\n",
    "    return beta_df\n"
   ]
  },
  {
   "cell_type": "code",
   "execution_count": 12,
   "metadata": {},
   "outputs": [
    {
     "name": "stderr",
     "output_type": "stream",
     "text": [
      "  0%|          | 0/3 [00:00<?, ?it/s]/usr/local/lib64/python3.6/site-packages/scipy/stats/stats.py:2419: RuntimeWarning: invalid value encountered in true_divide\n",
      "  return (a - mns) / sstd\n",
      " 33%|███▎      | 1/3 [00:04<00:08,  4.14s/it]/usr/local/lib64/python3.6/site-packages/scipy/stats/stats.py:2419: RuntimeWarning: invalid value encountered in true_divide\n",
      "  return (a - mns) / sstd\n",
      " 67%|██████▋   | 2/3 [00:08<00:04,  4.14s/it]/usr/local/lib64/python3.6/site-packages/scipy/stats/stats.py:2419: RuntimeWarning: invalid value encountered in true_divide\n",
      "  return (a - mns) / sstd\n",
      "100%|██████████| 3/3 [00:12<00:00,  4.14s/it]\n"
     ]
    }
   ],
   "source": [
    "pho_beta = make_beta_df(df, get_beta, 'pho', acc_label='pho_acc')"
   ]
  },
  {
   "cell_type": "code",
   "execution_count": 13,
   "metadata": {},
   "outputs": [],
   "source": [
    "pho_beta.to_csv(f\"models/{poi}/pho_beta.csv\")"
   ]
  },
  {
   "cell_type": "markdown",
   "metadata": {},
   "source": [
    "# Get SEM betas"
   ]
  },
  {
   "cell_type": "code",
   "execution_count": 14,
   "metadata": {},
   "outputs": [
    {
     "name": "stderr",
     "output_type": "stream",
     "text": [
      "  0%|          | 0/3 [00:00<?, ?it/s]/usr/local/lib64/python3.6/site-packages/scipy/stats/stats.py:2416: RuntimeWarning: Mean of empty slice.\n",
      "  mns = a.mean(axis=axis, keepdims=True)\n",
      "/usr/local/lib64/python3.6/site-packages/numpy/core/_methods.py:163: RuntimeWarning: invalid value encountered in true_divide\n",
      "  ret, rcount, out=ret, casting='unsafe', subok=False)\n",
      "/usr/local/lib64/python3.6/site-packages/numpy/core/_methods.py:234: RuntimeWarning: Degrees of freedom <= 0 for slice\n",
      "  keepdims=keepdims)\n",
      "/usr/local/lib64/python3.6/site-packages/numpy/core/_methods.py:195: RuntimeWarning: invalid value encountered in true_divide\n",
      "  arrmean, rcount, out=arrmean, casting='unsafe', subok=False)\n",
      "/usr/local/lib64/python3.6/site-packages/numpy/core/_methods.py:224: RuntimeWarning: invalid value encountered in true_divide\n",
      "  ret, rcount, out=ret, casting='unsafe', subok=False)\n",
      " 33%|███▎      | 1/3 [00:02<00:04,  2.42s/it]/usr/local/lib64/python3.6/site-packages/scipy/stats/stats.py:2416: RuntimeWarning: Mean of empty slice.\n",
      "  mns = a.mean(axis=axis, keepdims=True)\n",
      "/usr/local/lib64/python3.6/site-packages/numpy/core/_methods.py:163: RuntimeWarning: invalid value encountered in true_divide\n",
      "  ret, rcount, out=ret, casting='unsafe', subok=False)\n",
      "/usr/local/lib64/python3.6/site-packages/numpy/core/_methods.py:234: RuntimeWarning: Degrees of freedom <= 0 for slice\n",
      "  keepdims=keepdims)\n",
      "/usr/local/lib64/python3.6/site-packages/numpy/core/_methods.py:195: RuntimeWarning: invalid value encountered in true_divide\n",
      "  arrmean, rcount, out=arrmean, casting='unsafe', subok=False)\n",
      "/usr/local/lib64/python3.6/site-packages/numpy/core/_methods.py:224: RuntimeWarning: invalid value encountered in true_divide\n",
      "  ret, rcount, out=ret, casting='unsafe', subok=False)\n",
      " 67%|██████▋   | 2/3 [00:05<00:02,  2.50s/it]/usr/local/lib64/python3.6/site-packages/scipy/stats/stats.py:2416: RuntimeWarning: Mean of empty slice.\n",
      "  mns = a.mean(axis=axis, keepdims=True)\n",
      "/usr/local/lib64/python3.6/site-packages/numpy/core/_methods.py:163: RuntimeWarning: invalid value encountered in true_divide\n",
      "  ret, rcount, out=ret, casting='unsafe', subok=False)\n",
      "/usr/local/lib64/python3.6/site-packages/numpy/core/_methods.py:234: RuntimeWarning: Degrees of freedom <= 0 for slice\n",
      "  keepdims=keepdims)\n",
      "/usr/local/lib64/python3.6/site-packages/numpy/core/_methods.py:195: RuntimeWarning: invalid value encountered in true_divide\n",
      "  arrmean, rcount, out=arrmean, casting='unsafe', subok=False)\n",
      "/usr/local/lib64/python3.6/site-packages/numpy/core/_methods.py:224: RuntimeWarning: invalid value encountered in true_divide\n",
      "  ret, rcount, out=ret, casting='unsafe', subok=False)\n",
      "100%|██████████| 3/3 [00:07<00:00,  2.56s/it]\n"
     ]
    }
   ],
   "source": [
    "sem_beta = make_beta_df(df, get_beta, 'sem', acc_label='sem_acc')\n",
    "sem_beta.to_csv(f\"models/{poi}/sem_beta.csv\")"
   ]
  },
  {
   "cell_type": "markdown",
   "metadata": {},
   "source": [
    "# Exchange mean accuracy between PHO and SEM"
   ]
  },
  {
   "cell_type": "code",
   "execution_count": 15,
   "metadata": {},
   "outputs": [],
   "source": [
    "sem_beta = pd.read_csv(f\"models/{poi}/sem_beta.csv\", index_col=0)\n",
    "pho_beta = pd.read_csv(f\"models/{poi}/pho_beta.csv\", index_col=0)"
   ]
  },
  {
   "cell_type": "code",
   "execution_count": 16,
   "metadata": {},
   "outputs": [],
   "source": [
    "sem_acc_map = sem_beta.groupby(['code_name', 'epoch']).mean().reset_index()[['code_name', 'epoch', 'sem_acc']]\n",
    "pho_acc_map = pho_beta.groupby(['code_name', 'epoch']).mean().reset_index()[['code_name', 'epoch', 'pho_acc']]"
   ]
  },
  {
   "cell_type": "code",
   "execution_count": 17,
   "metadata": {},
   "outputs": [],
   "source": [
    "pho_beta = pho_beta.merge(sem_acc_map, on=['code_name', 'epoch'], how='left')\n",
    "sem_beta = sem_beta.merge(pho_acc_map, on=['code_name', 'epoch'], how='left')"
   ]
  },
  {
   "cell_type": "code",
   "execution_count": 18,
   "metadata": {},
   "outputs": [],
   "source": [
    "pho_beta.to_csv(f\"models/{poi}/pho_beta.csv\")\n",
    "sem_beta.to_csv(f\"models/{poi}/sem_beta.csv\")"
   ]
  },
  {
   "cell_type": "markdown",
   "metadata": {},
   "source": [
    "# Plotting"
   ]
  },
  {
   "cell_type": "code",
   "execution_count": 19,
   "metadata": {},
   "outputs": [],
   "source": [
    "def plot_beta(df, x:str, metric:str, additional_acc: str):\n",
    "    \"\"\"Plot beta and save developmental and performance space.\"\"\"\n",
    "    df = df.loc[(df.metric == metric) & (df.epoch >= 300)].copy()\n",
    "    df['epoch'] = df.epoch - 300\n",
    " \n",
    "    selection = alt.selection_multi(fields=['param'], bind='legend')\n",
    "\n",
    "    # Line of betas\n",
    "    b = alt.Chart().mark_line(point=True).encode(\n",
    "        x=f\"{x}:Q\",\n",
    "        y=\"beta:Q\",\n",
    "        color=\"param:N\",\n",
    "        opacity=alt.condition(selection, alt.value(1), alt.value(0.))\n",
    "    ).add_selection(selection)\n",
    "\n",
    "    # Line of additional accuracy\n",
    "    a = alt.Chart().mark_line(color='black').encode(\n",
    "        x=f\"{x}:Q\",\n",
    "        y=f\"mean({additional_acc}):Q\",\n",
    "    )\n",
    "    \n",
    "    # Color point to indicate 50 epoch \n",
    "    p = (\n",
    "        alt.Chart()\n",
    "        .transform_filter(alt.datum.epoch == 100)\n",
    "        .mark_rule(color='red')\n",
    "        .encode(x=f\"{x}:Q\")\n",
    "    )\n",
    "\n",
    "    # h-line for easier reference\n",
    "    l = alt.Chart().mark_rule().encode(y='zero:Q').transform_calculate(zero=\"0\")\n",
    "\n",
    "    return (\n",
    "        alt.layer(l, b, p, a, data=df)\n",
    "        .facet(column=f\"{poi}:O\")\n",
    "        .interactive()\n",
    "    ).properties(title=f\"{metric}_by_{x}. Red vertical line indicate epoch == 100\")\n"
   ]
  },
  {
   "cell_type": "markdown",
   "metadata": {},
   "source": [
    "## Plot PHO"
   ]
  },
  {
   "cell_type": "code",
   "execution_count": 20,
   "metadata": {},
   "outputs": [],
   "source": [
    "pho_beta = pd.read_csv(f\"models/{poi}/pho_beta.csv\", index_col=0)\n",
    "pho_beta = pho_beta.groupby(['epoch', poi, 'metric', 'param']).mean().reset_index()"
   ]
  },
  {
   "cell_type": "code",
   "execution_count": 21,
   "metadata": {},
   "outputs": [],
   "source": [
    "os.makedirs(f\"models/{poi}/plots\", exist_ok=True)"
   ]
  },
  {
   "cell_type": "code",
   "execution_count": 22,
   "metadata": {},
   "outputs": [],
   "source": [
    "plot_beta(pho_beta, x='epoch', metric='acc', additional_acc='sem_acc').save(f\"models/{poi}/plots/pho_beta_dev_acc.html\")\n",
    "plot_beta(pho_beta, x='epoch', metric='csse', additional_acc='sem_acc').save(f\"models/{poi}/plots/pho_beta_dev_csse.html\")\n",
    "plot_beta(pho_beta, x='pho_acc', metric='acc', additional_acc='sem_acc').save(f\"models/{poi}/plots/pho_beta_per_acc.html\")\n",
    "plot_beta(pho_beta, x='pho_acc', metric='csse', additional_acc='sem_acc').save(f\"models/{poi}/plots/pho_beta_per_csse.html\")"
   ]
  },
  {
   "cell_type": "markdown",
   "metadata": {},
   "source": [
    "## Plot SEM"
   ]
  },
  {
   "cell_type": "code",
   "execution_count": 23,
   "metadata": {},
   "outputs": [],
   "source": [
    "sem_beta = pd.read_csv(f\"models/{poi}/sem_beta.csv\", index_col=0)\n",
    "sem_beta = sem_beta.groupby(['epoch', poi, 'metric', 'param']).mean().reset_index()"
   ]
  },
  {
   "cell_type": "code",
   "execution_count": 24,
   "metadata": {},
   "outputs": [],
   "source": [
    "plot_beta(sem_beta, x='epoch', metric='acc', additional_acc='pho_acc').save(f\"models/{poi}/plots/sem_beta_dev_acc.html\")\n",
    "plot_beta(sem_beta, x='epoch', metric='csse', additional_acc='pho_acc').save(f\"models/{poi}/plots/sem_beta_dev_csse.html\")\n",
    "plot_beta(sem_beta, x='sem_acc', metric='acc', additional_acc='pho_acc').save(f\"models/{poi}/plots/sem_beta_per_acc.html\")\n",
    "plot_beta(sem_beta, x='sem_acc', metric='csse', additional_acc='pho_acc').save(f\"models/{poi}/plots/sem_beta_per_csse.html\")"
   ]
  }
 ],
 "metadata": {
  "interpreter": {
   "hash": "31f2aee4e71d21fbe5cf8b01ff0e069b9275f58929596ceb00d14d90e3e16cd6"
  },
  "kernelspec": {
   "display_name": "Python 3.6.8 64-bit",
   "name": "python3"
  },
  "language_info": {
   "codemirror_mode": {
    "name": "ipython",
    "version": 3
   },
   "file_extension": ".py",
   "mimetype": "text/x-python",
   "name": "python",
   "nbconvert_exporter": "python",
   "pygments_lexer": "ipython3",
   "version": "3.6.8"
  }
 },
 "nbformat": 4,
 "nbformat_minor": 2
}
